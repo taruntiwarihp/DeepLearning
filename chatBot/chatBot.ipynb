{
  "nbformat": 4,
  "nbformat_minor": 0,
  "metadata": {
    "colab": {
      "name": "chatBot.ipynb",
      "provenance": [],
      "collapsed_sections": []
    },
    "kernelspec": {
      "name": "python3",
      "display_name": "Python 3"
    }
  },
  "cells": [
    {
      "cell_type": "code",
      "metadata": {
        "id": "GMazbPvV8zU7"
      },
      "source": [
        "import torch\n",
        "import torch.nn as nn\n",
        "\n",
        "\n",
        "class NeuralNet(nn.Module):\n",
        "    def __init__(self, input_size, hidden_size, num_classes):\n",
        "        super(NeuralNet, self).__init__()\n",
        "        self.l1 = nn.Linear(input_size, hidden_size)\n",
        "        self.l2 = nn.Linear(hidden_size, hidden_size)\n",
        "        self.l3 = nn.Linear(hidden_size, num_classes)\n",
        "        self.relu = nn.ReLU()\n",
        "    \n",
        "    def forward(self, x):\n",
        "        out = self.l1(x)\n",
        "        out = self.relu(out)\n",
        "        out = self.l2(out)\n",
        "        out = self.relu(out)\n",
        "        out = self.l3(out)\n",
        "        # no activation and no softmax\n",
        "        return out\n"
      ],
      "execution_count": 7,
      "outputs": []
    },
    {
      "cell_type": "code",
      "metadata": {
        "colab": {
          "base_uri": "https://localhost:8080/"
        },
        "id": "lZWIhOgU8zSu",
        "outputId": "940845b7-3f9d-4153-fcf4-ef046302e1d2"
      },
      "source": [
        "import nltk\n",
        "import numpy as np\n",
        "nltk.download('punkt')\n",
        "from nltk.stem.porter import PorterStemmer\n",
        "stemmer = PorterStemmer()\n",
        "\n",
        "def tokenize(sentence):\n",
        "    return nltk.word_tokenize(sentence)\n",
        "\n",
        "def stem(word):\n",
        "    return stemmer.stem(word.lower())\n",
        "\n",
        "def bag_of_words(tokenized_sentence, all_words):\n",
        "    \"\"\"\n",
        "    sentence = [\"hello, \"how\", \"are\", \"you\"]\n",
        "    words = [\"hi\", \"hello\", \"I\", \"you\", \"bye\", \"thank\", \"cool\"]\n",
        "    bag =   [0,     1,       0,   1,    0,      0,       0 ]\n",
        "    \"\"\"\n",
        "    tokenized_sentence = [stem(w) for w in tokenized_sentence]\n",
        "    \n",
        "    bag = np.zeros(len(all_words), dtype = np.float32)\n",
        "    for idx, w in enumerate(all_words):\n",
        "        if w in tokenized_sentence:\n",
        "            bag[idx] = 1.0\n",
        "    return bag\n"
      ],
      "execution_count": 8,
      "outputs": [
        {
          "output_type": "stream",
          "text": [
            "[nltk_data] Downloading package punkt to /root/nltk_data...\n",
            "[nltk_data]   Package punkt is already up-to-date!\n"
          ],
          "name": "stdout"
        }
      ]
    },
    {
      "cell_type": "code",
      "metadata": {
        "colab": {
          "base_uri": "https://localhost:8080/"
        },
        "id": "G2Z2bOnz8zQM",
        "outputId": "75f1993c-95fb-41ef-8121-6a82bf866a8d"
      },
      "source": [
        "import json\n",
        "# from nltk_utils import tokenize, stem, bag_of_words\n",
        "import numpy as np\n",
        "\n",
        "import torch\n",
        "import torch.nn as nn\n",
        "from torch.utils.data import Dataset, DataLoader\n",
        "\n",
        "# from model import NeuralNet\n",
        "\n",
        "with open('intents.json', 'r') as f:\n",
        "    intents = json.load(f)\n",
        "\n",
        "# print(intents)\n",
        "\n",
        "all_words = []\n",
        "tags = []\n",
        "xy = []\n",
        "for intent in intents['intents']:\n",
        "    tag = intent['tag']\n",
        "    tags.append(tag)\n",
        "    for pattern in intent['patterns']:\n",
        "        w = tokenize(pattern)\n",
        "        all_words.extend(w)\n",
        "        xy.append((w, tag))\n",
        "\n",
        "ignore_words = ['?','!','.',',']\n",
        "all_words = [stem(w) for w in all_words if w not in ignore_words]\n",
        "all_words = sorted(set(all_words))\n",
        "tags  = sorted(set(tags))\n",
        "\n",
        "X_train  = []\n",
        "y_train = []\n",
        "for (pattern_sentence, tag) in xy:\n",
        "    bag = bag_of_words(pattern_sentence, all_words)\n",
        "    X_train.append(bag)\n",
        "    \n",
        "    label = tags.index(tag)\n",
        "    y_train.append(label) # CrossEntropyLoss\n",
        "\n",
        "X_train = np.array(X_train)\n",
        "y_train = np.array(y_train)\n",
        "\n",
        "class ChatDataset(Dataset):\n",
        "    def __init__(self):\n",
        "        self.n_samples = len(X_train)\n",
        "        self.x_data = X_train\n",
        "        self.y_data = y_train\n",
        "        \n",
        "    # dataset[idx]\n",
        "    def __getitem__(self, index):\n",
        "        return self.x_data[index], self.y_data[index]\n",
        "\n",
        "    def __len__(self):\n",
        "        return self.n_samples\n",
        "\n",
        "# Hyper paramters\n",
        "batch_size = 8\n",
        "hidden_size = 8\n",
        "output_size = len(tags)\n",
        "input_size = len(X_train[0])\n",
        "learning_rate = 0.001\n",
        "num_epochs = 1000\n",
        "\n",
        "\n",
        "dataset = ChatDataset()\n",
        "train_loader = DataLoader(dataset = dataset, batch_size = batch_size,\n",
        "                        shuffle =True, num_workers=2)\n",
        "\n",
        "device  = torch.device('cuda' if torch.cuda.is_available() else 'cpu')\n",
        "\n",
        "model = NeuralNet(input_size, hidden_size, output_size)\n",
        "\n",
        "# loss and optimizer\n",
        "criterion = nn.CrossEntropyLoss()\n",
        "optimizer = torch.optim.Adam(model.parameters(), lr = learning_rate)\n",
        "\n",
        "for epoch in range(num_epochs):\n",
        "    for (words, labels) in train_loader:\n",
        "        words = words.to(device)\n",
        "        labels = labels.to(device)\n",
        "\n",
        "        # Forward\n",
        "        outputs = model(words)\n",
        "        loss = criterion(outputs, labels)\n",
        "\n",
        "        # backward and optimizer step\n",
        "        optimizer.zero_grad()\n",
        "        loss.backward()\n",
        "        optimizer.step()\n",
        "\n",
        "    if (epoch +1) % 100 == 0:\n",
        "        # f'epoch {epoch+1}/{num_epochs}, loss={loss.item():.4f}'\n",
        "        print(\"epoch {}/{}, loss={:.4f}.\".format(epoch+1,num_epochs,loss.item()))\n",
        "\n",
        "# print(f'Final loss, loss={loss.item():.4f}')\n",
        "print(\"Final Loss, loss{:.4f}\".format(loss.item()))"
      ],
      "execution_count": 9,
      "outputs": [
        {
          "output_type": "stream",
          "text": [
            "epoch 100/1000, loss=1.0966.\n",
            "epoch 200/1000, loss=0.1166.\n",
            "epoch 300/1000, loss=0.0237.\n",
            "epoch 400/1000, loss=0.0152.\n",
            "epoch 500/1000, loss=0.0134.\n",
            "epoch 600/1000, loss=0.0023.\n",
            "epoch 700/1000, loss=0.0010.\n",
            "epoch 800/1000, loss=0.0010.\n",
            "epoch 900/1000, loss=0.0015.\n",
            "epoch 1000/1000, loss=0.0013.\n",
            "Final Loss, loss0.0013\n"
          ],
          "name": "stdout"
        }
      ]
    },
    {
      "cell_type": "code",
      "metadata": {
        "colab": {
          "base_uri": "https://localhost:8080/"
        },
        "id": "P0gBvotx8zNe",
        "outputId": "315bf43f-7e78-402c-92d0-02a29244f1c9"
      },
      "source": [
        "data = {\n",
        "    \"model_state\":model.state_dict(),\n",
        "    \"input_size\":input_size,\n",
        "    \"output_size\":output_size,\n",
        "    \"hiddent_size\": hidden_size,\n",
        "    \"all_words\":all_words,\n",
        "    \"tags\": tags\n",
        "}\n",
        "FILE = \"data.pth\"\n",
        "torch.save(data, FILE)\n",
        "\n",
        "print(\"Traning complete. file saved to\",FILE)"
      ],
      "execution_count": 10,
      "outputs": [
        {
          "output_type": "stream",
          "text": [
            "Traning complete. file saved to data.pth\n"
          ],
          "name": "stdout"
        }
      ]
    },
    {
      "cell_type": "code",
      "metadata": {
        "colab": {
          "base_uri": "https://localhost:8080/"
        },
        "id": "fEnOFOE88zK8",
        "outputId": "34e86c00-26ef-48c7-b0c7-cac883a2cc95"
      },
      "source": [
        "import random\n",
        "import json\n",
        "import torch \n",
        "\n",
        "device  = torch.device('cuda' if torch.cuda.is_available() else 'cpu')\n",
        "print(device)\n",
        "\n",
        "with open('intents.json','r') as f:\n",
        "  intents = json.load(f)\n",
        "\n",
        "FILE = \"data.pth\"\n",
        "data = torch.load(FILE)\n",
        "\n",
        "input_size = data['input_size']\n",
        "hidden_size = data['hiddent_size']\n",
        "output_size = data['output_size']\n",
        "all_words = data['all_words']\n",
        "tags = data['tags']\n",
        "model_state = data['model_state']\n",
        "\n",
        "model = NeuralNet(input_size, hidden_size, output_size).to(device)\n",
        "model.load_state_dict(model_state)\n",
        "model.eval()"
      ],
      "execution_count": 11,
      "outputs": [
        {
          "output_type": "stream",
          "text": [
            "cpu\n"
          ],
          "name": "stdout"
        },
        {
          "output_type": "execute_result",
          "data": {
            "text/plain": [
              "NeuralNet(\n",
              "  (l1): Linear(in_features=68, out_features=8, bias=True)\n",
              "  (l2): Linear(in_features=8, out_features=8, bias=True)\n",
              "  (l3): Linear(in_features=8, out_features=9, bias=True)\n",
              "  (relu): ReLU()\n",
              ")"
            ]
          },
          "metadata": {
            "tags": []
          },
          "execution_count": 11
        }
      ]
    },
    {
      "cell_type": "code",
      "metadata": {
        "colab": {
          "base_uri": "https://localhost:8080/"
        },
        "id": "j3yL9WOJ8zE6",
        "outputId": "5a967584-71bc-4df6-a091-01ec18afc202"
      },
      "source": [
        "bot_name = \"Taru\"\n",
        "print(\"Let's Chat! Type 'quit' to exit\")\n",
        "\n",
        "while True:\n",
        "  sentence = input('You: ')\n",
        "  if sentence =='quit':\n",
        "    break\n",
        "  \n",
        "  sentence = tokenize(sentence)\n",
        "  X = bag_of_words(sentence, all_words)\n",
        "  X = X.reshape(1, X.shape[0])\n",
        "  X = torch.from_numpy(X)\n",
        "\n",
        "  output = model(X)\n",
        "  _, predicted = torch.max(output, dim=1)\n",
        "  tag = tags[predicted.item()]\n",
        "\n",
        "  probs = torch.softmax(output, dim=1)\n",
        "  prob = probs[0][predicted.item()]\n",
        "\n",
        "\n",
        "  if prob.item() >0.75:\n",
        "    for intent in intents[\"intents\"]:\n",
        "      if tag == intent[\"tag\"]:\n",
        "        print(bot_name, \":\",random.choice(intent['responses']))\n",
        "        # print(\"{}:{}\".format(bot_name,random.choice(intent['responses'])))\n",
        "      \n",
        "  else:\n",
        "    print(\"{} I do not understand...\".format(bot_name))"
      ],
      "execution_count": null,
      "outputs": [
        {
          "output_type": "stream",
          "text": [
            "Let's Chat! Type 'quit' to exit\n",
            "You: Hi\n",
            "Taru : Hi there, what can I do for you?\n",
            "You: thanks\n",
            "Taru : My Pleasure\n",
            "You: time\n",
            "Taru : Bye! Come back again soon.\n",
            "You: delivery time\n",
            "TaruI do not understand...\n",
            "You: are you accept cash\n",
            "Taru : We accept most major Credit cards, Master Card, Paypal, American Express and Discover.\n",
            "You: who are you\n",
            "Taru : Hi there, how can I help?\n",
            "You: name\n",
            "TaruI do not understand...\n",
            "You: what is your name\n",
            "Taru : You can call me Tarun.\n",
            "You: thanks \n",
            "Taru : Happy to help!\n",
            "You: what you sell\n",
            "TaruI do not understand...\n",
            "You: what do you sell\n",
            "Taru : We sell Cake, Flowers, Gifts and delivery across 2500+ cities in India!\n",
            "You: i want to buy cake\n",
            "Taru : We sell Cake, Flowers, Gifts and delivery across 2500+ cities in India!\n"
          ],
          "name": "stdout"
        }
      ]
    },
    {
      "cell_type": "code",
      "metadata": {
        "id": "-ylnE2ohute_"
      },
      "source": [
        ""
      ],
      "execution_count": null,
      "outputs": []
    }
  ]
}