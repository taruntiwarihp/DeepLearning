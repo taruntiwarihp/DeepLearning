{
 "cells": [
  {
   "cell_type": "markdown",
   "metadata": {
    "papermill": {
     "duration": 0.027716,
     "end_time": "2021-01-03T16:55:06.123466",
     "exception": false,
     "start_time": "2021-01-03T16:55:06.095750",
     "status": "completed"
    },
    "tags": []
   },
   "source": [
    "### Convolutional Neural Networks\n",
    "   \n",
    "   Convolutional Neural Networks is the standard form of neural network architecture for solving tasks associated with images. Solutions for tasks such as object detection, face detection, pose estimation and more all have CNN architecture variants.\n",
    "\n",
    "   A few characteristics of the CNN architecture makes them more favourable in several computer vision tasks. I have written previous articles that dive into each characteristic.\n",
    "\n",
    "* Local Receptive Fields\n",
    "* Sub-Sampling\n",
    "* Weight Sharing\n",
    "\n",
    "### LeNet-5\n",
    "\n",
    "   LeNet-5 CNN architecture is made up of 7 layers. The layer composition consists of 3 convolutional layers, 2 subsampling layers and 2 fully connected layers\n",
    "\n",
    "<img src='https://github.com/taruntiwarihp/raw_images/blob/master/1_ueA-rooOaiIo3s2rVVz3Ww.png?raw=true'>\n",
    "\n",
    "   The diagram above shows a depiction of the LeNet-5 architecture, as illustrated in the [original paper](http://vision.stanford.edu/cs598_spring07/papers/Lecun98.pdf).\n",
    "    \n",
    "   The first layer is the input layer — this is generally not considered a layer of the network as nothing is learnt in this layer. The input layer is built to take in 32x32, and these are the dimensions of images that are passed into the next layer. Those who are familiar with the MNIST dataset will be aware that the MNIST dataset images have the dimensions 28x28. To get the MNIST images dimension to the meet the requirements of the input layer, the 28x28 images are padded.\n",
    "\n",
    "   The grayscale images used in the research paper had their pixel values normalized from 0 to 255, to values between -0.1 and 1.175. The reason for normalization is to ensure that the batch of images have a mean of 0 and a standard deviation of 1, the benefits of this is seen in the reduction in the amount of training time. In the image classification with LeNet-5 example below, we’ll be normalizing the pixel values of the images to take on values between 0 to 1.\n",
    "**The LeNet-5 architecture utilizes two significant types of layer construct: convolutional layers and subsampling layers.**\n",
    "\n",
    "* Convolutional layers\n",
    "* Sub-sampling layers\n",
    "   \n",
    " Within the research paper and the image below, convolutional layers are identified with the ‘Cx’, and subsampling layers are identified with ‘Sx’, where ‘x’ is the sequential position of the layer within the architecture. ‘Fx’ is used to identify fully connected layers. This method of layer identification can be seen in the image above.\n",
    "\n",
    "   The official first layer convolutional layer C1 produces as output 6 feature maps, and has a kernel size of 5x5. The kernel/filter is the name given to the window that contains the weight values that are utilized during the convolution of the weight values with the input values. 5x5 is also indicative of the local receptive field size each unit or neuron within a convolutional layer. The dimensions of the six feature maps the first convolution layer produces are 28x28.\n",
    "   A subsampling layer ‘S2’ follows the ‘C1’ layer’. The ‘S2’ layer halves the dimension of the feature maps it receives from the previous layer; this is known commonly as downsampling.\n",
    "   The ‘S2’ layer also produces 6 feature maps, each one corresponding to the feature maps passed as input from the previous layer. This link contains more information on subsampling layers."
   ]
  },
  {
   "cell_type": "markdown",
   "metadata": {
    "papermill": {
     "duration": 0.026514,
     "end_time": "2021-01-03T16:55:06.177147",
     "exception": false,
     "start_time": "2021-01-03T16:55:06.150633",
     "status": "completed"
    },
    "tags": []
   },
   "source": [
    "### Outline \n",
    "* Downloading datasets (CIFAR10)\n",
    "* Dataloader in torch.utils\n",
    "* Visualising images\n",
    "* Single and multiple convolutional layers\n",
    "* LeNet\n",
    "* Training LeNet\n",
    "* Simple Visualisation\n"
   ]
  },
  {
   "cell_type": "code",
   "execution_count": 1,
   "metadata": {
    "_cell_guid": "79c7e3d0-c299-4dcb-8224-4455121ee9b0",
    "_uuid": "d629ff2d2480ee46fbb7e2d37f6b5fab8052498a",
    "execution": {
     "iopub.execute_input": "2021-01-03T16:55:06.236782Z",
     "iopub.status.busy": "2021-01-03T16:55:06.236235Z",
     "iopub.status.idle": "2021-01-03T16:55:07.609185Z",
     "shell.execute_reply": "2021-01-03T16:55:07.608041Z"
    },
    "papermill": {
     "duration": 1.405604,
     "end_time": "2021-01-03T16:55:07.609316",
     "exception": false,
     "start_time": "2021-01-03T16:55:06.203712",
     "status": "completed"
    },
    "tags": []
   },
   "outputs": [],
   "source": [
    "import torch\n",
    "import matplotlib.pyplot as plt\n",
    "import numpy as np"
   ]
  },
  {
   "cell_type": "markdown",
   "metadata": {
    "papermill": {
     "duration": 0.026343,
     "end_time": "2021-01-03T16:55:07.662959",
     "exception": false,
     "start_time": "2021-01-03T16:55:07.636616",
     "status": "completed"
    },
    "tags": []
   },
   "source": [
    "### Data Loading\n"
   ]
  },
  {
   "cell_type": "markdown",
   "metadata": {
    "papermill": {
     "duration": 0.027056,
     "end_time": "2021-01-03T16:55:07.717157",
     "exception": false,
     "start_time": "2021-01-03T16:55:07.690101",
     "status": "completed"
    },
    "tags": []
   },
   "source": [
    "* Datasets Detail site [link](https://www.cs.toronto.edu/~kriz/cifar.html)"
   ]
  },
  {
   "cell_type": "code",
   "execution_count": 2,
   "metadata": {
    "execution": {
     "iopub.execute_input": "2021-01-03T16:55:07.809783Z",
     "iopub.status.busy": "2021-01-03T16:55:07.808620Z",
     "iopub.status.idle": "2021-01-03T16:55:17.038617Z",
     "shell.execute_reply": "2021-01-03T16:55:17.037385Z"
    },
    "papermill": {
     "duration": 9.284356,
     "end_time": "2021-01-03T16:55:17.038752",
     "exception": false,
     "start_time": "2021-01-03T16:55:07.754396",
     "status": "completed"
    },
    "tags": []
   },
   "outputs": [
    {
     "name": "stdout",
     "output_type": "stream",
     "text": [
      "Downloading https://www.cs.toronto.edu/~kriz/cifar-10-python.tar.gz to ./data/cifar-10-python.tar.gz\n"
     ]
    },
    {
     "data": {
      "application/vnd.jupyter.widget-view+json": {
       "model_id": "3e0e348b812a40a6ae55756eaf04beca",
       "version_major": 2,
       "version_minor": 0
      },
      "text/plain": [
       "HBox(children=(FloatProgress(value=1.0, bar_style='info', max=1.0), HTML(value='')))"
      ]
     },
     "metadata": {},
     "output_type": "display_data"
    },
    {
     "name": "stdout",
     "output_type": "stream",
     "text": [
      "Extracting ./data/cifar-10-python.tar.gz to ./data\n"
     ]
    }
   ],
   "source": [
    "import torchvision\n",
    "import torchvision.transforms as transforms\n",
    "trainset = torchvision.datasets.CIFAR10(root='./data', train=True,\n",
    "                                       download=True,\n",
    "                                       transform=transforms.ToTensor())"
   ]
  },
  {
   "cell_type": "code",
   "execution_count": 3,
   "metadata": {
    "execution": {
     "iopub.execute_input": "2021-01-03T16:55:17.135717Z",
     "iopub.status.busy": "2021-01-03T16:55:17.133866Z",
     "iopub.status.idle": "2021-01-03T16:55:17.136335Z",
     "shell.execute_reply": "2021-01-03T16:55:17.136820Z"
    },
    "papermill": {
     "duration": 0.036828,
     "end_time": "2021-01-03T16:55:17.136931",
     "exception": false,
     "start_time": "2021-01-03T16:55:17.100103",
     "status": "completed"
    },
    "tags": []
   },
   "outputs": [],
   "source": [
    "classes = ('plane', 'car', 'bird', 'cat', 'deer', 'dog', 'frog', 'horse', 'ship', 'truck')"
   ]
  },
  {
   "cell_type": "code",
   "execution_count": 4,
   "metadata": {
    "execution": {
     "iopub.execute_input": "2021-01-03T16:55:17.199615Z",
     "iopub.status.busy": "2021-01-03T16:55:17.198270Z",
     "iopub.status.idle": "2021-01-03T16:55:17.201120Z",
     "shell.execute_reply": "2021-01-03T16:55:17.201525Z"
    },
    "papermill": {
     "duration": 0.036156,
     "end_time": "2021-01-03T16:55:17.201640",
     "exception": false,
     "start_time": "2021-01-03T16:55:17.165484",
     "status": "completed"
    },
    "tags": []
   },
   "outputs": [],
   "source": [
    "trainloader = torch.utils.data.DataLoader(trainset, batch_size=4, shuffle=True)"
   ]
  },
  {
   "cell_type": "code",
   "execution_count": 5,
   "metadata": {
    "execution": {
     "iopub.execute_input": "2021-01-03T16:55:17.265331Z",
     "iopub.status.busy": "2021-01-03T16:55:17.264735Z",
     "iopub.status.idle": "2021-01-03T16:55:17.314472Z",
     "shell.execute_reply": "2021-01-03T16:55:17.315099Z"
    },
    "papermill": {
     "duration": 0.084728,
     "end_time": "2021-01-03T16:55:17.315231",
     "exception": false,
     "start_time": "2021-01-03T16:55:17.230503",
     "status": "completed"
    },
    "tags": []
   },
   "outputs": [
    {
     "name": "stdout",
     "output_type": "stream",
     "text": [
      "torch.Size([4, 3, 32, 32])\n",
      "torch.Size([3, 32, 32])\n",
      "1\n"
     ]
    }
   ],
   "source": [
    "dataiter = iter(trainloader)\n",
    "images, labels = dataiter.next()\n",
    "\n",
    "print(images.shape)\n",
    "\n",
    "print(images[1].shape)\n",
    "print(labels[1].item())"
   ]
  },
  {
   "cell_type": "markdown",
   "metadata": {
    "papermill": {
     "duration": 0.028872,
     "end_time": "2021-01-03T16:55:17.373809",
     "exception": false,
     "start_time": "2021-01-03T16:55:17.344937",
     "status": "completed"
    },
    "tags": []
   },
   "source": [
    "### Visualise Data"
   ]
  },
  {
   "cell_type": "code",
   "execution_count": 6,
   "metadata": {
    "execution": {
     "iopub.execute_input": "2021-01-03T16:55:17.436684Z",
     "iopub.status.busy": "2021-01-03T16:55:17.436019Z",
     "iopub.status.idle": "2021-01-03T16:55:17.440591Z",
     "shell.execute_reply": "2021-01-03T16:55:17.440088Z"
    },
    "papermill": {
     "duration": 0.037928,
     "end_time": "2021-01-03T16:55:17.440703",
     "exception": false,
     "start_time": "2021-01-03T16:55:17.402775",
     "status": "completed"
    },
    "tags": []
   },
   "outputs": [
    {
     "name": "stdout",
     "output_type": "stream",
     "text": [
      "<class 'torch.Tensor'>\n"
     ]
    }
   ],
   "source": [
    "img = images[1]\n",
    "print(type(img))"
   ]
  },
  {
   "cell_type": "code",
   "execution_count": 7,
   "metadata": {
    "execution": {
     "iopub.execute_input": "2021-01-03T16:55:17.507261Z",
     "iopub.status.busy": "2021-01-03T16:55:17.506669Z",
     "iopub.status.idle": "2021-01-03T16:55:17.511431Z",
     "shell.execute_reply": "2021-01-03T16:55:17.510974Z"
    },
    "papermill": {
     "duration": 0.038445,
     "end_time": "2021-01-03T16:55:17.511509",
     "exception": false,
     "start_time": "2021-01-03T16:55:17.473064",
     "status": "completed"
    },
    "tags": []
   },
   "outputs": [
    {
     "name": "stdout",
     "output_type": "stream",
     "text": [
      "(3, 32, 32)\n"
     ]
    }
   ],
   "source": [
    "npimg = img.numpy()\n",
    "print(npimg.shape)"
   ]
  },
  {
   "cell_type": "code",
   "execution_count": 8,
   "metadata": {
    "execution": {
     "iopub.execute_input": "2021-01-03T16:55:17.576173Z",
     "iopub.status.busy": "2021-01-03T16:55:17.575269Z",
     "iopub.status.idle": "2021-01-03T16:55:17.585155Z",
     "shell.execute_reply": "2021-01-03T16:55:17.585554Z"
    },
    "papermill": {
     "duration": 0.044357,
     "end_time": "2021-01-03T16:55:17.585658",
     "exception": false,
     "start_time": "2021-01-03T16:55:17.541301",
     "status": "completed"
    },
    "tags": []
   },
   "outputs": [
    {
     "name": "stdout",
     "output_type": "stream",
     "text": [
      "\n",
      "(32, 32, 3)\n"
     ]
    }
   ],
   "source": [
    "npimg = np.transpose(npimg, (1, 2, 0))\n",
    "print(npimg.shape)"
   ]
  },
  {
   "cell_type": "code",
   "execution_count": 9,
   "metadata": {
    "execution": {
     "iopub.execute_input": "2021-01-03T16:55:17.650333Z",
     "iopub.status.busy": "2021-01-03T16:55:17.649782Z",
     "iopub.status.idle": "2021-01-03T16:55:17.771908Z",
     "shell.execute_reply": "2021-01-03T16:55:17.772410Z"
    },
    "papermill": {
     "duration": 0.157673,
     "end_time": "2021-01-03T16:55:17.772551",
     "exception": false,
     "start_time": "2021-01-03T16:55:17.614878",
     "status": "completed"
    },
    "tags": []
   },
   "outputs": [
    {
     "data": {
      "image/png": "[encoded data removed]",
      "text/plain": [
       "<Figure size 72x72 with 1 Axes>"
      ]
     },
     "metadata": {
      "needs_background": "light"
     },
     "output_type": "display_data"
    }
   ],
   "source": [
    "plt.figure(figsize = (1, 1))\n",
    "plt.imshow(npimg)\n",
    "plt.show()"
   ]
  },
  {
   "cell_type": "code",
   "execution_count": 10,
   "metadata": {
    "execution": {
     "iopub.execute_input": "2021-01-03T16:55:17.840356Z",
     "iopub.status.busy": "2021-01-03T16:55:17.839816Z",
     "iopub.status.idle": "2021-01-03T16:55:17.843853Z",
     "shell.execute_reply": "2021-01-03T16:55:17.843409Z"
    },
    "papermill": {
     "duration": 0.039064,
     "end_time": "2021-01-03T16:55:17.843944",
     "exception": false,
     "start_time": "2021-01-03T16:55:17.804880",
     "status": "completed"
    },
    "tags": []
   },
   "outputs": [],
   "source": [
    "def imshow(img):\n",
    "    npimg = img.numpy()\n",
    "    plt.imshow(np.transpose(npimg, (1, 2, 0)))\n",
    "    plt.show()"
   ]
  },
  {
   "cell_type": "code",
   "execution_count": 11,
   "metadata": {
    "execution": {
     "iopub.execute_input": "2021-01-03T16:55:17.910462Z",
     "iopub.status.busy": "2021-01-03T16:55:17.909952Z",
     "iopub.status.idle": "2021-01-03T16:55:18.051071Z",
     "shell.execute_reply": "2021-01-03T16:55:18.050483Z"
    },
    "papermill": {
     "duration": 0.176888,
     "end_time": "2021-01-03T16:55:18.051175",
     "exception": false,
     "start_time": "2021-01-03T16:55:17.874287",
     "status": "completed"
    },
    "tags": []
   },
   "outputs": [
    {
     "data": {
      "image/png": "[encoded data removed]",
      "text/plain": [
       "<Figure size 432x288 with 1 Axes>"
      ]
     },
     "metadata": {
      "needs_background": "light"
     },
     "output_type": "display_data"
    },
    {
     "name": "stdout",
     "output_type": "stream",
     "text": [
      "deer car ship bird\n"
     ]
    }
   ],
   "source": [
    "imshow(torchvision.utils.make_grid(images))\n",
    "print(' '.join(classes[labels[j]] for j in range(4)))"
   ]
  },
  {
   "cell_type": "markdown",
   "metadata": {
    "papermill": {
     "duration": 0.032278,
     "end_time": "2021-01-03T16:55:18.116167",
     "exception": false,
     "start_time": "2021-01-03T16:55:18.083889",
     "status": "completed"
    },
    "tags": []
   },
   "source": [
    "### Single Convolutional Layer"
   ]
  },
  {
   "cell_type": "code",
   "execution_count": 12,
   "metadata": {
    "execution": {
     "iopub.execute_input": "2021-01-03T16:55:18.187827Z",
     "iopub.status.busy": "2021-01-03T16:55:18.187243Z",
     "iopub.status.idle": "2021-01-03T16:55:18.190989Z",
     "shell.execute_reply": "2021-01-03T16:55:18.190548Z"
    },
    "papermill": {
     "duration": 0.04226,
     "end_time": "2021-01-03T16:55:18.191071",
     "exception": false,
     "start_time": "2021-01-03T16:55:18.148811",
     "status": "completed"
    },
    "tags": []
   },
   "outputs": [],
   "source": [
    "import torch.nn as nn\n",
    "\n",
    "class FirstCNN(nn.Module):\n",
    "    def __init__(self):\n",
    "        super(FirstCNN, self).__init__()\n",
    "        self.conv1 = nn.Conv2d(3, 16, 3, padding=(1, 1), stride=(2, 2))# padding =(1,1), stride=(2, 2)\n",
    "    \n",
    "    def forward(self, x):\n",
    "        x = self.conv1(x)\n",
    "        return x"
   ]
  },
  {
   "cell_type": "code",
   "execution_count": 13,
   "metadata": {
    "execution": {
     "iopub.execute_input": "2021-01-03T16:55:18.263673Z",
     "iopub.status.busy": "2021-01-03T16:55:18.263067Z",
     "iopub.status.idle": "2021-01-03T16:55:18.266283Z",
     "shell.execute_reply": "2021-01-03T16:55:18.265881Z"
    },
    "papermill": {
     "duration": 0.042842,
     "end_time": "2021-01-03T16:55:18.266366",
     "exception": false,
     "start_time": "2021-01-03T16:55:18.223524",
     "status": "completed"
    },
    "tags": []
   },
   "outputs": [],
   "source": [
    "net = FirstCNN()"
   ]
  },
  {
   "cell_type": "code",
   "execution_count": 14,
   "metadata": {
    "execution": {
     "iopub.execute_input": "2021-01-03T16:55:18.336505Z",
     "iopub.status.busy": "2021-01-03T16:55:18.335900Z",
     "iopub.status.idle": "2021-01-03T16:55:18.367022Z",
     "shell.execute_reply": "2021-01-03T16:55:18.367467Z"
    },
    "papermill": {
     "duration": 0.068837,
     "end_time": "2021-01-03T16:55:18.367607",
     "exception": false,
     "start_time": "2021-01-03T16:55:18.298770",
     "status": "completed"
    },
    "tags": []
   },
   "outputs": [
    {
     "data": {
      "text/plain": [
       "torch.Size([4, 16, 16, 16])"
      ]
     },
     "execution_count": 14,
     "metadata": {},
     "output_type": "execute_result"
    }
   ],
   "source": [
    "out = net(images)\n",
    "out.shape"
   ]
  },
  {
   "cell_type": "code",
   "execution_count": 15,
   "metadata": {
    "execution": {
     "iopub.execute_input": "2021-01-03T16:55:18.437824Z",
     "iopub.status.busy": "2021-01-03T16:55:18.437136Z",
     "iopub.status.idle": "2021-01-03T16:55:18.441392Z",
     "shell.execute_reply": "2021-01-03T16:55:18.442015Z"
    },
    "papermill": {
     "duration": 0.041739,
     "end_time": "2021-01-03T16:55:18.442146",
     "exception": false,
     "start_time": "2021-01-03T16:55:18.400407",
     "status": "completed"
    },
    "tags": []
   },
   "outputs": [
    {
     "name": "stdout",
     "output_type": "stream",
     "text": [
      "torch.Size([16, 3, 3, 3])\n",
      "torch.Size([16])\n"
     ]
    }
   ],
   "source": [
    "for param in net.parameters():\n",
    "    print(param.shape)"
   ]
  },
  {
   "cell_type": "code",
   "execution_count": 16,
   "metadata": {
    "execution": {
     "iopub.execute_input": "2021-01-03T16:55:18.513093Z",
     "iopub.status.busy": "2021-01-03T16:55:18.512468Z",
     "iopub.status.idle": "2021-01-03T16:55:18.516513Z",
     "shell.execute_reply": "2021-01-03T16:55:18.517197Z"
    },
    "papermill": {
     "duration": 0.041617,
     "end_time": "2021-01-03T16:55:18.517330",
     "exception": false,
     "start_time": "2021-01-03T16:55:18.475713",
     "status": "completed"
    },
    "tags": []
   },
   "outputs": [
    {
     "name": "stdout",
     "output_type": "stream",
     "text": [
      "(16, 16)\n"
     ]
    }
   ],
   "source": [
    "out1 = out[0, 0, :, :].detach().numpy()\n",
    "print(out1.shape)"
   ]
  },
  {
   "cell_type": "code",
   "execution_count": 17,
   "metadata": {
    "execution": {
     "iopub.execute_input": "2021-01-03T16:55:18.595627Z",
     "iopub.status.busy": "2021-01-03T16:55:18.594815Z",
     "iopub.status.idle": "2021-01-03T16:55:18.724254Z",
     "shell.execute_reply": "2021-01-03T16:55:18.723786Z"
    },
    "papermill": {
     "duration": 0.172166,
     "end_time": "2021-01-03T16:55:18.724349",
     "exception": false,
     "start_time": "2021-01-03T16:55:18.552183",
     "status": "completed"
    },
    "tags": []
   },
   "outputs": [
    {
     "data": {
      "image/png": "[encoded data removed]",
      "text/plain": [
       "<Figure size 432x288 with 1 Axes>"
      ]
     },
     "metadata": {
      "needs_background": "light"
     },
     "output_type": "display_data"
    }
   ],
   "source": [
    "plt.imshow(out[0,0, :, :].detach().numpy())\n",
    "plt.show()"
   ]
  },
  {
   "cell_type": "markdown",
   "metadata": {
    "papermill": {
     "duration": 0.035274,
     "end_time": "2021-01-03T16:55:18.795846",
     "exception": false,
     "start_time": "2021-01-03T16:55:18.760572",
     "status": "completed"
    },
    "tags": []
   },
   "source": [
    "### Deep Convolution Network"
   ]
  },
  {
   "cell_type": "code",
   "execution_count": 18,
   "metadata": {
    "execution": {
     "iopub.execute_input": "2021-01-03T16:55:18.872178Z",
     "iopub.status.busy": "2021-01-03T16:55:18.871495Z",
     "iopub.status.idle": "2021-01-03T16:55:18.874413Z",
     "shell.execute_reply": "2021-01-03T16:55:18.874000Z"
    },
    "papermill": {
     "duration": 0.04355,
     "end_time": "2021-01-03T16:55:18.874498",
     "exception": false,
     "start_time": "2021-01-03T16:55:18.830948",
     "status": "completed"
    },
    "tags": []
   },
   "outputs": [],
   "source": [
    "class FirstCNN_v2(nn.Module):\n",
    "    def __init__(self):\n",
    "        super(FirstCNN_v2, self).__init__()\n",
    "        self.model = nn.Sequential(\n",
    "            nn.Conv2d(3, 8, 3), # (N, 3, 32, 32) -> (N, 8, 30, 30)\n",
    "            nn.Conv2d(8, 16, 3)) # (N, 9, 30, 30) -> (N, 16, 28, 28)\n",
    "    \n",
    "    def forward(self, x):\n",
    "        x = self.model(x)\n",
    "        return x"
   ]
  },
  {
   "cell_type": "code",
   "execution_count": 19,
   "metadata": {
    "execution": {
     "iopub.execute_input": "2021-01-03T16:55:18.948758Z",
     "iopub.status.busy": "2021-01-03T16:55:18.948147Z",
     "iopub.status.idle": "2021-01-03T16:55:18.959727Z",
     "shell.execute_reply": "2021-01-03T16:55:18.959271Z"
    },
    "papermill": {
     "duration": 0.050579,
     "end_time": "2021-01-03T16:55:18.959818",
     "exception": false,
     "start_time": "2021-01-03T16:55:18.909239",
     "status": "completed"
    },
    "tags": []
   },
   "outputs": [
    {
     "data": {
      "text/plain": [
       "torch.Size([4, 16, 28, 28])"
      ]
     },
     "execution_count": 19,
     "metadata": {},
     "output_type": "execute_result"
    }
   ],
   "source": [
    "net = FirstCNN_v2()\n",
    "out = net(images)\n",
    "out.shape"
   ]
  },
  {
   "cell_type": "code",
   "execution_count": 20,
   "metadata": {
    "execution": {
     "iopub.execute_input": "2021-01-03T16:55:19.039344Z",
     "iopub.status.busy": "2021-01-03T16:55:19.038406Z",
     "iopub.status.idle": "2021-01-03T16:55:19.169208Z",
     "shell.execute_reply": "2021-01-03T16:55:19.169638Z"
    },
    "papermill": {
     "duration": 0.174778,
     "end_time": "2021-01-03T16:55:19.169749",
     "exception": false,
     "start_time": "2021-01-03T16:55:18.994971",
     "status": "completed"
    },
    "tags": []
   },
   "outputs": [
    {
     "data": {
      "text/plain": [
       "<matplotlib.image.AxesImage at 0x7fbfec4c8190>"
      ]
     },
     "execution_count": 20,
     "metadata": {},
     "output_type": "execute_result"
    },
    {
     "data": {
      "image/png": "[encoded data removed]",
      "text/plain": [
       "<Figure size 432x288 with 1 Axes>"
      ]
     },
     "metadata": {
      "needs_background": "light"
     },
     "output_type": "display_data"
    }
   ],
   "source": [
    "plt.imshow(out[0, 0, :, :].detach().numpy())"
   ]
  },
  {
   "cell_type": "code",
   "execution_count": 21,
   "metadata": {
    "execution": {
     "iopub.execute_input": "2021-01-03T16:55:19.253072Z",
     "iopub.status.busy": "2021-01-03T16:55:19.252242Z",
     "iopub.status.idle": "2021-01-03T16:55:19.254619Z",
     "shell.execute_reply": "2021-01-03T16:55:19.255070Z"
    },
    "papermill": {
     "duration": 0.047086,
     "end_time": "2021-01-03T16:55:19.255203",
     "exception": false,
     "start_time": "2021-01-03T16:55:19.208117",
     "status": "completed"
    },
    "tags": []
   },
   "outputs": [],
   "source": [
    "class FirstCNN_v3(nn.Module):\n",
    "    def __init__(self):\n",
    "        super(FirstCNN_v3, self).__init__()\n",
    "        self.model = nn.Sequential(\n",
    "            nn.Conv2d(3, 6, 5),           # (N, 3, 32, 32) -> (N, 6, 28 ,28)\n",
    "            nn.AvgPool2d(2, stride=2),    # (N, 6, 28, 28) -> (N, 6, 14, 14)\n",
    "            nn.Conv2d(6, 16, 5),          # (N, 6, 14, 14) -> (N, 16, 10, 10)\n",
    "            nn.AvgPool2d(2, stride=2))    # (N, 16, 10, 10) -> (N, 16, 5, 5)\n",
    "        \n",
    "     \n",
    "    def forward(self, x):\n",
    "        x = self.model(x)\n",
    "        return x"
   ]
  },
  {
   "cell_type": "code",
   "execution_count": 22,
   "metadata": {
    "execution": {
     "iopub.execute_input": "2021-01-03T16:55:19.333792Z",
     "iopub.status.busy": "2021-01-03T16:55:19.332975Z",
     "iopub.status.idle": "2021-01-03T16:55:19.343331Z",
     "shell.execute_reply": "2021-01-03T16:55:19.342886Z"
    },
    "papermill": {
     "duration": 0.051583,
     "end_time": "2021-01-03T16:55:19.343424",
     "exception": false,
     "start_time": "2021-01-03T16:55:19.291841",
     "status": "completed"
    },
    "tags": []
   },
   "outputs": [
    {
     "data": {
      "text/plain": [
       "torch.Size([4, 16, 5, 5])"
      ]
     },
     "execution_count": 22,
     "metadata": {},
     "output_type": "execute_result"
    }
   ],
   "source": [
    "net =  FirstCNN_v3()\n",
    "out = net(images)\n",
    "out.shape"
   ]
  },
  {
   "cell_type": "code",
   "execution_count": 23,
   "metadata": {
    "execution": {
     "iopub.execute_input": "2021-01-03T16:55:19.426731Z",
     "iopub.status.busy": "2021-01-03T16:55:19.425913Z",
     "iopub.status.idle": "2021-01-03T16:55:19.535548Z",
     "shell.execute_reply": "2021-01-03T16:55:19.536061Z"
    },
    "papermill": {
     "duration": 0.155146,
     "end_time": "2021-01-03T16:55:19.536196",
     "exception": false,
     "start_time": "2021-01-03T16:55:19.381050",
     "status": "completed"
    },
    "tags": []
   },
   "outputs": [
    {
     "data": {
      "text/plain": [
       "<matplotlib.image.AxesImage at 0x7fbfec22aed0>"
      ]
     },
     "execution_count": 23,
     "metadata": {},
     "output_type": "execute_result"
    },
    {
     "data": {
      "image/png": "[encoded data removed]",
      "text/plain": [
       "<Figure size 432x288 with 1 Axes>"
      ]
     },
     "metadata": {
      "needs_background": "light"
     },
     "output_type": "display_data"
    }
   ],
   "source": [
    "plt.imshow(out[0, 0, :, :].detach().numpy())"
   ]
  },
  {
   "cell_type": "markdown",
   "metadata": {
    "papermill": {
     "duration": 0.037644,
     "end_time": "2021-01-03T16:55:19.612836",
     "exception": false,
     "start_time": "2021-01-03T16:55:19.575192",
     "status": "completed"
    },
    "tags": []
   },
   "source": [
    "### LeNet"
   ]
  },
  {
   "cell_type": "code",
   "execution_count": 24,
   "metadata": {
    "execution": {
     "iopub.execute_input": "2021-01-03T16:55:19.764391Z",
     "iopub.status.busy": "2021-01-03T16:55:19.762756Z",
     "iopub.status.idle": "2021-01-03T16:55:19.765078Z",
     "shell.execute_reply": "2021-01-03T16:55:19.765500Z"
    },
    "papermill": {
     "duration": 0.11517,
     "end_time": "2021-01-03T16:55:19.765633",
     "exception": false,
     "start_time": "2021-01-03T16:55:19.650463",
     "status": "completed"
    },
    "tags": []
   },
   "outputs": [],
   "source": [
    "class LeNet(nn.Module):\n",
    "    def __init__(self):\n",
    "        super(LeNet, self).__init__()\n",
    "        self.cnn_model = nn.Sequential(\n",
    "            nn.Conv2d(3, 6, 5),          # (N, 3, 32, 32) -> (N, 6, 28, 28)\n",
    "            nn.LeakyReLU(),\n",
    "            nn.AvgPool2d(2, stride=2),   # (N, 6, 28, 28) -> (N, 6, 14, 14)\n",
    "            nn.Conv2d(6, 16, 5),         # (N, 6, 14, 14) -> (N, 16, 10, 10)\n",
    "            nn.LeakyReLU(),\n",
    "            nn.AvgPool2d(2, stride=2)    # (N, 16, 10, 10) -> (N, 16, 5, 5)\n",
    "        )\n",
    "        self.fc_model = nn.Sequential(\n",
    "            nn.Linear(400, 120),         # (N, 400) -> (N, 120)\n",
    "            nn.LeakyReLU(),\n",
    "            nn.Linear(120, 84),          # (N, 120) -> (N, 84)\n",
    "            nn.LeakyReLU(),\n",
    "            nn.Linear(84, 10))           # (N, 84) -> (N, 10)\n",
    "        \n",
    "    \n",
    "    def forward(self, x):\n",
    "        print(x.shape)\n",
    "        x = self.cnn_model(x)\n",
    "        print(x.shape)\n",
    "        x = x.view(x.size(0), -1)\n",
    "        print(x.shape)\n",
    "        x = self.fc_model(x)\n",
    "        print(x.shape)\n",
    "        return x"
   ]
  },
  {
   "cell_type": "code",
   "execution_count": 25,
   "metadata": {
    "execution": {
     "iopub.execute_input": "2021-01-03T16:55:19.847296Z",
     "iopub.status.busy": "2021-01-03T16:55:19.846512Z",
     "iopub.status.idle": "2021-01-03T16:55:19.869472Z",
     "shell.execute_reply": "2021-01-03T16:55:19.869042Z"
    },
    "papermill": {
     "duration": 0.064689,
     "end_time": "2021-01-03T16:55:19.869583",
     "exception": false,
     "start_time": "2021-01-03T16:55:19.804894",
     "status": "completed"
    },
    "tags": []
   },
   "outputs": [
    {
     "name": "stdout",
     "output_type": "stream",
     "text": [
      "torch.Size([4, 3, 32, 32])\n",
      "torch.Size([4, 16, 5, 5])\n",
      "torch.Size([4, 400])\n",
      "torch.Size([4, 10])\n"
     ]
    }
   ],
   "source": [
    "net = LeNet()\n",
    "out = net(images)"
   ]
  },
  {
   "cell_type": "code",
   "execution_count": 26,
   "metadata": {
    "execution": {
     "iopub.execute_input": "2021-01-03T16:55:19.950971Z",
     "iopub.status.busy": "2021-01-03T16:55:19.950388Z",
     "iopub.status.idle": "2021-01-03T16:55:19.981622Z",
     "shell.execute_reply": "2021-01-03T16:55:19.982008Z"
    },
    "papermill": {
     "duration": 0.074576,
     "end_time": "2021-01-03T16:55:19.982117",
     "exception": false,
     "start_time": "2021-01-03T16:55:19.907541",
     "status": "completed"
    },
    "tags": []
   },
   "outputs": [
    {
     "name": "stdout",
     "output_type": "stream",
     "text": [
      "tensor([[ 0.0151,  0.0721,  0.0945, -0.0653,  0.0687,  0.0989,  0.0039,  0.0515,\n",
      "          0.0697,  0.0839],\n",
      "        [ 0.0257,  0.0721,  0.0829, -0.0584,  0.0728,  0.1097,  0.0070,  0.0480,\n",
      "          0.0591,  0.0869],\n",
      "        [ 0.0330,  0.0767,  0.0826, -0.0612,  0.0676,  0.1207,  0.0127,  0.0468,\n",
      "          0.0491,  0.0958],\n",
      "        [ 0.0252,  0.0746,  0.0878, -0.0598,  0.0734,  0.1039,  0.0063,  0.0477,\n",
      "          0.0595,  0.0872]], grad_fn=<AddmmBackward>)\n"
     ]
    }
   ],
   "source": [
    "print(out)"
   ]
  },
  {
   "cell_type": "code",
   "execution_count": 27,
   "metadata": {
    "execution": {
     "iopub.execute_input": "2021-01-03T16:55:20.064160Z",
     "iopub.status.busy": "2021-01-03T16:55:20.063363Z",
     "iopub.status.idle": "2021-01-03T16:55:20.068342Z",
     "shell.execute_reply": "2021-01-03T16:55:20.068952Z"
    },
    "papermill": {
     "duration": 0.048286,
     "end_time": "2021-01-03T16:55:20.069086",
     "exception": false,
     "start_time": "2021-01-03T16:55:20.020800",
     "status": "completed"
    },
    "tags": []
   },
   "outputs": [
    {
     "name": "stdout",
     "output_type": "stream",
     "text": [
      "tensor([5, 5, 5, 5])\n"
     ]
    }
   ],
   "source": [
    "max_values, pred_class = torch.max(out.data, 1)\n",
    "print(pred_class)"
   ]
  },
  {
   "cell_type": "markdown",
   "metadata": {
    "papermill": {
     "duration": 0.045835,
     "end_time": "2021-01-03T16:55:20.154423",
     "exception": false,
     "start_time": "2021-01-03T16:55:20.108588",
     "status": "completed"
    },
    "tags": []
   },
   "source": [
    "### Training LeNet"
   ]
  },
  {
   "cell_type": "code",
   "execution_count": 28,
   "metadata": {
    "execution": {
     "iopub.execute_input": "2021-01-03T16:55:20.241962Z",
     "iopub.status.busy": "2021-01-03T16:55:20.241255Z",
     "iopub.status.idle": "2021-01-03T16:55:20.243734Z",
     "shell.execute_reply": "2021-01-03T16:55:20.244179Z"
    },
    "papermill": {
     "duration": 0.050735,
     "end_time": "2021-01-03T16:55:20.244280",
     "exception": false,
     "start_time": "2021-01-03T16:55:20.193545",
     "status": "completed"
    },
    "tags": []
   },
   "outputs": [],
   "source": [
    "class LeNet(nn.Module):\n",
    "    def __init__(self):\n",
    "        super(LeNet, self).__init__()\n",
    "        self.cnn_model = nn.Sequential(\n",
    "            nn.Conv2d(3, 6, 5),          # (N, 3, 32, 32) -> (N, 6, 28, 28)\n",
    "            nn.LeakyReLU(),\n",
    "            nn.AvgPool2d(2, stride=2),   # (N, 6, 28, 28) -> (N, 6, 14, 14)\n",
    "            nn.Conv2d(6, 16, 5),         # (N, 6, 14, 14) -> (N, 16, 10, 10)\n",
    "            nn.LeakyReLU(),\n",
    "            nn.AvgPool2d(2, stride=2)    # (N, 16, 10, 10) -> (N, 16, 5, 5)\n",
    "        )\n",
    "        self.fc_model = nn.Sequential(\n",
    "            nn.Linear(400, 120),         # (N, 400) -> (N, 120)\n",
    "            nn.LeakyReLU(),\n",
    "            nn.Linear(120, 84),          # (N, 120) -> (N, 84)\n",
    "            nn.LeakyReLU(),\n",
    "            nn.Linear(84, 10))           # (N, 84) -> (N, 10)\n",
    "        \n",
    "    \n",
    "    def forward(self, x):\n",
    "        x = self.cnn_model(x)\n",
    "        x = x.view(x.size(0), -1)\n",
    "        x = self.fc_model(x)\n",
    "        return x"
   ]
  },
  {
   "cell_type": "code",
   "execution_count": 29,
   "metadata": {
    "execution": {
     "iopub.execute_input": "2021-01-03T16:55:20.327948Z",
     "iopub.status.busy": "2021-01-03T16:55:20.327199Z",
     "iopub.status.idle": "2021-01-03T16:55:21.830551Z",
     "shell.execute_reply": "2021-01-03T16:55:21.830000Z"
    },
    "papermill": {
     "duration": 1.547835,
     "end_time": "2021-01-03T16:55:21.830676",
     "exception": false,
     "start_time": "2021-01-03T16:55:20.282841",
     "status": "completed"
    },
    "tags": []
   },
   "outputs": [
    {
     "name": "stdout",
     "output_type": "stream",
     "text": [
      "Files already downloaded and verified\n",
      "Files already downloaded and verified\n"
     ]
    }
   ],
   "source": [
    "batch_size = 128\n",
    "trainset = torchvision.datasets.CIFAR10(root='./data', train=True, download=True, transform=transforms.ToTensor())\n",
    "trainloader = torch.utils.data.DataLoader(trainset, batch_size=batch_size, shuffle=True)\n",
    "\n",
    "testset = torchvision.datasets.CIFAR10(root='./data',train=False, download=True, transform=transforms.ToTensor())\n",
    "testloader = torch.utils.data.DataLoader(testset, batch_size=batch_size, shuffle=False)"
   ]
  },
  {
   "cell_type": "code",
   "execution_count": 30,
   "metadata": {
    "execution": {
     "iopub.execute_input": "2021-01-03T16:55:21.916168Z",
     "iopub.status.busy": "2021-01-03T16:55:21.915408Z",
     "iopub.status.idle": "2021-01-03T16:55:21.918252Z",
     "shell.execute_reply": "2021-01-03T16:55:21.917831Z"
    },
    "papermill": {
     "duration": 0.047632,
     "end_time": "2021-01-03T16:55:21.918341",
     "exception": false,
     "start_time": "2021-01-03T16:55:21.870709",
     "status": "completed"
    },
    "tags": []
   },
   "outputs": [],
   "source": [
    "def evaluation(dataloader):\n",
    "    total, correct = 0, 0\n",
    "    for data in dataloader:\n",
    "        inputs, labels = data\n",
    "        outputs = net(inputs)\n",
    "        _, pred = torch.max(outputs.data, 1)\n",
    "        total += labels.size(0)\n",
    "        correct += (pred == labels).sum().item()\n",
    "    return 100 * correct / total"
   ]
  },
  {
   "cell_type": "code",
   "execution_count": 31,
   "metadata": {
    "execution": {
     "iopub.execute_input": "2021-01-03T16:55:22.001234Z",
     "iopub.status.busy": "2021-01-03T16:55:22.000455Z",
     "iopub.status.idle": "2021-01-03T16:55:22.005741Z",
     "shell.execute_reply": "2021-01-03T16:55:22.005279Z"
    },
    "papermill": {
     "duration": 0.048161,
     "end_time": "2021-01-03T16:55:22.005838",
     "exception": false,
     "start_time": "2021-01-03T16:55:21.957677",
     "status": "completed"
    },
    "tags": []
   },
   "outputs": [],
   "source": [
    "net = LeNet()"
   ]
  },
  {
   "cell_type": "code",
   "execution_count": 32,
   "metadata": {
    "execution": {
     "iopub.execute_input": "2021-01-03T16:55:22.089905Z",
     "iopub.status.busy": "2021-01-03T16:55:22.089171Z",
     "iopub.status.idle": "2021-01-03T16:55:22.091779Z",
     "shell.execute_reply": "2021-01-03T16:55:22.091359Z"
    },
    "papermill": {
     "duration": 0.046191,
     "end_time": "2021-01-03T16:55:22.091865",
     "exception": false,
     "start_time": "2021-01-03T16:55:22.045674",
     "status": "completed"
    },
    "tags": []
   },
   "outputs": [],
   "source": [
    "import torch.optim as optim \n",
    " \n",
    "loss_fn = nn.CrossEntropyLoss()\n",
    "opt = optim.Adam(net.parameters())"
   ]
  },
  {
   "cell_type": "code",
   "execution_count": 33,
   "metadata": {
    "execution": {
     "iopub.execute_input": "2021-01-03T16:55:22.178276Z",
     "iopub.status.busy": "2021-01-03T16:55:22.177555Z",
     "iopub.status.idle": "2021-01-03T17:01:47.622052Z",
     "shell.execute_reply": "2021-01-03T17:01:47.620070Z"
    },
    "papermill": {
     "duration": 385.489208,
     "end_time": "2021-01-03T17:01:47.622230",
     "exception": false,
     "start_time": "2021-01-03T16:55:22.133022",
     "status": "completed"
    },
    "tags": []
   },
   "outputs": [
    {
     "name": "stdout",
     "output_type": "stream",
     "text": [
      "Epoch: 0/16, Test acc: 40.42, Train acc: 40.32\n",
      "Epoch: 1/16, Test acc: 43.81, Train acc: 44.33\n",
      "Epoch: 2/16, Test acc: 47.88, Train acc: 49.07\n",
      "Epoch: 3/16, Test acc: 50.82, Train acc: 51.68\n",
      "Epoch: 4/16, Test acc: 51.65, Train acc: 53.73\n",
      "Epoch: 5/16, Test acc: 53.03, Train acc: 55.84\n",
      "Epoch: 6/16, Test acc: 53.55, Train acc: 56.69\n",
      "Epoch: 7/16, Test acc: 55.48, Train acc: 59.30\n",
      "Epoch: 8/16, Test acc: 55.78, Train acc: 59.94\n",
      "Epoch: 9/16, Test acc: 55.23, Train acc: 59.48\n",
      "Epoch: 10/16, Test acc: 57.03, Train acc: 62.01\n",
      "Epoch: 11/16, Test acc: 57.61, Train acc: 63.45\n",
      "Epoch: 12/16, Test acc: 58.23, Train acc: 64.75\n",
      "Epoch: 13/16, Test acc: 58.49, Train acc: 65.24\n",
      "Epoch: 14/16, Test acc: 59.02, Train acc: 66.85\n",
      "Epoch: 15/16, Test acc: 59.45, Train acc: 68.08\n"
     ]
    },
    {
     "data": {
      "image/png": "[encoded data removed]",
      "text/plain": [
       "<Figure size 432x288 with 1 Axes>"
      ]
     },
     "metadata": {
      "needs_background": "light"
     },
     "output_type": "display_data"
    },
    {
     "name": "stdout",
     "output_type": "stream",
     "text": [
      "CPU times: user 6min 22s, sys: 571 ms, total: 6min 22s\n",
      "Wall time: 6min 25s\n"
     ]
    }
   ],
   "source": [
    "%%time\n",
    "loss_arr = []\n",
    "loss_epoch_arr = []\n",
    "max_epochs = 16\n",
    "\n",
    "for epoch in range(max_epochs):\n",
    "    \n",
    "    for i, data in enumerate(trainloader, 0):\n",
    "        \n",
    "        inputs, labels = data\n",
    "        \n",
    "        opt.zero_grad()\n",
    "        \n",
    "        outputs = net(inputs)\n",
    "        loss = loss_fn(outputs, labels)\n",
    "        loss.backward()\n",
    "        opt.step()\n",
    "        \n",
    "        loss_arr.append(loss.item())\n",
    "        \n",
    "    loss_epoch_arr.append(loss.item())\n",
    "\n",
    "    print('Epoch: %d/%d, Test acc: %0.2f, Train acc: %0.2f' % (epoch, max_epochs, evaluation(testloader), evaluation(trainloader)))\n",
    "    \n",
    "plt.plot(loss_epoch_arr)\n",
    "plt.show()"
   ]
  },
  {
   "cell_type": "markdown",
   "metadata": {
    "papermill": {
     "duration": 0.047163,
     "end_time": "2021-01-03T17:01:47.720051",
     "exception": false,
     "start_time": "2021-01-03T17:01:47.672888",
     "status": "completed"
    },
    "tags": []
   },
   "source": [
    "### Move to GPU"
   ]
  },
  {
   "cell_type": "code",
   "execution_count": 34,
   "metadata": {
    "execution": {
     "iopub.execute_input": "2021-01-03T17:01:47.829815Z",
     "iopub.status.busy": "2021-01-03T17:01:47.829063Z",
     "iopub.status.idle": "2021-01-03T17:01:47.833449Z",
     "shell.execute_reply": "2021-01-03T17:01:47.834109Z"
    },
    "papermill": {
     "duration": 0.061296,
     "end_time": "2021-01-03T17:01:47.834282",
     "exception": false,
     "start_time": "2021-01-03T17:01:47.772986",
     "status": "completed"
    },
    "tags": []
   },
   "outputs": [
    {
     "name": "stdout",
     "output_type": "stream",
     "text": [
      "cuda:0\n"
     ]
    }
   ],
   "source": [
    "device = torch.device(\"cuda:0\" if torch.cuda.is_available() else \"cpu\")\n",
    "print(device)"
   ]
  },
  {
   "cell_type": "code",
   "execution_count": 35,
   "metadata": {
    "execution": {
     "iopub.execute_input": "2021-01-03T17:01:47.933964Z",
     "iopub.status.busy": "2021-01-03T17:01:47.933223Z",
     "iopub.status.idle": "2021-01-03T17:01:47.935754Z",
     "shell.execute_reply": "2021-01-03T17:01:47.936136Z"
    },
    "papermill": {
     "duration": 0.055075,
     "end_time": "2021-01-03T17:01:47.936244",
     "exception": false,
     "start_time": "2021-01-03T17:01:47.881169",
     "status": "completed"
    },
    "tags": []
   },
   "outputs": [],
   "source": [
    "def evaluation(dataloader):\n",
    "    total, correct = 0, 0\n",
    "    for data in dataloader:\n",
    "        inputs, labels = data\n",
    "        inputs, labels = inputs.to(device), labels.to(device)\n",
    "        outputs = net(inputs)\n",
    "        _, pred = torch.max(outputs.data, 1)\n",
    "        total += labels.size(0)\n",
    "        correct += (pred == labels).sum().item()\n",
    "    return 100 * correct / total"
   ]
  },
  {
   "cell_type": "code",
   "execution_count": 36,
   "metadata": {
    "execution": {
     "iopub.execute_input": "2021-01-03T17:01:48.032646Z",
     "iopub.status.busy": "2021-01-03T17:01:48.031889Z",
     "iopub.status.idle": "2021-01-03T17:01:51.985123Z",
     "shell.execute_reply": "2021-01-03T17:01:51.983809Z"
    },
    "papermill": {
     "duration": 4.003333,
     "end_time": "2021-01-03T17:01:51.985233",
     "exception": false,
     "start_time": "2021-01-03T17:01:47.981900",
     "status": "completed"
    },
    "tags": []
   },
   "outputs": [],
   "source": [
    "net = LeNet().to(device)\n",
    "loss_fn = nn.CrossEntropyLoss()\n",
    "opt = optim.Adam(net.parameters()) "
   ]
  },
  {
   "cell_type": "code",
   "execution_count": 37,
   "metadata": {
    "execution": {
     "iopub.execute_input": "2021-01-03T17:01:52.085005Z",
     "iopub.status.busy": "2021-01-03T17:01:52.084197Z",
     "iopub.status.idle": "2021-01-03T17:03:36.988045Z",
     "shell.execute_reply": "2021-01-03T17:03:36.988504Z"
    },
    "papermill": {
     "duration": 104.955866,
     "end_time": "2021-01-03T17:03:36.988668",
     "exception": false,
     "start_time": "2021-01-03T17:01:52.032802",
     "status": "completed"
    },
    "tags": []
   },
   "outputs": [
    {
     "name": "stdout",
     "output_type": "stream",
     "text": [
      "Epoch: 0/16\n",
      "Epoch: 1/16\n",
      "Epoch: 2/16\n",
      "Epoch: 3/16\n",
      "Epoch: 4/16\n",
      "Epoch: 5/16\n",
      "Epoch: 6/16\n",
      "Epoch: 7/16\n",
      "Epoch: 8/16\n",
      "Epoch: 9/16\n",
      "Epoch: 10/16\n",
      "Epoch: 11/16\n",
      "Epoch: 12/16\n",
      "Epoch: 13/16\n",
      "Epoch: 14/16\n",
      "Epoch: 15/16\n",
      "CPU times: user 1min 42s, sys: 554 ms, total: 1min 43s\n",
      "Wall time: 1min 44s\n"
     ]
    }
   ],
   "source": [
    "%%time\n",
    "max_epochs = 16\n",
    "\n",
    "for epoch in range(max_epochs):\n",
    "    \n",
    "    for i, data in enumerate(trainloader, 0):\n",
    "        \n",
    "        inputs, labels = data\n",
    "        inputs, labels = inputs.to(device), labels.to(device)\n",
    "        \n",
    "        opt.zero_grad()\n",
    "        \n",
    "        outputs = net(inputs)\n",
    "        loss = loss_fn(outputs, labels)\n",
    "        loss.backward()\n",
    "        opt.step()\n",
    "        \n",
    "    print('Epoch: %d/%d' % (epoch, max_epochs))"
   ]
  },
  {
   "cell_type": "code",
   "execution_count": 38,
   "metadata": {
    "execution": {
     "iopub.execute_input": "2021-01-03T17:03:37.095488Z",
     "iopub.status.busy": "2021-01-03T17:03:37.094995Z",
     "iopub.status.idle": "2021-01-03T17:03:44.146874Z",
     "shell.execute_reply": "2021-01-03T17:03:44.147498Z"
    },
    "papermill": {
     "duration": 7.107324,
     "end_time": "2021-01-03T17:03:44.147679",
     "exception": false,
     "start_time": "2021-01-03T17:03:37.040355",
     "status": "completed"
    },
    "tags": []
   },
   "outputs": [
    {
     "name": "stdout",
     "output_type": "stream",
     "text": [
      "Test acc: 59.77, Train acc: 69.15\n"
     ]
    }
   ],
   "source": [
    "print('Test acc: %0.2f, Train acc: %0.2f' % (evaluation(testloader), evaluation(trainloader)))"
   ]
  },
  {
   "cell_type": "markdown",
   "metadata": {
    "papermill": {
     "duration": 0.050546,
     "end_time": "2021-01-03T17:03:44.250220",
     "exception": false,
     "start_time": "2021-01-03T17:03:44.199674",
     "status": "completed"
    },
    "tags": []
   },
   "source": [
    "### Basic Visualisation"
   ]
  },
  {
   "cell_type": "code",
   "execution_count": 39,
   "metadata": {
    "execution": {
     "iopub.execute_input": "2021-01-03T17:03:44.356773Z",
     "iopub.status.busy": "2021-01-03T17:03:44.355953Z",
     "iopub.status.idle": "2021-01-03T17:03:44.491154Z",
     "shell.execute_reply": "2021-01-03T17:03:44.491617Z"
    },
    "papermill": {
     "duration": 0.190754,
     "end_time": "2021-01-03T17:03:44.491742",
     "exception": false,
     "start_time": "2021-01-03T17:03:44.300988",
     "status": "completed"
    },
    "tags": []
   },
   "outputs": [
    {
     "data": {
      "image/png": "[encoded data removed]",
      "text/plain": [
       "<Figure size 432x288 with 1 Axes>"
      ]
     },
     "metadata": {
      "needs_background": "light"
     },
     "output_type": "display_data"
    }
   ],
   "source": [
    "imshow(torchvision.utils.make_grid(images))"
   ]
  },
  {
   "cell_type": "code",
   "execution_count": 40,
   "metadata": {
    "execution": {
     "iopub.execute_input": "2021-01-03T17:03:44.609138Z",
     "iopub.status.busy": "2021-01-03T17:03:44.608232Z",
     "iopub.status.idle": "2021-01-03T17:03:44.613908Z",
     "shell.execute_reply": "2021-01-03T17:03:44.613308Z"
    },
    "papermill": {
     "duration": 0.065998,
     "end_time": "2021-01-03T17:03:44.614007",
     "exception": false,
     "start_time": "2021-01-03T17:03:44.548009",
     "status": "completed"
    },
    "tags": []
   },
   "outputs": [],
   "source": [
    "net = net.to('cpu')"
   ]
  },
  {
   "cell_type": "code",
   "execution_count": 41,
   "metadata": {
    "execution": {
     "iopub.execute_input": "2021-01-03T17:03:44.728822Z",
     "iopub.status.busy": "2021-01-03T17:03:44.727991Z",
     "iopub.status.idle": "2021-01-03T17:03:44.734882Z",
     "shell.execute_reply": "2021-01-03T17:03:44.734258Z"
    },
    "papermill": {
     "duration": 0.06569,
     "end_time": "2021-01-03T17:03:44.735005",
     "exception": false,
     "start_time": "2021-01-03T17:03:44.669315",
     "status": "completed"
    },
    "tags": []
   },
   "outputs": [
    {
     "name": "stdout",
     "output_type": "stream",
     "text": [
      "torch.Size([4, 10])\n"
     ]
    }
   ],
   "source": [
    "out = net(images)\n",
    "print(out.shape)"
   ]
  },
  {
   "cell_type": "code",
   "execution_count": 42,
   "metadata": {
    "execution": {
     "iopub.execute_input": "2021-01-03T17:03:44.847067Z",
     "iopub.status.busy": "2021-01-03T17:03:44.846268Z",
     "iopub.status.idle": "2021-01-03T17:03:44.851225Z",
     "shell.execute_reply": "2021-01-03T17:03:44.850821Z"
    },
    "papermill": {
     "duration": 0.062609,
     "end_time": "2021-01-03T17:03:44.851312",
     "exception": false,
     "start_time": "2021-01-03T17:03:44.788703",
     "status": "completed"
    },
    "tags": []
   },
   "outputs": [
    {
     "data": {
      "text/plain": [
       "torch.Size([4, 6, 28, 28])"
      ]
     },
     "execution_count": 42,
     "metadata": {},
     "output_type": "execute_result"
    }
   ],
   "source": [
    "out = net.cnn_model[0](images)\n",
    "out.shape"
   ]
  },
  {
   "cell_type": "code",
   "execution_count": 43,
   "metadata": {
    "execution": {
     "iopub.execute_input": "2021-01-03T17:03:44.971695Z",
     "iopub.status.busy": "2021-01-03T17:03:44.970759Z",
     "iopub.status.idle": "2021-01-03T17:03:45.065340Z",
     "shell.execute_reply": "2021-01-03T17:03:45.064792Z"
    },
    "papermill": {
     "duration": 0.15932,
     "end_time": "2021-01-03T17:03:45.065438",
     "exception": false,
     "start_time": "2021-01-03T17:03:44.906118",
     "status": "completed"
    },
    "tags": []
   },
   "outputs": [
    {
     "data": {
      "image/png": "[encoded data removed]",
      "text/plain": [
       "<Figure size 144x144 with 1 Axes>"
      ]
     },
     "metadata": {
      "needs_background": "light"
     },
     "output_type": "display_data"
    }
   ],
   "source": [
    "image_id = 3\n",
    "plt.figure(figsize = (2, 2))\n",
    "imshow(images[image_id,])"
   ]
  },
  {
   "cell_type": "code",
   "execution_count": 44,
   "metadata": {
    "execution": {
     "iopub.execute_input": "2021-01-03T17:03:45.191870Z",
     "iopub.status.busy": "2021-01-03T17:03:45.191022Z",
     "iopub.status.idle": "2021-01-03T17:03:45.717582Z",
     "shell.execute_reply": "2021-01-03T17:03:45.718057Z"
    },
    "papermill": {
     "duration": 0.595456,
     "end_time": "2021-01-03T17:03:45.718192",
     "exception": false,
     "start_time": "2021-01-03T17:03:45.122736",
     "status": "completed"
    },
    "tags": []
   },
   "outputs": [
    {
     "name": "stderr",
     "output_type": "stream",
     "text": [
      "/opt/conda/lib/python3.7/site-packages/ipykernel_launcher.py:4: MatplotlibDeprecationWarning: Adding an axes using the same arguments as a previous axes currently reuses the earlier instance.  In a future version, a new instance will always be created and returned.  Meanwhile, this warning can be suppressed, and the future behavior ensured, by passing a unique label to each axes instance.\n",
      "  after removing the cwd from sys.path.\n"
     ]
    },
    {
     "data": {
      "image/png": "[encoded data removed]",
      "text/plain": [
       "<Figure size 432x432 with 6 Axes>"
      ]
     },
     "metadata": {
      "needs_background": "light"
     },
     "output_type": "display_data"
    }
   ],
   "source": [
    "plt.figure(figsize = (6,6))\n",
    "plt.subplot(321)\n",
    "for i in range(6):\n",
    "    ax1 = plt.subplot(3, 2, i+1)\n",
    "    plt.imshow(out[image_id, i ,:, :].detach().numpy(), cmap=\"binary\")\n",
    "plt.show()"
   ]
  }
 ],
 "metadata": {
  "kernelspec": {
   "display_name": "Python 3",
   "language": "python",
   "name": "python3"
  },
  "language_info": {
   "codemirror_mode": {
    "name": "ipython",
    "version": 3
   },
   "file_extension": ".py",
   "mimetype": "text/x-python",
   "name": "python",
   "nbconvert_exporter": "python",
   "pygments_lexer": "ipython3",
   "version": "3.7.6"
  },
  "papermill": {
   "duration": 525.019285,
   "end_time": "2021-01-03T17:03:46.925727",
   "environment_variables": {},
   "exception": null,
   "input_path": "__notebook__.ipynb",
   "output_path": "__notebook__.ipynb",
   "parameters": {},
   "start_time": "2021-01-03T16:55:01.906442",
   "version": "2.1.0"
  },
  "widgets": {
   "application/vnd.jupyter.widget-state+json": {
    "state": {
     "356236e392334f1ab490516e5b41d741": {
      "model_module": "@jupyter-widgets/controls",
      "model_module_version": "1.5.0",
      "model_name": "DescriptionStyleModel",
      "state": {
       "_model_module": "@jupyter-widgets/controls",
       "_model_module_version": "1.5.0",
       "_model_name": "DescriptionStyleModel",
       "_view_count": null,
       "_view_module": "@jupyter-widgets/base",
       "_view_module_version": "1.2.0",
       "_view_name": "StyleView",
       "description_width": ""
      }
     },
     "3e0e348b812a40a6ae55756eaf04beca": {
      "model_module": "@jupyter-widgets/controls",
      "model_module_version": "1.5.0",
      "model_name": "HBoxModel",
      "state": {
       "_dom_classes": [],
       "_model_module": "@jupyter-widgets/controls",
       "_model_module_version": "1.5.0",
       "_model_name": "HBoxModel",
       "_view_count": null,
       "_view_module": "@jupyter-widgets/controls",
       "_view_module_version": "1.5.0",
       "_view_name": "HBoxView",
       "box_style": "",
       "children": [
        "IPY_MODEL_b5a6fb5d34db4bcfaa4611376703964d",
        "IPY_MODEL_7a4e24d1c760455ebed82c29bdfaff81"
       ],
       "layout": "IPY_MODEL_d93f82100f2549b688ac2db8ebf2cd3a"
      }
     },
     "5e5fef64d13f463a8f95698032595f6d": {
      "model_module": "@jupyter-widgets/base",
      "model_module_version": "1.2.0",
      "model_name": "LayoutModel",
      "state": {
       "_model_module": "@jupyter-widgets/base",
       "_model_module_version": "1.2.0",
       "_model_name": "LayoutModel",
       "_view_count": null,
       "_view_module": "@jupyter-widgets/base",
       "_view_module_version": "1.2.0",
       "_view_name": "LayoutView",
       "align_content": null,
       "align_items": null,
       "align_self": null,
       "border": null,
       "bottom": null,
       "display": null,
       "flex": null,
       "flex_flow": null,
       "grid_area": null,
       "grid_auto_columns": null,
       "grid_auto_flow": null,
       "grid_auto_rows": null,
       "grid_column": null,
       "grid_gap": null,
       "grid_row": null,
       "grid_template_areas": null,
       "grid_template_columns": null,
       "grid_template_rows": null,
       "height": null,
       "justify_content": null,
       "justify_items": null,
       "left": null,
       "margin": null,
       "max_height": null,
       "max_width": null,
       "min_height": null,
       "min_width": null,
       "object_fit": null,
       "object_position": null,
       "order": null,
       "overflow": null,
       "overflow_x": null,
       "overflow_y": null,
       "padding": null,
       "right": null,
       "top": null,
       "visibility": null,
       "width": null
      }
     },
     "7a4e24d1c760455ebed82c29bdfaff81": {
      "model_module": "@jupyter-widgets/controls",
      "model_module_version": "1.5.0",
      "model_name": "HTMLModel",
      "state": {
       "_dom_classes": [],
       "_model_module": "@jupyter-widgets/controls",
       "_model_module_version": "1.5.0",
       "_model_name": "HTMLModel",
       "_view_count": null,
       "_view_module": "@jupyter-widgets/controls",
       "_view_module_version": "1.5.0",
       "_view_name": "HTMLView",
       "description": "",
       "description_tooltip": null,
       "layout": "IPY_MODEL_f8f531bad6fc491bba671f2a7f5a856d",
       "placeholder": "​",
       "style": "IPY_MODEL_356236e392334f1ab490516e5b41d741",
       "value": " 170500096/? [00:09&lt;00:00, 17699631.85it/s]"
      }
     },
     "b5a6fb5d34db4bcfaa4611376703964d": {
      "model_module": "@jupyter-widgets/controls",
      "model_module_version": "1.5.0",
      "model_name": "FloatProgressModel",
      "state": {
       "_dom_classes": [],
       "_model_module": "@jupyter-widgets/controls",
       "_model_module_version": "1.5.0",
       "_model_name": "FloatProgressModel",
       "_view_count": null,
       "_view_module": "@jupyter-widgets/controls",
       "_view_module_version": "1.5.0",
       "_view_name": "ProgressView",
       "bar_style": "success",
       "description": "",
       "description_tooltip": null,
       "layout": "IPY_MODEL_5e5fef64d13f463a8f95698032595f6d",
       "max": 1.0,
       "min": 0.0,
       "orientation": "horizontal",
       "style": "IPY_MODEL_f895756e24c74ef8a67252098a10ed45",
       "value": 1.0
      }
     },
     "d93f82100f2549b688ac2db8ebf2cd3a": {
      "model_module": "@jupyter-widgets/base",
      "model_module_version": "1.2.0",
      "model_name": "LayoutModel",
      "state": {
       "_model_module": "@jupyter-widgets/base",
       "_model_module_version": "1.2.0",
       "_model_name": "LayoutModel",
       "_view_count": null,
       "_view_module": "@jupyter-widgets/base",
       "_view_module_version": "1.2.0",
       "_view_name": "LayoutView",
       "align_content": null,
       "align_items": null,
       "align_self": null,
       "border": null,
       "bottom": null,
       "display": null,
       "flex": null,
       "flex_flow": null,
       "grid_area": null,
       "grid_auto_columns": null,
       "grid_auto_flow": null,
       "grid_auto_rows": null,
       "grid_column": null,
       "grid_gap": null,
       "grid_row": null,
       "grid_template_areas": null,
       "grid_template_columns": null,
       "grid_template_rows": null,
       "height": null,
       "justify_content": null,
       "justify_items": null,
       "left": null,
       "margin": null,
       "max_height": null,
       "max_width": null,
       "min_height": null,
       "min_width": null,
       "object_fit": null,
       "object_position": null,
       "order": null,
       "overflow": null,
       "overflow_x": null,
       "overflow_y": null,
       "padding": null,
       "right": null,
       "top": null,
       "visibility": null,
       "width": null
      }
     },
     "f895756e24c74ef8a67252098a10ed45": {
      "model_module": "@jupyter-widgets/controls",
      "model_module_version": "1.5.0",
      "model_name": "ProgressStyleModel",
      "state": {
       "_model_module": "@jupyter-widgets/controls",
       "_model_module_version": "1.5.0",
       "_model_name": "ProgressStyleModel",
       "_view_count": null,
       "_view_module": "@jupyter-widgets/base",
       "_view_module_version": "1.2.0",
       "_view_name": "StyleView",
       "bar_color": null,
       "description_width": "initial"
      }
     },
     "f8f531bad6fc491bba671f2a7f5a856d": {
      "model_module": "@jupyter-widgets/base",
      "model_module_version": "1.2.0",
      "model_name": "LayoutModel",
      "state": {
       "_model_module": "@jupyter-widgets/base",
       "_model_module_version": "1.2.0",
       "_model_name": "LayoutModel",
       "_view_count": null,
       "_view_module": "@jupyter-widgets/base",
       "_view_module_version": "1.2.0",
       "_view_name": "LayoutView",
       "align_content": null,
       "align_items": null,
       "align_self": null,
       "border": null,
       "bottom": null,
       "display": null,
       "flex": null,
       "flex_flow": null,
       "grid_area": null,
       "grid_auto_columns": null,
       "grid_auto_flow": null,
       "grid_auto_rows": null,
       "grid_column": null,
       "grid_gap": null,
       "grid_row": null,
       "grid_template_areas": null,
       "grid_template_columns": null,
       "grid_template_rows": null,
       "height": null,
       "justify_content": null,
       "justify_items": null,
       "left": null,
       "margin": null,
       "max_height": null,
       "max_width": null,
       "min_height": null,
       "min_width": null,
       "object_fit": null,
       "object_position": null,
       "order": null,
       "overflow": null,
       "overflow_x": null,
       "overflow_y": null,
       "padding": null,
       "right": null,
       "top": null,
       "visibility": null,
       "width": null
      }
     }
    },
    "version_major": 2,
    "version_minor": 0
   }
  }
 },
 "nbformat": 4,
 "nbformat_minor": 4
}
