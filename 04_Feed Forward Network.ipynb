{
 "cells": [
  {
   "cell_type": "markdown",
   "metadata": {
    "papermill": {
     "duration": 0.030682,
     "end_time": "2020-12-03T16:42:14.473696",
     "exception": false,
     "start_time": "2020-12-03T16:42:14.443014",
     "status": "completed"
    },
    "tags": []
   },
   "source": [
    "# Feedforward Neural Networks\n",
    "\n",
    "Feedforward neural networks are also known as Multi-layered Network of Neurons (MLN). These network of models are called feedforward because the information only travels forward in the neural network, through the input nodes then through the hidden layers (single or many layers) and finally through the output nodes.\n",
    "\n",
    "<img src='https://github.com/taruntiwarihp/raw_images/blob/master/1_LsmIIg6u4BhGHIykJNa2hA.png?raw=true'>\n",
    "\n",
    "                        Generic Network with Connections\n",
    "Traditional models such as McCulloch Pitts, Perceptron and Sigmoid neuron models capacity is limited to linear functions. To handle the complex non-linear decision boundary between input and the output we are using the Multi-layered Network of Neurons."
   ]
  },
  {
   "cell_type": "markdown",
   "metadata": {
    "papermill": {
     "duration": 0.028232,
     "end_time": "2020-12-03T16:42:14.530840",
     "exception": false,
     "start_time": "2020-12-03T16:42:14.502608",
     "status": "completed"
    },
    "tags": []
   },
   "source": [
    "#### Outline\n",
    "\n",
    "1. Generate data that is not linearly separable\n",
    "2. Train with SN and see performance\n",
    "3. Write from scratch our first feed forward network\n",
    "4. Train the FF network on the data and compare with SN\n",
    "5. Write a generic class for a FF network\n",
    "6. Train generic class on binary classification\n",
    "7. Generate data for multi-class classification\n",
    "8. Train a FF network for 7\n",
    "9. Use softmax as the output layer and cross-entropy loss function\n",
    "10. Train with 8 for multi-class classification\n",
    "11. Exercises on other datasets"
   ]
  },
  {
   "cell_type": "markdown",
   "metadata": {
    "papermill": {
     "duration": 0.028206,
     "end_time": "2020-12-03T16:42:14.587724",
     "exception": false,
     "start_time": "2020-12-03T16:42:14.559518",
     "status": "completed"
    },
    "tags": []
   },
   "source": [
    "### Setup important libraries"
   ]
  },
  {
   "cell_type": "code",
   "execution_count": 1,
   "metadata": {
    "execution": {
     "iopub.execute_input": "2020-12-03T16:42:14.652660Z",
     "iopub.status.busy": "2020-12-03T16:42:14.651706Z",
     "iopub.status.idle": "2020-12-03T16:42:15.890201Z",
     "shell.execute_reply": "2020-12-03T16:42:15.889425Z"
    },
    "papermill": {
     "duration": 1.274207,
     "end_time": "2020-12-03T16:42:15.890346",
     "exception": false,
     "start_time": "2020-12-03T16:42:14.616139",
     "status": "completed"
    },
    "tags": []
   },
   "outputs": [],
   "source": [
    "import numpy as np\n",
    "import pandas as pd\n",
    "import matplotlib.pyplot as plt\n",
    "import matplotlib.colors\n",
    "from sklearn.model_selection import train_test_split\n",
    "from sklearn.metrics import accuracy_score, mean_squared_error\n",
    "from tqdm import tqdm_notebook\n",
    "\n",
    "from sklearn.preprocessing import OneHotEncoder\n",
    "from sklearn.datasets import make_blobs"
   ]
  },
  {
   "cell_type": "code",
   "execution_count": 2,
   "metadata": {
    "_cell_guid": "79c7e3d0-c299-4dcb-8224-4455121ee9b0",
    "_uuid": "d629ff2d2480ee46fbb7e2d37f6b5fab8052498a",
    "execution": {
     "iopub.execute_input": "2020-12-03T16:42:15.982916Z",
     "iopub.status.busy": "2020-12-03T16:42:15.956976Z",
     "iopub.status.idle": "2020-12-03T16:42:15.986927Z",
     "shell.execute_reply": "2020-12-03T16:42:15.986283Z"
    },
    "papermill": {
     "duration": 0.067415,
     "end_time": "2020-12-03T16:42:15.987105",
     "exception": false,
     "start_time": "2020-12-03T16:42:15.919690",
     "status": "completed"
    },
    "tags": []
   },
   "outputs": [],
   "source": [
    "class SigmoidNeuron:\n",
    "    \n",
    "    def __init__(self):\n",
    "        self.w = None\n",
    "        self.b = None\n",
    "        \n",
    "    def perceptron(self, x):\n",
    "        return np.dot(x, self.w.T) + self.b\n",
    "    \n",
    "    def sigmoid(self, x):\n",
    "        return 1.0/(1.0 + np.exp(-x))\n",
    "    \n",
    "    def grad_w_mse(self, x, y):\n",
    "        y_pred = self.sigmoid(self.perceptron(x))\n",
    "        return (y_pred - y) * y_pred * (1 - y_pred) * x\n",
    "    \n",
    "    def grad_b_mse(self, x, y):\n",
    "        y_pred = self.sigmoid(self.perceptron(x))\n",
    "        return (y_pred - y) * y_pred * (1 - y_pred)\n",
    "    \n",
    "    def grad_w_ce(self, x, y):\n",
    "        y_pred = self.sigmoid(self.perceptron(x))\n",
    "        if y == 0:\n",
    "            return y_pred * x\n",
    "        elif y == 1:\n",
    "            return -1 * (1 - y_pred) * x\n",
    "        else:\n",
    "            raise ValueError(\"y should be 0 or 1\")\n",
    "            \n",
    "    def grad_b_ce(self, x, y):\n",
    "        y_pred = self.sigmoid(self.perceptron(x))\n",
    "        if y == 0:\n",
    "            return y_pred\n",
    "        elif y == 1:\n",
    "            return -1 * (1 - y_pred)\n",
    "        else:\n",
    "            raise ValueError(\"y should be 0 or 1\")\n",
    "            \n",
    "    def fit(self, X, Y, epochs=1, learning_rate=1, initialise=True, loss_fn=\"mse\", display_loss=False):\n",
    "        \n",
    "        # initailse w, b\n",
    "        if initialise:\n",
    "            self.w = np.random.randn(1, X.shape[1])\n",
    "            self.b = 0\n",
    "        \n",
    "        if display_loss:\n",
    "            loss={}\n",
    "        \n",
    "        for i in tqdm_notebook(range(epochs), total=epochs, unit=\"epochs\"):\n",
    "            dw = 0\n",
    "            db = 0\n",
    "            for x, y in zip(X, Y):\n",
    "                if loss_fn == \"mse\":\n",
    "                    dw += self.grad_w_mse(x, y)\n",
    "                    db += self.grad_b_mse(x, y)\n",
    "                elif loss_fn == \"ce\":\n",
    "                    dw += self.grad_w_ce(x, y)\n",
    "                    db += self.grad_b_ce(x, y)\n",
    "                    \n",
    "            m = X.shape[1]\n",
    "            self.w -= learning_rate * dw/m\n",
    "            self.b -= learning_rate * db/m\n",
    "            \n",
    "            if display_loss:\n",
    "                Y_pred = self.sigmoid(self.perceptron(X))\n",
    "                if loss_fn == \"mse\":\n",
    "                    loss[i] = mean_squared_error(Y, Y_pred)\n",
    "                elif loss_fn == \"ce\":\n",
    "                    loss[i] = log_loss(Y, Y_pred)\n",
    "        if display_loss:\n",
    "            plt.plot(np.fromiter(loss.values(), dtype = float))\n",
    "            plt.xlabel('Epochs')\n",
    "            if loss_fn == \"mse\":\n",
    "                plt.ylabel(\"Mean Squared Error\")\n",
    "            elif loss_fn == \"ce\":\n",
    "                plt.ylabel(\"Log Loss\")\n",
    "            plt.show()\n",
    "            \n",
    "    def predict(self, X):\n",
    "        Y_pred = []\n",
    "        for x in X:\n",
    "            y_pred = self.sigmoid(self.perceptron(x))\n",
    "            Y_pred.append(y_pred)\n",
    "        return np.array(Y_pred)"
   ]
  },
  {
   "cell_type": "code",
   "execution_count": 3,
   "metadata": {
    "execution": {
     "iopub.execute_input": "2020-12-03T16:42:16.060957Z",
     "iopub.status.busy": "2020-12-03T16:42:16.059854Z",
     "iopub.status.idle": "2020-12-03T16:42:16.063245Z",
     "shell.execute_reply": "2020-12-03T16:42:16.062201Z"
    },
    "papermill": {
     "duration": 0.041396,
     "end_time": "2020-12-03T16:42:16.063418",
     "exception": false,
     "start_time": "2020-12-03T16:42:16.022022",
     "status": "completed"
    },
    "tags": []
   },
   "outputs": [],
   "source": [
    "my_cmap = matplotlib.colors.LinearSegmentedColormap.from_list(\"\",[\"red\",\"yellow\",\"green\"])"
   ]
  },
  {
   "cell_type": "code",
   "execution_count": 4,
   "metadata": {
    "execution": {
     "iopub.execute_input": "2020-12-03T16:42:16.137841Z",
     "iopub.status.busy": "2020-12-03T16:42:16.136751Z",
     "iopub.status.idle": "2020-12-03T16:42:16.140419Z",
     "shell.execute_reply": "2020-12-03T16:42:16.139753Z"
    },
    "papermill": {
     "duration": 0.038838,
     "end_time": "2020-12-03T16:42:16.140551",
     "exception": false,
     "start_time": "2020-12-03T16:42:16.101713",
     "status": "completed"
    },
    "tags": []
   },
   "outputs": [],
   "source": [
    "np.random.seed(0)"
   ]
  },
  {
   "cell_type": "markdown",
   "metadata": {
    "papermill": {
     "duration": 0.035861,
     "end_time": "2020-12-03T16:42:16.205766",
     "exception": false,
     "start_time": "2020-12-03T16:42:16.169905",
     "status": "completed"
    },
    "tags": []
   },
   "source": [
    "### Generate Data"
   ]
  },
  {
   "cell_type": "code",
   "execution_count": 5,
   "metadata": {
    "execution": {
     "iopub.execute_input": "2020-12-03T16:42:16.276193Z",
     "iopub.status.busy": "2020-12-03T16:42:16.273139Z",
     "iopub.status.idle": "2020-12-03T16:42:16.281446Z",
     "shell.execute_reply": "2020-12-03T16:42:16.282258Z"
    },
    "papermill": {
     "duration": 0.045703,
     "end_time": "2020-12-03T16:42:16.282476",
     "exception": false,
     "start_time": "2020-12-03T16:42:16.236773",
     "status": "completed"
    },
    "tags": []
   },
   "outputs": [
    {
     "name": "stdout",
     "output_type": "stream",
     "text": [
      "(1000, 2) (1000,)\n"
     ]
    }
   ],
   "source": [
    "data, labels = make_blobs(n_samples=1000, centers=4, n_features=2, random_state=0)\n",
    "print(data.shape, labels.shape)"
   ]
  },
  {
   "cell_type": "code",
   "execution_count": 6,
   "metadata": {
    "execution": {
     "iopub.execute_input": "2020-12-03T16:42:16.354732Z",
     "iopub.status.busy": "2020-12-03T16:42:16.353936Z",
     "iopub.status.idle": "2020-12-03T16:42:16.624027Z",
     "shell.execute_reply": "2020-12-03T16:42:16.623400Z"
    },
    "papermill": {
     "duration": 0.305909,
     "end_time": "2020-12-03T16:42:16.624182",
     "exception": false,
     "start_time": "2020-12-03T16:42:16.318273",
     "status": "completed"
    },
    "tags": []
   },
   "outputs": [
    {
     "data": {
      "image/png": "[encoded data removed]",
      "text/plain": [
       "<Figure size 432x288 with 1 Axes>"
      ]
     },
     "metadata": {
      "needs_background": "light"
     },
     "output_type": "display_data"
    }
   ],
   "source": [
    "plt.scatter(data[:,0], data[:,1], c=labels, cmap=my_cmap)\n",
    "plt.show()"
   ]
  },
  {
   "cell_type": "code",
   "execution_count": 7,
   "metadata": {
    "execution": {
     "iopub.execute_input": "2020-12-03T16:42:16.696804Z",
     "iopub.status.busy": "2020-12-03T16:42:16.695677Z",
     "iopub.status.idle": "2020-12-03T16:42:16.702949Z",
     "shell.execute_reply": "2020-12-03T16:42:16.703864Z"
    },
    "papermill": {
     "duration": 0.04755,
     "end_time": "2020-12-03T16:42:16.704134",
     "exception": false,
     "start_time": "2020-12-03T16:42:16.656584",
     "status": "completed"
    },
    "tags": []
   },
   "outputs": [],
   "source": [
    "labels_orig = labels\n",
    "labels = np.mod(labels_orig, 2)"
   ]
  },
  {
   "cell_type": "code",
   "execution_count": 8,
   "metadata": {
    "execution": {
     "iopub.execute_input": "2020-12-03T16:42:16.805338Z",
     "iopub.status.busy": "2020-12-03T16:42:16.804150Z",
     "iopub.status.idle": "2020-12-03T16:42:17.007041Z",
     "shell.execute_reply": "2020-12-03T16:42:17.006268Z"
    },
    "papermill": {
     "duration": 0.262216,
     "end_time": "2020-12-03T16:42:17.007190",
     "exception": false,
     "start_time": "2020-12-03T16:42:16.744974",
     "status": "completed"
    },
    "tags": []
   },
   "outputs": [
    {
     "data": {
      "image/png": "[encoded data removed]",
      "text/plain": [
       "<Figure size 432x288 with 1 Axes>"
      ]
     },
     "metadata": {
      "needs_background": "light"
     },
     "output_type": "display_data"
    }
   ],
   "source": [
    "plt.scatter(data[:,0], data[:,1], c=labels, cmap=my_cmap)\n",
    "plt.show()"
   ]
  },
  {
   "cell_type": "code",
   "execution_count": 9,
   "metadata": {
    "execution": {
     "iopub.execute_input": "2020-12-03T16:42:17.082418Z",
     "iopub.status.busy": "2020-12-03T16:42:17.081641Z",
     "iopub.status.idle": "2020-12-03T16:42:17.089489Z",
     "shell.execute_reply": "2020-12-03T16:42:17.090081Z"
    },
    "papermill": {
     "duration": 0.048238,
     "end_time": "2020-12-03T16:42:17.090237",
     "exception": false,
     "start_time": "2020-12-03T16:42:17.041999",
     "status": "completed"
    },
    "tags": []
   },
   "outputs": [
    {
     "name": "stdout",
     "output_type": "stream",
     "text": [
      "(750, 2) (250, 2)\n"
     ]
    }
   ],
   "source": [
    "X_train, X_val, Y_train, Y_val = train_test_split(data, labels, stratify=labels, random_state=0)\n",
    "print(X_train.shape, X_val.shape)"
   ]
  },
  {
   "cell_type": "markdown",
   "metadata": {
    "papermill": {
     "duration": 0.034464,
     "end_time": "2020-12-03T16:42:17.158894",
     "exception": false,
     "start_time": "2020-12-03T16:42:17.124430",
     "status": "completed"
    },
    "tags": []
   },
   "source": [
    "### SN Classification"
   ]
  },
  {
   "cell_type": "code",
   "execution_count": 10,
   "metadata": {
    "execution": {
     "iopub.execute_input": "2020-12-03T16:42:17.234010Z",
     "iopub.status.busy": "2020-12-03T16:42:17.233252Z",
     "iopub.status.idle": "2020-12-03T16:42:59.889088Z",
     "shell.execute_reply": "2020-12-03T16:42:59.888323Z"
    },
    "papermill": {
     "duration": 42.695967,
     "end_time": "2020-12-03T16:42:59.889228",
     "exception": false,
     "start_time": "2020-12-03T16:42:17.193261",
     "status": "completed"
    },
    "tags": []
   },
   "outputs": [
    {
     "name": "stderr",
     "output_type": "stream",
     "text": [
      "/opt/conda/lib/python3.7/site-packages/ipykernel_launcher.py:49: TqdmDeprecationWarning: This function will be removed in tqdm==5.0.0\n",
      "Please use `tqdm.notebook.tqdm` instead of `tqdm.tqdm_notebook`\n"
     ]
    },
    {
     "data": {
      "application/vnd.jupyter.widget-view+json": {
       "model_id": "cb5e3dc624f443948748c7b98b680ffa",
       "version_major": 2,
       "version_minor": 0
      },
      "text/plain": [
       "HBox(children=(FloatProgress(value=0.0, max=1000.0), HTML(value='')))"
      ]
     },
     "metadata": {},
     "output_type": "display_data"
    },
    {
     "name": "stdout",
     "output_type": "stream",
     "text": [
      "\n"
     ]
    },
    {
     "data": {
      "image/png": "[encoded data removed]",
      "text/plain": [
       "<Figure size 432x288 with 1 Axes>"
      ]
     },
     "metadata": {
      "needs_background": "light"
     },
     "output_type": "display_data"
    }
   ],
   "source": [
    "sn = SigmoidNeuron()\n",
    "sn.fit(X_train, Y_train, epochs=1000, learning_rate=0.5, display_loss=True)"
   ]
  },
  {
   "cell_type": "code",
   "execution_count": 11,
   "metadata": {
    "execution": {
     "iopub.execute_input": "2020-12-03T16:42:59.981673Z",
     "iopub.status.busy": "2020-12-03T16:42:59.970914Z",
     "iopub.status.idle": "2020-12-03T16:42:59.986410Z",
     "shell.execute_reply": "2020-12-03T16:42:59.985591Z"
    },
    "papermill": {
     "duration": 0.059733,
     "end_time": "2020-12-03T16:42:59.986539",
     "exception": false,
     "start_time": "2020-12-03T16:42:59.926806",
     "status": "completed"
    },
    "tags": []
   },
   "outputs": [],
   "source": [
    "Y_pred_train = sn.predict(X_train)\n",
    "Y_pred_binarised_train = (Y_pred_train >= 0.5).astype(\"int\").ravel()"
   ]
  },
  {
   "cell_type": "code",
   "execution_count": 12,
   "metadata": {
    "execution": {
     "iopub.execute_input": "2020-12-03T16:43:00.071200Z",
     "iopub.status.busy": "2020-12-03T16:43:00.070426Z",
     "iopub.status.idle": "2020-12-03T16:43:00.074290Z",
     "shell.execute_reply": "2020-12-03T16:43:00.074817Z"
    },
    "papermill": {
     "duration": 0.051241,
     "end_time": "2020-12-03T16:43:00.075031",
     "exception": false,
     "start_time": "2020-12-03T16:43:00.023790",
     "status": "completed"
    },
    "tags": []
   },
   "outputs": [],
   "source": [
    "Y_pred_val = sn.predict(X_val)\n",
    "Y_pred_binarised_val = (Y_pred_val >= 0.5).astype(\"int\").ravel()"
   ]
  },
  {
   "cell_type": "code",
   "execution_count": 13,
   "metadata": {
    "execution": {
     "iopub.execute_input": "2020-12-03T16:43:00.157268Z",
     "iopub.status.busy": "2020-12-03T16:43:00.156488Z",
     "iopub.status.idle": "2020-12-03T16:43:00.162833Z",
     "shell.execute_reply": "2020-12-03T16:43:00.162229Z"
    },
    "papermill": {
     "duration": 0.050335,
     "end_time": "2020-12-03T16:43:00.162966",
     "exception": false,
     "start_time": "2020-12-03T16:43:00.112631",
     "status": "completed"
    },
    "tags": []
   },
   "outputs": [
    {
     "name": "stdout",
     "output_type": "stream",
     "text": [
      "Training Accuracy 0.68\n",
      "Validation Accuracy 0.64\n"
     ]
    }
   ],
   "source": [
    "accuracy_train = accuracy_score(Y_pred_binarised_train, Y_train)\n",
    "accuracy_val = accuracy_score(Y_pred_binarised_val, Y_val)\n",
    "\n",
    "print(\"Training Accuracy\", round(accuracy_train, 2))\n",
    "print(\"Validation Accuracy\", round(accuracy_val, 2))"
   ]
  },
  {
   "cell_type": "code",
   "execution_count": 14,
   "metadata": {
    "execution": {
     "iopub.execute_input": "2020-12-03T16:43:00.252616Z",
     "iopub.status.busy": "2020-12-03T16:43:00.245917Z",
     "iopub.status.idle": "2020-12-03T16:43:00.418860Z",
     "shell.execute_reply": "2020-12-03T16:43:00.418145Z"
    },
    "papermill": {
     "duration": 0.2181,
     "end_time": "2020-12-03T16:43:00.418984",
     "exception": false,
     "start_time": "2020-12-03T16:43:00.200884",
     "status": "completed"
    },
    "tags": []
   },
   "outputs": [
    {
     "data": {
      "image/png": "[encoded data removed]",
      "text/plain": [
       "<Figure size 432x288 with 1 Axes>"
      ]
     },
     "metadata": {
      "needs_background": "light"
     },
     "output_type": "display_data"
    }
   ],
   "source": [
    "plt.scatter(X_train[:,0], X_train[:,1], c=Y_pred_binarised_train, cmap=my_cmap, s = 15*(np.abs(Y_pred_binarised_train-Y_train)+.2))\n",
    "plt.show()"
   ]
  },
  {
   "cell_type": "markdown",
   "metadata": {
    "papermill": {
     "duration": 0.039281,
     "end_time": "2020-12-03T16:43:00.498210",
     "exception": false,
     "start_time": "2020-12-03T16:43:00.458929",
     "status": "completed"
    },
    "tags": []
   },
   "source": [
    "### Our First FF Network"
   ]
  },
  {
   "cell_type": "markdown",
   "metadata": {
    "papermill": {
     "duration": 0.039034,
     "end_time": "2020-12-03T16:43:00.576674",
     "exception": false,
     "start_time": "2020-12-03T16:43:00.537640",
     "status": "completed"
    },
    "tags": []
   },
   "source": [
    "<img src='https://github.com/taruntiwarihp/raw_images/blob/master/SimpleNetwork-1553058835338.png?raw=true'>"
   ]
  },
  {
   "cell_type": "code",
   "execution_count": 15,
   "metadata": {
    "execution": {
     "iopub.execute_input": "2020-12-03T16:43:00.815384Z",
     "iopub.status.busy": "2020-12-03T16:43:00.789353Z",
     "iopub.status.idle": "2020-12-03T16:43:00.819321Z",
     "shell.execute_reply": "2020-12-03T16:43:00.818529Z"
    },
    "papermill": {
     "duration": 0.203447,
     "end_time": "2020-12-03T16:43:00.819461",
     "exception": false,
     "start_time": "2020-12-03T16:43:00.616014",
     "status": "completed"
    },
    "tags": []
   },
   "outputs": [],
   "source": [
    "class FirstFFNetwork:\n",
    "    \n",
    "    def __init__(self):\n",
    "        self.w1 = np.random.randn()\n",
    "        self.w2 = np.random.randn()\n",
    "        self.w3 = np.random.randn()\n",
    "        self.w4 = np.random.randn()\n",
    "        self.w5 = np.random.randn()\n",
    "        self.w6 = np.random.randn()\n",
    "        self.b1 = 0\n",
    "        self.b2 = 0\n",
    "        self.b3 = 0\n",
    "    \n",
    "    def sigmoid(self, x):\n",
    "        return 1.0/(1.0 + np.exp(-x))\n",
    "    \n",
    "    def forward_pass(self, x):\n",
    "        self.x1, self.x2 = x\n",
    "        self.a1 = self.w1*self.x1 + self.w2*self.x2 + self.b1\n",
    "        self.h1 = self.sigmoid(self.a1)\n",
    "        self.a2 = self.w3*self.x1 + self.w4*self.x2 + self.b2\n",
    "        self.h2 = self.sigmoid(self.a2)\n",
    "        self.a3 = self.w5*self.h1 + self.w6*self.h2 + self.b3\n",
    "        self.h3 = self.sigmoid(self.a3)\n",
    "        return self.h3\n",
    "    \n",
    "    def grad(self, x, y):\n",
    "        self.forward_pass(x)\n",
    "\n",
    "        self.dw5 = (self.h3-y) * self.h3*(1-self.h3) * self.h1\n",
    "        self.dw6 = (self.h3-y) * self.h3*(1-self.h3) * self.h2\n",
    "        self.db3 = (self.h3-y) * self.h3*(1-self.h3)\n",
    "\n",
    "        self.dw1 = (self.h3-y) * self.h3*(1-self.h3) * self.w5 * self.h1*(1-self.h1) * self.x1\n",
    "        self.dw2 = (self.h3-y) * self.h3*(1-self.h3) * self.w5 * self.h1*(1-self.h1) * self.x2\n",
    "        self.db1 = (self.h3-y) * self.h3*(1-self.h3) * self.w5 * self.h1*(1-self.h1)\n",
    "\n",
    "        self.dw3 = (self.h3-y) * self.h3*(1-self.h3) * self.w6 * self.h2*(1-self.h2) * self.x1\n",
    "        self.dw4 = (self.h3-y) * self.h3*(1-self.h3) * self.w6 * self.h2*(1-self.h2) * self.x2\n",
    "        self.db2 = (self.h3-y) * self.h3*(1-self.h3) * self.w6 * self.h2*(1-self.h2)\n",
    "       \n",
    "    def fit(self, X, Y, epochs=1, learning_rate=1, initialise=True, display_loss=False):\n",
    "        \n",
    "        # initialise w, b\n",
    "        if initialise:\n",
    "            self.w1 = np.random.randn()\n",
    "            self.w2 = np.random.randn()\n",
    "            self.w3 = np.random.randn()\n",
    "            self.w4 = np.random.randn()\n",
    "            self.w5 = np.random.randn()\n",
    "            self.w6 = np.random.randn()\n",
    "            self.b1 = 0\n",
    "            self.b2 = 0\n",
    "            self.b3 = 0\n",
    "        \n",
    "        if display_loss:\n",
    "            loss = {}\n",
    "            \n",
    "        for i in tqdm_notebook(range(epochs), total=epochs, unit=\"epoch\"):\n",
    "            dw1, dw2, dw3, dw4, dw5, dw6, db1, db2, db3 = [0]*9\n",
    "            for x, y in zip(X, Y):\n",
    "                self.grad(x, y)\n",
    "                dw1 += self.dw1\n",
    "                dw2 += self.dw2\n",
    "                dw3 += self.dw3\n",
    "                dw4 += self.dw4\n",
    "                dw5 += self.dw5\n",
    "                dw6 += self.dw6\n",
    "                db1 += self.db1\n",
    "                db2 += self.db2\n",
    "                db3 += self.db3\n",
    "            \n",
    "            m = X.shape[1]\n",
    "            self.w1 -= learning_rate * dw1 /m\n",
    "            self.w2 -= learning_rate * dw2 /m\n",
    "            self.w3 -= learning_rate * dw3 /m\n",
    "            self.w4 -= learning_rate * dw4 /m\n",
    "            self.w5 -= learning_rate * dw5 /m\n",
    "            self.w6 -= learning_rate * dw6 /m\n",
    "            self.b1 -= learning_rate * db1 /m\n",
    "            self.b2 -= learning_rate * db2 /m\n",
    "            self.b3 -= learning_rate * db3 /m\n",
    "    \n",
    "            if display_loss:\n",
    "                Y_pred = self.predict(X)\n",
    "                loss[i] = mean_squared_error(Y_pred, Y)\n",
    "            \n",
    "        if display_loss:\n",
    "            plt.plot(np.fromiter(loss.values(), dtype = float))\n",
    "            plt.xlabel('Epochs')\n",
    "            plt.ylabel('Mean Squared Error')\n",
    "            plt.show()\n",
    "            \n",
    "    \n",
    "    def predict(self, X):\n",
    "        Y_pred = []\n",
    "        for x in X:\n",
    "            y_pred = self.forward_pass(x)\n",
    "            Y_pred.append(y_pred)\n",
    "        return np.array(Y_pred)"
   ]
  },
  {
   "cell_type": "code",
   "execution_count": 16,
   "metadata": {
    "execution": {
     "iopub.execute_input": "2020-12-03T16:43:00.936846Z",
     "iopub.status.busy": "2020-12-03T16:43:00.936035Z",
     "iopub.status.idle": "2020-12-03T16:44:43.092741Z",
     "shell.execute_reply": "2020-12-03T16:44:43.091997Z"
    },
    "papermill": {
     "duration": 102.227641,
     "end_time": "2020-12-03T16:44:43.092898",
     "exception": false,
     "start_time": "2020-12-03T16:43:00.865257",
     "status": "completed"
    },
    "tags": []
   },
   "outputs": [
    {
     "name": "stderr",
     "output_type": "stream",
     "text": [
      "/opt/conda/lib/python3.7/site-packages/ipykernel_launcher.py:59: TqdmDeprecationWarning: This function will be removed in tqdm==5.0.0\n",
      "Please use `tqdm.notebook.tqdm` instead of `tqdm.tqdm_notebook`\n"
     ]
    },
    {
     "data": {
      "application/vnd.jupyter.widget-view+json": {
       "model_id": "4d8c31b1ba1e43e29090f131cd9f327e",
       "version_major": 2,
       "version_minor": 0
      },
      "text/plain": [
       "HBox(children=(FloatProgress(value=0.0, max=2000.0), HTML(value='')))"
      ]
     },
     "metadata": {},
     "output_type": "display_data"
    },
    {
     "name": "stdout",
     "output_type": "stream",
     "text": [
      "\n"
     ]
    },
    {
     "data": {
      "image/png": "[encoded data removed]",
      "text/plain": [
       "<Figure size 432x288 with 1 Axes>"
      ]
     },
     "metadata": {
      "needs_background": "light"
     },
     "output_type": "display_data"
    }
   ],
   "source": [
    "ffn = FirstFFNetwork()\n",
    "ffn.fit(X_train, Y_train, epochs=2000, learning_rate=.01, display_loss=True)"
   ]
  },
  {
   "cell_type": "code",
   "execution_count": 17,
   "metadata": {
    "execution": {
     "iopub.execute_input": "2020-12-03T16:44:43.206778Z",
     "iopub.status.busy": "2020-12-03T16:44:43.187965Z",
     "iopub.status.idle": "2020-12-03T16:44:43.213599Z",
     "shell.execute_reply": "2020-12-03T16:44:43.212812Z"
    },
    "papermill": {
     "duration": 0.077554,
     "end_time": "2020-12-03T16:44:43.213730",
     "exception": false,
     "start_time": "2020-12-03T16:44:43.136176",
     "status": "completed"
    },
    "tags": []
   },
   "outputs": [
    {
     "name": "stdout",
     "output_type": "stream",
     "text": [
      "Training Accuracy 0.98\n",
      "Validation Accuracy 0.94\n"
     ]
    }
   ],
   "source": [
    "Y_pred_train = ffn.predict(X_train)\n",
    "Y_pred_binarised_train = (Y_pred_train >= 0.5).astype(\"int\").ravel()\n",
    "Y_pred_val = ffn.predict(X_val)\n",
    "Y_pred_binarised_val = (Y_pred_val >= 0.5).astype(\"int\").ravel()\n",
    "accuracy_train = accuracy_score(Y_pred_binarised_train, Y_train)\n",
    "accuracy_val = accuracy_score(Y_pred_binarised_val, Y_val)\n",
    "\n",
    "print(\"Training Accuracy\", round(accuracy_train, 2))\n",
    "print(\"Validation Accuracy\", round(accuracy_val, 2))"
   ]
  },
  {
   "cell_type": "code",
   "execution_count": 18,
   "metadata": {
    "execution": {
     "iopub.execute_input": "2020-12-03T16:44:43.316750Z",
     "iopub.status.busy": "2020-12-03T16:44:43.315865Z",
     "iopub.status.idle": "2020-12-03T16:44:43.479550Z",
     "shell.execute_reply": "2020-12-03T16:44:43.478877Z"
    },
    "papermill": {
     "duration": 0.222687,
     "end_time": "2020-12-03T16:44:43.479690",
     "exception": false,
     "start_time": "2020-12-03T16:44:43.257003",
     "status": "completed"
    },
    "tags": []
   },
   "outputs": [
    {
     "data": {
      "image/png": "[encoded data removed]",
      "text/plain": [
       "<Figure size 432x288 with 1 Axes>"
      ]
     },
     "metadata": {
      "needs_background": "light"
     },
     "output_type": "display_data"
    }
   ],
   "source": [
    "plt.scatter(X_train[:,0], X_train[:,1], c=Y_pred_binarised_train, cmap=my_cmap, s=15*(np.abs(Y_pred_binarised_train-Y_train)+.2))\n",
    "plt.show()"
   ]
  },
  {
   "cell_type": "markdown",
   "metadata": {
    "papermill": {
     "duration": 0.044025,
     "end_time": "2020-12-03T16:44:43.568468",
     "exception": false,
     "start_time": "2020-12-03T16:44:43.524443",
     "status": "completed"
    },
    "tags": []
   },
   "source": [
    "### Feed Forward Network - Generic Class"
   ]
  },
  {
   "cell_type": "markdown",
   "metadata": {
    "papermill": {
     "duration": 0.044017,
     "end_time": "2020-12-03T16:44:43.657689",
     "exception": false,
     "start_time": "2020-12-03T16:44:43.613672",
     "status": "completed"
    },
    "tags": []
   },
   "source": [
    "<img src='https://github.com/taruntiwarihp/raw_images/blob/master/FFNetworkSingle-1552984072224.png?raw=true'>"
   ]
  },
  {
   "cell_type": "code",
   "execution_count": 19,
   "metadata": {
    "execution": {
     "iopub.execute_input": "2020-12-03T16:44:43.771944Z",
     "iopub.status.busy": "2020-12-03T16:44:43.756022Z",
     "iopub.status.idle": "2020-12-03T16:44:43.794678Z",
     "shell.execute_reply": "2020-12-03T16:44:43.794015Z"
    },
    "papermill": {
     "duration": 0.092426,
     "end_time": "2020-12-03T16:44:43.794813",
     "exception": false,
     "start_time": "2020-12-03T16:44:43.702387",
     "status": "completed"
    },
    "tags": []
   },
   "outputs": [],
   "source": [
    "class FFSNNetwork:\n",
    "    \n",
    "    def __init__(self, n_inputs, hidden_sizes=[2]):\n",
    "        self.nx = n_inputs\n",
    "        self.ny = 1\n",
    "        self.nh = len(hidden_sizes)\n",
    "        self.sizes = [self.nx] + hidden_sizes + [self.ny]\n",
    "        \n",
    "        self.W = {}\n",
    "        self.B = {}\n",
    "        for i in range(self.nh+1):\n",
    "            self.W[i+1] = np.random.randn(self.sizes[i], self.sizes[i+1])\n",
    "            self.B[i+1] = np.zeros((1, self.sizes[i+1]))\n",
    "        \n",
    "    def sigmoid(self, x):\n",
    "        return 1.0/(1.0 + np.exp(-x))\n",
    "    \n",
    "    def forward_pass(self, x):\n",
    "        self.A = {}\n",
    "        self.H = {}\n",
    "        self.H[0] = x.reshape(1, -1)\n",
    "        for i in range(self.nh+1):\n",
    "            self.A[i+1] = np.matmul(self.H[i], self.W[i+1]) + self.B[i+1]\n",
    "            self.H[i+1] = self.sigmoid(self.A[i+1])\n",
    "        return self.H[self.nh+1]\n",
    "                      \n",
    "    def grad_sigmoid(self, x):\n",
    "        return x * (1-x)\n",
    "    \n",
    "    def grad(self, x, y):\n",
    "        self.forward_pass(x)\n",
    "        self.dW = {}\n",
    "        self.dB = {}\n",
    "        self.dH = {}\n",
    "        self.dA = {}\n",
    "        L = self.nh + 1\n",
    "        self.dA[L] = (self.H[L] - y)\n",
    "        for k in range(L, 0, -1):\n",
    "            self.dW[k] = np.matmul(self.H[k-1].T, self.dA[k])\n",
    "            self.dB[k] = self.dA[k]\n",
    "            self.dH[k-1] = np.matmul(self.dA[k], self.W[k].T)\n",
    "            self.dA[k-1] = np.multiply(self.dH[k-1], self.grad_sigmoid(self.H[k-1]))\n",
    "           \n",
    "       \n",
    "    def fit(self, X, Y, epochs=1, learning_rate=1, initialise=True, display_loss=False):\n",
    "        \n",
    "        # initialise w, b\n",
    "        if initialise:\n",
    "            for i in range(self.nh+1):\n",
    "                self.W[i+1] = np.random.randn(self.sizes[i], self.sizes[i+1])\n",
    "                self.B[i+1] = np.zeros((1, self.sizes[i+1]))\n",
    "                \n",
    "        if display_loss:\n",
    "            loss={}\n",
    "            \n",
    "        for e in tqdm_notebook(range(epochs), total=epochs, unit=\"epoch\"):\n",
    "            dW = {}\n",
    "            dB = {}\n",
    "            for i in range(self.nh+1):\n",
    "                dW[i+1] = np.zeros((self.sizes[i], self.sizes[i+1]))\n",
    "                dB[i+1] = np.zeros((1, self.sizes[i+1]))\n",
    "            \n",
    "            for x, y in zip(X, Y):\n",
    "                self.grad(x, y)\n",
    "                for i in range(self.nh+1):\n",
    "                    dW[i+1] += self.dW[i+1]\n",
    "                    dB[i+1] += self.dB[i+1]\n",
    "            \n",
    "            m = X.shape[1]\n",
    "            for i in range(self.nh+1):\n",
    "                self.W[i+1] -= learning_rate * dW[i+1] / m\n",
    "                self.B[i+1] -= learning_rate * dB[i+1] / m\n",
    "                \n",
    "            if display_loss:\n",
    "                Y_pred = self.predict(X)\n",
    "                loss[e] = mean_squared_error(Y_pred, Y)\n",
    "            \n",
    "        if display_loss:\n",
    "            plt.plot(np.fromiter(loss.values(), dtype = float))\n",
    "            plt.xlabel('Epochs')\n",
    "            plt.ylabel('Mean Squared Error')\n",
    "            plt.show()\n",
    "    \n",
    "    def predict(self, X):\n",
    "        Y_pred = []\n",
    "        for x in X:\n",
    "            y_pred = self.forward_pass(x)\n",
    "            Y_pred.append(y_pred)\n",
    "        return np.array(Y_pred).squeeze()\n",
    "                "
   ]
  },
  {
   "cell_type": "code",
   "execution_count": 20,
   "metadata": {
    "execution": {
     "iopub.execute_input": "2020-12-03T16:44:43.915023Z",
     "iopub.status.busy": "2020-12-03T16:44:43.892349Z",
     "iopub.status.idle": "2020-12-03T16:47:49.501431Z",
     "shell.execute_reply": "2020-12-03T16:47:49.500575Z"
    },
    "papermill": {
     "duration": 185.660404,
     "end_time": "2020-12-03T16:47:49.501604",
     "exception": false,
     "start_time": "2020-12-03T16:44:43.841200",
     "status": "completed"
    },
    "tags": []
   },
   "outputs": [
    {
     "name": "stderr",
     "output_type": "stream",
     "text": [
      "/opt/conda/lib/python3.7/site-packages/ipykernel_launcher.py:56: TqdmDeprecationWarning: This function will be removed in tqdm==5.0.0\n",
      "Please use `tqdm.notebook.tqdm` instead of `tqdm.tqdm_notebook`\n"
     ]
    },
    {
     "data": {
      "application/vnd.jupyter.widget-view+json": {
       "model_id": "1c8d3e7a8841417b87ba84f1e3eeb42c",
       "version_major": 2,
       "version_minor": 0
      },
      "text/plain": [
       "HBox(children=(FloatProgress(value=0.0, max=2000.0), HTML(value='')))"
      ]
     },
     "metadata": {},
     "output_type": "display_data"
    },
    {
     "name": "stdout",
     "output_type": "stream",
     "text": [
      "\n"
     ]
    },
    {
     "data": {
      "image/png": "[encoded data removed]",
      "text/plain": [
       "<Figure size 432x288 with 1 Axes>"
      ]
     },
     "metadata": {
      "needs_background": "light"
     },
     "output_type": "display_data"
    }
   ],
   "source": [
    "ffsnn = FFSNNetwork(2, [2,3])\n",
    "ffsnn.fit(X_train, Y_train, epochs=2000, learning_rate=.001, display_loss=True)"
   ]
  },
  {
   "cell_type": "code",
   "execution_count": 21,
   "metadata": {
    "execution": {
     "iopub.execute_input": "2020-12-03T16:47:49.623516Z",
     "iopub.status.busy": "2020-12-03T16:47:49.618203Z",
     "iopub.status.idle": "2020-12-03T16:47:49.654705Z",
     "shell.execute_reply": "2020-12-03T16:47:49.654089Z"
    },
    "papermill": {
     "duration": 0.103614,
     "end_time": "2020-12-03T16:47:49.654840",
     "exception": false,
     "start_time": "2020-12-03T16:47:49.551226",
     "status": "completed"
    },
    "tags": []
   },
   "outputs": [
    {
     "name": "stdout",
     "output_type": "stream",
     "text": [
      "Training accuracy 0.97\n",
      "Validation accuracy 0.94\n"
     ]
    }
   ],
   "source": [
    "Y_pred_train = ffsnn.predict(X_train)\n",
    "Y_pred_binarised_train = (Y_pred_train >= 0.5).astype(\"int\").ravel()\n",
    "Y_pred_val = ffsnn.predict(X_val)\n",
    "Y_pred_binarised_val = (Y_pred_val >= 0.5).astype(\"int\").ravel()\n",
    "accuracy_train = accuracy_score(Y_pred_binarised_train, Y_train)\n",
    "accuracy_val = accuracy_score(Y_pred_binarised_val, Y_val)\n",
    "\n",
    "print(\"Training accuracy\", round(accuracy_train, 2))\n",
    "print(\"Validation accuracy\", round(accuracy_val, 2))"
   ]
  },
  {
   "cell_type": "code",
   "execution_count": 22,
   "metadata": {
    "execution": {
     "iopub.execute_input": "2020-12-03T16:47:49.776701Z",
     "iopub.status.busy": "2020-12-03T16:47:49.775801Z",
     "iopub.status.idle": "2020-12-03T16:47:49.935559Z",
     "shell.execute_reply": "2020-12-03T16:47:49.934756Z"
    },
    "papermill": {
     "duration": 0.230669,
     "end_time": "2020-12-03T16:47:49.935693",
     "exception": false,
     "start_time": "2020-12-03T16:47:49.705024",
     "status": "completed"
    },
    "tags": []
   },
   "outputs": [
    {
     "data": {
      "image/png": "[encoded data removed]",
      "text/plain": [
       "<Figure size 432x288 with 1 Axes>"
      ]
     },
     "metadata": {
      "needs_background": "light"
     },
     "output_type": "display_data"
    }
   ],
   "source": [
    "plt.scatter(X_train[:,0], X_train[:,1], c=Y_pred_binarised_train, cmap = my_cmap, s=15*(np.abs(Y_pred_binarised_train-Y_train)+.2))\n",
    "plt.show()"
   ]
  },
  {
   "cell_type": "markdown",
   "metadata": {
    "papermill": {
     "duration": 0.050399,
     "end_time": "2020-12-03T16:47:50.036344",
     "exception": false,
     "start_time": "2020-12-03T16:47:49.985945",
     "status": "completed"
    },
    "tags": []
   },
   "source": [
    "### Multi Class Classification"
   ]
  },
  {
   "cell_type": "markdown",
   "metadata": {
    "papermill": {
     "duration": 0.050719,
     "end_time": "2020-12-03T16:47:50.137558",
     "exception": false,
     "start_time": "2020-12-03T16:47:50.086839",
     "status": "completed"
    },
    "tags": []
   },
   "source": [
    "<img src='https://github.com/taruntiwarihp/raw_images/blob/master/FFNetworkMultiClass-1553058835337.png?raw=true'>"
   ]
  },
  {
   "cell_type": "code",
   "execution_count": 23,
   "metadata": {
    "execution": {
     "iopub.execute_input": "2020-12-03T16:47:50.271570Z",
     "iopub.status.busy": "2020-12-03T16:47:50.266088Z",
     "iopub.status.idle": "2020-12-03T16:47:50.307643Z",
     "shell.execute_reply": "2020-12-03T16:47:50.306730Z"
    },
    "papermill": {
     "duration": 0.113963,
     "end_time": "2020-12-03T16:47:50.307788",
     "exception": false,
     "start_time": "2020-12-03T16:47:50.193825",
     "status": "completed"
    },
    "tags": []
   },
   "outputs": [],
   "source": [
    "class FFSN_MultiClass:\n",
    "  \n",
    "  def __init__(self, n_inputs, n_outputs, hidden_sizes=[3]):\n",
    "    self.nx = n_inputs\n",
    "    self.ny = n_outputs\n",
    "    self.nh = len(hidden_sizes)\n",
    "    self.sizes = [self.nx] + hidden_sizes + [self.ny] \n",
    "\n",
    "    self.W = {}\n",
    "    self.B = {}\n",
    "    for i in range(self.nh+1):\n",
    "      self.W[i+1] = np.random.randn(self.sizes[i], self.sizes[i+1])\n",
    "      self.B[i+1] = np.zeros((1, self.sizes[i+1]))\n",
    "      \n",
    "  def sigmoid(self, x):\n",
    "    return 1.0/(1.0 + np.exp(-x))\n",
    "  \n",
    "  def softmax(self, x):\n",
    "    exps = np.exp(x)\n",
    "    return exps / np.sum(exps)\n",
    "\n",
    "  def forward_pass(self, x):\n",
    "    self.A = {}\n",
    "    self.H = {}\n",
    "    self.H[0] = x.reshape(1, -1)\n",
    "    for i in range(self.nh):\n",
    "      self.A[i+1] = np.matmul(self.H[i], self.W[i+1]) + self.B[i+1]\n",
    "      self.H[i+1] = self.sigmoid(self.A[i+1])\n",
    "    self.A[self.nh+1] = np.matmul(self.H[self.nh], self.W[self.nh+1]) + self.B[self.nh+1]\n",
    "    self.H[self.nh+1] = self.softmax(self.A[self.nh+1])\n",
    "    return self.H[self.nh+1]\n",
    "  \n",
    "  def predict(self, X):\n",
    "    Y_pred = []\n",
    "    for x in X:\n",
    "      y_pred = self.forward_pass(x)\n",
    "      Y_pred.append(y_pred)\n",
    "    return np.array(Y_pred).squeeze()\n",
    " \n",
    "  def grad_sigmoid(self, x):\n",
    "    return x*(1-x) \n",
    "  \n",
    "  def cross_entropy(self,label,pred):\n",
    "    yl=np.multiply(pred,label)\n",
    "    yl=yl[yl!=0]\n",
    "    yl=-np.log(yl)\n",
    "    yl=np.mean(yl)\n",
    "    return yl\n",
    " \n",
    "  def grad(self, x, y):\n",
    "    self.forward_pass(x)\n",
    "    self.dW = {}\n",
    "    self.dB = {}\n",
    "    self.dH = {}\n",
    "    self.dA = {}\n",
    "    L = self.nh + 1\n",
    "    self.dA[L] = (self.H[L] - y)\n",
    "    for k in range(L, 0, -1):\n",
    "      self.dW[k] = np.matmul(self.H[k-1].T, self.dA[k])\n",
    "      self.dB[k] = self.dA[k]\n",
    "      self.dH[k-1] = np.matmul(self.dA[k], self.W[k].T)\n",
    "      self.dA[k-1] = np.multiply(self.dH[k-1], self.grad_sigmoid(self.H[k-1])) \n",
    "    \n",
    "  def fit(self, X, Y, epochs=100, initialize='True', learning_rate=0.01, display_loss=False):\n",
    "      \n",
    "    if display_loss:\n",
    "      loss = {}\n",
    "      \n",
    "    if initialize:\n",
    "      for i in range(self.nh+1):\n",
    "        self.W[i+1] = np.random.randn(self.sizes[i], self.sizes[i+1])\n",
    "        self.B[i+1] = np.zeros((1, self.sizes[i+1]))\n",
    "        \n",
    "    for epoch in tqdm_notebook(range(epochs), total=epochs, unit=\"epoch\"):\n",
    "      dW = {}\n",
    "      dB = {}\n",
    "      for i in range(self.nh+1):\n",
    "        dW[i+1] = np.zeros((self.sizes[i], self.sizes[i+1]))\n",
    "        dB[i+1] = np.zeros((1, self.sizes[i+1]))\n",
    "      for x, y in zip(X, Y):\n",
    "        self.grad(x, y)\n",
    "        for i in range(self.nh+1):\n",
    "          dW[i+1] += self.dW[i+1]\n",
    "          dB[i+1] += self.dB[i+1]\n",
    "                  \n",
    "      m = X.shape[1]\n",
    "      for i in range(self.nh+1):\n",
    "        self.W[i+1] -= learning_rate * (dW[i+1]/m)\n",
    "        self.B[i+1] -= learning_rate * (dB[i+1]/m)\n",
    "        \n",
    "      if display_loss:\n",
    "        Y_pred = self.predict(X) \n",
    "        loss[epoch] = self.cross_entropy(Y, Y_pred)\n",
    "    \n",
    "    if display_loss:\n",
    "      plt.plot(np.fromiter(loss.values(), dtype = float))\n",
    "      plt.xlabel('Epochs')\n",
    "      plt.ylabel('CE')\n",
    "      plt.show()"
   ]
  },
  {
   "cell_type": "code",
   "execution_count": 24,
   "metadata": {
    "execution": {
     "iopub.execute_input": "2020-12-03T16:47:50.424652Z",
     "iopub.status.busy": "2020-12-03T16:47:50.423552Z",
     "iopub.status.idle": "2020-12-03T16:47:50.431875Z",
     "shell.execute_reply": "2020-12-03T16:47:50.431135Z"
    },
    "papermill": {
     "duration": 0.067667,
     "end_time": "2020-12-03T16:47:50.432012",
     "exception": false,
     "start_time": "2020-12-03T16:47:50.364345",
     "status": "completed"
    },
    "tags": []
   },
   "outputs": [
    {
     "name": "stdout",
     "output_type": "stream",
     "text": [
      "(750, 2) (250, 2) (1000,)\n"
     ]
    }
   ],
   "source": [
    "X_train, X_val, Y_train, Y_val = train_test_split(data, labels_orig, stratify=labels_orig, random_state=0)\n",
    "print(X_train.shape, X_val.shape, labels_orig.shape)"
   ]
  },
  {
   "cell_type": "code",
   "execution_count": 25,
   "metadata": {
    "execution": {
     "iopub.execute_input": "2020-12-03T16:47:50.542022Z",
     "iopub.status.busy": "2020-12-03T16:47:50.540890Z",
     "iopub.status.idle": "2020-12-03T16:47:50.548616Z",
     "shell.execute_reply": "2020-12-03T16:47:50.549189Z"
    },
    "papermill": {
     "duration": 0.066382,
     "end_time": "2020-12-03T16:47:50.549376",
     "exception": false,
     "start_time": "2020-12-03T16:47:50.482994",
     "status": "completed"
    },
    "tags": []
   },
   "outputs": [
    {
     "name": "stdout",
     "output_type": "stream",
     "text": [
      "(750, 4) (250, 4)\n"
     ]
    }
   ],
   "source": [
    "enc = OneHotEncoder()\n",
    "# 0 -> (1, 0, 0, 0), 1 -> (0, 1, 0, 0), 2 -> (0, 0, 1, 0), 3 -> (0, 0, 0, 1)\n",
    "y_OH_train = enc.fit_transform(np.expand_dims(Y_train,1)).toarray()\n",
    "y_OH_val = enc.fit_transform(np.expand_dims(Y_val,1)).toarray()\n",
    "print(y_OH_train.shape, y_OH_val.shape)"
   ]
  },
  {
   "cell_type": "code",
   "execution_count": 26,
   "metadata": {
    "execution": {
     "iopub.execute_input": "2020-12-03T16:47:50.685540Z",
     "iopub.status.busy": "2020-12-03T16:47:50.684693Z",
     "iopub.status.idle": "2020-12-03T16:51:24.126513Z",
     "shell.execute_reply": "2020-12-03T16:51:24.125697Z"
    },
    "papermill": {
     "duration": 213.524124,
     "end_time": "2020-12-03T16:51:24.126662",
     "exception": false,
     "start_time": "2020-12-03T16:47:50.602538",
     "status": "completed"
    },
    "tags": []
   },
   "outputs": [
    {
     "name": "stderr",
     "output_type": "stream",
     "text": [
      "/opt/conda/lib/python3.7/site-packages/ipykernel_launcher.py:74: TqdmDeprecationWarning: This function will be removed in tqdm==5.0.0\n",
      "Please use `tqdm.notebook.tqdm` instead of `tqdm.tqdm_notebook`\n"
     ]
    },
    {
     "data": {
      "application/vnd.jupyter.widget-view+json": {
       "model_id": "ace6b5cb8766402aa10c896cc33c2278",
       "version_major": 2,
       "version_minor": 0
      },
      "text/plain": [
       "HBox(children=(FloatProgress(value=0.0, max=2000.0), HTML(value='')))"
      ]
     },
     "metadata": {},
     "output_type": "display_data"
    },
    {
     "name": "stdout",
     "output_type": "stream",
     "text": [
      "\n"
     ]
    },
    {
     "data": {
      "image/png": "[encoded data removed]",
      "text/plain": [
       "<Figure size 432x288 with 1 Axes>"
      ]
     },
     "metadata": {
      "needs_background": "light"
     },
     "output_type": "display_data"
    }
   ],
   "source": [
    "ffsn_multi = FFSN_MultiClass(2,4,[2,3])\n",
    "ffsn_multi.fit(X_train,y_OH_train, epochs=2000, learning_rate=.005, display_loss=True)"
   ]
  },
  {
   "cell_type": "code",
   "execution_count": 27,
   "metadata": {
    "execution": {
     "iopub.execute_input": "2020-12-03T16:51:24.274888Z",
     "iopub.status.busy": "2020-12-03T16:51:24.264008Z",
     "iopub.status.idle": "2020-12-03T16:51:24.293567Z",
     "shell.execute_reply": "2020-12-03T16:51:24.294219Z"
    },
    "papermill": {
     "duration": 0.113434,
     "end_time": "2020-12-03T16:51:24.294390",
     "exception": false,
     "start_time": "2020-12-03T16:51:24.180956",
     "status": "completed"
    },
    "tags": []
   },
   "outputs": [
    {
     "name": "stdout",
     "output_type": "stream",
     "text": [
      "Training accuracy 0.91\n",
      "Validation accuracy 0.91\n"
     ]
    }
   ],
   "source": [
    "Y_pred_train = ffsn_multi.predict(X_train)\n",
    "Y_pred_train = np.argmax(Y_pred_train,1)\n",
    "\n",
    "Y_pred_val = ffsn_multi.predict(X_val)\n",
    "Y_pred_val = np.argmax(Y_pred_val,1)\n",
    "\n",
    "accuracy_train = accuracy_score(Y_pred_train, Y_train)\n",
    "accuracy_val = accuracy_score(Y_pred_val, Y_val)\n",
    "\n",
    "print(\"Training accuracy\", round(accuracy_train, 2))\n",
    "print(\"Validation accuracy\", round(accuracy_val, 2))"
   ]
  },
  {
   "cell_type": "code",
   "execution_count": 28,
   "metadata": {
    "execution": {
     "iopub.execute_input": "2020-12-03T16:51:24.417120Z",
     "iopub.status.busy": "2020-12-03T16:51:24.410531Z",
     "iopub.status.idle": "2020-12-03T16:51:24.582425Z",
     "shell.execute_reply": "2020-12-03T16:51:24.581790Z"
    },
    "papermill": {
     "duration": 0.233204,
     "end_time": "2020-12-03T16:51:24.582566",
     "exception": false,
     "start_time": "2020-12-03T16:51:24.349362",
     "status": "completed"
    },
    "tags": []
   },
   "outputs": [
    {
     "data": {
      "image/png": "[encoded data removed]",
      "text/plain": [
       "<Figure size 432x288 with 1 Axes>"
      ]
     },
     "metadata": {
      "needs_background": "light"
     },
     "output_type": "display_data"
    }
   ],
   "source": [
    "plt.scatter(X_train[:,0], X_train[:,1], c=Y_pred_train, cmap=my_cmap, s=15*(np.abs(np.sign(Y_pred_train-Y_train))+.1))\n",
    "plt.show()"
   ]
  },
  {
   "cell_type": "code",
   "execution_count": null,
   "metadata": {
    "papermill": {
     "duration": 0.057769,
     "end_time": "2020-12-03T16:51:24.695790",
     "exception": false,
     "start_time": "2020-12-03T16:51:24.638021",
     "status": "completed"
    },
    "tags": []
   },
   "outputs": [],
   "source": []
  }
 ],
 "metadata": {
  "kernelspec": {
   "display_name": "Python 3",
   "language": "python",
   "name": "python3"
  },
  "language_info": {
   "codemirror_mode": {
    "name": "ipython",
    "version": 3
   },
   "file_extension": ".py",
   "mimetype": "text/x-python",
   "name": "python",
   "nbconvert_exporter": "python",
   "pygments_lexer": "ipython3",
   "version": "3.8.5"
  },
  "papermill": {
   "duration": 555.726459,
   "end_time": "2020-12-03T16:51:24.861432",
   "environment_variables": {},
   "exception": null,
   "input_path": "__notebook__.ipynb",
   "output_path": "__notebook__.ipynb",
   "parameters": {},
   "start_time": "2020-12-03T16:42:09.134973",
   "version": "2.1.0"
  },
  "varInspector": {
   "cols": {
    "lenName": 16,
    "lenType": 16,
    "lenVar": 40
   },
   "kernels_config": {
    "python": {
     "delete_cmd_postfix": "",
     "delete_cmd_prefix": "del ",
     "library": "var_list.py",
     "varRefreshCmd": "print(var_dic_list())"
    },
    "r": {
     "delete_cmd_postfix": ") ",
     "delete_cmd_prefix": "rm(",
     "library": "var_list.r",
     "varRefreshCmd": "cat(var_dic_list()) "
    }
   },
   "types_to_exclude": [
    "module",
    "function",
    "builtin_function_or_method",
    "instance",
    "_Feature"
   ],
   "window_display": false
  },
  "widgets": {
   "application/vnd.jupyter.widget-state+json": {
    "state": {
     "0653fe88278b49a6b8002fc742634314": {
      "model_module": "@jupyter-widgets/base",
      "model_module_version": "1.2.0",
      "model_name": "LayoutModel",
      "state": {
       "_model_module": "@jupyter-widgets/base",
       "_model_module_version": "1.2.0",
       "_model_name": "LayoutModel",
       "_view_count": null,
       "_view_module": "@jupyter-widgets/base",
       "_view_module_version": "1.2.0",
       "_view_name": "LayoutView",
       "align_content": null,
       "align_items": null,
       "align_self": null,
       "border": null,
       "bottom": null,
       "display": null,
       "flex": null,
       "flex_flow": null,
       "grid_area": null,
       "grid_auto_columns": null,
       "grid_auto_flow": null,
       "grid_auto_rows": null,
       "grid_column": null,
       "grid_gap": null,
       "grid_row": null,
       "grid_template_areas": null,
       "grid_template_columns": null,
       "grid_template_rows": null,
       "height": null,
       "justify_content": null,
       "justify_items": null,
       "left": null,
       "margin": null,
       "max_height": null,
       "max_width": null,
       "min_height": null,
       "min_width": null,
       "object_fit": null,
       "object_position": null,
       "order": null,
       "overflow": null,
       "overflow_x": null,
       "overflow_y": null,
       "padding": null,
       "right": null,
       "top": null,
       "visibility": null,
       "width": null
      }
     },
     "1417f8b110084f9483decdbf4d7a8dd4": {
      "model_module": "@jupyter-widgets/controls",
      "model_module_version": "1.5.0",
      "model_name": "HTMLModel",
      "state": {
       "_dom_classes": [],
       "_model_module": "@jupyter-widgets/controls",
       "_model_module_version": "1.5.0",
       "_model_name": "HTMLModel",
       "_view_count": null,
       "_view_module": "@jupyter-widgets/controls",
       "_view_module_version": "1.5.0",
       "_view_name": "HTMLView",
       "description": "",
       "description_tooltip": null,
       "layout": "IPY_MODEL_52e2ebdb4531457b85132fa0ccbc09a3",
       "placeholder": "​",
       "style": "IPY_MODEL_8ea9bab945214e638aa476eb0fcaf444",
       "value": " 2000/2000 [01:42&lt;00:00, 19.61epoch/s]"
      }
     },
     "1c8d3e7a8841417b87ba84f1e3eeb42c": {
      "model_module": "@jupyter-widgets/controls",
      "model_module_version": "1.5.0",
      "model_name": "HBoxModel",
      "state": {
       "_dom_classes": [],
       "_model_module": "@jupyter-widgets/controls",
       "_model_module_version": "1.5.0",
       "_model_name": "HBoxModel",
       "_view_count": null,
       "_view_module": "@jupyter-widgets/controls",
       "_view_module_version": "1.5.0",
       "_view_name": "HBoxView",
       "box_style": "",
       "children": [
        "IPY_MODEL_cc4d122dbdaa48eabdcc3f2ddbe6c620",
        "IPY_MODEL_f3dee60c28524b7c913870258bf5ae67"
       ],
       "layout": "IPY_MODEL_76bcb653b03744e099494d43309d7c6c"
      }
     },
     "4610b8d438834262bfa85ec956a21b32": {
      "model_module": "@jupyter-widgets/controls",
      "model_module_version": "1.5.0",
      "model_name": "DescriptionStyleModel",
      "state": {
       "_model_module": "@jupyter-widgets/controls",
       "_model_module_version": "1.5.0",
       "_model_name": "DescriptionStyleModel",
       "_view_count": null,
       "_view_module": "@jupyter-widgets/base",
       "_view_module_version": "1.2.0",
       "_view_name": "StyleView",
       "description_width": ""
      }
     },
     "4aff66bfb2ad4380b2e46daf1f499d76": {
      "model_module": "@jupyter-widgets/controls",
      "model_module_version": "1.5.0",
      "model_name": "FloatProgressModel",
      "state": {
       "_dom_classes": [],
       "_model_module": "@jupyter-widgets/controls",
       "_model_module_version": "1.5.0",
       "_model_name": "FloatProgressModel",
       "_view_count": null,
       "_view_module": "@jupyter-widgets/controls",
       "_view_module_version": "1.5.0",
       "_view_name": "ProgressView",
       "bar_style": "success",
       "description": "100%",
       "description_tooltip": null,
       "layout": "IPY_MODEL_e7a5ac08f54f415ea7dd9a8626083eca",
       "max": 2000,
       "min": 0,
       "orientation": "horizontal",
       "style": "IPY_MODEL_6bfe931f5953460bad7f0afaa58ef758",
       "value": 2000
      }
     },
     "4c6df9fb5aff491f97f29788a7ddbd1c": {
      "model_module": "@jupyter-widgets/base",
      "model_module_version": "1.2.0",
      "model_name": "LayoutModel",
      "state": {
       "_model_module": "@jupyter-widgets/base",
       "_model_module_version": "1.2.0",
       "_model_name": "LayoutModel",
       "_view_count": null,
       "_view_module": "@jupyter-widgets/base",
       "_view_module_version": "1.2.0",
       "_view_name": "LayoutView",
       "align_content": null,
       "align_items": null,
       "align_self": null,
       "border": null,
       "bottom": null,
       "display": null,
       "flex": null,
       "flex_flow": null,
       "grid_area": null,
       "grid_auto_columns": null,
       "grid_auto_flow": null,
       "grid_auto_rows": null,
       "grid_column": null,
       "grid_gap": null,
       "grid_row": null,
       "grid_template_areas": null,
       "grid_template_columns": null,
       "grid_template_rows": null,
       "height": null,
       "justify_content": null,
       "justify_items": null,
       "left": null,
       "margin": null,
       "max_height": null,
       "max_width": null,
       "min_height": null,
       "min_width": null,
       "object_fit": null,
       "object_position": null,
       "order": null,
       "overflow": null,
       "overflow_x": null,
       "overflow_y": null,
       "padding": null,
       "right": null,
       "top": null,
       "visibility": null,
       "width": null
      }
     },
     "4d8c31b1ba1e43e29090f131cd9f327e": {
      "model_module": "@jupyter-widgets/controls",
      "model_module_version": "1.5.0",
      "model_name": "HBoxModel",
      "state": {
       "_dom_classes": [],
       "_model_module": "@jupyter-widgets/controls",
       "_model_module_version": "1.5.0",
       "_model_name": "HBoxModel",
       "_view_count": null,
       "_view_module": "@jupyter-widgets/controls",
       "_view_module_version": "1.5.0",
       "_view_name": "HBoxView",
       "box_style": "",
       "children": [
        "IPY_MODEL_a1d3d2aeb03b4d7191a221009b08559c",
        "IPY_MODEL_1417f8b110084f9483decdbf4d7a8dd4"
       ],
       "layout": "IPY_MODEL_a90a4626cb1d404885f60036e94c8145"
      }
     },
     "52e2ebdb4531457b85132fa0ccbc09a3": {
      "model_module": "@jupyter-widgets/base",
      "model_module_version": "1.2.0",
      "model_name": "LayoutModel",
      "state": {
       "_model_module": "@jupyter-widgets/base",
       "_model_module_version": "1.2.0",
       "_model_name": "LayoutModel",
       "_view_count": null,
       "_view_module": "@jupyter-widgets/base",
       "_view_module_version": "1.2.0",
       "_view_name": "LayoutView",
       "align_content": null,
       "align_items": null,
       "align_self": null,
       "border": null,
       "bottom": null,
       "display": null,
       "flex": null,
       "flex_flow": null,
       "grid_area": null,
       "grid_auto_columns": null,
       "grid_auto_flow": null,
       "grid_auto_rows": null,
       "grid_column": null,
       "grid_gap": null,
       "grid_row": null,
       "grid_template_areas": null,
       "grid_template_columns": null,
       "grid_template_rows": null,
       "height": null,
       "justify_content": null,
       "justify_items": null,
       "left": null,
       "margin": null,
       "max_height": null,
       "max_width": null,
       "min_height": null,
       "min_width": null,
       "object_fit": null,
       "object_position": null,
       "order": null,
       "overflow": null,
       "overflow_x": null,
       "overflow_y": null,
       "padding": null,
       "right": null,
       "top": null,
       "visibility": null,
       "width": null
      }
     },
     "54cb92f0eb8f4021b475407805fa55a1": {
      "model_module": "@jupyter-widgets/controls",
      "model_module_version": "1.5.0",
      "model_name": "ProgressStyleModel",
      "state": {
       "_model_module": "@jupyter-widgets/controls",
       "_model_module_version": "1.5.0",
       "_model_name": "ProgressStyleModel",
       "_view_count": null,
       "_view_module": "@jupyter-widgets/base",
       "_view_module_version": "1.2.0",
       "_view_name": "StyleView",
       "bar_color": null,
       "description_width": "initial"
      }
     },
     "6911ca717d914e3cbdeb73f7093c24f8": {
      "model_module": "@jupyter-widgets/controls",
      "model_module_version": "1.5.0",
      "model_name": "HTMLModel",
      "state": {
       "_dom_classes": [],
       "_model_module": "@jupyter-widgets/controls",
       "_model_module_version": "1.5.0",
       "_model_name": "HTMLModel",
       "_view_count": null,
       "_view_module": "@jupyter-widgets/controls",
       "_view_module_version": "1.5.0",
       "_view_name": "HTMLView",
       "description": "",
       "description_tooltip": null,
       "layout": "IPY_MODEL_0653fe88278b49a6b8002fc742634314",
       "placeholder": "​",
       "style": "IPY_MODEL_920534fa5e5d49da91a82d65b09e4d65",
       "value": " 1000/1000 [00:42&lt;00:00, 23.54epochs/s]"
      }
     },
     "6bfe931f5953460bad7f0afaa58ef758": {
      "model_module": "@jupyter-widgets/controls",
      "model_module_version": "1.5.0",
      "model_name": "ProgressStyleModel",
      "state": {
       "_model_module": "@jupyter-widgets/controls",
       "_model_module_version": "1.5.0",
       "_model_name": "ProgressStyleModel",
       "_view_count": null,
       "_view_module": "@jupyter-widgets/base",
       "_view_module_version": "1.2.0",
       "_view_name": "StyleView",
       "bar_color": null,
       "description_width": "initial"
      }
     },
     "6d01f43d10ba44b09955bbe332e86dd8": {
      "model_module": "@jupyter-widgets/controls",
      "model_module_version": "1.5.0",
      "model_name": "FloatProgressModel",
      "state": {
       "_dom_classes": [],
       "_model_module": "@jupyter-widgets/controls",
       "_model_module_version": "1.5.0",
       "_model_name": "FloatProgressModel",
       "_view_count": null,
       "_view_module": "@jupyter-widgets/controls",
       "_view_module_version": "1.5.0",
       "_view_name": "ProgressView",
       "bar_style": "success",
       "description": "100%",
       "description_tooltip": null,
       "layout": "IPY_MODEL_f6a9f2d0ac964d12a5b78e79a7c20b2c",
       "max": 1000,
       "min": 0,
       "orientation": "horizontal",
       "style": "IPY_MODEL_54cb92f0eb8f4021b475407805fa55a1",
       "value": 1000
      }
     },
     "76bcb653b03744e099494d43309d7c6c": {
      "model_module": "@jupyter-widgets/base",
      "model_module_version": "1.2.0",
      "model_name": "LayoutModel",
      "state": {
       "_model_module": "@jupyter-widgets/base",
       "_model_module_version": "1.2.0",
       "_model_name": "LayoutModel",
       "_view_count": null,
       "_view_module": "@jupyter-widgets/base",
       "_view_module_version": "1.2.0",
       "_view_name": "LayoutView",
       "align_content": null,
       "align_items": null,
       "align_self": null,
       "border": null,
       "bottom": null,
       "display": null,
       "flex": null,
       "flex_flow": null,
       "grid_area": null,
       "grid_auto_columns": null,
       "grid_auto_flow": null,
       "grid_auto_rows": null,
       "grid_column": null,
       "grid_gap": null,
       "grid_row": null,
       "grid_template_areas": null,
       "grid_template_columns": null,
       "grid_template_rows": null,
       "height": null,
       "justify_content": null,
       "justify_items": null,
       "left": null,
       "margin": null,
       "max_height": null,
       "max_width": null,
       "min_height": null,
       "min_width": null,
       "object_fit": null,
       "object_position": null,
       "order": null,
       "overflow": null,
       "overflow_x": null,
       "overflow_y": null,
       "padding": null,
       "right": null,
       "top": null,
       "visibility": null,
       "width": null
      }
     },
     "7c343c5883f3406ca89fe87dd342e806": {
      "model_module": "@jupyter-widgets/base",
      "model_module_version": "1.2.0",
      "model_name": "LayoutModel",
      "state": {
       "_model_module": "@jupyter-widgets/base",
       "_model_module_version": "1.2.0",
       "_model_name": "LayoutModel",
       "_view_count": null,
       "_view_module": "@jupyter-widgets/base",
       "_view_module_version": "1.2.0",
       "_view_name": "LayoutView",
       "align_content": null,
       "align_items": null,
       "align_self": null,
       "border": null,
       "bottom": null,
       "display": null,
       "flex": null,
       "flex_flow": null,
       "grid_area": null,
       "grid_auto_columns": null,
       "grid_auto_flow": null,
       "grid_auto_rows": null,
       "grid_column": null,
       "grid_gap": null,
       "grid_row": null,
       "grid_template_areas": null,
       "grid_template_columns": null,
       "grid_template_rows": null,
       "height": null,
       "justify_content": null,
       "justify_items": null,
       "left": null,
       "margin": null,
       "max_height": null,
       "max_width": null,
       "min_height": null,
       "min_width": null,
       "object_fit": null,
       "object_position": null,
       "order": null,
       "overflow": null,
       "overflow_x": null,
       "overflow_y": null,
       "padding": null,
       "right": null,
       "top": null,
       "visibility": null,
       "width": null
      }
     },
     "855a1af24b914c4bb92ee0ebaf6d68d9": {
      "model_module": "@jupyter-widgets/base",
      "model_module_version": "1.2.0",
      "model_name": "LayoutModel",
      "state": {
       "_model_module": "@jupyter-widgets/base",
       "_model_module_version": "1.2.0",
       "_model_name": "LayoutModel",
       "_view_count": null,
       "_view_module": "@jupyter-widgets/base",
       "_view_module_version": "1.2.0",
       "_view_name": "LayoutView",
       "align_content": null,
       "align_items": null,
       "align_self": null,
       "border": null,
       "bottom": null,
       "display": null,
       "flex": null,
       "flex_flow": null,
       "grid_area": null,
       "grid_auto_columns": null,
       "grid_auto_flow": null,
       "grid_auto_rows": null,
       "grid_column": null,
       "grid_gap": null,
       "grid_row": null,
       "grid_template_areas": null,
       "grid_template_columns": null,
       "grid_template_rows": null,
       "height": null,
       "justify_content": null,
       "justify_items": null,
       "left": null,
       "margin": null,
       "max_height": null,
       "max_width": null,
       "min_height": null,
       "min_width": null,
       "object_fit": null,
       "object_position": null,
       "order": null,
       "overflow": null,
       "overflow_x": null,
       "overflow_y": null,
       "padding": null,
       "right": null,
       "top": null,
       "visibility": null,
       "width": null
      }
     },
     "8e110b0e85ec4972af685f87384ab488": {
      "model_module": "@jupyter-widgets/controls",
      "model_module_version": "1.5.0",
      "model_name": "DescriptionStyleModel",
      "state": {
       "_model_module": "@jupyter-widgets/controls",
       "_model_module_version": "1.5.0",
       "_model_name": "DescriptionStyleModel",
       "_view_count": null,
       "_view_module": "@jupyter-widgets/base",
       "_view_module_version": "1.2.0",
       "_view_name": "StyleView",
       "description_width": ""
      }
     },
     "8ea9bab945214e638aa476eb0fcaf444": {
      "model_module": "@jupyter-widgets/controls",
      "model_module_version": "1.5.0",
      "model_name": "DescriptionStyleModel",
      "state": {
       "_model_module": "@jupyter-widgets/controls",
       "_model_module_version": "1.5.0",
       "_model_name": "DescriptionStyleModel",
       "_view_count": null,
       "_view_module": "@jupyter-widgets/base",
       "_view_module_version": "1.2.0",
       "_view_name": "StyleView",
       "description_width": ""
      }
     },
     "920534fa5e5d49da91a82d65b09e4d65": {
      "model_module": "@jupyter-widgets/controls",
      "model_module_version": "1.5.0",
      "model_name": "DescriptionStyleModel",
      "state": {
       "_model_module": "@jupyter-widgets/controls",
       "_model_module_version": "1.5.0",
       "_model_name": "DescriptionStyleModel",
       "_view_count": null,
       "_view_module": "@jupyter-widgets/base",
       "_view_module_version": "1.2.0",
       "_view_name": "StyleView",
       "description_width": ""
      }
     },
     "a1d3d2aeb03b4d7191a221009b08559c": {
      "model_module": "@jupyter-widgets/controls",
      "model_module_version": "1.5.0",
      "model_name": "FloatProgressModel",
      "state": {
       "_dom_classes": [],
       "_model_module": "@jupyter-widgets/controls",
       "_model_module_version": "1.5.0",
       "_model_name": "FloatProgressModel",
       "_view_count": null,
       "_view_module": "@jupyter-widgets/controls",
       "_view_module_version": "1.5.0",
       "_view_name": "ProgressView",
       "bar_style": "success",
       "description": "100%",
       "description_tooltip": null,
       "layout": "IPY_MODEL_4c6df9fb5aff491f97f29788a7ddbd1c",
       "max": 2000,
       "min": 0,
       "orientation": "horizontal",
       "style": "IPY_MODEL_a242ca2a10874d21b7780815bf193432",
       "value": 2000
      }
     },
     "a242ca2a10874d21b7780815bf193432": {
      "model_module": "@jupyter-widgets/controls",
      "model_module_version": "1.5.0",
      "model_name": "ProgressStyleModel",
      "state": {
       "_model_module": "@jupyter-widgets/controls",
       "_model_module_version": "1.5.0",
       "_model_name": "ProgressStyleModel",
       "_view_count": null,
       "_view_module": "@jupyter-widgets/base",
       "_view_module_version": "1.2.0",
       "_view_name": "StyleView",
       "bar_color": null,
       "description_width": "initial"
      }
     },
     "a90a4626cb1d404885f60036e94c8145": {
      "model_module": "@jupyter-widgets/base",
      "model_module_version": "1.2.0",
      "model_name": "LayoutModel",
      "state": {
       "_model_module": "@jupyter-widgets/base",
       "_model_module_version": "1.2.0",
       "_model_name": "LayoutModel",
       "_view_count": null,
       "_view_module": "@jupyter-widgets/base",
       "_view_module_version": "1.2.0",
       "_view_name": "LayoutView",
       "align_content": null,
       "align_items": null,
       "align_self": null,
       "border": null,
       "bottom": null,
       "display": null,
       "flex": null,
       "flex_flow": null,
       "grid_area": null,
       "grid_auto_columns": null,
       "grid_auto_flow": null,
       "grid_auto_rows": null,
       "grid_column": null,
       "grid_gap": null,
       "grid_row": null,
       "grid_template_areas": null,
       "grid_template_columns": null,
       "grid_template_rows": null,
       "height": null,
       "justify_content": null,
       "justify_items": null,
       "left": null,
       "margin": null,
       "max_height": null,
       "max_width": null,
       "min_height": null,
       "min_width": null,
       "object_fit": null,
       "object_position": null,
       "order": null,
       "overflow": null,
       "overflow_x": null,
       "overflow_y": null,
       "padding": null,
       "right": null,
       "top": null,
       "visibility": null,
       "width": null
      }
     },
     "ace6b5cb8766402aa10c896cc33c2278": {
      "model_module": "@jupyter-widgets/controls",
      "model_module_version": "1.5.0",
      "model_name": "HBoxModel",
      "state": {
       "_dom_classes": [],
       "_model_module": "@jupyter-widgets/controls",
       "_model_module_version": "1.5.0",
       "_model_name": "HBoxModel",
       "_view_count": null,
       "_view_module": "@jupyter-widgets/controls",
       "_view_module_version": "1.5.0",
       "_view_name": "HBoxView",
       "box_style": "",
       "children": [
        "IPY_MODEL_4aff66bfb2ad4380b2e46daf1f499d76",
        "IPY_MODEL_e24d3d3bd4c047968f4b3ea5e1aeadec"
       ],
       "layout": "IPY_MODEL_7c343c5883f3406ca89fe87dd342e806"
      }
     },
     "c5e9ca968dbe4a128e6283a41bc9f685": {
      "model_module": "@jupyter-widgets/controls",
      "model_module_version": "1.5.0",
      "model_name": "ProgressStyleModel",
      "state": {
       "_model_module": "@jupyter-widgets/controls",
       "_model_module_version": "1.5.0",
       "_model_name": "ProgressStyleModel",
       "_view_count": null,
       "_view_module": "@jupyter-widgets/base",
       "_view_module_version": "1.2.0",
       "_view_name": "StyleView",
       "bar_color": null,
       "description_width": "initial"
      }
     },
     "cb5e3dc624f443948748c7b98b680ffa": {
      "model_module": "@jupyter-widgets/controls",
      "model_module_version": "1.5.0",
      "model_name": "HBoxModel",
      "state": {
       "_dom_classes": [],
       "_model_module": "@jupyter-widgets/controls",
       "_model_module_version": "1.5.0",
       "_model_name": "HBoxModel",
       "_view_count": null,
       "_view_module": "@jupyter-widgets/controls",
       "_view_module_version": "1.5.0",
       "_view_name": "HBoxView",
       "box_style": "",
       "children": [
        "IPY_MODEL_6d01f43d10ba44b09955bbe332e86dd8",
        "IPY_MODEL_6911ca717d914e3cbdeb73f7093c24f8"
       ],
       "layout": "IPY_MODEL_ee7915d924b842609af2ab049ae72e90"
      }
     },
     "cc4d122dbdaa48eabdcc3f2ddbe6c620": {
      "model_module": "@jupyter-widgets/controls",
      "model_module_version": "1.5.0",
      "model_name": "FloatProgressModel",
      "state": {
       "_dom_classes": [],
       "_model_module": "@jupyter-widgets/controls",
       "_model_module_version": "1.5.0",
       "_model_name": "FloatProgressModel",
       "_view_count": null,
       "_view_module": "@jupyter-widgets/controls",
       "_view_module_version": "1.5.0",
       "_view_name": "ProgressView",
       "bar_style": "success",
       "description": "100%",
       "description_tooltip": null,
       "layout": "IPY_MODEL_f04bb53f17bd4208923a94800d3ff8a5",
       "max": 2000,
       "min": 0,
       "orientation": "horizontal",
       "style": "IPY_MODEL_c5e9ca968dbe4a128e6283a41bc9f685",
       "value": 2000
      }
     },
     "cf883e1e243d4ace8e0625351c6f8370": {
      "model_module": "@jupyter-widgets/base",
      "model_module_version": "1.2.0",
      "model_name": "LayoutModel",
      "state": {
       "_model_module": "@jupyter-widgets/base",
       "_model_module_version": "1.2.0",
       "_model_name": "LayoutModel",
       "_view_count": null,
       "_view_module": "@jupyter-widgets/base",
       "_view_module_version": "1.2.0",
       "_view_name": "LayoutView",
       "align_content": null,
       "align_items": null,
       "align_self": null,
       "border": null,
       "bottom": null,
       "display": null,
       "flex": null,
       "flex_flow": null,
       "grid_area": null,
       "grid_auto_columns": null,
       "grid_auto_flow": null,
       "grid_auto_rows": null,
       "grid_column": null,
       "grid_gap": null,
       "grid_row": null,
       "grid_template_areas": null,
       "grid_template_columns": null,
       "grid_template_rows": null,
       "height": null,
       "justify_content": null,
       "justify_items": null,
       "left": null,
       "margin": null,
       "max_height": null,
       "max_width": null,
       "min_height": null,
       "min_width": null,
       "object_fit": null,
       "object_position": null,
       "order": null,
       "overflow": null,
       "overflow_x": null,
       "overflow_y": null,
       "padding": null,
       "right": null,
       "top": null,
       "visibility": null,
       "width": null
      }
     },
     "e24d3d3bd4c047968f4b3ea5e1aeadec": {
      "model_module": "@jupyter-widgets/controls",
      "model_module_version": "1.5.0",
      "model_name": "HTMLModel",
      "state": {
       "_dom_classes": [],
       "_model_module": "@jupyter-widgets/controls",
       "_model_module_version": "1.5.0",
       "_model_name": "HTMLModel",
       "_view_count": null,
       "_view_module": "@jupyter-widgets/controls",
       "_view_module_version": "1.5.0",
       "_view_name": "HTMLView",
       "description": "",
       "description_tooltip": null,
       "layout": "IPY_MODEL_855a1af24b914c4bb92ee0ebaf6d68d9",
       "placeholder": "​",
       "style": "IPY_MODEL_8e110b0e85ec4972af685f87384ab488",
       "value": " 2000/2000 [03:33&lt;00:00,  9.38epoch/s]"
      }
     },
     "e7a5ac08f54f415ea7dd9a8626083eca": {
      "model_module": "@jupyter-widgets/base",
      "model_module_version": "1.2.0",
      "model_name": "LayoutModel",
      "state": {
       "_model_module": "@jupyter-widgets/base",
       "_model_module_version": "1.2.0",
       "_model_name": "LayoutModel",
       "_view_count": null,
       "_view_module": "@jupyter-widgets/base",
       "_view_module_version": "1.2.0",
       "_view_name": "LayoutView",
       "align_content": null,
       "align_items": null,
       "align_self": null,
       "border": null,
       "bottom": null,
       "display": null,
       "flex": null,
       "flex_flow": null,
       "grid_area": null,
       "grid_auto_columns": null,
       "grid_auto_flow": null,
       "grid_auto_rows": null,
       "grid_column": null,
       "grid_gap": null,
       "grid_row": null,
       "grid_template_areas": null,
       "grid_template_columns": null,
       "grid_template_rows": null,
       "height": null,
       "justify_content": null,
       "justify_items": null,
       "left": null,
       "margin": null,
       "max_height": null,
       "max_width": null,
       "min_height": null,
       "min_width": null,
       "object_fit": null,
       "object_position": null,
       "order": null,
       "overflow": null,
       "overflow_x": null,
       "overflow_y": null,
       "padding": null,
       "right": null,
       "top": null,
       "visibility": null,
       "width": null
      }
     },
     "ee7915d924b842609af2ab049ae72e90": {
      "model_module": "@jupyter-widgets/base",
      "model_module_version": "1.2.0",
      "model_name": "LayoutModel",
      "state": {
       "_model_module": "@jupyter-widgets/base",
       "_model_module_version": "1.2.0",
       "_model_name": "LayoutModel",
       "_view_count": null,
       "_view_module": "@jupyter-widgets/base",
       "_view_module_version": "1.2.0",
       "_view_name": "LayoutView",
       "align_content": null,
       "align_items": null,
       "align_self": null,
       "border": null,
       "bottom": null,
       "display": null,
       "flex": null,
       "flex_flow": null,
       "grid_area": null,
       "grid_auto_columns": null,
       "grid_auto_flow": null,
       "grid_auto_rows": null,
       "grid_column": null,
       "grid_gap": null,
       "grid_row": null,
       "grid_template_areas": null,
       "grid_template_columns": null,
       "grid_template_rows": null,
       "height": null,
       "justify_content": null,
       "justify_items": null,
       "left": null,
       "margin": null,
       "max_height": null,
       "max_width": null,
       "min_height": null,
       "min_width": null,
       "object_fit": null,
       "object_position": null,
       "order": null,
       "overflow": null,
       "overflow_x": null,
       "overflow_y": null,
       "padding": null,
       "right": null,
       "top": null,
       "visibility": null,
       "width": null
      }
     },
     "f04bb53f17bd4208923a94800d3ff8a5": {
      "model_module": "@jupyter-widgets/base",
      "model_module_version": "1.2.0",
      "model_name": "LayoutModel",
      "state": {
       "_model_module": "@jupyter-widgets/base",
       "_model_module_version": "1.2.0",
       "_model_name": "LayoutModel",
       "_view_count": null,
       "_view_module": "@jupyter-widgets/base",
       "_view_module_version": "1.2.0",
       "_view_name": "LayoutView",
       "align_content": null,
       "align_items": null,
       "align_self": null,
       "border": null,
       "bottom": null,
       "display": null,
       "flex": null,
       "flex_flow": null,
       "grid_area": null,
       "grid_auto_columns": null,
       "grid_auto_flow": null,
       "grid_auto_rows": null,
       "grid_column": null,
       "grid_gap": null,
       "grid_row": null,
       "grid_template_areas": null,
       "grid_template_columns": null,
       "grid_template_rows": null,
       "height": null,
       "justify_content": null,
       "justify_items": null,
       "left": null,
       "margin": null,
       "max_height": null,
       "max_width": null,
       "min_height": null,
       "min_width": null,
       "object_fit": null,
       "object_position": null,
       "order": null,
       "overflow": null,
       "overflow_x": null,
       "overflow_y": null,
       "padding": null,
       "right": null,
       "top": null,
       "visibility": null,
       "width": null
      }
     },
     "f3dee60c28524b7c913870258bf5ae67": {
      "model_module": "@jupyter-widgets/controls",
      "model_module_version": "1.5.0",
      "model_name": "HTMLModel",
      "state": {
       "_dom_classes": [],
       "_model_module": "@jupyter-widgets/controls",
       "_model_module_version": "1.5.0",
       "_model_name": "HTMLModel",
       "_view_count": null,
       "_view_module": "@jupyter-widgets/controls",
       "_view_module_version": "1.5.0",
       "_view_name": "HTMLView",
       "description": "",
       "description_tooltip": null,
       "layout": "IPY_MODEL_cf883e1e243d4ace8e0625351c6f8370",
       "placeholder": "​",
       "style": "IPY_MODEL_4610b8d438834262bfa85ec956a21b32",
       "value": " 2000/2000 [03:05&lt;00:00, 10.79epoch/s]"
      }
     },
     "f6a9f2d0ac964d12a5b78e79a7c20b2c": {
      "model_module": "@jupyter-widgets/base",
      "model_module_version": "1.2.0",
      "model_name": "LayoutModel",
      "state": {
       "_model_module": "@jupyter-widgets/base",
       "_model_module_version": "1.2.0",
       "_model_name": "LayoutModel",
       "_view_count": null,
       "_view_module": "@jupyter-widgets/base",
       "_view_module_version": "1.2.0",
       "_view_name": "LayoutView",
       "align_content": null,
       "align_items": null,
       "align_self": null,
       "border": null,
       "bottom": null,
       "display": null,
       "flex": null,
       "flex_flow": null,
       "grid_area": null,
       "grid_auto_columns": null,
       "grid_auto_flow": null,
       "grid_auto_rows": null,
       "grid_column": null,
       "grid_gap": null,
       "grid_row": null,
       "grid_template_areas": null,
       "grid_template_columns": null,
       "grid_template_rows": null,
       "height": null,
       "justify_content": null,
       "justify_items": null,
       "left": null,
       "margin": null,
       "max_height": null,
       "max_width": null,
       "min_height": null,
       "min_width": null,
       "object_fit": null,
       "object_position": null,
       "order": null,
       "overflow": null,
       "overflow_x": null,
       "overflow_y": null,
       "padding": null,
       "right": null,
       "top": null,
       "visibility": null,
       "width": null
      }
     }
    },
    "version_major": 2,
    "version_minor": 0
   }
  }
 },
 "nbformat": 4,
 "nbformat_minor": 4
}
