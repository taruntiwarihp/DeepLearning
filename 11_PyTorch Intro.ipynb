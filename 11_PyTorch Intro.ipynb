{
 "cells": [
  {
   "cell_type": "markdown",
   "metadata": {
    "papermill": {
     "duration": 0.035647,
     "end_time": "2020-12-30T12:09:21.864120",
     "exception": false,
     "start_time": "2020-12-30T12:09:21.828473",
     "status": "completed"
    },
    "tags": []
   },
   "source": [
    "### Outline\n",
    "\n",
    "* PyTorch\n",
    "* What are tensors\n",
    "* Initialising, slicing, reshaping tensors\n",
    "* Numpy and PyTorch interfacing \n",
    "* GPU support for PyTorch + Enabling GPUs on Kaggle\n",
    "* Speed comparisons, Numpy -- PyTorch -- PyTorch on GPU\n",
    "* Autodiff concepts and application\n",
    "* Writing a basic learning loop using autograd"
   ]
  },
  {
   "cell_type": "code",
   "execution_count": 1,
   "metadata": {
    "_cell_guid": "79c7e3d0-c299-4dcb-8224-4455121ee9b0",
    "_uuid": "d629ff2d2480ee46fbb7e2d37f6b5fab8052498a",
    "execution": {
     "iopub.execute_input": "2020-12-30T12:09:21.938995Z",
     "iopub.status.busy": "2020-12-30T12:09:21.938267Z",
     "iopub.status.idle": "2020-12-30T12:09:23.314395Z",
     "shell.execute_reply": "2020-12-30T12:09:23.313772Z"
    },
    "papermill": {
     "duration": 1.415576,
     "end_time": "2020-12-30T12:09:23.314543",
     "exception": false,
     "start_time": "2020-12-30T12:09:21.898967",
     "status": "completed"
    },
    "tags": []
   },
   "outputs": [],
   "source": [
    "import torch \n",
    "import numpy as np"
   ]
  },
  {
   "cell_type": "markdown",
   "metadata": {
    "papermill": {
     "duration": 0.034867,
     "end_time": "2020-12-30T12:09:23.384679",
     "exception": false,
     "start_time": "2020-12-30T12:09:23.349812",
     "status": "completed"
    },
    "tags": []
   },
   "source": [
    "### Initialise Tensors"
   ]
  },
  {
   "cell_type": "code",
   "execution_count": 2,
   "metadata": {
    "execution": {
     "iopub.execute_input": "2020-12-30T12:09:23.497246Z",
     "iopub.status.busy": "2020-12-30T12:09:23.496524Z",
     "iopub.status.idle": "2020-12-30T12:09:23.576067Z",
     "shell.execute_reply": "2020-12-30T12:09:23.576605Z"
    },
    "papermill": {
     "duration": 0.123634,
     "end_time": "2020-12-30T12:09:23.576741",
     "exception": false,
     "start_time": "2020-12-30T12:09:23.453107",
     "status": "completed"
    },
    "tags": []
   },
   "outputs": [
    {
     "name": "stdout",
     "output_type": "stream",
     "text": [
      "tensor([[1., 1.],\n",
      "        [1., 1.],\n",
      "        [1., 1.]])\n",
      "tensor([[0., 0.],\n",
      "        [0., 0.],\n",
      "        [0., 0.]])\n",
      "tensor([[0.7018, 0.9004],\n",
      "        [0.2214, 0.9275],\n",
      "        [0.5580, 0.4482]])\n"
     ]
    }
   ],
   "source": [
    "x = torch.ones(3, 2)\n",
    "print(x)\n",
    "x = torch.zeros(3, 2)\n",
    "print(x)\n",
    "x = torch.rand(3, 2)\n",
    "print(x)"
   ]
  },
  {
   "cell_type": "code",
   "execution_count": 3,
   "metadata": {
    "execution": {
     "iopub.execute_input": "2020-12-30T12:09:23.655318Z",
     "iopub.status.busy": "2020-12-30T12:09:23.654226Z",
     "iopub.status.idle": "2020-12-30T12:09:23.660408Z",
     "shell.execute_reply": "2020-12-30T12:09:23.661188Z"
    },
    "papermill": {
     "duration": 0.048197,
     "end_time": "2020-12-30T12:09:23.661329",
     "exception": false,
     "start_time": "2020-12-30T12:09:23.613132",
     "status": "completed"
    },
    "tags": []
   },
   "outputs": [
    {
     "name": "stdout",
     "output_type": "stream",
     "text": [
      "tensor([[-7.3346e+26,  4.5743e-41],\n",
      "        [-1.1421e+31,  3.0855e-41],\n",
      "        [ 4.4842e-44,  0.0000e+00]])\n",
      "tensor([[0., 0.],\n",
      "        [0., 0.],\n",
      "        [0., 0.]])\n"
     ]
    }
   ],
   "source": [
    "x = torch.empty(3, 2)\n",
    "print(x)\n",
    "y = torch.zeros_like(x)\n",
    "print(y)"
   ]
  },
  {
   "cell_type": "code",
   "execution_count": 4,
   "metadata": {
    "execution": {
     "iopub.execute_input": "2020-12-30T12:09:23.737928Z",
     "iopub.status.busy": "2020-12-30T12:09:23.737234Z",
     "iopub.status.idle": "2020-12-30T12:09:23.744880Z",
     "shell.execute_reply": "2020-12-30T12:09:23.744129Z"
    },
    "papermill": {
     "duration": 0.047307,
     "end_time": "2020-12-30T12:09:23.745012",
     "exception": false,
     "start_time": "2020-12-30T12:09:23.697705",
     "status": "completed"
    },
    "tags": []
   },
   "outputs": [
    {
     "name": "stdout",
     "output_type": "stream",
     "text": [
      "tensor([0.0000, 0.2500, 0.5000, 0.7500, 1.0000])\n"
     ]
    }
   ],
   "source": [
    "x = torch.linspace(0, 1, steps=5)\n",
    "print(x)"
   ]
  },
  {
   "cell_type": "code",
   "execution_count": 5,
   "metadata": {
    "execution": {
     "iopub.execute_input": "2020-12-30T12:09:23.823071Z",
     "iopub.status.busy": "2020-12-30T12:09:23.822157Z",
     "iopub.status.idle": "2020-12-30T12:09:23.827524Z",
     "shell.execute_reply": "2020-12-30T12:09:23.826560Z"
    },
    "papermill": {
     "duration": 0.045941,
     "end_time": "2020-12-30T12:09:23.827667",
     "exception": false,
     "start_time": "2020-12-30T12:09:23.781726",
     "status": "completed"
    },
    "tags": []
   },
   "outputs": [
    {
     "name": "stdout",
     "output_type": "stream",
     "text": [
      "tensor([[1, 2],\n",
      "        [3, 4],\n",
      "        [5, 6]])\n"
     ]
    }
   ],
   "source": [
    "x = torch.tensor([[1, 2],\n",
    "                 [3, 4],\n",
    "                 [5, 6]])\n",
    "print(x)"
   ]
  },
  {
   "cell_type": "markdown",
   "metadata": {
    "papermill": {
     "duration": 0.036957,
     "end_time": "2020-12-30T12:09:23.901858",
     "exception": false,
     "start_time": "2020-12-30T12:09:23.864901",
     "status": "completed"
    },
    "tags": []
   },
   "source": [
    "### Slicing Tensors"
   ]
  },
  {
   "cell_type": "code",
   "execution_count": 6,
   "metadata": {
    "execution": {
     "iopub.execute_input": "2020-12-30T12:09:23.981246Z",
     "iopub.status.busy": "2020-12-30T12:09:23.980268Z",
     "iopub.status.idle": "2020-12-30T12:09:23.986542Z",
     "shell.execute_reply": "2020-12-30T12:09:23.985855Z"
    },
    "papermill": {
     "duration": 0.048007,
     "end_time": "2020-12-30T12:09:23.986673",
     "exception": false,
     "start_time": "2020-12-30T12:09:23.938666",
     "status": "completed"
    },
    "tags": []
   },
   "outputs": [
    {
     "name": "stdout",
     "output_type": "stream",
     "text": [
      "torch.Size([3, 2])\n",
      "tensor([2, 4, 6])\n",
      "tensor([1, 2])\n"
     ]
    }
   ],
   "source": [
    "print(x.size())\n",
    "print(x[:, 1])\n",
    "print(x[0, :])"
   ]
  },
  {
   "cell_type": "code",
   "execution_count": 7,
   "metadata": {
    "execution": {
     "iopub.execute_input": "2020-12-30T12:09:24.068317Z",
     "iopub.status.busy": "2020-12-30T12:09:24.067388Z",
     "iopub.status.idle": "2020-12-30T12:09:24.071142Z",
     "shell.execute_reply": "2020-12-30T12:09:24.071753Z"
    },
    "papermill": {
     "duration": 0.046731,
     "end_time": "2020-12-30T12:09:24.071867",
     "exception": false,
     "start_time": "2020-12-30T12:09:24.025136",
     "status": "completed"
    },
    "tags": []
   },
   "outputs": [
    {
     "name": "stdout",
     "output_type": "stream",
     "text": [
      "tensor(4)\n",
      "4\n"
     ]
    }
   ],
   "source": [
    "y = x[1, 1]\n",
    "print(y)\n",
    "print(y.item())"
   ]
  },
  {
   "cell_type": "markdown",
   "metadata": {
    "papermill": {
     "duration": 0.038305,
     "end_time": "2020-12-30T12:09:24.148516",
     "exception": false,
     "start_time": "2020-12-30T12:09:24.110211",
     "status": "completed"
    },
    "tags": []
   },
   "source": [
    "### Reshaping Tensors"
   ]
  },
  {
   "cell_type": "code",
   "execution_count": 8,
   "metadata": {
    "execution": {
     "iopub.execute_input": "2020-12-30T12:09:24.229122Z",
     "iopub.status.busy": "2020-12-30T12:09:24.228538Z",
     "iopub.status.idle": "2020-12-30T12:09:24.234349Z",
     "shell.execute_reply": "2020-12-30T12:09:24.235145Z"
    },
    "papermill": {
     "duration": 0.048232,
     "end_time": "2020-12-30T12:09:24.235298",
     "exception": false,
     "start_time": "2020-12-30T12:09:24.187066",
     "status": "completed"
    },
    "tags": []
   },
   "outputs": [
    {
     "name": "stdout",
     "output_type": "stream",
     "text": [
      "tensor([[1, 2],\n",
      "        [3, 4],\n",
      "        [5, 6]])\n",
      "tensor([[1, 2, 3],\n",
      "        [4, 5, 6]])\n"
     ]
    }
   ],
   "source": [
    "print(x)\n",
    "y = x.view(2, 3)\n",
    "print(y)"
   ]
  },
  {
   "cell_type": "code",
   "execution_count": 9,
   "metadata": {
    "execution": {
     "iopub.execute_input": "2020-12-30T12:09:24.317334Z",
     "iopub.status.busy": "2020-12-30T12:09:24.316640Z",
     "iopub.status.idle": "2020-12-30T12:09:24.320652Z",
     "shell.execute_reply": "2020-12-30T12:09:24.320135Z"
    },
    "papermill": {
     "duration": 0.046486,
     "end_time": "2020-12-30T12:09:24.320744",
     "exception": false,
     "start_time": "2020-12-30T12:09:24.274258",
     "status": "completed"
    },
    "tags": []
   },
   "outputs": [
    {
     "name": "stdout",
     "output_type": "stream",
     "text": [
      "tensor([[1],\n",
      "        [2],\n",
      "        [3],\n",
      "        [4],\n",
      "        [5],\n",
      "        [6]])\n"
     ]
    }
   ],
   "source": [
    "y = x.view(6, -1)\n",
    "print(y)"
   ]
  },
  {
   "cell_type": "markdown",
   "metadata": {
    "papermill": {
     "duration": 0.037967,
     "end_time": "2020-12-30T12:09:24.397352",
     "exception": false,
     "start_time": "2020-12-30T12:09:24.359385",
     "status": "completed"
    },
    "tags": []
   },
   "source": [
    "### Simple Tensor Operations"
   ]
  },
  {
   "cell_type": "code",
   "execution_count": 10,
   "metadata": {
    "execution": {
     "iopub.execute_input": "2020-12-30T12:09:24.481403Z",
     "iopub.status.busy": "2020-12-30T12:09:24.480384Z",
     "iopub.status.idle": "2020-12-30T12:09:24.487087Z",
     "shell.execute_reply": "2020-12-30T12:09:24.487538Z"
    },
    "papermill": {
     "duration": 0.051345,
     "end_time": "2020-12-30T12:09:24.487651",
     "exception": false,
     "start_time": "2020-12-30T12:09:24.436306",
     "status": "completed"
    },
    "tags": []
   },
   "outputs": [
    {
     "name": "stdout",
     "output_type": "stream",
     "text": [
      "tensor([[2., 2.],\n",
      "        [2., 2.],\n",
      "        [2., 2.]])\n",
      "tensor([[1., 1.],\n",
      "        [1., 1.],\n",
      "        [1., 1.]])\n",
      "tensor([[0., 0.],\n",
      "        [0., 0.],\n",
      "        [0., 0.]])\n"
     ]
    }
   ],
   "source": [
    "x = torch.ones([3, 2])\n",
    "y = torch.ones([3, 2])\n",
    "z = x + y\n",
    "print(z)\n",
    "z = x * y\n",
    "print(z)\n",
    "z = x - y\n",
    "print(z)"
   ]
  },
  {
   "cell_type": "code",
   "execution_count": 11,
   "metadata": {
    "execution": {
     "iopub.execute_input": "2020-12-30T12:09:24.576460Z",
     "iopub.status.busy": "2020-12-30T12:09:24.575535Z",
     "iopub.status.idle": "2020-12-30T12:09:24.582031Z",
     "shell.execute_reply": "2020-12-30T12:09:24.581335Z"
    },
    "papermill": {
     "duration": 0.055096,
     "end_time": "2020-12-30T12:09:24.582233",
     "exception": false,
     "start_time": "2020-12-30T12:09:24.527137",
     "status": "completed"
    },
    "tags": []
   },
   "outputs": [
    {
     "name": "stdout",
     "output_type": "stream",
     "text": [
      "tensor([[2., 2.],\n",
      "        [2., 2.],\n",
      "        [2., 2.]])\n",
      "tensor([[1., 1.],\n",
      "        [1., 1.],\n",
      "        [1., 1.]])\n"
     ]
    }
   ],
   "source": [
    "z = y.add(x)\n",
    "print(z)\n",
    "print(y)"
   ]
  },
  {
   "cell_type": "code",
   "execution_count": 12,
   "metadata": {
    "execution": {
     "iopub.execute_input": "2020-12-30T12:09:24.668610Z",
     "iopub.status.busy": "2020-12-30T12:09:24.667741Z",
     "iopub.status.idle": "2020-12-30T12:09:24.673412Z",
     "shell.execute_reply": "2020-12-30T12:09:24.674187Z"
    },
    "papermill": {
     "duration": 0.050325,
     "end_time": "2020-12-30T12:09:24.674327",
     "exception": false,
     "start_time": "2020-12-30T12:09:24.624002",
     "status": "completed"
    },
    "tags": []
   },
   "outputs": [
    {
     "name": "stdout",
     "output_type": "stream",
     "text": [
      "tensor([[2., 2.],\n",
      "        [2., 2.],\n",
      "        [2., 2.]])\n",
      "tensor([[2., 2.],\n",
      "        [2., 2.],\n",
      "        [2., 2.]])\n"
     ]
    }
   ],
   "source": [
    "z = y.add_(x)\n",
    "print(z)\n",
    "print(y)"
   ]
  },
  {
   "cell_type": "markdown",
   "metadata": {
    "papermill": {
     "duration": 0.04031,
     "end_time": "2020-12-30T12:09:24.755465",
     "exception": false,
     "start_time": "2020-12-30T12:09:24.715155",
     "status": "completed"
    },
    "tags": []
   },
   "source": [
    "### Numpy <> PyTorch"
   ]
  },
  {
   "cell_type": "code",
   "execution_count": 13,
   "metadata": {
    "execution": {
     "iopub.execute_input": "2020-12-30T12:09:24.843359Z",
     "iopub.status.busy": "2020-12-30T12:09:24.842626Z",
     "iopub.status.idle": "2020-12-30T12:09:24.845964Z",
     "shell.execute_reply": "2020-12-30T12:09:24.846502Z"
    },
    "papermill": {
     "duration": 0.05065,
     "end_time": "2020-12-30T12:09:24.846625",
     "exception": false,
     "start_time": "2020-12-30T12:09:24.795975",
     "status": "completed"
    },
    "tags": []
   },
   "outputs": [
    {
     "name": "stdout",
     "output_type": "stream",
     "text": [
      "<class 'torch.Tensor'> <class 'numpy.ndarray'>\n",
      "[[1. 1.]\n",
      " [1. 1.]\n",
      " [1. 1.]]\n"
     ]
    }
   ],
   "source": [
    "x_np = x.numpy()\n",
    "print(type(x), type(x_np))\n",
    "print(x_np)"
   ]
  },
  {
   "cell_type": "code",
   "execution_count": 14,
   "metadata": {
    "execution": {
     "iopub.execute_input": "2020-12-30T12:09:24.945681Z",
     "iopub.status.busy": "2020-12-30T12:09:24.945037Z",
     "iopub.status.idle": "2020-12-30T12:09:24.952620Z",
     "shell.execute_reply": "2020-12-30T12:09:24.953378Z"
    },
    "papermill": {
     "duration": 0.064661,
     "end_time": "2020-12-30T12:09:24.953537",
     "exception": false,
     "start_time": "2020-12-30T12:09:24.888876",
     "status": "completed"
    },
    "tags": []
   },
   "outputs": [
    {
     "name": "stdout",
     "output_type": "stream",
     "text": [
      "[-0.9209003   0.52065567 -0.56224179 -0.82056432 -1.1482345 ]\n",
      "<class 'numpy.ndarray'> <class 'torch.Tensor'>\n",
      "tensor([-0.9209,  0.5207, -0.5622, -0.8206, -1.1482], dtype=torch.float64)\n"
     ]
    }
   ],
   "source": [
    "a = np.random.randn(5)\n",
    "print(a)\n",
    "a_pt = torch.from_numpy(a)\n",
    "print(type(a), type(a_pt))\n",
    "print(a_pt)"
   ]
  },
  {
   "cell_type": "code",
   "execution_count": 15,
   "metadata": {
    "execution": {
     "iopub.execute_input": "2020-12-30T12:09:25.042406Z",
     "iopub.status.busy": "2020-12-30T12:09:25.041444Z",
     "iopub.status.idle": "2020-12-30T12:09:25.046878Z",
     "shell.execute_reply": "2020-12-30T12:09:25.047541Z"
    },
    "papermill": {
     "duration": 0.052503,
     "end_time": "2020-12-30T12:09:25.047682",
     "exception": false,
     "start_time": "2020-12-30T12:09:24.995179",
     "status": "completed"
    },
    "tags": []
   },
   "outputs": [
    {
     "name": "stdout",
     "output_type": "stream",
     "text": [
      "[ 0.0790997   1.52065567  0.43775821  0.17943568 -0.1482345 ]\n",
      "tensor([ 0.0791,  1.5207,  0.4378,  0.1794, -0.1482], dtype=torch.float64)\n"
     ]
    }
   ],
   "source": [
    "np.add(a, 1, out=a)\n",
    "print(a)\n",
    "print(a_pt)"
   ]
  },
  {
   "cell_type": "code",
   "execution_count": 16,
   "metadata": {
    "execution": {
     "iopub.execute_input": "2020-12-30T12:09:25.141980Z",
     "iopub.status.busy": "2020-12-30T12:09:25.141286Z",
     "iopub.status.idle": "2020-12-30T12:09:25.265004Z",
     "shell.execute_reply": "2020-12-30T12:09:25.264303Z"
    },
    "papermill": {
     "duration": 0.173303,
     "end_time": "2020-12-30T12:09:25.265140",
     "exception": false,
     "start_time": "2020-12-30T12:09:25.091837",
     "status": "completed"
    },
    "tags": []
   },
   "outputs": [
    {
     "name": "stdout",
     "output_type": "stream",
     "text": [
      "CPU times: user 107 ms, sys: 1.03 ms, total: 108 ms\n",
      "Wall time: 118 ms\n"
     ]
    }
   ],
   "source": [
    "%%time\n",
    "for i in range(100):\n",
    "    a = np.random.randn(100, 100)\n",
    "    b = np.random.randn(100, 100)\n",
    "    c = np.matmul(a, b)"
   ]
  },
  {
   "cell_type": "code",
   "execution_count": 17,
   "metadata": {
    "execution": {
     "iopub.execute_input": "2020-12-30T12:09:25.358605Z",
     "iopub.status.busy": "2020-12-30T12:09:25.357977Z",
     "iopub.status.idle": "2020-12-30T12:09:25.407237Z",
     "shell.execute_reply": "2020-12-30T12:09:25.407916Z"
    },
    "papermill": {
     "duration": 0.098312,
     "end_time": "2020-12-30T12:09:25.408105",
     "exception": false,
     "start_time": "2020-12-30T12:09:25.309793",
     "status": "completed"
    },
    "tags": []
   },
   "outputs": [
    {
     "name": "stdout",
     "output_type": "stream",
     "text": [
      "CPU times: user 29.3 ms, sys: 897 µs, total: 30.2 ms\n",
      "Wall time: 44.3 ms\n"
     ]
    }
   ],
   "source": [
    "%%time \n",
    "for i in range(100):\n",
    "    a = torch.randn([100, 100])\n",
    "    b = torch.randn([100, 100])\n",
    "    c = torch.matmul(a, b)"
   ]
  },
  {
   "cell_type": "code",
   "execution_count": 18,
   "metadata": {
    "execution": {
     "iopub.execute_input": "2020-12-30T12:09:25.502949Z",
     "iopub.status.busy": "2020-12-30T12:09:25.502014Z",
     "iopub.status.idle": "2020-12-30T12:16:21.608251Z",
     "shell.execute_reply": "2020-12-30T12:16:21.609158Z"
    },
    "papermill": {
     "duration": 416.15762,
     "end_time": "2020-12-30T12:16:21.609421",
     "exception": false,
     "start_time": "2020-12-30T12:09:25.451801",
     "status": "completed"
    },
    "tags": []
   },
   "outputs": [
    {
     "name": "stdout",
     "output_type": "stream",
     "text": [
      "CPU times: user 6min 46s, sys: 4.86 s, total: 6min 51s\n",
      "Wall time: 6min 56s\n"
     ]
    }
   ],
   "source": [
    "%%time\n",
    "for i in range(10):\n",
    "    a = np.random.randn(10000, 10000)\n",
    "    b = np.random.randn(10000, 10000)\n",
    "    c = np.matmul(a, b)"
   ]
  },
  {
   "cell_type": "code",
   "execution_count": 19,
   "metadata": {
    "execution": {
     "iopub.execute_input": "2020-12-30T12:16:21.709043Z",
     "iopub.status.busy": "2020-12-30T12:16:21.708219Z",
     "iopub.status.idle": "2020-12-30T12:19:33.714103Z",
     "shell.execute_reply": "2020-12-30T12:19:33.714805Z"
    },
    "papermill": {
     "duration": 192.057394,
     "end_time": "2020-12-30T12:19:33.714998",
     "exception": false,
     "start_time": "2020-12-30T12:16:21.657604",
     "status": "completed"
    },
    "tags": []
   },
   "outputs": [
    {
     "name": "stdout",
     "output_type": "stream",
     "text": [
      "CPU times: user 3min 4s, sys: 5.94 s, total: 3min 10s\n",
      "Wall time: 3min 11s\n"
     ]
    }
   ],
   "source": [
    "%%time \n",
    "for i in range(10):\n",
    "    a = torch.randn([10000, 10000])\n",
    "    b = torch.randn([10000, 10000])\n",
    "    c = torch.matmul(a, b)"
   ]
  },
  {
   "cell_type": "markdown",
   "metadata": {
    "papermill": {
     "duration": 0.044871,
     "end_time": "2020-12-30T12:19:33.805786",
     "exception": false,
     "start_time": "2020-12-30T12:19:33.760915",
     "status": "completed"
    },
    "tags": []
   },
   "source": [
    "### CUDA Support"
   ]
  },
  {
   "cell_type": "code",
   "execution_count": 20,
   "metadata": {
    "execution": {
     "iopub.execute_input": "2020-12-30T12:19:34.271784Z",
     "iopub.status.busy": "2020-12-30T12:19:34.271085Z",
     "iopub.status.idle": "2020-12-30T12:19:34.277390Z",
     "shell.execute_reply": "2020-12-30T12:19:34.276759Z"
    },
    "papermill": {
     "duration": 0.426749,
     "end_time": "2020-12-30T12:19:34.277549",
     "exception": false,
     "start_time": "2020-12-30T12:19:33.850800",
     "status": "completed"
    },
    "tags": []
   },
   "outputs": [
    {
     "name": "stdout",
     "output_type": "stream",
     "text": [
      "1\n"
     ]
    }
   ],
   "source": [
    "print(torch.cuda.device_count())"
   ]
  },
  {
   "cell_type": "code",
   "execution_count": 21,
   "metadata": {
    "execution": {
     "iopub.execute_input": "2020-12-30T12:19:34.391010Z",
     "iopub.status.busy": "2020-12-30T12:19:34.389354Z",
     "iopub.status.idle": "2020-12-30T12:19:34.393977Z",
     "shell.execute_reply": "2020-12-30T12:19:34.393165Z"
    },
    "papermill": {
     "duration": 0.06388,
     "end_time": "2020-12-30T12:19:34.394119",
     "exception": false,
     "start_time": "2020-12-30T12:19:34.330239",
     "status": "completed"
    },
    "tags": []
   },
   "outputs": [
    {
     "name": "stdout",
     "output_type": "stream",
     "text": [
      "<torch.cuda.device object at 0x7f834ffa7650>\n",
      "Tesla P100-PCIE-16GB\n"
     ]
    }
   ],
   "source": [
    "print(torch.cuda.device(0))\n",
    "print(torch.cuda.get_device_name(0))"
   ]
  },
  {
   "cell_type": "code",
   "execution_count": 22,
   "metadata": {
    "execution": {
     "iopub.execute_input": "2020-12-30T12:19:34.496391Z",
     "iopub.status.busy": "2020-12-30T12:19:34.494563Z",
     "iopub.status.idle": "2020-12-30T12:19:34.497046Z",
     "shell.execute_reply": "2020-12-30T12:19:34.497612Z"
    },
    "papermill": {
     "duration": 0.057198,
     "end_time": "2020-12-30T12:19:34.497729",
     "exception": false,
     "start_time": "2020-12-30T12:19:34.440531",
     "status": "completed"
    },
    "tags": []
   },
   "outputs": [],
   "source": [
    "cuda0 = torch.device('cuda:0')"
   ]
  },
  {
   "cell_type": "code",
   "execution_count": 23,
   "metadata": {
    "execution": {
     "iopub.execute_input": "2020-12-30T12:19:34.596231Z",
     "iopub.status.busy": "2020-12-30T12:19:34.595588Z",
     "iopub.status.idle": "2020-12-30T12:19:38.939694Z",
     "shell.execute_reply": "2020-12-30T12:19:38.942354Z"
    },
    "papermill": {
     "duration": 4.398256,
     "end_time": "2020-12-30T12:19:38.942549",
     "exception": false,
     "start_time": "2020-12-30T12:19:34.544293",
     "status": "completed"
    },
    "tags": []
   },
   "outputs": [
    {
     "name": "stdout",
     "output_type": "stream",
     "text": [
      "tensor([[2., 2.],\n",
      "        [2., 2.],\n",
      "        [2., 2.]], device='cuda:0')\n"
     ]
    }
   ],
   "source": [
    "a = torch.ones(3, 2, device=cuda0)\n",
    "b = torch.ones(3, 2, device=cuda0)\n",
    "c = a + b\n",
    "print(c)"
   ]
  },
  {
   "cell_type": "code",
   "execution_count": 24,
   "metadata": {
    "execution": {
     "iopub.execute_input": "2020-12-30T12:19:39.045312Z",
     "iopub.status.busy": "2020-12-30T12:19:39.044375Z",
     "iopub.status.idle": "2020-12-30T12:19:39.054080Z",
     "shell.execute_reply": "2020-12-30T12:19:39.053433Z"
    },
    "papermill": {
     "duration": 0.061988,
     "end_time": "2020-12-30T12:19:39.054208",
     "exception": false,
     "start_time": "2020-12-30T12:19:38.992220",
     "status": "completed"
    },
    "tags": []
   },
   "outputs": [
    {
     "name": "stdout",
     "output_type": "stream",
     "text": [
      "tensor([[1., 1.],\n",
      "        [1., 1.],\n",
      "        [1., 1.]], device='cuda:0')\n"
     ]
    }
   ],
   "source": [
    "print(a)"
   ]
  },
  {
   "cell_type": "code",
   "execution_count": 25,
   "metadata": {
    "execution": {
     "iopub.execute_input": "2020-12-30T12:19:39.155826Z",
     "iopub.status.busy": "2020-12-30T12:19:39.155048Z",
     "iopub.status.idle": "2020-12-30T12:21:05.195365Z",
     "shell.execute_reply": "2020-12-30T12:21:05.196300Z"
    },
    "papermill": {
     "duration": 86.094809,
     "end_time": "2020-12-30T12:21:05.196550",
     "exception": false,
     "start_time": "2020-12-30T12:19:39.101741",
     "status": "completed"
    },
    "tags": []
   },
   "outputs": [
    {
     "name": "stdout",
     "output_type": "stream",
     "text": [
      "CPU times: user 1min 20s, sys: 4.44 s, total: 1min 25s\n",
      "Wall time: 1min 25s\n"
     ]
    }
   ],
   "source": [
    "%%time \n",
    "for i in range(10):\n",
    "    a = np.random.randn(10000, 10000)\n",
    "    b = np.random.randn(10000, 10000)\n",
    "    np.add(b, a)"
   ]
  },
  {
   "cell_type": "code",
   "execution_count": 26,
   "metadata": {
    "execution": {
     "iopub.execute_input": "2020-12-30T12:21:05.298427Z",
     "iopub.status.busy": "2020-12-30T12:21:05.297687Z",
     "iopub.status.idle": "2020-12-30T12:21:29.706388Z",
     "shell.execute_reply": "2020-12-30T12:21:29.707047Z"
    },
    "papermill": {
     "duration": 24.461917,
     "end_time": "2020-12-30T12:21:29.707223",
     "exception": false,
     "start_time": "2020-12-30T12:21:05.245306",
     "status": "completed"
    },
    "tags": []
   },
   "outputs": [
    {
     "name": "stdout",
     "output_type": "stream",
     "text": [
      "CPU times: user 20.8 s, sys: 3.59 s, total: 24.4 s\n",
      "Wall time: 24.4 s\n"
     ]
    }
   ],
   "source": [
    "%%time \n",
    "for i in range(10):\n",
    "    a_cpu = torch.randn([10000, 10000])\n",
    "    b_cpu = torch.randn([10000, 10000])\n",
    "    b_cpu.add_(a_cpu)"
   ]
  },
  {
   "cell_type": "code",
   "execution_count": 27,
   "metadata": {
    "execution": {
     "iopub.execute_input": "2020-12-30T12:21:29.807789Z",
     "iopub.status.busy": "2020-12-30T12:21:29.807030Z",
     "iopub.status.idle": "2020-12-30T12:21:29.821771Z",
     "shell.execute_reply": "2020-12-30T12:21:29.821003Z"
    },
    "papermill": {
     "duration": 0.066795,
     "end_time": "2020-12-30T12:21:29.821903",
     "exception": false,
     "start_time": "2020-12-30T12:21:29.755108",
     "status": "completed"
    },
    "tags": []
   },
   "outputs": [
    {
     "name": "stdout",
     "output_type": "stream",
     "text": [
      "CPU times: user 738 µs, sys: 6.99 ms, total: 7.73 ms\n",
      "Wall time: 9.31 ms\n"
     ]
    }
   ],
   "source": [
    "%%time\n",
    "for i in range(10):\n",
    "    a = torch.randn([10000, 10000], device=cuda0)\n",
    "    b = torch.randn([10000, 10000], device=cuda0)\n",
    "    b.add_(a)"
   ]
  },
  {
   "cell_type": "code",
   "execution_count": 28,
   "metadata": {
    "execution": {
     "iopub.execute_input": "2020-12-30T12:21:29.923932Z",
     "iopub.status.busy": "2020-12-30T12:21:29.923096Z",
     "iopub.status.idle": "2020-12-30T12:28:26.512732Z",
     "shell.execute_reply": "2020-12-30T12:28:26.513587Z"
    },
    "papermill": {
     "duration": 416.643266,
     "end_time": "2020-12-30T12:28:26.513823",
     "exception": false,
     "start_time": "2020-12-30T12:21:29.870557",
     "status": "completed"
    },
    "tags": []
   },
   "outputs": [
    {
     "name": "stdout",
     "output_type": "stream",
     "text": [
      "CPU times: user 6min 47s, sys: 4.89 s, total: 6min 52s\n",
      "Wall time: 6min 56s\n"
     ]
    }
   ],
   "source": [
    "%%time\n",
    "for i in range(10):\n",
    "    a = np.random.randn(10000,10000)\n",
    "    b = np.random.randn(10000,10000)\n",
    "    np.matmul(b, a)"
   ]
  },
  {
   "cell_type": "code",
   "execution_count": 29,
   "metadata": {
    "execution": {
     "iopub.execute_input": "2020-12-30T12:28:26.618186Z",
     "iopub.status.busy": "2020-12-30T12:28:26.617435Z",
     "iopub.status.idle": "2020-12-30T12:31:35.019614Z",
     "shell.execute_reply": "2020-12-30T12:31:35.020203Z"
    },
    "papermill": {
     "duration": 188.456585,
     "end_time": "2020-12-30T12:31:35.020365",
     "exception": false,
     "start_time": "2020-12-30T12:28:26.563780",
     "status": "completed"
    },
    "tags": []
   },
   "outputs": [
    {
     "name": "stdout",
     "output_type": "stream",
     "text": [
      "CPU times: user 2min 58s, sys: 6.14 s, total: 3min 5s\n",
      "Wall time: 3min 8s\n"
     ]
    }
   ],
   "source": [
    "%%time\n",
    "for i in range(10):\n",
    "    a_cpu = torch.randn([10000, 10000])\n",
    "    b_cpu = torch.randn([10000, 10000])\n",
    "    torch.matmul(a_cpu, b_cpu)"
   ]
  },
  {
   "cell_type": "code",
   "execution_count": 30,
   "metadata": {
    "execution": {
     "iopub.execute_input": "2020-12-30T12:31:35.126416Z",
     "iopub.status.busy": "2020-12-30T12:31:35.125482Z",
     "iopub.status.idle": "2020-12-30T12:31:35.764182Z",
     "shell.execute_reply": "2020-12-30T12:31:35.763452Z"
    },
    "papermill": {
     "duration": 0.693876,
     "end_time": "2020-12-30T12:31:35.764311",
     "exception": false,
     "start_time": "2020-12-30T12:31:35.070435",
     "status": "completed"
    },
    "tags": []
   },
   "outputs": [
    {
     "name": "stdout",
     "output_type": "stream",
     "text": [
      "CPU times: user 132 ms, sys: 88.9 ms, total: 221 ms\n",
      "Wall time: 632 ms\n"
     ]
    }
   ],
   "source": [
    "%%time\n",
    "for i in range(10):\n",
    "    a = torch.randn([10000, 10000], device=cuda0)\n",
    "    b = torch.randn([10000, 10000], device=cuda0)\n",
    "    torch.matmul(a, b)"
   ]
  },
  {
   "cell_type": "markdown",
   "metadata": {
    "papermill": {
     "duration": 0.04881,
     "end_time": "2020-12-30T12:31:35.863677",
     "exception": false,
     "start_time": "2020-12-30T12:31:35.814867",
     "status": "completed"
    },
    "tags": []
   },
   "source": [
    "### Autodiff"
   ]
  },
  {
   "cell_type": "code",
   "execution_count": 31,
   "metadata": {
    "execution": {
     "iopub.execute_input": "2020-12-30T12:31:35.970787Z",
     "iopub.status.busy": "2020-12-30T12:31:35.969628Z",
     "iopub.status.idle": "2020-12-30T12:31:35.974388Z",
     "shell.execute_reply": "2020-12-30T12:31:35.974856Z"
    },
    "papermill": {
     "duration": 0.061668,
     "end_time": "2020-12-30T12:31:35.974993",
     "exception": false,
     "start_time": "2020-12-30T12:31:35.913325",
     "status": "completed"
    },
    "tags": []
   },
   "outputs": [
    {
     "name": "stdout",
     "output_type": "stream",
     "text": [
      "tensor([[1., 1.],\n",
      "        [1., 1.],\n",
      "        [1., 1.]], requires_grad=True)\n"
     ]
    }
   ],
   "source": [
    "x = torch.ones([3, 2], requires_grad=True)\n",
    "print(x)"
   ]
  },
  {
   "cell_type": "code",
   "execution_count": 32,
   "metadata": {
    "execution": {
     "iopub.execute_input": "2020-12-30T12:31:36.080222Z",
     "iopub.status.busy": "2020-12-30T12:31:36.079582Z",
     "iopub.status.idle": "2020-12-30T12:31:36.088693Z",
     "shell.execute_reply": "2020-12-30T12:31:36.089470Z"
    },
    "papermill": {
     "duration": 0.064667,
     "end_time": "2020-12-30T12:31:36.089649",
     "exception": false,
     "start_time": "2020-12-30T12:31:36.024982",
     "status": "completed"
    },
    "tags": []
   },
   "outputs": [
    {
     "name": "stdout",
     "output_type": "stream",
     "text": [
      "tensor([[6., 6.],\n",
      "        [6., 6.],\n",
      "        [6., 6.]], grad_fn=<AddBackward0>)\n"
     ]
    }
   ],
   "source": [
    "y = x + 5\n",
    "print(y)"
   ]
  },
  {
   "cell_type": "code",
   "execution_count": 33,
   "metadata": {
    "execution": {
     "iopub.execute_input": "2020-12-30T12:31:36.205354Z",
     "iopub.status.busy": "2020-12-30T12:31:36.204595Z",
     "iopub.status.idle": "2020-12-30T12:31:36.215007Z",
     "shell.execute_reply": "2020-12-30T12:31:36.215441Z"
    },
    "papermill": {
     "duration": 0.067675,
     "end_time": "2020-12-30T12:31:36.215585",
     "exception": false,
     "start_time": "2020-12-30T12:31:36.147910",
     "status": "completed"
    },
    "tags": []
   },
   "outputs": [
    {
     "name": "stdout",
     "output_type": "stream",
     "text": [
      "tensor([[37., 37.],\n",
      "        [37., 37.],\n",
      "        [37., 37.]], grad_fn=<AddBackward0>)\n"
     ]
    }
   ],
   "source": [
    "z = y * y + 1\n",
    "print(z)"
   ]
  },
  {
   "cell_type": "code",
   "execution_count": 34,
   "metadata": {
    "execution": {
     "iopub.execute_input": "2020-12-30T12:31:36.326885Z",
     "iopub.status.busy": "2020-12-30T12:31:36.325999Z",
     "iopub.status.idle": "2020-12-30T12:31:36.331029Z",
     "shell.execute_reply": "2020-12-30T12:31:36.331557Z"
    },
    "papermill": {
     "duration": 0.062703,
     "end_time": "2020-12-30T12:31:36.331682",
     "exception": false,
     "start_time": "2020-12-30T12:31:36.268979",
     "status": "completed"
    },
    "tags": []
   },
   "outputs": [
    {
     "name": "stdout",
     "output_type": "stream",
     "text": [
      "tensor(222., grad_fn=<SumBackward0>)\n"
     ]
    }
   ],
   "source": [
    "t = torch.sum(z)\n",
    "print(t)"
   ]
  },
  {
   "cell_type": "code",
   "execution_count": 35,
   "metadata": {
    "execution": {
     "iopub.execute_input": "2020-12-30T12:31:36.439612Z",
     "iopub.status.busy": "2020-12-30T12:31:36.439006Z",
     "iopub.status.idle": "2020-12-30T12:31:36.450807Z",
     "shell.execute_reply": "2020-12-30T12:31:36.451236Z"
    },
    "papermill": {
     "duration": 0.068616,
     "end_time": "2020-12-30T12:31:36.451352",
     "exception": false,
     "start_time": "2020-12-30T12:31:36.382736",
     "status": "completed"
    },
    "tags": []
   },
   "outputs": [],
   "source": [
    "t.backward()"
   ]
  },
  {
   "cell_type": "code",
   "execution_count": 36,
   "metadata": {
    "execution": {
     "iopub.execute_input": "2020-12-30T12:31:36.562019Z",
     "iopub.status.busy": "2020-12-30T12:31:36.561130Z",
     "iopub.status.idle": "2020-12-30T12:31:36.567514Z",
     "shell.execute_reply": "2020-12-30T12:31:36.568216Z"
    },
    "papermill": {
     "duration": 0.064509,
     "end_time": "2020-12-30T12:31:36.568349",
     "exception": false,
     "start_time": "2020-12-30T12:31:36.503840",
     "status": "completed"
    },
    "tags": []
   },
   "outputs": [
    {
     "name": "stdout",
     "output_type": "stream",
     "text": [
      "tensor([[12., 12.],\n",
      "        [12., 12.],\n",
      "        [12., 12.]])\n"
     ]
    }
   ],
   "source": [
    "print(x.grad)"
   ]
  },
  {
   "cell_type": "markdown",
   "metadata": {
    "papermill": {
     "duration": 0.053356,
     "end_time": "2020-12-30T12:31:36.675465",
     "exception": false,
     "start_time": "2020-12-30T12:31:36.622109",
     "status": "completed"
    },
    "tags": []
   },
   "source": [
    "$t = \\sum_i z_i, z_i = y_i^2 + 1, y_i = x_i + 5$\n",
    "\n",
    "$\\frac{\\partial t}{\\partial x_i} = \\frac{\\partial z_i}{\\partial x_i} = \\frac{\\partial z_i}{\\partial y_i} \\frac{\\partial y_i}{\\partial x_i} = 2y_i \\times 1$\n",
    "\n",
    "At x = 1, y = 6, $\\frac{\\partial t}{\\partial x_i} = 12$"
   ]
  },
  {
   "cell_type": "code",
   "execution_count": 37,
   "metadata": {
    "execution": {
     "iopub.execute_input": "2020-12-30T12:31:36.788150Z",
     "iopub.status.busy": "2020-12-30T12:31:36.787506Z",
     "iopub.status.idle": "2020-12-30T12:31:36.812063Z",
     "shell.execute_reply": "2020-12-30T12:31:36.811303Z"
    },
    "papermill": {
     "duration": 0.08211,
     "end_time": "2020-12-30T12:31:36.812180",
     "exception": false,
     "start_time": "2020-12-30T12:31:36.730070",
     "status": "completed"
    },
    "tags": []
   },
   "outputs": [
    {
     "name": "stdout",
     "output_type": "stream",
     "text": [
      "tensor([[0.9975, 0.9975],\n",
      "        [0.9975, 0.9975],\n",
      "        [0.9975, 0.9975]], grad_fn=<MulBackward0>)\n",
      "tensor([[0.0025, 0.0025],\n",
      "        [0.0025, 0.0025],\n",
      "        [0.0025, 0.0025]])\n"
     ]
    }
   ],
   "source": [
    "x = torch.ones([3, 2], requires_grad=True)\n",
    "y = x + 5\n",
    "r = 1/(1 + torch.exp(-y))\n",
    "print(r)\n",
    "s = torch.sum(r)\n",
    "s.backward()\n",
    "print(x.grad)"
   ]
  },
  {
   "cell_type": "code",
   "execution_count": 38,
   "metadata": {
    "execution": {
     "iopub.execute_input": "2020-12-30T12:31:36.929994Z",
     "iopub.status.busy": "2020-12-30T12:31:36.928095Z",
     "iopub.status.idle": "2020-12-30T12:31:36.935614Z",
     "shell.execute_reply": "2020-12-30T12:31:36.936341Z"
    },
    "papermill": {
     "duration": 0.068129,
     "end_time": "2020-12-30T12:31:36.936523",
     "exception": false,
     "start_time": "2020-12-30T12:31:36.868394",
     "status": "completed"
    },
    "tags": []
   },
   "outputs": [
    {
     "name": "stdout",
     "output_type": "stream",
     "text": [
      "tensor([[0.0025, 0.0025],\n",
      "        [0.0025, 0.0025],\n",
      "        [0.0025, 0.0025]])\n"
     ]
    }
   ],
   "source": [
    "x = torch.ones([3, 2], requires_grad=True)\n",
    "y = x + 5\n",
    "r = 1/(1 + torch.exp(-y))\n",
    "a = torch.ones([3, 2])\n",
    "r.backward(a)\n",
    "print(x.grad)"
   ]
  },
  {
   "cell_type": "markdown",
   "metadata": {
    "papermill": {
     "duration": 0.054806,
     "end_time": "2020-12-30T12:31:37.050801",
     "exception": false,
     "start_time": "2020-12-30T12:31:36.995995",
     "status": "completed"
    },
    "tags": []
   },
   "source": [
    "$\\frac{\\partial{s}}{\\partial{x}} = \\frac{\\partial{s}}{\\partial{r}} \\cdot \\frac{\\partial{r}}{\\partial{x}}$\n",
    "\n",
    "For the above code $a$ represents $\\frac{\\partial{s}}{\\partial{r}}$ and then $x.grad$ gives directly $\\frac{\\partial{s}}{\\partial{x}}$"
   ]
  },
  {
   "cell_type": "markdown",
   "metadata": {
    "papermill": {
     "duration": 0.060343,
     "end_time": "2020-12-30T12:31:37.164987",
     "exception": false,
     "start_time": "2020-12-30T12:31:37.104644",
     "status": "completed"
    },
    "tags": []
   },
   "source": [
    "### Autodiff example that looks like what we have been doing"
   ]
  },
  {
   "cell_type": "code",
   "execution_count": 39,
   "metadata": {
    "execution": {
     "iopub.execute_input": "2020-12-30T12:31:37.278576Z",
     "iopub.status.busy": "2020-12-30T12:31:37.277884Z",
     "iopub.status.idle": "2020-12-30T12:31:37.281171Z",
     "shell.execute_reply": "2020-12-30T12:31:37.280667Z"
    },
    "papermill": {
     "duration": 0.061409,
     "end_time": "2020-12-30T12:31:37.281269",
     "exception": false,
     "start_time": "2020-12-30T12:31:37.219860",
     "status": "completed"
    },
    "tags": []
   },
   "outputs": [],
   "source": [
    "x = torch.randn([20, 1], requires_grad=True)\n",
    "y = 3*x-2"
   ]
  },
  {
   "cell_type": "code",
   "execution_count": 40,
   "metadata": {
    "execution": {
     "iopub.execute_input": "2020-12-30T12:31:37.394021Z",
     "iopub.status.busy": "2020-12-30T12:31:37.393424Z",
     "iopub.status.idle": "2020-12-30T12:31:37.398252Z",
     "shell.execute_reply": "2020-12-30T12:31:37.398796Z"
    },
    "papermill": {
     "duration": 0.063386,
     "end_time": "2020-12-30T12:31:37.398926",
     "exception": false,
     "start_time": "2020-12-30T12:31:37.335540",
     "status": "completed"
    },
    "tags": []
   },
   "outputs": [],
   "source": [
    "w = torch.tensor([1.],requires_grad=True)\n",
    "b = torch.tensor([1.],requires_grad=True)\n",
    "\n",
    "y_hat = w*x + b\n",
    "\n",
    "loss = torch.sum((y_hat - y)**2)"
   ]
  },
  {
   "cell_type": "code",
   "execution_count": 41,
   "metadata": {
    "execution": {
     "iopub.execute_input": "2020-12-30T12:31:37.510968Z",
     "iopub.status.busy": "2020-12-30T12:31:37.510089Z",
     "iopub.status.idle": "2020-12-30T12:31:37.516331Z",
     "shell.execute_reply": "2020-12-30T12:31:37.515701Z"
    },
    "papermill": {
     "duration": 0.063883,
     "end_time": "2020-12-30T12:31:37.516452",
     "exception": false,
     "start_time": "2020-12-30T12:31:37.452569",
     "status": "completed"
    },
    "tags": []
   },
   "outputs": [
    {
     "name": "stdout",
     "output_type": "stream",
     "text": [
      "tensor(219.7281, grad_fn=<SumBackward0>)\n"
     ]
    }
   ],
   "source": [
    "print(loss)"
   ]
  },
  {
   "cell_type": "code",
   "execution_count": 42,
   "metadata": {
    "execution": {
     "iopub.execute_input": "2020-12-30T12:31:37.631869Z",
     "iopub.status.busy": "2020-12-30T12:31:37.631196Z",
     "iopub.status.idle": "2020-12-30T12:31:37.636951Z",
     "shell.execute_reply": "2020-12-30T12:31:37.636310Z"
    },
    "papermill": {
     "duration": 0.064264,
     "end_time": "2020-12-30T12:31:37.637059",
     "exception": false,
     "start_time": "2020-12-30T12:31:37.572795",
     "status": "completed"
    },
    "tags": []
   },
   "outputs": [],
   "source": [
    "loss.backward()"
   ]
  },
  {
   "cell_type": "code",
   "execution_count": 43,
   "metadata": {
    "execution": {
     "iopub.execute_input": "2020-12-30T12:31:37.758213Z",
     "iopub.status.busy": "2020-12-30T12:31:37.757289Z",
     "iopub.status.idle": "2020-12-30T12:31:37.763198Z",
     "shell.execute_reply": "2020-12-30T12:31:37.763894Z"
    },
    "papermill": {
     "duration": 0.065843,
     "end_time": "2020-12-30T12:31:37.764045",
     "exception": false,
     "start_time": "2020-12-30T12:31:37.698202",
     "status": "completed"
    },
    "tags": []
   },
   "outputs": [
    {
     "name": "stdout",
     "output_type": "stream",
     "text": [
      "tensor([-49.1018]) tensor([113.7509])\n"
     ]
    }
   ],
   "source": [
    "print(w.grad, b.grad)"
   ]
  },
  {
   "cell_type": "markdown",
   "metadata": {
    "papermill": {
     "duration": 0.055092,
     "end_time": "2020-12-30T12:31:37.875229",
     "exception": false,
     "start_time": "2020-12-30T12:31:37.820137",
     "status": "completed"
    },
    "tags": []
   },
   "source": [
    "### Do it in a loop"
   ]
  },
  {
   "cell_type": "code",
   "execution_count": 44,
   "metadata": {
    "execution": {
     "iopub.execute_input": "2020-12-30T12:31:38.052172Z",
     "iopub.status.busy": "2020-12-30T12:31:38.051140Z",
     "iopub.status.idle": "2020-12-30T12:31:38.082921Z",
     "shell.execute_reply": "2020-12-30T12:31:38.083798Z"
    },
    "papermill": {
     "duration": 0.128151,
     "end_time": "2020-12-30T12:31:38.083997",
     "exception": false,
     "start_time": "2020-12-30T12:31:37.955846",
     "status": "completed"
    },
    "tags": []
   },
   "outputs": [],
   "source": [
    "learning_rate = 0.01\n",
    "\n",
    "w = torch.tensor([1.], requires_grad=True)\n",
    "b = torch.tensor([1.], requires_grad=True)\n",
    "\n",
    "# print(w.item(), b.item())\n",
    "\n",
    "for i in range(10):\n",
    "    \n",
    "    x = torch.randn([20, 1])\n",
    "    y = 3*x -2\n",
    "    \n",
    "    y_hat = w*x + b\n",
    "    loss = torch.sum((y_hat - y)**2)\n",
    "    \n",
    "    loss.backward()\n",
    "    \n",
    "    with torch.no_grad():\n",
    "        w -= learning_rate * w.grad\n",
    "        b -= learning_rate * b.grad\n",
    "        \n",
    "        w.grad.zero_()\n",
    "        b.grad.zero_()\n",
    "    \n",
    "#     print(w.item(), b.item())"
   ]
  },
  {
   "cell_type": "markdown",
   "metadata": {
    "papermill": {
     "duration": 0.080585,
     "end_time": "2020-12-30T12:31:38.252805",
     "exception": false,
     "start_time": "2020-12-30T12:31:38.172220",
     "status": "completed"
    },
    "tags": []
   },
   "source": [
    "### Do it for a large problem"
   ]
  },
  {
   "cell_type": "code",
   "execution_count": 45,
   "metadata": {
    "execution": {
     "iopub.execute_input": "2020-12-30T12:31:38.419815Z",
     "iopub.status.busy": "2020-12-30T12:31:38.418964Z",
     "iopub.status.idle": "2020-12-30T12:32:29.672869Z",
     "shell.execute_reply": "2020-12-30T12:32:29.673833Z"
    },
    "papermill": {
     "duration": 51.342119,
     "end_time": "2020-12-30T12:32:29.674064",
     "exception": false,
     "start_time": "2020-12-30T12:31:38.331945",
     "status": "completed"
    },
    "tags": []
   },
   "outputs": [
    {
     "name": "stdout",
     "output_type": "stream",
     "text": [
      "CPU times: user 32.1 s, sys: 18.4 s, total: 50.5 s\n",
      "Wall time: 51.2 s\n"
     ]
    }
   ],
   "source": [
    "%%time\n",
    "learning_rate = 0.001\n",
    "N = 10000000\n",
    "epochs = 200\n",
    "\n",
    "w = torch.rand([N], requires_grad=True)\n",
    "b = torch.ones([1], requires_grad=True)\n",
    "\n",
    "# print(torch.mean(w).item(), b.item())\n",
    "\n",
    "for i in range(epochs):\n",
    "    \n",
    "    x = torch.randn([N])\n",
    "    y = torch.dot(3*torch.ones([N]), x) - 2\n",
    "    \n",
    "    y_hat = torch.dot(w, x) + b\n",
    "    loss = torch.sum((y_hat - y)**2)\n",
    "    \n",
    "    loss.backward()\n",
    "    \n",
    "    with torch.no_grad():\n",
    "        w -=  learning_rate * w.grad\n",
    "        b -= learning_rate * b.grad\n",
    "        \n",
    "        w.grad.zero_()\n",
    "        b.grad.zero_()\n",
    "        \n",
    "#     print(torch.mean(w).item(), b.item())"
   ]
  },
  {
   "cell_type": "code",
   "execution_count": 46,
   "metadata": {
    "execution": {
     "iopub.execute_input": "2020-12-30T12:32:29.793021Z",
     "iopub.status.busy": "2020-12-30T12:32:29.792381Z",
     "iopub.status.idle": "2020-12-30T12:32:32.976187Z",
     "shell.execute_reply": "2020-12-30T12:32:32.977407Z"
    },
    "papermill": {
     "duration": 3.247504,
     "end_time": "2020-12-30T12:32:32.977687",
     "exception": false,
     "start_time": "2020-12-30T12:32:29.730183",
     "status": "completed"
    },
    "tags": []
   },
   "outputs": [
    {
     "name": "stdout",
     "output_type": "stream",
     "text": [
      "0.49999985098838806 4.752829551696777\n",
      "0.4964137077331543 72.2031478881836\n",
      "0.25849202275276184 1966.79541015625\n",
      "0.34471994638442993 -2505.7626953125\n",
      "-6.358139514923096 73292.0546875\n",
      "-306.6883239746094 -1161625.875\n",
      "-423.472412109375 2059627.875\n",
      "3212.229736328125 39084576.0\n",
      "-132895.65625 712571392.0\n",
      "-369056.875 8752850944.0\n",
      "1990982.125 81345921024.0\n",
      "-3592025.5 378232963072.0\n",
      "52846244.0 3144077803520.0\n",
      "-2420961792.0 34815873122304.0\n",
      "-20062005248.0 -252093776527360.0\n",
      "135930249216.0 3875999678726144.0\n",
      "-2407469416448.0 -5.629717718551757e+16\n",
      "15341233111040.0 1.0575407778627584e+16\n",
      "-233490360565760.0 3.723784749265715e+18\n",
      "-1535928086560768.0 -1.170091917990848e+19\n",
      "-1.5575417578586112e+16 8.71177191527851e+19\n",
      "3.530857223511081e+17 3.266277569521982e+21\n",
      "-2.6615663225208832e+17 -1.4382521255484855e+22\n",
      "2.0519301501834756e+19 2.1953545782595477e+23\n",
      "5.466365873609297e+19 -2.3716752594723091e+24\n",
      "7.495569558251294e+20 1.5036492190959858e+25\n",
      "-2.3229303417398817e+22 2.8586887931562767e+26\n",
      "4.109076193533511e+22 4.078317155428055e+27\n",
      "-3.809584692614349e+24 -3.5560019356551753e+28\n",
      "2.334919320624997e+26 -1.4426959564692375e+30\n",
      "8.205066800047329e+24 -2.164229399036158e+31\n",
      "4.163966480209538e+28 -3.419248803801824e+32\n",
      "1.084202831751581e+29 -1.70023249899349e+33\n",
      "1.8165196584000863e+29 -3.829357371207655e+33\n",
      "-2.0942581628615557e+30 -1.3330767216564932e+34\n",
      "-1.792744658779022e+30 -9.182462331360644e+33\n",
      "nan -2.8906624855000635e+35\n",
      "nan nan\n",
      "nan nan\n",
      "nan nan\n",
      "nan nan\n",
      "nan nan\n",
      "nan nan\n",
      "nan nan\n",
      "nan nan\n",
      "nan nan\n",
      "nan nan\n",
      "nan nan\n",
      "nan nan\n",
      "nan nan\n",
      "nan nan\n",
      "nan nan\n",
      "nan nan\n",
      "nan nan\n",
      "nan nan\n",
      "nan nan\n",
      "nan nan\n",
      "nan nan\n",
      "nan nan\n",
      "nan nan\n",
      "nan nan\n",
      "nan nan\n",
      "nan nan\n",
      "nan nan\n",
      "nan nan\n",
      "nan nan\n",
      "nan nan\n",
      "nan nan\n",
      "nan nan\n",
      "nan nan\n",
      "nan nan\n",
      "nan nan\n",
      "nan nan\n",
      "nan nan\n",
      "nan nan\n",
      "nan nan\n",
      "nan nan\n",
      "nan nan\n",
      "nan nan\n",
      "nan nan\n",
      "nan nan\n",
      "nan nan\n",
      "nan nan\n",
      "nan nan\n",
      "nan nan\n",
      "nan nan\n",
      "nan nan\n",
      "nan nan\n",
      "nan nan\n",
      "nan nan\n",
      "nan nan\n",
      "nan nan\n",
      "nan nan\n",
      "nan nan\n",
      "nan nan\n",
      "nan nan\n",
      "nan nan\n",
      "nan nan\n",
      "nan nan\n",
      "nan nan\n",
      "nan nan\n",
      "nan nan\n",
      "nan nan\n",
      "nan nan\n",
      "nan nan\n",
      "nan nan\n",
      "nan nan\n",
      "nan nan\n",
      "nan nan\n",
      "nan nan\n",
      "nan nan\n",
      "nan nan\n",
      "nan nan\n",
      "nan nan\n",
      "nan nan\n",
      "nan nan\n",
      "nan nan\n",
      "nan nan\n",
      "nan nan\n",
      "nan nan\n",
      "nan nan\n",
      "nan nan\n",
      "nan nan\n",
      "nan nan\n",
      "nan nan\n",
      "nan nan\n",
      "nan nan\n",
      "nan nan\n",
      "nan nan\n",
      "nan nan\n",
      "nan nan\n",
      "nan nan\n",
      "nan nan\n",
      "nan nan\n",
      "nan nan\n",
      "nan nan\n",
      "nan nan\n",
      "nan nan\n",
      "nan nan\n",
      "nan nan\n",
      "nan nan\n",
      "nan nan\n",
      "nan nan\n",
      "nan nan\n",
      "nan nan\n",
      "nan nan\n",
      "nan nan\n",
      "nan nan\n",
      "nan nan\n",
      "nan nan\n",
      "nan nan\n",
      "nan nan\n",
      "nan nan\n",
      "nan nan\n",
      "nan nan\n",
      "nan nan\n",
      "nan nan\n",
      "nan nan\n",
      "nan nan\n",
      "nan nan\n",
      "nan nan\n",
      "nan nan\n",
      "nan nan\n",
      "nan nan\n",
      "nan nan\n",
      "nan nan\n",
      "nan nan\n",
      "nan nan\n",
      "nan nan\n",
      "nan nan\n",
      "nan nan\n",
      "nan nan\n",
      "nan nan\n",
      "nan nan\n",
      "nan nan\n",
      "nan nan\n",
      "nan nan\n",
      "nan nan\n",
      "nan nan\n",
      "nan nan\n",
      "nan nan\n",
      "nan nan\n",
      "nan nan\n",
      "nan nan\n",
      "nan nan\n",
      "nan nan\n",
      "nan nan\n",
      "nan nan\n",
      "nan nan\n",
      "nan nan\n",
      "nan nan\n",
      "nan nan\n",
      "nan nan\n",
      "nan nan\n",
      "nan nan\n",
      "nan nan\n",
      "nan nan\n",
      "nan nan\n",
      "nan nan\n",
      "nan nan\n",
      "CPU times: user 3.13 s, sys: 43.7 ms, total: 3.17 s\n",
      "Wall time: 3.17 s\n"
     ]
    }
   ],
   "source": [
    "%%time\n",
    "learning_rate = 0.001\n",
    "N = 100000000\n",
    "epochs = 200\n",
    "\n",
    "w = torch.rand([N], requires_grad=True, device=cuda0)\n",
    "b = torch.ones([1], requires_grad=True, device=cuda0)\n",
    "\n",
    "for i in range(epochs):\n",
    "    \n",
    "    x = torch.randn([N], device=cuda0)\n",
    "    y = torch.dot(3* torch.ones([N], device=cuda0),x)-2\n",
    "    \n",
    "    y_hat = torch.dot(w, x) + b\n",
    "    loss = torch.sum((y_hat - y)**2)\n",
    "    \n",
    "    loss.backward()\n",
    "    \n",
    "    with torch.no_grad():\n",
    "        w -= learning_rate * w.grad\n",
    "        b -= learning_rate * b.grad\n",
    "        \n",
    "        w.grad.zero_()\n",
    "        b.grad.zero_()\n",
    "    \n",
    "    print(torch.mean(w).item(), b.item())"
   ]
  }
 ],
 "metadata": {
  "kernelspec": {
   "display_name": "Python 3",
   "language": "python",
   "name": "python3"
  },
  "language_info": {
   "codemirror_mode": {
    "name": "ipython",
    "version": 3
   },
   "file_extension": ".py",
   "mimetype": "text/x-python",
   "name": "python",
   "nbconvert_exporter": "python",
   "pygments_lexer": "ipython3",
   "version": "3.7.6"
  },
  "papermill": {
   "duration": 1396.670613,
   "end_time": "2020-12-30T12:32:34.212332",
   "environment_variables": {},
   "exception": null,
   "input_path": "__notebook__.ipynb",
   "output_path": "__notebook__.ipynb",
   "parameters": {},
   "start_time": "2020-12-30T12:09:17.541719",
   "version": "2.1.0"
  }
 },
 "nbformat": 4,
 "nbformat_minor": 4
}
