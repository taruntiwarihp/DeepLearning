{
 "cells": [
  {
   "cell_type": "markdown",
   "metadata": {
    "papermill": {
     "duration": 0.041744,
     "end_time": "2020-11-05T13:39:01.141927",
     "exception": false,
     "start_time": "2020-11-05T13:39:01.100183",
     "status": "completed"
    },
    "tags": []
   },
   "source": [
    "# McCulloch Pitts Neuron - Deep Learning Building Blocks\n",
    "\n",
    "   The fundamental block of deep learning is artificial neuron i.e. it takes a weighted aggregate of inputs, applies a function and gives an output. The very first step towards the artificial neuron was taken by Warren McCulloch and Walter Pitts in 1943 inspired by neurobiology, created a model known as McCulloch-Pitts Neuron.\n",
    "\n",
    "**Disclaimer**: The content and the structure of this article is based on the deep learning lectures from One-Fourth Labs — [Padhai](https://padhai.onefourthlabs.in/).\n",
    "\n",
    "**Motivation — Biological Neuron**\n",
    "\n",
    "The inspiration for the creation of an artificial neuron comes from the biological neuron.\n",
    "<img src='https://github.com/taruntiwarihp/raw_images/blob/master/DL1.png?raw=true'>\n",
    "\n",
    "                            Fig — 1 Biological Neuron — Padhai Deep Learning\n",
    "In a simplistic view, neurons receive signals and produce a response. The general structure of a neuron is shown in the Fig-1. Dendrites are the transmission channels to bring inputs from another neuron or another organ. Synapse — Governs the strength of the interaction between the neurons, consider it like weights we use in neural networks. Soma — The processing unit of the neuron.\n",
    "\n",
    "At the higher level, neuron takes a signal input through the dendrites, process it in the soma and passes the output through the axon (the brown color cable-like structure in the Fig-1).\n",
    "\n",
    "### McCulloch-Pitts Neuron Model\n",
    "\n",
    "MP Neuron Model introduced by Warren McCulloch and Walter Pitts in 1943. MP neuron model is also known as linear threshold gate model.\n",
    "\n",
    "#### Mathematical Model\n",
    "<img src='https://github.com/taruntiwarihp/raw_images/blob/master/DL2.png?raw=true'>\n",
    "                        Fig — 2 Simple representation of MP Neuron Model\n",
    "                        \n",
    "The function (soma) is actually split into two parts: **g** — The aggregates the inputs to a single numeric value and the function **f** produces the output of this neuron by taking the output of the **g** as the input i,e.. a single value as its argument. The function **f** will output the value 1 if the aggregation performed by the function **g** is greater than some threshold else it will return 0.\n",
    "\n",
    "The inputs x1, x2, ….. xn for the MP Neuron can only take boolean values and the inputs can be inhibitory or excitatory. Inhibitory inputs can have maximum effect on the decision-making process of the model. In some cases, inhibitory inputs can influence the final outcome of the model.\n",
    "\n",
    "<img src='https://github.com/taruntiwarihp/raw_images/blob/master/DL3.png?raw=true'>\n",
    "\n",
    "                                Fig — 3 Mathematical representation\n",
    "For example, I can predict my own decision of whether I would like to watch a movie in a nearby IMAX theater tomorrow or not using an MP Neuron Model. All the inputs to the model are boolean i.e., [0,1] and from the Fig — 2 we can see that output from the model will also be boolean. (0 — Not going to movie, 1 — going to the movie)\n",
    "\n",
    "Inputs for the above problem could be\n",
    "\n",
    "* x1 — IsRainingTomorrow (Whether it's going to rain tomorrow or not)\n",
    "* x2 — IsScifiMovie (I like science fiction movies)\n",
    "* x3 — IsSickTomorrow (Whether I am going to be sick tomorrow or not depends on any symptoms, eg: fever)\n",
    "* x4 — IsDirectedByNolan (Movie directed by Christopher Nolan or not.) etc….\n",
    "\n",
    "In this scenario, if x3 — IsSickTomorrow is equal to 1, then the output will always be 0. If I am not feeling well on the day of the movie then no matter whoever is the actor or director of the movie, I wouldn’t be going for a movie.\n",
    "\n",
    "### Loss Function\n",
    "Let's take an example of buying a phone based on some features of the features in the binary format. { y — 0: Not buying a phone and y — 1: buying a phone}\n",
    "<img src='https://github.com/taruntiwarihp/raw_images/blob/master/DL4.png?raw=true'>\n",
    "\n",
    "                                        Fig — 4: Buying a phone\n",
    "For each particular phone (observation) with a certain threshold value **b**, using the MP Neuron Model, we can predict the outcome using a condition that the summation of the inputs is greater than b then the predicted value will be 1 or else it will be 0. The loss for the particular observation will be squared difference between the Yactual and Ypredicted.\n",
    "\n",
    "<img src='https://github.com/taruntiwarihp/raw_images/blob/master/DL5.png?raw=true'>\n",
    "\n",
    "                            Fig — 5: MP Neuron Model for Buying a phone\n",
    "Similarly, for all the observations, calculate the summation of the squared difference between the Yactual and Ypredicted to get the total loss of the model for a particular threshold value **b**.\n",
    "\n",
    "<img src='https://github.com/taruntiwarihp/raw_images/blob/master/DL6.png?raw=true'>\n",
    "\n",
    "                                Fig — 6: Loss of the Model\n",
    "### Learning Algorithm\n",
    "\n",
    "The purpose of the learning algorithm is to find out the best value for the parameter **b** so that the loss of the model will be minimum. In the ideal scenario, the loss of the model for the best value of **b** would be zero.\n",
    "\n",
    "For n features in the data, the summation we are computing in Fig — 5 can take only values between 0 and n because all of our inputs are binary (0 or 1). 0 — indicates all the features described in the Fig — 4 are off and 1 — indicates all the features are on. Therefore the different values the threshold b can take will also vary from 0 to n. As we have only one parameter with a range of values 0 to n, we can use the brute force approach to find the best value of b.\n",
    "\n",
    "Initialize the b with a random integer [0,n]\n",
    "For each observation\n",
    "Find the predicted outcome, by using the formula in Fig — 5\n",
    "Calculate the summation of inputs and check whether its greater than or equal to b. If its greater than or equal to b, then the predicted outcome will be 1 or else it will be 0.\n",
    "\n",
    "After finding the predicting outcome compute the loss for each observation.\n",
    "Finally, compute the total loss of the model by summing up all the individual losses.\n",
    "Similarly, we can iterate over all the possible values of b and find the total loss of the model. Then we can choose the value of b, such that the loss is minimum.\n",
    "\n",
    "### Model Evaluation\n",
    "\n",
    "After finding the best threshold value b from the learning algorithm, we can evaluate the model on the test data by comparing the predicted outcome and the actual outcome.\n",
    "\n",
    "<img src='https://github.com/taruntiwarihp/raw_images/blob/master/DL7.png?raw=true'>\n",
    "\n",
    "                    Fig — 7: Predictions on the test data for b = 5\n",
    "For evaluation, we will calculate the accuracy score of the model.\n",
    "\n",
    "<img src='https://github.com/taruntiwarihp/raw_images/blob/master/DL8.png?raw=true'>\n",
    "\n",
    "                            Fig — 8: Accuracy metric\n",
    "For the above-shown test data, the accuracy of the MP neuron model = 75%.\n",
    "\n",
    "### Python Implementation of MP Neuron Model\n",
    "\n",
    "In this section, we will see how to implement MP neuron model using python. The data set we will be using is breast cancer data set from sklearn. Before start building the MP Neuron Model. We will start by loading the data and separating the response and target variables.\n",
    "\n",
    "Once we load the data, we can use the sklearn’s train_test_split function to split the data into two parts — training and testing in the ratio of 80:20."
   ]
  },
  {
   "cell_type": "markdown",
   "metadata": {
    "papermill": {
     "duration": 0.039481,
     "end_time": "2020-11-05T13:39:01.221257",
     "exception": false,
     "start_time": "2020-11-05T13:39:01.181776",
     "status": "completed"
    },
    "tags": []
   },
   "source": [
    "IMPORTANT:\n",
    "\n",
    "1. There are two alternate ways to writing the perceptron function:\n",
    "    w2x2 + w1x1 >= b\n",
    "    w2x2 + w1x1 + w0 >=0\n",
    "\n",
    "2. By comparing the two expressions, it's easy to see that wo=-b\n",
    "\n",
    "3. We will now focus on the second form w2x2 + w1x1 + w0 >=0 or w2x2 +w1x1 + w0x0 >=0 where x0=1\n",
    "\n",
    "4. Where y_pred=0 and y=1, the update rule is \n",
    "\n",
    "    w = w+x, which expands to \n",
    "    w2 = w2 + x2\n",
    "    w1 = w1 + x1\n",
    "    w0 = w0 + x0 ==> w0 = w0 + 1 ==> -b = -b + 1 ==> b = b - 1\n",
    "   \n",
    "5. When y_pred = 1 and y = 0, the update rule is \n",
    "    w = w - x, which expands to \n",
    "    w2 = w2 - x2\n",
    "    w1= w1 - x1\n",
    "    w0 = w0 - x- ==> w0 = w0 - 1 ==> -b = -b - 1 ==> b = b + 1\n",
    "  \n",
    "6. Note the difference in signs for the updates of w(w1, w2) and b.\n"
   ]
  },
  {
   "cell_type": "code",
   "execution_count": 1,
   "metadata": {
    "_cell_guid": "79c7e3d0-c299-4dcb-8224-4455121ee9b0",
    "_uuid": "d629ff2d2480ee46fbb7e2d37f6b5fab8052498a",
    "execution": {
     "iopub.execute_input": "2020-11-05T13:39:01.308234Z",
     "iopub.status.busy": "2020-11-05T13:39:01.307334Z",
     "iopub.status.idle": "2020-11-05T13:39:02.461087Z",
     "shell.execute_reply": "2020-11-05T13:39:02.460083Z"
    },
    "papermill": {
     "duration": 1.199435,
     "end_time": "2020-11-05T13:39:02.461233",
     "exception": false,
     "start_time": "2020-11-05T13:39:01.261798",
     "status": "completed"
    },
    "tags": []
   },
   "outputs": [],
   "source": [
    "# importing packages\n",
    "import numpy as np # linear algebra\n",
    "import pandas as pd # data processing, CSV file I/O (e.g. pd.read_csv)\n",
    "import sklearn.datasets"
   ]
  },
  {
   "cell_type": "code",
   "execution_count": 2,
   "metadata": {
    "execution": {
     "iopub.execute_input": "2020-11-05T13:39:02.548797Z",
     "iopub.status.busy": "2020-11-05T13:39:02.547974Z",
     "iopub.status.idle": "2020-11-05T13:39:02.572438Z",
     "shell.execute_reply": "2020-11-05T13:39:02.571618Z"
    },
    "papermill": {
     "duration": 0.069205,
     "end_time": "2020-11-05T13:39:02.572566",
     "exception": false,
     "start_time": "2020-11-05T13:39:02.503361",
     "status": "completed"
    },
    "tags": []
   },
   "outputs": [],
   "source": [
    "# reading Breast Cancer Dataset\n",
    "breast_cancer = sklearn.datasets.load_breast_cancer()"
   ]
  },
  {
   "cell_type": "markdown",
   "metadata": {
    "papermill": {
     "duration": 0.039979,
     "end_time": "2020-11-05T13:39:02.652951",
     "exception": false,
     "start_time": "2020-11-05T13:39:02.612972",
     "status": "completed"
    },
    "tags": []
   },
   "source": [
    "* X as set of features and y as class label\n",
    "* In this case we looking for primary classification problem wheather a particular tissue is malignant and benign\n",
    "    * Malignant means it has cancerous nature\n",
    "    * Benign means it does't has cancer"
   ]
  },
  {
   "cell_type": "code",
   "execution_count": 3,
   "metadata": {
    "execution": {
     "iopub.execute_input": "2020-11-05T13:39:02.739300Z",
     "iopub.status.busy": "2020-11-05T13:39:02.738207Z",
     "iopub.status.idle": "2020-11-05T13:39:02.741637Z",
     "shell.execute_reply": "2020-11-05T13:39:02.741052Z"
    },
    "papermill": {
     "duration": 0.048412,
     "end_time": "2020-11-05T13:39:02.741772",
     "exception": false,
     "start_time": "2020-11-05T13:39:02.693360",
     "status": "completed"
    },
    "tags": []
   },
   "outputs": [],
   "source": [
    "x = breast_cancer.data\n",
    "y = breast_cancer.target"
   ]
  },
  {
   "cell_type": "code",
   "execution_count": 4,
   "metadata": {
    "execution": {
     "iopub.execute_input": "2020-11-05T13:39:02.829567Z",
     "iopub.status.busy": "2020-11-05T13:39:02.828593Z",
     "iopub.status.idle": "2020-11-05T13:39:02.832240Z",
     "shell.execute_reply": "2020-11-05T13:39:02.832804Z"
    },
    "papermill": {
     "duration": 0.050801,
     "end_time": "2020-11-05T13:39:02.832982",
     "exception": false,
     "start_time": "2020-11-05T13:39:02.782181",
     "status": "completed"
    },
    "tags": []
   },
   "outputs": [
    {
     "name": "stdout",
     "output_type": "stream",
     "text": [
      "[[1.799e+01 1.038e+01 1.228e+02 ... 2.654e-01 4.601e-01 1.189e-01]\n",
      " [2.057e+01 1.777e+01 1.329e+02 ... 1.860e-01 2.750e-01 8.902e-02]\n",
      " [1.969e+01 2.125e+01 1.300e+02 ... 2.430e-01 3.613e-01 8.758e-02]\n",
      " ...\n",
      " [1.660e+01 2.808e+01 1.083e+02 ... 1.418e-01 2.218e-01 7.820e-02]\n",
      " [2.060e+01 2.933e+01 1.401e+02 ... 2.650e-01 4.087e-01 1.240e-01]\n",
      " [7.760e+00 2.454e+01 4.792e+01 ... 0.000e+00 2.871e-01 7.039e-02]]\n"
     ]
    }
   ],
   "source": [
    "print(x) # contains the series of data items(each such rows contains features)"
   ]
  },
  {
   "cell_type": "code",
   "execution_count": 5,
   "metadata": {
    "execution": {
     "iopub.execute_input": "2020-11-05T13:39:02.940546Z",
     "iopub.status.busy": "2020-11-05T13:39:02.939389Z",
     "iopub.status.idle": "2020-11-05T13:39:02.948146Z",
     "shell.execute_reply": "2020-11-05T13:39:02.947377Z"
    },
    "papermill": {
     "duration": 0.063406,
     "end_time": "2020-11-05T13:39:02.948271",
     "exception": false,
     "start_time": "2020-11-05T13:39:02.884865",
     "status": "completed"
    },
    "tags": []
   },
   "outputs": [
    {
     "name": "stdout",
     "output_type": "stream",
     "text": [
      "[0 0 0 0 0 0 0 0 0 0 0 0 0 0 0 0 0 0 0 1 1 1 0 0 0 0 0 0 0 0 0 0 0 0 0 0 0\n",
      " 1 0 0 0 0 0 0 0 0 1 0 1 1 1 1 1 0 0 1 0 0 1 1 1 1 0 1 0 0 1 1 1 1 0 1 0 0\n",
      " 1 0 1 0 0 1 1 1 0 0 1 0 0 0 1 1 1 0 1 1 0 0 1 1 1 0 0 1 1 1 1 0 1 1 0 1 1\n",
      " 1 1 1 1 1 1 0 0 0 1 0 0 1 1 1 0 0 1 0 1 0 0 1 0 0 1 1 0 1 1 0 1 1 1 1 0 1\n",
      " 1 1 1 1 1 1 1 1 0 1 1 1 1 0 0 1 0 1 1 0 0 1 1 0 0 1 1 1 1 0 1 1 0 0 0 1 0\n",
      " 1 0 1 1 1 0 1 1 0 0 1 0 0 0 0 1 0 0 0 1 0 1 0 1 1 0 1 0 0 0 0 1 1 0 0 1 1\n",
      " 1 0 1 1 1 1 1 0 0 1 1 0 1 1 0 0 1 0 1 1 1 1 0 1 1 1 1 1 0 1 0 0 0 0 0 0 0\n",
      " 0 0 0 0 0 0 0 1 1 1 1 1 1 0 1 0 1 1 0 1 1 0 1 0 0 1 1 1 1 1 1 1 1 1 1 1 1\n",
      " 1 0 1 1 0 1 0 1 1 1 1 1 1 1 1 1 1 1 1 1 1 0 1 1 1 0 1 0 1 1 1 1 0 0 0 1 1\n",
      " 1 1 0 1 0 1 0 1 1 1 0 1 1 1 1 1 1 1 0 0 0 1 1 1 1 1 1 1 1 1 1 1 0 0 1 0 0\n",
      " 0 1 0 0 1 1 1 1 1 0 1 1 1 1 1 0 1 1 1 0 1 1 0 0 1 1 1 1 1 1 0 1 1 1 1 1 1\n",
      " 1 0 1 1 1 1 1 0 1 1 0 1 1 1 1 1 1 1 1 1 1 1 1 0 1 0 0 1 0 1 1 1 1 1 0 1 1\n",
      " 0 1 0 1 1 0 1 0 1 1 1 1 1 1 1 1 0 0 1 1 1 1 1 1 0 1 1 1 1 1 1 1 1 1 1 0 1\n",
      " 1 1 1 1 1 1 0 1 0 1 1 0 1 1 1 1 1 0 0 1 0 1 0 1 1 1 1 1 0 1 1 0 1 0 1 0 0\n",
      " 1 1 1 0 1 1 1 1 1 1 1 1 1 1 1 0 1 0 0 1 1 1 1 1 1 1 1 1 1 1 1 1 1 1 1 1 1\n",
      " 1 1 1 1 1 1 1 0 0 0 0 0 0 1]\n"
     ]
    }
   ],
   "source": [
    "print(y) # contians 0s and 1s(labels)"
   ]
  },
  {
   "cell_type": "code",
   "execution_count": 6,
   "metadata": {
    "execution": {
     "iopub.execute_input": "2020-11-05T13:39:03.043811Z",
     "iopub.status.busy": "2020-11-05T13:39:03.042874Z",
     "iopub.status.idle": "2020-11-05T13:39:03.047097Z",
     "shell.execute_reply": "2020-11-05T13:39:03.046363Z"
    },
    "papermill": {
     "duration": 0.052972,
     "end_time": "2020-11-05T13:39:03.047224",
     "exception": false,
     "start_time": "2020-11-05T13:39:02.994252",
     "status": "completed"
    },
    "tags": []
   },
   "outputs": [
    {
     "name": "stdout",
     "output_type": "stream",
     "text": [
      "(569, 30) (569,)\n"
     ]
    }
   ],
   "source": [
    "print(x.shape, y.shape)"
   ]
  },
  {
   "cell_type": "code",
   "execution_count": 7,
   "metadata": {
    "execution": {
     "iopub.execute_input": "2020-11-05T13:39:03.149338Z",
     "iopub.status.busy": "2020-11-05T13:39:03.145231Z",
     "iopub.status.idle": "2020-11-05T13:39:03.153717Z",
     "shell.execute_reply": "2020-11-05T13:39:03.153114Z"
    },
    "papermill": {
     "duration": 0.060597,
     "end_time": "2020-11-05T13:39:03.153892",
     "exception": false,
     "start_time": "2020-11-05T13:39:03.093295",
     "status": "completed"
    },
    "tags": []
   },
   "outputs": [],
   "source": [
    "data = pd.DataFrame(breast_cancer.data, columns=breast_cancer.feature_names)"
   ]
  },
  {
   "cell_type": "code",
   "execution_count": 8,
   "metadata": {
    "execution": {
     "iopub.execute_input": "2020-11-05T13:39:03.251065Z",
     "iopub.status.busy": "2020-11-05T13:39:03.249904Z",
     "iopub.status.idle": "2020-11-05T13:39:03.254131Z",
     "shell.execute_reply": "2020-11-05T13:39:03.253108Z"
    },
    "papermill": {
     "duration": 0.057943,
     "end_time": "2020-11-05T13:39:03.254304",
     "exception": false,
     "start_time": "2020-11-05T13:39:03.196361",
     "status": "completed"
    },
    "tags": []
   },
   "outputs": [],
   "source": [
    "data['class'] = breast_cancer.target"
   ]
  },
  {
   "cell_type": "code",
   "execution_count": 9,
   "metadata": {
    "execution": {
     "iopub.execute_input": "2020-11-05T13:39:03.373671Z",
     "iopub.status.busy": "2020-11-05T13:39:03.372387Z",
     "iopub.status.idle": "2020-11-05T13:39:03.392115Z",
     "shell.execute_reply": "2020-11-05T13:39:03.391426Z"
    },
    "papermill": {
     "duration": 0.089051,
     "end_time": "2020-11-05T13:39:03.392246",
     "exception": false,
     "start_time": "2020-11-05T13:39:03.303195",
     "status": "completed"
    },
    "tags": []
   },
   "outputs": [
    {
     "data": {
      "text/html": [
       "<div>\n",
       "<style scoped>\n",
       "    .dataframe tbody tr th:only-of-type {\n",
       "        vertical-align: middle;\n",
       "    }\n",
       "\n",
       "    .dataframe tbody tr th {\n",
       "        vertical-align: top;\n",
       "    }\n",
       "\n",
       "    .dataframe thead th {\n",
       "        text-align: right;\n",
       "    }\n",
       "</style>\n",
       "<table border=\"1\" class=\"dataframe\">\n",
       "  <thead>\n",
       "    <tr style=\"text-align: right;\">\n",
       "      <th></th>\n",
       "      <th>mean radius</th>\n",
       "      <th>mean texture</th>\n",
       "      <th>mean perimeter</th>\n",
       "      <th>mean area</th>\n",
       "      <th>mean smoothness</th>\n",
       "      <th>mean compactness</th>\n",
       "      <th>mean concavity</th>\n",
       "      <th>mean concave points</th>\n",
       "      <th>mean symmetry</th>\n",
       "      <th>mean fractal dimension</th>\n",
       "      <th>...</th>\n",
       "      <th>worst texture</th>\n",
       "      <th>worst perimeter</th>\n",
       "      <th>worst area</th>\n",
       "      <th>worst smoothness</th>\n",
       "      <th>worst compactness</th>\n",
       "      <th>worst concavity</th>\n",
       "      <th>worst concave points</th>\n",
       "      <th>worst symmetry</th>\n",
       "      <th>worst fractal dimension</th>\n",
       "      <th>class</th>\n",
       "    </tr>\n",
       "  </thead>\n",
       "  <tbody>\n",
       "    <tr>\n",
       "      <th>0</th>\n",
       "      <td>17.99</td>\n",
       "      <td>10.38</td>\n",
       "      <td>122.80</td>\n",
       "      <td>1001.0</td>\n",
       "      <td>0.11840</td>\n",
       "      <td>0.27760</td>\n",
       "      <td>0.3001</td>\n",
       "      <td>0.14710</td>\n",
       "      <td>0.2419</td>\n",
       "      <td>0.07871</td>\n",
       "      <td>...</td>\n",
       "      <td>17.33</td>\n",
       "      <td>184.60</td>\n",
       "      <td>2019.0</td>\n",
       "      <td>0.1622</td>\n",
       "      <td>0.6656</td>\n",
       "      <td>0.7119</td>\n",
       "      <td>0.2654</td>\n",
       "      <td>0.4601</td>\n",
       "      <td>0.11890</td>\n",
       "      <td>0</td>\n",
       "    </tr>\n",
       "    <tr>\n",
       "      <th>1</th>\n",
       "      <td>20.57</td>\n",
       "      <td>17.77</td>\n",
       "      <td>132.90</td>\n",
       "      <td>1326.0</td>\n",
       "      <td>0.08474</td>\n",
       "      <td>0.07864</td>\n",
       "      <td>0.0869</td>\n",
       "      <td>0.07017</td>\n",
       "      <td>0.1812</td>\n",
       "      <td>0.05667</td>\n",
       "      <td>...</td>\n",
       "      <td>23.41</td>\n",
       "      <td>158.80</td>\n",
       "      <td>1956.0</td>\n",
       "      <td>0.1238</td>\n",
       "      <td>0.1866</td>\n",
       "      <td>0.2416</td>\n",
       "      <td>0.1860</td>\n",
       "      <td>0.2750</td>\n",
       "      <td>0.08902</td>\n",
       "      <td>0</td>\n",
       "    </tr>\n",
       "    <tr>\n",
       "      <th>2</th>\n",
       "      <td>19.69</td>\n",
       "      <td>21.25</td>\n",
       "      <td>130.00</td>\n",
       "      <td>1203.0</td>\n",
       "      <td>0.10960</td>\n",
       "      <td>0.15990</td>\n",
       "      <td>0.1974</td>\n",
       "      <td>0.12790</td>\n",
       "      <td>0.2069</td>\n",
       "      <td>0.05999</td>\n",
       "      <td>...</td>\n",
       "      <td>25.53</td>\n",
       "      <td>152.50</td>\n",
       "      <td>1709.0</td>\n",
       "      <td>0.1444</td>\n",
       "      <td>0.4245</td>\n",
       "      <td>0.4504</td>\n",
       "      <td>0.2430</td>\n",
       "      <td>0.3613</td>\n",
       "      <td>0.08758</td>\n",
       "      <td>0</td>\n",
       "    </tr>\n",
       "    <tr>\n",
       "      <th>3</th>\n",
       "      <td>11.42</td>\n",
       "      <td>20.38</td>\n",
       "      <td>77.58</td>\n",
       "      <td>386.1</td>\n",
       "      <td>0.14250</td>\n",
       "      <td>0.28390</td>\n",
       "      <td>0.2414</td>\n",
       "      <td>0.10520</td>\n",
       "      <td>0.2597</td>\n",
       "      <td>0.09744</td>\n",
       "      <td>...</td>\n",
       "      <td>26.50</td>\n",
       "      <td>98.87</td>\n",
       "      <td>567.7</td>\n",
       "      <td>0.2098</td>\n",
       "      <td>0.8663</td>\n",
       "      <td>0.6869</td>\n",
       "      <td>0.2575</td>\n",
       "      <td>0.6638</td>\n",
       "      <td>0.17300</td>\n",
       "      <td>0</td>\n",
       "    </tr>\n",
       "    <tr>\n",
       "      <th>4</th>\n",
       "      <td>20.29</td>\n",
       "      <td>14.34</td>\n",
       "      <td>135.10</td>\n",
       "      <td>1297.0</td>\n",
       "      <td>0.10030</td>\n",
       "      <td>0.13280</td>\n",
       "      <td>0.1980</td>\n",
       "      <td>0.10430</td>\n",
       "      <td>0.1809</td>\n",
       "      <td>0.05883</td>\n",
       "      <td>...</td>\n",
       "      <td>16.67</td>\n",
       "      <td>152.20</td>\n",
       "      <td>1575.0</td>\n",
       "      <td>0.1374</td>\n",
       "      <td>0.2050</td>\n",
       "      <td>0.4000</td>\n",
       "      <td>0.1625</td>\n",
       "      <td>0.2364</td>\n",
       "      <td>0.07678</td>\n",
       "      <td>0</td>\n",
       "    </tr>\n",
       "  </tbody>\n",
       "</table>\n",
       "<p>5 rows × 31 columns</p>\n",
       "</div>"
      ],
      "text/plain": [
       "   mean radius  mean texture  mean perimeter  mean area  mean smoothness  \\\n",
       "0        17.99         10.38          122.80     1001.0          0.11840   \n",
       "1        20.57         17.77          132.90     1326.0          0.08474   \n",
       "2        19.69         21.25          130.00     1203.0          0.10960   \n",
       "3        11.42         20.38           77.58      386.1          0.14250   \n",
       "4        20.29         14.34          135.10     1297.0          0.10030   \n",
       "\n",
       "   mean compactness  mean concavity  mean concave points  mean symmetry  \\\n",
       "0           0.27760          0.3001              0.14710         0.2419   \n",
       "1           0.07864          0.0869              0.07017         0.1812   \n",
       "2           0.15990          0.1974              0.12790         0.2069   \n",
       "3           0.28390          0.2414              0.10520         0.2597   \n",
       "4           0.13280          0.1980              0.10430         0.1809   \n",
       "\n",
       "   mean fractal dimension  ...  worst texture  worst perimeter  worst area  \\\n",
       "0                 0.07871  ...          17.33           184.60      2019.0   \n",
       "1                 0.05667  ...          23.41           158.80      1956.0   \n",
       "2                 0.05999  ...          25.53           152.50      1709.0   \n",
       "3                 0.09744  ...          26.50            98.87       567.7   \n",
       "4                 0.05883  ...          16.67           152.20      1575.0   \n",
       "\n",
       "   worst smoothness  worst compactness  worst concavity  worst concave points  \\\n",
       "0            0.1622             0.6656           0.7119                0.2654   \n",
       "1            0.1238             0.1866           0.2416                0.1860   \n",
       "2            0.1444             0.4245           0.4504                0.2430   \n",
       "3            0.2098             0.8663           0.6869                0.2575   \n",
       "4            0.1374             0.2050           0.4000                0.1625   \n",
       "\n",
       "   worst symmetry  worst fractal dimension  class  \n",
       "0          0.4601                  0.11890      0  \n",
       "1          0.2750                  0.08902      0  \n",
       "2          0.3613                  0.08758      0  \n",
       "3          0.6638                  0.17300      0  \n",
       "4          0.2364                  0.07678      0  \n",
       "\n",
       "[5 rows x 31 columns]"
      ]
     },
     "execution_count": 9,
     "metadata": {},
     "output_type": "execute_result"
    }
   ],
   "source": [
    "data.head()"
   ]
  },
  {
   "cell_type": "code",
   "execution_count": 10,
   "metadata": {
    "execution": {
     "iopub.execute_input": "2020-11-05T13:39:03.491642Z",
     "iopub.status.busy": "2020-11-05T13:39:03.490555Z",
     "iopub.status.idle": "2020-11-05T13:39:03.588212Z",
     "shell.execute_reply": "2020-11-05T13:39:03.588821Z"
    },
    "papermill": {
     "duration": 0.152598,
     "end_time": "2020-11-05T13:39:03.589029",
     "exception": false,
     "start_time": "2020-11-05T13:39:03.436431",
     "status": "completed"
    },
    "tags": []
   },
   "outputs": [
    {
     "data": {
      "text/html": [
       "<div>\n",
       "<style scoped>\n",
       "    .dataframe tbody tr th:only-of-type {\n",
       "        vertical-align: middle;\n",
       "    }\n",
       "\n",
       "    .dataframe tbody tr th {\n",
       "        vertical-align: top;\n",
       "    }\n",
       "\n",
       "    .dataframe thead th {\n",
       "        text-align: right;\n",
       "    }\n",
       "</style>\n",
       "<table border=\"1\" class=\"dataframe\">\n",
       "  <thead>\n",
       "    <tr style=\"text-align: right;\">\n",
       "      <th></th>\n",
       "      <th>mean radius</th>\n",
       "      <th>mean texture</th>\n",
       "      <th>mean perimeter</th>\n",
       "      <th>mean area</th>\n",
       "      <th>mean smoothness</th>\n",
       "      <th>mean compactness</th>\n",
       "      <th>mean concavity</th>\n",
       "      <th>mean concave points</th>\n",
       "      <th>mean symmetry</th>\n",
       "      <th>mean fractal dimension</th>\n",
       "      <th>...</th>\n",
       "      <th>worst texture</th>\n",
       "      <th>worst perimeter</th>\n",
       "      <th>worst area</th>\n",
       "      <th>worst smoothness</th>\n",
       "      <th>worst compactness</th>\n",
       "      <th>worst concavity</th>\n",
       "      <th>worst concave points</th>\n",
       "      <th>worst symmetry</th>\n",
       "      <th>worst fractal dimension</th>\n",
       "      <th>class</th>\n",
       "    </tr>\n",
       "  </thead>\n",
       "  <tbody>\n",
       "    <tr>\n",
       "      <th>count</th>\n",
       "      <td>569.000000</td>\n",
       "      <td>569.000000</td>\n",
       "      <td>569.000000</td>\n",
       "      <td>569.000000</td>\n",
       "      <td>569.000000</td>\n",
       "      <td>569.000000</td>\n",
       "      <td>569.000000</td>\n",
       "      <td>569.000000</td>\n",
       "      <td>569.000000</td>\n",
       "      <td>569.000000</td>\n",
       "      <td>...</td>\n",
       "      <td>569.000000</td>\n",
       "      <td>569.000000</td>\n",
       "      <td>569.000000</td>\n",
       "      <td>569.000000</td>\n",
       "      <td>569.000000</td>\n",
       "      <td>569.000000</td>\n",
       "      <td>569.000000</td>\n",
       "      <td>569.000000</td>\n",
       "      <td>569.000000</td>\n",
       "      <td>569.000000</td>\n",
       "    </tr>\n",
       "    <tr>\n",
       "      <th>mean</th>\n",
       "      <td>14.127292</td>\n",
       "      <td>19.289649</td>\n",
       "      <td>91.969033</td>\n",
       "      <td>654.889104</td>\n",
       "      <td>0.096360</td>\n",
       "      <td>0.104341</td>\n",
       "      <td>0.088799</td>\n",
       "      <td>0.048919</td>\n",
       "      <td>0.181162</td>\n",
       "      <td>0.062798</td>\n",
       "      <td>...</td>\n",
       "      <td>25.677223</td>\n",
       "      <td>107.261213</td>\n",
       "      <td>880.583128</td>\n",
       "      <td>0.132369</td>\n",
       "      <td>0.254265</td>\n",
       "      <td>0.272188</td>\n",
       "      <td>0.114606</td>\n",
       "      <td>0.290076</td>\n",
       "      <td>0.083946</td>\n",
       "      <td>0.627417</td>\n",
       "    </tr>\n",
       "    <tr>\n",
       "      <th>std</th>\n",
       "      <td>3.524049</td>\n",
       "      <td>4.301036</td>\n",
       "      <td>24.298981</td>\n",
       "      <td>351.914129</td>\n",
       "      <td>0.014064</td>\n",
       "      <td>0.052813</td>\n",
       "      <td>0.079720</td>\n",
       "      <td>0.038803</td>\n",
       "      <td>0.027414</td>\n",
       "      <td>0.007060</td>\n",
       "      <td>...</td>\n",
       "      <td>6.146258</td>\n",
       "      <td>33.602542</td>\n",
       "      <td>569.356993</td>\n",
       "      <td>0.022832</td>\n",
       "      <td>0.157336</td>\n",
       "      <td>0.208624</td>\n",
       "      <td>0.065732</td>\n",
       "      <td>0.061867</td>\n",
       "      <td>0.018061</td>\n",
       "      <td>0.483918</td>\n",
       "    </tr>\n",
       "    <tr>\n",
       "      <th>min</th>\n",
       "      <td>6.981000</td>\n",
       "      <td>9.710000</td>\n",
       "      <td>43.790000</td>\n",
       "      <td>143.500000</td>\n",
       "      <td>0.052630</td>\n",
       "      <td>0.019380</td>\n",
       "      <td>0.000000</td>\n",
       "      <td>0.000000</td>\n",
       "      <td>0.106000</td>\n",
       "      <td>0.049960</td>\n",
       "      <td>...</td>\n",
       "      <td>12.020000</td>\n",
       "      <td>50.410000</td>\n",
       "      <td>185.200000</td>\n",
       "      <td>0.071170</td>\n",
       "      <td>0.027290</td>\n",
       "      <td>0.000000</td>\n",
       "      <td>0.000000</td>\n",
       "      <td>0.156500</td>\n",
       "      <td>0.055040</td>\n",
       "      <td>0.000000</td>\n",
       "    </tr>\n",
       "    <tr>\n",
       "      <th>25%</th>\n",
       "      <td>11.700000</td>\n",
       "      <td>16.170000</td>\n",
       "      <td>75.170000</td>\n",
       "      <td>420.300000</td>\n",
       "      <td>0.086370</td>\n",
       "      <td>0.064920</td>\n",
       "      <td>0.029560</td>\n",
       "      <td>0.020310</td>\n",
       "      <td>0.161900</td>\n",
       "      <td>0.057700</td>\n",
       "      <td>...</td>\n",
       "      <td>21.080000</td>\n",
       "      <td>84.110000</td>\n",
       "      <td>515.300000</td>\n",
       "      <td>0.116600</td>\n",
       "      <td>0.147200</td>\n",
       "      <td>0.114500</td>\n",
       "      <td>0.064930</td>\n",
       "      <td>0.250400</td>\n",
       "      <td>0.071460</td>\n",
       "      <td>0.000000</td>\n",
       "    </tr>\n",
       "    <tr>\n",
       "      <th>50%</th>\n",
       "      <td>13.370000</td>\n",
       "      <td>18.840000</td>\n",
       "      <td>86.240000</td>\n",
       "      <td>551.100000</td>\n",
       "      <td>0.095870</td>\n",
       "      <td>0.092630</td>\n",
       "      <td>0.061540</td>\n",
       "      <td>0.033500</td>\n",
       "      <td>0.179200</td>\n",
       "      <td>0.061540</td>\n",
       "      <td>...</td>\n",
       "      <td>25.410000</td>\n",
       "      <td>97.660000</td>\n",
       "      <td>686.500000</td>\n",
       "      <td>0.131300</td>\n",
       "      <td>0.211900</td>\n",
       "      <td>0.226700</td>\n",
       "      <td>0.099930</td>\n",
       "      <td>0.282200</td>\n",
       "      <td>0.080040</td>\n",
       "      <td>1.000000</td>\n",
       "    </tr>\n",
       "    <tr>\n",
       "      <th>75%</th>\n",
       "      <td>15.780000</td>\n",
       "      <td>21.800000</td>\n",
       "      <td>104.100000</td>\n",
       "      <td>782.700000</td>\n",
       "      <td>0.105300</td>\n",
       "      <td>0.130400</td>\n",
       "      <td>0.130700</td>\n",
       "      <td>0.074000</td>\n",
       "      <td>0.195700</td>\n",
       "      <td>0.066120</td>\n",
       "      <td>...</td>\n",
       "      <td>29.720000</td>\n",
       "      <td>125.400000</td>\n",
       "      <td>1084.000000</td>\n",
       "      <td>0.146000</td>\n",
       "      <td>0.339100</td>\n",
       "      <td>0.382900</td>\n",
       "      <td>0.161400</td>\n",
       "      <td>0.317900</td>\n",
       "      <td>0.092080</td>\n",
       "      <td>1.000000</td>\n",
       "    </tr>\n",
       "    <tr>\n",
       "      <th>max</th>\n",
       "      <td>28.110000</td>\n",
       "      <td>39.280000</td>\n",
       "      <td>188.500000</td>\n",
       "      <td>2501.000000</td>\n",
       "      <td>0.163400</td>\n",
       "      <td>0.345400</td>\n",
       "      <td>0.426800</td>\n",
       "      <td>0.201200</td>\n",
       "      <td>0.304000</td>\n",
       "      <td>0.097440</td>\n",
       "      <td>...</td>\n",
       "      <td>49.540000</td>\n",
       "      <td>251.200000</td>\n",
       "      <td>4254.000000</td>\n",
       "      <td>0.222600</td>\n",
       "      <td>1.058000</td>\n",
       "      <td>1.252000</td>\n",
       "      <td>0.291000</td>\n",
       "      <td>0.663800</td>\n",
       "      <td>0.207500</td>\n",
       "      <td>1.000000</td>\n",
       "    </tr>\n",
       "  </tbody>\n",
       "</table>\n",
       "<p>8 rows × 31 columns</p>\n",
       "</div>"
      ],
      "text/plain": [
       "       mean radius  mean texture  mean perimeter    mean area  \\\n",
       "count   569.000000    569.000000      569.000000   569.000000   \n",
       "mean     14.127292     19.289649       91.969033   654.889104   \n",
       "std       3.524049      4.301036       24.298981   351.914129   \n",
       "min       6.981000      9.710000       43.790000   143.500000   \n",
       "25%      11.700000     16.170000       75.170000   420.300000   \n",
       "50%      13.370000     18.840000       86.240000   551.100000   \n",
       "75%      15.780000     21.800000      104.100000   782.700000   \n",
       "max      28.110000     39.280000      188.500000  2501.000000   \n",
       "\n",
       "       mean smoothness  mean compactness  mean concavity  mean concave points  \\\n",
       "count       569.000000        569.000000      569.000000           569.000000   \n",
       "mean          0.096360          0.104341        0.088799             0.048919   \n",
       "std           0.014064          0.052813        0.079720             0.038803   \n",
       "min           0.052630          0.019380        0.000000             0.000000   \n",
       "25%           0.086370          0.064920        0.029560             0.020310   \n",
       "50%           0.095870          0.092630        0.061540             0.033500   \n",
       "75%           0.105300          0.130400        0.130700             0.074000   \n",
       "max           0.163400          0.345400        0.426800             0.201200   \n",
       "\n",
       "       mean symmetry  mean fractal dimension  ...  worst texture  \\\n",
       "count     569.000000              569.000000  ...     569.000000   \n",
       "mean        0.181162                0.062798  ...      25.677223   \n",
       "std         0.027414                0.007060  ...       6.146258   \n",
       "min         0.106000                0.049960  ...      12.020000   \n",
       "25%         0.161900                0.057700  ...      21.080000   \n",
       "50%         0.179200                0.061540  ...      25.410000   \n",
       "75%         0.195700                0.066120  ...      29.720000   \n",
       "max         0.304000                0.097440  ...      49.540000   \n",
       "\n",
       "       worst perimeter   worst area  worst smoothness  worst compactness  \\\n",
       "count       569.000000   569.000000        569.000000         569.000000   \n",
       "mean        107.261213   880.583128          0.132369           0.254265   \n",
       "std          33.602542   569.356993          0.022832           0.157336   \n",
       "min          50.410000   185.200000          0.071170           0.027290   \n",
       "25%          84.110000   515.300000          0.116600           0.147200   \n",
       "50%          97.660000   686.500000          0.131300           0.211900   \n",
       "75%         125.400000  1084.000000          0.146000           0.339100   \n",
       "max         251.200000  4254.000000          0.222600           1.058000   \n",
       "\n",
       "       worst concavity  worst concave points  worst symmetry  \\\n",
       "count       569.000000            569.000000      569.000000   \n",
       "mean          0.272188              0.114606        0.290076   \n",
       "std           0.208624              0.065732        0.061867   \n",
       "min           0.000000              0.000000        0.156500   \n",
       "25%           0.114500              0.064930        0.250400   \n",
       "50%           0.226700              0.099930        0.282200   \n",
       "75%           0.382900              0.161400        0.317900   \n",
       "max           1.252000              0.291000        0.663800   \n",
       "\n",
       "       worst fractal dimension       class  \n",
       "count               569.000000  569.000000  \n",
       "mean                  0.083946    0.627417  \n",
       "std                   0.018061    0.483918  \n",
       "min                   0.055040    0.000000  \n",
       "25%                   0.071460    0.000000  \n",
       "50%                   0.080040    1.000000  \n",
       "75%                   0.092080    1.000000  \n",
       "max                   0.207500    1.000000  \n",
       "\n",
       "[8 rows x 31 columns]"
      ]
     },
     "execution_count": 10,
     "metadata": {},
     "output_type": "execute_result"
    }
   ],
   "source": [
    "data.describe()"
   ]
  },
  {
   "cell_type": "code",
   "execution_count": 11,
   "metadata": {
    "execution": {
     "iopub.execute_input": "2020-11-05T13:39:03.692985Z",
     "iopub.status.busy": "2020-11-05T13:39:03.692070Z",
     "iopub.status.idle": "2020-11-05T13:39:03.696806Z",
     "shell.execute_reply": "2020-11-05T13:39:03.696173Z"
    },
    "papermill": {
     "duration": 0.059062,
     "end_time": "2020-11-05T13:39:03.696949",
     "exception": false,
     "start_time": "2020-11-05T13:39:03.637887",
     "status": "completed"
    },
    "tags": []
   },
   "outputs": [
    {
     "name": "stdout",
     "output_type": "stream",
     "text": [
      "1    357\n",
      "0    212\n",
      "Name: class, dtype: int64\n"
     ]
    }
   ],
   "source": [
    "print(data['class'].value_counts())"
   ]
  },
  {
   "cell_type": "code",
   "execution_count": 12,
   "metadata": {
    "execution": {
     "iopub.execute_input": "2020-11-05T13:39:03.793623Z",
     "iopub.status.busy": "2020-11-05T13:39:03.792865Z",
     "iopub.status.idle": "2020-11-05T13:39:03.797596Z",
     "shell.execute_reply": "2020-11-05T13:39:03.796990Z"
    },
    "papermill": {
     "duration": 0.055324,
     "end_time": "2020-11-05T13:39:03.797752",
     "exception": false,
     "start_time": "2020-11-05T13:39:03.742428",
     "status": "completed"
    },
    "tags": []
   },
   "outputs": [
    {
     "name": "stdout",
     "output_type": "stream",
     "text": [
      "['malignant' 'benign']\n"
     ]
    }
   ],
   "source": [
    "print(breast_cancer.target_names)"
   ]
  },
  {
   "cell_type": "markdown",
   "metadata": {
    "papermill": {
     "duration": 0.046056,
     "end_time": "2020-11-05T13:39:03.889863",
     "exception": false,
     "start_time": "2020-11-05T13:39:03.843807",
     "status": "completed"
    },
    "tags": []
   },
   "source": [
    "* malignant has 357 entries\n",
    "* benign has 212 entries\n",
    "* With cancer has more than without cancer"
   ]
  },
  {
   "cell_type": "code",
   "execution_count": 13,
   "metadata": {
    "execution": {
     "iopub.execute_input": "2020-11-05T13:39:04.039435Z",
     "iopub.status.busy": "2020-11-05T13:39:04.038572Z",
     "iopub.status.idle": "2020-11-05T13:39:04.045165Z",
     "shell.execute_reply": "2020-11-05T13:39:04.044162Z"
    },
    "papermill": {
     "duration": 0.101423,
     "end_time": "2020-11-05T13:39:04.045316",
     "exception": false,
     "start_time": "2020-11-05T13:39:03.943893",
     "status": "completed"
    },
    "tags": []
   },
   "outputs": [
    {
     "data": {
      "text/html": [
       "<div>\n",
       "<style scoped>\n",
       "    .dataframe tbody tr th:only-of-type {\n",
       "        vertical-align: middle;\n",
       "    }\n",
       "\n",
       "    .dataframe tbody tr th {\n",
       "        vertical-align: top;\n",
       "    }\n",
       "\n",
       "    .dataframe thead th {\n",
       "        text-align: right;\n",
       "    }\n",
       "</style>\n",
       "<table border=\"1\" class=\"dataframe\">\n",
       "  <thead>\n",
       "    <tr style=\"text-align: right;\">\n",
       "      <th></th>\n",
       "      <th>mean radius</th>\n",
       "      <th>mean texture</th>\n",
       "      <th>mean perimeter</th>\n",
       "      <th>mean area</th>\n",
       "      <th>mean smoothness</th>\n",
       "      <th>mean compactness</th>\n",
       "      <th>mean concavity</th>\n",
       "      <th>mean concave points</th>\n",
       "      <th>mean symmetry</th>\n",
       "      <th>mean fractal dimension</th>\n",
       "      <th>...</th>\n",
       "      <th>worst radius</th>\n",
       "      <th>worst texture</th>\n",
       "      <th>worst perimeter</th>\n",
       "      <th>worst area</th>\n",
       "      <th>worst smoothness</th>\n",
       "      <th>worst compactness</th>\n",
       "      <th>worst concavity</th>\n",
       "      <th>worst concave points</th>\n",
       "      <th>worst symmetry</th>\n",
       "      <th>worst fractal dimension</th>\n",
       "    </tr>\n",
       "    <tr>\n",
       "      <th>class</th>\n",
       "      <th></th>\n",
       "      <th></th>\n",
       "      <th></th>\n",
       "      <th></th>\n",
       "      <th></th>\n",
       "      <th></th>\n",
       "      <th></th>\n",
       "      <th></th>\n",
       "      <th></th>\n",
       "      <th></th>\n",
       "      <th></th>\n",
       "      <th></th>\n",
       "      <th></th>\n",
       "      <th></th>\n",
       "      <th></th>\n",
       "      <th></th>\n",
       "      <th></th>\n",
       "      <th></th>\n",
       "      <th></th>\n",
       "      <th></th>\n",
       "      <th></th>\n",
       "    </tr>\n",
       "  </thead>\n",
       "  <tbody>\n",
       "    <tr>\n",
       "      <th>0</th>\n",
       "      <td>17.462830</td>\n",
       "      <td>21.604906</td>\n",
       "      <td>115.365377</td>\n",
       "      <td>978.376415</td>\n",
       "      <td>0.102898</td>\n",
       "      <td>0.145188</td>\n",
       "      <td>0.160775</td>\n",
       "      <td>0.087990</td>\n",
       "      <td>0.192909</td>\n",
       "      <td>0.062680</td>\n",
       "      <td>...</td>\n",
       "      <td>21.134811</td>\n",
       "      <td>29.318208</td>\n",
       "      <td>141.370330</td>\n",
       "      <td>1422.286321</td>\n",
       "      <td>0.144845</td>\n",
       "      <td>0.374824</td>\n",
       "      <td>0.450606</td>\n",
       "      <td>0.182237</td>\n",
       "      <td>0.323468</td>\n",
       "      <td>0.091530</td>\n",
       "    </tr>\n",
       "    <tr>\n",
       "      <th>1</th>\n",
       "      <td>12.146524</td>\n",
       "      <td>17.914762</td>\n",
       "      <td>78.075406</td>\n",
       "      <td>462.790196</td>\n",
       "      <td>0.092478</td>\n",
       "      <td>0.080085</td>\n",
       "      <td>0.046058</td>\n",
       "      <td>0.025717</td>\n",
       "      <td>0.174186</td>\n",
       "      <td>0.062867</td>\n",
       "      <td>...</td>\n",
       "      <td>13.379801</td>\n",
       "      <td>23.515070</td>\n",
       "      <td>87.005938</td>\n",
       "      <td>558.899440</td>\n",
       "      <td>0.124959</td>\n",
       "      <td>0.182673</td>\n",
       "      <td>0.166238</td>\n",
       "      <td>0.074444</td>\n",
       "      <td>0.270246</td>\n",
       "      <td>0.079442</td>\n",
       "    </tr>\n",
       "  </tbody>\n",
       "</table>\n",
       "<p>2 rows × 30 columns</p>\n",
       "</div>"
      ],
      "text/plain": [
       "       mean radius  mean texture  mean perimeter   mean area  mean smoothness  \\\n",
       "class                                                                           \n",
       "0        17.462830     21.604906      115.365377  978.376415         0.102898   \n",
       "1        12.146524     17.914762       78.075406  462.790196         0.092478   \n",
       "\n",
       "       mean compactness  mean concavity  mean concave points  mean symmetry  \\\n",
       "class                                                                         \n",
       "0              0.145188        0.160775             0.087990       0.192909   \n",
       "1              0.080085        0.046058             0.025717       0.174186   \n",
       "\n",
       "       mean fractal dimension  ...  worst radius  worst texture  \\\n",
       "class                          ...                                \n",
       "0                    0.062680  ...     21.134811      29.318208   \n",
       "1                    0.062867  ...     13.379801      23.515070   \n",
       "\n",
       "       worst perimeter   worst area  worst smoothness  worst compactness  \\\n",
       "class                                                                      \n",
       "0           141.370330  1422.286321          0.144845           0.374824   \n",
       "1            87.005938   558.899440          0.124959           0.182673   \n",
       "\n",
       "       worst concavity  worst concave points  worst symmetry  \\\n",
       "class                                                          \n",
       "0             0.450606              0.182237        0.323468   \n",
       "1             0.166238              0.074444        0.270246   \n",
       "\n",
       "       worst fractal dimension  \n",
       "class                           \n",
       "0                     0.091530  \n",
       "1                     0.079442  \n",
       "\n",
       "[2 rows x 30 columns]"
      ]
     },
     "execution_count": 13,
     "metadata": {},
     "output_type": "execute_result"
    }
   ],
   "source": [
    "data.groupby('class').mean()"
   ]
  },
  {
   "cell_type": "markdown",
   "metadata": {
    "papermill": {
     "duration": 0.046357,
     "end_time": "2020-11-05T13:39:04.142245",
     "exception": false,
     "start_time": "2020-11-05T13:39:04.095888",
     "status": "completed"
    },
    "tags": []
   },
   "source": [
    "### Train Test Split"
   ]
  },
  {
   "cell_type": "code",
   "execution_count": 14,
   "metadata": {
    "execution": {
     "iopub.execute_input": "2020-11-05T13:39:04.242066Z",
     "iopub.status.busy": "2020-11-05T13:39:04.241246Z",
     "iopub.status.idle": "2020-11-05T13:39:04.302300Z",
     "shell.execute_reply": "2020-11-05T13:39:04.301493Z"
    },
    "papermill": {
     "duration": 0.113243,
     "end_time": "2020-11-05T13:39:04.302478",
     "exception": false,
     "start_time": "2020-11-05T13:39:04.189235",
     "status": "completed"
    },
    "tags": []
   },
   "outputs": [],
   "source": [
    "from sklearn.model_selection import train_test_split"
   ]
  },
  {
   "cell_type": "code",
   "execution_count": 15,
   "metadata": {
    "execution": {
     "iopub.execute_input": "2020-11-05T13:39:04.404953Z",
     "iopub.status.busy": "2020-11-05T13:39:04.403880Z",
     "iopub.status.idle": "2020-11-05T13:39:04.407251Z",
     "shell.execute_reply": "2020-11-05T13:39:04.406624Z"
    },
    "papermill": {
     "duration": 0.057339,
     "end_time": "2020-11-05T13:39:04.407389",
     "exception": false,
     "start_time": "2020-11-05T13:39:04.350050",
     "status": "completed"
    },
    "tags": []
   },
   "outputs": [],
   "source": [
    "x = data.drop('class', axis=1)\n",
    "y = data['class']"
   ]
  },
  {
   "cell_type": "code",
   "execution_count": 16,
   "metadata": {
    "execution": {
     "iopub.execute_input": "2020-11-05T13:39:04.509723Z",
     "iopub.status.busy": "2020-11-05T13:39:04.508557Z",
     "iopub.status.idle": "2020-11-05T13:39:04.512550Z",
     "shell.execute_reply": "2020-11-05T13:39:04.513220Z"
    },
    "papermill": {
     "duration": 0.058578,
     "end_time": "2020-11-05T13:39:04.513396",
     "exception": false,
     "start_time": "2020-11-05T13:39:04.454818",
     "status": "completed"
    },
    "tags": []
   },
   "outputs": [
    {
     "data": {
      "text/plain": [
       "pandas.core.frame.DataFrame"
      ]
     },
     "execution_count": 16,
     "metadata": {},
     "output_type": "execute_result"
    }
   ],
   "source": [
    "type(x)"
   ]
  },
  {
   "cell_type": "code",
   "execution_count": 17,
   "metadata": {
    "execution": {
     "iopub.execute_input": "2020-11-05T13:39:04.617724Z",
     "iopub.status.busy": "2020-11-05T13:39:04.616231Z",
     "iopub.status.idle": "2020-11-05T13:39:04.620700Z",
     "shell.execute_reply": "2020-11-05T13:39:04.621352Z"
    },
    "papermill": {
     "duration": 0.059724,
     "end_time": "2020-11-05T13:39:04.621512",
     "exception": false,
     "start_time": "2020-11-05T13:39:04.561788",
     "status": "completed"
    },
    "tags": []
   },
   "outputs": [],
   "source": [
    "X_train, X_test, Y_train, Y_test = train_test_split(x, y, test_size=0.1)"
   ]
  },
  {
   "cell_type": "code",
   "execution_count": 18,
   "metadata": {
    "execution": {
     "iopub.execute_input": "2020-11-05T13:39:04.724497Z",
     "iopub.status.busy": "2020-11-05T13:39:04.723546Z",
     "iopub.status.idle": "2020-11-05T13:39:04.727001Z",
     "shell.execute_reply": "2020-11-05T13:39:04.727581Z"
    },
    "papermill": {
     "duration": 0.057842,
     "end_time": "2020-11-05T13:39:04.727733",
     "exception": false,
     "start_time": "2020-11-05T13:39:04.669891",
     "status": "completed"
    },
    "tags": []
   },
   "outputs": [
    {
     "name": "stdout",
     "output_type": "stream",
     "text": [
      "(569, 30) (512, 30) (57, 30)\n"
     ]
    }
   ],
   "source": [
    "print(x.shape, X_train.shape, X_test.shape)"
   ]
  },
  {
   "cell_type": "code",
   "execution_count": 19,
   "metadata": {
    "execution": {
     "iopub.execute_input": "2020-11-05T13:39:04.831871Z",
     "iopub.status.busy": "2020-11-05T13:39:04.830799Z",
     "iopub.status.idle": "2020-11-05T13:39:04.834468Z",
     "shell.execute_reply": "2020-11-05T13:39:04.835064Z"
    },
    "papermill": {
     "duration": 0.05897,
     "end_time": "2020-11-05T13:39:04.835219",
     "exception": false,
     "start_time": "2020-11-05T13:39:04.776249",
     "status": "completed"
    },
    "tags": []
   },
   "outputs": [
    {
     "name": "stdout",
     "output_type": "stream",
     "text": [
      "(569,) (512,) (57,)\n"
     ]
    }
   ],
   "source": [
    "print(y.shape, Y_train.shape, Y_test.shape)"
   ]
  },
  {
   "cell_type": "code",
   "execution_count": 20,
   "metadata": {
    "execution": {
     "iopub.execute_input": "2020-11-05T13:39:04.940782Z",
     "iopub.status.busy": "2020-11-05T13:39:04.940028Z",
     "iopub.status.idle": "2020-11-05T13:39:04.944067Z",
     "shell.execute_reply": "2020-11-05T13:39:04.943329Z"
    },
    "papermill": {
     "duration": 0.059478,
     "end_time": "2020-11-05T13:39:04.944189",
     "exception": false,
     "start_time": "2020-11-05T13:39:04.884711",
     "status": "completed"
    },
    "tags": []
   },
   "outputs": [
    {
     "name": "stdout",
     "output_type": "stream",
     "text": [
      "0.6274165202108963 0.619140625 0.7017543859649122\n"
     ]
    }
   ],
   "source": [
    "print(y.mean(), Y_train.mean(), Y_test.mean())"
   ]
  },
  {
   "cell_type": "code",
   "execution_count": 21,
   "metadata": {
    "execution": {
     "iopub.execute_input": "2020-11-05T13:39:05.051277Z",
     "iopub.status.busy": "2020-11-05T13:39:05.050471Z",
     "iopub.status.idle": "2020-11-05T13:39:05.058761Z",
     "shell.execute_reply": "2020-11-05T13:39:05.059577Z"
    },
    "papermill": {
     "duration": 0.065919,
     "end_time": "2020-11-05T13:39:05.059746",
     "exception": false,
     "start_time": "2020-11-05T13:39:04.993827",
     "status": "completed"
    },
    "tags": []
   },
   "outputs": [],
   "source": [
    "X_train, X_test, Y_train, Y_test = train_test_split(x, y, test_size=0.1, stratify = y)"
   ]
  },
  {
   "cell_type": "code",
   "execution_count": 22,
   "metadata": {
    "execution": {
     "iopub.execute_input": "2020-11-05T13:39:05.166792Z",
     "iopub.status.busy": "2020-11-05T13:39:05.165647Z",
     "iopub.status.idle": "2020-11-05T13:39:05.169457Z",
     "shell.execute_reply": "2020-11-05T13:39:05.170233Z"
    },
    "papermill": {
     "duration": 0.0605,
     "end_time": "2020-11-05T13:39:05.170450",
     "exception": false,
     "start_time": "2020-11-05T13:39:05.109950",
     "status": "completed"
    },
    "tags": []
   },
   "outputs": [
    {
     "name": "stdout",
     "output_type": "stream",
     "text": [
      "0.6274165202108963 0.626953125 0.631578947368421\n"
     ]
    }
   ],
   "source": [
    "print(y.mean(), Y_train.mean(), Y_test.mean()) # now ratio is maintained of malignant and benign"
   ]
  },
  {
   "cell_type": "code",
   "execution_count": 23,
   "metadata": {
    "execution": {
     "iopub.execute_input": "2020-11-05T13:39:05.286289Z",
     "iopub.status.busy": "2020-11-05T13:39:05.285408Z",
     "iopub.status.idle": "2020-11-05T13:39:05.289649Z",
     "shell.execute_reply": "2020-11-05T13:39:05.290219Z"
    },
    "papermill": {
     "duration": 0.067675,
     "end_time": "2020-11-05T13:39:05.290388",
     "exception": false,
     "start_time": "2020-11-05T13:39:05.222713",
     "status": "completed"
    },
    "tags": []
   },
   "outputs": [
    {
     "name": "stdout",
     "output_type": "stream",
     "text": [
      "mean radius                 14.127292\n",
      "mean texture                19.289649\n",
      "mean perimeter              91.969033\n",
      "mean area                  654.889104\n",
      "mean smoothness              0.096360\n",
      "mean compactness             0.104341\n",
      "mean concavity               0.088799\n",
      "mean concave points          0.048919\n",
      "mean symmetry                0.181162\n",
      "mean fractal dimension       0.062798\n",
      "radius error                 0.405172\n",
      "texture error                1.216853\n",
      "perimeter error              2.866059\n",
      "area error                  40.337079\n",
      "smoothness error             0.007041\n",
      "compactness error            0.025478\n",
      "concavity error              0.031894\n",
      "concave points error         0.011796\n",
      "symmetry error               0.020542\n",
      "fractal dimension error      0.003795\n",
      "worst radius                16.269190\n",
      "worst texture               25.677223\n",
      "worst perimeter            107.261213\n",
      "worst area                 880.583128\n",
      "worst smoothness             0.132369\n",
      "worst compactness            0.254265\n",
      "worst concavity              0.272188\n",
      "worst concave points         0.114606\n",
      "worst symmetry               0.290076\n",
      "worst fractal dimension      0.083946\n",
      "dtype: float64 mean radius                 14.102033\n",
      "mean texture                19.368711\n",
      "mean perimeter              91.802441\n",
      "mean area                  652.668359\n",
      "mean smoothness              0.096316\n",
      "mean compactness             0.104431\n",
      "mean concavity               0.088958\n",
      "mean concave points          0.048866\n",
      "mean symmetry                0.181215\n",
      "mean fractal dimension       0.062849\n",
      "radius error                 0.406787\n",
      "texture error                1.224130\n",
      "perimeter error              2.874388\n",
      "area error                  40.529990\n",
      "smoothness error             0.007065\n",
      "compactness error            0.025649\n",
      "concavity error              0.032285\n",
      "concave points error         0.011808\n",
      "symmetry error               0.020529\n",
      "fractal dimension error      0.003799\n",
      "worst radius                16.237221\n",
      "worst texture               25.770293\n",
      "worst perimeter            106.998223\n",
      "worst area                 877.279883\n",
      "worst smoothness             0.132198\n",
      "worst compactness            0.253730\n",
      "worst concavity              0.272096\n",
      "worst concave points         0.113998\n",
      "worst symmetry               0.288691\n",
      "worst fractal dimension      0.083977\n",
      "dtype: float64 mean radius                 14.354175\n",
      "mean texture                18.579474\n",
      "mean perimeter              93.465439\n",
      "mean area                  674.836842\n",
      "mean smoothness              0.096762\n",
      "mean compactness             0.103536\n",
      "mean concavity               0.087371\n",
      "mean concave points          0.049396\n",
      "mean symmetry                0.180682\n",
      "mean fractal dimension       0.062338\n",
      "radius error                 0.390668\n",
      "texture error                1.151491\n",
      "perimeter error              2.791244\n",
      "area error                  38.604263\n",
      "smoothness error             0.006823\n",
      "compactness error            0.023947\n",
      "concavity error              0.028375\n",
      "concave points error         0.011685\n",
      "symmetry error               0.020662\n",
      "fractal dimension error      0.003760\n",
      "worst radius                16.556351\n",
      "worst texture               24.841228\n",
      "worst perimeter            109.623509\n",
      "worst area                 910.254386\n",
      "worst smoothness             0.133901\n",
      "worst compactness            0.259067\n",
      "worst concavity              0.273021\n",
      "worst concave points         0.120068\n",
      "worst symmetry               0.302516\n",
      "worst fractal dimension      0.083667\n",
      "dtype: float64\n"
     ]
    }
   ],
   "source": [
    "print(x.mean(), X_train.mean(), X_test.mean())"
   ]
  },
  {
   "cell_type": "code",
   "execution_count": 24,
   "metadata": {
    "execution": {
     "iopub.execute_input": "2020-11-05T13:39:05.400561Z",
     "iopub.status.busy": "2020-11-05T13:39:05.399712Z",
     "iopub.status.idle": "2020-11-05T13:39:05.406266Z",
     "shell.execute_reply": "2020-11-05T13:39:05.405573Z"
    },
    "papermill": {
     "duration": 0.064431,
     "end_time": "2020-11-05T13:39:05.406405",
     "exception": false,
     "start_time": "2020-11-05T13:39:05.341974",
     "status": "completed"
    },
    "tags": []
   },
   "outputs": [],
   "source": [
    "X_train, X_test, Y_train, Y_test = train_test_split(x, y, test_size=0.1, stratify = y, random_state=1)"
   ]
  },
  {
   "cell_type": "code",
   "execution_count": 25,
   "metadata": {
    "execution": {
     "iopub.execute_input": "2020-11-05T13:39:05.520741Z",
     "iopub.status.busy": "2020-11-05T13:39:05.519951Z",
     "iopub.status.idle": "2020-11-05T13:39:05.525195Z",
     "shell.execute_reply": "2020-11-05T13:39:05.524293Z"
    },
    "papermill": {
     "duration": 0.067222,
     "end_time": "2020-11-05T13:39:05.525370",
     "exception": false,
     "start_time": "2020-11-05T13:39:05.458148",
     "status": "completed"
    },
    "tags": []
   },
   "outputs": [
    {
     "name": "stdout",
     "output_type": "stream",
     "text": [
      "mean radius                 14.058656\n",
      "mean texture                19.309668\n",
      "mean perimeter              91.530488\n",
      "mean area                  648.097266\n",
      "mean smoothness              0.096568\n",
      "mean compactness             0.105144\n",
      "mean concavity               0.089342\n",
      "mean concave points          0.048892\n",
      "mean symmetry                0.181961\n",
      "mean fractal dimension       0.062979\n",
      "radius error                 0.403659\n",
      "texture error                1.206856\n",
      "perimeter error              2.861173\n",
      "area error                  39.935506\n",
      "smoothness error             0.007067\n",
      "compactness error            0.025681\n",
      "concavity error              0.032328\n",
      "concave points error         0.011963\n",
      "symmetry error               0.020584\n",
      "fractal dimension error      0.003815\n",
      "worst radius                16.194275\n",
      "worst texture               25.644902\n",
      "worst perimeter            106.757715\n",
      "worst area                 871.647852\n",
      "worst smoothness             0.132592\n",
      "worst compactness            0.257415\n",
      "worst concavity              0.275623\n",
      "worst concave points         0.115454\n",
      "worst symmetry               0.291562\n",
      "worst fractal dimension      0.084402\n",
      "dtype: float64 mean radius                 14.743807\n",
      "mean texture                19.109825\n",
      "mean perimeter              95.908246\n",
      "mean area                  715.896491\n",
      "mean smoothness              0.094496\n",
      "mean compactness             0.097130\n",
      "mean concavity               0.083923\n",
      "mean concave points          0.049159\n",
      "mean symmetry                0.173981\n",
      "mean fractal dimension       0.061169\n",
      "radius error                 0.418767\n",
      "texture error                1.306656\n",
      "perimeter error              2.909946\n",
      "area error                  43.944193\n",
      "smoothness error             0.006809\n",
      "compactness error            0.023659\n",
      "concavity error              0.027989\n",
      "concave points error         0.010293\n",
      "symmetry error               0.020169\n",
      "fractal dimension error      0.003618\n",
      "worst radius                16.942105\n",
      "worst texture               25.967544\n",
      "worst perimeter            111.783860\n",
      "worst area                 960.843860\n",
      "worst smoothness             0.130357\n",
      "worst compactness            0.225973\n",
      "worst concavity              0.241340\n",
      "worst concave points         0.106994\n",
      "worst symmetry               0.276719\n",
      "worst fractal dimension      0.079852\n",
      "dtype: float64 mean radius                 14.127292\n",
      "mean texture                19.289649\n",
      "mean perimeter              91.969033\n",
      "mean area                  654.889104\n",
      "mean smoothness              0.096360\n",
      "mean compactness             0.104341\n",
      "mean concavity               0.088799\n",
      "mean concave points          0.048919\n",
      "mean symmetry                0.181162\n",
      "mean fractal dimension       0.062798\n",
      "radius error                 0.405172\n",
      "texture error                1.216853\n",
      "perimeter error              2.866059\n",
      "area error                  40.337079\n",
      "smoothness error             0.007041\n",
      "compactness error            0.025478\n",
      "concavity error              0.031894\n",
      "concave points error         0.011796\n",
      "symmetry error               0.020542\n",
      "fractal dimension error      0.003795\n",
      "worst radius                16.269190\n",
      "worst texture               25.677223\n",
      "worst perimeter            107.261213\n",
      "worst area                 880.583128\n",
      "worst smoothness             0.132369\n",
      "worst compactness            0.254265\n",
      "worst concavity              0.272188\n",
      "worst concave points         0.114606\n",
      "worst symmetry               0.290076\n",
      "worst fractal dimension      0.083946\n",
      "dtype: float64\n"
     ]
    }
   ],
   "source": [
    "print(X_train.mean(), X_test.mean(),x.mean())"
   ]
  },
  {
   "cell_type": "markdown",
   "metadata": {
    "papermill": {
     "duration": 0.051742,
     "end_time": "2020-11-05T13:39:05.630808",
     "exception": false,
     "start_time": "2020-11-05T13:39:05.579066",
     "status": "completed"
    },
    "tags": []
   },
   "source": [
    "### Binarisation of input"
   ]
  },
  {
   "cell_type": "code",
   "execution_count": 26,
   "metadata": {
    "execution": {
     "iopub.execute_input": "2020-11-05T13:39:05.742280Z",
     "iopub.status.busy": "2020-11-05T13:39:05.741446Z",
     "iopub.status.idle": "2020-11-05T13:39:05.745322Z",
     "shell.execute_reply": "2020-11-05T13:39:05.744692Z"
    },
    "papermill": {
     "duration": 0.062385,
     "end_time": "2020-11-05T13:39:05.745456",
     "exception": false,
     "start_time": "2020-11-05T13:39:05.683071",
     "status": "completed"
    },
    "tags": []
   },
   "outputs": [],
   "source": [
    "import matplotlib.pyplot as plt"
   ]
  },
  {
   "cell_type": "code",
   "execution_count": 27,
   "metadata": {
    "execution": {
     "iopub.execute_input": "2020-11-05T13:39:05.858807Z",
     "iopub.status.busy": "2020-11-05T13:39:05.857951Z",
     "iopub.status.idle": "2020-11-05T13:39:07.103681Z",
     "shell.execute_reply": "2020-11-05T13:39:07.102922Z"
    },
    "papermill": {
     "duration": 1.305055,
     "end_time": "2020-11-05T13:39:07.103811",
     "exception": false,
     "start_time": "2020-11-05T13:39:05.798756",
     "status": "completed"
    },
    "tags": []
   },
   "outputs": [
    {
     "data": {
      "image/png": "[encoded data removed]",
      "text/plain": [
       "<Figure size 432x288 with 1 Axes>"
      ]
     },
     "metadata": {
      "needs_background": "light"
     },
     "output_type": "display_data"
    }
   ],
   "source": [
    "plt.plot(X_train.T, '*')\n",
    "plt.xticks(rotation='vertical')\n",
    "plt.show()"
   ]
  },
  {
   "cell_type": "code",
   "execution_count": 28,
   "metadata": {
    "execution": {
     "iopub.execute_input": "2020-11-05T13:39:07.220166Z",
     "iopub.status.busy": "2020-11-05T13:39:07.219323Z",
     "iopub.status.idle": "2020-11-05T13:39:07.222916Z",
     "shell.execute_reply": "2020-11-05T13:39:07.222196Z"
    },
    "papermill": {
     "duration": 0.065325,
     "end_time": "2020-11-05T13:39:07.223037",
     "exception": false,
     "start_time": "2020-11-05T13:39:07.157712",
     "status": "completed"
    },
    "tags": []
   },
   "outputs": [],
   "source": [
    "x_binarised_3_train = X_train['mean area'].map(lambda x: 0 if x < 1000 else 1)"
   ]
  },
  {
   "cell_type": "code",
   "execution_count": 29,
   "metadata": {
    "execution": {
     "iopub.execute_input": "2020-11-05T13:39:07.343554Z",
     "iopub.status.busy": "2020-11-05T13:39:07.342752Z",
     "iopub.status.idle": "2020-11-05T13:39:07.497045Z",
     "shell.execute_reply": "2020-11-05T13:39:07.496269Z"
    },
    "papermill": {
     "duration": 0.219126,
     "end_time": "2020-11-05T13:39:07.497181",
     "exception": false,
     "start_time": "2020-11-05T13:39:07.278055",
     "status": "completed"
    },
    "tags": []
   },
   "outputs": [
    {
     "data": {
      "text/plain": [
       "[<matplotlib.lines.Line2D at 0x7f1219d6d6d0>]"
      ]
     },
     "execution_count": 29,
     "metadata": {},
     "output_type": "execute_result"
    },
    {
     "data": {
      "image/png": "[encoded data removed]",
      "text/plain": [
       "<Figure size 432x288 with 1 Axes>"
      ]
     },
     "metadata": {
      "needs_background": "light"
     },
     "output_type": "display_data"
    }
   ],
   "source": [
    "plt.plot(x_binarised_3_train, '*')"
   ]
  },
  {
   "cell_type": "code",
   "execution_count": 30,
   "metadata": {
    "execution": {
     "iopub.execute_input": "2020-11-05T13:39:07.615332Z",
     "iopub.status.busy": "2020-11-05T13:39:07.614515Z",
     "iopub.status.idle": "2020-11-05T13:39:07.670927Z",
     "shell.execute_reply": "2020-11-05T13:39:07.670253Z"
    },
    "papermill": {
     "duration": 0.118238,
     "end_time": "2020-11-05T13:39:07.671052",
     "exception": false,
     "start_time": "2020-11-05T13:39:07.552814",
     "status": "completed"
    },
    "tags": []
   },
   "outputs": [],
   "source": [
    "x_binarised_train = X_train.apply(pd.cut, bins=2, labels=[1,0])"
   ]
  },
  {
   "cell_type": "code",
   "execution_count": 31,
   "metadata": {
    "execution": {
     "iopub.execute_input": "2020-11-05T13:39:07.801636Z",
     "iopub.status.busy": "2020-11-05T13:39:07.789475Z",
     "iopub.status.idle": "2020-11-05T13:39:09.035543Z",
     "shell.execute_reply": "2020-11-05T13:39:09.036184Z"
    },
    "papermill": {
     "duration": 1.308321,
     "end_time": "2020-11-05T13:39:09.036349",
     "exception": false,
     "start_time": "2020-11-05T13:39:07.728028",
     "status": "completed"
    },
    "tags": []
   },
   "outputs": [
    {
     "data": {
      "image/png": "[encoded data removed]",
      "text/plain": [
       "<Figure size 432x288 with 1 Axes>"
      ]
     },
     "metadata": {
      "needs_background": "light"
     },
     "output_type": "display_data"
    }
   ],
   "source": [
    "plt.plot(x_binarised_train.T, '*')\n",
    "plt.xticks(rotation='vertical')\n",
    "plt.show()"
   ]
  },
  {
   "cell_type": "code",
   "execution_count": 32,
   "metadata": {
    "execution": {
     "iopub.execute_input": "2020-11-05T13:39:09.176151Z",
     "iopub.status.busy": "2020-11-05T13:39:09.169381Z",
     "iopub.status.idle": "2020-11-05T13:39:09.354637Z",
     "shell.execute_reply": "2020-11-05T13:39:09.353712Z"
    },
    "papermill": {
     "duration": 0.260384,
     "end_time": "2020-11-05T13:39:09.354789",
     "exception": false,
     "start_time": "2020-11-05T13:39:09.094405",
     "status": "completed"
    },
    "tags": []
   },
   "outputs": [],
   "source": [
    "x_binarised_test = X_test.apply(pd.cut, bins=2, labels=[1,0])"
   ]
  },
  {
   "cell_type": "code",
   "execution_count": 33,
   "metadata": {
    "execution": {
     "iopub.execute_input": "2020-11-05T13:39:09.477443Z",
     "iopub.status.busy": "2020-11-05T13:39:09.476552Z",
     "iopub.status.idle": "2020-11-05T13:39:09.481033Z",
     "shell.execute_reply": "2020-11-05T13:39:09.480396Z"
    },
    "papermill": {
     "duration": 0.067733,
     "end_time": "2020-11-05T13:39:09.481170",
     "exception": false,
     "start_time": "2020-11-05T13:39:09.413437",
     "status": "completed"
    },
    "tags": []
   },
   "outputs": [
    {
     "data": {
      "text/plain": [
       "pandas.core.frame.DataFrame"
      ]
     },
     "execution_count": 33,
     "metadata": {},
     "output_type": "execute_result"
    }
   ],
   "source": [
    "type(x_binarised_test)"
   ]
  },
  {
   "cell_type": "code",
   "execution_count": 34,
   "metadata": {
    "execution": {
     "iopub.execute_input": "2020-11-05T13:39:09.614969Z",
     "iopub.status.busy": "2020-11-05T13:39:09.614031Z",
     "iopub.status.idle": "2020-11-05T13:39:09.618032Z",
     "shell.execute_reply": "2020-11-05T13:39:09.617360Z"
    },
    "papermill": {
     "duration": 0.078755,
     "end_time": "2020-11-05T13:39:09.618159",
     "exception": false,
     "start_time": "2020-11-05T13:39:09.539404",
     "status": "completed"
    },
    "tags": []
   },
   "outputs": [],
   "source": [
    "x_binarised_test = x_binarised_test.values\n",
    "x_binarised_train = x_binarised_train.values"
   ]
  },
  {
   "cell_type": "code",
   "execution_count": 35,
   "metadata": {
    "execution": {
     "iopub.execute_input": "2020-11-05T13:39:09.741421Z",
     "iopub.status.busy": "2020-11-05T13:39:09.740298Z",
     "iopub.status.idle": "2020-11-05T13:39:09.745089Z",
     "shell.execute_reply": "2020-11-05T13:39:09.744365Z"
    },
    "papermill": {
     "duration": 0.068604,
     "end_time": "2020-11-05T13:39:09.745214",
     "exception": false,
     "start_time": "2020-11-05T13:39:09.676610",
     "status": "completed"
    },
    "tags": []
   },
   "outputs": [
    {
     "data": {
      "text/plain": [
       "numpy.ndarray"
      ]
     },
     "execution_count": 35,
     "metadata": {},
     "output_type": "execute_result"
    }
   ],
   "source": [
    "type(x_binarised_train)"
   ]
  },
  {
   "cell_type": "markdown",
   "metadata": {
    "papermill": {
     "duration": 0.058283,
     "end_time": "2020-11-05T13:39:09.862603",
     "exception": false,
     "start_time": "2020-11-05T13:39:09.804320",
     "status": "completed"
    },
    "tags": []
   },
   "source": [
    "### MP neuron model"
   ]
  },
  {
   "cell_type": "code",
   "execution_count": 36,
   "metadata": {
    "execution": {
     "iopub.execute_input": "2020-11-05T13:39:09.987823Z",
     "iopub.status.busy": "2020-11-05T13:39:09.987081Z",
     "iopub.status.idle": "2020-11-05T13:39:09.990423Z",
     "shell.execute_reply": "2020-11-05T13:39:09.989644Z"
    },
    "papermill": {
     "duration": 0.068574,
     "end_time": "2020-11-05T13:39:09.990592",
     "exception": false,
     "start_time": "2020-11-05T13:39:09.922018",
     "status": "completed"
    },
    "tags": []
   },
   "outputs": [],
   "source": [
    "from random import randint"
   ]
  },
  {
   "cell_type": "code",
   "execution_count": 37,
   "metadata": {
    "execution": {
     "iopub.execute_input": "2020-11-05T13:39:10.120444Z",
     "iopub.status.busy": "2020-11-05T13:39:10.119578Z",
     "iopub.status.idle": "2020-11-05T13:39:10.124162Z",
     "shell.execute_reply": "2020-11-05T13:39:10.123124Z"
    },
    "papermill": {
     "duration": 0.073693,
     "end_time": "2020-11-05T13:39:10.124331",
     "exception": false,
     "start_time": "2020-11-05T13:39:10.050638",
     "status": "completed"
    },
    "tags": []
   },
   "outputs": [
    {
     "name": "stdout",
     "output_type": "stream",
     "text": [
      "For row 116\n",
      "MP Neuron inference is malignant\n",
      "Ground Truth is malignant\n"
     ]
    }
   ],
   "source": [
    "b = 3\n",
    "\n",
    "i = randint(0, x_binarised_train.shape[0])\n",
    "\n",
    "print(\"For row\", i)\n",
    "\n",
    "if (np.sum(x_binarised_train[100, :]) >= b):\n",
    "    print(\"MP Neuron inference is malignant\")\n",
    "else:\n",
    "    print(\"MP Neuron inference is benign\")\n",
    "\n",
    "if (Y_train[i] == 1):\n",
    "    print(\"Ground Truth is malignant\")\n",
    "else:\n",
    "    print(\"Ground truth is benign\")"
   ]
  },
  {
   "cell_type": "code",
   "execution_count": 38,
   "metadata": {
    "execution": {
     "iopub.execute_input": "2020-11-05T13:39:10.258445Z",
     "iopub.status.busy": "2020-11-05T13:39:10.257570Z",
     "iopub.status.idle": "2020-11-05T13:39:10.262347Z",
     "shell.execute_reply": "2020-11-05T13:39:10.261287Z"
    },
    "papermill": {
     "duration": 0.077532,
     "end_time": "2020-11-05T13:39:10.262739",
     "exception": false,
     "start_time": "2020-11-05T13:39:10.185207",
     "status": "completed"
    },
    "tags": []
   },
   "outputs": [
    {
     "name": "stdout",
     "output_type": "stream",
     "text": [
      "321 0.626953125\n"
     ]
    }
   ],
   "source": [
    "b = 3\n",
    "\n",
    "Y_pred_train = []\n",
    "accurate_rows = 0\n",
    "\n",
    "for x, y in zip(x_binarised_train, Y_train):\n",
    "    y_pred = (np.sum(x) >= b)\n",
    "    Y_pred_train.append(y_pred)\n",
    "    accurate_rows += (y == y_pred)\n",
    "\n",
    "print(accurate_rows, accurate_rows/x_binarised_train.shape[0])"
   ]
  },
  {
   "cell_type": "code",
   "execution_count": 39,
   "metadata": {
    "execution": {
     "iopub.execute_input": "2020-11-05T13:39:10.536943Z",
     "iopub.status.busy": "2020-11-05T13:39:10.453005Z",
     "iopub.status.idle": "2020-11-05T13:39:10.552401Z",
     "shell.execute_reply": "2020-11-05T13:39:10.553061Z"
    },
    "papermill": {
     "duration": 0.228792,
     "end_time": "2020-11-05T13:39:10.553245",
     "exception": false,
     "start_time": "2020-11-05T13:39:10.324453",
     "status": "completed"
    },
    "tags": []
   },
   "outputs": [
    {
     "name": "stdout",
     "output_type": "stream",
     "text": [
      "0 321 0.626953125\n",
      "1 321 0.626953125\n",
      "2 321 0.626953125\n",
      "3 321 0.626953125\n",
      "4 321 0.626953125\n",
      "5 321 0.626953125\n",
      "6 321 0.626953125\n",
      "7 321 0.626953125\n",
      "8 321 0.626953125\n",
      "9 321 0.626953125\n",
      "10 321 0.626953125\n",
      "11 321 0.626953125\n",
      "12 321 0.626953125\n",
      "13 321 0.626953125\n",
      "14 323 0.630859375\n",
      "15 324 0.6328125\n",
      "16 329 0.642578125\n",
      "17 332 0.6484375\n",
      "18 336 0.65625\n",
      "19 340 0.6640625\n",
      "20 344 0.671875\n",
      "21 352 0.6875\n",
      "22 359 0.701171875\n",
      "23 371 0.724609375\n",
      "24 387 0.755859375\n",
      "25 402 0.78515625\n",
      "26 419 0.818359375\n",
      "27 433 0.845703125\n",
      "28 435 0.849609375\n",
      "29 417 0.814453125\n",
      "30 389 0.759765625\n"
     ]
    }
   ],
   "source": [
    "for b in range(x_binarised_train.shape[1] + 1):\n",
    "    Y_pred_train = []\n",
    "    accurate_rows = 0\n",
    "\n",
    "    for x, y in zip(x_binarised_train, Y_train):\n",
    "        y_pred = (np.sum(x) >= b)\n",
    "        Y_pred_train.append(y_pred)\n",
    "        accurate_rows += (y == y_pred)\n",
    "\n",
    "    print(b, accurate_rows, accurate_rows/x_binarised_train.shape[0])"
   ]
  },
  {
   "cell_type": "code",
   "execution_count": 40,
   "metadata": {
    "execution": {
     "iopub.execute_input": "2020-11-05T13:39:10.682651Z",
     "iopub.status.busy": "2020-11-05T13:39:10.681802Z",
     "iopub.status.idle": "2020-11-05T13:39:10.685750Z",
     "shell.execute_reply": "2020-11-05T13:39:10.684992Z"
    },
    "papermill": {
     "duration": 0.070363,
     "end_time": "2020-11-05T13:39:10.685923",
     "exception": false,
     "start_time": "2020-11-05T13:39:10.615560",
     "status": "completed"
    },
    "tags": []
   },
   "outputs": [],
   "source": [
    "# Accuracy seems has to be most at b = 28"
   ]
  },
  {
   "cell_type": "code",
   "execution_count": 41,
   "metadata": {
    "execution": {
     "iopub.execute_input": "2020-11-05T13:39:10.815301Z",
     "iopub.status.busy": "2020-11-05T13:39:10.814287Z",
     "iopub.status.idle": "2020-11-05T13:39:10.817552Z",
     "shell.execute_reply": "2020-11-05T13:39:10.816720Z"
    },
    "papermill": {
     "duration": 0.069801,
     "end_time": "2020-11-05T13:39:10.817696",
     "exception": false,
     "start_time": "2020-11-05T13:39:10.747895",
     "status": "completed"
    },
    "tags": []
   },
   "outputs": [],
   "source": [
    "from sklearn.metrics import accuracy_score"
   ]
  },
  {
   "cell_type": "code",
   "execution_count": 42,
   "metadata": {
    "execution": {
     "iopub.execute_input": "2020-11-05T13:39:10.952525Z",
     "iopub.status.busy": "2020-11-05T13:39:10.951497Z",
     "iopub.status.idle": "2020-11-05T13:39:10.955136Z",
     "shell.execute_reply": "2020-11-05T13:39:10.955935Z"
    },
    "papermill": {
     "duration": 0.075787,
     "end_time": "2020-11-05T13:39:10.956141",
     "exception": false,
     "start_time": "2020-11-05T13:39:10.880354",
     "status": "completed"
    },
    "tags": []
   },
   "outputs": [
    {
     "name": "stdout",
     "output_type": "stream",
     "text": [
      "28 0.7894736842105263\n"
     ]
    }
   ],
   "source": [
    "b = 28 \n",
    "\n",
    "Y_pred_test = []\n",
    "\n",
    "for x in x_binarised_test:\n",
    "    y_pred = (np.sum(x) >= b)\n",
    "    Y_pred_test.append(y_pred)\n",
    "    \n",
    "accuracy = accuracy_score(Y_pred_test, Y_test)\n",
    "print(b,accuracy)"
   ]
  },
  {
   "cell_type": "markdown",
   "metadata": {
    "papermill": {
     "duration": 0.06249,
     "end_time": "2020-11-05T13:39:11.082374",
     "exception": false,
     "start_time": "2020-11-05T13:39:11.019884",
     "status": "completed"
    },
    "tags": []
   },
   "source": [
    "Remember from our previous discussion, MP Neuron takes only binary values as the input. So we need to convert the continuous features into binary format. To achieve this, we will use pandas.cut function to split all the features into 0 or 1 in one single shot. Once we are ready with the inputs we need to build the model, train it on the training data and evaluate the model performance on the test data.\n",
    "\n",
    "To create a MP Neuron Model we will create a class and inside this class, we will have three different functions:\n",
    "\n",
    "* model function — to calculate the summation of the Binarized inputs.\n",
    "* predict function — to predict the outcome for every observation in the data.\n",
    "* fit function — the fit function iterates over all the possible values of the threshold b and find the best value of b, such that the loss will be minimum"
   ]
  },
  {
   "cell_type": "markdown",
   "metadata": {
    "papermill": {
     "duration": 0.063234,
     "end_time": "2020-11-05T13:39:11.208306",
     "exception": false,
     "start_time": "2020-11-05T13:39:11.145072",
     "status": "completed"
    },
    "tags": []
   },
   "source": [
    "### MP Neuron Class"
   ]
  },
  {
   "cell_type": "code",
   "execution_count": 43,
   "metadata": {
    "execution": {
     "iopub.execute_input": "2020-11-05T13:39:11.346781Z",
     "iopub.status.busy": "2020-11-05T13:39:11.342759Z",
     "iopub.status.idle": "2020-11-05T13:39:11.350233Z",
     "shell.execute_reply": "2020-11-05T13:39:11.349544Z"
    },
    "papermill": {
     "duration": 0.079489,
     "end_time": "2020-11-05T13:39:11.350422",
     "exception": false,
     "start_time": "2020-11-05T13:39:11.270933",
     "status": "completed"
    },
    "tags": []
   },
   "outputs": [],
   "source": [
    "class MPNeuron:\n",
    "    \n",
    "    def __init__(self):\n",
    "        self.b = None\n",
    "    \n",
    "    def model(self, x):\n",
    "        return(sum(x) >= self.b)\n",
    "    \n",
    "    def predict(self, X):\n",
    "        Y = []\n",
    "        for x in X:\n",
    "            result = self.model(x)\n",
    "            Y.append(result)\n",
    "        return np.array(Y)\n",
    "    \n",
    "    def fit(self, X, Y):\n",
    "        accuracy = {}\n",
    "        \n",
    "        for b in range(X.shape[1] + 1):\n",
    "            self.b = b\n",
    "            Y_pred = self.predict(X)\n",
    "            accuracy[b] = accuracy_score(Y_pred, Y)\n",
    "        \n",
    "        best_b = max(accuracy,key = accuracy.get)\n",
    "        self.b = best_b\n",
    "        \n",
    "        print('Optimal Value of  is', best_b)\n",
    "        print('Highest accuracy is',accuracy[best_b])"
   ]
  },
  {
   "cell_type": "code",
   "execution_count": 44,
   "metadata": {
    "execution": {
     "iopub.execute_input": "2020-11-05T13:39:11.484953Z",
     "iopub.status.busy": "2020-11-05T13:39:11.482363Z",
     "iopub.status.idle": "2020-11-05T13:39:11.548884Z",
     "shell.execute_reply": "2020-11-05T13:39:11.548225Z"
    },
    "papermill": {
     "duration": 0.135782,
     "end_time": "2020-11-05T13:39:11.549021",
     "exception": false,
     "start_time": "2020-11-05T13:39:11.413239",
     "status": "completed"
    },
    "tags": []
   },
   "outputs": [
    {
     "name": "stdout",
     "output_type": "stream",
     "text": [
      "Optimal Value of  is 28\n",
      "Highest accuracy is 0.849609375\n"
     ]
    }
   ],
   "source": [
    "mp_neuron = MPNeuron()\n",
    "mp_neuron.fit(x_binarised_train, Y_train)"
   ]
  },
  {
   "cell_type": "code",
   "execution_count": 45,
   "metadata": {
    "execution": {
     "iopub.execute_input": "2020-11-05T13:39:11.682901Z",
     "iopub.status.busy": "2020-11-05T13:39:11.681958Z",
     "iopub.status.idle": "2020-11-05T13:39:11.685338Z",
     "shell.execute_reply": "2020-11-05T13:39:11.684668Z"
    },
    "papermill": {
     "duration": 0.073038,
     "end_time": "2020-11-05T13:39:11.685474",
     "exception": false,
     "start_time": "2020-11-05T13:39:11.612436",
     "status": "completed"
    },
    "tags": []
   },
   "outputs": [],
   "source": [
    "Y_test_pred = mp_neuron.predict(x_binarised_test)\n",
    "accuracy_test = accuracy_score(Y_test_pred, Y_test)"
   ]
  },
  {
   "cell_type": "code",
   "execution_count": 46,
   "metadata": {
    "execution": {
     "iopub.execute_input": "2020-11-05T13:39:11.820094Z",
     "iopub.status.busy": "2020-11-05T13:39:11.819186Z",
     "iopub.status.idle": "2020-11-05T13:39:11.822677Z",
     "shell.execute_reply": "2020-11-05T13:39:11.823301Z"
    },
    "papermill": {
     "duration": 0.073844,
     "end_time": "2020-11-05T13:39:11.823463",
     "exception": false,
     "start_time": "2020-11-05T13:39:11.749619",
     "status": "completed"
    },
    "tags": []
   },
   "outputs": [
    {
     "name": "stdout",
     "output_type": "stream",
     "text": [
      "0.7894736842105263\n"
     ]
    }
   ],
   "source": [
    "print(accuracy_test)"
   ]
  },
  {
   "cell_type": "markdown",
   "metadata": {
    "papermill": {
     "duration": 0.067077,
     "end_time": "2020-11-05T13:39:11.954740",
     "exception": false,
     "start_time": "2020-11-05T13:39:11.887663",
     "status": "completed"
    },
    "tags": []
   },
   "source": [
    "After building the model, test the model performance on the testing data and check the training data accuracy as well as the testing data accuracy.\n",
    "\n",
    "### Problems with MP Neuron Model\n",
    "* Boolean Inputs.\n",
    "* Boolean Outputs.\n",
    "* Threshold b can take only a few possible values.\n",
    "* All the inputs to the model have equal weights.\n",
    "\n",
    "### Summary\n",
    "We looked at the working of MP Neuron Model and its analogy towards biological neuron. In the end, we also saw the implementation of MP Neuron Model using python and a real word breast cancer data set."
   ]
  }
 ],
 "metadata": {
  "kernelspec": {
   "display_name": "Python 3",
   "language": "python",
   "name": "python3"
  },
  "language_info": {
   "codemirror_mode": {
    "name": "ipython",
    "version": 3
   },
   "file_extension": ".py",
   "mimetype": "text/x-python",
   "name": "python",
   "nbconvert_exporter": "python",
   "pygments_lexer": "ipython3",
   "version": "3.7.6"
  },
  "papermill": {
   "duration": 16.200136,
   "end_time": "2020-11-05T13:39:12.128306",
   "environment_variables": {},
   "exception": null,
   "input_path": "__notebook__.ipynb",
   "output_path": "__notebook__.ipynb",
   "parameters": {},
   "start_time": "2020-11-05T13:38:55.928170",
   "version": "2.1.0"
  }
 },
 "nbformat": 4,
 "nbformat_minor": 4
}
