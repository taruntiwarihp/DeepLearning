{
 "cells": [
  {
   "cell_type": "markdown",
   "metadata": {
    "papermill": {
     "duration": 0.03087,
     "end_time": "2021-04-12T07:37:53.104537",
     "exception": false,
     "start_time": "2021-04-12T07:37:53.073667",
     "status": "completed"
    },
    "tags": []
   },
   "source": [
    "![RNN](https://github.com/taruntiwarihp/raw_images/blob/master/1_goJVQs-p9kgLODFNyhl9zA.gif?raw=true)\n",
    "### Outline \n",
    "1. Introduce dataset\n",
    "2. Data Processing - Test-Train split, encoding, visualisation\n",
    "3. Basic RNN - Testing inference \n",
    "4. Evaluation and training \n",
    "5. LSTM\n",
    "6. GRU\n",
    "7. Batching for sequence models\n",
    "8. Padding and Packing in PyTorch\n",
    "9. Training with batched dataset\n",
    "10. Comparison of performance with batching and on GPU"
   ]
  },
  {
   "cell_type": "markdown",
   "metadata": {
    "papermill": {
     "duration": 0.02802,
     "end_time": "2021-04-12T07:37:53.160632",
     "exception": false,
     "start_time": "2021-04-12T07:37:53.132612",
     "status": "completed"
    },
    "tags": []
   },
   "source": [
    "The Recurrent neural networks are a class of artificial neural networks where the connection between nodes form a directed graph along a temporal sequence. Unlike the feed-forward neural networks, the recurrent neural networks use their internal state memory for processing sequences. This dynamic behavior of the Recurrent neural networks allows them to be very useful and applicable to audio analysis, handwritten recognition, and several such applications.\n",
    "#### Simple RNN implementation.\n",
    "Mathematically the simple RNN can be formulated as follows:\n",
    "\n",
    "Where x(t) and y(t) are the input and output vectors, Wᵢ, W, and W are the weight matrices and f and f are the hidden and output unit activation functions."
   ]
  },
  {
   "cell_type": "code",
   "execution_count": 1,
   "metadata": {
    "execution": {
     "iopub.execute_input": "2021-04-12T07:37:53.222659Z",
     "iopub.status.busy": "2021-04-12T07:37:53.221981Z",
     "iopub.status.idle": "2021-04-12T07:37:53.920617Z",
     "shell.execute_reply": "2021-04-12T07:37:53.919417Z"
    },
    "papermill": {
     "duration": 0.731914,
     "end_time": "2021-04-12T07:37:53.920804",
     "exception": false,
     "start_time": "2021-04-12T07:37:53.188890",
     "status": "completed"
    },
    "tags": []
   },
   "outputs": [],
   "source": [
    "from io import open \n",
    "import os, string, random, time, math\n",
    "import matplotlib.pyplot as plt\n",
    "import seaborn as sns\n",
    "import numpy as np"
   ]
  },
  {
   "cell_type": "code",
   "execution_count": 2,
   "metadata": {
    "execution": {
     "iopub.execute_input": "2021-04-12T07:37:53.982721Z",
     "iopub.status.busy": "2021-04-12T07:37:53.982026Z",
     "iopub.status.idle": "2021-04-12T07:37:54.166330Z",
     "shell.execute_reply": "2021-04-12T07:37:54.165826Z"
    },
    "papermill": {
     "duration": 0.216408,
     "end_time": "2021-04-12T07:37:54.166471",
     "exception": false,
     "start_time": "2021-04-12T07:37:53.950063",
     "status": "completed"
    },
    "tags": []
   },
   "outputs": [],
   "source": [
    "from sklearn.model_selection import train_test_split"
   ]
  },
  {
   "cell_type": "code",
   "execution_count": 3,
   "metadata": {
    "execution": {
     "iopub.execute_input": "2021-04-12T07:37:54.228435Z",
     "iopub.status.busy": "2021-04-12T07:37:54.227713Z",
     "iopub.status.idle": "2021-04-12T07:37:55.588352Z",
     "shell.execute_reply": "2021-04-12T07:37:55.587688Z"
    },
    "papermill": {
     "duration": 1.393204,
     "end_time": "2021-04-12T07:37:55.588490",
     "exception": false,
     "start_time": "2021-04-12T07:37:54.195286",
     "status": "completed"
    },
    "tags": []
   },
   "outputs": [],
   "source": [
    "import torch \n",
    "import torch.nn as nn\n",
    "import torch.optim as optim"
   ]
  },
  {
   "cell_type": "code",
   "execution_count": 4,
   "metadata": {
    "execution": {
     "iopub.execute_input": "2021-04-12T07:37:55.650780Z",
     "iopub.status.busy": "2021-04-12T07:37:55.649966Z",
     "iopub.status.idle": "2021-04-12T07:37:55.652761Z",
     "shell.execute_reply": "2021-04-12T07:37:55.652343Z"
    },
    "papermill": {
     "duration": 0.034909,
     "end_time": "2021-04-12T07:37:55.652877",
     "exception": false,
     "start_time": "2021-04-12T07:37:55.617968",
     "status": "completed"
    },
    "tags": []
   },
   "outputs": [],
   "source": [
    "from IPython.display import clear_output"
   ]
  },
  {
   "cell_type": "markdown",
   "metadata": {
    "papermill": {
     "duration": 0.028291,
     "end_time": "2021-04-12T07:37:55.709502",
     "exception": false,
     "start_time": "2021-04-12T07:37:55.681211",
     "status": "completed"
    },
    "tags": []
   },
   "source": [
    "More reading stuff\n",
    "1. [here](https://stanford.edu/~shervine/teaching/cs-230/cheatsheet-recurrent-neural-networks).\n",
    "2. [here](http://medium.com/analytics-vidhya/rnn-vs-gru-vs-lstm-863b0b7b1573)."
   ]
  },
  {
   "cell_type": "markdown",
   "metadata": {
    "papermill": {
     "duration": 0.028132,
     "end_time": "2021-04-12T07:37:55.766415",
     "exception": false,
     "start_time": "2021-04-12T07:37:55.738283",
     "status": "completed"
    },
    "tags": []
   },
   "source": [
    "### Dataset"
   ]
  },
  {
   "cell_type": "code",
   "execution_count": 5,
   "metadata": {
    "execution": {
     "iopub.execute_input": "2021-04-12T07:37:55.829792Z",
     "iopub.status.busy": "2021-04-12T07:37:55.829237Z",
     "iopub.status.idle": "2021-04-12T07:37:55.889186Z",
     "shell.execute_reply": "2021-04-12T07:37:55.888439Z"
    },
    "papermill": {
     "duration": 0.094452,
     "end_time": "2021-04-12T07:37:55.889321",
     "exception": false,
     "start_time": "2021-04-12T07:37:55.794869",
     "status": "completed"
    },
    "tags": []
   },
   "outputs": [],
   "source": [
    "languages = []\n",
    "data = []\n",
    "X = []\n",
    "y = []\n",
    "\n",
    "url = '../input/peta-data/data.txt'\n",
    "\n",
    "with open(url, 'r') as f:\n",
    "    for line in f:\n",
    "        line = line.split(',')\n",
    "        name = line[0].strip()\n",
    "        lang = line[1].strip()\n",
    "        if not lang in languages:\n",
    "            languages.append(lang)\n",
    "        X.append(name)\n",
    "        y.append(lang)\n",
    "        data.append((name, lang))\n",
    "        \n",
    "n_languages = len(languages)"
   ]
  },
  {
   "cell_type": "code",
   "execution_count": 6,
   "metadata": {
    "execution": {
     "iopub.execute_input": "2021-04-12T07:37:55.952079Z",
     "iopub.status.busy": "2021-04-12T07:37:55.951465Z",
     "iopub.status.idle": "2021-04-12T07:37:55.956643Z",
     "shell.execute_reply": "2021-04-12T07:37:55.956186Z"
    },
    "papermill": {
     "duration": 0.038546,
     "end_time": "2021-04-12T07:37:55.956758",
     "exception": false,
     "start_time": "2021-04-12T07:37:55.918212",
     "status": "completed"
    },
    "tags": []
   },
   "outputs": [
    {
     "name": "stdout",
     "output_type": "stream",
     "text": [
      "['Portuguese', 'Irish', 'Spanish', 'Vietnamese', 'Chinese', 'Greek', 'Czech', 'Dutch', 'Japanese', 'French', 'German', 'Scottish', 'English', 'Russian', 'Polish', 'Arabic', 'Korean', 'Italian']\n"
     ]
    }
   ],
   "source": [
    "print(languages)"
   ]
  },
  {
   "cell_type": "code",
   "execution_count": 7,
   "metadata": {
    "execution": {
     "iopub.execute_input": "2021-04-12T07:37:56.020034Z",
     "iopub.status.busy": "2021-04-12T07:37:56.019420Z",
     "iopub.status.idle": "2021-04-12T07:37:56.022432Z",
     "shell.execute_reply": "2021-04-12T07:37:56.022907Z"
    },
    "papermill": {
     "duration": 0.036868,
     "end_time": "2021-04-12T07:37:56.023037",
     "exception": false,
     "start_time": "2021-04-12T07:37:55.986169",
     "status": "completed"
    },
    "tags": []
   },
   "outputs": [
    {
     "name": "stdout",
     "output_type": "stream",
     "text": [
      "[('Abreu', 'Portuguese'), ('Albuquerque', 'Portuguese'), ('Almeida', 'Portuguese'), ('Alves', 'Portuguese'), ('Araujo', 'Portuguese'), ('Araullo', 'Portuguese'), ('Barros', 'Portuguese'), ('Basurto', 'Portuguese'), ('Belo', 'Portuguese'), ('Cabral', 'Portuguese')]\n"
     ]
    }
   ],
   "source": [
    "print(data[0:10])"
   ]
  },
  {
   "cell_type": "markdown",
   "metadata": {
    "papermill": {
     "duration": 0.029466,
     "end_time": "2021-04-12T07:37:56.082478",
     "exception": false,
     "start_time": "2021-04-12T07:37:56.053012",
     "status": "completed"
    },
    "tags": []
   },
   "source": [
    "### Train - Test split"
   ]
  },
  {
   "cell_type": "code",
   "execution_count": 8,
   "metadata": {
    "execution": {
     "iopub.execute_input": "2021-04-12T07:37:56.150830Z",
     "iopub.status.busy": "2021-04-12T07:37:56.150009Z",
     "iopub.status.idle": "2021-04-12T07:37:56.183062Z",
     "shell.execute_reply": "2021-04-12T07:37:56.182584Z"
    },
    "papermill": {
     "duration": 0.071255,
     "end_time": "2021-04-12T07:37:56.183202",
     "exception": false,
     "start_time": "2021-04-12T07:37:56.111947",
     "status": "completed"
    },
    "tags": []
   },
   "outputs": [],
   "source": [
    "X_train, X_test, y_train, y_test = train_test_split(X, y, test_size=0.2, random_state=0, stratify=y)"
   ]
  },
  {
   "cell_type": "code",
   "execution_count": 9,
   "metadata": {
    "execution": {
     "iopub.execute_input": "2021-04-12T07:37:56.250347Z",
     "iopub.status.busy": "2021-04-12T07:37:56.249409Z",
     "iopub.status.idle": "2021-04-12T07:37:56.267395Z",
     "shell.execute_reply": "2021-04-12T07:37:56.268698Z"
    },
    "papermill": {
     "duration": 0.05621,
     "end_time": "2021-04-12T07:37:56.269140",
     "exception": false,
     "start_time": "2021-04-12T07:37:56.212930",
     "status": "completed"
    },
    "tags": []
   },
   "outputs": [
    {
     "name": "stdout",
     "output_type": "stream",
     "text": [
      "['Abashkin', 'Gulimov', 'Tzelobenok', 'Funnell', 'Zhui', 'Jukes', 'Togunov', 'Sabbag', 'Kartomyshev', 'Makhnenko', 'Sokolsky', 'Masuno', 'Varela', 'Moffat', 'Bonner', 'Berezovsky', 'Helkvist', 'Thurston', 'Tovstuha', 'Millar', 'Tulintsev', 'Furey', 'Isaenko', 'Kalachev', 'Takecare', 'Newcombe', 'Taku', 'Artibyakin', 'Saifulov', 'Morcos', 'Jagodnikov', 'Halifman', 'Bagaryakoff', 'Pavluhin', 'Mari', 'Awramchik', 'Agaltsov', 'Fisichev', 'Shizuma', 'Yankin', 'Luts', 'Toshitala', 'Germain', 'Botros', 'Poulter', 'Lischenko', 'Porter', 'Melendez', 'Ibu', 'Carr', 'Ursler', 'Aderikhin', 'Gimondi', 'Rzhevsky', 'Slater', 'Atkin', 'Yagafarov', 'Huraskin', 'Underhill', 'Pylin', 'Yuschenko', 'Ardovini', 'Tunison', 'Dobrovolsky', 'Bezyzvestnyh', 'Roussel', 'Balakshin', 'Trumbauer', 'Vallance', 'Boerio', 'Waugh', 'Baz', 'Reading', 'Komon', 'Ireson', 'Venables', 'Tikhotsky', 'Spada', 'Winfield', 'Mikhnov', 'Lubsky', 'Antar', 'Sheehan', 'Tuma', 'Yuzefovich', 'Yamburg', 'Yukhvidov', 'Mikhail', 'Chi', 'De rege', 'Abalkin', 'Gu', 'Ziyatdinov', 'Isa', 'Szwedko', 'Said', 'Muru', 'Portyanik', 'Tykal', 'Kiefer', 'Rjeshotarsky', 'Gorbikov', 'Sultana', 'Biganska', 'Langer', 'Elmer', 'Kotsilimbas', 'Pakhmutov', 'Jandr', 'Mansour', 'Son', 'Gribakin', 'Toma', 'Bazarhandaev', 'Sarkis', 'Rhee', 'Schofield', 'Mahin', 'Amari', 'Balarev', 'Jigalin', 'Tseiger', 'Gessen', 'Demichev', 'Khoury', 'Latham', 'Essa', 'Yalunin', 'Bajinoff', 'Yudenkov', 'Abalihin', 'Zinich', 'Chijevsky', 'Boutros', 'Kajahara', 'Froggett', 'Telford', 'Nijo', 'Davydchenkov', 'Turlapov', 'Geier', 'Hil', 'Bazzhin', 'Munekhin', 'Mikhailin', 'Yuhov', 'Simmonds', 'Chadin', 'You', 'Charushin', 'Leitman', 'Gaber', 'Charpentier', 'Juditsky', 'Siegl', 'Adessi', 'Anikanov', 'Holoevsky', 'Jarmukhamedov', 'Pledger', 'Havener', 'Zellweger', 'Hlobystov', 'Zaoui', 'Trampotova', 'Egof', 'Talmud', 'Bagmevsky', 'Baramidze', 'Yee', 'Jadanovsky', 'Chuvilyaev', 'Stites', 'Agakhanyan', 'Mccormack', 'Ferrer', 'Hadad', 'Remnev', 'Vickery', 'Raikhlin', 'Pontekorvo', 'Bahelov', 'Galko', 'Belich', 'Boulos', 'Minkevich', 'Brodeur', 'Davidson', 'Katschker', 'Rjavin', 'Ayliffe', 'Haldoyanidi', 'Taldykin', 'Ross', 'Adamo', 'Vaginov', 'Goodall', 'Maalouf', 'Bautista', 'Yatzuba', 'Ritchie', 'Agrest', 'Frunze', 'Gluhotko', 'Hartukov', 'Agratin', 'Yuzhalin', 'Timonov', 'Sheludyakov', 'Zhiltsov', 'Yarnall', 'Elashkin', 'Gaber', 'Zhebit', 'Zhavoronsky', 'Chukhray', 'Yamato', 'Hadad', 'Ellison', 'Chukhlomin', 'Paskell', 'Keefe', 'Kore', 'Rahmanin', 'Tzederbaum', 'Byon', 'Chapple', 'Hegai', 'Darjaev', 'Ijiri', 'Ollerhead', 'Shammas', 'Hirase', 'Grotus', 'Ninomiya', 'Mansour', 'Yamura', 'Korycansky', 'Djabruev', 'Elebaev', 'Ladyzhnikov', 'Yadrikhinsky', 'Bonnay', 'Zhadaev', 'Si', 'Fionn', 'Janin', 'Veselkov', 'Masih', 'Dickson', 'Veselitsky', 'Gagnier', 'Jakush', 'Naito', 'Larkin', 'Rovnin', 'Lowe', 'Botros', 'Marik', 'Ilyuhin', 'Mallinson', 'Sano', 'Abascal', 'Kruckel', 'Morcos', 'Rashid', 'Senft', 'Karl', 'Tugujekov', 'Hashimoto', 'Gunby', 'Ibbotson', 'Martynovsky', 'Hapchaev', 'Kelly', 'Nakanoi', 'Ryjenko', 'Musakov', 'Schulte', 'Janibekov', 'Bekyros', 'Galerkin', 'Holodnykh', 'Abrakhimoff', 'Hinds', 'Cole', 'Urbanek', 'Houghton', 'Perkins', 'Lovey', 'Jalovets', 'Beamish', 'Abramovich', 'Zogby', 'Mckay', 'Shintaro', 'Hayashi', 'Asfour', 'Bazhaev', 'Djaldjireev', 'Tokmagambetov', 'Frey', 'Hegney', 'Makshakov', 'Gatsunaev', 'Rahal', 'Schlusser', 'Accorso', 'Minuhin', 'Appleyard', 'Neri', 'Bellincioni', 'Maceachthighearna', 'Rosenblatt', 'Jelobinsky', 'Dovbyschuk', 'Jakimychev', 'Lis', 'Kusak', 'Sleiman', 'Accursio', 'Campos', 'Potter', 'Giles', 'Tosh', 'Nesvetaev', 'Furst', 'Levitzky', 'Enoki', 'Perkin', 'Poret', 'Koury', 'Holt', 'Dobroserdov', 'Vedernikov', 'Talambum', 'Gerges', 'Guzev', 'Ellam', 'Kinnersley', 'Urbanek', 'Vedihov', 'Heifets', 'Mcdonald', 'Mihalkin', 'Zhigulsky', 'Rademakers', 'Rodriguez', 'Bock', 'Kabes', 'Haraz', 'Ingham', 'Shalin', 'Tarrant', 'Makhutov', 'Kendell', 'Reardon', 'Keating', 'Palmisano', 'Radley', 'Batuev', 'Foulkes', 'Yuhvidov', 'Delgado', 'Ebzeev', 'Drozdenko', 'Mihelyus', 'Turno', 'Kipling', 'Yam', 'Marqueringh', 'Lihtenshtein', 'Wiles', 'Strong', 'Hussey', 'Perks', 'Yakhot', 'Homaiko', 'Ramsay', 'Erzhenkov', 'Waller', 'Vlasenko', 'Dolejsi', 'Bauman', 'Vainshtok', 'Abubakiroff', 'Harb', 'Chukhin', 'Juravel', 'Lozovoy', 'Koury', 'Groer', 'Liepa', 'Escott', 'Eremushkin', 'Zimatsky', 'Farnsworth', 'Mifsud', 'Zhuromsky', 'Jonas', 'Kachalkin', 'Grankin', 'Tuffnell', 'TzannKaySi', 'Doan', 'Schitsyn', 'Gorbman', 'Gillard', 'Guleichik', 'Marik', 'Liu', 'Horton', 'Hamitski', 'Baranenko', 'Rackham', 'Asghar', 'Aldridge', 'Enner', 'Schrader', 'Dizhur', 'Palladino', 'Bachish', 'Mifsud', 'Nassar', 'Abramkoff', 'Benedetti', 'Tuma', 'Botros', 'Avenue', 'Kalihman', 'Lihonosov', 'Hahanyan', 'Mikhalitsin', 'Pinheiro', 'Jimerin', 'Vallory', 'Araujo', 'Jitukhin', 'Hanania', 'Pisklov', 'Jaivoronok', 'Leclerc', 'Huo', \"D'ambrosio\", 'Almasi', 'Pitel', 'Potseluev', 'Hadad', 'Frary', 'Nusuev', 'Malouf', 'Fukusaku', 'Ryjkov', 'Nicotera', 'Zabrodin', 'Poshehonov', 'Chastain', 'Jiznevsky', 'Schneider', 'Waltz', 'Abdulladjanov', 'Rustici', 'Galepa', 'Peake', 'Abdulrahmanov', 'Shakhmatov', 'Speight', 'Isaev', 'Gatsuk', 'Yablokov', 'Neumann', 'Mozdzierz', 'Saifulaev', 'Vihert', 'Toucet', 'Naifeh', 'Zharikov', 'Nahas', 'Furtsch', 'Tindall', 'Gulishambarov', 'Guttridge', 'Shammas', 'Chartorijsky', 'Issa', 'Isa', 'Eikalovich', 'Kassis', 'Dael', 'Agelakos', 'Depp', 'Tomori', 'Baumhauer', 'Jivin', 'Darsky', 'Ebden', 'Vejvoda', 'Rukhlov', 'Ganem', 'Norwood', 'Gramberg', 'Plikhin', 'Komagata', 'Shalko', 'Jirdetsky', 'Spiker', 'Zhabinsky', 'Balasanyan', 'Jeludkov', 'Mordakov', 'Agranat', 'Kelsey', 'Tzekhansky', 'Onopriev', 'Kano', 'Sze', 'Ratcliffe', 'Leeuwenhoek', 'Lockett', 'Denzel', 'Jon', 'Hanjiev', 'Pavlychev', 'Rickards', 'Stauss', 'Lykoshin', 'Najjar', 'Rallis', 'Likhanov', 'Jacobs', 'Villanueva', 'Yagubsky', 'Antar', 'Agranowich', 'Flaherty', 'Hagondokov', 'Stamp', 'Avana', 'Charnock', 'Isanbet', \"O'Sullivan\", 'Mawson', 'Shamon', 'Douglas', 'Eruzalimchik', 'Franco', 'Weston', 'Tudor', 'Kim', 'Parahin', 'Jirik', 'Rumbold', 'Sugiyama', 'Egorihin', 'Bahrah', 'Fairhurst', 'Yim', 'Polikashkin', 'Aodh', 'Zhmaev', 'Pohilko', 'Rokhatsevich', 'Bagdasaryan', 'Isa', 'Kunisada', 'Zhilinsky', 'Katsan', 'Findlay', 'Antwerp', 'Porfiriev', 'Teng', 'Hibbert', 'Collier', 'Priemyhov', 'Cha', 'Shibasawa', 'Handal', 'Madden', 'Botros', 'Tahan', 'Makhaev', 'Pats', 'Noyce', 'Alcheri', 'Rodgers', 'Kido', 'Andringa', 'Broughton', 'Knight', 'Chertischev', 'Allman', 'Basurto', 'Mukasey', 'Ronald', 'Sowka', 'Lysenny', 'Yan', 'Baz', 'Hida', 'Dzhabruev', 'Jenovach', 'Loiko', 'Tiedeman', 'Yosano', 'Enchev', 'Ruzavin', 'Jamilov', 'Lapinsky', 'Sheludshev', 'Hasnulin', 'Agranenko', 'Zhirkevich', 'Yamada', 'Pascal', 'Jemoitel', 'Modenov', 'Henderson', 'Makhtiev', 'Chuhman', 'Miheikin', 'Ambrogi', 'Tihenko', 'Pokhlebkin', 'Caldwell', 'Adrov', 'Bassett', 'Hadad', 'Isakov', 'Wizner', 'Batchilo', 'Whitby', 'Liatos', 'Hodkinson', 'Antar', 'Mocharov', 'Lumley', 'Pyhteev', 'Somerville', 'Kinnear', 'Tovkan', 'Elepov', 'Jigily', 'Naifeh', 'Grischenko', 'Vakulin', 'Groza', 'Pelletier', 'Zaskokin', 'Macrae', 'Polymenakou', 'Pochitalin', 'Toal', 'Whiting', 'Jurin', 'Hepburn', 'Ebralidze', 'Tunneson', 'Belosludtsev', 'Bacon', 'Tuganbaev', 'Gillies', 'Schuchardt', 'Esimontovsky', 'Essa', 'Haddad', 'Eaves', 'Albani', 'Novosiltsov', 'Yuzhakov', 'Rukhlin', 'Konigsmann', 'Awramtchik', 'Mitsukov', \"O'Leary\", 'Walentowicz', 'Zdunowski', 'Vilm', 'Talashkevich', 'Mathghamhain', 'Podolinsky', 'Mindra', 'Hanjin', 'Tzaregradsky', 'Shackleton', 'Talvir', 'Hitrenko', 'Purse', 'Fadyuhin', 'Ackary', 'Hamamoto', 'Dukes', 'Martsenko', 'Diakogeorgiou', 'Lakey', 'Maehata', 'Najjar', 'Winfer', 'Vedenkin', 'Plourde', 'Yangel', 'Roux', 'Yuhimenko', 'Truscott', 'Nonomura', 'Leibkin', 'Nestrojil', 'Halip', 'Abrarov', 'Nosach', 'Fabian', 'Emchenko', 'Bakrymov', 'Groshikov', 'Zhigun', 'Dubhain', 'Babentsev', 'Todaro', 'Arnold', 'Ryzhakov', 'Styles', 'Islakaev', 'Granin', 'Saliba', 'Uttley', 'Issa', 'Shamakhov', 'Shamoon', 'Ibanez', 'Yuan', 'Moghadam', 'Puig', 'Vilchitsky', 'Astrahansky', 'Batchelis', 'Avtaev', 'Edmondson', 'Molojavy', 'Finnegan', 'Tsucgimoto', 'Vitram', 'Herrera', 'Timney', 'Totah', 'Nanson', 'Lykin', 'Adamovich', 'Plamondon', 'Yujalin', 'Yakovlenko', 'Sloan', 'Jikharev', 'Kavanagh', \"Bas'Holov\", 'Mihailyants', 'Nishimuraya', 'Neverovsky', 'Tunstall', 'Gauer', 'Bishara', 'Braun', 'Researcher', 'Abramchikoff', 'Strilakos', 'Yabrov', 'Touma', 'Chehovich', 'Haddad', 'Koury', 'Bolton', 'Holschigin', 'Pietsuh', 'Vislobokov', 'Murychev', 'Shammas', 'Close', 'Mudra', 'Woodhead', 'Hitrinsky', 'Maclean', 'Shu', 'Kershaw', 'Gribanovsky', 'Patz', 'Vasindin', 'Ichisada', 'Lucassen', 'Ba', 'Quraishi', 'Yoshitomi', 'Heel', 'Holzer', 'Libreht', 'Anisihin', 'Deeb', 'Uttridge', 'Salazar', 'Molodojenov', 'Hinchin', 'Khouri', 'Yakushkin', 'Vylko', 'Habelashvili', 'Aboyantsev', 'Holman', 'Abbakumovsky', 'Watts', 'Johnstone', 'Antar', 'Jerdev', 'Timarevsky', 'Finogenov', 'Golovatov', 'Bahin', 'Skelton', 'Chekhov', 'Bakhmutsky', 'Yankov', 'Changli', 'Shadid', 'Jalagin', 'Hanania', 'Bereznitsky', 'Ravenscroft', 'Qureshi', 'Yuzvyuk', 'Toma', 'Bainbridge', 'Zhvanetsky', 'Hlopotin', 'Corlett', 'Nemecek', 'Abdulatipov', 'Dobrynchenko', 'Goloveshko', 'Ganim', 'Schroeter', 'Keeble', 'Tamazaki', 'Takaoka', 'Selmone', 'Miodushevsky', 'Dubelt', 'Adzhemyan', 'Riagan', 'Moltenskoi', 'Lapenko', 'Zolotarev', 'Batsakis', 'Marfelev', 'Morcos', 'Tzarevsky', 'Murov', 'Hachapuridze', 'Gramenitsky', 'Jvirblis', 'Lewins', 'Goodwin', 'Avturkhanov', 'Jafarov', 'Lobb', 'Golov', 'Lyzlov', 'Talmi', 'Pretsch', 'Cheryshev', 'Kalb', 'Agatoff', 'Kaldybaev', 'Dykes', 'Porokhin', 'Makhachev', 'Mifsud', 'Bachmanoff', 'Piller', 'Fazlov', \"O'Toole\", 'Abdulgapurov', 'Alagona', 'Harahinov', 'Lian', 'Yujanov', 'Vyborny', 'Busch', 'Atajakhov', 'Boutros', 'Dutt', 'Futabatei', 'Chaganov', 'Bahmetoff', 'Horoshavtsev', 'Katayama', 'Zhizha', 'Johnston', 'Alladee', 'Leach', 'Imada', 'Cotter', 'Rawlings', 'Rekunov', 'Issa', 'Mojarov', 'Hewlett', 'Ganem', 'Sleiman', 'Remchukov', 'Purvis', 'Moore', 'Muzafarov', 'Atiyeh', 'Lotarev', 'Chepurov', 'Assaf', 'Bibitinsky', 'Yuskevich', 'Trieu', 'Kelly', 'Gukovsky', 'Djindo', 'Dubinsky', 'Asghar', 'Tchekvin', 'Homa', 'Toma', 'Dempsey', 'Utton', 'Norton', 'Ishiguro', 'Zhiritsky', 'Abdulrakhmanov', 'Kaliberda', 'Nakhamkis', 'Stamatas', 'Jalybin', 'Appleton', 'Nelyubin', 'Farrell', 'Martirosov', 'Hama', 'Romagnoli', 'Wang', 'Chuhlov', 'Divnov', 'Chadovich', 'Kouri', 'Winstanley', 'Yeo', 'Gulbinsky', 'Tumashev', 'Yoshikawa', 'Rivel', 'Schreier', 'Zinevich', 'Czabal', 'Curley', 'Almasi', 'Whiteley', 'Middleton', 'Zajicek', 'Bagalin', 'Cherushov', 'Antoun', 'Nuremberg', 'Hirota', 'Linden', 'Agursky', 'Zherzdev', 'Gasyukov', 'Minenko', 'Albrici', 'Raih', 'Keane', 'Yagoda', 'Sleiman', 'Jeffreys', 'Sommer', 'Jabsky', 'Patrick', 'Austin', 'Ba', 'Burns', 'Ebsvort', 'Nahushev', 'Gribovsky', 'Nickel', 'Mack', 'Haletsky', 'Nurse', 'Virekhovsky', 'Tikhodeev', 'Shamon', 'Halliday', 'Grimaldi', 'Stainton', 'Morcos', 'Ryjih', 'Zhilkin', 'Bakinoff', 'Rann', 'Andrukhov', 'Raine', 'Jikin', 'Giese', 'Coombes', 'Rapallino', 'Mojartsev', 'Weldon', 'Derkach', 'Sumitimo', 'Foerstner', 'Daragan', 'Jewers', 'Marlow', 'Pechagin', 'Awetisoff', 'Ryzhy', 'Tsarenkov', 'Taverna', 'Zhinkin', 'Jedlicka', 'Carracci', 'Omelyanenko', 'Uzunov', 'Alphen', 'Shamoun', 'Hlypovka', 'Janko', 'Otmahov', 'Muntyan', 'Chernovisov', 'Vavravsky', 'Vysokosov', 'Yanagimoto', 'Vaginoff', 'Vyaltsin', 'Guirguis', 'Heath', 'Gao', 'Bekhteev', 'Hantimerov', 'Ichihara', 'Bavin', 'Brose', 'Masih', 'Nosaka', 'Lichagin', 'Ortega', 'Mendelsohn', 'Remezov', 'Malecha', 'Podsvirov', 'Murtazaliev', 'Kieu', 'Griggs', 'Billert', 'Gesti', 'Avilov', 'Bekmahanov', 'Schult', 'Bajin', 'Peller', 'Serafini', 'Awerin', 'Botros', 'Saifullin', 'Nahas', 'Hlystov', 'Kinnison', 'Ryjenkov', 'Tzarikaev', 'Tsapko', 'Baitin', 'Elkin', 'Aliprandi', 'Garber', 'Timaev', 'Gascoyne', 'Kaberman', 'Jakushkov', 'Ainsworth', 'Lysyansky', 'Gilmartin', \"V'Yunov\", 'Ormston', 'Iskujin', 'Glebovich', 'Abramchikov', 'Geroeff', 'Mcelroy', 'Lodyjensky', 'Costanzo', 'Atlas', 'Tully', 'Meissner', 'Rian', 'Nakano', 'Armonni', 'Pokhojaev', 'Lodyagin', 'Lamon', 'Shiskikura', 'Balavin', 'Adrianov', 'Maloof', 'Nakadai', 'Haas', 'Polivoda', 'Mcgregor', 'Salib', 'Cleirigh', 'Toomer', 'Said', 'Grose', 'Schuchert', 'Konarik', 'Bishara', 'Juzvyuk', 'Abulgatin', 'Schoorel', 'Lumb', 'Isayama', 'Ramaker', 'Kartovenko', 'Lennon', 'Stoddart', 'Coleman', 'Mckie', 'ShahNazaroff', 'Safar', 'Court', 'Gorskikh', 'Baba', 'Pavlyuchuk', 'Daniau', 'Jakovchenko', 'Anisimov', 'Imagawa', 'Kenzel', 'Beloshitsky', 'Kruger', 'Turuhin', 'Pesaresi', 'Howes', 'Gordusenko', 'Murygin', 'Kimura', 'Kassab', 'Puga', 'Cherpakov', 'Minnulin', 'Shalunov', 'Hackett', 'Bilalov', 'Shalhoub', 'Atanov', 'Jloba', 'Crossley', 'Zhechkov', 'Matthews', 'Sarraf', 'Attia', 'Prosdocimi', 'Najjar', 'Younge', 'Baimakov', 'Pekhotin', 'Holland', 'Hanutin', 'Antopolsky', 'Garrastazu', 'Kilburn', 'Jedrinsky', 'Batsura', 'Matsakov', 'Rahmatulin', 'Ageenkov', 'Dzheladze', 'Lozben', 'Hadad', 'Southern', 'Pakharev', 'Dubrov', 'Goldsmith', 'Genda', 'Cousins', 'Malouf', 'Almedingen', 'Baba', 'Balandyuk', 'Zhun', 'Ven', 'Bektimirov', 'Bastanov', 'Khouri', 'Onishko', 'Chertakov', 'Rotast', 'Donovan', 'Vertman', 'Demishev', 'Markushin', 'Paranin', 'Kaufer', 'Horner', 'Gerasimov', 'Zhminko', 'Rafaj', 'Chazov', 'Totah', 'Pokhitonov', 'Sekovora', 'Izumi', 'Bone', 'Mindibekov', 'Likhosherstov', 'Kistner', 'Deryuzhkov', 'Froggatt', 'Ronflard', 'Simms', 'Marchanukov', 'Shalhoub', 'Wehunt', 'Gerst', 'Shenkarev', 'Zwolenksy', 'Safar', 'Rademaker', 'Avelichev', 'Platts', 'Said', 'Jerzdev', 'Salib', 'Hlavsa', 'Tolmay', 'Zhirov', 'Yudin', 'Bairamukoff', 'Lotman', 'Maruyama', 'Zheltukhin', 'Fenlon', 'Horkov', 'Voigt', 'Mikheev', 'Wells', 'Awhimowich', 'Deeb', 'Newall', 'Halenkov', 'Skala', 'Tchamushev', 'Hudaiberdin', 'Abrashin', 'Nahas', 'Jevolojnov', 'Andreyak', 'Mihaltsov', 'Oswald', 'Vyazmikin', 'Aleshite', 'Gale', 'Kassis', 'Halaphaev', 'Wasem', 'Jadrikhinsky', 'Aswad', 'Alexander', 'Ajinoff', 'Tulin', 'Cormack', 'Marievsky', 'Greenaway', 'Agabekoff', 'Wetterman', 'Tzallagov', 'Poulin', 'Gismondi', 'Verona', 'Kartazhev', 'Tyrrell', 'Tanzi', 'Bakhtchivandzhi', 'Rjeussky', 'Trigg', 'Isbill', 'Huzangai', 'Allsop', 'Adigamov', 'Singleton', 'Lopes', 'Albert', 'Belinsky', \"O'Brien\", 'Hlyzov', 'Zhmotov', 'Tennant', 'Zhu', 'Shimanouchi', 'Markus', 'Vagapov', 'Belogolovy', 'Ochiai', 'Valkov', 'Minyar', 'Ellershaw', 'Piskarev', 'Bakurov', 'Averkoff', 'Zasko', 'Gok', 'Loritz', 'Daniel', 'Alamanni', 'Hughes', 'Benenati', 'Sardelis', 'Sheldon', 'Isa', 'Mustafa', 'Tsai', 'Shamon', 'Zhikin', 'Escarcega', 'Keighley', 'Gordopolov', 'Varakin', 'Haidurov', 'Kamioka', 'Velichko', 'Aparin', 'Chuvailov', 'Judovich', 'Bekhmetiev', 'Hine', 'Kalabukhov', 'Rademaker', 'Abakumtsev', 'Zhavoronkov', 'Vavilov', 'Rahvalov', 'Mottram', 'Jatzunov', 'Sarkis', 'Pelsh', 'Close', 'Taflambas', 'Handorin', 'Marchuk', 'Cavalcante', 'Felix', 'Muggia', 'Veligodsky', 'Brewer', 'Antunez', 'Adam', 'Kurmochi', 'Jukhman', 'Zhigily', 'Basara', 'Faolan', 'Onkov', 'Komatsu', 'Turati', 'Sepp', 'Tubli', 'Portsienko', 'Mun', 'Bakusov', 'Pavlunin', 'Usyskin', 'Eidman', 'Imenin', 'Kabeshov', 'Gatti', 'Ghannam', 'Vinichenko', 'Judochkin', 'Vaisfeld', 'Hapov', 'Whitehead', 'Zasuhin', 'Bishara', 'Hasegawa', 'Kanaan', 'Nassar', 'Abaturoff', 'Alter', 'Hadad', 'Khouri', 'Pechenev', 'Hanzhin', 'Antar', 'Kedzierski', 'Abbracciabeni', 'Judkovich', 'Stephen', 'Aswad', 'Hairulin', 'Mordovtsev', 'Kuijpers', 'Hanzhin', 'Macha', 'Jarzembowski', 'Voakes', 'Pryor', 'Alper', 'Lethbridge', 'Georgijev', 'Kartavtsev', 'Kristensen', 'Zhigachev', 'Kabulahin', 'Guzovsky', 'Entus', 'Judushkin', 'Zhernovoy', 'Gott', 'Bob', 'Venn', 'Polibin', 'Adaryukov', 'Jakunichev', 'Birut', 'Kraus', 'Schepitsky', 'Lemmi', 'Thayer', 'Valetov', 'Gudymenko', 'Issa', 'Alanson', 'Almetiev', 'Zharkovsky', 'Nishikawa', 'Eigin', 'Abdulov', 'Teterev', 'Africani', 'Tapia', 'Trnkova', 'Ullmann', 'Kennell', 'Tulnikov', 'Karamorita', 'Ganim', 'Babadzhan', 'Eglevsky', 'Tedesco', 'Nahas', 'Hasanov', 'Nakatoni', 'Tuma', 'Russkin', 'Donchak', 'Bazzi', 'Segher', 'Vyatkin', 'Matskov', 'Molokov', 'Davenport', 'Howden', 'Dovgel', 'Kattan', 'Khouri', 'Wilkin', 'Liholobov', 'Velichansky', 'Balabudkin', 'Mihin', 'Ustinov', 'Vederman', 'Rekun', 'Yahlakov', 'Yard', 'Batt', 'Awerianoff', 'Elatontsev', 'Crowe', 'Seghers', 'Bakhanov', 'Gulidov', 'Vipper', 'Neisser', 'Averyanov', 'Trujillo', 'Lebzyak', 'Vertiev', 'Jangarber', 'Ferguson', 'Emelin', 'Genji', 'Wexler', 'Okazaki', 'Rompaey', 'Piskus', 'Aldren', 'Jonhson', 'Hadad', 'Alduino', 'Noble', 'Babusenko', 'Zilberschlag', 'Ustimovich', 'Rahmatullin', 'Avdiewski', 'Aswad', 'Keir', 'Lai', 'Cliff', 'Rigby', 'Uchiyama', 'Fawn', 'Makhrov', 'Lupichev', 'Watt', 'Rujitsky', 'Hofer', 'Vagner', 'Hamaev', 'Jvanetsky', 'Salib', 'Tomashpolsky', 'Parakhin', 'Webster', 'Pavia', 'Pey', 'Roggeveen', 'Baichorov', 'Nahamkis', 'Gosselin', 'Rujnikov', 'Miles', 'Sarkozy', 'Rigin', 'Zhemuhov', 'Jablokov', 'Freeman', 'Holzakov', 'Greener', 'Renna', 'Haskin', 'Baholdin', 'Nana', 'Ghanem', 'Auer', 'Tanner', 'MaxaB', 'Wilton', 'San', 'Hairov', 'Homentovsky', 'Ventura', 'Ogterop', 'Tuma', 'Cooke', 'Dubakin', 'Glubokovsky', 'Hitrin', 'Prikupets', 'Samuel', 'Nusinov', 'Tonner', 'Patten', 'Zhakmon', 'Wright', 'Jelyabovsky', 'Von ingersleben', 'Hatit', 'Valentei', 'Glasgow', 'Mih', 'Fakhoury', 'Bibin', 'Zastrozhny', 'Tchartorijsky', 'Pirtskhalava', 'Mihasenko', 'Pereira', 'Keaveney', 'Pack', 'Morgan', 'Hora', 'Hakimi', 'Barr', 'Vicario', 'Nastavin', 'Martyushov', 'Akram', 'Ponec', 'Luo', 'Dundon', 'Gough', 'Tamboia', 'Takeda', 'Mstislavsky', 'Vinchi', 'Shenderovich', 'Asghar', 'Tsvetkov', \"O'Donnell\", 'Klein', 'Aguzaroff', 'Yukhno', 'Hanetsky', 'Timiskov', 'Juferov', 'Valkevich', 'Maalouf', 'Bakun', 'Vodden', 'Tikhobaev', 'Cunningham', 'Rogalev', 'Momdji', 'Maroun', 'Tugai', 'Halyapin', 'Breitbarth', 'Prokofiev', 'Glew', 'Acqua', 'Wendell', 'Glavin', 'Freudenberger', 'Noschenko', 'Batchmanov', 'Lezov', 'Basyrov', 'Absalyamov', 'Jernovoy', 'Eneev', 'Viranovsky', 'Jakimovich', 'Ibuka', 'Hatch', 'Ustimov', 'Robledo', 'Dunkle', 'Tovstolujsky', 'Voss', 'Luskanov', 'Rovigatti', 'Mather', 'Gladwell', 'Mitsukuri', 'Zhelekhovsky', 'Tobias', 'Holzknecht', 'Provan', 'Zharkikh', 'Northcott', 'Dubhan', 'Agrenev', 'Mikhailovsky', 'Gammer', 'Hawkridge', 'Abitoff', 'Abrasimov', 'Musahanov', \"O'Brian\", 'Tundykov', 'Araullo', 'Lyme', 'Kalb', 'Hanania', 'Jirnov', 'Bishara', 'Cham', 'Mclaren', 'Faddeev', 'Western', 'Vinaver', 'Ashe', 'Keight', 'Erjenkov', 'Reijnder', 'Siegel', 'Stroggylis', 'Pytalev', 'Tsyrulik', 'Wolf', 'Kimber', 'Freeburn', 'Rakhletsky', 'Eversman', 'Foxley', 'Belmonte', 'Durr', 'Jurihin', 'Jimenez', 'Vinius', 'Piunov', 'Ryjanov', 'Beadle', 'Connell', 'Snijder', 'Zhirmunsky', 'Cham', 'Jangel', 'Crofts', 'Lamb', 'Opp', 'Assaf', 'Riese', 'Modestov', 'Pasfield', 'Zenger', 'Nedd', 'Baitalsky', 'Hubbard', 'Mcguinness', 'Schmeling', 'Abukhoff', 'Minamoto', 'Baz', 'Bishara', 'Hochberg', 'Vakulsky', 'Haanraats', 'Belyusov', 'Padovano', 'Zimitsky', 'Nicholls', 'Raeburn', 'Davydovich', 'Czajka', 'Ajdrna', 'Zhigalev', 'Santos', 'Durand', 'Bakshtanovski', 'Abdulgapuroff', 'Nanami', 'Mertens', 'Panesar', 'Mifsud', 'Papadopulos', 'Kato', 'Sitz', 'Finogeev', 'Orme', 'Atabekov', 'Yadrennikov', 'Holloway', 'Shaitanov', 'Zhamoido', 'Adamovitch', 'Rampling', 'Tzarenkov', 'Mahmutov', 'Pohvisnev', 'Rahletsky', 'Smit', 'Conall', 'Boulos', 'Doveiko', 'Abolin', 'Awanesov', 'Mulyavin', 'Kusuhara', 'Zhavoronok', 'Zhuravsky', 'Marchioni', 'Aggi', 'Mozheiko', 'Suzambo', 'Huffmann', 'Takahashi', 'Jerebyatiev', 'Bilibin', 'Jenner', 'Baitchorov', 'Allum', 'Bonnaire', 'Dahaev', 'Sampson', 'Miyamoto', 'Darlington', 'Zolotnitzky', 'Zhen', 'Safar', 'Gulak', \"Es'Kin\", 'Nader', 'Gronchi', 'Kanegawa', 'Innocenti', 'Avramenko', 'Veprentsev', 'Golosenko', 'Kumagae', 'Jong', 'Tsagadaev', 'Beer', 'Avinov', 'Ustinkin', 'Wasem', 'Tolvinsky', 'Zhelezov', 'Awerichkin', 'Jirkov', 'Mosheev', 'Piraino', 'Tuguz', 'Spijker', 'Gudovich', 'Mayer', 'Lodochnikov', 'Baba', 'Chertorijsky', 'Mcclymont', 'Sokolofsky', 'Atabiev', 'Crawford', 'Tsekhansky', 'Dandy', 'Kerrighen', 'Zavodnov', 'Jemaldinov', 'Balakhonov', 'Balanowsky', 'Brioschi', 'Ketteringham', 'Detinko', 'Tsuruya', 'Alam', 'Batty', 'Woo', 'Vygodin', 'Mahotkin', 'Omelianovsky', 'Clark', 'Walter', 'Javoronsky', 'Prentice', 'Blanco', 'Zolotai', 'Harkovchuk', 'Briggs', 'Kusunoki', 'Ritchie', 'Adriyanov', 'Wheatley', 'Zhadovsky', 'Chepelyanov', 'Piskorsky', 'Andreenko', 'Nesgovorov', 'Tubolkin', 'Wilmot', 'Nahas', 'Zogby', 'Sheluntsov', 'Kock', 'Schmeiser', 'Hajjar', 'Shalyto', 'Velmukin', 'Harb', 'Sabbag', 'Arita', 'Avakyan', 'Chepulyanis', 'Atalian', 'Rivers', 'Filipenko', 'Haidukov', 'Dunford', 'Aven', 'Hitrov', 'Avenarius', 'Abakumov', 'Zhukovich', 'Sharp', 'Stablum', 'Yakhnyuk', 'Valter', 'Tsvibak', 'Jijchenko', 'Djelepov', 'Sereda', 'Hatskevich', 'Gudenok', 'Papke', 'Kaza', 'Rishitnik', 'Shalyapin', 'Irvin', 'Zhikharev', 'Woodhouse', 'Harchenko', 'Baumgartner', 'Kanagaki', 'Pochtennyh', 'Gilbert', 'Mullins', 'Moshenko', 'Baiburtyan', 'Djigit', 'Bitar', 'Alexandropoulos', 'Demko', 'Etchells', 'Handjyan', 'Ogden', 'Mikhalchev', 'Rainford', 'Ridgwell', 'Horiatis', 'Katzan', 'Zharinov', 'Cowell', 'Mikhelson', 'Toma', 'Gudenko', 'Everton', 'Totah', 'Bahar', 'Zhigarev', 'Avksentievsky', 'Macdonald', 'Bachinsky', 'Baitchikoff', 'Marshak', 'Bannister', 'Nahutin', 'Vaganov', 'Quang', 'Antoun', 'Turpaev', 'Aart', 'Shirkovets', 'Takagi', 'Pytsky', 'Ferry', 'Selby', 'Asfour', 'Vaiman', 'Meshkovsky', 'Jijin', 'Clamp', 'Jujnev', 'Toktahunov', 'VanPuteren', 'Tilson', 'Bakitski', 'Velsh', 'Sarkis', 'Yanovka', 'Stark', 'Vyahirev', 'Malouf', 'Monte', 'Pavlinsky', 'Tatsuno', 'Ageichik', 'Janaev', \"D'antonio\", 'Jameson', 'Donn', 'Elvin', 'Zheliba', 'Cola', 'Lac', 'Minkov', 'Castro', 'Sierra', 'Lim', 'Higginson', 'Nawabe', 'Alessi', 'Nagel', 'Rutenburg', 'Gensai', 'Marquerink', 'Elder', 'Caito', 'Askew', 'Jian', 'Hiyama', 'Muzhdabaev', 'Dogujiev', 'Cham', 'Balanovski', 'Lutov', 'Dubkov', 'Boulos', 'Maguire', \"D'cruz\", 'Gagne', 'Gabler', 'Fontana', 'Kealey', 'Toyoda', 'Tickner', 'Ito', 'Andryushin', 'Garvey', 'Wrigglesworth', 'Monti', 'Jabinsky', 'Mikhalevsky', 'Beklenischev', 'Yasmin', 'Butler', 'Yanagita', 'Bestov', 'Kirkland', 'Vypolzov', 'Nejlukto', 'Shamurin', 'Lavoie', 'Egleton', 'Kazmier', 'Bawtrukevitch', 'Shadid', 'Betts', 'Mokerov', 'Mikhailushkin', 'Aniskin', 'Koenig', 'Desyatov', 'Seif', 'Holder', 'Chursalov', 'Smolak', 'Nazari', 'Thibault', 'Tikhonkih', 'Awen', 'Kramer', 'Hlopkov', 'Akiyama', 'Jdanko', 'Gaffney', 'Shaitan', 'Raikhelgauz', 'Mihailichenko', 'Lonsdale', 'Wareing', 'Nassar', 'Loughran', 'Poliev', 'Silva', 'Tilley', 'Bagmet', 'Pensky', 'Varano', 'Pontyushenko', 'Kidman', 'Welton', 'Bitar', 'Tugaev', 'Adabir', 'Carlevaro', 'Pehtin', 'Tsakhilov', 'Holeva', 'Janovka', 'Lobo', 'Samuel', 'Abasolo', 'Maryanovsky', 'Shamoon', 'Kober', 'Kollen', 'Pitatelev', 'Maddocks', 'Tahan', 'Chuhlomin', 'Southwick', 'Gujo', 'Yakunin', 'Averbah', 'Terranova', 'Geta', 'Wright', 'Cerney', 'Mikhail', 'Wirner', 'Okasawa', 'Travis', 'Godby', 'Wadham', 'Almasi', 'Baichoroff', 'Wasem', 'Attia', 'Cheng', 'Shammas', 'Pennell', 'Vlasek', \"V'Yugin\", 'Jadan', 'Jitomirsky', 'Jakshin', 'Ealham', 'Ladyzhensky', 'Handrikov', 'Narita', 'Hiroyuki', 'Dobromyslov', 'Ishida', 'Blanchard', 'Balabanoff', 'Matsumara', 'Vaskov', 'Ewles', 'Oleastro', 'Maron', 'Birshtein', 'Grosfeld', 'Parr', 'Charoshnikov', 'Minami', 'Zhemaldinov', 'Hara', 'Wetzel', 'Vikhirev', 'Bishara', 'Tuma', 'Yoshizaki', 'Laver', 'Ryjakov', 'Keeler', 'Lord', 'Markhasin', 'Romeijnsen', 'Mcconnell', 'Kaleev', 'Durante', 'Cham', 'Minevich', 'Jamieson', 'Morehin', 'Likhachev', 'Ennikeev', 'Tihodeev', 'Vanichev', 'Norm', 'Remikh', 'Prinz', 'Zharihin', 'Matzeyovsky', 'Derfel', 'Vinyarsky', 'Loder', 'Jovtun', 'Seif', 'Taylor', 'Djangirli', 'Cross', 'Nassar', 'Koole', 'Bestolov', 'Tchekomasov', 'Klemper', 'Weigand', 'Abdrakhmanov', 'Roncalli', 'Gall', 'Nyamin', 'Como', 'Tahan', 'Agarin', 'Verre', 'Azhinoff', 'Oliver', 'Ruzaikin', 'Tschida', 'Gasparov', 'Qureshi', 'Rahal', 'Cherry', 'Macon', 'Sandison', 'Nijevyasov', 'Kachimov', 'Taurel', 'Eltsin', 'Haddock', 'Taidhg', 'Fishlock', 'Matzotsky', 'Noel', 'Arnoni', 'Pligin', 'Donnchadh', 'Alcock', 'Likh', 'Tahan', 'Dertynov', 'Gordon', 'Shalavin', 'Lewerenz', 'Ganim', 'Movchan', 'Tahan', 'Diduh', 'Hooton', 'Eizhvertin', 'Lowrie', 'Masih', 'Neilsen', 'Cottrell', 'Bloom', 'Jeverjeev', 'Dobuzhinsky', 'Portnoy', 'Jamoido', 'Turney', 'Lindsay', 'Tuma', 'Zini', 'Nahas', 'Shimada', \"Shan'Gin\", 'Janochkin', 'Wasem', 'Sarraf', 'Lowbridge', 'Jurkovsky', 'Holmogortsev', 'Luhmanov', 'Gromyko', 'Valitov', 'Toguzov', 'Minchenkov', 'Eltis', 'Bordelon', 'Redmond', 'Almasi', 'Hudyakov', 'Baikovski', 'Tovstykh', 'Sakin', 'Zabala', 'Poretsky', 'Zheurov', 'Bitar', 'Glazenap', 'Molchansky', 'Dikikh', 'Bradan', 'Aalst', 'Baikin', 'Nader', 'Beck', 'Durgaryan', 'Pushkov', 'Belikov', 'Gutierrez', 'Tomas', 'Antar', 'Bahir', 'Vasyurin', 'Jadanov', 'Craig', 'Yamashita', 'Lapisov', 'Tuzov', 'Creasey', 'Sterling', 'Junusov', 'Kendrick', 'Thomas', 'Shalhoub', 'Chekh', 'Longo', 'Potsepkin', 'Mojaisky', 'Zhvirblis', 'Swain', 'Mckay', 'Sugihara', 'Sawamatsu', 'Portsevsky', 'Senft', 'Dubina', 'Masin', 'Gately', 'Serechenko', 'Shirkov', 'Bursinos', 'Harb', 'Tultsev', 'Rootham', 'Chepik', 'Malihoudis', 'Dobridnyuk', 'Ramaaker', 'Alhimov', 'Gladyshev', 'Veale', 'Juhnev', 'Lachance', 'Kalb', 'Simmon', 'Zeifert', 'Nassar', 'Najjar', 'Bagramyan', 'Miller', 'Hlestov', 'Rakhmanov', 'Pontecorvo', 'Avertchenko', 'Rempler', 'Zhivotovsky', 'Nolan', 'Babin', 'Didychenko', 'Rahman', 'Cernohous', 'Torres', 'Zhitarev', 'Kalinko', 'Mcnally', 'Royama', 'Knutt', 'Lorentz', 'Kreyling', 'Jaganov', 'Zogby', 'Lokhno', 'Ganim', 'Li', 'Taguchi', 'Ayabito', 'Takarabe', 'Pyjikov', 'Paidoverov', 'Tsys', 'Riches', 'Daher', 'Penfold', 'Jordon', 'Fenyo', 'Tsvilgnev', 'Reyer', 'Deniskin', 'Turvey', 'Park', 'Rogalnikov', 'Boesch', 'Yoman', 'Abel', 'Shirokawa', 'Vyshnegradsky', 'Allard', 'Abrukov', 'Snell', 'Balamutenko', 'Entin', 'Bueren', 'Nahas', 'Srour', 'Tipping', 'Treasach', 'Saxton', 'Giunta', 'Bakhrakh', 'Zhbankov', 'Tumov', 'Tropp', 'Kitabatake', 'Mohan', 'Isa', 'Zhelyabov', 'Crow', 'Gardiner', 'Pokhilchuk', 'Vadkovski', 'Tzelikov', 'Deverell', 'Doon', 'Nazari', 'Kwakami', 'Idane', 'Hugaev', 'Babetov', 'Someya', 'Timonin', 'Shakhovskoi', 'Hall', 'Joubert', 'Nishimoto', 'Mikhnenko', 'Zhelyabovsky', 'Tobiash', 'Nader', 'Galena', 'Abushenko', 'Martyshevsky', 'Shananykin', 'Ottley', 'Avsenev', 'Gribov', 'Balakhowsky', 'Cochrane', 'Yakunichev', 'Rakhlevsky', 'Prieto', 'Owens', 'Pocock', 'Alexandar', 'Phoenix', 'Molodin', 'Mingrelsky', 'Hazeev', 'Averitchkin', 'Adoduroff', 'Whitaker', 'Maloof', 'Glaisyer', 'Drinkwater', 'Mackenzie', 'Hilkov', 'Jabrev', 'Forster', 'Baiguzin', 'Kondo', \"O'Dowd\", 'Yamazaki', 'Harash', 'Newson', 'Hind', 'Mitsuharu', 'Lafrentz', 'Wotherspoon', 'Jaso', 'Gerges', 'Awerkowitch', 'Pascoe', 'Pitomets', 'Cremaschi', 'Miyamae', 'Kabak', 'Batuhtin', 'Zhuzhlev', 'Aslam', 'Noach', 'Pavlishin', 'Avdulov', 'Azhinov', 'Haimi', 'Rivkin', 'Chekhladze', 'Gosse', 'Liberzon', 'Stock', 'Bakhtiev', 'Talovirko', 'Luxton', 'Antar', 'Avtandilov', 'Vestri', 'Mikhasenko', 'Priklonsky', 'Buchan', 'Fall', 'Healey', 'Avdyunin', 'Govorov', 'Smeets', 'Sokolof', 'Gehtman', 'Ackermann', 'Pechenezhsky', 'Tchalykh', 'Pirumov', 'Sakoda', 'Basara', 'Kattan', 'Tulebaev', 'Rey', 'Kamara', 'Best', 'Haschev', 'Azhiganov', 'Allkins', 'Nevelsky', 'Bakastoff', 'Harb', 'Flannery', 'Golovatsky', 'Joltovsky', 'Addley', 'Bakurinsky', 'Noskov', 'Filippov', 'Zavoruev', 'Eason', 'Handal', 'Gorka', 'Okeefe', 'Zobkob', 'Awdiyski', 'Lebinson', 'Hanania', 'Ducon', 'Jivkovich', 'Remezentsev', 'Avdyukov', 'Raven', 'Geiger', 'Stevenson', 'Durmanov', 'Jukhov', 'Garner', 'Safar', 'Tchekmarev', 'Hermann', 'Amod', 'Awagimoff', 'Specht', 'Kinch', 'Hiraga', 'Avchenko', 'Callaghan', 'Ganim', 'Muzhkaterov', 'Tunik', 'Bagandaliev', 'Santiago', 'Vaitsekhovsky', 'Fearns', 'Bagomaev', 'Porval', 'Janowich', 'Turutin', 'Clifton', 'Judolovich', 'Jakhimovich', 'Gros', 'Likhovskikh', 'Yakovlev', 'Bilyarsky', 'Redfern', 'Havroshkin', 'Kremlicka', 'Julebin', 'Sawyer', 'Percival', 'Sert', 'Tsen', 'Habibullin', 'Aspey', 'Baikaloff', 'Peter', 'Blecha', 'Handal', 'Stotzky', 'Gladun', 'Zeman', 'Koury', 'Bryant', 'Chuhadjyan', 'Raskop', 'Naifeh', 'Gerges', 'Voclain', 'Fierro', 'Egorin', 'Endoso', 'Crosby', 'Janjul', 'Avsyuk', 'Ang', 'Sparkes', 'Newsham', 'Hamadullin', 'Musaev', 'Deeb', 'Simons', 'Shigi', 'Dahno', 'William', 'Aleshire', 'Fukuda', 'Filippenkov', 'Lotter', 'Arrighetti', 'Bouchard', 'Jakupov', 'Abadi', 'Shaikevich', 'Nassar', 'Vaculova', 'Tuma', 'Nicholl', 'Adlam', 'Murrell', 'Teterin', 'Crabtree', 'Portnenko', 'Mokrov', 'Seif', 'Belluomi', 'Muzenitov', 'Aikman', 'Sayegh', 'Tzaregorodtsev', 'Cham', 'Pickthall', 'Nazari', 'Vazhov', 'Peusen', 'Samuel', 'Sauber', 'Tahan', 'Yangarber', 'Dozortsev', 'Kalautov', 'Mihnenko', 'Badych', 'Solomon', 'Bezyuk', 'Naifeh', 'Kalb', 'Newington', 'Viskov', 'Honenev', 'Hadad', 'Saigutin', 'Yahontov', 'Zhigalin', 'Konishi', 'Gudimov', 'Shalyugin', 'Yuhno', 'Driml', 'Chase', 'Bezyzvestnykh', 'Re', 'Timirgazeev', 'Iwahashi', 'Abrosimov', 'Silhan', 'Mordkovich', 'Lebereht', 'Daty', 'Lilly', 'Ardern', 'Bahtchivandzhi', 'Harb', 'Amos', 'Sleiman', 'Bieber', 'Balamykin', 'Bright', 'Essam', 'Vyrupaev', 'Bazylnikov', 'Nakasawa', 'Higoshi', 'Agalaroff', 'Koury', 'Upfield', 'Bakhorin', 'Vinnik', 'Glek', 'Nagatsuka', 'Tokin', 'Didarov', 'Goff', 'Martyshko', 'Thomas', 'Abramoff', 'Groisberg', 'Getmanchuk', 'Ellerby', 'Hatakeda', 'Tsaregorodtsev', 'Muladjanov', 'Hsiao', 'Horowitz', 'Watabe', 'Tuck', 'Leary', 'Tomashev', 'Nervi', 'Iskos', 'Frankish', 'Calveley', 'Higashiyama', 'Belchuk', 'Elcock', 'Drew', 'Campbell', 'Vavich', 'Bouloukos', 'Robishaw', 'Siu', 'Tong', 'Bazzi', 'Antar', 'Shevtsov', 'Yagodinsky', 'Janenko', 'Heruvimov', 'Shahurov', 'Baichenko', 'Balakhovsky', 'Giolla', 'Zhelohovtsev', 'Antoun', 'Kempson', 'Touma', 'Groshkov', 'Maly', 'Rennie', 'Pohodeev', 'Valtchitsky', 'Pinnock', 'Shan', 'Baevsky', 'Pierre', 'Zhebelev', 'Acosta', 'Lynas', 'Lame', 'Gudtsov', 'Chepaksin', 'Zharkih', 'Ohishi', 'Yandulsky', 'Potenza', 'Holden', 'Toyota', 'Tannous', 'Broadley', 'Portugalsky', 'Mohamed', 'Jager', 'Grohar', 'Kettell', 'Handal', 'Vilbreht', 'Rosenfeld', 'Saliba', 'Higgins', 'Vasyatkin', 'Titmus', 'Harada', 'Izzard', 'Zheleznyakov', 'Finagin', 'Hangurian', 'Gamble', 'Jadryshnikov', 'Schneider', 'Bakaleinikoff', 'Tuzin', 'Martzenkov', 'Koury', 'Packard', 'Vyskrebtsov', 'Capitani', 'Furusawa', 'Hawkes', 'Jakimets', 'Villis', 'Ebner', 'Chernin', 'Behteev', 'Teoh', 'Gulyaev', 'Atallakhanov', 'Sonnen', 'Paterson', 'Jukhanaev', 'Yakovkin', 'Uerling', 'Taka', 'Talalihin', 'Quraishi', 'Piskoppel', \"Es'Kov\", 'Baum', 'Golosov', 'Ngai', 'Hashaba', 'Balahovsky', 'Mendelssohn', 'Horn', 'Rovkovsky', 'Golobokov', 'Davidyants', 'Tzeiner', 'Bekuh', 'Jobson', 'Avaliani', 'Yakushkov', 'Prehatney', 'Chuhrov', 'Jin', 'Hana', 'Neighbour', 'Homutnikov', 'Mcmahon', 'Leonard', 'Ulyatt', 'Pudel', 'Isaiko', 'Morekhin', 'Hellewege', 'Swanson', 'Dzhumaev', 'Magalhaes', 'Dobryansky', 'Hill', 'Awad', 'Yanenko', 'Yang', 'Dover', 'Fernandes', 'Mikhail', 'Tomas', 'Gorbuzenko', 'De luca', 'Raihlin', 'Biondo', 'Jalamov', 'Gardinier', 'Mojin', 'Schrijnemakers', 'Wendel', 'Orritt', 'Hunter', 'Macghabhann', 'Yankilevsky', 'Dijin', 'Molotov', 'Binshtok', 'Abanin', 'Guerriero', 'Vinnichenko', 'Emtsov', 'Seelenfreund', 'Suk', 'Podsevalov', 'Gordasevich', 'Alfonsov', 'Valeev', 'Morgenstern', 'Jornyak', 'Sutherland', 'Hagino', 'Soucy', 'Myachkov', 'Atyashev', 'Vildanov', 'Sarraf', 'Kelly', 'Dahnov', 'Kassis', 'Hanjonkov', 'Eglan', 'Karube', 'Jakov', 'Quinton', 'Asker', 'Atallahanov', 'Digurov', 'Mogilevsky', 'Ewing', 'Yoshihara', 'Abboud', 'Avtchenko', 'Hajjar', 'Woodley', 'Villevalde', 'Matocha', 'Ola', 'Sleiman', 'Zelent', 'Rahmanov', 'Voyse', 'Vale', 'Kuhn', 'Jo', 'Bazzi', 'Bagryanski', 'Mogilyuk', 'Adamov', 'Fabrichny', 'Finnimore', 'Paidyshev', 'Han', 'Jiltsov', 'Michel', 'Turulo', 'Waterfield', 'Cermak', 'Adyrkhaev', 'Isherwood', 'Talanov', 'Tchekin', 'Tikhy', 'Mikhalushkin', 'Haritopoulos', 'Villaverde', 'Ghanem', 'Mifune', 'Agalakov', 'Xun', 'Leibin', 'Bowen', 'Kurray', 'Felton', 'Baz', 'Balawin', 'Nahas', 'Juan', 'Bland', 'Sobol', 'Dzhanakavov', 'Baidavletov', 'Hanjin', 'Avrutin', 'Deegan', 'Jovnerik', 'Almetov', 'Hamada', 'Bilimovich', 'Ventura', 'Harb', 'Voznesensky', 'Pendlebury', 'Nassar', 'Mukusev', 'Hlopiev', 'Babichev', 'Ebergard', 'Guzanov', 'Baba', 'Bass', 'Sarraf', 'Wither', 'Jadaev', 'Feschuk', 'Elehin', 'Assaf', 'Zastrojny', 'Elena', 'Murtazin', 'Mikhalkov', 'Naser', 'Acker', 'Marshall', 'Yalovenko', 'Probert', 'Lovett', 'Johin', 'Guldin', 'Grankov', 'Campbell', 'Boutros', 'Groshev', 'Zhitnik', 'Lowe', 'Reay', 'Jeffers', 'Kassis', 'Hanzlik', 'Sherriff', 'Valev', 'Chusov', 'Timin', 'Baba', 'Mikhailichenko', 'Strickland', 'Rutkowski', 'Makhro', 'Shaikov', 'Mihalevsky', 'Horn', 'Isman', 'Kafka', 'Djigarhanyan', 'Tsyurupa', 'Badygin', 'Bakshansky', 'Mihersky', 'Maryashev', 'Shalashilin', 'Winter', 'Omischenko', 'Abelsky', 'Harb', 'Kirwan', 'Koci', 'Moser', 'Geracimos', 'Moreno', 'Pellegrino', 'Simons', 'Vedrov', 'Altoviti', 'Pavlik', \"Avak'Yan\", 'Natale', 'Zhitlukhin', 'Vyborov', 'Kihara', 'Sugisata', 'Abboud', 'Shirmankin', 'Jemaitis', 'Voznov', 'Vacca', 'Hafernik', 'Viola', 'Narato', 'Zhemlihanov', 'Mihalenkov', 'Beitel', 'Issa', 'Mollaev', 'Avgerinos', 'Goloulin', 'Yaglintsev', 'Fiokhin', 'Averin', 'Aweritchkin', 'Hanania', 'Muraro', 'Novy Novy', 'Malouf', 'Sommer', 'Hakimi', 'Rodriguez', 'Vanke', 'Randall', 'Awinowitsky', 'Avturhanov', 'Ba', 'Charushkin', 'Alldritt', 'Baz', 'Velio', 'Hadad', 'Raizer', 'Muldashev', 'Pickett', 'Abdrahimoff', 'Rivkind', 'Govorushin', 'Crossland', 'Pavlyuk', 'Valevin', 'Goloskokov', 'Macgregor', 'Kaufman', 'Jury', 'Haritonenko', 'Molnovetsky', 'Mozhaev', 'Akhtar', 'Sleiman', 'Hlebanov', 'Gulyak', 'Gerojev', 'Hassel', 'Vertogradsky', 'Clancy', 'Kamenetzky', 'Jjenov', 'Moller', 'Biggs', 'Maurice', 'Sayegh', 'Grammatin', 'Katsnelson', 'Bekhoev', 'Isakovsky', 'Nascimbene', 'Rushbrooke', 'Bazetskov', 'Jekulin', 'Jmelkov', 'Agaev', 'Kahler', 'Reier', 'Morzhin', 'Ghannam', 'Lihovskih', 'Capello', 'Janutka', 'Saller', 'Ziyakov', 'Bicchieri', 'Ableuhoff', 'Ashton', 'Yorston', 'Nuryshev', 'Reeve', 'Agrikov', 'Kabanov', 'Vesninov', 'Nevin', 'Douthwaite', 'Zelensky', 'Bessonov', 'Awchenko', 'Mullen', 'Mordvintsev', 'Mordvinoff', 'Samaha', 'Finoshin', 'Atajahov', 'Guerra', 'Dobrynin', 'Demich', 'Wedekind', 'Jahno', 'Pellenen', 'Bruckner', 'Poryvaev', 'Pawlak', 'Fionov', 'Nie', 'Riha', 'Jakushkin', 'Mikhail', 'Mineev', 'Svotchak', 'Shirinyants', 'Garver', 'Agranovsky', 'Jmotov', 'Baibursky', 'Fairweather', 'Tahan', 'Duarte', 'Arechavaleta', 'Chepikov', 'Uggeri', 'Santos', 'Chizhikov', 'Reeves', 'Sabbag', 'Handal', 'Paraskos', 'Yablonovsky', 'Tujilkin', 'Jolley', 'Nessbert', 'Mihailidi', 'Khouri', 'Fonseca', 'Cumming', 'Holstov', 'Staff', 'Jejel', 'Dalzell', 'Altfater', 'Corti', 'Tillett', 'Saliba', 'Walsh', 'Zhi', 'Venne', 'Overing', 'Jeleznikov', 'Abel', 'Abelyan', 'Adylov', 'Eliasberg', 'Short', 'Shadura', 'Antonyuk', 'Chilar', 'Assaf', 'Chaleev', 'Cervenka', 'Glencross', 'Zhernokleev', 'Aldred', 'Adriyanoff', 'Jiharevitch', 'Vyrenkov', 'Plis', 'Rickett', 'Zhimila', 'Mcghee', 'Pazuhin', 'Djunkovsky', 'Pitenin', 'Frierdich', 'Sokoloff', 'Tsevlonsky', 'Hautum', 'Harrop', 'Kalimulin', 'Armitage', 'Botros', 'Anutriev', 'Leeson', 'Prchal', 'Islambekov', 'Abboud', 'Antonchenko', 'Ghanem', 'Weeber', 'Spiller', 'Mnuskin', 'Lutchenko', 'Filippenko', 'Dinko', 'Lawrence', 'Balaguroff', 'Murchenko', 'Pyhov', 'Jivoluk', 'Lihobaba', 'Fujioka', 'Bagdasarov', 'Campo', 'Troekurov', 'Nakae', 'Tuma', 'Stark', 'Pochkailo', 'Marutenkov', 'Sweeting', 'Miyoshi', 'Salib', 'Altimari', 'Hain', 'Likhobabin', 'Zhmuro', 'Trukhnin', 'Grozovsky', 'Yanaki', 'Antoun', 'Boyce', 'Orbell', 'Eggleston', 'Rushton', 'Lefurgey', 'Hanika', 'Balakhowski', 'Nicastro', 'Avdiyski', 'Guarneri', 'Kalogeria', 'Palomo', 'Yakovuk', 'Richardson', 'Chehladze', 'Pahunov', 'Harlov', 'Yakimets', 'Fakhoury', 'Alves', 'Kalinin', 'Sasaki', 'Ligostaev', 'Dupont', 'Nicolson', 'Tappin', 'Zuniga', 'Molotilov', 'Verbin', 'Dobrolyubov', 'Khoury', 'Auerbah', 'Nicol', 'Shainurov', 'Riddler', 'Sheluhin', 'Gilbey', 'Pyavko', 'Tuma', 'Knepp', 'Roma', 'Enden', 'Nijegorodtsev', 'Jewson', 'Enright', 'Mathieu', 'Kloeten', 'Umeki', 'Cawley', 'Terzi', 'Grushelevsky', 'Altena', 'Gemmell', 'Jidilin', 'Zenkov', 'Bean', 'Ladyjets', 'Sasakawa', 'Earing', 'Tatenaka', 'Vyaznikovtsev', 'Bahlaev', 'Grigoriev', 'Abdulatipoff', 'Brain', 'Jumenko', 'Tahan', 'Yukhimenko', 'Martynenko', 'Burman', 'Hebert', 'Toman', 'Habarov', 'Mao', 'Froltsov', 'Quirke', 'Rakhmaninov', 'Harwood', 'Huang', 'Yuzgin', 'Usik', 'Sayers', 'Masih', 'Yakuba', 'Desnitsky', 'Sayegh', 'Gultyaev', 'Jurkin', 'Katsarev', 'Yachevsky', 'Vakker', 'Nassar', 'Golovenkin', 'Galteev', 'Molostov', 'Pavlichenko', 'Ankeren', 'Hamilton', 'Tobias', 'Touma', 'Barabanov', 'Kolijn', 'Miwa', 'Molyakov', 'Hardwick', 'Lutsev', 'Schindler', 'Gunther', 'Gaber', 'Pohis', 'Saleh', 'Livenzon', 'Butterworth', 'Bishara', 'Didichenko', 'Pochechikin', 'Toma', 'Kruger', 'Dudnakov', 'Rebinder', 'Essa', 'Veverka', 'Savatier', 'Asanuma', 'Knibb', 'Chekmarev', 'Wasem', 'Holguin', 'Wolff', 'Florey', 'Narahashi', 'Fakhoury', 'Ophoven', 'Orvis', 'Jmaev', 'Zenkovich', 'Sen', 'Liholat', 'Dolezal', 'Bowers', 'Maksyutov', 'Chuvaldin', 'Nassar', 'Androsov', 'Herrero', 'Mcgrory', 'Gagarinsky', 'James', 'Jelezny', 'Amello', 'Mushanaokoji', 'Zhiro', 'Baba', 'Knef', 'Manson', 'Valtchikovsky', 'Ponasov', 'Keeling', 'Grainger', 'Basara', 'Golobokih', 'Saigin', 'Gudovsky', 'Gaudasinsky', 'Miazga', 'Shakhbanov', 'Abrasimoff', 'Awakyan', 'Tchalyh', 'Que', 'Hirikilis', 'Gordyushin', 'Travere', 'Sarraf', 'Thurgood', 'Rohin', 'Rzehak', 'Hutchinson', 'Davletov', 'Minniakhmetov', 'Ri', 'Jitnik', 'Ganem', 'Tokunov', 'Hizhnyak', 'Paduchev', 'Manco', 'Badukin', 'Opayne', 'Tchehovsky', 'Nazari', 'Renne', 'Ignatyuk', 'Bazzi', 'Ivory', 'Day', 'Belorussov', 'Pirozhenko', 'Fiskin', 'Limarev', 'Lystsov', 'Yagupets', 'Hallett', 'Gorfinkel', 'Pliss', 'Zhitluhin', 'Medina', 'Zhuzhnev', 'Oursler', 'Abbasov', 'Cahill', 'Bagni', 'Molchanov', 'Newman', 'Kouri', 'Ihara', 'Koga', 'Efanov', 'Sakovich', 'Elleray', 'Esipov', 'Jukhnin', 'Kentwood', 'Zhabykin', 'Awik', 'Ganim', 'Atherley', 'Bishara', 'Trukhanovsky', 'Awchinnikoff', 'Fairchild', 'Pahtanov', 'Dobujinsky', 'Chuhnin', 'Najjar', 'Haine', 'Dubois', 'Sarraf', 'Muir', 'Inker', 'Grot', 'Kitching', 'Likov', 'Dubrowski', 'Bhrighde', 'Lockhart', 'Malouf', 'Jvykin', 'Monette', 'Anurov', 'Horrocks', 'Brandt', 'Joseph', 'Kalamanov', 'Allard', \"At'Kov\", 'Gorlov', 'Topley', 'Dana', 'Galochkin', 'Inaba', 'Alessandri', 'Jizdik', 'Greenhill', 'Atiyeh', 'Zheludkov', 'Bairashevsky', 'Musabaev', 'Pelshe', 'Belikin', 'Timkaev', 'Hatov', 'Zhivoderov', 'Jilyardy', 'Jambaev', 'Destunis', 'Isaac', 'Abdulaev', 'Leese', 'Macleod', 'Mohov', 'Patchett', 'Daher', 'Yuhnin', 'Porohov', 'Barclay', 'Shammas', 'Vicary', 'Churchill', 'Gross', 'Jeltuhin', 'Bradbury', 'Maneates', 'Abaev', 'Honov', 'Xian', 'Jagupa', 'Lajentsev', 'Charron', 'Barros', 'Lukhvich', 'Vakulovsky', 'Agatyev', 'Ganim', 'Antram', 'Bahmin', 'Jdakaev', 'Bartalotti', 'Fakhoury', 'Toichkin', 'Tonge', 'Masters', 'Bazhanov', 'Spicka', 'Zhulebin', 'Jitlukhin', 'Abovin', 'Nunez', 'Abbiati', 'Bahmatov', 'Sekigawa', 'Fazilov', 'Bakhmin', 'Wojewodka', 'Badalbeili', 'Maksimtsev', 'Rakhvalov', 'Jagupets', 'Shakhlamov', 'Baker', 'Hanikyan', 'Purcell', 'Elmes', 'Durber', 'Bishara', 'Vakser', 'Fairley', 'Close', 'Djanashiya', 'Kalintsev', 'Hajjar', 'Gowing', 'Deeb', 'Quasninsky', 'Zhevahov', 'Piskulov', 'Bakhlulzade', 'Huajev', 'Grout', 'Ruiz', 'Jachmenev', 'Said', 'Ekin', 'Baxter', 'Hakimi', 'Bakhtiyaroff', 'Salvail', 'Awdeeff', 'Tuthill', 'Beltyukov', 'Giugovaz', 'Segal', 'Poryadin', 'Kirkpatrick', 'Connolly', 'Duke', 'Tsubouchi', 'Yetman', 'Davidenko', 'Asher', 'Andruhovich', 'Holst', 'Herten', 'Gall', 'Mansour', 'Eroschenkov', 'Darinsky', 'Padovan', 'Muirchertach', 'Pyschev', 'Badyashin', 'Kuipers', 'Golovanets', 'Barandych', 'Rekke', 'Rochegov', 'Dubman', 'Garofalo', 'Rzhavin', 'Handzhyan', 'Nakane', 'Findley', 'Scetintsev', 'Tovbich', 'Jaskulski', 'Pritchard', 'Hisametdinov', 'Kanavos', 'Hocking', 'Hynna', 'Borovsky', 'Morrison', 'Emyashev', 'Davison', 'Jeliba', 'Mclain', 'Vakulov', 'Awdiysky', 'Blanchett', 'Maryutin', 'Lewry', 'Bajenov', 'Merritt', 'Eveson', 'Troilin', 'Alshansky', 'Gashkin', 'Baba', 'Hanahu', 'Nineham', 'Novoselsky', 'Sarraf', 'Gladston', 'Tchamov', 'Hadad', 'Mogilnikov', 'Sabol', 'Zheryapin', 'Tihotsky', 'Gasich', 'Chukhontsev', 'Rementsov', 'Duval', 'Exon', 'Hadarin', 'Kampfner', 'Bachyanskas', 'Conrad', 'Speed', 'Guirguis', 'Balagurov', 'Agostini', 'Sessa', 'Eliasov', 'Yagudin', 'Kilb', 'Cerv', 'Andronov', 'Bazhan', 'Ponyatovsky', 'Agar', 'Jatsevich', 'Toien', 'Bazhinov', 'Dasios', 'Cracknell', 'Tai', 'Zhigultsov', 'Marquardt', 'Lacy', 'Haddad', 'Husk', 'Steele', 'Gudima', 'Bazzi', 'Agapiev', 'Fukunaka', 'Kanaan', 'Buckholtz', 'Awad', 'Tzander', 'Adlersflugel', 'Eidelnant', 'Agaryshev', 'Soma', 'Okamura', 'Rijnder', 'Fakhoury', 'Lawrie', 'Jankelevich', 'Alvarado', 'Yudovich', 'Vikhrov', 'Prigorovsky', 'Esenin', 'Shamarin', 'Jung', 'Ganim', 'Stoppelbein', 'Maksutov', 'Geldard', 'Pomphrey', 'Utropov', 'Zhuikov', 'Ganivet', 'Panzavecchia', 'Svotak', 'Yanochkin', 'Takemago', 'Averkiev', 'Kanaan', 'Ablyakimoff', 'Libman', 'Hamaguchi', 'Eihe', 'Kaminski', 'Grokhar', 'Juhtman', 'Murase', 'Haik', 'Maksheev', 'Chang', 'Tsutomu', 'Sault', 'Belgibaev', 'Pakhalchuk', 'Matsuoka', 'Mifsud', 'Gorchakov', 'Abrami', 'Sylvester', 'Hout', 'Cennetig', 'Akatsuka', 'Abasov', 'Kett', 'Murylev', 'Hagajeev', 'Arreola', 'Kratschmar', 'Yakimchik', 'Zhernov', 'Spannagel', 'Haibullin', 'Amari', 'Bosch', 'Ushiba', 'Schepotkin', 'Dorrington', 'Golovei', 'Bagiroff', 'Kalentiev', 'Dornan', 'Heidrich', 'Lyon', 'Abyzov', 'Atiyeh', 'Haik', 'Lawa', 'Gutteridge', 'Klam', 'Padalkin', 'Kikkert', 'Fedotenko', 'Haliulin', 'Ravenna', 'Ekimov', 'Guerra', 'Esikov', 'Balahonov', 'Vagizoff', 'Fricker', 'Nagano', 'Ganim', 'Deeb', 'Abuzoff', 'Marhanov', 'Biancardi', 'Rompaeij', 'Torrance', 'Piradov', 'Stacey', 'Hludeev', 'Crespo', 'San nicolas', 'Madden', 'Abadi', 'Tomashevsky', 'Tzagareli', 'Iskakov', 'Frangopoulos', 'Murata', 'Iskandarov', 'Pak', 'Harchev', 'Awad', 'Protopsaltis', 'Khouri', 'Tchaadaev', 'Ateev', 'Uss', 'Shammas', 'Kacharov', 'Avelan', 'Edgell', 'Negros', 'Ghanem', 'Tahan', 'Sayegh', 'Molodensky', 'Maloof', 'Mohnatsky', 'Santini', 'Rogan', 'Chanchikov', 'Hoult', 'Baidzhanoff', 'Herbert', 'Osaragi', 'Ormond', 'Donoghue', 'Khoury', 'Jue', 'Babaitsev', 'Durham', 'Vanitchev', 'Makukha', 'Lupachev', 'Norcross', 'Haikin', 'Salvaggi', 'Vasserman', 'Jakhot', 'Peck', 'Chkheidze', 'Zimakin', 'Sheludko', 'Gorchatov', 'Mujkaterov', 'Lidorenko', 'Yugin', 'Royall', 'De sauveterre', 'Onikov', 'Antonts', 'Tenshin', 'Shalhoub', 'Vagin', 'Cline', 'Otdelnov', 'Bilenkin', 'Vieth', 'Andrushkevich', 'Shamon', 'Chatterton', 'Templar', 'Mansour', 'Phi', 'Mcewan', 'Rutkevich', 'Kassis', 'Bazarevich', 'Krause', 'Magro', 'Jordan', 'Sadowski', 'Chikanov', 'Essa', 'Powell', 'Penn', 'Janalov', 'Youn', 'Molloy', 'Finbow', 'Burford', 'Pechkovsky', 'Tcheharin', 'Zhuravel', 'Deighton', 'Houston', 'Jitetsky', 'Gasymov', 'Awtomovitch', 'D arcy', 'Valshin', 'Tihankin', 'Nevezhin', 'Hot', 'Salvatici', 'Dozmorov', 'Uetake', 'Ohme', 'Faraldo', 'Nurok', 'Attia', 'Lositsky', 'Abragamson', 'Yanovitsky', 'Baklashov', 'Rozenbloom', 'Palmeiro', 'Saller', 'Zang', 'Koury', 'Williamson', 'Dubentsov', 'Yagovenko', 'Romero', 'Peters', 'Holomenko', 'Drassal', 'Rogashkov', 'Meadhra', 'Mifsud', 'Ardizzone', 'Munaev', 'Mustafa', 'Assaf', 'Makhovikov', 'Joe', 'Hoshino', 'Edgar', 'Pettigrew', 'Mitchell', 'Holopov', 'Tzaplin', 'Kalaberda', 'Matsura', 'Mikolajczak', 'Hazbulatov', 'Farmer', 'Cucinotta', 'Hideyoshi', 'Veselov', 'Lysihin', 'Haustovich', 'Ghanem', 'Bates', 'Deryabin', 'Kaleshin', 'Golovenok', 'Kaletin', 'Aswad', 'Furnell', 'Nyrko', 'Nader', 'Richards', 'De laurentis', 'Stone', 'Tzelischev', 'Freund', 'Chweh', 'Montanari', 'Vinci', 'Naifeh', 'Groom', 'Baderskoff', 'Maloof', 'Seif', 'Savinov', 'Towns', 'Saionji', 'Zhirnov', 'Bill', 'Uzlov', 'Waldvogel', 'Avtomovitch', 'Bakai', 'Holmansky', 'Gabrisova', 'Rahimov', 'Buchta', 'Vavilin', 'Vestman', 'Preston', 'Gatsukov', 'Jekov', 'Adkins', 'Vaisero', 'Luptsov', 'Imran', 'Detengof', 'Shahlamov', 'Jankov', 'Finkelson', 'Bolivar', 'Bekkarevich', 'Dowell', 'Isobe', 'Mccallum', 'Wilkins', 'Tsigelnik', 'Turmov', 'Wirt', 'Achteren', 'Vyshegorodtsev', 'Hazov', 'Maalouf', 'Mahorin', 'Bilyk', 'Azhaev', 'Nose', 'Davidenkov', 'Havrichev', 'Maksimchik', 'Bagramov', 'Adelson', 'Dehtyar', 'Herbert', 'Agol', 'Owings', 'Forrester', 'Kachalin', 'Rhoades', 'Altshtein', 'Pahmutov', 'Prigoda', 'Glezmer', 'Hakimi', 'Researcher', 'Childs', 'Duchamps', 'Artizov', 'Sabbag', 'Zavoisky', 'Nunn', 'Kyritsis', 'Ruhlov', 'Tucker', 'Shenfer', 'Esan', 'Lesauvage', 'Ottyasov', 'Nassar', 'Guzei', 'Mcshane', 'Levite', 'Portnov', 'Filipchuk', 'Tannous', 'Matsievich', 'Hadjiev', 'Aliberti', 'Jaitsky', 'Zhiboedov', 'Piazza', 'Harrison', 'Guznischev', 'Paivin', 'Havronin', 'Villa', 'Jerry', 'Yuhtanov', 'Shangareev', 'Andruschenko', 'Manos', 'Anderson', 'Jigalkin', 'Kriz', 'Mitsuya', 'Acciaio', 'Faust', 'Mujdabaev', 'Isaevich', 'Costantini', 'Sanna', 'Yanshole', 'Acciai', 'Mikhalenkov', 'Shakhgildyan', 'Christou', 'Ruts', 'Minyukov', 'Vankov', 'Horoshev', 'Awduloff', 'Veselenko', 'Haritonov', 'Ilyushkin', 'Pohmelkin', 'Dagher', 'Pavlicka', 'Iwasa', 'Blackwell', 'Fakhoury', 'Baggio', 'Winman', 'Hakimi', 'Kitamura', 'Lebedevich', 'Nesmachko', 'Belorusov', 'Kada', 'Jakimenko', 'Dvorak', 'Shirinkin', 'Arbore', 'Roebuck', 'Attia', 'Badyin', 'Haworth', 'Sun', 'Tsyurko', 'Hagan', 'Hong', 'Mcmanus', 'Mustafa', 'Bektabegov', 'Shaikin', 'Browne', 'Pogosyan', 'Tihin', 'Aboimoff', 'Columbo', 'Gross', 'Tansey', 'Chugreev', 'Chantler', 'Jemlihanov', 'Jollenbeck', 'Stamatelos', 'Sellers', 'Zhidenko', 'Maclean', 'Maroun', 'Renard', 'Leizerman', 'Tinker', 'Blazek', 'Kaur', 'Eidlin', 'Copeland', 'Zhabotinsky', 'Dovgolevsky', 'Gassiy', 'Aitken', 'Archer', 'Pokorny', 'Kalb', 'Movsarov', 'Gaber', 'Rust', 'Matsumoto', 'Issac', 'Hamer', 'Vaughan', 'Gaguliya', 'Mazaki', 'Gaber', 'Cairns', 'Teal', 'Pringle', 'Prevost', 'Mukovozov', 'Farnworth', 'Avrus', 'Loudon', 'Munkata', 'Masuzoe', 'Zino', 'Ponec', 'Sabbadin', 'Hidirov', 'Anton', 'Awtonomoff', 'Arlotti', 'Privalikhin', 'Kirkby', 'Araullo', 'Khoury', 'Anistratenko', 'Valaev', 'Vertelko', 'Chikhachev', 'Nurmuhamedov', 'Sarto', 'Yuzvishin', 'Tong', 'Howell', 'Kokan', 'Ghannam', 'Baldi', 'Kijek', 'Agrikoff', 'Abboud', 'Guinard', 'Mill', 'Daher', 'Pokhlebaev', 'Abrahams', 'Missiakos', 'Vyschipan', 'Zheltoukhov', 'Ingleby', 'Tchekoev', 'Mazawa', 'Agdarov', 'Makhagonov', 'Roper', 'Righi', 'Bilik', 'Mendoza', 'Kabulov', 'Tulumbasov', 'Tzekhanovich', 'Fischer', 'Tweddle', 'Deripaska', 'Likhvantsev', 'Tronin', 'Patsiorkovsky', 'Dreher', 'Rutkovsky', 'Koury', 'Mihailovsky', 'Pyrchenkov', 'Nastogunin', 'Deeb', 'Harkness', 'Giannakopoulos', 'Jemuhov', 'Morek', 'Yandutkin', 'Dobrovsky', 'Mueller', 'Fisher', 'Alkov', 'Salib', 'Awad', 'Bazzi', 'Penkov', 'Yakshibaev', 'Ajello', 'Vajenin', 'Nutt', 'Durmashkin', 'Donaldson', 'Brannon', 'Dubicki', 'Escarra', 'Nazari', 'Pentin', 'Moshnikov', 'Macfarland', 'Tcheklyanov', 'Nakao', 'Kanaan', 'Ealy', 'Tsuruga', 'Ino', 'Mochanov', 'Vela', 'Eyett', 'Sabbag', 'Raikov', 'Chong', 'Minov', 'Mnatsakanov', 'Trudu', 'Ungaretti', 'Naggia', 'Dunn', 'Acconci', 'Khu', 'Dunne', 'Gajos', 'Tsipushtanov', 'Livanov', 'Zhuravkov', 'Chertok', 'Alinari', 'Babkeev', 'Filippovich', 'Yujakov', 'Dakhaev', 'Mahortov', 'Vrazel', 'Tsalko', 'Andrusiw', 'Inoguchi', 'Pelevin', 'Jakovchuk', 'Tchanyshev', 'Janshole', 'Ceallachan', 'Cho', 'Danilyan', 'Chamov', 'Anikin', 'Shain', 'Agosti', 'Djemilev', 'Babkov', 'Kalinichev', 'Adey', 'Farrelly', 'Imedoev', 'Han', 'Dalby', 'Dublyansky', 'Lindo', 'Adam', 'Chaplin', 'Pickard', 'Tarumi', 'Danby', 'Benitez', 'Shiraev', 'Ranson', 'Malouf', 'Moghadam', 'Awerkin', 'Derkachev', 'Miniahhmetov', 'Rais', 'Juchenko', 'Navratil', 'Chambers', 'Fintiktikov', 'Egin', 'Lemaire', 'Khoury', 'Oneill', 'Likum', 'Cuevas', 'Cham', 'Vadovsky', 'Dickens', 'Poulton', 'Sen', 'Matsushita', 'Shammas', 'Handal', 'Hemmings', 'Basurto', 'Hamzin', 'Jeglov', 'Bishara', 'Jamieson', 'Banos', 'Luhovitsky', 'Nizhegorodtsev', 'Voltolini', 'Ghanem', 'Her', 'Aden', 'Divilkovsky', 'Hirose', 'Issa', 'Maloof', 'Chadin', 'Bramley', 'Zhaivoronok', 'Vedenyapin', 'Agapotchkin', 'Abrosimoff', 'Multykh', 'Losa', 'Babakov', 'Tihomirov', 'Yablontzev', 'Juzhakov', 'Asfour', \"O'Hare\", 'Tsederbaum', 'Vyalba', 'Helm', 'Nason', 'Mikhalchenko', 'Hirst', 'Tulaev', 'Adimari', 'Dalton', 'Mariani', 'Palin', 'Snelker', 'Jacob', 'Soseki', 'Youssouf', 'Zheleznov', 'Emmons', 'Timpe', 'Everett', 'Yudanov', 'Vanyushin', 'Shahovskoi', 'Bazhenin', 'Hyun', 'Faulkner', 'Shamoun', \"O'Grady\", 'Sapon', 'Eichel', 'Mukke', 'Tsarikaev', 'Maksimov', 'Donohoe', 'Accardi', 'Erepov', 'Rapp', 'Maciomhair', 'Yandiev', 'Vilyams', 'Hill', 'Marshall', 'Chuvilo', 'Mladentsev', 'Dobrosotsky', 'Atroshenko', 'Sinagra', 'Abboud', 'Kaminaga', 'Vallah', 'Mulatov', 'Oshin', 'Turchak', 'Cheplakov', 'Lowis', 'Hanania', 'Padkin', 'Santillian', 'Easen', 'Bakotin', 'Lezhenko', 'Main', 'Tulov', 'Granovsky', 'Deeb', 'Marszaek', 'Glazyrin', 'Turchin', 'Pavlusha', 'Reagan', 'Tsigal', 'Pirogov', 'Whitfield', 'Guzik', 'Golovanchikov', 'Grant', 'Mclaughlin', 'Mui', 'Bohmer', 'Jahnyuk', 'Kouri', 'Arnett', 'Katsev', 'Mokritsky', 'Tsval', 'Mochanovsky', 'Bazulev', 'Lucas', 'Kocian', 'Sarkis', 'Babenkoff', 'Mordin', 'Vakitchev', 'Ivor', 'Vlahos', 'Baewski', 'Batchinsky', 'Cotton', 'Tomashenko', 'Jelaev', 'Djuromsky', 'Tokaev', 'Bakhlaev', 'Makiguchi', 'Dunmore', 'Kanaan', 'Seidel', 'Koury', 'Niadh', 'Hertz', 'Dagher', 'Hominsky', 'Bourne', 'Bazhenov', 'Tomimoto', 'Ajaev', 'Tomashuk', 'Nezhdanov', 'Tovstoles', 'Shakhtmeister', 'Omelkov', 'Likholobov', 'Valko', 'Deniaud', 'Gerges', 'Calabrese', 'Brauer', 'Roles', 'Sayegh', 'Vaisner', 'Shahrai', 'Agranowitch', 'Dawson', 'Abdrakhimoff', 'Tchehanov', 'Janowski', 'Salib', 'Lebedenko', 'Sapojinsky', 'Montero', 'Langridge', 'Amari', 'Whitmire', 'Zasodimsky', 'Leslie', 'Bahorin', 'Simen', 'Macpherson', 'Hudyshkin', 'Makhmudov', 'Essa', 'Deacon', 'Yafrakov', 'Shamoun', 'Shirmanov', 'Yunokawa', 'Lysko', 'Astrahankin', 'Rorris', 'Neville', 'Jura', 'Crump', 'Froyanov', 'Vancoller', 'Vygran', 'Shamankov', 'Mustafa', 'Zhupanenko', 'Saitov', 'Charlton', 'Janzhul', 'Hajjar', 'Downs', 'Schultz', 'Matzak', 'Burke', 'Isagaliev', 'Saksonov', 'Eddy', 'Alcheka', 'Vaipan', 'Vitrik', 'Velidov', 'Aylott', 'Foss', 'Agashin', 'Nahas', 'Naomhan', 'Truhanov', 'Vantchugov', 'Sachs', 'Tuma', 'Evdokimov', 'Zingman', 'Cope', 'Tikhvinsky', 'Gomatos', 'Keogh', 'Raikhelson', 'Roma', 'Tuvin', 'Pavlunovsky', 'Deushi', 'Zhivokini', 'Tobulinsky', 'Chartorizhsky', 'Horuzhy', 'Kerner', 'Elms', 'Fakhoury', 'Tuinov', 'Ugaki', 'Makino', 'Shiganori', 'Yagich', 'Filippi', 'Sula', 'Aggio', 'Baziner', 'Shenyavsky', 'Zhadin', 'Adushkin', 'Jigulin', 'Baisak', 'Antyushin', 'Shentel', 'Lustgarten', 'Japaskurt', 'Dovydenko', 'Zhelezny', 'Ilyahin', 'Avlukov', 'Balabai', 'Jmakov', 'Demakis', 'Mccullough', 'Nusberg', 'Atter', 'Sykes', 'Fiscella', 'Yujilin', 'Prigorodov', 'Bazarbaev', 'Govoruhin', 'Piper', 'Yatzunov', 'Vazhnichy', 'Mikhelyus', 'Makhlai', 'Siskind', 'Darkov', 'Tzelikovsky', 'Jamburg', 'Ott', 'Yanzhul', 'Rekshinsky', 'Minniahmetov', 'Gulyashko', 'Timberlake', 'Silva', 'Engman', 'Omori', 'Hiratasuka', 'Connor', 'Fedosov', 'Hainadsky', 'Yoshioka', 'Snowden', 'Boulos', 'Beh', 'Tatnell', 'Huziyatov', 'Muzykantsky', 'Paharkov', 'Oatridge', 'Abreu', 'Juk', 'Tamaro', 'Marti', 'Said', 'Sugden', 'Froman', 'Shirvindt', 'Nakhmanovich', 'Bakikhanov', 'Irie', 'Tremble', 'Matheson', 'Chemlik', 'Leaver', 'Belobrov', 'Abugoff', 'Mikhalychev', 'Kan', 'Dogmarov', 'Mokhov', 'Lim', 'Russov', 'Vilchur', 'Swann', 'Rowan', 'Tumenov', 'Castillo', 'Jeimo', 'Lomas', 'Anstee', 'Obyedkin', 'Dovgaev', 'Nightingale', 'Ventura', 'Mustafa', 'Cihak', 'Nieddu', 'Hyde', 'Baitov', 'Ricketts', 'Abulmambetoff', 'Robotham', 'Yakupov', 'Tuganov', 'Morcos', 'Eto', 'Neary', 'Lianozov', 'Nazari', 'Shakhkalamyan', 'Likhodei', 'Yaburov', 'Glavchev', 'Plotnitsky', 'Isangulov', 'Safko', 'Franco', 'Awtuhoff', 'Bahtiaroff', 'Welch', 'Liven', 'Jafaev', 'Ghanem', 'Shakhov', 'Mihalitsin', 'Sturgess', 'Velikorussov', 'Swango', 'Newstead', 'Groel', 'Yamaguchiya', 'Chalov', 'Mackay', 'Shiba', 'Saliba', 'Tornincasa', 'Forstner', 'Shammas', 'Mundy', 'Bakhmatoff', 'Slapnickova', 'Arian', 'Jaluvka', 'Koumans', 'Mould', 'Antropov', 'Eyre', 'Egorkin', 'Aguzarov', 'Yaminsky', 'Atarskih', 'Kerridge', 'Yakubik', 'Hanabusa', 'Rotermel', 'Forshteter', 'Wornhor', 'Moreno', 'Samaha', 'Wickens', 'Babenkov', 'Basara', 'Yakush', 'Gorbachevsky', 'Vyglovsky', 'Yufryakov', 'Kwan', 'Divavin', 'Notman', 'Gorchakovsky', 'Zhigailo', 'Geshtovt', 'Kattan', 'Awanesyan', 'Zhigailov', 'Vykruta', 'Habarin', 'Thurbon', 'Stephenson', 'Govendyaev', 'Ville', 'Anker', 'Zhelaev', 'Tzah', 'Pazdnikov', 'Geaney', 'Lychagin', 'Kudara', 'Loskot', 'Joynson', 'Nassar', 'Ko', 'Mcculloch', 'Amari', 'Oborin', 'Ruzicka', 'Tani', 'MonkoAustria', 'Muizhel', 'Awdieff', 'Fargher', 'Biryulev', 'Basara', 'Ono', 'Rivera', 'Cen', 'Isaikin', 'Eatherington', 'Redman', 'Agapochkin', 'Vann', 'Bajenin', 'Troeglazov', 'Grokhotov', 'Nikolaou', 'Chuhlomsky', 'Baglaenko', 'Katsura', 'Wruck', 'Haenraats', 'Yamawaki', 'Aida', 'Severins', 'Neslyuzov', 'Jabotinsky', 'Maloney', 'Naser', 'Darchiev', 'Dozorny', \"D'angelo\", 'Safar', 'Basara', 'Glockl', 'Turmanov', 'Tillens', 'Bahmatoff', 'Noh', 'Gallo', 'Lokhtin', 'Zhevolozhnov', 'Lee', 'Xing', 'Emmett', 'Nishimura', 'Yim', 'Harebov', 'Victor', 'Youj', 'Pelin', 'Faure', 'Rhodes', 'Dubik', 'Rahal', 'Danichenko', 'Uzakov', 'Zhvachkin', 'Kitao', 'Rier', 'Horne', 'Krantz', 'Calvert', 'Zhivkovich', 'Papoutsis', 'Jakimchuk', 'Peigne', 'Totah', 'Hankeev', 'Boutros', 'Hasminsky', 'Ganim', 'Rey', 'Uzhentsev', 'Tollis', 'Janda', 'Bekyashev', 'Sarti', 'Antonakos', 'Zis', 'Logan', 'Higuchi', 'Jiu', 'Dziedzic', 'Matzigura', 'Grushetsky', 'Vanin', 'Katsukov', 'Isbitt', 'Verber', 'Khouri', 'Haziahmetov', \"O'Neal\", 'Ghanem', 'Thorpe', 'Churyukin', 'Domhnall', 'Lysakov', 'Zasedatelev', 'Kassab', 'Adelkhanov', 'Toman', 'Eddison', 'Simonis', 'Uhanov', 'Judasin', 'Saliba', 'Rezac', 'Awalyan', 'Guirguis', 'Granger', 'Tzaizer', 'Osipenko', 'Yakimov', 'Bawidov', 'Bibler', 'Gluhov', 'Abzyaparov', 'Bassanelli', 'Ekaterininsky', 'Mujitskikh', 'Sugita', 'Eda', 'Tzehmistrenko', 'Cingolani', 'Nezhinsky', 'Adodin', 'Tunnikov', 'Luu', 'Douglas', 'Zhevaikin', 'Abdrahmanov', 'Mustafa', 'Maroun', 'Meindl', 'Fothergill', 'Filipov', 'Agayan', 'Shahovsky', 'Agrachev', 'Nezhentsev', 'Ellans', 'Admakin', 'Vilgelminin', 'Shendrik', 'Rekitar', 'Annan', 'Veligorsky', 'Yushmanov', 'Swales', 'Samaha', 'Tchehov', 'Huber', 'Todd', 'Amadei', 'Avanesyan', 'Maksin', 'Iskoz', 'Valetto', 'Basso', 'Turkov', 'Assaf', 'Loftus', 'Grakovich', 'Balanowski', 'Talberg', 'Laar', 'Jervis', 'Grodetsky', 'Rolfe', 'Vizhonsky', 'Agaltsoff', 'Muzylev', 'Imukov', 'Otlivschikov', 'Gim', 'Kunkle', 'Fashingbauer', 'Gudojnik', 'Attia', 'Darchiashvili', 'Sak', 'Isasev', 'Simodines', 'Readle', 'Frost', 'Neville', 'Mein', 'Binevich', 'Badyagin', 'Piskach', 'Poholkov', 'Thornes', 'Bear', 'Baz', 'Ukhin', 'Chursin', 'Jevanov', 'Ponikarovsky', 'Johansen', 'Diev', 'Tcharuhin', 'Knopp', 'Beutel', 'Badaev', 'Turbanov', 'Timakin', 'Toyama', 'Hrula', 'Humphries', 'Drivakis', 'Jakhlakov', 'Bui', 'Burden', 'Jermy', 'Suzuki', 'Peresada', 'Quraishi', 'Saliba', 'Cloutier', 'Jarnov', 'Kurkawa', 'Nahas', 'Jimirov', 'Mindel', 'Mak', 'Salisbury', 'Birger', 'Navara', 'Zhidelev', 'Shriver', 'Oulton', 'Shahnazaryants', 'Shahlin', 'Senkovsky', 'Totah', 'Belodubrovsky', 'Esmonsky', 'Nave', 'Milligan', 'Baram', 'Esmansky', 'Aiolfi', 'Ilett', 'Velikopolsky', 'Timirev', 'Dzhumaniyazov', 'Riha', 'Haddad', 'Shadid', 'Promyslov', 'Ganim', 'Alperovich', 'Lutkovsky', 'Sarkis', 'Close', 'Huff', 'Vitorgan', 'Dagher', 'Raitses', 'Bover', 'Bekrenev', 'Ubina', 'Otyutsky', 'Minyazhetdinov', 'Perrins', 'Gulevich', 'Lichkus', 'Roth', \"O'Hannagain\", 'Adamoff', 'Yanov', 'Bajaev', 'Kijmuta', 'Ponagushin', 'Najjar', 'Jez', 'Yankilovich', 'Jukhvidov', 'Wahner', 'Kinugasa', 'Tsyrba', 'Saitoh', 'Maynard', 'Zhizhin', 'Goloushin', 'Ogura', 'Zhimailov', 'Tron', 'Pavlinov', 'Durylin', 'Willson', 'Pokhodun', 'Takizawa', 'Baglanov', 'Pedrotti', 'Lecce', 'Abovyan', 'Vyakkerev', 'Fraser', 'Simon', 'Christie', 'Viron', 'Fountain', 'Lihtenshtedt', 'Zaslavsky', 'Matsuo', 'Janaslov', 'Emmery', 'Jakuba', 'Mas', 'Usenko', 'Marchand', 'Shima', 'Molev', 'Anedchenko', 'Egiazaryan', 'Savage', 'Shalaev', 'Neverkovets', 'Bakiroff', 'Vihansky', 'Holkin', 'Momotov', 'Abankin', 'Shalimo', 'Abgaryan', 'Tillens', 'Kachalov', 'Isa', 'Langbroek', 'Gan', 'Mahlinsky', 'Frith', 'Kartashov', 'Filipkov', 'Negrini', 'Toshishai', 'Oom', 'Joyce', 'Dervish', 'Pokhmelkin', 'Tzagunov', 'Vyshkvarko', 'Abboud', 'Adoratski', 'Butter', 'Takahama', 'Naoimhin', 'Maryanov', 'Koury', 'Zogby', 'Pigott', 'Vozab', 'Kinoshita', 'Shaikhutdinov', 'Janover', 'Kablahov', 'Haenraets', 'Eilerts', 'Karlovsky', 'Abdulkhabirov', 'Nezamai', 'Tugolukov', 'Yakubchik', 'Ebers', 'Shalhoub', 'Paradzhanov', 'Nosikov', 'Bilinsky', 'Dubnyakov', 'Chkhenkeli', 'Karras', 'Awtamonoff', 'Quraishi', 'Halepsky', 'Eihengolts', 'Dam', 'Metz', 'Gorfunkel', 'Harris', 'Pyankov', 'Holgate', 'Dressler', 'Saliba', 'Benfield', 'Fux', 'Hilchevsky', 'Bata', 'Maalouf', 'Sanjo', 'Pounder', 'Vaitsehovsky', 'Yanitsky', 'Keeley', 'Babaskin', 'Rotaru', 'Isaichenkov', 'Ghanem', 'Haprov', 'Lamond', 'Hundanov', 'Dubnov', 'Zhovnerik', 'Robles', 'Chung', 'Marshev', 'Rossini', 'Maestri', 'Eiler', 'Najjar', 'Kidd', 'Shahno', 'Emelianenko', 'Sappe', 'Ramires', 'Darenkov', 'Oakley', 'Vozdvijensky', 'Kalakutsky', 'Samaha', 'Petit', 'Clements', 'Werner', 'Kan', 'Brahms', 'Jukalov', 'Grammatikov', 'Shiotani', 'Zhunusov', 'Ballantyne', 'Schmid', 'Kabachev', 'Babakhanoff', 'Moghadam', 'Foreman', 'Yakovichenko', 'Jansen', 'Baikovsky', 'Render', 'Bauze', 'Podsizertsev', 'Avlov', 'Etxebarria', 'Farrier', 'Bahar', 'Nurton', 'Eckersley', 'Heritage', 'Sevriens', 'Takishita', 'Kenmotsu', 'Lavigne', 'Abbaticchio', 'Golota', 'Tadeshi', 'Kouri', 'Bahtinov', 'Kabakchi', 'Halo', 'Bakikhanoff', 'Naifeh', 'Deeb', 'Sankovsky', 'Shiomiya', 'Antipas', 'Grositsky', 'Boer', 'Earle', 'Smith', 'Uhovsky', 'Overett', 'Ochoa', 'Kensington', 'Edmond', 'Uzhva', 'Tanuma', 'Musahanyants', 'Vilbushevich', 'Machin', 'Wagstaff', 'Katsukawa', 'Rogerson', 'Johnson', 'Jevahov', 'Ryjev', 'Levin', 'Baboshin', 'Hadad', 'Haddad', 'Adjaloff', 'Moghadam', 'Masuko', 'Adamyants', 'Mccall', 'Uemlyanin', 'Kistler', 'Jia', 'Macias', 'Hodgkinson', 'Shadid', 'Shalimov', 'Abalakov', 'Boulos', 'Petsyuha', 'Davey', 'Kira', 'Hawes', 'Metrofanis', 'Hiro', 'Kikugawa', 'Denend', 'Antyshev', 'Murasaki', 'Govoretsky', 'Velikorodny', 'Yushkov', 'Belogolovkin', 'Antar', 'Sedmikova', 'Vandroogenbroeck', 'Gaubrich', 'Cremonesi', 'Kokkali', 'Dzhaldzhireev', 'Kartushin', 'Cabral', 'Velichkovsky', 'Glazaty', 'Pochinok', 'Ozimuk', 'Arian', 'Halapkhaev', 'Hataevich', 'Gluz', 'Yakutin', 'Dolton', 'Elgin', 'Beklemishev', 'Zawisza', 'Zavorin', 'Nicholson', 'Babloev', 'Mah', 'Wojda', 'Dautov', 'Bagramoff', 'Jorda', 'Miao', 'Djatdoev', 'Forrest', 'Chaldymov', 'Espina', 'Utochkin', 'Shalhoub', 'Schetchikov', 'Crane', 'Zenkin', 'Asom', 'Fattore', 'Chertorogov', 'Dagher', 'Church', 'Dzhigit', 'Haraev', 'Naser', 'Tsvelyuh', 'Raikhert', 'Takemitsu', 'Uhin', 'Quaranta', 'Hotetovsky', 'Tukmanov', 'Garb', 'Antonino', 'Zhelyabuzhsky', 'Vihrev', 'Smit', 'Baiguzoff', 'Veliky', 'Lokhanov', 'Hisamatsu', 'Stramba', 'Sitko', 'Chapman', 'Zasyadko', 'Dubrowsky', 'Vitruk', 'Eguchi', 'Dav', 'Isherwod', 'Zimny', 'Gerges', 'Jankov', 'Sammiya', 'Abandonato', 'Beiman', 'Kyubei', 'Abe', 'Grimes', 'Vilensky', 'Jebryakov', 'Muromtsev', 'Pochkaev', 'Laws', 'Docker', 'Dacey', 'Gasnikov', 'Groskov', 'Kaberov', 'Hamidulin', 'Bostock', 'Chizhov', 'Rusnak', 'Vennen', 'Fadeechev', 'Zhigalkin', 'Zuraw', 'Lishtovny', 'Moh', 'Tchehluev', 'Kara', 'Vlasak', 'Wootton', 'Wiater', 'Awakshin', 'Spellmeyer', 'Nevejin', 'Elbutt', 'Reader', 'Alyrchikov', 'Piskarenkov', 'Glazman', 'Shahbazyan', 'Jigmytov', 'Avdeichikov', 'Tropin', 'Avraamov', 'Garrard', 'Chuhontsev', 'Alchubaev', 'Michael', 'Prescott', 'Chuvilev', 'Jeronkin', 'Musatov', 'Keilty', 'Biljo', 'Mifsud', 'Quraishi', 'Randle', 'Kablov', 'Clough', 'Than', 'Ashia', 'Mokeev', \"Tzel'Ko\", 'Geft', 'Zhevlakov', 'Passmore', 'Tzagolov', 'Jijilev', 'Jun', 'Sarraf', 'Tsvetov', 'Hough', 'Zeleny', 'Tannous', 'Farina', 'Zinatullin', 'Baik', 'Abdrazakov', 'Rossi', 'Todriya', 'Ring', 'Naser', 'Egan', 'Healy', 'Kattan', 'Avalishvili', 'Tsarenko', 'Naser', 'Pavelyev', 'Tupihin', 'Clark', 'Babaevsky', 'Boutros', 'Yachnik', 'Montagna', 'Lennon', 'Marriott', 'Polivanov', 'Herriot', 'Laycock', 'Temko', 'Jelen', 'Montague', 'Rotmistrov', 'Ruzhitsky', 'Awinowitski', 'Vargas', 'Lazhentsev', 'Martoyas', 'Tellis', 'Colling', 'Herovets', 'Tosi', 'Rahal', 'Hakhva', 'Tsakul', 'Yamlikhanov', 'Vyucheisky', 'Kikkawa', 'Tikhonravov', 'Wang', 'Jedynak', 'Val', 'Horoshih', 'Nokes', 'Utkin', 'Talikov', 'Naifeh', 'Kawachi', 'Tsujimura', 'Newbold', 'Nahodkin', 'Bagmewski', 'Grabski', 'Eadie', 'Eizenstein', 'Connell', 'Mcnaught', 'Schubert', 'Mischuk', 'Nijegorodov', 'Bakhtin', 'Chursinov', 'Atherton', 'Lejikov', 'Bologna', 'Chehlakovsky', 'Mctaggart', 'Conchobhar', 'Yakunkin', 'Jernokleev', 'Maksimovich', 'Seelen', 'Okenfuss', 'Snell', 'Chandler', 'Ujva', 'Greaves', 'Antonowitz', 'Moshonkin', 'Mlachnev', 'Tsagunov', 'Ingersleben', 'Bagimov', 'Wateridge', 'Adonts', 'Tayler', 'Sadiq', 'Bakulin', 'Yin', 'Qureshi', 'Tchajengin', 'Zhitny', 'Taltangov', 'Dzhemal', 'Homuha', 'Nicolas', 'Dargevich', 'Said', 'Mendel', 'Dawkins', 'Mifsud', 'Najjar', 'Tovar', 'Scott', 'Derkachenko', 'Ramsay', 'Tasker', 'Bando', 'Atanasyan', 'Xydis', 'Balakhonsky', 'Pokorny', 'Salib', 'Portnyagin', 'Rjanitsin', 'Hickey', 'Belovol', 'Yao', 'Srour', 'Rahmilovich', 'Abadi', 'Illingworth', 'Ingles', 'Neilson', 'Hierro', 'Sayegh', 'Arian', 'Fedchenkov', 'Adelfinski', 'Halitov', 'Broadhurst', 'Hanania', 'Hanusch', 'Aduloff', 'Judkov', 'Mathers', 'Asker', 'Bello', 'Kouri', 'Goodman', 'Piovene', 'Havlice', 'Mitsubishi', 'Greer', 'Carey', 'Browning', 'Ganza', 'Pratt', 'Mckenna', 'Horujy', 'Shalhoub', 'Omelko', 'Ii', 'Shadid', 'Catalano', 'Pae', 'Katzenellenbogen', 'Dao', 'Kalachikhin', 'Pace', 'Zhizhnov', 'Vasyankin', 'Adalardi', 'Snaijer', 'Eberman', 'Duben', 'Atvilov', 'Filipovsky', 'Lennard', 'Awenarius', 'Paredes', 'Ohba', 'Szewc', 'Aswad', 'Anisimkin', 'Shima', 'Begum', 'Janoch', 'Ablesimoff', 'Bahlulzade', 'Yablochkov', 'Zambrano', 'Gagemeister', 'Echeverria', 'Duarte', 'Yakubovich', 'Pocheshev', 'Nakhutin', 'Kolman', \"O'Donoghue\", 'Katsis', 'Nervetti', 'Mukomel', 'Hokusai', 'Mcginty', 'Novak', 'Viskovatov', 'Rushby', 'Portyansky', 'Kalinchuk', 'Mihelson', 'Tadhg', 'Remez', 'Dovgusha', 'Muir', 'Zhurihin', 'Downton', 'Murphy', 'Chabrov', 'Glynatsis', 'Bishara', 'Danchuk', 'Shirnin', 'Ormsby', 'Naser', 'Marmo', 'Vylegjanin', 'Zhdanovsky', 'Yakobi', 'Shamin', 'Dubko', 'Leigh', 'Tcharkin', 'Agranoff', 'Agalaradze', 'Lew', 'Kouma', 'Koban', 'Rinaldi', 'Ziemniak', 'Daniltsev', 'Protz', 'Vaniev', 'Luppol', 'Charkin', 'Akimoto', 'Edon', 'Ming', 'Shakhbazov', 'Seif', 'Finn', 'Saikov', 'Bakoni', 'Valednitsky', 'Tsukawaki', 'Sapojnikov', 'Numerov', 'Zhuchenko', 'Durov', 'Sarkis', 'Vanechkin', 'Haddad', 'Penners', 'Vyazovchenko', 'Shakhovsky', 'Bitar', 'Jirinovsky', 'Yamana', 'Holmsky', 'Cheharin', 'Rompuy', 'Morava', 'Mokronosov', 'Thi', 'Salomon', 'Granger', 'Abdrazakoff', 'Kazimor', 'Mokry', 'Dobroslavin', 'Guio', 'Schenck', 'Zhan', 'Halabi', 'Ivchenko', 'Tungusov', 'Jablonowsky', 'Ricchetti', 'Mojarenko', 'Matznev', 'Graifer', 'Viner', 'Nair', 'Kinnaird', 'Ludlow', 'Hersonsky', 'Zhimerin', 'Badanov', 'Wellington', 'Adamyuk', 'Antonopoulos', 'Muhlfeld', 'Gilmore', 'Tzeiger', 'Ruggeri', 'Tomkins', 'Mokrousov', 'Bakalinsky', 'Driffield', 'Messer', 'Dzhindo', 'Forsh', 'Sepulveda', 'Patzevich', 'Daunene', 'Pavlu', 'Sai', 'Tomes', 'Tuneev', 'Bocker', 'Freeth', 'Alexander', 'Habibulaev', 'Como', 'Marshansky', 'Otroshenko', 'Harkharov', 'Nickolls', 'Kilshaw', 'Ablaev', 'Kalikyan', 'Alway', 'Quigley', 'Yamhata', 'Dayman', 'Sanna', 'Mischenko', 'Anami', 'Ralston', 'Craven', 'Juravkov', 'Markytan', 'Jaeger', 'Peace', 'Petrov', 'Daue', 'Hurtsilava', 'Galdin', 'Rebka', 'Yankelevich', 'Taniguchi', 'Halkechev', 'Moshin', 'Avdievsky', 'Bagrov', 'Kurusu', 'Jamoida', 'Rao', 'Bradshaw', 'Vyrodov', 'Odriscoll', 'Essert', 'Harev', 'Neyland', 'Abadi', 'Salib', 'Reyes', 'Ebisawa', 'Perrot', 'Zangari', 'Fortin', 'Blundell', 'Moghadam', 'Likhobaba', 'Chamushev', 'Abello', 'Yafarov', 'Jarsky', 'Rents', 'Imanov', 'Evdakov', 'Osladil', 'Kitano', 'Kilner', 'Mahoney', 'Arrigucci', 'Larenz', 'Verney', 'Zaruba', 'Potseiko', 'Ustyuzhanin', 'Jahot', 'Grosvenor', 'Shakhbazyan', 'Comino', 'Bondesan', 'Azhogin', 'Noyes', 'Essa', 'Badylkin', 'Obolsky', 'Lymar', 'Jachnik', 'Halatnikov', 'Espinoza', 'Brunet', 'Grigoriev', 'Berezyuk', 'Seif', 'Jukhtman', 'Desyatnikov', 'Vlach', 'Minnihanov', 'Beyersdorf', 'Dovnar', 'Khoury', 'Hinrichs', 'Tujikov', 'Kagabu', 'Pahlke', 'Kalakin', 'BimBad', 'Bekshtrem', 'Asfour', 'Emmott', 'Djikovich', 'Averintsev', 'Keenan', 'Furnish', 'Marino', 'Asturias', 'Nurjanov', 'Otiev', 'Gallacher', 'Mustafa', 'Shendel', 'Vindman', 'Amari', 'Zinovin', 'Kassis', 'Wyer', 'Vanchurov', 'Paige', 'Kablukov', 'Devenish', 'Muzychka', 'Chekletsov', 'Elphick', 'Erusalimchik', 'Oliver', \"O'Neill\", 'Gushiken', 'Babadzhanov', 'Chadov', 'Perez', 'Pavesi', 'Vaks', 'Baidakoff', 'Lecuyer', 'Bahtchivandji', 'Close', 'Dowling', 'Enenko', 'Vasquez', 'Enyagin', 'Makul', 'Bello', 'Rothbauer', 'Denis', 'Tierney', 'Bahmutoff', 'Rademacher', 'Meier', 'Eilers', 'Katsumata', 'Zhukovets', 'Todorovsky', 'Tagawa', 'Vazhorov', 'Avseenko', 'Rotov', 'Mihilev', 'Talipov', 'Davidson', 'Munehin', 'Simecek', 'Navrkal', 'Worthington', 'Thornley', 'Mochalygin', 'Kalishewsky', 'Didkovsky', 'Dahov', 'Yaitsky', 'Gwock', 'Minko', 'Emery', 'Jelehovsky', 'Lychakov', 'Ogrady', 'Burgstaller', 'Jakimov', 'Beauchene', 'Vyltsan', 'Bagdasaroff', 'Sorrentino', 'Ota', 'Julidov', 'Last', 'Schenk', 'Omashev', 'Parratt', 'Baird', 'Dermody', 'Ruhlyada', 'Peltsman', 'Gulevsky', 'Abdurakhmanov', 'Malley', 'Rahal', 'Nyrkov', 'Awerochkin', 'Fonseca', 'Beyer', 'Stack', 'Prigozhin', 'Bata', 'Zhuravov', 'Multah', 'Toma', 'Hardy', 'Janimov', 'Amari', 'Kaufman', 'Hargreaves', 'Onuchin', 'Dzhisev', 'Savona', 'Kinrade', 'Andryuk', 'Lovatt', 'Bahurin', 'Matsuya', 'Charbonneau', 'Kouman', 'Awramenko', 'Himich', 'Hantuev', 'Holod', 'Gulaev', 'Jahin', 'Chuvstvin', 'Beloshapkov', 'Hasabov', 'Romans', 'Hotta', 'Nahas', 'Podshibihin', 'Yanson', 'Velyashev', 'Shamon', 'Gomes', 'Dounias', 'Sherman', 'Limanov', 'Falsh', 'Nahas', 'Blades', 'Uemura', 'Vliert', 'Rotai', 'Moldovanov', 'Leikin', 'Pispinis', 'Seif', 'Plichko', 'Baimiev', 'Porokhov', 'Guzov', 'Juhman', 'Wall', 'Leeuwenhoeck', 'Munyabin', 'Noskovsky', 'Tulubensky', 'Townsend', 'Baidukov', 'Eirih', 'Maradona', 'Anosov', 'Hua', 'Dzhikaev', 'Govorin', 'Couch', 'Walther', 'Grulich', 'Hamill', 'Zhivopistsev', 'Piercey', 'Kouri', 'Vakulich', 'Yatskovsky', 'Cooper', 'Waxweiler', 'Dovladbegyan', 'Jivago', 'Summers', 'Jakubovich', 'Demeshko', 'Allaway', 'Fenwick', 'Dufort', 'Gilchrist', 'Bahar', 'Assen', 'Mubarakshin', 'Gludin', 'Kopecky', 'Alber', 'Bakh', 'Chekoev', 'Kalabuhov', 'Amari', 'Mihalychev', 'Marysyuk', 'Linsby', 'Yansons', 'Marov', 'Komura', 'Shamoun', 'Jogin', 'Shaldybin', 'Talian', 'Harry', 'Matos', 'Zhovnir', 'Gorbulin', 'Shengeliya', 'Winward', 'Grushka', 'Barton', 'Gayulsky', 'Walshe', 'Sekozawa', 'Soriano', 'Levitis', 'Hait', 'Valikov', 'Rukhimovich', 'Khouri', 'Lefebvre', 'Clowes', 'Liders', 'Tivoli', 'Lykov', 'Thackeray', 'Jaguzhinsky', 'Tugushev', 'Vakilov', 'Zhiznyakov', 'Jidkih', 'Abudihin', 'Paramoshin', 'Hityaev', 'Hakimi', 'Harakhinov', 'Bazzi', 'Zinnurov', 'Molotkov', 'Vilin', 'Herback', 'Homenko', 'Livson', \"O'Kane\", 'Zabrovsky', 'Maloof', 'Durant', 'Agasarov', 'Lenihan', 'Michalovic', 'Shamoon', 'Maloof', 'Aritza', 'Jagovenko', 'Ruhlin', 'Ichikawa', 'Dawes', 'Wears', 'Ligorner', 'Yakubov', 'Tyne', 'Jeffrey', 'Yanover', 'Khoury', 'Kwei', 'Zingerman', 'Horn', 'Saliba', 'Attia', 'Nugaev', 'Geisler', 'Gasparyan', 'Bagnoli', 'Cham', 'Bavtrukevich', 'Christodoulou', 'Touma', 'Lubutov', 'Sayuki', 'Gaber', 'Essa', 'Bazhukov', 'Meisner', 'Kalb', 'Jabykin', 'Fukuoka', 'Humphreys', 'Eifman', 'Bezumov', 'Bitar', 'Kozumplikova', 'Rakhov', 'Baikov', 'Grushihin', 'Holomeev', 'Grange', 'Elachich', 'Astrahantsev', 'Reygan', 'Baba', 'Yuschak', 'Rigley', 'Lumsden', 'Adzhaloff', 'Ridge', 'Ageev', 'Agafonov', 'Cherchesov', 'Lowndes', 'Aswad', 'Kirby', 'Keward', 'Peebles', 'Tassioglou', 'Donnachie', 'Sander', 'Rossi', 'Shi', 'Jimulev', 'Mcmillan', 'Hanania', 'Flater', 'Vinberg', 'Otletov', 'Tchanturia', 'Asghar', 'Dobronravov', 'Imaizumi', 'Chikviladze', 'Deeb', 'Shadid', 'Judge', 'Nazarko', 'Laurenz', 'Harries', 'Datdeev', 'Balayan', 'Rohmanov', 'Detkov', 'Janovitsky', 'Vikhlyaev', 'Core', 'Bausov', 'Kabaidze', 'Hadad', 'Zharovtsev', 'Kafka', 'Jiboedov', 'Gandham', 'Tunkin', 'Lyjin', 'Yudenich', 'Kennard', 'Novoselitsky', 'Brodbeck', 'Rafferty', 'Shalgin', 'Abrazhevich', 'Whitley', 'Willis', 'Newell', 'Granatkin', 'Hoffmann', 'Babynin', 'Kokoris', 'Damhan', 'Zoucha', 'Hogan', 'Talypin', 'Tobolkin', 'Tulyakov', 'Halatov', 'Pirozhkov', 'Movsesov', 'Fukuyama', 'Humaryan', 'Yuhara', \"V'Yun\", 'Kauphsman', 'Anisovets', 'Sakubara', 'Barabashev', 'Baiteryakoff', 'Elesin', 'Shakhnarovich', 'Bairashewski', 'Muzalevsky', 'Tamuro', 'Blackmore', 'Mercier', 'Zherikhin', 'Bang', 'Hobson', 'Hairutdinov', 'Aubrey', 'Redden', 'Awwakumoff', 'Shirane', 'Gerhard', 'Doich', 'Paitakes', 'Gudev', 'Yaimov', 'Hanania', 'Landi', 'Weeks', 'Tailor', 'Doran', 'Shibaguchi', 'Zhegin', 'Zelenenkov', 'Pitts', 'Stumpf', 'Shahmametiev', 'Gorbov', 'Engelsberg', 'Shiomi', 'Han', 'Lambert', 'Pazukhin', 'Isaichev', 'Eberg', 'Fearnley', 'Botros', 'Shalaginov', 'Jokhov', 'Vozovik', 'Myatishkin', 'Bajoff', 'Yapondych', 'Asker', 'Stepan', 'Naldi', 'Stokoe', 'Lejebokov', 'Vanslov', 'Hatuntsev', 'Denham', 'Limitovsky', 'Schroder', 'Leal', 'Froy', 'Dowler', 'Bakshtanowsky', 'Badridze', 'Duyava', 'Lang', 'Pismensky', 'Kurosawa', 'Tuma', 'Armati', 'Gro', 'Tomashov', 'Faye', 'Vitoshnov', 'Sleiman', 'Dalach', 'Warner', 'Pohilevich', 'Persein', 'Durdyev', 'Makaseev', 'Yanagawa', 'Maloof', 'Ryzhkovsky', 'Altamura', 'Coates', 'Nichols', 'Stenhouse', 'Fontaine', 'Gehman', 'Velazquez', 'Paris', 'Jernov', 'Jagofarov', 'Verpeto', 'Lihodei', 'Verbitsky', 'Aivazovsky', 'Skala', 'Bernard', 'Bishara', 'Ogata', 'Bellandi', 'Sortras', 'Egami', 'Zhdanko', 'Babushkin', 'Isa', 'Abboud', 'Gillam', 'Leihtenbergsky', 'Lemieux', 'Atiyeh', 'Stein', 'Katsenellenbogen', 'Reynold', 'Colbert', 'Shamon', 'Raikatuji', 'Balashoff', 'Poroykov', 'Patzalo', 'Chalyshev', 'Awrutin', 'Dubinovsky', 'Edwards', 'Zhivotenko', 'Yepishev', 'Mojarovsky', 'Heintze', 'Amatore', 'Wills', 'Haik', 'Sienkiewicz', 'Milani', 'Awad', 'Marholenko', 'Utrobin', 'Felix', 'Asghar', 'Natho', 'Altham', 'Ramakers', 'Gerges', 'Dudchik', 'Kanaan', 'Hideki', 'Pastore', 'Modugno', 'Gluhih', 'Marchenov', 'Appleby', 'Xue', 'Hahulin', 'Grushko', 'Hihich', 'Nisbet', 'Darichev', 'Mancuso', 'Agaloff', 'Elfman', 'Auktsionek', 'Jovtyak', 'Jewell', 'Penner', 'Abadi', 'Townsley', 'Hiranuma', 'Featherstone', 'Apsley', \"D'amore\", 'Davydchenko', 'Dobrodeev', 'Siena', 'Milne', 'Berezovikov', 'Pridchenko', 'Baraks', 'Grillo', 'Rotar', 'Jujlev', 'Granberg', 'Chuvanov', 'Abadi', 'Tchapko', 'Shalhoub', 'Naifeh', 'Barnard', 'Hakimov', 'Vanshenkin', 'Esposito', 'Babeshkin', 'Tokuda', 'Persov', 'Vanzhula', 'Blackman', 'Bao', 'Tzayukov', 'Timlin', 'Eastwood', 'Abadi', 'Perry', 'Morcos', 'Waldfogel', 'Yatzkovsky', 'Bestuzhev', 'Small', 'Baba', 'Skokan', 'Moderah', 'Naumann', 'Gene', 'Shaidenko', 'Perrault', 'Paulis', 'Jupanenko', 'Adamou', 'Biryukovich', 'Saifitdinov', 'Timashev', 'Otlesnov', 'Tahan', 'Heatley', 'Sneiders', 'Prokuronov', 'Windsor', 'Yakimenko', 'Santos', 'Zelenetsky', 'Ganim', 'Lauwers', 'Artliff', 'Yount', 'Isanin', 'Vinnitsky', 'Hutchison', 'Bahvalov', 'Elliman', 'Antoshin', 'Hahalev', 'Goloborodov', 'Hanson', 'Jiril', 'Tsallagov', 'Jeludev', 'Dimmock', \"D'onofrio\", 'Karubo', 'Zobov', 'Urbina', 'Mindlin', 'Tsegoev', 'Denisovsky', 'Flaxman', 'Bagmut', 'Ransom', 'Hodson', 'Mansour', 'Valberh', 'Gudkov', 'Dyachkovsky', 'Tang', 'Franzese', 'Abadi', 'Vollans', 'Yamagata', 'Shaer', 'Bakkarevitch', 'Mai', 'Atamanyuk', 'Atlanov', 'Vysochin', 'Fei', 'Tcharushin', \"O'Malley\", 'Pochkunov', 'Abaimov', 'Wirnhier', 'Lupenkov', 'Jitinkin', 'Tuma', 'Musavirov', 'Valters', 'Langton', 'Babinoff', 'Badikov', 'Rowson', 'Goloborodko', 'Antwerpen', 'Nader', 'Bahar', 'Lyon', 'Thompson', 'Loskov', 'Adyrhaev', 'Nunes', 'Katz', 'Havroshin', 'Yuzhilin', 'Jakeman', 'Apeldoorn', 'Desyatskov', 'Bilonog', 'Kanaan', 'Oirschot', 'Sarna', 'Balabuev', 'Chadrantsev', 'Tokovoi', 'Gillen', 'Jegin', 'Hairyuzov', 'Marks', 'Pfeifer', 'Nevedomsky', 'Mooney', 'Till', 'Tumicelli', 'Gulia', 'Chekhluev', 'Doyle', 'Jakurin', 'Otchenashenko', 'Jamaltdinov', 'Kawayama', 'Ruaidh', 'Otton', 'Sarraf', 'Jerebko', 'Davitashvili', 'Voronikhin', 'Anderson', 'Zhegunov', 'Khoury', 'Emohonov', 'Verstakov', 'Amato', 'Daniells', 'Chikichev', 'Adiloff', 'West', 'Jund', 'Abboud', 'Michael', 'Gortyshov', 'Adov', 'Kirtley', 'Evans', 'Dora', 'Rooiakker', 'Frontov', 'Gass', 'Lokhmatikov', 'Nadwornik', 'Munsky', 'Confortola', 'Shammas', 'Leech', 'Aspin', 'Perrin', 'Chmiel', 'Yu', 'Padva', 'Onegin', 'Severijns', 'Priimkov', 'Belousov', 'Bilderling', 'Tzalaban', 'Nyuhtilin', 'Natashkin', 'Silje', 'Grobovsky', 'Murray', 'Westgate', 'Sarkis', 'Roijacker', 'Elez', 'Raiter', 'Elvins', 'Vuu', 'Ariwa', 'Belgov', 'Jebrovsky', 'Wilson', 'Imnadze', 'Pyrchenko', 'Kinashita', 'Likhonosov', 'Gorchak', 'Scheer', 'Vainrub', 'Manfredi', 'Vesnovsky', 'Jgutov', 'Bahrushin', 'Vilchinsky', 'France', 'Vesnin', 'Takagaki', 'Arena', 'Allport', 'Vazyaev', 'Porshenkov', 'Kocian', 'Mihalchenko', 'Underwood', 'Averkovitch', 'Ba', 'Jablontsev', 'Troepolsky', 'Colombera', 'Renkas', 'Rahov', 'Marsh', 'Talov', 'Petticrew', 'Fakhoury', 'Biondi', 'Ariwara', 'Ronchi', 'Mokhnachev', 'Manoukarakis', 'Fenn', 'Mansour', 'Dubelir', 'Rhys', 'Vorotnikov', 'Vitov', 'Amelyakin', 'Srour', 'Demidov', 'Pine', 'Mclellan', 'Yugai', 'Elisman', 'Canne', 'Knoxville', 'Gatin', 'Otten', 'Yukhnin', 'Shaev', 'Abadi', 'Vasyutsky', 'Tchekhonin', 'Mayer', 'Cerny', 'Addison', 'Taketomo', 'Botros', 'Bezrukikh', 'Mcphail', 'Harchikov', 'Okawa', 'Agapkin', 'Jatsyk', 'Kurian', 'Hasbulatov', 'Harb', 'Vyalov', 'Abadi', 'Bakhtinoff', 'Kalimullin', 'Gordon', 'Aushev', 'Srour', 'Jopson', 'Haziev', 'Gordyagin', 'Bithell', 'Abylgaziev', 'Corbett', 'Fakhoury', 'Ganim', 'Vaarandi', 'Kremlacek', 'Khoury', 'Kent', 'Hajjar', 'Gorskih', 'Axon', 'Zhou', 'Frei', 'Halaev', 'Louverdis', 'Edler', 'Rocha', 'Allington', 'Todorov', 'Bakirov', 'Maloof', 'Chekhovich', 'Teunissen', 'Adjalov', 'Razygrin', 'Dogadov', 'Benetton', 'Mindeli', 'Totten', 'Pailing', 'Bakaloff', 'Zhukovin', 'Coomber', 'Mikhail', 'Turovtsev', 'Akker', 'Golovach', 'Bahar', 'Lihtentul', 'Tansley', 'Nejentsev', 'Allwood', 'Baumgartner', 'Djeladze', 'Gaber', 'Holl', 'Lukha', 'Gorstkin', 'Yuhman', 'Steffen', 'Law', 'Belanger', 'Gladilschikov', 'Muruyama', 'Mateus', 'Hiorvst', 'Bezusko', 'Andreu', 'Yudakov', 'Sunderland', 'Carboni', 'Makunin', 'Fakhoury', 'Corcoran', 'Dantsiger', 'Westerberg', 'Serednitsky', 'Yakutkin', 'Kaloshin', 'Nesmelov', 'Dikih', 'Gronsky', 'Golovan', 'Asghar', 'Bezruchenkov', 'Horuzhenko', 'Glazunov', 'Vyaltsev', 'Greco', 'Shamoun', 'Peters', 'Bazunov', 'Rahamimov', 'Glynn', 'Xuan', 'Babintsev', 'Avery', 'Pyanov', 'Yakub', 'Barakin', 'Edeson', 'Eales', 'Sip', 'Etsuko', 'Spini', 'Ryans', 'Garbutt', 'Costello', 'Renshaw', 'Lihvantsev', 'Bitar', 'Por', 'Hakimi', 'Tsigra', 'Emms', \"Pohmel'Nyh\", 'Movsaev', 'Gladkih', 'Stary', 'Eikhvald', 'Tulkin', 'Issa', 'Foss', 'Alfionov', 'Nairn', 'Islanov', 'Jatsuba', 'Jukhimuk', 'Fabb', 'Rousseau', 'Lawrance', 'Castillion', 'Didigov', 'Gaber', 'Abel', 'Kappel', 'Paderin', 'Kassmeyer', 'Tulub', 'Beech', 'Didrikil', 'Theunissen', 'Awdoshin', 'Zhandarov', 'Robkanov', 'Baz', 'Bing', 'Paterson', 'Belesis', 'Hanchuk', 'Rakhimbaev', 'Roff', 'Helimsky', 'Poryvay', 'Tamura', 'Lihanov', 'Divakov', 'Handirov', 'Mcintosh', 'Divoky', 'Neverov', 'Turarov', 'Littlewood', 'Muzipov', 'Pridybailo', 'Tihov', 'Moshkunov', 'Ganim', 'Jigulsky', 'Louth', 'Chung', 'Hogg', 'Lokhov', 'Nader', 'Nader', 'Sakiev', 'Yugov', 'Zasoba', 'Kikuchi', 'Zhiril', 'Yatzenko', 'Groves', 'Wigley', 'Haddad', 'Isa', 'Glukharev', 'Stroud', 'Alford', 'Galbraith', 'Min', 'Glaznev', 'Dyachkov', 'Darsigov', 'Rapota', 'Agumaa', 'Spicer', 'Asghar', 'Theofilopoulos', 'Rahmaninov', 'Atamanov', 'Nicholas', 'Martinkus', 'Handurin', 'Gray', 'Nakamoto', 'Foden', 'Grodsky', 'Vaskovtsev', 'Vyhodtsev', 'Aurov', 'Shimura', 'Messner', 'Takudome', 'Tojo', 'Valchitski', 'Badyunoff', 'Ruhledev', 'Prill', 'Mckeown', 'Shenker', 'Zhabrev', 'Golomolzin', 'Riddell', 'Kassis', 'Downes', 'Movsumadze', 'Shin', 'Baidin', 'Essa', 'Asfour', 'Shadid', 'Tzapov', 'Dovetov', 'Albats', 'Beveridge', 'Norbert', 'Bernat', 'Vispovatyh', 'Jaklashkin', 'Los', 'Karnoupakis', 'Hamukov', 'Tobin', 'Maloof', 'Gukasov', 'Billevich', 'Yamskov', 'Fontaine', 'Ryoo', 'Toma', 'Kalb', 'Zhilchikov', 'Daraev', 'Talalai', 'Antar', 'Zherebovich', 'Charnetsky', 'Estevez', 'Kattan', 'Lambton', 'Handley', 'Miyajima', 'Yakshin', 'Phung', 'Eideman', 'Zogalev', 'Daher', 'Tchekonov', 'Poirier', 'Said', 'Kassis', 'Sala', 'Pliskanovsky', 'Zingarevich', 'Ganim', 'Averchenko', 'Koiso', 'Shinkaruk', 'Chepko', 'Grant', 'Kvasnicka', 'Golovachev', 'Goloschuk', 'Zhelokhovtsev', \"V'Yunkov\", 'Chauhan', 'Vilken', 'Moguchev', 'Tsekhanovich', 'Ferguson', 'Kings', 'Sabbagh', \"O'Meara\", 'Hayuata', 'Whitlock', 'Hasimoto', 'Livshin', 'Awetisyan', 'Bazzi', 'Safar', 'Bakerkin', 'Chepurnoy', 'Drake', 'Gladky', 'Podshivalov', 'Makusev', 'Durdin', 'Hautem', 'Deryushev', 'Ageitchev', 'Lih', 'Jorov', 'Yabsley', 'Elapov', 'Vakulitch', 'Zinoviev', 'Botros', 'Pech', 'Jaruev', 'De santis', 'Benini', 'OwYang', 'Stewart', 'Alkvist', 'Velds', 'Loiter', 'Seto', 'Jewkes', 'Yuhma', 'Weineltk', 'Vakanya', 'Toma', 'Porus', 'Kouri', 'Romao', 'Kassis', 'Khouri', 'Bonomo', 'Nazari', 'Semick', 'Gagarin', 'Tugwell', 'Rosa', 'Jatsun', 'Humphrey', 'Matzkov', 'Lama', 'Ponedelnik', 'Kernick', 'Rzheshevsky', 'Gorski', 'Shangin', 'Bazilevitch', \"D'cruz\", 'Gunning', 'Yeardsley', 'Abeldyaev', 'Abdulladzhanov', 'Bekleshev', 'Gaynor', 'Grosz', 'Bellomi', 'Jagudin', 'Arriola', 'Coiro', 'Asghar', 'Awtukhoff', 'Vo', 'Pfaff', 'Araya', 'Lieu', 'Prokoshev', 'Forst', 'Yatsenko', 'Bezrukavnikov', 'Tannous', 'Voll', 'Reilly', 'Graner', 'Derich', 'Ennos', 'Curran', 'Minobe', 'Kalb', 'Austen', 'Emsden', 'Pechersky', 'Likharev', 'Nasretdinov', 'Moriarty', 'Gasvitsky', 'Tchagin', 'Avelitchev', 'Mingaleev', 'Fonda', 'Hisamutdinov', 'Bestemyanov', 'Haneev', 'Ujvy', 'Andreichik', 'Barrow', 'Andreichev', 'Mulerman', 'Veselkin', 'Warwick', 'Hizh', 'Grec', 'Haddad', 'Hanlon', 'Masi', 'Said', 'Daursky', 'Chekhanov', 'Motta', 'Gorsky', 'Amantea', 'Yahno', 'Robustov', 'Takabe', 'Boulos', 'Eliopoulos', 'Dermelev', 'Lykosov', 'Akutagawa', 'Arah', 'Rigg', 'Shakhansky', 'Abubekeroff', 'Dubinkin', 'Boutros', 'Finochkin', 'Ibbs', 'Simon', 'Sarkis', 'Loh', 'Tikhenko', 'Janosik', 'Hedley', 'Sergeant', 'Downie', 'Evsiukov', 'Hramchenkov', 'Kelliher', 'Bohm', 'Jones', 'Serchuk', 'Kofel', 'Jukov', 'Bajanoff', 'Gooding', 'Lilov', 'Levine', 'Beltsev', 'Abzhaliloff', 'Jelnin', 'Abdulbasirov', 'Abashin', 'Lomax', 'Zhulev', 'Huranov', 'Srpcikova', 'Hayashida', 'Hanania', 'Sansone', 'Kobayashi', 'Avhimovich', 'Mei', 'Shaidarov', 'Crowther', 'Lagana', 'Podsyadlo', 'Abdulladzhanoff', 'Chkhartishvili', 'Mikhlin', 'Yap', 'Vinny', 'Limarov', 'Imeretinsky', 'Obata', 'Armbruster', 'Ermacora', 'Tchekmezov', 'Trimble', 'Giannakos', 'Vyazalov', 'Habichev', 'Mikhaltsov', 'Metcalf', 'Mlechin', 'Moshkov', 'Kolen', 'Pierre', 'Ibarra', 'Diaz', 'Vaindrah', 'Head', 'Agadzhanyan', 'Kajiyama', 'Lopez', 'Asano', 'Barone', 'Bagin', 'Kaczka', 'Haines', 'Gastello', 'Sarraf', 'Djibladze', 'Burton', 'Neznamov', 'Watters', 'Sekine', 'Admoni', 'Tronye', 'Ufimkin', 'Mclaughlin', 'Yakurin', 'Homatsky', 'Boulos', 'Vanifatiev', 'Durrant', 'Pyrin', 'Mohren', 'Drechsler', 'Aonghuis', 'Glebov', 'Pollock', 'Rudaski', 'Awaliani', 'Sarno', 'Bahar', 'Akimov', 'Santana', 'Golotyuk', 'Ghanem', 'Valyanov', 'Baburkin', 'Terry', 'Esteves', 'Segawa', 'Mudrik', 'Dijur', 'Reisser', 'Hale', 'Vickers', 'Babarykin', 'Abelmazoff', 'Mozharovsky', 'Gagen', 'Gess', 'Unterbrink', 'Mozhaikin', 'Varaev', 'Shalhoub', 'Sapienti', 'Ufimtsev', 'Awinoff', 'Jardetsky', 'Nader', 'Villiam', 'Shakhurin', 'Gribachev', 'Kijimuta', 'Fabbri', 'Taltskov', 'Alferiev', 'Ranks', 'Badoev', 'Deryagin', 'Vihirev', 'Eletskih', 'Jang', 'Kabisha', 'Salt', 'Vane', 'Pantelas', 'Niemczyk', 'Heron', 'Tawaraya', 'Sarraf', 'Gaschenkov', 'Grey', 'Srour', 'Inglefield', 'Harybin', 'Snowdon', 'Veltistov', 'Raikevich', 'Ponarovsky', 'Serafin', 'Kirchma', 'Abletsov', 'Vine', 'Edgley', 'Mifsud', 'Vanstein', 'St martin', 'Jagodin', 'Deeb', 'Guirguis', 'Hajjar', 'Dobrolensky', 'Traverse', 'Deshevyh', 'Routledge', 'Banderas', 'Kassab', 'Yanishevsky', 'Ando', 'Vince', 'Mravinsky', 'Enik', 'Funabashi', 'Cham', 'Avzalov', 'Richardson', 'Dan', 'Braden', 'Ryder', 'Shibasaki', 'Bazzi', 'Penders', 'Zhadan', 'Yukhimuk', 'Pomeroy', 'Pavlenko', 'Likhtentul', 'Mojaikin', 'Gillespie', 'Munchaev', 'Slepica', 'Zogby', 'Gallyamov', 'Yudinsky', 'Zenilov', 'Yakubenko', 'Grokhov', 'Pickering', 'Glumov', 'Asghar', 'Lejepekov', 'Shamon', 'Abroskin', 'Molevich', 'Ebner', 'Demetrious', 'Keal', 'Arai', 'Andronchik', 'Val', 'Abdulgaziev', 'Lutkov', 'Burr', 'Bahar', 'Lyvin', 'Djevetsky', 'Morimoto', 'Boulos', 'Golovanov', 'Dufour', 'Jakushin', 'Imshenetsky', 'Pyjov', 'Rainbagin', 'Jackman', 'Haik', 'BeiBienko', 'Tomanov', 'Zhidilev', 'Amadori', 'Batsevich', 'Awad', 'Moy', 'Halilov', 'Krytinar', 'Himonenko', 'Najjar', 'Zhirikov', 'Najjar', 'Tzapenko', 'Legg', 'Tommii', 'Wheatcroft', 'Caivano', 'Saito', 'Steadman', 'Giersig', 'Yachmentsev', 'Gorchilin', 'Vyvodtsev', 'Awseneff', 'Lejava', 'Bazil', 'Leitner', 'Yasutake', 'Vantchagov', 'Armour', 'Srour', 'Ha', 'Bibishev', 'Oneil', 'Monaghan', 'Zhdankov', 'Scheblykin', 'Minh', 'Livadin', 'Kranz', 'Tovstolit', 'Utulov', 'Sakamoto', 'Greenleaf', 'Bavidoff', 'Bellamy', 'Sleiman', 'Hradek', 'Parkes', 'Lapegin', 'Remeslo', 'Shadhan', 'Shirasu', 'Zhigulenkov', 'Kurofuji', 'Dong', 'Dickenson', 'Nakasato', 'Yatsunov', 'Kikui', 'Stanzel', 'Ironman', 'Schubert', 'Levett', 'Parkinson', 'Zhovtun', 'Olds', 'Fawcett', 'Oreilly', 'Leggett', 'Tsidilin', 'Mogilevich', 'Ricci', 'Nitta', 'Danilchenko', 'Yanek', 'Gladshtein', 'Holyuchenko', 'Saunders', 'Linley', 'Powers', 'Jilchikov', 'Ahn', 'Geyer', 'Shimazaki', 'Diarmaid', 'Henriques', 'Mochulsky', 'Vickerman', 'Shamoun', 'Lockwood', 'Frank', 'Gerges', 'Kanaan', 'Golding', 'Nymmik', 'Ungaro', 'Poyasnik', 'Newton', 'Molcanovs', 'Fellows', 'Shakhnazaryants', 'Raikh', 'Toma', 'Chanturia', 'Schepkin', 'Jerebin', 'Gottschalk', 'Boutros', 'Volcik', 'Close', 'Babst', 'Shiokawa', 'Reilly', 'Donnell', 'Araujo', 'Rohatsevich', 'Thomson', 'Tsevlovsky', 'Babakulov', 'Kimiyama', 'Zheleznikov', 'Belousko', 'Gutierrez', 'Widerlechner', 'Amori', \"Pokhmel'Nyh\", 'Balakirev', 'Kerner', 'Zhidkin', 'Fini', 'Grierson', 'Filippishin', 'Bahar', 'Anufriev', 'Meeuwis', 'Harkevich', 'Baiborodov', 'Adams', 'Dik', 'Awdienko', 'Arkins', 'Abuzov', 'Hooper', 'Bennett', 'Adjemyan', 'Kunomasu', 'Imoo', 'Baz', 'Trinder', 'Zhirinovsky', 'Kingston', 'Mihlin', 'Hirayama', 'Porshnev', 'Jidilev', 'Glenn', 'Totah', 'Boutros', 'Tahan', 'Thonon', 'Kabjihov', 'Mikheenkov', 'Awdyunin', 'Markham', 'Dienko', 'Gerges', 'Tumaev', 'Deeb', 'Tubelsky', 'Aylward', 'Babutsky', 'Valdin', 'Guirguis', 'Chevtzoff', 'Bavarin', 'Haik', 'Wehner', 'Porohovschikov', 'Gerasimovich', 'Grokhovsky', 'Kase', 'Huynh', 'Babadzhanoff', 'Pekhtin', 'Mellor', 'Vertyankin', 'Imamutdinov', 'Adzhemoff', 'Hou', 'Marusev', 'Volsky', 'Huan', 'Lezhebokov', 'Snyder', 'Tsaplinsky', 'Brookes', 'Fitzpatrick', 'Barabash', 'Finenko', 'Nao', 'Dovjenko', 'Berg', 'Travert', 'Wolstencroft', 'Agapeev', 'Asfour', 'Tahan', 'Pokhis', 'Kawagichi', 'Torisei', 'Errity', 'Bakov', 'Ashworth', 'Hlynov', 'Guzenko', 'Bazanov', 'Stoppard', 'Zhuravlev', 'Ransom', 'Drummond', 'Johnstone', 'Yatsun', 'Loong', 'Eruhimovich', 'Gagonin', 'Zasukha', 'Pavin', 'Zhestkov', 'Dietrich', 'Aust', 'Segers', 'Kalikhanov', 'Sai', 'Mcnulty', 'Vajnichy', 'Homich', 'Lichnov', 'Budny', 'Bakunovets', 'Timmins', 'Dagher', 'Bekman', 'Crown', 'Mokhosoev', 'Rana', 'Belyavin', 'Daugherty', 'Zogby', 'Chertkov', 'Goloveshkin', 'Michel', 'Leoni', 'Peacock', 'Rakhmanin', 'Keywood', 'Platt', 'Lykasov', 'Alymov', 'Vingilevsky', 'Bekleshov', 'Mombelli', 'Mingo', 'Schepiorko', 'Kumiega', 'Salib', 'Aoki', 'Kachaev', 'Zholobov', 'Benivieni', 'Katsuba', 'Maksyuta', 'Guang', 'Chadwick', 'Jukhotsky', 'Salib', 'Emerson', 'Mansour', 'Arbuzov', 'Grushi', 'Lincoln', 'Kerrell', 'Hajjar', 'Velli', 'Mikhail', 'Moshninov', 'Dovzhenko', 'Zinger', 'Augustoff', 'Turkin', 'Likhovtsev', 'Hanbikov', 'Hapachev', 'Remizov', 'Lang', 'Sailotov', 'Gluharev', 'Jatskovsky', 'Tikhankin', 'Anzai', 'Lohrenz', 'Balazovsky', 'Stockley', 'Paternoster', 'Jatzevich', 'Bloggs', 'Okui', 'Nowak', 'Tahan', 'Baidyuk', 'Dioli', 'Chuvashov', 'Bobienski', 'Woodhams', 'Tamanin', 'Vavra', 'Galevko', 'Ohmiya', 'Malec', 'Dikson', 'Groos', 'Kabalevsky', 'Sleiman', 'Getmanenko', 'Jadkevich', 'Rietveld', 'Vertegel', 'Wasem', 'Yagofarov', 'Houlis', 'Lezhepekov', 'Pietri', 'Kaloxylos', 'Durkin', 'Polites', 'Dovgopoly', 'Rahal', 'Hyata', 'Berry', 'Shimohira', 'Shelyag', 'Giblin', 'Vikhorev', 'Akita', 'Kalitvin', 'Samuel', 'Shannon', 'Khoury', 'Goto', 'Handal', 'Natapov', 'Jerihin', 'Rihman', 'Kenneford', 'Jeryapin', 'Tzakhilov', 'Gell', 'Abels', 'Egorenko', 'Gujov', 'Muklevich', 'Dannenberg', 'Mihailin', 'Neal', 'Bachaev', 'Virichev', 'Aizawa', 'Sarkis', 'Adilov', 'Kilnan', 'Ferdinand', 'Paiser', 'Downer', 'Maroun', 'Bayer', 'Said', 'Carmichael', 'Brook', 'Bakihanoff', 'Zasluev', 'Jarratt', 'Brzezicki', 'Tsaregradsky', 'Minatoya', 'Judahin', 'Autenburg', 'Isachenkov', 'Alsop', 'Iseki', 'Srour', 'Armando', 'Jilis', 'Rodger', 'Amin', 'Liventsev', 'Bakanchuk', 'Tseitlin', 'Loskutov', 'Olan', 'Samson', 'Japparov', 'Norgate', 'Chikun', 'Dovgello', 'Eliashberg', 'Slusarski', 'Martinez', 'Troon', 'Rahal', 'Hudoinatov', 'Beinenson', 'Klimes', 'Von wegberg', 'Aziz', 'Vanzha', 'George', 'Vesner', 'Dzhunkovsky', 'Dobreitser', 'Gaber', 'Holyavin', 'Parodi', 'Holodilin', 'Anderton', 'Makhin', 'Storer', 'Agapitov', 'Bakhanoff', 'Moreinis', 'Zhurakovsky', 'Zasuha', 'Dzhamaldinov', 'Bakis', 'Eyles', 'Marchenkov', 'Kirkman', 'Salomon', 'Klerx', 'Martyushin', 'Fuchs', 'Mcdonald', 'Pyankovsky', 'Tomes', 'Levitan', 'Tovstukha', 'Judin', 'Patel', 'Virvitsiotti', 'Viteri', 'Novotny', 'Ghanem', 'Jakubovsky', 'Burt', 'Jorjev', 'Porohnya', 'Zasukhin', 'Bahchivandzhi', 'Puerta', 'Kosmatka', 'Parris', 'Ecclestone', 'Kaldin', 'Andronikov', 'Hudecek', 'Anselmetti', 'Sayegh', 'Oberst', 'Turlov', 'Artyuhov', 'Schuttmann', 'Brambilla', 'Pakharkov', 'Daher', 'Valtchikovski', 'Dale', 'Swift', 'Dodolev', 'Jerbin', 'Nieves', 'Kalamkaryan', 'Uberti', 'Volk', 'Judkin', 'Peng', 'Sadler', 'Gerges', 'Rowley', 'Paine', 'Baranetsky', 'Laar', 'Chugaev', 'Evangelista', 'Furlan', 'Winogrodzki', 'Laar', 'Nakhamkin', 'Korycan', 'Winther', 'Dagher', 'Kram', 'Pinner', 'Baz', 'Jernosek', 'Yagupa', 'Martynyuk', 'Utugunov', 'Deniel', 'Drojjin', 'Zhenovach', 'Filipowski', 'Aswad', 'Schnoor', 'Yamaguchi', 'Yanaslov', 'Bagryantsev', 'Lohanin', 'Havanov', 'Carey', 'Le', 'Mahoney', 'Matasoff', 'Tokmachev', 'Maryushkin', 'Shadid', 'Leiviman', 'Juarez', 'Shields', 'Lepikhov', 'Baistryutchenko', 'Djanaev', 'Iskyul', 'Voronichev', 'Ebina', 'Vedensky', 'Sleiman', 'Soukup', 'Touma', 'Rahalsky', 'Hunt', 'Abello', 'Jemchugov', 'Antar', 'Hismatullin', 'Aylett', 'Lotkov', 'Dovgyallo', 'Tsushima', 'Jakovichenko', 'Shadid', \"O'Driscoll\", 'Patton', 'Bazzi', 'Averbuh', 'Hopes', 'Vyslouh', 'Mcguire', 'Moody', 'Copley', 'Cham', 'Affini', 'Tikhonitsky', 'Imbulgin', 'Vaganoff', 'Chepraga', 'Osmond', 'Zozrov', 'Ruzzier', 'Bamford', 'Mikhnevich', 'Tokarenko', 'Gaskoin', 'Agnusdei', 'Zhurbin', 'Schultze', 'Eikhmans', 'Koliha', 'Matsievsky', 'Eihenbaum', 'Tosetti', 'Pavoni', 'Hazanov', 'Prigarin', 'Leikam', 'Babashoff', 'Ferrari', 'Garber', 'Close', 'Mcgregor', 'Demetkin', 'Lyes', 'Jivaev', 'Zhmulev', 'Onoe', 'Mikhoels', 'Steere', 'Damiani', 'Demirhanov', 'Togulev', 'Chuguev', 'Touma', 'Courtemanche', 'Gatovsky', 'Haddad', 'Vesnik', 'Moshenkov', 'Fakhoury', 'Impey', 'Keyte', 'Vihrov', 'Gentile', 'Limansky', 'Vaskin', 'Kalinchenko', 'Remishevsky', 'Tremblay', 'Darchinyants', 'Hantsev', 'De angelis', 'Golomovzy', 'Timkov', 'Kattan', 'Esenkov', 'Bakhtizin', 'Minkovich', 'Bakshtanovsky', 'Hausler', 'Mccormick', 'Jenks', 'Fuchida', 'Notoriano', 'Jeltukhin', 'Hollis', 'Daher', 'Costa', 'Nuikin', 'Nunuev', 'Yasui', 'Khalifa', 'Kirkbright', 'Pearce', 'Katsu', 'Zimin', 'Molcan', 'Shahbanov', 'Luferov', 'Bazhutkin', 'Oelberg', 'Kamon', 'Di caprio', 'Ligin', 'Brady', 'Shamoun', 'Zherdev', 'Spyridis', 'Firmin', 'Crabb', 'Ganim', 'Belosvet', 'Mordinov', 'Eroshov', 'Warren', 'Urogataya', 'Jakuschenko', 'Xiao', 'Abdrahmanoff', 'Langston', 'Mortimer', 'Vylkov', 'Dagher', 'Zhirdetsky', 'Jelyabov', 'Adjemov', 'Bag', 'Zogby', 'Babkin', 'Egorenkov', 'Webb', 'Leandres', 'Awad', 'Bentley', 'Balavensky', 'Dick', 'Zhelobinsky', 'Bagalei', 'Favager', 'Andryuhin', 'Jamsuev', 'Kalitkin', 'Djahbarov', 'Lytkin', 'Zhilyuk', 'Bakhrushin', 'Babchenko', 'Acquarone', 'Bambach', 'Pochevalov', 'Pollard', 'Holuev', \"O'Reilly\", 'Loh', 'Molin', 'Hatakeyama', 'Musalnikov', 'Obuchi', 'Murphy', 'Greenall', 'Quinnell', 'Talyantsev', 'Napoliello', 'Guo', 'Hurtov', 'Fakhoury', 'Mollo', 'Atkinson', 'Kalb', 'Quan', 'Grigolyuk', 'Zavatsky', 'Horuzhev', 'Tono', 'Shain', 'Pozzi', 'Kromberg', 'Dakhin', 'Tsvylev', 'Martinson', 'TsannKaySi', 'Dou', 'Tuma', 'Abjalilov', 'Kabalkin', 'Sanchez', 'Carver', 'Herron', 'Hofwegen', 'Gifford', 'Fulker', 'Dagher', 'Zhivlyuk', 'Hart', 'Teshima', 'Komo', 'Tselobenok', 'Linton', 'Grigoriadi', 'Page', 'Shelton', 'Abrameitsev', 'Yukhanaev', 'Rahal', 'Tihonin', 'Chertorinsky', 'Packer', 'Oppenheimer', 'Sugai', 'Bach', 'Ishibashi', 'Neuman', 'Mackay', 'Bohac', 'Adamiants', 'Adelkhanyan', 'Warszawski', 'Berger', 'Badanoff', 'Pazy', 'Adibekov', 'Martin', 'Whiteford', 'Allcott', 'Yaganov', 'Riva', 'Ba', 'Buhr', 'Adelkhanoff', 'Agamirov', 'Moghadam', 'Shenagin', 'Danilyuk', 'Kell', 'Jakubik', 'Walkenhorst', 'Horoshilov', 'Macdermott', 'Vepryushkin', 'Umari', 'Sgro', 'Lizander', 'Marchukov', 'Jakutin', 'Hitrun', 'Vedrinsky', 'Granitov', 'Traversa', 'Quach', 'Cassano', 'Cremona', 'Tsahilov', 'Pawluk', 'Nassar', 'Wilkie', 'Asker', 'Abbey', 'Abdurahmanov', 'Umehara', 'Holin', 'Aswad', 'Nasonov', 'Cearbhall', 'Maeno', 'Larue', 'Ens', 'Raifikesht', 'Ichimonji', 'Dudurich', 'Usynin', 'Belikovich', 'Mikhailutsa', 'Melo', 'Vyjletsov', 'Train', 'Bishara', 'Rehman', 'Alberici', 'Hatoyama', 'Hanania', 'Delamarre', 'Ruzaev', 'Pope', 'Jakon', 'Moreton', 'Jeffs', 'Avdeenko', 'Chikulaev', 'Oborotov', 'Bitar', 'Blumstein', 'Boutros', 'Chukhnin', 'Tsvetnov', 'Daryalov', 'Mahlai', 'Batura', 'Shamoon', 'Lapidus', 'Haidakin', 'Higashikuni', 'Yoshifumi', 'Mihno', 'Agababyan', 'Yeatman', 'Kennedy', 'Tsagolov', 'Biragov', 'Pavelko', 'Jagoda', 'Kabytov', 'Velikorechanin', 'Chukhraev', 'Piruev', 'Taloverov', 'Djavahishvili', 'Govender', 'Arbudu', 'Zhevanov', 'Gributsky', 'Makhankov', 'Dzhanumov', 'Valov', 'Aldebrandi', 'Ponurovsky', 'Uzhvy', 'Agthoven', 'Bartonova', 'Basyuk', 'Exton', 'Bosko', 'Likhtenshtedt', 'Telis', 'Said', 'Fukumitsu', 'Agteren', 'Agadjanyan', 'Nahas', 'Zharikhin', 'Fotiev', 'Bachmanov', 'Pasternak', 'Edgerton', 'Lyzhenkov', 'Tugarinov', 'Walter', 'Belimov', 'Marchegiano', 'Jirkevich', 'Templeton', 'Homeriki', 'Gluhman', 'Birkenberg', 'Dodin', 'Kuchler', 'Goncharuk', 'Leibovsky', 'Kalashnikov', 'Richard', 'Baz', 'Sinagra', 'Hodoval', 'Yakhin', 'Riagain', 'Kitt', 'Pallett', 'Vaksberg', 'Junda', 'Kilmurry', 'Muro', 'Dyerson', 'Lermontov', 'Graminovsky', 'Sayegh', 'Salib', 'Loat', 'Matziev', 'Sha', 'Naifeh', 'Amari', 'Stuckey', 'Albedinsky', 'Trattles', 'Prince', 'Zha', 'Gorski', 'Dudley', 'Beilshtein', 'Rompaye', 'Evers', 'Robert', 'Plisek', 'Awad', 'Large', 'Derfelden', 'Ponidelko', 'Vazquez', 'Vainson', 'Dzhanashia', 'Nasakin', 'Bajanov', 'Yuzhanov', 'Peaper', 'Filipchenko', 'Howie', 'Mahalov', 'Mahachev', 'Rijnders', 'Ibrahim', 'Bottcher', 'Milner', 'Eizen', 'Luc', 'Omura', 'Yarwood', 'Porkhun', 'Zhizhikin', 'Artyukhin', 'Savchak', 'Eccles', 'Bryson', 'Halin', 'Bahtiyarov', 'Feetham', 'Ocasek', 'Avkhadiev', 'Boehler', 'Habarovsky', 'Tzebrikov', 'Abarca', 'Batchaev', 'Hitarov', 'Bazzi', 'Livnev', 'Ilyasov', 'Rujentsov', 'Dumont', 'Toloni', 'Nartey', 'Voronin', 'Dzhabrailov', 'Nepi', 'Awerbukh', 'Adanet', 'Ichiro', 'Cham', 'Kalaganov', 'Gudvan', 'Ruzankin', 'Yeomans', 'Morozovsky', 'Beaulieu', 'Samuels', 'Lezhankin', 'Haslam', 'Levitov', 'Mstislavets', 'Daalen', 'Reuter', 'Agarkoff', 'Bishara', \"O'Mahoney\", 'Oakton', 'Vikharev', 'Bill', 'Turner', 'Pinkney', 'Modyaev', 'Power', 'Boutros', 'Kaddour', 'Bumgarner', 'Koury', 'Bakhurin', 'Chukharev', 'Rich', 'Ferns', 'Kim', 'Teufel', 'Adam', 'Hew', 'Babukh', 'Cleaver', 'Onoda', 'Soga', 'Parker', 'Cherukhin', 'Almasi', 'Minabuchi', 'Rahil', 'Baidachny', 'Xylander', 'Klineberg', 'Goloha', 'Lishin', 'Chromy', 'Crespo', 'Castellano', 'Timonkin', 'Bakushinsky', 'Baumann', 'Hoang', 'Gerstle', 'Banner', 'Oatway', 'Haradze', 'Widdowson', 'Duryagin', 'Jukovsky', 'Prachar', 'Everill', 'Abdulkadyrov', 'Almasi', 'Tyler', 'Hanykov', 'Kanaan', 'Salib', 'Temple', 'Odell', 'Jankilevsky', 'Beaumont', 'Seredov', 'Paragulgov', 'Kanaan', 'Hudilainen', 'Yomkins', 'Portyanko', 'Abaroa', 'Rosser', 'Balboni', 'Jagoda', 'Prinsen', 'Dubhshlaine', 'Mravin', 'Tsalyhin', 'Akera', 'Belikovetsky', 'Zhalybin', 'Nazari', 'Mahutov', 'Kiddle', 'Mikhail', 'Seif', 'Bektemirov', 'Teague', 'Hendry', 'Auerbakh', 'Lohan', 'Vintov', 'Juzgin', 'Crawford', 'Nanni', 'Kalbfleisch', 'Sneddon', 'Abatsiev', 'Poingdestre', 'Safar', 'Chizhik', 'Ayling', 'Kalachihin', 'Mikhalkovsky', 'Bata', 'Merlo', 'Rameckers', 'Jalnin', 'Thirlway', 'Shimizu', 'Mustafa', 'Mrevlishvili', 'Artobolevsky', 'Philip', 'Said', 'Forbes', 'Cham', 'Mackie', 'Wasem', 'Davis', 'Lysenkov', 'Jatkov', 'Shamov', 'Russel', 'Bairashevski', 'Tchaldymov', 'Nasato', 'Ieyasu', 'Nogi', 'Tunev', 'Modzalevsky', 'Roosevelt', 'Pelling', 'Mcdermott', 'Alldridge', 'Ustyantsev', 'Zinkovsky', 'Mahotin', 'Durnovtsev', 'Jiro', 'Bahtadze', 'White', 'Hizriev', 'Nursubin', 'Steen', 'Gledhill', 'Hajicek', 'Petit', 'Topp', 'Pyrkov', 'Martzenko', 'Ryzhev', 'Hishikawa', 'Labbe', 'Bitar', 'Moshkarnev', 'Behtold', 'Avgustov', 'Havinson', 'Kassis', 'Di antonio', 'Kachan', 'Klerken', 'Doherty', 'Fava', 'Moghadam', 'Cui', 'Baidjanov', 'Abbatelli', 'Remin', 'Gonzales', 'Hike', 'Dikovsky', 'Bajev', 'Matsuzawa', 'Gagliardi', 'Khalid', 'Yandarbiev', 'Althoff', 'Poshutilin', 'Adrichem', 'Zhang', 'Khalil', 'Zanetti', 'Elson', 'Gwerder', 'Hramtsov', 'Chabanov', 'Vasyuchkov', 'Sarkis', 'Ryan', 'Knighton', 'Chong', 'Timerbulatov', 'Jikov', 'Zheromsky', 'Von grimmelshausen', 'Batchurin', 'Elliot', 'Yakuta', 'Neeson', 'Lichman', 'Kouri', 'Kartvelin', 'Brotz', 'Totah', 'Yan', 'Awtchenko', 'Hlopotnya', 'Zhezhera', 'Bautin', 'Said', 'Tikhomirnov', 'Vedenkov', 'Bingham', 'Bakadorov', 'Favreau', 'Daher', 'Avkhimovitch', 'Black', 'Kehoe', 'Finferovy', 'Augustov', 'Yakhaev', 'Jenkin', 'Zhivilo', 'Vilchek', 'Vadovski', 'Akrivopoulos', 'Luce', 'Avdonin', 'Shahmatov', 'Vogts', 'Kosmas', 'Gagut', 'Maalouf', 'Benjamin', 'Davie', 'Nelson', 'Wasem', 'Tomaev', 'Moralez', 'Chanyshev', 'Tovey', 'Lichko', 'Mahov', 'Etxeberria', 'Swan', 'Emelyantsev', 'Harlanov', 'Zherebyatiev', 'Longhurst', 'Abba', 'Marunin', 'BestuzhevLada', 'Provenza', 'Zhigmytov', 'De la cruz', 'Gibson', 'Bosco', 'Whalen', 'Juchkov', 'Borde', 'Hampton', 'Rahal', 'Gulkevich', 'Shamoon', 'Quraishi', 'Mifsud', 'Ferrara', 'Kassis', 'Tuganaev', 'Loza', 'Norman', 'Demin', 'Sakson', 'Jablovsky', 'Wormald', 'Michel', 'Gudov', 'Balabko', 'Tzarev', 'Handal', 'Foley', 'Messmann', 'Menendez', 'Ocallaghan', 'Lutoshkin', 'Merta', 'Jivotovsky', 'Zhernakov', 'Talapa', 'Marek', 'Sherwood', 'Rahal', 'Paquet', 'Cong', 'Nagase', 'Leggieri', 'Khouri', 'Dunst', 'Morcos', 'Hakimi', 'Overchuk', 'Polivka', 'Zavala', 'Shenfeld', 'Duggan', 'Lenz', 'Kinniburgh', 'Lepihin', 'Gou', 'Upsdell', 'Nieri', 'Avtsin', 'Mogilny', 'Hamilton', 'Abeln', 'Evranov', 'Grozhantsev', 'Shakhno', 'Plisov', 'Wheeler', 'Zinchuk', 'Kava', 'Daher', 'Zhuravlenko', 'Sayegh', 'Jigalov', 'Chaim', 'Babinov', 'Garofalis', 'Vigo', 'Shadid', 'Mclean', 'Yudkovich', 'Renwick', 'Researcher', 'Limar', 'Cheptygmashev', 'Sun', 'Bosque', 'Olbrich', 'Sabbag', 'Kalachinsky', 'Gatiev', 'Makhno', 'Versan', 'Saga', 'Onusaitis', 'Ying', 'Glossop', 'Wondracek', 'Skinner', 'Aconi', 'Ilsley', 'Halabi', 'Feng', 'Holding', 'Hlopetsky', 'Porokhnya', 'Abboud', 'Tikal', 'Gulchenko', 'Mullen', 'Herbert', 'Pellar', 'Lebeshev', 'Seo', 'Rizzo', 'First', 'Maruk', 'Arian', 'Lysenko', 'Hole', 'Biryulin', 'Linden', 'Jarnikov', 'Masanobu', 'Borowski', 'Turyanov', 'Hloponin', 'Yakubovsky', 'Davies', 'Seredinin', 'Connelly', 'Cabello', 'Girdwood', 'Holodkov', 'Chuvatkin', 'Gorbenko', 'Shamoun', 'Takudo', 'Jagger', 'Zhushman', 'Tritten', 'Kuroda', 'Ciardha', 'Mahno', 'Yadov', 'Parnaby', 'Jiritsky', 'Hirano', 'Oomen', 'Paholkov', 'Khouri', 'Kouba', 'Kalabekov', 'Porosyuk', 'Girling', 'Sheng', 'Schoonenburg', 'Aggelen', 'Asfour', 'Lolos', 'Artenov', 'Ruzimatov', 'Vainberg', 'West', 'Jarkikh', 'Prigojy', 'Kruessel', 'Abalmasov', 'Bagroff', 'Omelyansky', 'Nurkaev', 'Ellery', 'Zihanov', 'Koury', 'Goloshov', 'Yagubov', 'Stuber', 'Khouri', 'Tolboev', 'Abdullaev', 'Wileman', 'Timashov', 'Belostotsky', 'Lokhin', 'Mitsui', 'Muksunov', 'Soler', \"D'cruze\", 'Kakinomoto', 'Watson', 'Antoschenko', 'Zhiganov', 'Fernandez', 'Guadarrama', 'Glavatsky', 'Divnich', 'Jamschikov', 'Komatsuzaki', 'Phillips', 'Djumaniyazov', 'Issa', 'Avdiev', 'Gachinsky', 'Maalouf', 'Anwar', 'Sayegh', 'Lin', 'Keetley', 'Gil', 'Zajicek', 'Zholovan', 'Napier', 'Gavin', 'Favorsky', 'Minyushev', 'Sitz', 'Yasujiro', 'Salib', 'Bakhchivandji', 'Shamon', 'Grushevsky', 'Holodovsky', 'Researcher', 'Hakmaza', 'Tuma', 'Lupan', 'Zhloba', 'Galstyan', 'Tsakunov', 'Rotshild', 'Nilsen', 'Bakshtein', 'Darr', 'Oberto', 'Kunkel', 'Schwenke', 'Jordan', 'Shahnovich', 'Ablov', 'Kalb', 'Averbakh', 'Engver', 'Campo', 'Di stefano', 'Morenets', 'Kassis', 'Elanchik', 'Duval', 'Shaldenkov', 'Metzger', 'Rush', 'Juravliov', 'Bonhomme', 'Rollinson', 'Salomon', 'Agalakoff', 'Victor', 'Clarke', 'Chizhevsky', 'Ponomarenko', 'Traynor', 'Yakunchikov', 'Nicolai', 'Blazek', 'Maughan', 'Zharmuhamedov', 'Postemsky', 'Handrilov', 'Andrusiv', 'Basurto', 'Burnett', 'Tse', 'Newham', 'Colman', 'Fabbro', 'Ishimaru', 'Villiger', 'Leyshon', 'Mcphee', 'Tzarakov', 'Alshevsky', 'Shaw', 'Paradjanov', 'Judinsky', 'Unkle', 'Astratov', 'Eastell', 'Kinsey', 'Avalyan', 'Mann', 'Traver', 'Ackroyd', 'Kitson', 'Filipek', 'Zhidkov', 'Hij', 'Cham', 'Bastrygin', 'Prokoshkin', 'Hatayama', 'Naifeh', 'Nader', 'Speziale', 'Renkevich', 'Grigorenko', 'Cain', 'Talalikhin', 'Zholtovsky', 'Shimakage', 'Artemev', 'Romagna', 'Abubekerov', 'Onyky', 'Golosovker', 'Zhigalov', 'Dobrotin', 'Jakovets', 'Dehmel', 'Adsit', 'Lysak', 'Mikhno', 'Birk', 'Lichkov', 'Sleiman', 'Chuhnov', 'Amersvoort', 'Durnopeiko', 'David', 'Shalnikov', 'Bitar', 'Araki', 'Ali', 'Gresham', 'Ludkin', 'Linville', 'Kasamatsu', 'Baidjanoff', 'Leccese', 'Oinuma', 'Belogrud', 'Driver', 'Bezrukih', 'Zhitinev', 'Weisener', 'Kartavenko', 'Geissler', 'Bai', 'Levitansky', 'Zhao', 'Haddad', 'Mukov', 'Number', 'Glebovitsky', 'Falk', 'Zhgutov', 'Tchajegov', 'Antonowitsch', 'Vlasenkov', 'Norville', 'Schirovsky', 'Leys', 'Duncan', 'Molodkin', 'Pyrikov', 'Amaya', 'Needham', 'Mcloughlin', 'Wan', 'Chekhovsky', 'Morrow', 'Achterberg', 'Jitenev', 'Asai', 'Asahi', 'Hor', 'Brooker', 'Avkhimovich', 'Brisbois', 'Proulx', 'Baikoff', 'Chuharev', 'Makhotin', 'Wasem', 'Vaskovsky', 'Avinovitski', 'Adamski', 'Sponer', 'Lynsmeier', 'Schepetkov', 'Kringos', 'Roganov', 'Treseder', 'Getsov', 'Nakhushev', 'Houttum', 'Senyagin', 'Wales', 'Cham', 'Mccarthy', 'Fitzsimmons', 'Katsourinis', 'Goretti', 'Mansour', 'Raikhman', 'Winder', 'Laurito', 'Raval', 'Muzhzhavlev', 'Shearer', 'Pirushkin', 'Maruschenko', 'Tokombaev', 'Perez', 'Jagunov', 'Johannson', 'Okumura', 'Gaber', 'Judenkov', 'Handruev', 'Norris', 'Peary', 'Jejera', 'Ingermann', 'Tuma', 'Timkachev', \"O'Hara\", 'Ranger', 'Laps', 'Whittle', 'Tcharoshnikov', 'Antony', 'Ruba', 'Maroun', 'Godden', 'Francis', 'Smullen', 'Kawaguchi', 'Pokhilevich', 'Gaber', 'Dupond', 'Janovsky', 'Greenway', 'Cuan', 'Habich', 'Yudasin', 'Huggins', 'Vanstone', 'Jarkov', 'Baburin', 'Watanabe', 'Coulter', 'Pawlitzki', 'Vasyutynsky', 'Likhtin', 'Laberenz', 'Farnum', 'Pear', 'Sleiman', 'Chuhray', 'Jernakov', 'Fedotov', 'Meadows', 'Lang', 'Berezutzky', 'Nowell', 'Borchard', 'Abramovsky', 'Schoorel', 'Kouretas', 'Zolotar', 'Lihtin', 'Merlo', \"O'Boyle\", 'Flanagan', 'Saikin', 'Schulthei', 'Vallander', 'Yuhanaev', 'Daher', \"Awak'Yan\", 'Berezitsky', 'Hawlata', 'Kawamura', 'Bakin', 'Visnap', 'Wei', 'Zhorin', 'Straub', 'Sumner', 'Livansky', 'Nurdinov', 'Salvai', 'Regan', 'Avdyushin', 'Bleier', 'Nenci', 'Addams', 'Frumin', 'Weller', 'Pesek', 'Rodagh', 'Thornhill', 'Adam', 'Vadbolsky', 'Goulding', 'Bishara', 'Antyufeev', 'Halabi', 'Martos', 'Dzhahbarov', 'Fakhoury', 'Toma', 'Magee', 'Grametsky', 'Rutshtein', 'Yageman', 'Kachemaev', 'Martin', 'Meier', 'Mukin', 'Guzairov', 'Zhendarov', 'Kallik', 'Bajenoff', 'Vanyat', 'Avtuhov', 'Moghadam', 'Avakoff', 'Baulin', 'Bakhtov', 'Awad', 'Gorbushin', 'Chuta', 'Baklykoff', 'Kalambetov', 'Portnyakov', 'Teumin', 'Abidoff', 'Ekiguchi', 'Osborn', 'Awilkin', 'Koch', 'Silva', 'Jigailov', 'Shirin', 'Khoury', 'Rowland', 'Dovlatyan', 'Chew', 'Kouri', 'Avtokratov', 'Omoloev', 'Serafin', 'Hong', 'Haslavsky', 'Keay', 'Vasyukov', 'Yushenkov', 'Croft', 'Minskoi', 'Jachmenkov', 'Watling', 'Dikushin', 'Wilks', 'Tsukamoto', 'Averbuch', 'Mintz', 'Almondinov', 'Kajiwara', 'Pisani', 'Martsinkovsky', 'Newland', 'Rivman', 'Bazzi', 'Agaponoff', 'Andruhov', 'Althaus', 'Sastre', 'Rahal', 'Ichigawa', 'Dobrohotov', 'Marychev', 'Abdrahimov', 'Abraroff', 'Vitali', 'Veprev', 'Cutts', 'Carideo', 'Wolter', 'Haga', 'Otten', 'Dobryshin', 'Olenew', 'Abelmazov', 'Alesini', 'Chikanatsu', 'Nassar', 'Ferro', 'Botros', 'Samios', 'Grunewald', 'Hetherington', 'Allam', 'Halymbadja', 'Kearsley', 'Wray', 'Kerwer', 'Forde', 'Avdiyants', 'Arian', 'Malouf', 'Fujikage', 'Kofron', 'Model', 'Pho', 'Vaisman', 'Cann', 'Sklavenitis', 'Jowett', 'Iwasaki', 'Finn', 'Hayata', 'Chehanov', 'Vistchinsky', 'Eroshin', 'Lovell', 'Heywood', 'Baarle', 'Bakhmatov', 'Baka', 'Yukhma', 'Steinmann', 'Horoshavin', 'Ayugai', 'Abugov', 'Yamahata', 'Abreu', 'Langdon', 'Muzychenko', 'Awad', 'Fournier', 'Zhemchujnikov', 'Belokhin', 'Totah', 'Halliwell', 'Shamkov', 'Hamraev', 'Foran', 'Hayutin', 'Potts', 'Malouf', 'Nelms', 'Ventura', 'Vann', 'Vagnoryus', 'Mifsud', 'St pierre', 'Fan', 'Shunsen', 'Lysikhin', 'Grosu', 'Keable', 'Pett', 'Dzhezhela', 'Kattan', 'Earley', 'Agrba', 'Kassis', 'Dopita', 'Balahowsky', 'Sellars', 'Denton', 'Bonfils', 'Dobrushkin', 'Glussky', 'Obinata', 'Lao', 'Abbate', 'Babenchikoff', 'Haik', 'Robert', 'De palma', 'Antufiev', 'Nader', 'Tafani', 'Oxenham', 'Sleiman', 'Crew', 'Hancock', 'Fabrikant', 'Tkachuk', 'Ritchie', 'Feld', 'Homichenko', 'Fung', 'Yuan', 'Greig', 'Taylor', 'Vilkovsky', 'Antoun', 'Agranowsky', 'Jenkyns', 'Avrov', 'Baron', 'Espino', 'Zogby', 'Meinhardt', 'Fenstermacher', 'Rakhmatulin', 'Meisner', 'Behmetiev', 'Nezvigin', 'Grosshopf', 'Stannard', 'Callow', 'Yakunov', 'Lysykh', 'Malouf', 'Shuttleworth', 'Groel', 'Penev', 'Baigozin', 'Schuster', \"O'Byrne\", 'Marquering', 'Charles', 'Topliss', 'Juhimuk', 'Herschel', 'Jarman', 'Vantenkov', 'Avetyan', \"O'Kelly\", 'Takimoto', 'Ableukhoff', 'Rickard', 'Chertoritsky', 'Lichkanovsky', 'Bakhmutski', 'Romero', 'Bereznikov', 'Makushok', 'Lofthouse', 'Tumin', 'Black', 'Rahal', 'Katzari', 'Maruya', 'Kang', 'Zimenkov', 'Vintergalter', 'Unsworth', 'Jalchevsky', 'Jakubov', 'Sakagami', 'Yahaev', 'Antoun', 'Jourdan', 'Porohin', 'Gulyansky', 'Cai', 'Roffey', 'Jerebtsov', 'Kenkyusha', 'Natsume', 'Mcdonnell', 'Yamaoka', 'Mokretsov', 'Bim', 'Sayegh', 'Ybarra', 'Baichikoff', 'Gorchinsky', 'Lando', 'Egipko', 'Ooka', 'Nurov', 'Shenterev', 'Dankov', 'Eggert', 'Hafizov', 'Topham', 'Talygin', 'Kysel', 'Fairbrother', 'Miyahara', 'Masih', 'Furlong', 'Rompay', 'Nahas', 'Rosales', 'Gastev', 'Grozdov', 'Russo', 'Deryuzhinsky', 'Trennery', 'Kakutama', 'Brennan', 'Kalb', 'Petersen', 'Baz', 'Handal', 'Dexter', 'Adami', 'Ablesimov', 'Atyasov', 'Enshin', 'Nifterik', 'Schultes', 'Harionovsky', 'Cavanagh', 'Islon', 'Huzin', 'Zhabitsky', 'Auborn', 'Abashidze', 'Ondrikov', 'Elwell', 'Researcher', 'Sharpe', \"V'Yurkov\", 'Vincent', 'Hudonogov', 'Maroun', 'Pinder', 'Vaidanovich', 'Moldovyan', 'Tropinsky', 'Tahan', 'Adamoli', 'Shalhoub', 'Williamson', 'Guzun', 'Agaphonov', 'Hopkinson', 'Muchalon', 'Sakulin', 'Lees', 'Tarr', 'Benvenuti', 'Gerges', 'Kalabin', 'Yasukawa', 'Sebastino', 'Blahut', 'Averkovich', 'Ebdon', 'Handa', 'Tsehansky', 'Ujinov', 'Solo', 'Rahletzky', 'Hewitt', 'Agenosoff', 'Slejtr', 'Gagrin', 'Eletsky', 'Veselovsky', 'Niu', 'Ganem', 'Atiyeh', 'Bitar', 'Okazawaya', 'Ryu', 'Trott', 'Awerintsev', 'Bakhmetev', 'Elanin', 'Yakovchenko', 'Awetyan', 'Samaha', 'Boyle', 'Brune', 'Adadurov', 'Homulka', 'Erizawa', 'Katzovsky', 'Babenchikov', 'Morandi', 'Chance', 'Bachinski', 'Djumagaliev', 'Guan', 'Raghailligh', 'Stangl', 'Sarraf', 'Ward', 'Maroun', 'Vasyanovich', 'Eagle', 'Jiang', 'Zak', 'Ots', 'Street', 'Burn', 'Hohki', 'Gomez', 'Paul', 'Lihomanov', 'Dobrajansky', 'Avdeev', 'Bata', 'Blazejovsky', 'Peerenboom', 'Shamsudinov', 'Batukov', 'Moghadam', 'Alderson', 'Thurman', 'Abelev', 'Pokhvisnev', 'Fuschida', 'Pechatkin', 'Pond', 'Awerbah', 'Abategiovanni', 'Nord', 'Shum', 'Rehbinder', 'Eastaway', 'Halevinsky', 'Ponomarkov', 'Zherebin', 'Safar', 'Valdez', 'Kobi', 'Matokai', 'Easterbrook', 'Belorossov', 'Dmukhovsky', 'Patril', 'Vorotnikov', 'Chepurnyh', 'Valchikovsky', 'Rompa', 'Oichi', 'Grigorchikov', 'Jarinov', 'Anoskov', 'Haradurov', 'Chijik', 'Aherne', 'Djura', 'Matsiev', 'Ilyakhin', 'Fulton', 'Lester', 'Legge', 'Abudikhin', 'Maroun', 'Charuhin', 'Dogadaev', 'Holtzer', 'Shamon', 'Bahar', 'Veselago', 'Guirguis', 'Abramovitch', 'Mustafa', 'Maryenko', 'Jachikov', 'Uzhinov', 'Lejankin', 'Easdown', 'Philips', \"O'Connell\", 'Adulov', 'Makhotkin', 'Lapikov', 'Meakin', \"Tsel'Ko\", 'Dzhigarhanyan', 'Salzwedel', 'Shaihutdinov', 'Homusko', 'Good', 'Fritsch', 'Upton', 'Agababoff', 'Fencl', 'Sayegh', 'Mushashibo', 'Olley', 'Levitsky', 'Shigeki', 'Royle', 'Curry', 'Pohitonov', 'Avduewski', 'Gibson', 'Marushko', 'Landolfi', 'Tsvelikhovsky', 'Cerny', 'Jefferies', 'Woolley', 'Lishansky', 'Rudd', 'Sayegh', 'Halford', 'Lizogub', 'Shalhoub', 'Lut', 'Taira', 'Abdullin', 'Katzibin', 'Gallagher', 'Mcdonagh', 'Haptakhaev', 'Fabel', 'Kramer', 'Hudyh', 'Neusser', 'Maeda', 'Rossem', 'Ennis', 'Grodko', 'Pyriev', 'Alliott', 'Modzko', 'Gerges', 'Sabbagh', 'Caron', 'Paharev', 'Nader', 'Vainshtein', 'Bradley', 'Maalouf', 'Serejkin', 'Shadid', 'Koza', 'Stilo', 'Mcgrath', 'Reid', 'Abdulbasiroff', 'Pochinkov', 'Hachirobei', 'Dikarevsky', 'Zhunin', 'Chabrov', 'Quyen', 'Vestov', 'Araslanov', 'Matzukevich', 'Androkhanov', 'Peter', 'Muller', \"O'Gorman\", 'Lihodedov', 'Priezjaev', 'Timerhanov', 'Ribopier', 'Yuferev', 'Zubizarreta', 'Baiborodoff', 'Valchitsky', 'Alamilla', 'Stieber', 'Molyavinsky', 'Dubasov', 'Marusin', 'Vysotsky', 'Gordeichik', 'Aulov', 'Kouri', 'Rompu', 'Vuong', 'De santigo', 'Martinez', 'Ruda', 'Garcia', 'Shaevich', 'Fakhoury', 'Kosko', 'Badykshanoff', 'Tohill', 'Waterman', 'Pierce', 'Gallai', 'Abdulbekoff', 'Dioletis', 'Field', 'Petru', 'Vlasievsky', 'Sanchez', 'Avvakumov', 'Oborny', 'Tsenin', 'Perez', 'Badoff', 'Muzhikov', 'Beloglazov', 'Fabrichnov', 'Rukhtoev', 'Toka', 'Anopriev', 'Kenrick', 'Tupikhin', 'Brooke', 'Tsarsky', 'Dovgalevsky', 'Toms', 'Hardy', 'Farrington', 'Shotton', 'Leitzke', 'Shahmin', 'Zheleztsov', 'Parrott', 'Minnikhanov', 'Tsagareli', 'Pechenejsky', 'Griboedov', 'Uzbekov', 'Ryjikh', 'Valyavsky', 'Chuhin', 'Rees', 'Uehara', 'Jakshibaev', 'Foston', 'Otov', 'Tsiolkovsky', 'Olsen', 'Ganem', 'Schirmer', 'Phan', 'Phelps', 'Lefevre', 'Moisinovich', 'Inson', 'Gander', 'Awlukoff', 'Tumasiev', 'Mikhin', 'Mihaleiko', 'Dritsas', 'Finlay', 'Zhenin', 'Hanania', 'Bekhtin', 'Divov', 'Alunni', 'Howard', 'Reks', 'Baginoff', 'Issa', 'Numata', 'Cardona', 'Accorsi', 'Lippi', 'Banks', 'Matzakov', 'Antoun', 'Fabr', 'Lawniczak', 'Rakhamimov', 'Houte', 'Albrecht', 'Koning', 'Vinding', 'Bir', 'Koguchi', 'Sorg', 'Truman', 'Poletti', 'Engelgardt', 'Watt', 'Fergus', 'Drojdin', 'Prikazchikov', 'Dawe', 'Abrikosov', 'Curwood', 'Godo', 'Maita', 'Konstantatos', 'Hlupin', 'Dobryshev', 'Romano', 'Martzenyuk', 'Kalb', 'Horvat', 'Martinelli', 'Salomon', 'Rennalls', 'Sordi', 'Chehov', 'Jitin', 'Beck', 'Pochinkovsky', 'Kamio', 'Schneijders', 'Aggeev', 'Koizumi', 'Pyavchenko', 'Gibbons', 'Okuma', 'Djisev', 'Hitruk', 'Cisternino', 'Cathan', 'Weiner', 'Iskortsev', 'Dopiro', 'Morley', \"Ren'Kas\", 'Barakov', 'Lohtin', 'Elagin', 'Saliba', 'Gibbins', 'Kassab', 'Bakhmetov', 'Agaphonoff', 'Jepson', 'Martyushev', 'Nakazawa', 'Nahas', 'Ramm', 'Wiseman', 'Kaul', 'Demas', 'Kamo', 'Tsehmistrenko', 'Safar', 'Bass', 'Galeev', 'Clarkson', 'Tuikin', 'Jugin', 'Belotelov', 'Nazari', 'Hasaev', 'Onoprienko', 'Marquerink', 'Ott', 'Beilin', 'Ustryalov', 'Nasikan', 'Malouf', 'Matzkevich', 'Daher', 'Makushkin', 'Iskander', 'Dehanov', 'Vikhrev', 'Nizhinsky', 'Can', 'Hagurov', 'Asker', 'Kahaya', 'Leighton', 'Ashida', 'Mihailychev', 'Westwell', 'Abezgauz', 'Egamberdiev', 'Rahmail', 'Gransky', 'Allen', 'Iniguez', 'Zobanov', 'Tzeluiko', 'Hamitov', 'Thackray', 'Tseizik', 'Brelsford', 'Kouri', 'Issa', 'Naifeh', 'Gunn', 'Zhivotinsky', 'Harding', 'Majewski', 'Cipriani', 'Hobbs', 'Maryasov', 'Ruvelas', 'Pender', 'Enukidze', 'Foster', 'Vandale', 'Salib', 'Kentaro', 'Jelezko', 'Rikhter', 'Lapitsky', 'Lamberti', 'Nahas', 'Qureshi', 'Turushev', 'Calogerakis', 'Abbatangelo', 'Fromm', 'Katzebin', 'Tikhonin', 'Daishi', 'Winter', 'Forer', 'Valevsky', 'Rakhmatullin', 'Overall', 'Guirguis', 'Carroll', 'Janacek', 'Houten', 'Maroun', 'Abikh', 'Katsari', 'Demetr', 'Laren', 'Almasi', 'Tsukehara', 'Collett', 'Sitta', 'Yablonsky', 'Waterson', 'Flowers', 'Tourna', 'Zhvykin', 'Adoniev', 'Maes', 'Hudoshin', 'Raitsin', 'Gomulka', 'Masih', 'Zhurov', 'Pavone', 'Paget', 'Croce', 'Ishinomori', 'Veltman', 'Hudojnikov', 'Kaiser', 'Tsanava', \"O'Shea\", 'Ruscoe', 'Thoms', 'Dean', 'Renovants', 'Adohin', 'Dagher', 'Panders', 'Martins', 'Babahanov', 'Boutros', 'Pechatnov', 'Hairetdinov', 'Yagodnikov', 'Marmazov', 'Otradnov', 'Kewley', 'Gerges', 'Denisov', 'Gerges', 'Nekuza', 'Bahtin', 'Espinosa', 'Koruba', 'Jakhontov', 'Mokhorov', 'Jakovuk', 'Nassar', 'Oconnell', 'Halimov', 'Tahan', 'Nazari', 'Vico', 'Jakir', 'Pitt', 'Allison', 'Prior', 'Sedmik', \"O'Hannigain\", 'Laganas', 'Bertolini', 'Nader', 'Schneider', 'Kulhanek', 'Ryjkovsky', 'Macmillan', 'Teunaev', 'Molokanov', 'Gerges', 'Maria', 'Wharton', 'Emeshin', 'Abutaliev', 'Mordvin', 'Okimoto', 'Seif', 'Fay', 'OuYang', 'Vilimaa', 'Yuhtman', 'Penney', 'Zavolokov', 'Derman', 'Tcharushkin', 'Jbanov', 'Airo', 'Turiyansky', 'Matzevich', 'Hajjar', 'Jagodinsky', 'Zhemukhov', 'Galanopoulos', 'Agakov', 'Makhortov', 'Gershkovich', 'Weiman', 'Snider', 'Fakhoury', 'Vihnovich', 'Dogel', 'Valuev', 'Eberhardt', 'Halabi', 'Tulikov', 'Tsebrikov', 'Hamnett', 'Chekhonin', 'Walker', 'Glaz', 'Baier', 'Egger', 'Shammas', 'Babichenko', 'Asker', 'Agnivtsev', 'Oliver', 'Kalenov', 'Gatturov', 'Deulin', 'Ban', 'Schepin', 'From', 'Chau', 'Steube', 'Jonas', 'Acerbi', 'Zhogin', 'Kydd', 'Attia', 'Farrer', 'Liang', 'Pechenkin', 'Kneib', 'Zhiryakov', 'Jing', 'Arscott', 'Renaud', 'Klossner', 'Mikh', 'Horigoshi', 'Ijichi', 'Zogby', 'Eedie', 'Lawther', 'Buren', 'Raikin', 'Beklov', 'Capello', 'Gluzman', 'Vozilov', 'Lim', 'Wildgrube', 'Monfort', 'Khork', 'Abakeliya', 'Podstavka', 'Averkov', 'Parry', 'Satoya', 'Halansky', 'Accosi', 'Saliba', 'Awkhadieff', 'Saker', 'Raskob', 'Gosden', 'Killen', 'Gribnov', 'Homsky', 'Matzyuk', 'Bakihanov', 'Medeiros', 'Pylev', 'Avrorov', 'Antyuhov', 'Chekmasov', 'Desrosiers', 'Oriley', 'Arian', 'Varvitsiotes', 'Jidkov', 'Bitar', 'Dillon', 'Zhurko', 'Naggi', 'Nghiem', 'Mustafa', 'Thao', 'Ogilvie', 'Ryjankov', 'Plant', 'Antar', 'Jigalev', 'Bernard', 'Wakefield', 'Rozinek', 'Rempel', 'Tsapelik', 'Ruzhnikov', 'Hoover', 'Dobropolsky', 'Zhegulin', 'Timerbaev', 'Ford', 'Jachevsky', 'Khoury', 'Valyavski', 'Bagmewsky', 'Vedev', 'Kassab', 'Kuiper', 'Grigorovich', 'Zouvelekis', 'Kabalin', 'Zenischev', 'Sayegh', 'Deakin', 'Maalouf', 'Mo', 'Rusov', 'Vintikov', 'Lathan', 'Basile', 'Zhirkov', 'Vyalko', 'Adler', 'Coffey', 'Murray', 'Havin', 'Yambaev', 'Yanshin', 'Auslender', 'Mcgrady', 'Reynder', 'Dubanowski', 'Nifterick', 'Shammas', 'Zharmukhamedov', 'Kapsimalles', 'Kalitin', 'Rustikov', 'Dreschner', 'Shamanin', 'Antonelli', 'Rivero', 'Matsumura', 'Yapparov', 'Blober', 'Jandutkin', 'Shendalev', 'Awksentiev', 'Oxtoby', 'Rang', 'Snyders', 'Alves', 'Kalishevsky', 'Daher', 'Mozzis', 'Engelgard', 'Doan', 'Rodrigues', 'Zaslavets', 'Liddell', 'Halkin', 'Stabile', 'Sarraf', 'Abramson', 'Abdulhabirov', 'Shakespeare', 'Mckenzie', 'Alypov', 'Tseiner', 'Virenius', 'Thian', 'Abrahimov', 'Glennie', 'Rooijakker', 'Gehfenbaum', 'Schulz', 'Adelgeim', 'Bezrukov', 'Tursunov', 'Backer', 'Kone', 'Kui', 'Lody', 'Dudunov', 'Engelmeier', 'Lupanov', 'Janaki', 'Lindsay', 'Kalb', 'Plastow', 'Kearney', 'Hakimi', 'Flanagan', 'Oxby', 'Chukhmantsev', 'Zavodskoi', 'Zipperer', 'Nield', 'Bakradze', 'Totah', 'Chadrantsev', 'Vaidanovitch', 'Janick', 'Babiy', 'Little', 'Yuasa', 'Jagfarov', 'Shah', 'Reynolds', 'Modylevsky', 'Kachioni', 'Tzelibeev', 'Fortunov', 'Chappell', 'Alberghini', 'Absattaroff', 'Hasainov', 'Jam', 'Tsurimi', 'Khouri', 'Astley', 'Baklykov', 'Dobrotvortsev', 'Zhitinkin', 'Arian', 'Zhelnov', 'Vamvakidis', 'Utley', 'Mihnov', 'Riain', 'Troinitsky', 'Ozawa', 'Lapochkin', 'Atiyeh', 'Dodson', 'Yanishin', 'Adzhubei', 'Eyres', 'Yakimchuk', 'Bilek', 'Saliba', 'Cockle', 'Gudim', 'Cuocco', 'Ferrier', 'Jacques', 'Ishimura', 'Geiszler', 'Galei', 'Man', 'Starek', 'Kenworthy', 'Awad', 'Albertini', 'Awelan', 'Assaf', 'Kemp', 'Inglethorpe', 'Rakhlin', 'Garza', 'Nazarkin', 'Xiang', 'Evrard', 'Yapaskurt', 'Vozgov', 'Baldini', 'Wong', 'Omelyuk', 'Amoretto', 'Fielder', 'Mustafa', 'Valenti', 'Jandarov', 'Belohin', 'Nakhabtsev', 'Rovbel', 'Shirai', 'Diep', 'Grimshaw', 'Elston', 'Kanada', 'Badamshin', 'Eburne', 'Lysy', 'Dojin', 'Mojaiskov', 'Zolkin', 'Likin', 'Jaminsky', 'Coelho', 'Chikamatsu', 'Arian', 'Cham', 'Babadjanov', 'Harmansky', 'Slattery', 'Vakulenchuk', 'Tuttle', 'Kreutschmer', 'Gest', 'Jukovich', 'Darevsky', 'Lerner', 'Porhunov', 'Belishko', 'Artseulov', 'Piccoli', 'Jigailo', 'Iturburua', 'Talankin', 'Luha', 'Shaughnessy', 'Shahmagon', 'Guirguis', 'Time', 'Adamyan', 'Patselas', 'Nielson', 'Jones', 'Kelk', 'Tromonin', 'Zolotavin', 'Sauvageau', 'Slusser', 'Wagner', 'Dzhanaev', 'Johnston', 'Vasyuk', 'Vilonov', 'Buggenum', 'Snijders', 'Srour', 'Pinho', 'Mikhalsky', 'Ganem', 'Awdeichikoff', 'Cathasach', 'Awdiewsky', 'Badyunov', 'Balawensky', 'Rosenbloom', 'Ondrisek', 'Rakhalsky', 'Bakanov', 'Rusyaev', 'Jiznyakov', 'Vansovich', 'Agoev', 'Minnibaev', 'Porkhunov', 'Faltysek', 'Petrova', 'Kabashkin', 'Bosch', 'Losev', 'Mahurov', 'Chikov', 'Vaccaro', 'Marfusalov', 'Rogatsky', 'Kong', 'Stueck', 'Gunter', 'Zeng', 'Gillan', 'Deeb', 'Tilston', 'Turlak', 'Geht', 'Yeoman', 'Thuy', 'Lysyakov', 'Zhokhov', 'Valentinovich', 'Kumasaka', 'Chadovich', 'Makhnev', 'Eroschenko', 'Bing', 'Antar', 'Groizman', 'Botros', 'Abdeev', 'Jalkovsky', 'Draper', 'Schmitz', 'Huan', 'Stringer', 'Tomas', 'Bagrich', 'Zhanimov', 'Agranovich', 'Pecora', 'Glavinsky', 'Zhongolovich', 'Baglanoff', 'Psik', 'Bagishvili', 'Dobretsov', 'Fujishima', 'Natalenko', 'Bahmat', 'Bakhusoff', 'Norburn', 'Torres', 'Ustyugov', 'Klein', 'Bush', 'Nader', \"Dan'Ko\", 'Pismichenko', 'Egishev', 'Moghadam', 'Arena', 'Kopp', 'Vedenisov', 'Vadbolski', 'Ryzhenko', 'Vyjutovich', 'Mordovin', 'Trainor', 'Sinclair', 'Malafa', 'Toshusai', 'Lucas', 'Taggart', 'Shamoon', 'Fifield', 'Dzhirin', 'Djugashvili', 'Stafford', 'Reddy', 'Gerges', 'Parkins', 'Hadad', 'Botros', 'Cavallo', 'Urwin', 'Agadjanov', 'Vyshinsky', 'Hapkov', 'Gilmour', 'Shea', 'Jeffery', 'Daly', 'Kingscott', 'Nesbitt', 'Mumladze', 'Paimuhin', 'Nutrihin', 'Paulissen', 'Hino', 'Killeen', 'Hajkasimov', 'Verba', 'Almasi', 'Roy', 'Aedonitsky', 'Quraishi', 'Jensen', 'Grosul', 'Fakhoury', 'Bakst', 'Eroshenko', 'Bethell', 'Crocetti', 'Beider', 'Pelaez', 'Baigulov', 'Deribin', 'Tselikov', 'Tahan', 'Wrenn', 'Jankilovich', 'Nugent', 'Patskevich', 'Kuno', 'Kachinsky', 'Jokhin', 'Rook', 'Bazowsky', 'Jebit', 'Mulin', 'Shadid', 'Dobriyan', 'Zamorano', 'Baklashoff', 'Vivas', 'Haik', 'Vabbe', 'Ivanov', 'Lihosherstov', 'Hamlov', 'Underdown', 'Uchuvatkin', 'Nishihara', 'Takara', 'Avtamonov', 'Mrelashvili', 'Tzelovalnikov', 'Tayama', 'Vega', 'Bahtov', 'Sayegh', 'Woo', 'Antoshevsky', 'Kapoor', 'Pribylovsky', 'Yarlett', 'Flack', 'Charnolusky', 'Mizuno', 'Lichintser', 'Asghar', 'Matzaev', 'Aquino', 'Hirsch', 'Sokolik', 'Kaima', 'Slaski', 'Macleod', 'Isgate', 'Talagaev', 'Fuse', 'Mifsud', 'Avdakoff', 'Hadad', 'Porfirov', 'Jatzyshin', 'Nahas', 'Arian', 'Zimakov', 'Frolkov', 'Kalb', 'Tsumura', 'Wasem', 'Nakayama', 'Golotik', 'Jashkov', 'Atiyeh', 'Islavin', 'Mochalin', 'Ruhtoev', 'BestuzhevRyumin', 'Prolubnikov', 'Andreyanov', 'Desrochers', 'Schits', 'Bagrak', 'Beal', 'Morales', 'Peers', 'Truhanovsky', 'Yaikbaev', 'Kozu', 'Shamoun', 'Eckstein', 'Akaike', 'Koury', 'Turashev', 'Kohler', 'Kattan', 'Kalikhov', 'Batunov', 'Freedman', 'Nosek', 'Bokhoven', 'Shamon', 'Gorman', 'Yue', 'Dodds', 'Coulson', 'Virehovsky', 'Glatter', 'Abadi', 'Osagawa', 'Augustin', 'Wernher', 'Tomanek', 'Gachegov', 'Gillett', 'Pakhrin', 'Tzarsky', 'Imamaliev', 'Golofaev', 'Novohatsky', 'Avgustoff', 'Shige', 'Vins', 'Takenouchi', 'Dobrusin', 'Jeleznyakov', 'Vielgorsky', 'Bairak', 'Zelenevsky', 'Mihailov', 'Easdale', 'Naysmith', 'Jobst', 'Newill', 'Rozenblum', 'Zhidomirov', 'Veller', 'Abrakhimov', 'Shalov', 'Abramov', 'Egershtrom', 'Dovgalev', 'Guttuso', 'Coilean', 'Zhinov', 'Calligaris', 'Collins', 'Basto', 'Guan', 'Tamber', 'Onilov', 'Holodny', 'Forest', 'Asghar', 'Vantchurov', 'Mcrae', 'Zolotnitsky', 'Demarchis', 'Vyazovoy', 'Pazyun', 'Agureev', 'Pyshin', 'Viharev', 'Button', 'Chepelkin', 'Kowalski', 'Abramenkov', 'Zhernevsky', 'Danyukov', 'Cartwright', 'Esser', 'Yamamoto', 'Bayliss', 'Handal', 'Funaki', 'Waite', 'Brant', 'Matsushina', 'Chekomasov', 'Jeltoukhov', 'Mcgee', 'Abadi', 'Innalls', 'Almuhametov', 'Kalatsky', 'Harb', 'Eihenvald', 'Baz', 'Porcher', 'Zhurkovsky', 'Huber', 'Quraishi', 'Nyuhalov', 'Mikhailitsyn', 'Tsah', 'Patsev', 'Yushnevsky', 'Loi', 'Yanvarev', 'Michaud', 'Yaguzhinsky', 'Seif', 'Bahanov', 'Nurullin', 'Bagler', 'Rembeza', 'Joshuyo', 'Srour', 'Minchev', 'Giordano', 'Zavorohin', 'Getie', 'Elmhirst', 'Minushkin', 'Tumanov', 'Arian', 'Tsutaya', 'Orlando', 'Pittaluga', 'Ikoma', 'Kacirek', 'Saliba', 'Sands', 'Jidkikh', 'Maksimchuk', 'Dehant', 'Daviau', 'Marfunin', 'Togo', 'Horanov', 'Ebeling', 'Partlett', 'Maurer', 'Darminov', 'Rossum', 'Zolotarsky', 'Mahankov', 'Zastavsky', 'Ganem', 'Minjurenko', 'Monet', 'Katsenelenbaum', 'Histyaev', 'Martynov', 'Pletcher', 'Bertrand', 'Nevelskoi', 'Quinn', 'Terrazas', 'Becker', 'Avduevsky', 'Millard', 'Grohovsky', 'Diamond', 'Elenin', 'Fakhoury', 'Nahas', 'Said', 'Price', 'Chukhonkin', 'Charukhin', 'Lock', 'Jukovin', 'Pyrlin', 'Chelmy', 'Bakrymoff', 'Napoletani', 'Sayegh', 'Kennedy', 'Boutros', 'Balasoglo', 'Vavkin', 'Lebsky', 'De felice', 'Nayler', 'Awrorin', 'Makhlov', 'Colombo', 'Everson', 'Lyon', 'Adelardi', 'Milne', 'Zabek', 'Lilley', 'Tsalykhin', 'Adlerberg', 'Salamanca', 'Chermak', 'Shon', 'Krivolavy', 'Ahearn', 'Bilbasov', 'Yuzeev', 'Goodson', 'Elzer', 'Baz', 'Arishima', 'Onchukov', 'Seif', 'Boucher', 'Kneller', 'Chevrolet', 'Zientek', 'Ustilovsky', 'Martyshin', 'Tolbuhin', 'Xiong', 'Tchehlakovsky', 'Sabbag', 'Tsunoda', 'Alferov', 'Barakovsky', 'Zhaboev', 'Schwarzenberg', 'Zhitnikov', 'Heveshi', 'Mahrovsky', 'Parent', 'Habibullaev', 'Jluktov', 'Newlands', 'Kachin', 'Sneijder', 'Alianaki', 'Harchenkov', 'Tsvigun', 'Stolarz', 'Ghannam', 'Jatskov', 'Zheltuhin', 'Baz', 'Ness', 'Cotterill', 'Mursalimov', 'Hruskova', 'Julyabin', 'Lattimore', 'Koulaxizis', 'Alshtut', 'Di pasqua', 'Glazychev', 'Kunda', 'Hadash', 'Riverov', 'Gudarenko', 'Guzenkov', 'Maalouf', 'Simonek', 'Gorman', 'Davletyarov', 'Hamatnurov', 'Lee', 'Cousineau', 'Couture', 'Villalobos', 'Zaskanov', 'Kanak', 'Anoprienko', 'Penzig', 'Abramtchuk', 'Von essen', 'Antar', 'Gribanov', 'Ahmed', 'Beringer', 'Bilichenko', 'Badanin', 'Normington', 'Avramchik', 'Kanesaka', 'Sanders', 'Nemeth', 'Linford', 'Do', 'Mansour', 'Novokhatsky', 'Harlashenkov', 'Scotti', 'Jabin', 'Lawerenz', 'Obukovkin', 'Golochevsky', 'Qiu', 'Rahal', 'Finyutin', 'Yahnenko', 'Pohodin', 'Geary', 'Sutton', 'Shibanuma', 'Vyner', 'Jakmon', 'Warburton', 'Hadden', 'Jimila', 'Nakasone', 'Sugimura', 'Snow', 'Jaimov', 'Bruce', 'Chang', 'Himenko', 'Chong', 'Rocca', 'Suenami', 'Zhuchkov', 'Brisimitzakis', 'Haustov', 'Ageitchik', 'Yeung', 'Polilov', 'Fuller', 'Yakushevich', 'Yuzvikov', 'Glezarov', 'Hafner', 'Miller', 'Batskaev', 'Katoaka', 'Terauchi', 'Mendes', 'Vyschepan', 'Jarrold', 'Jandulsky', 'Piffer', 'Thai', 'Madeira', 'Schulze', 'Piatek', 'Manfredonia', 'Kajitani', 'Veltischev', 'Joshuya', 'Pavot', 'Schroter', 'Ernest', 'Jilenko', 'Orellana', 'Docherty', 'Raihman', 'Lapakov', 'Vozgilevich', 'Van', 'Rycroft', 'Burns', 'Abdulazizoff', 'Parkin', 'Morcos', 'Zhorzhev', 'Guirguis', 'Kita', 'Khoury', 'Zhaba', 'Yukhtman', 'Mahrov', 'Nakhodkin', 'Yeldon', 'Mikhalkin', 'Tuma', 'Ware', 'Dolan', 'Glezerman', 'Cove', 'Kassis', 'Agapitoff', 'Stedman', 'Jirov', 'Yamov', 'Henderson', 'Fallows', 'Loenko', 'Baidukoff', 'Dagher', 'Mahinya', 'Cheklyanov', 'Naifeh', 'Juhno', 'Levit', 'Turatbekov', 'Guliev', 'Karim', 'Kassis', 'Mata', 'Gorbunov', 'Kataoka', 'Goldsworthy', 'Tempest', 'Stokes', 'Homutov', 'Shamoon', 'Baisarov', 'Montagne', 'Peltser', 'Habirov', 'Vesnitsky', 'Cvacek', 'Zhelezovsky', 'Tsapov', 'Cornish', 'Vainer', 'Tokmakov', 'GalkinVraskoi', 'Maksyutenko', 'Shibukji', 'Mulligan', 'Rustamov', 'Jokin', 'Everstov', 'Kassis', 'Kawaii', 'Natareev', 'Tsidilkovsky', 'Levann', 'Kalatin', 'Djumabaev', 'Yan', 'Nemoto', 'Nomura', 'Cermak', 'Devaney', 'Nudatov', 'Baiburin', 'Jegulin', 'Loifman', 'Turetskov', 'Portoghese', 'Abulhanov', 'Pypin', 'Yakushin', 'Steel', 'Iesada', 'Mcneill', 'Albert', 'Pavlusenko', 'Mordvinov', 'Antushevsky', 'Ustenko', 'Shichirobei', 'Andronnikov', 'Provenzano', 'Ableukhov', 'Masih', 'Botros', 'Zelentsov', 'Djirin', 'Norsworthy', 'Borghi', 'Slezak', 'Rockliffe', 'Dewar', 'Guidi', 'Fabre', 'Marie', 'Zhohin', 'Veletsky', 'Milward', 'Herrmann', 'Hassan', 'Lichtenberg', 'Maille', 'Zinin', 'Wallis', 'Holoshevsky', 'Pochuev', 'Novosilsky', 'Groisman', 'Fedchenko', 'Gorecki', 'Zhornyak', 'Huerta', 'Strobel', 'Kitoaji', 'Glukhman', 'Bran', 'Aquino', 'Whitmore', 'Deshkin', 'Negri', 'Yudahin', 'Avramtchik', 'Pherigo', 'Moghadam', 'Tchalovsky', 'Turubanov', 'Wood', 'Dudnik', 'Malouf', 'Vinkler', 'Tocher', 'Chan', 'Dogadin', 'Hyobanshi', 'Fremut', 'Jirmunsky', 'Ambrosi', 'Morello', 'Balanev', 'Waters', 'Avtsyn', 'Tovstyko', 'Farrow', 'Takashi', 'Abbakumov', 'Harper', 'Mackenzie', 'Kalitvintsev', 'Valkovoy', 'Zhadenov', 'Janishin', 'Forshaw', 'Moretti', 'Grosse', 'Antar', 'Abyshev', 'Tchekmenev', 'Bird', 'Tselios', 'Finkelshtein', 'Heraskov', 'Alt', 'Tzaplinsky', 'Jelokhovtsev', 'Awdonin', 'Faerber', 'Avaev', 'Atlasov', 'Chekharin', 'Ainley', 'Stavropoulos', 'Romijn', 'Glasby', 'Vagramenko', 'Elstone', 'Takaki', 'Nasetkin', 'Dodd', 'Lowdon', 'Koenigsmann', 'Talkov', 'Prokurorov', 'Donati', 'Gregory', 'Antoun', 'Smith', 'Vymenets', 'Velgus', 'Graves', 'Oconnor', 'Maryltsev', 'Gulko', 'Guirguis', 'Manning', 'De la fontaine', 'Lillis', 'Gibb', 'Safar', 'Bassin', 'Langford', 'Tsayukov', 'Prime', 'Vallakh', 'Bakunoff', 'Dunning', 'Wheeldon', 'Baderski', 'Sui', 'Yamschikov', 'Amelkin', 'Moreau', 'Baum', 'Viskhanov', 'Jadne', 'Katsibin', 'Mojeiko', 'Glukhonkov', 'Hass', 'Coyle', 'Aweryanoff', 'Vyrubov', 'Mcintosh', 'Oakey', 'Ukiyo', 'Pechurkin', 'Vainberger', 'Zhogov', 'Jelezov', 'Sakiyurai', 'Pitterman', 'Tanaka', 'Qureshi', 'Mlynnik', 'Motoyoshi', 'Quraishi', 'Vysheslavtsev', 'Pirojenko', 'Babaev', 'Najjar', 'Ridle', 'Abyzoff', 'Durnov', 'Rodriquez', 'Adabash', 'Schreck', 'Nasrullaev', 'Tchehovich', 'Trinh', 'Zhabin', 'Iemochi', 'Lapinus', 'Warriner', 'Marconi', 'Matsoukis', 'Zhokin', 'Jilin', 'Given', 'Matsotsky', 'Lovelock', 'Janov', 'Tursky', 'Shahtmeister', 'Guilmard', 'Poroh', 'Diky', 'Mason', 'Dizhbak', 'Bishara', 'Baderskov', 'Qin', 'Pekhterev', 'Page', 'Yapp', 'Forester', 'Mulenkov', 'Pasternack', 'Neskorodev', 'Bair', 'Nezhlukto', 'Govyrin', 'Novosiltsev', 'Safar', 'Fillipova', 'Alesio', 'Fleischer', 'Malouf', 'Juhimenko', 'Tcharukhin', 'Mcpherson', 'She', 'Bahtiev', 'Abubakirov', 'Shazzo', 'Atiyeh', 'Getmanov', 'Tighearnach', 'Dovator', 'Onoshkin', 'Abrams', 'Woodland', 'Nader', 'Lewis', 'Tatsuko', 'Kassis', 'Abalikhin', 'Ryzhkin', 'Inouye', 'Gromyhalin', 'Chrysanthopoulos', 'Anikst', 'Davlatov', 'Jandarbiev', 'Tolley', 'Yates', 'Saitanov', 'Zenkovsky', 'Valmary', 'Mingazov', 'Golosenin', 'Balahnin', 'Myatlev', 'Lihterman', 'Kinsella', 'Trucco', 'Frolov', 'Neill', 'Clifford', 'Eikhenbaum', 'Coma', 'Kahae', 'Shaw', 'Arthur', 'Mustafa', 'Vaiserman', 'Assaf', 'Parsons', 'Maguire', 'Gasfort', 'Lewerentz', 'Zimmermann', 'Awtorhanoff', 'Dobrinsky', 'Mifsud', 'Otrohov', 'Danilchuk', 'Sandoval', 'Holminov', 'Greenslade', 'Arian', 'Turton', 'Piskunov', 'Oldfield', 'Baturkin', 'Guirguis', 'Garbett', 'Bishara', 'Avatyan', 'Shula', 'Beale', 'Seighin', 'Baigushev', 'Tokar', 'Lubushkin', 'Coward', 'De la fuente', 'Momotami', 'Sabbagh', 'Beringer', 'Tetelmin', 'Behoev', 'Tsogas', 'Djanakavov', 'Teague', 'Ludwig', 'Awaeff', 'Eidelman', 'Djabrailov', 'Bein', 'Granikov', 'Molchadsky', 'Hanakhu', 'Atiyeh', 'Cardozo', 'Halabi', 'Shainsky', 'Slootmaekers', 'Ieyoshi', 'Cheruhin', 'Otyaev', 'Kattan', 'Fortunato', 'Abel', 'Jelnov', 'Maly', 'Usami', 'Atiyeh', 'Sartini', 'Ashcroft', 'Hodder', 'Jevlakov', 'Coburn', 'Friend', 'Schlantz', 'Srour', 'Mischikhin', 'Jemchujny', 'Mohren', 'Bernard', 'Jitnikov', 'Mikhailets', 'Nakamura', 'Dzhibladze', 'Yakuschenko', 'Fosse', 'Hatin', 'Aldworth', 'Touma', 'Eganov', 'Evstratov', 'Matzievsky', 'Gaskov', 'Shadid', 'Pefanis', 'Jivov', 'Haanrade', 'Tifft', 'Ajiganoff', 'Filipovich', 'Amari', 'Trump', 'Agudoff', 'Turrell', 'Averochkin', 'Jebelev', 'Shirko', 'Rumpade', 'Yakushev', 'Valiahmetov', 'Fryer', 'Leites', 'Doino', 'Tannous', 'Gaft', 'Evison', 'Drysdale', 'Luke', 'Glukhih', 'Goodacre', 'Jmudsky', 'Shamanov', 'Adamczak', 'Abaziev', 'Nagai', 'Vihorev', 'Seah', 'Sugase', 'Osman', 'Stanford', 'Fazylzyanov', 'Martin', 'Bain', 'Bahtigareev', 'Asker', 'Gridnev', 'Tsang', 'Grundy', 'Mozhaiskov', 'Makhonov', 'Asker', 'Alfero', 'Cheparev', 'Pyjev', 'Lezhnin', 'Schevelev', 'Siagyo', 'Berezovaya', 'Evsyutin', \"O'Bree\", 'Hummel', 'Tatsuya', 'Blecher', 'Tovbin', 'Quraishi', 'Wood', 'Riedel', 'Inao', 'Treblik', 'Andryukov', 'Gerschcovich', 'Wicks', 'Bazylev', 'Antoun', 'Furness', 'Filipiev', 'Yakhontov', 'Bains', 'Awksentiewsky', 'Nyuren', 'Chepel', 'Richter', 'Gehrig', 'Teagan', 'Artischev', 'Patzev', 'Yardley', 'Egerton', 'Bairov', 'Subertova', 'Dwyer', 'Baroch', 'Kono', 'Yep', 'Vicario', 'Tan', 'Abadi', 'Vakulovski', 'Eastaugh', 'Dagher', 'Tsyavlovsky', 'Tabuchi', 'Parensky', 'Shakhanov', 'Pokhodeev', 'Isleniev', 'Bartolomei', 'Shaiewich', 'Agakoff', 'Havkin', 'Ligachev', 'Watnabe', 'Grosse', 'Fujiwara', 'Knox', 'Chu', 'Bartosz', 'Haliullin', 'Ageikin', 'Vazyulin', 'Fossard', 'Namiki', 'Maas', 'Agli', 'Nessler', 'Cablikova', 'Rutberg', 'Virkovsky', 'Awtorkhanoff', 'Forsyth', 'Zhulyabin', 'Zherbin', 'Meszes', 'Porra', 'ShirinskyShikhmatov', 'Jigun', 'Antoniadis', 'Habov', 'Mosconi', 'Valkin', 'Vassoevich', 'Otmakhov', 'Holkin', 'Halabi', 'Yuzin', 'Makuhin', 'Mokrushev', 'Eames', 'Stoep', 'Becke', 'Robin', 'Lambert', 'Chertolyas', 'Fotinov', 'Hughes', 'Katzuba', 'Horiuchi', 'Rocco', 'Ingram', 'Rutman', 'Lepikhin', 'Tihvinsky', 'Katzur', 'Yalamov', 'Pachr', 'Giannino', 'Cormac', 'Vanyashin', 'Tochikura', 'Elsmore', 'Bajutkin', 'Abboud', 'Colon', 'Attia', 'Desmond', 'Tuev', 'Kishi', 'Bustillo', 'Takasu', 'Tchehonin', 'Rome', 'Sommer', 'Kavanagh', 'Chikishev', 'Fausti', 'Glazatov', 'Munte', 'Chagin', 'Pridvorov', 'Holan', 'Mochan', 'Ashikaga', 'Limorenko', 'Agramoff', 'Zinkevich', 'Nesmeyanov', 'Nurmuhametov', 'Nurgaleev', 'Heinrich', 'Averbukh', 'Sabbagh', 'Donk', 'Moghadam', 'Klein', 'Agatov', 'Pendleton', 'Zhiharev', 'Lohov', 'Fakhoury', 'Franco', 'Mckay', 'Tselibeev', 'Kool', 'Tuma', 'Fedotovskih', 'Eroshevsky', 'Makhinya', 'Onishi', 'Vakulenko', 'Farr', 'Saidulaev', 'Poroshin', 'Kinder', 'Kouros', 'Nader', 'Isayan', 'Newey', 'Jankin', 'Song', 'Grushevoi', 'Boutros', 'Golofeev', 'Rakhimov', 'Alberghi', 'Gibbon', 'Inman', 'Quirk', 'Malone', 'Yakushevich', 'Sakelaris', 'Batchish', 'Tsei', 'Mochalsky', 'Gates', 'Pyshkin', 'Eimontov', 'Tihonravov', 'Anselmi', 'Vasyutin', 'Trukhin', 'Abt', 'Muijel', 'Bahar', 'Kanaan', 'Walls', 'Hadad', 'Said', 'Thomason', 'Matano', 'Campos', 'Mihashi', 'Takei', 'Shahansky', 'Bajinov', 'Tcharnetsky', 'Woodcock', 'Poggio', 'Iriye', 'Daher', 'Marquez', 'Bilias', 'Jdankin', 'Carbone', 'Bagachev', 'Chamberlain', 'Kassab', 'Danin', 'Bahar', 'Naifeh', 'Sayegh', 'Virachev', 'Leibovich', 'Jimailov', 'Aboff', 'Suero', 'Bazzi', 'Miki', 'Reveley', 'Halabi', 'Nakanishi', 'Bishara', 'Tchartorizhsky', 'Hanek', 'Haddad', 'Lihov', 'Ghannam', 'Pendik', 'Goulden', 'Shamshin', 'White', 'Dauman', 'Clay', 'Kuffel', 'Cote', 'Buxton', 'Piruzyan', 'Galkovsky', 'Said', 'Dubnitsky', 'Zhelezko', 'Roijackers', 'Chi', 'Hapitsky', 'Moshnyakov', 'Kawazu', 'Nardi', 'Frolenkov', 'Nijinsky', 'Tonks', 'Kunik', 'Shobo', 'Todorsky', 'Grodensky', 'Wojewodzki', 'Ryjy', 'Svocak', 'Novoselski', 'Abaturov', 'Mkrtchan', 'Emyshev', 'Gallinger', 'Yamanoue', 'Jeffries', 'Emile', 'Levichev', 'Abolins', 'Ohalloran', 'Fabron', 'Shamon', 'Tuikov', 'Gafarov', 'Dack', 'Mach', 'Lihovtsev', 'Lejnin', 'Okamoto', 'Sargent', 'Hramov', 'Jdankov', 'Gori', 'Khoury', 'Lorenzen', 'Polson', 'Evdoshenko', 'Jerebovich', 'Shanaurin', 'Emberey', 'Awroff', 'Warden', 'Duan', 'Alder', 'Lewitckyj', 'Buchholz', 'Haldei', 'Zherihin', 'Joss', 'Rosenberg', 'Shuai', 'Tchalyshev', 'Gilks', 'Albert', 'Hajjar', 'Leitis', 'Sarraf', 'Baba', 'Hudoleev', 'Ghanem', 'Balandin', 'Beatty', 'Shahkalamyan', 'Quraishi', 'Teshigahara', 'Zhitin', 'Biryuzov', 'Diveev', 'Bencivenni', 'Holzmann', 'Vespa', 'Boutros', 'Richter', 'Perina', 'Nielsen', 'Lygin', 'Rumisek', 'Seger', 'Scott', 'Mansour', 'Fish', 'Chukhman', 'Avilkin', 'Yusuf', 'Dankuldinets', 'Khouri', 'Kloeter', 'Lychev', 'Higgs', 'Valentinovitch', 'Callaghan', 'Avtorhanov', 'Dang', 'Lane', 'Kuwabara', 'Mikhail', 'Yatzyk', 'Flavell', 'Glagolev', 'Gribin', 'Kotara', 'Wakeham', 'Hadad', 'Zhizhchenko', 'Jackson', 'Raske', 'Yeardley', 'Dogilev', 'Poroskov', 'Krebs', 'Vourlis', 'Rooiakkers', 'Richard', 'Feeney', 'Haigh', 'Raimov', 'Kerr', 'Yudelevich', 'Sarkis', 'Katzarev', 'Pakulski', 'Wasem', 'Halyuta', 'Edley', 'Abalakoff', 'Kalihov', 'Kurogane', 'Hung', 'Valyushkis', 'Dzhugashvili', 'Watkins', 'Mandel', 'Velikorechin', 'Slazak', 'Fingrut', 'Tchekmasov', 'Jigulenkov', 'Belotsvetov', 'Jakovenko', 'Baiteryakov', 'Aird', 'Veligura', 'Srour', 'Mihalkovsky', 'Goodyear', 'Costa', 'Yakovenko', 'Weber', 'Eldeston', 'Balabuha', 'Lockie', 'Tchekhovich', 'Zhitenev', 'Sarkis', 'Kachkaev', 'Tannous', 'Tsiulev', 'Novoseltsev', 'Asker', 'Nettleton', 'Maroun', 'Gasanov', 'Shammas', 'Hurley', 'Hardaev', 'Shalamanov', 'Ridgway', 'Zhilnikov', 'Kattan', 'Babanoff', 'Colley', 'Veronesi', 'Nicoll', 'Adaikin', 'Vandalkovsky', 'Hirata', 'Valnev', 'Rapson', 'Janek', 'Visly', 'Ramos', 'Brun', 'Jadrihinsky', 'Nazari', 'Cham', 'Aqua', 'Russkih', 'Zhandr', 'Vinarov', 'Vardy', 'Morri', 'BestujevLada', 'Talvik', 'Morcos', 'Atazhahov', 'Kachanov', 'Tujilin', 'Morozov', 'Liliental', 'Alshits', 'Mindadze', 'Jaikbaev', 'Vilde', 'Andreevsky', 'Ustyujanin', 'Roach', 'Dauengauer', 'Jdan', 'Molvo', 'Sakiyaev', 'Rawsthorne', 'Tzekhmistrenko', 'Krawiec', 'Daushev', 'Vanja', 'Sniegowski', 'Kalaida', 'Zdunowski', 'Balazovski', 'Leroy', 'Kouches', 'Nascimbeni', 'Belinder', 'Mills', 'Vaiserman', 'Bishara', 'Linart', 'Walmsley', 'Sabbag', 'Baldovini', 'Dalianis', 'Ganem', 'Shalamov', 'Newsome', 'Vogel', 'Matskovsky', 'Partridge', 'Griffiths', 'Mulryan', 'Belichenko', 'Mcnamara', 'Zhadkevich', 'Marion', 'Batchev', 'Manus', 'Sleiman', 'Kalitievsky', 'Shiroyama', 'Redhead', 'Isa', 'Suaird', 'Mansour', 'Kirwin', 'Beckert', 'Dyer', 'Kachur', 'Reed', 'Bazhin', 'Remenny', 'Korandak', 'Maksimychev', 'Tsvei', 'Djikaev', 'Tannous', 'Hlebnikov', 'Vasilievsky', 'Galdus', 'Toyoshima', 'Lysyuk', 'Handal', 'Vyazmin', 'Zhuruli', 'Sakurai', 'Jivlyuk', 'Alves', 'Lejenko', 'Bimbas', 'Mitskevich', 'Serafim', 'Mikhail', 'Alshibaya', 'Poyser', 'Agahanyan', 'Elliott', 'Ma', 'Asahara', 'Ribeiro', 'Juromsky', 'Kalinnikov', 'Livingstone', 'Nader', 'Asghar', 'Helashvili', 'Kettlewell', 'Cassidy', 'Reuter', 'Poshibalov', 'Lezdinysh', 'Guketlev', 'Iseya', 'Halfin', 'Knott', 'Grohov', 'Gerber', 'Masoni', 'Line', 'Abukhov', 'Eoin', 'Haladzhan', 'Demirchyan', 'Baidakov', 'Gerig', 'Khoury', 'Averotchkin', 'Tsujimoto', 'Lebedich', 'Awerbakh', 'Jennison', 'Katsevman', 'Govyadin', 'Fominov', 'Carpenter', 'Kron', 'Chuhalov', 'Gerges', 'Pribylov', 'Webber', 'Farrell', 'Miyazaki', 'Kohl', 'Reiter', 'Illing', 'Tomioka', 'Bekhterev', 'Zambrano', 'Eihvald', 'Hayes', 'Shaiahmetov', 'Zheng', 'Bilmus', 'Jakutkin', 'Padylin', 'Vasyutinsky', 'Baer', 'Kinchin', 'Yang', 'Alman', 'Galkovsky', 'Feschenko', 'Doherty', 'Vinton', 'Kacharyants', 'Chepurenko', 'Jewett', 'Pavlyushkevich', 'Rzhanov', 'Smets', 'Ghannam', 'Velikhov', 'Pelmenev', 'Chepurkovsky', 'Zhardetsky', 'Meyer', 'Alchin', 'Hizhnyakov', 'Asghar', 'Pennington', 'Holodkovsky', 'Bazili', 'Antoun', 'Belogubov', 'Welsh', 'Mohnachev', 'Sheinfeld', 'Vilke', 'Baibakov', 'Buckley', 'Alpin', 'Pelyushenko', 'Bagaryakov', 'Shamoun', 'Lishtva', 'Utoplov', 'Usikov', 'Agranowski', 'Huffman', 'Descoteaux', 'Bakhvalov', 'Marsden', 'Moulin', 'Chuvahin', 'Doikov', 'Iskra', 'Aarle', 'Kalinochkin', 'Jagutyan', 'Rhys', 'Turoverov', 'Hadad', 'Kaglantge', 'Avdeeff', 'Allgood', 'Mullins', 'Adolf', 'Chidlow', 'Bata', 'Procter', 'Kassis', 'Berezin', 'Haptahaev', 'Mubaryakov', 'Stenger', 'Tzakunov', 'Anodin', 'Kruger', 'Davidov', 'Brousil', 'Ryzhik', 'Kinghorn', 'Cheh', 'Chehonin', 'Ageichev', 'Hodgkins', 'Hakhaev', 'Vinitsky', 'Valtuh', 'Urista', 'Cousin', 'Caplan', \"V'Yuhin\", 'Jalovoi', 'Balahovski', 'King', 'Schuchard', 'Hanzhiev', 'Dennis', 'Rzhanitsin', 'Pan', 'Oaks', 'Feng', 'Jatskevich', 'Beilis', 'Brivio', 'Vakichev', 'Pagani', 'Jevaikin', 'Minervin', 'Ghannam', 'Gonzalez', 'Maalouf', 'Corvi', 'Lewington', 'Koury', 'Tzehansky', 'Martel', 'Avchinnikov', 'Shahnarovich', 'Maher', 'Iles', 'Gerver', 'Nakata', 'Barron', 'Zelenkevich', 'Bader', 'Kubota', 'Hentov', 'Avagimoff', 'Hlestkov', 'Kasai', 'Allegro', 'Hanafiev', 'Pashkov', 'Bolcar', 'Bahovtsev', 'Dunlop', 'Ra', 'Emelianov', 'Mahnenko', 'Tseboev', 'Morishita', 'Baiguzov', 'Derrick', 'Touma', 'Lupandin', 'Issa', 'Danyushevsky', 'Lotorev', 'Gulenkov', 'Durnev', 'Arian', 'Ageenko', 'Erridge', 'Ganim', 'Jakhno', 'Palmer', 'Tuktarov', 'Isaakidis', 'Lohvitsky', 'Dikov', 'Tsarakov', 'Morcos', 'Peeters', 'Golofastov', 'Gasselblat', 'Hatkov', 'Gachev', 'Elven', 'Salvay', 'Tzagadaev', 'Neskuchaev', 'Juhov', 'Berardi', 'Tzelovalnov', 'Bickley', 'Minkov', 'Carruthers', 'Ruan', 'Zheldakov', 'Steer', 'Seif', 'Zolotenkov', 'Mcintyre', 'Aswad', 'Badich', 'Maalouf', 'Schenck', 'Poshumensky', 'Nazari', 'Tholberg', 'Dovgan', 'Donoghue', 'Nagahama', 'Maroun', 'Monahan', 'Gasilin', 'Spano', 'Qiao', 'Jan', 'Zhurman', 'Yankevich', 'Mikhail', 'Faucheux', 'Lu', 'Roth', 'Bahusov', 'Zimola', 'Researcher', 'Lilwall', 'Yoshinobu', 'Hopwood', 'Vela', 'Zhagalin', 'Shahtin', 'Tait', 'Habriev', 'Fretwell', 'Testa', 'Cao', 'Hailov', 'Abaidullin', 'Mukubenov', 'Tahan', 'Molyavin', 'Tompkin', 'Abramkov', 'Zhitukhin', 'Serak', 'Oram', 'Yanibekov', 'Names', 'Touma', 'Kabakov', 'Mersinias', 'Towle', 'Barannikov', 'Bakeev', 'Okten', 'Sakellariou', 'Lotsmanov', 'Rjavinsky', 'Zherebko', 'Nurzat', 'Altshuller', 'Zhikov', 'Balabolkin', 'an', 'Mcavoy', 'Turpyatko', 'Pelman', 'Tapscott', 'Giroux', 'Tamarchenko', 'Beloenko', 'Abarinov', 'Androhanov', 'Michalovicova', 'Julev', 'Gropyanov', 'Kolbe', 'Diefenbach', 'Amalberti', 'Tze', 'Greenshields', 'Matsyuk', 'Gorsun', 'Rahal', 'Salucci', 'Auerbach', 'Baumbach', 'Hakimi', 'Bahar', 'Ilyukhin', 'Abaimoff', 'Zhadanovsky', 'Hodorovich', 'Dzhevetsky', 'Zhimirov', 'Babikoff', 'Goldberg', 'Hatmullin', 'Mooney', 'Seif', 'Atiyeh', 'Shahlevich', 'Romeijnders', 'Harchevnikov', 'Smithson', 'Tsarev', 'Airaldi', \"Get'Man\", 'Martz', 'Chai', 'Juzeev', 'Mochalov', 'Schmitt', 'Polikanov', 'Bitar', 'Beek', 'Nizhevyasov', 'Szwarc', 'Aquila', 'Gaskell', 'Sam', 'Leibenzon', 'Najjar', 'Withers', 'Dove', 'Papadelias', 'Velikov', 'Desyatovsky', 'Zasetsky', 'Dehtyarev', 'Shamanaev', 'Jminko', 'Feldt', 'Kalganov', 'Mnatsakanyan', 'Castell', 'Atterton', 'Mahaev', 'Hachaturyan', 'Astrakhantsev', 'Chan', 'Tomjevsky', 'Seif', 'Baldinotti', 'Vedenin', 'Rotenberg', 'Zhong', 'Ageevets', 'Stubbs', 'Molokovsky', 'Gouveia', 'Raske', 'Balagul', 'Schkrebitko', 'Fowley', 'Janicek', 'Woollard', 'Jemukhov', 'Pini', 'Arian', 'Acquafredda', 'Hlopin', 'Tian', 'Davy', 'Jatzkovsky', 'Bouvet', 'Bengochea', 'Vyalushkin', 'Kalinov', 'Akechi', 'Kleid', 'Abate', 'Yakimovich', 'Gourlay', 'Minyajetdinov', 'Carty', 'Mcgill', 'Yonai', 'Bakholdin', 'Halabi', 'Hintzen', 'Kojima', 'Lileev', 'Avtchinnikov', 'Kundert', 'Otsuka', 'Rogatko', 'Haryuchi', 'Upson', 'Rahmetov', 'Okubo', 'Saidbaev', 'Kuroki', 'Virgasov', 'Nanton', 'Vajov', 'Visnapu', 'Usievich', 'Foht', 'Wraight', 'Kachalovsky', 'Vakulentchuk', 'Ryzhanov', 'Tallett', 'Jowitt', 'Zhdankin', 'Mccabe', 'Pesaro', 'Lebedyansky', 'Villa', 'Shinozaki', 'Bachuk', 'Vagnyuk', 'Kaleri', 'Ribakov', 'Chehluev', 'Mulyukov', 'Rogachev', 'Scolaidhe', 'Rice', 'Bakiev', 'Shipley', 'Hilyuk', 'Turanov', 'Pohlebkin', 'Trevor', 'Anikushin', 'Siew', 'Tihonitsky', 'Artz', 'Vitmer', 'Easton', 'Jatzenko', 'Zelenin', 'Wilchek', 'Duncan', 'Ajogin', 'Itoh', 'Poole', 'Child', 'Kessler', 'Holub', 'Paramonov', 'Belotserkovsky', 'Shen', 'Jenas', 'Shalygin', 'Lyskin', 'Tosell', 'Tzarek', 'Besschetny', 'Yufa', 'Hudiev', 'Nuridjanov', 'Dmitrov', 'Nani', 'Daher', 'Merle', 'Harman', 'Ablyakimov', 'Nahas', 'Agarkov', 'Japondych', \"O'Dell\", 'Enns', 'Harman', 'Abdrakhimov', 'Adlerov', 'Tselovalnikov', 'Bazyuta', 'Ba', 'Mifsud', 'Schultheiss', 'Barnes', 'Valden', 'Kourempes', 'Felix', 'Attia', 'Stanek', 'Haraman', 'Nuryaev', 'Andruzsky', 'Vertinsky', 'Wolfe', 'Arrowsmith', 'Walpole', 'Belik', 'Portnikov', 'Awtsin', 'Agamiroff', 'Dzhumabaev', 'Marino', 'Awad', 'Boutros', 'Hao', 'Shinozuka', 'Ukhov', 'Ganem', 'Ponkratov', 'Vipond', 'Turkestanov', 'Nakhimov', 'Pawson', 'Srour', 'Conroy', 'Bradach', 'Awtokratoff', 'Cannon', 'Cham', 'Krivan', 'Hunov', 'Yamakawa', 'Shalhoub', 'Shalganov', 'Zhbanov', 'Nasedkin', 'Khoury', 'Azhnikoff', 'Dakhov', 'Reinders', 'Bacherikov', 'Smyth', 'Green', 'Basara', 'Spitznogle', 'Pajitnov', 'Sztegon', 'Ableuhov', 'Boutros', 'Shaw', 'Skwor', 'Tahan', 'Leikisman', 'Nasrutdinov', 'Paternoster', 'Attewell', 'Pokhvoschev', 'Qureshi', 'Lafrenz', 'Vincent', 'Vygotsky', 'Okimasa', 'Haik', 'Morcos', 'Deryujkov', 'Handal', 'Anorin', 'Orchard', 'Abamelek', 'Pirsky', 'Friedrich', 'Welter', 'Lilyin', 'Collard', 'Vallins', 'Shiga', 'Shamsiev', 'Chu', 'Getling', 'Drewett', 'Rios', 'Seo', 'Wilcox', 'Jablonsky', 'Muzalevskih', 'Schepelev', 'Judanov', 'Tchekhanov', 'Handal', 'Munakata', 'Chuhanov', 'Fuentes', 'Shadid', 'Whalley', 'Mikhaltsev', 'Ojeda', 'Abraham', 'Matzkovsky', 'Zhuravliov', 'Larkings', 'Wren', 'Agdaroff', 'Farrant', 'Pakholkov', 'Vasyukevich', 'Helley', 'Tuma', 'Sneijers', 'Deeb', 'Emmins', 'Bohunovsky', 'Antoun', \"O'Doherty\", 'Nevins', 'Detsenko', 'Amelsvoort', 'Beloshapka', 'Awad', 'Makricosta', 'Sayegh', 'Fiore', 'Tovstyh', 'Sayegh', 'Iddon', 'Auzan', 'Gastfreind', 'Enikeev', 'Pugh', 'Skelly', 'Zhernosek', 'Luhvich', 'Vedeneev', 'Nezamutdinov', 'Fuwa', 'Jitarev', 'Basygysov', 'Vassilopulos', 'Hudolei', 'Wyrick', 'Vysokinsky', 'Shamrun', 'Soto', 'Rompa', 'Panek', 'Atepko', 'Raizman', 'Vilaro', 'Favre', 'Zhezhel', 'Tomlin', 'Nussbaum', 'Porto', 'Finsky', 'Bekmurzov', 'Vorogushin', 'John', 'Valyushkin', 'Delgado', 'Yafaev', 'Dakhnov', 'Tronko', 'Merckx', 'Awiloff', 'Eden', 'Agishev', 'Everdell', 'Ustinchenko', 'Astsaturov', 'Labelle', 'Martzevich', 'Raimondi', 'Seer', 'Zhurin', 'Zhiharevitch', 'Kalitinkin', 'Ametistov', 'Abakumoff', 'Michudo', 'Abuhoff', 'Adashik', 'Dzhuro', 'Gilder', 'Ropple', 'Chin', 'Kalaichev', 'Marchetti', 'Teasdale', 'Griff', 'Carling', 'Abrosoff', 'Garcia', 'Babkoff', 'Muzarev', 'Bazilevsky', 'Nader', 'Falk', 'Turyansky', 'Pendyurin', 'Visilkin', 'Atyashkin', 'Dagher', 'Newbury', 'Basara', 'Juzva', 'Vertiprahov', 'Cham', 'Behrend', 'Yuzva', 'Offermans', 'Multyh', 'Zogby', 'Neznanov', 'Gaber', 'Adomaitis', 'Donovan', 'Longley', 'Paulis', 'Luther', 'Wane', 'Zheltouhov', 'Kalekin', 'Chilvers', 'Shaihmurzin', 'Gulichev', 'Stupka', 'Masih', 'Shaimardanov', 'Rzheussky', 'Whyte', 'Marek', 'Zelenev', 'Gallego', 'Yankis', 'Tannous', 'Lestrange', 'Tankoshitsu', 'Leck', 'Likhov', 'Mustafa', 'Montana', 'Demidoff', 'Ould', 'Blakey', 'Nassar', 'Veseliev', 'Koury', 'Adams', 'Vaver', 'Kwong', 'Esin', 'Glass', 'Priymak', 'Dikansky', 'Sauvage', 'Averianoff', 'Daniels', 'Shepherd', 'Sarraf', 'Kiely', 'Mihalchev', 'Chekvin', 'Antoschin', 'Asghar', 'Pankhurst', 'Compton', 'Earl', 'Assaf', 'Falkenrath', 'Fortov', 'Turbai', 'Sharma', 'Desai', 'Ruslanov', 'Alhimenko', 'Baevski', 'Makuha', 'Larsen', 'Jebo', 'Haik', 'Spoerl', 'Mentis', 'Bildin', 'Malouf', 'Nader', 'Deyanov', 'Albero', 'Belloni', 'Behtenev', 'Hujev', 'Storr', 'Paredes', 'Naslednikov', 'Eremkin', 'Choe', 'Tzehanovich', 'Putt', 'Mikhail', 'Hubaev', 'Brambani', 'Zimovets', 'Ashford', 'Mordkin', 'Santiago', 'Tinkler', 'Agudov', 'Zhashkov', 'Dmohovsky', 'Yahot', 'Jerikhin', 'Macfarlane', 'Doors', 'Russell', 'Jefford', 'Jatzkov', 'Awad', 'Kazuyoshi', 'Britton', 'Bakkarevich', 'De leon', 'Isachenok', 'Kamata', 'Choi', 'Abramenkoff', 'Anisemenok', 'Ambrose', 'Anisovich', 'Yuditsky', 'Chukhnovsky', 'Paisley', 'Valdes', 'Lowes', 'Parks', 'Baidak', 'Baba', 'Westlake', 'Komine', 'Averchev', 'Bakhmetiev', 'Samaha', 'Veprik', 'Paszek', 'Pena', 'Bower', 'Mears', 'Nosihin', 'Haddad', 'Jarmuhamedov', 'Poggi', 'Roscoe', 'Brady', 'Dakhno', 'Shirahata', 'Bitar', 'Wiltshire', 'Omelichev', 'Iitaka', 'Breda', 'Shamoun', 'Jevons', 'Trapani', 'Awrus', 'Abih', 'Goodridge', 'Finch', 'Baasch', 'Vinchevsky', 'Vitorsky', 'Bakanoff', 'Alker', 'Richard', 'Chevrolet', 'Ghanem', 'Koumanidis', 'Wintersgill', 'Khan', 'Macintyre', 'Hizhny', 'Zhurikhin', 'Lacey', 'Bestujev', 'Jarovtsev', 'Jmulev', 'Jilenkov', 'Djatiev', 'Multakh', 'Beltz', 'Kamisaka', 'Uzhvak', 'Lawton', 'Mcbain', 'Prokudin', 'Moller', 'Finnegan', 'Mints', 'Tihonchuk', 'Attia', 'Addinall', 'Handzhaevsky', 'Shadid', 'Albert', 'Molochnikov', 'Borovka', 'Dublin', 'Drozdkov', 'Rana', 'Lappo', 'Trickett', 'Voronihin', 'Ontikov', 'Travill', 'Tudorovsky', 'Pennders', 'Yakushov', 'Azarola', 'Seif', 'Vilkov', 'Messana', 'Shakhurov', 'Evstigneev', 'Boutros', 'Poon', 'Tupikin', 'East', 'Petrakis', 'Shelting', 'Jurko', 'Powles', 'Gerges', 'Jakubonis', 'Hait', 'Baines', 'Harger', 'Zitev', 'Qureshi', 'Shinko', 'Okita', 'Stewart', 'Eberling', 'Adibekoff', 'Bazzi', 'Amari', 'Heaton', 'Batchuk', 'Ukhtomsky', 'Lewin', 'Vil', 'Baklan', 'Zhigunov', 'Blackburn', 'Rohlin', 'Leverenz', 'Gerges', 'Arthur', 'Tovstonogov', 'Fazleev', 'Nazari', 'Golovanyov', 'Awad', 'Mizumaki', 'Worner', 'Gulenko', 'Hodgson', 'Yalovets', 'Cabrera', 'Said', 'Kartajev', 'Viliev', 'Alfaro', 'Hadad', 'Atopov', 'Didevich', 'Ellingham', 'Attia', 'Corna', 'Robustelli', 'Hajjar', 'Yeates', 'Terada', 'Yablontsev', 'Vedyakin', 'Jegunov', 'Shamon', 'Jiryakov', 'Debenham', 'Aodha', 'Vinci', 'Belchikov', 'Svejda', 'Martynenkov', 'Abyzgiddin', 'Regenbogen', 'Zharnov', 'Searle', 'Dagher', 'Adsett', 'Twigg', 'Rodden', 'Tikhin', 'Samaha', 'Agibaloff', 'Mustafa', 'Yahin', 'Worth', 'Zenin', 'Talzi', 'Grygarova', 'Silverstein', 'Keller', 'Barber', 'Morev', 'Totah', 'Attia', 'Utyashev', 'Jamskov', 'Adamishin', 'Winther', 'Gleeson', 'Tzaliev', 'Groundon', 'Krusen', 'Rovkov', 'Hammond', 'Alybin', 'Desyatchikov', 'Mifsud', 'Kassab', 'Botros', 'Spinks', 'Jurbenko', 'Doble', 'Portelli', 'Michkov', 'Birin', 'Badalyants', 'Roma', 'Gerhardt', 'Jidomirov', 'Wilkinson', 'Tannous', 'Odam', 'Pavkin', 'Balakin', 'Ustimkin', 'Jiharev', 'Rousses', 'Bairashewsky', 'Horkin', 'Pohojaev', 'Zhuk', 'Mifsud', 'Vanchugov', 'Gagarinov', 'Elling', 'AuYong', 'Royer', 'Hatagov', 'Vagarshyan', 'Harb', 'Ekin', 'Fordham', 'Lyrschikov', 'Christakos', 'Abatangelo', 'Attia', 'Suess', 'Bazhov', 'Higo', 'Bagration', 'Zasulich', 'Shamshurov', 'Lozin', 'Stanfield', 'Marquering', 'Nader', 'Winograd', 'Tovuu', 'Koshin', 'Teterkin', 'She', 'Haitov', 'Daley', 'Cowie', 'Aderihin', 'Zhitomirsky', 'Frush', 'Lawlor', 'Andrew', 'Andreev', 'Ron', 'Edmundson', 'Yakob', 'Galvin', 'Maier', 'Karteshkin', 'Pei', 'Abdulrakhmanoff', 'Awduewsky', 'Berti', 'Avrutsky', 'Nahas', 'Lizorkin', 'Handal', 'Lines', 'Tangeman', 'Isa', 'Oates', 'Khouri', 'Pazi', 'Bakhmetoff', 'Shammas', 'Frame', 'Hanraets', 'Gomolka', 'Leake', 'Kabirov', 'Roach', 'Vinsgeim', 'Wan', 'Mojzis', 'Yamaha', 'Gulkin', 'Hagias', 'Halle', 'Tsvelyukh', 'Klein', 'Tsvelihovsky', 'Eade', 'Ko', 'Oloughlin', 'Shaimiev', 'Bahmetov', 'Shalikov', 'Belov', 'Mihailenko', 'Sacco', 'Poretzky', 'Deribo', 'Templeman', 'Neale', 'Awash', 'Samaha', 'Ping', 'Geftler', 'Maksimchikov', 'Kats', 'Vilson', 'Warrington', 'Jvachkin', 'Birkin', 'Fominyh', 'Luo', 'Peleev', 'Arian', 'Faen', 'Nurhamitov', 'Vaigant', 'Millington', 'Conneely', 'Castro', 'Jagich', 'Toru', 'Salib', 'Najjar', 'Kan', 'Nandi', 'Galler', 'Kallash', 'Peisar', 'Robe', 'Abaloff', 'Torrens', 'Alianov', 'Getman', 'Bahshiev', 'Zhebryakov', 'Dizhin', 'Bazzi', 'Whitelaw', 'Wainwright', 'Sassa', 'Aderson', 'Zasypkin', 'Huramshin', 'Valentinov', 'Tchaganov', 'Hublaryan', 'Bazilev', 'Sarkis', 'Wise', 'Vylomov', 'Deforest', 'Bazovski', 'Assaf', 'Babyuk', 'Vlasevich', 'Rahal', 'Hakimi', 'Chou', 'Chapko', 'Zhirenkin', 'Yin', 'Sakai', 'August', \"O'Keefe\", 'Evstifeev', 'Dirchs', 'Wasem', 'De campo', 'Zozulya', 'Exley', 'Makhov', 'Rahal', 'Abulkhanoff', 'Henry', 'Travers', 'Levitsky', 'Salib', 'Abano', 'Tallat', 'Sepelev', 'Althuis', 'Yasuda', 'Mansour', 'Piccirillo', 'Jennson', 'Obando', 'Awtchinnikoff', 'Boulton', 'Vystavkin', 'Freud', 'Botros', 'Sayegh', 'Gomez', 'Corrigan', 'Yagutyan', 'Jiganov', 'Finchuk', 'Shahanov', 'Paschalis', 'Victors', 'Mikhailjuk', 'Jalunin', 'Averianov', 'Damhain', 'Deulenko', 'Nizhegorodov', 'London', 'Zheronkin', 'Jagalin', 'Degarmo', 'Aves', 'Valtchuk', 'Borland', 'Planick', 'Vedischev', 'Abadi', 'Yokoyama', 'Jestovsky', 'Nassar', 'Waterhouse', \"O'Rourke\", 'Nishio', 'Gladchenko', 'Vyatkovsky', 'Sabbagh', 'Howe', 'Handjaevsky', 'Ezakiya', 'Obolonsky', 'Scheinberg', 'Paikin', 'Marugo', 'Warby', 'Gribenkin', 'Kouri', 'Piskovoy', 'Jitinev', 'North', 'Simmons', 'Nurgalin', 'Zhivago', 'Ishiyama', 'Halatyan', 'Wiegand', 'Tokarev', 'Jeltouhov', 'Bedford', 'Abboud', 'Favero', 'Friedrich', 'Tukabaev', 'Baushev', 'Basara', 'Chusovitin', 'Noguchi', 'Babayan', 'Fermi', 'Tihonkih', 'Tsaliev', 'Balabukha', 'Vann', 'Flynn', 'Makukhin', 'Tsai', 'Karkampasis', 'Vanetchkin', 'Ciurlionis', 'Aston', 'Belogorsky', 'Fadyaev', 'Palfreyman', \"O'Brien\", 'Mikhailov', 'Schepotyev', 'Haluev', 'Lozhkin', 'Andrushko', 'Date', 'Brezovjak', 'Kaspar', 'Safar', 'Berg', 'Hatton', 'Ongaro', 'Dobritsky', 'Kenny', 'Belshtein', 'Durante', 'Barankin', 'Doughty', 'Nahas', 'Abdulhabiroff', 'Imniaminov', 'Chicken', 'Porublev', 'Pitersky', 'Gianakopulos', 'Petri', 'Duronov', 'Hodges', 'Kay', 'Bartlett', 'Ma', 'Narvaez', 'Mahnev', 'Oldham', 'Atamanenko', 'Fenton', 'Veledeev', 'Caro', 'Bakaleiko', 'Trampota', 'Deans', 'Bellandini', 'Dowson', 'Artyushkov', 'Mikhail', 'Armsden', 'Islyamov', 'Zhovtyak', 'Marhinin', 'Roberts', 'Kearns', 'Wong', 'Yablonowsky', 'Baigildeev', 'Hanenya', 'Bekhtold', 'Bagritch', 'Oxley', 'Gorst', 'Zoloev', 'Davlyatov', 'Cino', 'Tracey', 'Mcmillan', 'Kikutake', 'Dobrotvorsky', 'Espley', 'Luppov', 'Zhurbenko', 'Nevitsky', 'Ashbrook', 'Sheppard', 'Jelyabujsky', 'Prigojin', 'Shakhmagon', 'Maksumov', 'Baiguloff', 'Bleskan', 'Okey', 'Andreichuk', 'Awakoff', 'Angioli', 'Vinchugov', 'Graham', 'Koyama', 'Vinidiktov', 'Treble', 'Roig', 'Pian', 'Dominguez', 'Guirguis', 'Stout', 'Fukushima', 'Nelmes', 'Schuhart', 'Zee', 'Dagher', 'Matoke', 'Ganem', 'Gallchobhar', 'Vanyukov', 'Chekis', 'Mifsud', 'Devine', 'Upjohn', 'Han', 'Ingle', 'Duffield', 'Roche', 'Dzhankezov', 'Tahan', 'Boveri', 'Vassilikos', 'Dubrouski', 'Avtonomov', 'Kanaan', 'Tumunbayarov', 'Balakleevski', 'Gaber', 'Nahabtsev', 'Hludov', 'Harlow', 'Shadid', 'Shamon', 'Toma', 'Finn', 'Jugai', 'Uboshita', 'Amari', 'Malouf', 'Geng', 'Accardo', 'Caomh', 'Derunov', 'Dunkley', 'Pochkin', 'Aloia', 'Nejdanov', 'Mohnatkin', 'Gavrilopoulos', 'Yahnyuk', 'Ohka', 'Katz', 'Philips', 'Ewart', 'Amari', 'Gramatke', 'Chun', 'Agayants', 'Schepatov', 'Gravari', 'Dobrynsky', 'Agresta', 'Nezlin', 'Privett', 'Lihachev', 'Assaf', 'Gulaya', 'Leipunsky', 'Galkov', 'Trukhachev', 'Lichkun', 'Lightfoot', 'Nasibullaev', 'Haddad', 'Whittaker', 'Umney', 'Smallwood', 'Portner', 'Giles', 'Anin', 'Makin', 'Fearn', 'Eijvertin', 'Bazilevich', 'Jbankov', 'Nannini', 'Nahapetov', 'Agoshkoff', 'Basara', 'Rowlinson', 'Rothenberg', 'Matejka', 'Caro', 'Charge', 'Ganem', 'Sabbagh', 'Fakhoury', 'Valk', 'Hand', 'Derkovsky', 'Cuidightheach', 'Jakunchikov', 'Adelhanoff', 'Gaber', 'Hunter', 'Hamikoev', 'Fortier', 'Worsnop', 'Wooldridge', 'Granov', 'Schebrov', 'Agibalov', 'Elentuh', 'Yanovich', 'Rovinsky', 'Barnett', 'Lynch', 'Andreichenko', 'Kalistratov', 'Osullivan', 'Tansho', 'Evald', 'Tresler', 'Dobbin', 'Bibichev', 'Luppa', 'Rutherford', 'Inoue', 'Kimio', 'Adzhemov', 'Shibata', 'Grivet', 'Asfandiyarov', 'Birentsveig', 'Khoury', 'Gunston', 'Gabrielli', 'Gray', 'Lapkin', 'Jaffray', 'Gasho', 'Abertasov', 'Jeltov', 'Baba', 'Chisholm', 'Sweeney', 'Selvaggio', 'Durand', 'Talitskikh', 'Koberna', 'Halkiopov', 'Crisp', 'Khoury', 'Tahan', 'Entwistle', 'Shuo', 'Aswad', 'Agliullin', 'Gladtsin', 'Morita', 'Ianson', 'Bakshandaev', 'Iggleden', 'Dolcy', 'Abbadelli', 'Zasosov', 'Jirovy', 'Turke', 'Silveira', 'Dyde', 'Langlois', 'Braithwaite', 'Amor', 'Jidkin', 'Bassani', 'Zogby', 'Herodes', 'Whelan', 'Tokarchuk', 'Zhurba', 'Konig', 'Hemingway', 'Michel', 'Assaf', 'Tannous', 'Pillar', 'Mohammed', 'Heather', 'Valentini', 'Glagolevskii', 'Uzov', 'Pyjiev', 'Yachikov', 'Khouri', 'Kabysh', 'Haupt', 'Norbury', 'Palfrey', 'Fearon', 'Hadad', 'Chernovol', 'Kenneth', 'Tyrer', 'Corr', 'Zasursky', 'Veprentsov', 'Mukaseev', 'Hanek', 'Fedotkin', 'Noguerra', 'Tihonov', 'Opizka', 'Troinin', 'Jandiev', 'Dobronos', 'Mitzusaka', 'Mndjoyan', 'Jankis', 'Hosokaya', 'Asch', 'Egarmin', 'Hassani', 'Hidiyatullin', 'Juhanaev', 'Groer', 'Fletcher', 'Kwang', 'Privalov', 'Mihalkov', 'Vyguzov', 'Morjin', 'Andryuschenko', 'Abashev', 'Wallace', 'Kilford', 'Rjeshevsky', 'Kirk', 'Glagolevsky', 'Adamson', 'Shamraev', 'Agababov', 'Zharuev', 'Rogachevsky', 'Sakata', 'Bowler', 'Turukhin', 'Silvestri', 'Saliba', 'Mustafa', 'Anscombe', 'Stocker', 'Essa', 'Labriola', 'Gerges', 'Pickersgill', 'Robins', 'Vyazankin', 'Elliston', 'Yakhno', 'Hahn', 'Raifeld', 'Zheltyannikov', 'Balabaev', 'Kerr', 'Kalinovsky', 'Rompaij', 'Muso', 'Lajintsev', 'Bevan', 'Awtomovich', 'Astrakhankin', 'Safar', 'Jeravin', 'Jin', 'Lebedintsev', 'Yasuhiro', 'Kennedy', 'Vertkin', 'Whittley', 'Valentine', 'Tulinov', 'Sneijer', 'Abakovsky', 'Michalaras', 'Aswad', 'Tikhonov', 'Shalagin', 'Halabi', 'Handal', 'Seif', 'Driscoll', 'Mustafa', 'Zhmakov', 'Young', 'Karameros', 'Walton', 'Valmus', 'Agabekov', 'Hanania', 'Troitsky', 'Youlden', 'Ibi', 'Duvall', 'Jigarev', 'Dinh', 'Adelung', 'Belinskij', 'Attard', 'Stanton', 'Jordison', 'Guldreih', 'Handal', 'Totah', 'Horoshiltsev', 'Otomo', 'Gardner', 'Hickman', 'Kachurin', 'Juikov', 'Turmilov', 'Horujenko', 'Horoshevsky', 'Vedyaskin', 'Amerhanov', 'Movchun', 'Dell', 'Moran', 'Molodchinin', 'Nifterik', 'Andrusov', 'Nelissen', 'Thorndyke', 'Jakunin', 'Vogt', 'Chu', 'Haladjan', 'Balahontsev', 'Wrightson', 'Antonopoulos', 'Shamoun', 'Harabornikov', 'Moss', 'Seymour', 'Itagaki', 'Moloshnikov', 'Jupikov', 'Niall', 'Tulchinsky', 'Veligjanin', 'Sarraf', 'Eaton', 'Hummel', 'Averichkin', 'Saji', 'Ladyjnikov', 'Franks', 'Ebbs', 'Allegri', 'Sokolowski', 'Devlin', 'Vannovsky', 'Duffin', 'Giehl', 'Cham', 'Almasi', 'Kowalczyk', 'Sotiris', 'Perrett', 'Mustafa', 'Bakhmutov', 'Shamonin', 'Tchekharin', 'Galenkovsky', 'Atiyeh', 'Yanushevsky', 'Patenaude', 'Leibe', 'Otain', 'Roijakker', \"Dar'Kin\", 'Bakusoff', 'Garland', 'Mordashov', 'Shadursky', 'Vilmont', 'Bezuglov', 'Zhimulev', 'Takamura', 'Tumbakov', 'Verushkin', 'Pribylsky', 'Sauveterre', 'Uzdenov', 'Shadid', 'Souza', 'Nuruchev', 'Engalychev', 'Lejankov', 'Tseluiko', 'Leiberov', 'Parrino', 'Mikhailyuk', 'Minyaichev', 'Fairlie', 'Baturov', 'Rekemchuk', 'Frolovsky', 'Baba', 'Hurst', 'Awkhimovitch', 'Ozaki', 'Bahturin', 'Daher', 'Mihailovich', 'Takewaki', 'Aboimov', 'Dittmar', 'Lam', 'Bustos', 'Slivka', 'Tell', 'Hoyle', 'Daher', 'Avksentievski', 'Uemov', 'Zenzinov', 'Albov', 'Najjar', 'Oddie', 'Ilyutenko', 'Vasianov', 'Tikhonchuk', 'Roome', 'Abeltsev', 'Zhdakaev', 'Amstel', 'Jechkov', 'Aganbegyan', 'Valiullin', 'Tzeitlin', 'Balanovsky', 'Leimon', 'Pakhtanov', 'Shirinyan', 'Adelhanyan', 'Horalya', 'Antonopoulos', 'Vakar', 'Ajnikoff', 'Saifulin', 'Truhnin', 'Galoganov', 'Mai', 'Bahovkin', 'Gallo', 'Cockburn', 'Bond', 'Potsyapun', 'Pakhomov', 'Bajukov', 'Pistolkors', 'Brock', 'Enman', 'Avetisov', 'Harman', 'Mahonin', 'Nelyubov', 'Sparacello', 'Govallo', 'Vyshemirsky', 'Harrington', 'Whitehouse', 'Valdaev', 'Dzhatiev', 'Meeuwsen', 'Tsehanovich', 'Stevens', 'Pehterev', 'Batsman', 'Blanc', 'Tugov', 'Zhatkov', 'Tzapelik', 'Lagomarsino', 'Dmokhovsky', 'Clineburg', 'Haik', 'Hadad', 'Chiba', 'Valdman', 'Shakhmin', 'Snelling', 'Rot', 'Jmakin', 'Vilyunas', 'Sechnall', 'Dobrushin', 'Jarkovsky', 'Guzevatov', 'Cham', 'Tsvetaev', 'Tzahilov', 'Timms', 'Chuhraev', 'Harb', 'Batsev', 'Esaulov', 'Bakmeister', 'Jiao', 'Hepples', 'Gutermuth', 'Lapin', 'Zhdanov', 'Dzhanibekov', 'Veasey', 'Penzin', 'Patzyna', 'Kalb', 'Tropko', 'Ganim', 'Kuga', 'GorbunovPosadov', 'Shakhvorostov', 'Lawson', 'Gansky', 'Aucciello', 'Auton', 'Abdulkhabiroff', 'Astle', 'Elworthy', 'Jinkin', 'Salib', 'Kelsall', 'Ilyushin', 'Titmuss', 'Jakubenko', 'Viselov', 'Paraskun', 'Rosso', 'Lennox', 'Salazar', 'Adabashian', 'Vellansky', 'Plotnicky', 'Fakhoury', 'Tchekhluev', 'Bishara', 'Lossky', 'Hattori', 'Yujenko', 'Onischuk', 'Yushkin', 'Algar', 'Ton', 'Ironmonger', 'Boutros', 'Kirkwood', 'Abbing', 'Kawate', 'Awertchenko', 'Morcos', 'Akamatsu', 'Zheglov', 'Sciarra', 'Lepihov', 'Awad', 'Echevarria', 'Abboud', 'Jelvakov', 'Jadrennikov', 'Wasem', 'Babadzhanyan', 'Oboldin', 'Jivilo', 'Chuvilkin', 'Guirguis', 'Tow', 'David', 'Klerk', 'Muzykantov', 'Yakovchuk', 'Asghar', 'Layton', 'Hasyanov', 'Antoun', 'Hatukaev', 'Yoshimatsu', 'Golostenov', 'Vertkov', 'Avetisyan', 'Munster', 'Gujavin', 'Unruh', 'Pismanik', 'Sawamura', 'Kartoziya', 'Castro', 'Gatiyatullin', 'Hrdy', 'Galev', 'Dzhemilev', 'Harley', 'Tsuchie', 'Hanifatullin', 'Minitsky', 'Anzimirov', 'Moletotov', 'Bazarov', 'Fallon', 'Baklagin', 'Gafin', 'Jelezovsky', 'Ustynyuk', 'Whittingham', 'Traversini', 'Totah', 'Pole', 'Dardenne', 'Kalievsky', 'Awad', 'Yuzhenko', 'Said', 'Fakhoury', 'Bazzi', 'Jagafarov', 'Onufriev', 'Baichikov', 'Faucher', 'Janitsky', 'Valencia', 'Vyalyh', 'Halyavin', 'Tsumemasa', 'Tugarov', 'Jessop', 'Tobias', 'Kaye', 'Omarov', 'Salib', 'Finik', 'Killock', 'Hoch', 'Awdeenko', 'Bishara', 'Shamoon', 'Nezametdinov', 'Dobrjansky', 'Demihov', 'Hwang', 'Kann', 'Jirnikov', 'Haddad', 'Endzelin', 'Gonzalez', 'Mulyarchik', 'Mihnev', 'Mitsuwa', 'Herheulidzev', 'Hariton', 'Tovarovsky', 'Pyslar', 'Timson', 'Bellerose', 'Anakin', 'Wahner', 'Balashov', 'Bagishaev', 'Golovaty', 'Westwood', 'Pfenning', 'Binnington', 'Balakaev', 'Jankovsky', 'Wasem', 'Boulos', 'Hadfield', 'Czajkowski', 'Viner', 'Dovjuk', 'Jupp', 'Jarihin', 'Gulley', 'Silcock', \"O'Mooney\", 'Zukerman', 'Vines', 'Lange', 'Vasyaev', 'Shamoun', 'Fyall', \"D'aramitz\", 'Thistlethwaite', 'Cosgrove', 'Juravsky', 'Danilyak', 'Likhodeev', 'Zhamoida', 'Szczepanski', 'Piskotin', 'Kau', 'Chugainov', 'Ha', 'Adarchenko', 'Baidalin', 'Tumarkin', 'Poniros', 'Oleary', 'Bilenko', 'Robinson', 'Jivotenko', 'Onufrienko', 'Esennikov', 'Mcguire', 'Kerrigan', 'Toomey', 'Bilov', 'Atalikov', 'Bahmutsky', 'Timakov', 'Turchenko', 'Bakhtchivandji', 'Quattrocchi', 'Shenk', 'Hutchins', 'Freight', 'Zhulidov', 'Velikih', 'Lgov', 'Rainey', 'Bazowski', 'Egorov', 'Naifeh', 'Gorbach', 'Abboud', 'Sabbag', 'Atiyeh', 'Pytel', 'Bakhchivandzhi', 'Patrick', 'Matsak', 'Murogov', 'Valtchitski', 'Jewitt', 'Shimamura', 'Santana', 'Poninsky', 'Keelan', 'Hakimi', \"En'Ko\", 'Kenley', 'Grzeskiewicz', 'Macarthur', 'Nourse', 'Feigenbaum', 'Shimazu', 'Gaber', 'Abulmambetov', 'Hanzhonkov', 'Lyzhin', 'Mihalkov', 'Egides', 'Vavra', 'Shiraishi', 'Shand', 'Spears', 'Lidval', 'Qureshi', 'Picha', 'Lander', 'Laurie', 'Mcfarlane', 'Amesbury', 'Hills', 'Kalin', 'Kawasie', 'Gaur', 'Hiraki', 'Zavodov', 'Kassis', 'Schultheis', 'Hautiev', 'Gales', 'Agzamov', 'Glockner', 'Gerasimovsky', 'Maksimovsky', 'Jamov', 'Mintskovsky', 'Mcdougall', 'Arapov', 'Renov', 'Lupanenko', 'Kassis', 'Molochko', 'Bakuridze', 'Eroshkevich', 'Jakovkin', 'Yamanaka', 'Arian', 'Copland', 'Honjas', 'Obolensky', 'Handal', 'Shakhnazarov', 'Matsuev', 'Shalhoub', 'Zogby', 'Avtomovich', 'Paquet', 'Glusov', \"O'Mahony\", 'Babakhanov', 'Aswad', 'Jikharevitch', 'Mingazetdinov', 'Lupenko', 'Mahro', 'Pechenin', 'Keefe', 'Igarashi', 'Nutella', 'Szweda', 'Shakh', 'Zogby', 'Bekhtenev', 'Andryunin', 'Galliford', 'Lozivets', 'Yakubonis', 'Guldenbalk', 'Tselovalnov', 'Pedley', 'Wickham', 'Babanin', 'Entov', 'Pajinsky', 'Chao', 'Ogtrop', 'Yoo', 'Stephens', 'Ohara', 'Danyarov', 'Hakimi', 'Antonchenkov', 'Kerby', 'Researcher', 'Chihanchin', 'Atterbury', 'Leiba', 'Kolt', 'Krantz', 'Kidner', 'Hamatov', 'Chijov', 'Berger', 'Balakhontsev', 'Jivokini', 'Sabbagh', 'Zogby', 'Kaletsky', 'Hadjiyianakies', 'Avramov', 'Truong', 'Wood', 'Krakowski', 'Bakhin', 'Lebedinets', 'Minyaev', 'Tchehladze', 'Sato', 'BeknazarYuzbashev', 'Ahern', 'Almasi', 'Rettig', 'Otoole', 'Adroff', 'Tapping', 'Zholudev', 'Harkin', 'Likhtenshtein', 'Muyskens', 'Sparrow', 'Shamoon', 'Shahvorostov', 'Fertig', 'Mokshin', 'Bah', 'Hijnyak', 'Tchekh', 'Oh', 'Twine', 'Mifsud', 'Hood', 'Sheludchenko', 'Nozara', 'Mifsud', 'Jilkin', 'Velovsky', 'Yufit', 'Ho', 'Zhalilo', 'Schuyler', 'Baikalov', 'Knopf', 'Mokin', 'Ferreiro', 'Vantorin', 'Abramowich', 'Oishi', 'Naizer', 'Eikhengolts', 'Mkervali', 'Mihalsky', 'Tolbert', 'Dubenkov', 'Smith', 'Riley', 'Bekoryukov', 'Sabbag', 'Munin', 'Holboev', 'Kubin', 'Sugitani', 'Rothery', 'Wasem', 'Murakami', 'Asghar', 'Gorbovsky', 'Soucek', \"Hachatur'Yan\", 'Pander', 'Kabaloev', 'Murkami', 'Nadvornizch', 'Makhalov', 'Buonarroti', 'Atabekyan', 'Doev', 'Abbas', 'Kalb', 'Samaha', 'Zhorov', 'Yukhnev', 'Yakobson', 'Yau', 'Darkshevich', 'Wang', 'Vavakin', 'Wyatt', 'Kashiwagi', 'Long', 'Gauntlett', 'Yatzun', 'Avrorin', 'Tahan', 'Hudainatov', 'Gaber', 'Chijikov', 'Bakadoroff', 'Shalonin', 'Zhukovsky', 'Nutman', 'Belous', 'Pateman', 'Chutko', 'Mullayanov', 'Islamov', 'Sleiman', 'Albinesku', 'Russon', 'Deryugin', 'Andersson', 'Fakhoury', 'Grenard', 'Quraishi', 'Arsky', 'Djejela', 'Luker', 'Jahlakov', 'Ryjak', 'Panayiotopoulos', 'Regent', 'Flett', 'Dobryakov', 'Quirke', 'Broz', 'Mansfield', 'Sciacca', 'Cham', 'Brooks', 'Pooke', 'Koury', 'Jogov', 'Shalashov', 'Goodchild', 'Register', 'Lykhin', 'Mann', 'Won', 'Palomer', 'Davidson', 'Yudushkin', 'Awerkowich', 'Ruzhilo', 'Ponafidin', 'Zhura', 'Chutchenko', \"O'Hanlon\", 'Kabaev', 'Seredavin', 'Marushkin', 'Sotomura', 'Evstafiev', 'Fiedler', 'Gruschak', 'Yokokawa', 'Engibarov', 'Anzonger', 'Chu', 'Vedyaev', 'Cruz', 'Sinclair', 'Shamoun', 'Kaibara', 'Avdakov', 'Awzaloff', 'Said', 'Chuhnovsky', 'Eihmans', 'Otake', 'Edgson', 'Pelih', 'Truhachev', 'Andreli', 'Abboud', 'De fiore', 'Karahalios', 'Gudymo', 'Attrill', 'Letsos', 'Lakin', 'Chin', 'Roche', 'Ustvolsky', 'Shahnazarov', 'Teale', 'Antar', 'Takekawa', 'Baldwin', 'Mozharov', 'Travieso', 'Utagawa', 'Zimarev', 'Myatt', 'Tsenkovsky', 'Esipenko', 'Zenchenko', 'Comtois', 'Fakhoury', 'Aitchison', 'Richman', 'Mikhel', 'Moshkovsky', 'Kellems', 'Balakhonoff', 'Jackson', 'Chavez', 'Kartyshov', 'Koo', 'Rukhlyadko', 'Kalashnik', 'Abramowitch', 'Yallop', 'Hotimsky', 'Djanumov', 'Zolotkov', 'Abegyan', 'Kendall', 'Zinkovsky', 'Belitsky', 'Bazulin', 'Pell', 'Rotolo', 'Awdiyants', 'Ponosov', 'Mochutkovsky', 'Maroun', 'Gaudin', 'Haber', 'Ghannam', 'Moreno', 'Maria', 'Mndoyants', 'Mendez', 'Dagher', 'Maessen', 'Dehtyarenko', 'Armbruster', 'Mihalevich', 'Mazuka', 'Clegg', 'Koury', 'Giang', 'Bassi', 'Ganem', 'Marshalko', 'Pender', 'Paternoster', 'Antar', 'Katzman', 'Bateman', 'Bakhtadze', 'Daher', 'Kassell', 'Xie', 'Eides', 'Airey', 'Yukhtanov', 'Yablovsky', 'Evelson', 'Qiu', 'Fowler', 'Rovensky', 'Paul', 'Altshuler', 'Lygach', 'Sasada', 'Devin', 'Balabanov', 'Getsen', 'Tahan', 'Ling', 'Yampolsky', 'Kohl', 'Varey', 'Awdakoff', 'Safar', 'Boyle', 'Delaney', 'Isoda', 'Habitsov', 'Nassar', 'Bader', 'Durakov', 'Elensky', 'Inihara', 'Ghannam', 'Weichert', 'Ughi', 'Atyurievsky', 'Hayden', 'Were', 'Guzeev', 'Seredohov', 'Asfour', 'Lendon', 'Assaf', 'Fairclough', 'Ocaskova', 'Cavey', 'Turik', 'Jakhnyuk', 'Charykov', 'Hunagov', 'Yudashkin', 'Gaspar', 'Jilnikov', 'Antar', 'Bitar', 'Cantu', 'Breda', 'Meng', 'Ashwell', 'Mccluskey', 'Samz', 'Kassis', 'Hay', 'Abrikosoff', 'Bertsimas', 'Badersky', 'Haddad', 'Homer', 'Jennings', 'Ashman', 'Enikolopov', 'Zhurkov', 'Baklastoff', 'Wasem', 'Rahal', 'Hamidullin', 'Goble', 'Valyaev', 'Payne', 'Vaikule', 'Pieha', 'Jeffcock', 'Trollope', 'Homar', 'Holzer', 'Doi', 'Lombardi', 'Handal', 'Baitchenko', 'Reid', 'Ruhimovich', 'Lokhanin', 'Nuraliev', 'Sarraf', 'Mokievsky', 'Salter', 'Kerper', 'Deeb', 'Nyrtsev', 'Hanevich', 'Vingranovsky', 'Abulkhanov', 'Grady', 'Zhidilin', 'Fitzgerald', 'Adam', 'Jurov', 'Ryzhikov', 'Franke', 'Anuchin', 'Deryabkin', 'Inukai', 'Tovma', 'Kachainik', 'Coghlan', 'Kassis', 'Waring', 'Sarkis', 'Eglevsky', 'Gaertner', 'Jaba', 'Yudolovich', 'Wasem', 'Badov', 'Lyjenkov', 'Chugunov', 'Visloguzov', 'Endo', 'Vilutis', 'Avtorkhanov', 'Yuhnev', 'Kawasaki', 'StrakaO', 'Kucera', 'Hannanov', 'Travers', 'Dnishev', 'Pecherkin', 'Horn', 'Vyakhirev', 'Agramov', 'Awhadieff', 'Anofriev', 'Jarvis', 'Strohkirch', 'Birch', 'Chepin', 'Gribalev', 'Zharov', 'Iskrov', 'Rose', 'Mukanov', 'Aberquero', 'South', 'Hang', 'Bilyaev', 'Govorun', 'Koukal', 'Goebel', 'Bisset', 'Obrien', 'Baev', 'Zavrajnov', 'Baimakoff', 'Paisar', 'Shakhlin', 'Zhevakhov', 'Burland', 'Anikiev', 'Pechinin', 'Tanizaki', 'Harb', 'Isadjanov', 'Soares', 'Momdjyan', 'Fukuzawa', 'Belotsitsky', 'Dougherty', 'Zhakov', 'Botros', 'Baba', 'Isa', 'Shah', 'Tokaji', 'Malouf', 'Jivulin', 'Lysansky', 'Baiburski', 'Eggby', 'Russkikh', 'Maroun', 'Fabri', 'Awelicheff', 'Wolf', 'Lischuk', 'Govorkov', 'Grossgeim', 'Kawagishi', 'Shaidurov', 'Shamoon', 'Skomicka', 'Mahovikov', \"En'Kov\", 'Gasinov', 'Muromtsov', 'Ryzhih', 'Davidzon', 'Abelli', 'Agnelli', 'Eretsky', 'Yankov', 'Zhemaitis', 'Townend', 'Katznelson', 'Harlinsky', 'Parensov', 'Hishida', 'Tzai', 'Hakimi', 'Handal', 'Ozu', 'Ly', 'Haitsin', 'Islam', 'Hubutiya', 'Emanov', 'Viridarsky', 'Staska', 'Uzky', 'Elkington', 'Garratt', 'Amari', 'Caton', 'Bull', 'Bavykin', 'Wiggins', 'Tsalaban', 'Sung', 'Ohmae', 'Saliba', 'Golohvastov', 'Kasprzak', 'Abakshin', 'Datsenko', 'Durasov', 'Sabbag', 'Nyurnberg', 'Gauk', 'Sarraf', 'Vasin', 'Duong', 'Goloschekin', 'Farhall', 'Paimullin', 'Machacek', 'Chukho', 'Gill', 'Bahtizin', 'Jordan', 'Fukao', 'Baburov', 'Nahamkin', 'Dneprov', 'Eikhfeld', 'Aldana', 'Tulya', 'Islamshin', 'Berezinsky', 'Atlantov', 'Goldman', 'Ganim', 'Middlesworth', 'Fedotko', 'Roganovich', 'Laurent', 'Ostler', 'Sunada', 'Lehmann', 'Pinsmail', 'Tsvelev', 'Aita', 'Torii', 'Nixon', \"O'Keefe\", 'Hladky', 'Shikuk', 'Kilbey', 'Grozmanova', 'Gadsden', 'Gladysh', 'Glazov', 'Ruhlyadko', 'Atyushov', 'Mas', 'Katzevman', 'Barabolya', 'Omelin', 'Paramoshkin', 'Baudin', 'Cernochova', 'Thatcher', 'Mustafa', 'Lozinsky', 'Glazovsky', 'Zhekov', 'Abbascia', 'Ikeda', 'Likholat', 'Kimble', 'Babinich', 'Adiev', 'Minovitzky', 'Ottey', 'Agasaroff', 'Sala', 'Lyons', 'Martell', 'Makhalin', 'Salib', 'Utyugov', 'Jarikhin', 'Havkunov', 'Bakhovtsev', 'Luzzatto', 'Marr', 'To', 'Awladeeff', 'Uchitel', 'Tseidler', 'Derzhavets', 'Shim', 'Zhokhin', 'Sada', 'Charlott', 'Nelli', 'Avis', 'Chishu', 'Totah', 'Valiakhmetov', 'Tomlinson', 'Delaney', 'Schwarz', 'Bagretsoff', 'Weaver', 'Naifeh', 'Asker', 'Goldschmidt', 'Belokhvostikov', 'Edge', 'Login', 'Enns', 'Ilyunin', 'Grushenko', 'Ryjkin', 'Baklanoff', 'Morton', 'Shakhin', 'Vonnegut', 'Astbury', 'Okakura', 'Downey', 'Bakhusov', 'Warner', 'Esparza', 'Bazaev', 'Okabe', 'Babel', 'Nahas', 'AbdankKossovsky', 'Chlebek', 'Musalimov', 'John', 'Salcedo', 'Kelso', 'Grodzensky', 'Novosadov', 'Barzetti', 'Feltham', 'Tupolev', 'Antontsev', 'Mahonov', 'Andrews', 'Turetsky', 'Kalinushkin', 'Mihailets', 'Najjar', 'Simon', 'Kraemer', 'Acciaioli', 'Brian', 'Ellwood', 'Horujev', 'Sarraf', 'Ramirez', 'Morjitsky', 'Maruschak', 'Bowles', 'Widdows', 'Onischenko', 'Zhemchujny', 'Gage', 'Ventimiglia', 'Balakleevsky', 'Batchaldin', 'Pagano', 'Zhikharevitch', 'Avdiysky', 'Irvine', 'Hudyak', 'Oorschot', 'Babosov', 'Daher', 'Ukhobotin', 'Agrashev', 'Showell', 'Serjantov', 'Edkins', 'Siegel', 'Durnovo', 'Totolos', 'Awad', 'Zogby', 'Adaksin', 'Grigoraschuk', 'Chalyh', 'Jo', 'Rouse', 'Milford', 'Stanley', 'Agzamoff', 'Mansour', 'Nataga', 'Chertykov', 'Kayes', 'Jamussa', 'Amsel', 'Zenbitsky', 'Wardle', 'Kuai', 'Lunn', 'Archambault', 'Seow', 'Avranek', 'Symes', 'Egiazarov', 'Yagunov', 'Astronomov', 'Otellin', 'Jidelev', 'Losenko', 'Zheimo', 'Granik', 'Read', 'Endolov', 'Dieter', 'Pahtel', 'Vyzhletsov', 'Hansen', 'Leone', 'Kruse', 'Houtum', 'Jablochkov', 'Richelieu', 'Kouri', 'Jabrov', 'Jovnir', 'Kon', 'Aihara', 'Mohosoev', 'Mlotkovsky', 'Jufryakov', 'Vilenchik', 'Jevakhov', 'Barlow', 'Chevalier', 'Halilulin', 'Maloof', 'Samaha', 'Cornock', 'Lawal', 'Broomfield', 'Nakadan', 'Vyacheslavov', 'Defabr', 'Mordberg', 'Andropov', 'Wilkshire', 'Tikhobrazov', 'Africano', 'Malouf', 'Tikhmenev', 'Zogby', 'Mckee', 'Ashurst', 'Bakhtiarov', 'Tzarenko', 'Teteruk', 'Limoshin', 'Derchansky', 'Paradzinsky', 'Adler', 'Seredkin', 'Tsuji', 'Avakov', 'Sabbag', 'Bonheur', 'Shakhnovsky', 'Chertushkin', 'Flann', 'Belyavsky', 'Babuh', 'Vesin', 'Senyakovich', 'Abuladze', 'Ritter', 'Martyshkin', 'Touma', 'Tsakh', 'Penkin', 'Vestfrid', 'Kanes', 'Isa', 'Tchehoev', 'Haynes', 'Gardener', 'Cham', 'Pirashkov', 'Keegan', 'Krauss', 'Pitcher', 'Moroney', 'Sarraf', 'Leboperov', 'Yagodin', 'Gau', 'Agratchev', 'Mustafa', 'Pontovich', 'Richter', 'Baibikoff', 'Turbin', 'Medved', 'Valy', 'Hume', 'Connolly', 'Godwin', 'Vajorov', 'Mikhels', 'Vikers', 'Schallom', 'Katsushika', 'Harkovsky', 'Ahmad', 'Demidovich', 'Corner', 'Zhitkov', 'Rogatkin', 'Bitar', 'Meeuwissen', 'Seok', 'Koury', 'Tchaly', 'Hlybov', 'Dohman', 'Mayuzumi', 'Abkin', 'Lapir', 'Boutros', 'Albuquerque', 'Woodhall', 'Chertov', 'Dobroklonsky', 'Quraishi', 'Cashmore', 'Almasi', 'Kalita', 'Christy', 'Adachi', 'Lapenkov', 'Gallutdinov', 'Robakidze', 'Harker', 'Aswad', 'Mokh', 'Ufimov', 'Stuart', 'Jarikov', 'Glen', 'Roijakkers', 'Tsarkov', 'Basara', 'Krhovsky', 'Pohlebaev', 'Bezubyak', 'Mcnab', 'Frumkin', 'Agadjanoff', 'Morisue', 'Shamuzafarov', 'Bonaventura', 'Cheung', 'Shakhnovich', 'Shammazov', 'Yakimychev', \"O'Hagan\", 'Mcauley', 'Khoo', 'Sheehy', 'Kyle', 'Zhelvakov', 'Abalov', 'Fadeev', 'Chukhadzhyan', 'Pavlyuchenko', 'Valitsky', 'Xin', 'King', 'Wen', 'De ath', 'Mcfadden', 'Velikanov', 'Ashby', 'Schetinkin', 'Raihert', 'Enin', 'Veitch', 'Vygovsky', 'Glaziev', 'Laing', 'Tsukatani', 'Tokuoka', 'Duff', 'Ryzhankov', 'Djumaev', 'Shalagaev', 'Pitkevich', 'Henkin', 'Jurkov', 'Harb', 'Badykshanov', 'Shalnev', 'Shalitkin', 'Shalahonov', 'Bazzi', 'Shalmanov', 'Miheenkov', 'Nakhapetov', 'Martyanchik', 'Sissons', 'Bakshtanowski', 'Shahin', 'Woolnough', 'Habin', 'Balaban', 'Eventov', 'Belmonte', 'Chehoev', 'Lieberenz', 'Turkington', 'Bakhelov', 'Wasem', 'Tahan', 'Frederick', 'Groshovkin', 'Danshin', 'Leitch', 'Horohorkin', 'Mikhilev', 'Golosnenko', 'Matsigura', 'Nujdin', 'Woodford', 'Duerr', 'Kill', 'Bagimoff', 'Baistryuchenko', 'Schnur', 'Kuang', 'Auttenberg', 'Lezhikov', 'Trotman', 'Zelenko', 'Fromberg', 'French', 'Turtygin', 'Chershintsev', 'Grandberg', 'Rjevsky', 'Dzhibuti', 'Drago', 'Sebastiani', 'Tzakh', 'Yanjul', 'Vikulin', 'Rahal', 'Vadeev', 'Mozhar', 'Jacks', 'Aller', 'Truchanow', 'Bahar', 'Rotshtein', 'Matsnev', 'Nomikos', 'Mencher', 'Beckenbauer', 'Shahpaev', 'Jurbin', 'Tsukada', 'Abdulin', 'Dovlatov', 'Hamitsev', 'Hardin', 'Khouri', 'Zolin', 'Kartaev', 'Quinn', 'Gai', 'Eger', 'Borgogni', 'Totah', 'Liverovsky', 'Ajibana', 'Angelopoulos', 'Katsovsky', 'Storey', 'Rzheshotarsky', 'Abelman', 'Woods', 'Owen', 'Uno', 'Jijikin', 'Tzalikov', 'Andrukhovich', 'Hasis', 'Juzvikov', 'Fell', 'Takano', 'Shamoun', 'Tueshev', 'Albutt', 'Leitz', 'Molochkov', 'Pechnikov', 'Bakulev', 'Issa', 'Zhalagin', 'Chukhalov', 'Gasilov', 'Masih', 'Arian', 'Belnov', 'Varakuta', 'Aldersley', 'Jijemsky', 'Zhdan', 'Shionoya', 'Sisson', 'Long', 'Frazer', 'Oberti', 'Coles', 'Valentik', 'Reijnders', 'Geier', 'Agroskin', 'Essa', 'Pillay', 'Omarjanov', 'Ullman', 'Gong', 'Nazario', 'Marutsky', 'Slocombe', 'Riggi', 'Jumonji', 'Griffin', 'Veevers', 'Gagin', 'Ryzhey', 'Leonenko', 'Jufit', 'Yagello', 'Abdrakhmanoff', 'Jafrakov', 'Edlington', 'Abboud', 'Tombs', 'Yukalov', 'Tomonaga', 'Gerald', 'Gudoshin', 'Androsyuk', 'Mahmudov', 'Maksimchenko', 'Knights', 'Markhinin', 'Galkin', 'Kilroy', 'Deryujinsky', 'Androsenko', 'Hajjar', 'Nigro', 'Juzhenko', 'Schwarzenegger', 'Downing', 'Bereznev', 'Abramyan', 'Abasheev', 'Azhiganoff', 'Donlan', 'Aeschelman', 'Dzhelepov', 'Augustin', 'Jadov', 'Amador', 'Anekshtein', 'Esionov', 'Mihaltsev', 'Casey', 'Pytov', 'Bilenshtein', 'Riga', 'Kools', 'Matseyovsky', 'Agapoff', 'Autlev', 'Damon', 'Ghannam', 'Panoulias', 'Bakhovkin', 'Yakon', 'Botros', 'Prigozhy', 'Paul', 'Jaboev', 'Snaaijer', 'Libkin', 'Zhilyardy', 'Hanzlick', 'Cheshire', 'Pereira', 'Nicolosi', 'Byrne', 'Episcopo', 'Hitomi', 'Ikina', 'Glubotsky', 'Bairamukov', 'Zheleznyak', 'Kuramoto', 'Eremchenko', 'Eganyan', 'Gladilin', 'Lysikov', 'Shamaro', 'Kawakami', 'Rakhletzky', 'Molorodov', 'Mansour', 'Jardine', 'Schoettmer', 'Thach', 'Willetts', 'Numajiri', 'Malinowski', \"O'Callaghann\", 'Sauvageot', 'Yakir', 'Haik', 'Ewin', 'Vanjula', 'Mansour', 'Falco', 'Kozlowski', 'Shadid', 'Luckhurst', 'Guzilov', 'Halikov', 'Lichenko', 'Levish', 'Tannous', 'Whitham', 'Dahl', 'Abdulkadyroff', 'Everitt', 'Abel', 'Haidin', 'Rodrigues', 'Zhizhemsky', 'Danas', 'Trafford', 'Dubnikov', 'Schmidt', 'Shimaoka', 'Mace', 'Isa', 'Quinones', 'Tumolsky', 'Gleave', 'Spencer', 'Chukhrov', 'Bauer', 'Beloded', 'Ormiston', 'Babilyas', 'Guerra', 'Krupala', 'Knigge', 'Privalihin', 'Simoes', 'Takayama', 'Lihodeev', 'Fistal', 'Kabachnik', 'Tahan', 'Passerini', 'Grojantsev', 'Engelke', 'Poshekhonov', 'Chertkovsky', 'Ba', 'Awdyushin', 'Elinson', 'Chekin', 'Elwood', 'Rory', 'Elepin', 'Naser', 'Abramchuk', 'Moshkin', 'Adriankin', 'Porodnya', 'Babansky', 'Grushikhin', 'Foya', 'Shel', 'Kiernan', 'Abboud', 'Vu', 'Mantovani', 'Kumar', 'Yudkov', 'Jagutkin', 'Bakheloff', 'Dubrovin', 'Pinter', 'Sum', 'Jadin', 'Odonnell', 'Rekunkov', 'Lupov', 'Talroze', 'Ketley', 'Broadbent', 'Maslanka', 'Holschevnikov', 'Molodyh', 'Tsarevsky', 'Peyton', 'Cherov', 'Ukhanov', 'Jacobson', 'Strachan', 'Ludgrove', 'Awturkhanoff', 'Nemec', 'Maus', 'Halabi', 'Niles', 'Richman', 'Chekachev', 'Vinterfeldt', 'Kempster', 'Pitukhin', 'Abadi', 'Davydkin', 'Ramsey', 'Seeger', 'Openshaw', 'Janvier', 'Hazipov', \"Dar'In\", 'Tzarkov', 'Mojar', 'Schwinghammer', 'Fitch', 'Maalouf', 'Darcy', 'Ying', 'Bakharev', 'Mikhail', 'Ghannam', 'Philpott', 'Zavodchikov', 'Jukhimenko', 'Napper', 'Watoga', 'Torney', 'Abrosov', 'Lanham', 'Dats', 'Ruzanov', 'Lohmatikov', 'Piterskih', 'Kattan', 'Burgess', 'Jurakovsky', 'Gauk', 'Lupehin', 'Ustinovich', 'Djuro', 'Ageshin', 'Aonghus', 'Stawski', 'Beltov', 'Morcos', 'Hindle', 'Saks', 'Daher', 'Timonnikov', 'Toma', 'Olivier', 'Shenaev', 'Mordasov', 'Vavrovsky', 'Bekh', 'Teterichev', 'Strange', 'Uhabin', 'Davidyuk', 'Kassab', 'Boutros', 'Djarimov', 'Atramov', 'Holshevnikov', 'Pakhunov', 'Najjar', 'Kouri', 'Hakhanyan', 'Arnolfi', 'Zimnitsky', 'Malouf', 'Thornton', 'Awramoff', 'Cleirich', 'Belotserkovets', 'Dzhura', 'Hira', 'Haruguchi', 'Tamanyan', 'Okanaya', 'Doinikov', 'Tchekhovsky', 'Lysov', 'Vaikin', 'Sherry', 'Nassar', 'Davidchuk', 'Lezhankov', 'Godfrey', 'Zenkevich', 'Hernandez', 'Turta', 'Lojchenko', 'Quiros', 'Belman', 'Isnard', 'Fiscella', 'Peel', 'Itami', 'Mihel', 'Yeon', 'Penkovsky', 'Shahnazaryan', 'Rodwell', 'Mansour', 'Rowlands', 'Pilkington', 'Jebson', 'Lepekhin', 'Juravov', 'Avik', 'Kearton', 'Makharov', 'Schwartz', 'Muzykin', 'Fraser', 'Tumanovsky', 'Seif', 'Baboshkin', 'Rheem', 'Breen', 'Dobrivsky', 'Katzev', 'Elizondo', 'Jankevich', 'Handzlik', 'Coll', 'Finfera', 'Monomonoi', 'Garcon', 'Kassis', 'Almasi', 'Kappel', 'Nuallan', 'Dubinin', 'Minnikov', 'Hulhachiev', 'Babenko', 'Nastoyaschy', 'Timiryazev', 'Ledger', 'Vilinbahov', 'Kitchin', 'Hellier', 'Asghar', 'Takashita', 'Matsevich', 'Pochekin', 'Vannikov', 'Molov', 'Beloschin', 'Jushman', 'Dojdikov', 'Grogan', 'Bancroft', 'Abletsoff', 'Agramunt', 'Tupikov', 'Hajjar', 'Natochin', 'Kucharova', 'Vihlyaev', 'Phipps', 'Yatskov', 'Whyte', 'Eansworth', 'Caiazzo', 'Tzeidler', 'Wakatsuki', 'Lupo', 'Epsom', 'Kartunov', 'Martsevich', 'Sleiman', 'Anikeev', 'Ruadhan', 'Antoshkin', 'Kawamata', 'Forsythe', 'Demall', 'Baklanov', 'Mokhnatsky', 'Obyedkov', 'Fabrichnikov', 'Sutherland', 'Pylnev', 'Avagimov', 'Reiher', 'Lebeau', 'Wildman', 'Atiyeh', 'Bak', 'Oriol', 'Gaspari', 'Katzenelenbaum', 'Tsaplin', 'Ruzakov', 'Hiraoka', 'Mifsud', 'Zaruba', 'Weiss', 'Juruli', 'Gehring', 'Croucher', 'Banh', 'Dikolenko', 'Papageorge', 'Haesh', 'Tange', 'Shadid', 'Doguzov', 'Likhodedov', 'Omegov', 'Rusu', 'Willett', 'Essa', 'Greensmith', 'Tzenin', 'Assaf', 'Morduhovich', 'Kaufman', 'Bawilin', \"Zasyad'Ko\", 'Chalykh', 'Marks', 'Cadman', 'Adjubei', 'Endogurov', 'Asker', 'Hase', 'Chepurnov', 'Jamaletdinov', 'Valchuk', 'Kaplanek', 'Hadjula', 'Jituhin', 'Dorofeev', 'Artyukhov', 'Wakeford', 'Whitworth', 'Kloet', 'Adler', 'Bakunov', 'Reyes', 'Meeuwes', 'Priemykhov', 'Ustkachkintsev', 'Gordeev', 'Enomoto', 'Pagaev', 'Fin', 'Osborne', 'Kassis', 'Schetinin', 'Tzenkovsky', 'Noro', 'Reese', 'Shanaev', 'Handal', 'Talpin', \"O'Donnell\", 'Naser', 'Gukov', 'Hashachih', 'Bazzi', 'Moshnyaga', 'Bakshanski', 'Davydenkov', 'Akkeren', 'Breisacher', 'Adyan', 'Damell', 'Pemberton', 'Bianchi', 'Matasov', 'Grinham', 'Agurski', 'Symonds', 'Nazari', 'Kalimahi', 'Shakhnazaryan', 'Paraskevopoulos', 'Awad', 'Puschin', 'Cox', 'Albanov', 'Fried', 'Hajjar', 'Holoshin', 'Naser', 'Saidullaev', 'Calpis', 'Gayanov', 'Moorhouse', 'Kartoshkin', 'Maksimyuk', 'Birnbaum', 'Lapointe', 'Shikitei', 'Hanyutin', 'Anuriev', 'Libson', 'Gerges', 'Morcos', 'Fugunaga', 'Hoffman', 'Imai', 'Hoteev', 'Morenshildt', 'Egr', 'Jatsyshin', 'Flower', 'Yadrihinsky', 'Tsekhmistrenko', 'Gluhonkov', 'Likunov', 'Nasledov', 'Baturin', 'Graham', 'Quraishi', 'Khouri', 'Maalouf', 'Mozhartsev', 'Ustimenko', 'Horoshkevich', 'Goring', 'Eilenkrig', 'Albanesi', 'Zhabsky', 'Farrar', 'Ferreira', 'Haggett', 'Buck', 'Lapaev', 'Vykhodtsev', 'Gudilin', 'Readman', 'Adriatico', 'Mathews', 'Daher', 'Avladeev', 'Avtukhov', 'Ichiyusai', 'Ratti', 'Tsangaris', 'Deguchi', 'Woodham', 'Klerkse', 'Tatlock', 'Leiman', 'Bajan', 'Hapsirokov', 'Tziolkovsky', 'Egle', 'Ngo', 'Djincharadze', 'Kalb', 'Tropinov', 'Ball', 'Asghar', 'Che', 'Mustafa', 'Talkovsky', 'Portyankin', 'Harin', 'Rovnev', 'Prygoda', 'Jenkins', 'Tisdall', 'Abana', 'Rott', 'Lebed', 'Glavak', 'Allan', 'Kudrna', 'Mischenkov', 'Matsuki', 'Eccott', 'Ghanem', 'Zharsky', 'Brunton', 'Berezovoi', 'Rick', 'Keffler', 'Kouri', 'Ba', 'Serednyakov', 'Grigorishin', 'Houlton', 'Ardiccioni', 'Ablyazov', 'Zinyuhin', 'Vild', 'Tulakov', 'Iskandaryan', 'Balazowski', 'Berger', 'Hankoev', 'Titterington', 'Amari', 'Rukhlyada', 'Timpy', 'Saliba', 'Baitoff', 'Arian', 'Totah', 'Di pietro', 'Valentsev', 'Fleming', 'Aswad', 'Ganem', 'Sarkozi', 'Shamon', 'Hartmann', 'Baidavletoff', 'Hoare', 'Bell', 'Leeuwenhoek', 'Zhelnin', 'Turischev', 'Ujvak', 'Ataev', 'Ba', 'Kenyon', 'Locke', 'Zappa', 'Sarumara', 'Tchekhlakovsky', 'Ohira', 'Down', 'Takagawa', 'Davletgaraev', 'Tettenborn', 'Duckworth', 'Dan', 'Babienko', 'Terakado', 'Imatkulov', 'Kaube', 'Vazhenin', 'Peftiev', 'Meredith', 'Mkrtumov', 'Harlampovich', 'Tieu', 'Mashita', 'Lawler', 'Dubenetsky', 'Finnigan', 'Strand', 'Wrench', 'Harb', 'Raihelgauz', 'Thomson', 'Mishima', 'Tselischev', 'Harkov', 'Ukhabin', 'Saifutdinov', 'Hubiev', 'Cunningham', 'Pickford', 'Viney', 'Zhizdik', 'Polivkin', 'Friel', 'Rose', 'Hudokormov', 'Jadrov', 'Ramecker', 'Dardyk', 'Dobbins', 'Gould', 'Arvanitoyannis', 'Batchyanskas', 'Maroun', 'Ba', 'Carrara', 'Aiello', 'Tihy', 'Dubois', 'Oesterreicher', 'Iwahara', 'Kitchen', 'Bahtiarov', 'Gortikov', 'Fakhoury', 'Yamabe', 'Takeuchi', 'Porokh', 'Mihalchuk', 'Plisetsky', 'Awad', 'Maryshev', 'So', 'Fernyhough', 'Bruno', 'Tomeev', 'Kibblewhite', 'Zhivaev', 'Plihin', 'Pyanochenko', 'Oborkin', 'Mnogogreshny', 'Mizutani', 'Martyuk', 'Maloof']\n"
     ]
    }
   ],
   "source": [
    "print(X_train)"
   ]
  },
  {
   "cell_type": "code",
   "execution_count": 10,
   "metadata": {
    "execution": {
     "iopub.execute_input": "2021-04-12T07:37:56.340749Z",
     "iopub.status.busy": "2021-04-12T07:37:56.339985Z",
     "iopub.status.idle": "2021-04-12T07:37:56.343646Z",
     "shell.execute_reply": "2021-04-12T07:37:56.344318Z"
    },
    "papermill": {
     "duration": 0.04176,
     "end_time": "2021-04-12T07:37:56.344511",
     "exception": false,
     "start_time": "2021-04-12T07:37:56.302751",
     "status": "completed"
    },
    "tags": []
   },
   "outputs": [
    {
     "name": "stdout",
     "output_type": "stream",
     "text": [
      "16040 4010\n"
     ]
    }
   ],
   "source": [
    "print(len(X_train), len(X_test))"
   ]
  },
  {
   "cell_type": "markdown",
   "metadata": {
    "papermill": {
     "duration": 0.033143,
     "end_time": "2021-04-12T07:37:56.411904",
     "exception": false,
     "start_time": "2021-04-12T07:37:56.378761",
     "status": "completed"
    },
    "tags": []
   },
   "source": [
    "### Encoding names and language"
   ]
  },
  {
   "cell_type": "code",
   "execution_count": 11,
   "metadata": {
    "execution": {
     "iopub.execute_input": "2021-04-12T07:37:56.483058Z",
     "iopub.status.busy": "2021-04-12T07:37:56.482301Z",
     "iopub.status.idle": "2021-04-12T07:37:56.485229Z",
     "shell.execute_reply": "2021-04-12T07:37:56.484799Z"
    },
    "papermill": {
     "duration": 0.040357,
     "end_time": "2021-04-12T07:37:56.485360",
     "exception": false,
     "start_time": "2021-04-12T07:37:56.445003",
     "status": "completed"
    },
    "tags": []
   },
   "outputs": [],
   "source": [
    "all_letters = string.ascii_letters + \" .,;'\"\n",
    "n_letters = len(all_letters)"
   ]
  },
  {
   "cell_type": "code",
   "execution_count": 12,
   "metadata": {
    "execution": {
     "iopub.execute_input": "2021-04-12T07:37:56.558486Z",
     "iopub.status.busy": "2021-04-12T07:37:56.557729Z",
     "iopub.status.idle": "2021-04-12T07:37:56.560814Z",
     "shell.execute_reply": "2021-04-12T07:37:56.561272Z"
    },
    "papermill": {
     "duration": 0.042746,
     "end_time": "2021-04-12T07:37:56.561412",
     "exception": false,
     "start_time": "2021-04-12T07:37:56.518666",
     "status": "completed"
    },
    "tags": []
   },
   "outputs": [
    {
     "data": {
      "text/plain": [
       "\"abcdefghijklmnopqrstuvwxyzABCDEFGHIJKLMNOPQRSTUVWXYZ .,;'\""
      ]
     },
     "execution_count": 12,
     "metadata": {},
     "output_type": "execute_result"
    }
   ],
   "source": [
    "all_letters"
   ]
  },
  {
   "cell_type": "code",
   "execution_count": 13,
   "metadata": {
    "execution": {
     "iopub.execute_input": "2021-04-12T07:37:56.633546Z",
     "iopub.status.busy": "2021-04-12T07:37:56.632818Z",
     "iopub.status.idle": "2021-04-12T07:37:56.635249Z",
     "shell.execute_reply": "2021-04-12T07:37:56.635918Z"
    },
    "papermill": {
     "duration": 0.041273,
     "end_time": "2021-04-12T07:37:56.636064",
     "exception": false,
     "start_time": "2021-04-12T07:37:56.594791",
     "status": "completed"
    },
    "tags": []
   },
   "outputs": [],
   "source": [
    "def name_rep(name):\n",
    "    rep = torch.zeros(len(name), 1, n_letters)\n",
    "    for index, letter in enumerate(name):\n",
    "        pos = all_letters.find(letter)\n",
    "        rep[index][0][pos] = 1\n",
    "    return rep"
   ]
  },
  {
   "cell_type": "code",
   "execution_count": 14,
   "metadata": {
    "execution": {
     "iopub.execute_input": "2021-04-12T07:37:56.707784Z",
     "iopub.status.busy": "2021-04-12T07:37:56.706958Z",
     "iopub.status.idle": "2021-04-12T07:37:56.709837Z",
     "shell.execute_reply": "2021-04-12T07:37:56.709330Z"
    },
    "papermill": {
     "duration": 0.040465,
     "end_time": "2021-04-12T07:37:56.709947",
     "exception": false,
     "start_time": "2021-04-12T07:37:56.669482",
     "status": "completed"
    },
    "tags": []
   },
   "outputs": [],
   "source": [
    "def lang_rep(lang):\n",
    "    return torch.tensor([languages.index(lang)], dtype=torch.long)"
   ]
  },
  {
   "cell_type": "code",
   "execution_count": 15,
   "metadata": {
    "execution": {
     "iopub.execute_input": "2021-04-12T07:37:56.782513Z",
     "iopub.status.busy": "2021-04-12T07:37:56.781807Z",
     "iopub.status.idle": "2021-04-12T07:37:56.847133Z",
     "shell.execute_reply": "2021-04-12T07:37:56.847556Z"
    },
    "papermill": {
     "duration": 0.10425,
     "end_time": "2021-04-12T07:37:56.847716",
     "exception": false,
     "start_time": "2021-04-12T07:37:56.743466",
     "status": "completed"
    },
    "tags": []
   },
   "outputs": [
    {
     "data": {
      "text/plain": [
       "tensor([[[0., 0., 0., 0., 0., 0., 0., 0., 0., 0., 0., 0., 0., 0., 0., 0., 0.,\n",
       "          0., 0., 0., 0., 0., 0., 0., 0., 0., 1., 0., 0., 0., 0., 0., 0., 0.,\n",
       "          0., 0., 0., 0., 0., 0., 0., 0., 0., 0., 0., 0., 0., 0., 0., 0., 0.,\n",
       "          0., 0., 0., 0., 0., 0.]],\n",
       "\n",
       "        [[0., 1., 0., 0., 0., 0., 0., 0., 0., 0., 0., 0., 0., 0., 0., 0., 0.,\n",
       "          0., 0., 0., 0., 0., 0., 0., 0., 0., 0., 0., 0., 0., 0., 0., 0., 0.,\n",
       "          0., 0., 0., 0., 0., 0., 0., 0., 0., 0., 0., 0., 0., 0., 0., 0., 0.,\n",
       "          0., 0., 0., 0., 0., 0.]],\n",
       "\n",
       "        [[0., 0., 0., 0., 0., 0., 0., 0., 0., 0., 0., 0., 0., 0., 0., 0., 0.,\n",
       "          1., 0., 0., 0., 0., 0., 0., 0., 0., 0., 0., 0., 0., 0., 0., 0., 0.,\n",
       "          0., 0., 0., 0., 0., 0., 0., 0., 0., 0., 0., 0., 0., 0., 0., 0., 0.,\n",
       "          0., 0., 0., 0., 0., 0.]],\n",
       "\n",
       "        [[0., 0., 0., 0., 1., 0., 0., 0., 0., 0., 0., 0., 0., 0., 0., 0., 0.,\n",
       "          0., 0., 0., 0., 0., 0., 0., 0., 0., 0., 0., 0., 0., 0., 0., 0., 0.,\n",
       "          0., 0., 0., 0., 0., 0., 0., 0., 0., 0., 0., 0., 0., 0., 0., 0., 0.,\n",
       "          0., 0., 0., 0., 0., 0.]],\n",
       "\n",
       "        [[0., 0., 0., 0., 0., 0., 0., 0., 0., 0., 0., 0., 0., 0., 0., 0., 0.,\n",
       "          0., 0., 0., 1., 0., 0., 0., 0., 0., 0., 0., 0., 0., 0., 0., 0., 0.,\n",
       "          0., 0., 0., 0., 0., 0., 0., 0., 0., 0., 0., 0., 0., 0., 0., 0., 0.,\n",
       "          0., 0., 0., 0., 0., 0.]]])"
      ]
     },
     "execution_count": 15,
     "metadata": {},
     "output_type": "execute_result"
    }
   ],
   "source": [
    "name_rep('Abreu')"
   ]
  },
  {
   "cell_type": "code",
   "execution_count": 16,
   "metadata": {
    "execution": {
     "iopub.execute_input": "2021-04-12T07:37:56.922076Z",
     "iopub.status.busy": "2021-04-12T07:37:56.921206Z",
     "iopub.status.idle": "2021-04-12T07:37:56.925480Z",
     "shell.execute_reply": "2021-04-12T07:37:56.925003Z"
    },
    "papermill": {
     "duration": 0.042973,
     "end_time": "2021-04-12T07:37:56.925600",
     "exception": false,
     "start_time": "2021-04-12T07:37:56.882627",
     "status": "completed"
    },
    "tags": []
   },
   "outputs": [
    {
     "data": {
      "text/plain": [
       "tensor([0])"
      ]
     },
     "execution_count": 16,
     "metadata": {},
     "output_type": "execute_result"
    }
   ],
   "source": [
    "lang_rep('Portuguese')"
   ]
  },
  {
   "cell_type": "markdown",
   "metadata": {
    "papermill": {
     "duration": 0.034861,
     "end_time": "2021-04-12T07:37:56.995725",
     "exception": false,
     "start_time": "2021-04-12T07:37:56.960864",
     "status": "completed"
    },
    "tags": []
   },
   "source": [
    "### Basic Visualisation"
   ]
  },
  {
   "cell_type": "code",
   "execution_count": 17,
   "metadata": {
    "execution": {
     "iopub.execute_input": "2021-04-12T07:37:57.076459Z",
     "iopub.status.busy": "2021-04-12T07:37:57.075640Z",
     "iopub.status.idle": "2021-04-12T07:37:57.078493Z",
     "shell.execute_reply": "2021-04-12T07:37:57.078052Z"
    },
    "papermill": {
     "duration": 0.047749,
     "end_time": "2021-04-12T07:37:57.078613",
     "exception": false,
     "start_time": "2021-04-12T07:37:57.030864",
     "status": "completed"
    },
    "tags": []
   },
   "outputs": [],
   "source": [
    "count = {}\n",
    "for l in languages:\n",
    "    count[l] = 0\n",
    "for d in data:\n",
    "    count[d[1]] += 1"
   ]
  },
  {
   "cell_type": "code",
   "execution_count": 18,
   "metadata": {
    "execution": {
     "iopub.execute_input": "2021-04-12T07:37:57.153385Z",
     "iopub.status.busy": "2021-04-12T07:37:57.152644Z",
     "iopub.status.idle": "2021-04-12T07:37:57.156066Z",
     "shell.execute_reply": "2021-04-12T07:37:57.156654Z"
    },
    "papermill": {
     "duration": 0.043022,
     "end_time": "2021-04-12T07:37:57.156846",
     "exception": false,
     "start_time": "2021-04-12T07:37:57.113824",
     "status": "completed"
    },
    "tags": []
   },
   "outputs": [
    {
     "name": "stdout",
     "output_type": "stream",
     "text": [
      "{'Portuguese': 74, 'Irish': 232, 'Spanish': 298, 'Vietnamese': 73, 'Chinese': 268, 'Greek': 203, 'Czech': 519, 'Dutch': 297, 'Japanese': 991, 'French': 277, 'German': 724, 'Scottish': 100, 'English': 3668, 'Russian': 9384, 'Polish': 139, 'Arabic': 2000, 'Korean': 94, 'Italian': 709}\n"
     ]
    }
   ],
   "source": [
    "print(count)"
   ]
  },
  {
   "cell_type": "code",
   "execution_count": 19,
   "metadata": {
    "execution": {
     "iopub.execute_input": "2021-04-12T07:37:57.233030Z",
     "iopub.status.busy": "2021-04-12T07:37:57.232305Z",
     "iopub.status.idle": "2021-04-12T07:37:57.474719Z",
     "shell.execute_reply": "2021-04-12T07:37:57.474303Z"
    },
    "papermill": {
     "duration": 0.281674,
     "end_time": "2021-04-12T07:37:57.474850",
     "exception": false,
     "start_time": "2021-04-12T07:37:57.193176",
     "status": "completed"
    },
    "tags": []
   },
   "outputs": [
    {
     "name": "stderr",
     "output_type": "stream",
     "text": [
      "/opt/conda/lib/python3.7/site-packages/seaborn/_decorators.py:43: FutureWarning: Pass the following variables as keyword args: x, y. From version 0.12, the only valid positional argument will be `data`, and passing other arguments without an explicit keyword will result in an error or misinterpretation.\n",
      "  FutureWarning\n"
     ]
    },
    {
     "data": {
      "image/png": "[encoded data removed]",
      "text/plain": [
       "<Figure size 432x288 with 1 Axes>"
      ]
     },
     "metadata": {
      "needs_background": "light"
     },
     "output_type": "display_data"
    }
   ],
   "source": [
    "plt_ = sns.barplot(list(count.keys()), list(count.values()))\n",
    "plt_.set_xticklabels(plt_.get_xticklabels(),rotation=90)\n",
    "plt.show()"
   ]
  },
  {
   "cell_type": "markdown",
   "metadata": {
    "papermill": {
     "duration": 0.036029,
     "end_time": "2021-04-12T07:37:57.546987",
     "exception": false,
     "start_time": "2021-04-12T07:37:57.510958",
     "status": "completed"
    },
    "tags": []
   },
   "source": [
    "### Basic Network and testing inference"
   ]
  },
  {
   "cell_type": "code",
   "execution_count": 20,
   "metadata": {
    "execution": {
     "iopub.execute_input": "2021-04-12T07:37:57.626876Z",
     "iopub.status.busy": "2021-04-12T07:37:57.626116Z",
     "iopub.status.idle": "2021-04-12T07:37:57.628996Z",
     "shell.execute_reply": "2021-04-12T07:37:57.628600Z"
    },
    "papermill": {
     "duration": 0.045771,
     "end_time": "2021-04-12T07:37:57.629125",
     "exception": false,
     "start_time": "2021-04-12T07:37:57.583354",
     "status": "completed"
    },
    "tags": []
   },
   "outputs": [],
   "source": [
    "class RNN_net(nn.Module):\n",
    "    def __init__(self, input_size, hidden_size, output_size):\n",
    "        super(RNN_net, self).__init__()\n",
    "        self.hidden_size = hidden_size\n",
    "        self.rnn_cell = nn.RNN(input_size, hidden_size)\n",
    "        self.h2o = nn.Linear(hidden_size, output_size)\n",
    "        self.softmax = nn.LogSoftmax(dim=1)\n",
    "    \n",
    "    def forward(self, input_, hidden = None, batch_size = 1):\n",
    "        out, hidden = self.rnn_cell(input_, hidden)\n",
    "        output = self.h2o(hidden.view(-1, self.hidden_size))\n",
    "        output = self.softmax(output)\n",
    "        return output, hidden\n",
    "    \n",
    "    def init_hidden(self, batch_size = 1):\n",
    "        return torch.zeros(1, batch_size, self.hidden_size)"
   ]
  },
  {
   "cell_type": "code",
   "execution_count": 21,
   "metadata": {
    "execution": {
     "iopub.execute_input": "2021-04-12T07:37:57.706000Z",
     "iopub.status.busy": "2021-04-12T07:37:57.705349Z",
     "iopub.status.idle": "2021-04-12T07:37:57.713354Z",
     "shell.execute_reply": "2021-04-12T07:37:57.712929Z"
    },
    "papermill": {
     "duration": 0.048289,
     "end_time": "2021-04-12T07:37:57.713473",
     "exception": false,
     "start_time": "2021-04-12T07:37:57.665184",
     "status": "completed"
    },
    "tags": []
   },
   "outputs": [],
   "source": [
    "n_hidden = 128\n",
    "net = RNN_net(n_letters, n_hidden, n_languages)"
   ]
  },
  {
   "cell_type": "code",
   "execution_count": 22,
   "metadata": {
    "execution": {
     "iopub.execute_input": "2021-04-12T07:37:57.791915Z",
     "iopub.status.busy": "2021-04-12T07:37:57.791162Z",
     "iopub.status.idle": "2021-04-12T07:37:57.793618Z",
     "shell.execute_reply": "2021-04-12T07:37:57.793986Z"
    },
    "papermill": {
     "duration": 0.044159,
     "end_time": "2021-04-12T07:37:57.794139",
     "exception": false,
     "start_time": "2021-04-12T07:37:57.749980",
     "status": "completed"
    },
    "tags": []
   },
   "outputs": [],
   "source": [
    "def infer(net, name, device = 'cpu'):\n",
    "    name_ohe = name_rep(name).to(device)\n",
    "    \n",
    "    output, hidden = net(name_ohe)\n",
    "        \n",
    "    if type(hidden) is tuple: # For LSTM\n",
    "        hidden = hidden[0]\n",
    "    index = torch.argmax(hidden)\n",
    "    \n",
    "    return output"
   ]
  },
  {
   "cell_type": "code",
   "execution_count": 23,
   "metadata": {
    "execution": {
     "iopub.execute_input": "2021-04-12T07:37:57.887805Z",
     "iopub.status.busy": "2021-04-12T07:37:57.886645Z",
     "iopub.status.idle": "2021-04-12T07:37:57.959347Z",
     "shell.execute_reply": "2021-04-12T07:37:57.960689Z"
    },
    "papermill": {
     "duration": 0.130241,
     "end_time": "2021-04-12T07:37:57.960922",
     "exception": false,
     "start_time": "2021-04-12T07:37:57.830681",
     "status": "completed"
    },
    "tags": []
   },
   "outputs": [
    {
     "data": {
      "text/plain": [
       "tensor([[-2.9397, -2.8723, -2.8658, -2.9468, -2.8009, -2.8261, -2.8311, -2.9006,\n",
       "         -3.0482, -2.9506, -3.0368, -2.9434, -2.7790, -2.9250, -2.9422, -2.8976,\n",
       "         -2.7726, -2.8039]], grad_fn=<LogSoftmaxBackward>)"
      ]
     },
     "execution_count": 23,
     "metadata": {},
     "output_type": "execute_result"
    }
   ],
   "source": [
    "# output = \n",
    "infer(net, 'Adam')\n",
    "# index = torch.argmax(output)\n",
    "# print(output, index)"
   ]
  },
  {
   "cell_type": "markdown",
   "metadata": {
    "papermill": {
     "duration": 0.059563,
     "end_time": "2021-04-12T07:37:58.089143",
     "exception": false,
     "start_time": "2021-04-12T07:37:58.029580",
     "status": "completed"
    },
    "tags": []
   },
   "source": [
    "### Evaluate Model"
   ]
  },
  {
   "cell_type": "code",
   "execution_count": 24,
   "metadata": {
    "execution": {
     "iopub.execute_input": "2021-04-12T07:37:58.219008Z",
     "iopub.status.busy": "2021-04-12T07:37:58.218016Z",
     "iopub.status.idle": "2021-04-12T07:37:58.222307Z",
     "shell.execute_reply": "2021-04-12T07:37:58.222952Z"
    },
    "papermill": {
     "duration": 0.073723,
     "end_time": "2021-04-12T07:37:58.223196",
     "exception": false,
     "start_time": "2021-04-12T07:37:58.149473",
     "status": "completed"
    },
    "tags": []
   },
   "outputs": [],
   "source": [
    "def dataloader(npoints, X_, y_):\n",
    "    to_ret = []\n",
    "    for i in range(npoints):\n",
    "        index_ = np.random.randint(len(X_))\n",
    "        name, lang = X_[index_], y_[index_]\n",
    "        to_ret.append((name, lang, name_rep(name), lang_rep(lang)))\n",
    "        \n",
    "    return to_ret"
   ]
  },
  {
   "cell_type": "code",
   "execution_count": 25,
   "metadata": {
    "execution": {
     "iopub.execute_input": "2021-04-12T07:37:58.359004Z",
     "iopub.status.busy": "2021-04-12T07:37:58.358159Z",
     "iopub.status.idle": "2021-04-12T07:37:58.365004Z",
     "shell.execute_reply": "2021-04-12T07:37:58.365997Z"
    },
    "papermill": {
     "duration": 0.080433,
     "end_time": "2021-04-12T07:37:58.366215",
     "exception": false,
     "start_time": "2021-04-12T07:37:58.285782",
     "status": "completed"
    },
    "tags": []
   },
   "outputs": [
    {
     "data": {
      "text/plain": [
       "[('Lohtin',\n",
       "  'Russian',\n",
       "  tensor([[[0., 0., 0., 0., 0., 0., 0., 0., 0., 0., 0., 0., 0., 0., 0., 0., 0.,\n",
       "            0., 0., 0., 0., 0., 0., 0., 0., 0., 0., 0., 0., 0., 0., 0., 0., 0.,\n",
       "            0., 0., 0., 1., 0., 0., 0., 0., 0., 0., 0., 0., 0., 0., 0., 0., 0.,\n",
       "            0., 0., 0., 0., 0., 0.]],\n",
       "  \n",
       "          [[0., 0., 0., 0., 0., 0., 0., 0., 0., 0., 0., 0., 0., 0., 1., 0., 0.,\n",
       "            0., 0., 0., 0., 0., 0., 0., 0., 0., 0., 0., 0., 0., 0., 0., 0., 0.,\n",
       "            0., 0., 0., 0., 0., 0., 0., 0., 0., 0., 0., 0., 0., 0., 0., 0., 0.,\n",
       "            0., 0., 0., 0., 0., 0.]],\n",
       "  \n",
       "          [[0., 0., 0., 0., 0., 0., 0., 1., 0., 0., 0., 0., 0., 0., 0., 0., 0.,\n",
       "            0., 0., 0., 0., 0., 0., 0., 0., 0., 0., 0., 0., 0., 0., 0., 0., 0.,\n",
       "            0., 0., 0., 0., 0., 0., 0., 0., 0., 0., 0., 0., 0., 0., 0., 0., 0.,\n",
       "            0., 0., 0., 0., 0., 0.]],\n",
       "  \n",
       "          [[0., 0., 0., 0., 0., 0., 0., 0., 0., 0., 0., 0., 0., 0., 0., 0., 0.,\n",
       "            0., 0., 1., 0., 0., 0., 0., 0., 0., 0., 0., 0., 0., 0., 0., 0., 0.,\n",
       "            0., 0., 0., 0., 0., 0., 0., 0., 0., 0., 0., 0., 0., 0., 0., 0., 0.,\n",
       "            0., 0., 0., 0., 0., 0.]],\n",
       "  \n",
       "          [[0., 0., 0., 0., 0., 0., 0., 0., 1., 0., 0., 0., 0., 0., 0., 0., 0.,\n",
       "            0., 0., 0., 0., 0., 0., 0., 0., 0., 0., 0., 0., 0., 0., 0., 0., 0.,\n",
       "            0., 0., 0., 0., 0., 0., 0., 0., 0., 0., 0., 0., 0., 0., 0., 0., 0.,\n",
       "            0., 0., 0., 0., 0., 0.]],\n",
       "  \n",
       "          [[0., 0., 0., 0., 0., 0., 0., 0., 0., 0., 0., 0., 0., 1., 0., 0., 0.,\n",
       "            0., 0., 0., 0., 0., 0., 0., 0., 0., 0., 0., 0., 0., 0., 0., 0., 0.,\n",
       "            0., 0., 0., 0., 0., 0., 0., 0., 0., 0., 0., 0., 0., 0., 0., 0., 0.,\n",
       "            0., 0., 0., 0., 0., 0.]]]),\n",
       "  tensor([13])),\n",
       " ('Mahinya',\n",
       "  'Russian',\n",
       "  tensor([[[0., 0., 0., 0., 0., 0., 0., 0., 0., 0., 0., 0., 0., 0., 0., 0., 0.,\n",
       "            0., 0., 0., 0., 0., 0., 0., 0., 0., 0., 0., 0., 0., 0., 0., 0., 0.,\n",
       "            0., 0., 0., 0., 1., 0., 0., 0., 0., 0., 0., 0., 0., 0., 0., 0., 0.,\n",
       "            0., 0., 0., 0., 0., 0.]],\n",
       "  \n",
       "          [[1., 0., 0., 0., 0., 0., 0., 0., 0., 0., 0., 0., 0., 0., 0., 0., 0.,\n",
       "            0., 0., 0., 0., 0., 0., 0., 0., 0., 0., 0., 0., 0., 0., 0., 0., 0.,\n",
       "            0., 0., 0., 0., 0., 0., 0., 0., 0., 0., 0., 0., 0., 0., 0., 0., 0.,\n",
       "            0., 0., 0., 0., 0., 0.]],\n",
       "  \n",
       "          [[0., 0., 0., 0., 0., 0., 0., 1., 0., 0., 0., 0., 0., 0., 0., 0., 0.,\n",
       "            0., 0., 0., 0., 0., 0., 0., 0., 0., 0., 0., 0., 0., 0., 0., 0., 0.,\n",
       "            0., 0., 0., 0., 0., 0., 0., 0., 0., 0., 0., 0., 0., 0., 0., 0., 0.,\n",
       "            0., 0., 0., 0., 0., 0.]],\n",
       "  \n",
       "          [[0., 0., 0., 0., 0., 0., 0., 0., 1., 0., 0., 0., 0., 0., 0., 0., 0.,\n",
       "            0., 0., 0., 0., 0., 0., 0., 0., 0., 0., 0., 0., 0., 0., 0., 0., 0.,\n",
       "            0., 0., 0., 0., 0., 0., 0., 0., 0., 0., 0., 0., 0., 0., 0., 0., 0.,\n",
       "            0., 0., 0., 0., 0., 0.]],\n",
       "  \n",
       "          [[0., 0., 0., 0., 0., 0., 0., 0., 0., 0., 0., 0., 0., 1., 0., 0., 0.,\n",
       "            0., 0., 0., 0., 0., 0., 0., 0., 0., 0., 0., 0., 0., 0., 0., 0., 0.,\n",
       "            0., 0., 0., 0., 0., 0., 0., 0., 0., 0., 0., 0., 0., 0., 0., 0., 0.,\n",
       "            0., 0., 0., 0., 0., 0.]],\n",
       "  \n",
       "          [[0., 0., 0., 0., 0., 0., 0., 0., 0., 0., 0., 0., 0., 0., 0., 0., 0.,\n",
       "            0., 0., 0., 0., 0., 0., 0., 1., 0., 0., 0., 0., 0., 0., 0., 0., 0.,\n",
       "            0., 0., 0., 0., 0., 0., 0., 0., 0., 0., 0., 0., 0., 0., 0., 0., 0.,\n",
       "            0., 0., 0., 0., 0., 0.]],\n",
       "  \n",
       "          [[1., 0., 0., 0., 0., 0., 0., 0., 0., 0., 0., 0., 0., 0., 0., 0., 0.,\n",
       "            0., 0., 0., 0., 0., 0., 0., 0., 0., 0., 0., 0., 0., 0., 0., 0., 0.,\n",
       "            0., 0., 0., 0., 0., 0., 0., 0., 0., 0., 0., 0., 0., 0., 0., 0., 0.,\n",
       "            0., 0., 0., 0., 0., 0.]]]),\n",
       "  tensor([13]))]"
      ]
     },
     "execution_count": 25,
     "metadata": {},
     "output_type": "execute_result"
    }
   ],
   "source": [
    "dataloader(2, X_train, y_train)"
   ]
  },
  {
   "cell_type": "code",
   "execution_count": 26,
   "metadata": {
    "execution": {
     "iopub.execute_input": "2021-04-12T07:37:58.562291Z",
     "iopub.status.busy": "2021-04-12T07:37:58.561572Z",
     "iopub.status.idle": "2021-04-12T07:37:58.564731Z",
     "shell.execute_reply": "2021-04-12T07:37:58.565261Z"
    },
    "papermill": {
     "duration": 0.083609,
     "end_time": "2021-04-12T07:37:58.565462",
     "exception": false,
     "start_time": "2021-04-12T07:37:58.481853",
     "status": "completed"
    },
    "tags": []
   },
   "outputs": [],
   "source": [
    "def eval(net, n_points, topk, X_, y_, device = 'cpu'):\n",
    "    net = net.eval().to(device)\n",
    "    data_ = dataloader(n_points, X_, y_)\n",
    "    correct = 0\n",
    "    \n",
    "    for name, language, name_ohe, lang_rep in data_:\n",
    "        \n",
    "        output = infer(net, name, device)\n",
    "        val, indices = output.topk(topk)\n",
    "        indices = indices.to('cpu')\n",
    "        \n",
    "        if lang_rep in indices:\n",
    "            correct += 1\n",
    "            \n",
    "    accuracy = correct/n_points\n",
    "    return accuracy"
   ]
  },
  {
   "cell_type": "code",
   "execution_count": 27,
   "metadata": {
    "execution": {
     "iopub.execute_input": "2021-04-12T07:37:58.689650Z",
     "iopub.status.busy": "2021-04-12T07:37:58.688965Z",
     "iopub.status.idle": "2021-04-12T07:37:59.602574Z",
     "shell.execute_reply": "2021-04-12T07:37:59.602113Z"
    },
    "papermill": {
     "duration": 0.980946,
     "end_time": "2021-04-12T07:37:59.602701",
     "exception": false,
     "start_time": "2021-04-12T07:37:58.621755",
     "status": "completed"
    },
    "tags": []
   },
   "outputs": [
    {
     "data": {
      "text/plain": [
       "0.044"
      ]
     },
     "execution_count": 27,
     "metadata": {},
     "output_type": "execute_result"
    }
   ],
   "source": [
    "eval(net, 1000, 1, X_test, y_test)"
   ]
  },
  {
   "cell_type": "markdown",
   "metadata": {
    "papermill": {
     "duration": 0.037629,
     "end_time": "2021-04-12T07:37:59.678791",
     "exception": false,
     "start_time": "2021-04-12T07:37:59.641162",
     "status": "completed"
    },
    "tags": []
   },
   "source": [
    "### Batching"
   ]
  },
  {
   "cell_type": "markdown",
   "metadata": {
    "papermill": {
     "duration": 0.03778,
     "end_time": "2021-04-12T07:37:59.755031",
     "exception": false,
     "start_time": "2021-04-12T07:37:59.717251",
     "status": "completed"
    },
    "tags": []
   },
   "source": [
    "<img src='https://github.com/taruntiwarihp/raw_images/blob/master/Kuhh0.jpeg?raw=true'>"
   ]
  },
  {
   "cell_type": "code",
   "execution_count": 28,
   "metadata": {
    "execution": {
     "iopub.execute_input": "2021-04-12T07:37:59.837989Z",
     "iopub.status.busy": "2021-04-12T07:37:59.836256Z",
     "iopub.status.idle": "2021-04-12T07:37:59.838574Z",
     "shell.execute_reply": "2021-04-12T07:37:59.838958Z"
    },
    "papermill": {
     "duration": 0.046262,
     "end_time": "2021-04-12T07:37:59.839112",
     "exception": false,
     "start_time": "2021-04-12T07:37:59.792850",
     "status": "completed"
    },
    "tags": []
   },
   "outputs": [],
   "source": [
    "def batched_name_rep(names, max_word_size):\n",
    "    rep = torch.zeros(max_word_size, len(names), n_letters)\n",
    "    for name_index, name in enumerate(names):\n",
    "        for letter_index, letter in enumerate(name):\n",
    "            pos = all_letters.find(letter)\n",
    "            rep[letter_index][name_index][pos] = 1\n",
    "    return rep"
   ]
  },
  {
   "cell_type": "code",
   "execution_count": 29,
   "metadata": {
    "execution": {
     "iopub.execute_input": "2021-04-12T07:37:59.921036Z",
     "iopub.status.busy": "2021-04-12T07:37:59.920445Z",
     "iopub.status.idle": "2021-04-12T07:37:59.923956Z",
     "shell.execute_reply": "2021-04-12T07:37:59.923523Z"
    },
    "papermill": {
     "duration": 0.046926,
     "end_time": "2021-04-12T07:37:59.924070",
     "exception": false,
     "start_time": "2021-04-12T07:37:59.877144",
     "status": "completed"
    },
    "tags": []
   },
   "outputs": [],
   "source": [
    "def print_char(name_reps):\n",
    "    name_reps = name_reps.view((-1, name_reps.size()[-1]))\n",
    "    for t in name_reps:\n",
    "        if torch.sum(t) == 0:\n",
    "            print('<pad>')\n",
    "        else:\n",
    "            index = t.argmax()\n",
    "            print(all_letters[index])"
   ]
  },
  {
   "cell_type": "code",
   "execution_count": 30,
   "metadata": {
    "execution": {
     "iopub.execute_input": "2021-04-12T07:38:00.006743Z",
     "iopub.status.busy": "2021-04-12T07:38:00.005905Z",
     "iopub.status.idle": "2021-04-12T07:38:00.016620Z",
     "shell.execute_reply": "2021-04-12T07:38:00.016196Z"
    },
    "papermill": {
     "duration": 0.053847,
     "end_time": "2021-04-12T07:38:00.016744",
     "exception": false,
     "start_time": "2021-04-12T07:37:59.962897",
     "status": "completed"
    },
    "tags": []
   },
   "outputs": [
    {
     "name": "stdout",
     "output_type": "stream",
     "text": [
      "tensor([[[0., 0., 0., 0., 0., 0., 0., 0., 0., 0., 0., 0., 0., 0., 0., 0., 0.,\n",
      "          0., 0., 0., 0., 0., 0., 0., 0., 0., 0., 0., 0., 0., 0., 0., 0., 0.,\n",
      "          0., 0., 0., 0., 0., 0., 0., 0., 0., 0., 1., 0., 0., 0., 0., 0., 0.,\n",
      "          0., 0., 0., 0., 0., 0.],\n",
      "         [0., 0., 0., 0., 0., 0., 0., 0., 0., 0., 0., 0., 0., 0., 0., 0., 0.,\n",
      "          0., 0., 0., 0., 0., 0., 0., 0., 0., 0., 0., 0., 0., 0., 0., 0., 0.,\n",
      "          0., 0., 0., 0., 0., 0., 0., 0., 0., 1., 0., 0., 0., 0., 0., 0., 0.,\n",
      "          0., 0., 0., 0., 0., 0.]],\n",
      "\n",
      "        [[0., 0., 0., 0., 0., 0., 0., 1., 0., 0., 0., 0., 0., 0., 0., 0., 0.,\n",
      "          0., 0., 0., 0., 0., 0., 0., 0., 0., 0., 0., 0., 0., 0., 0., 0., 0.,\n",
      "          0., 0., 0., 0., 0., 0., 0., 0., 0., 0., 0., 0., 0., 0., 0., 0., 0.,\n",
      "          0., 0., 0., 0., 0., 0.],\n",
      "         [1., 0., 0., 0., 0., 0., 0., 0., 0., 0., 0., 0., 0., 0., 0., 0., 0.,\n",
      "          0., 0., 0., 0., 0., 0., 0., 0., 0., 0., 0., 0., 0., 0., 0., 0., 0.,\n",
      "          0., 0., 0., 0., 0., 0., 0., 0., 0., 0., 0., 0., 0., 0., 0., 0., 0.,\n",
      "          0., 0., 0., 0., 0., 0.]],\n",
      "\n",
      "        [[0., 0., 0., 0., 0., 0., 0., 0., 0., 0., 0., 0., 0., 0., 0., 0., 0.,\n",
      "          0., 0., 0., 0., 0., 0., 0., 1., 0., 0., 0., 0., 0., 0., 0., 0., 0.,\n",
      "          0., 0., 0., 0., 0., 0., 0., 0., 0., 0., 0., 0., 0., 0., 0., 0., 0.,\n",
      "          0., 0., 0., 0., 0., 0.],\n",
      "         [0., 0., 0., 0., 0., 0., 0., 0., 0., 0., 0., 0., 1., 0., 0., 0., 0.,\n",
      "          0., 0., 0., 0., 0., 0., 0., 0., 0., 0., 0., 0., 0., 0., 0., 0., 0.,\n",
      "          0., 0., 0., 0., 0., 0., 0., 0., 0., 0., 0., 0., 0., 0., 0., 0., 0.,\n",
      "          0., 0., 0., 0., 0., 0.]],\n",
      "\n",
      "        [[1., 0., 0., 0., 0., 0., 0., 0., 0., 0., 0., 0., 0., 0., 0., 0., 0.,\n",
      "          0., 0., 0., 0., 0., 0., 0., 0., 0., 0., 0., 0., 0., 0., 0., 0., 0.,\n",
      "          0., 0., 0., 0., 0., 0., 0., 0., 0., 0., 0., 0., 0., 0., 0., 0., 0.,\n",
      "          0., 0., 0., 0., 0., 0.],\n",
      "         [0., 0., 0., 0., 0., 0., 0., 0., 0., 0., 0., 0., 0., 0., 0., 0., 0.,\n",
      "          0., 0., 0., 0., 0., 0., 0., 0., 0., 0., 0., 0., 0., 0., 0., 0., 0.,\n",
      "          0., 0., 0., 0., 0., 0., 0., 0., 0., 0., 0., 0., 0., 0., 0., 0., 0.,\n",
      "          0., 0., 0., 0., 0., 0.]],\n",
      "\n",
      "        [[0., 0., 0., 0., 0., 0., 0., 0., 0., 0., 0., 0., 1., 0., 0., 0., 0.,\n",
      "          0., 0., 0., 0., 0., 0., 0., 0., 0., 0., 0., 0., 0., 0., 0., 0., 0.,\n",
      "          0., 0., 0., 0., 0., 0., 0., 0., 0., 0., 0., 0., 0., 0., 0., 0., 0.,\n",
      "          0., 0., 0., 0., 0., 0.],\n",
      "         [0., 0., 0., 0., 0., 0., 0., 0., 0., 0., 0., 0., 0., 0., 0., 0., 0.,\n",
      "          0., 0., 0., 0., 0., 0., 0., 0., 0., 0., 0., 0., 0., 0., 0., 0., 0.,\n",
      "          0., 0., 0., 0., 0., 0., 0., 0., 0., 0., 0., 0., 0., 0., 0., 0., 0.,\n",
      "          0., 0., 0., 0., 0., 0.]]])\n",
      "torch.Size([5, 2, 57])\n",
      "S\n",
      "R\n",
      "h\n",
      "a\n",
      "y\n",
      "m\n",
      "a\n",
      "<pad>\n",
      "m\n",
      "<pad>\n"
     ]
    }
   ],
   "source": [
    "out_ = batched_name_rep(['Shyam','Ram'],5)\n",
    "print(out_)\n",
    "print(out_.shape)\n",
    "print_char(out_)"
   ]
  },
  {
   "cell_type": "code",
   "execution_count": 31,
   "metadata": {
    "execution": {
     "iopub.execute_input": "2021-04-12T07:38:00.100770Z",
     "iopub.status.busy": "2021-04-12T07:38:00.100021Z",
     "iopub.status.idle": "2021-04-12T07:38:00.102778Z",
     "shell.execute_reply": "2021-04-12T07:38:00.102374Z"
    },
    "papermill": {
     "duration": 0.04711,
     "end_time": "2021-04-12T07:38:00.102909",
     "exception": false,
     "start_time": "2021-04-12T07:38:00.055799",
     "status": "completed"
    },
    "tags": []
   },
   "outputs": [],
   "source": [
    "def batched_lang_rep(langs):\n",
    "    rep = torch.zeros([len(langs)], dtype=torch.long)\n",
    "    for index, lang in enumerate(langs):\n",
    "        rep[index] = languages.index(lang)\n",
    "    return rep"
   ]
  },
  {
   "cell_type": "code",
   "execution_count": 32,
   "metadata": {
    "execution": {
     "iopub.execute_input": "2021-04-12T07:38:00.189228Z",
     "iopub.status.busy": "2021-04-12T07:38:00.188434Z",
     "iopub.status.idle": "2021-04-12T07:38:00.191210Z",
     "shell.execute_reply": "2021-04-12T07:38:00.190790Z"
    },
    "papermill": {
     "duration": 0.049473,
     "end_time": "2021-04-12T07:38:00.191328",
     "exception": false,
     "start_time": "2021-04-12T07:38:00.141855",
     "status": "completed"
    },
    "tags": []
   },
   "outputs": [],
   "source": [
    "def batched_dataloader(npoints, X_, y_, verbose=False, device = 'cpu'):\n",
    "    names = []\n",
    "    langs = []\n",
    "    X_lengths = []\n",
    "    \n",
    "    for i in range(npoints):\n",
    "        index_ = np.random.randint(len(X_))\n",
    "        name, lang = X_[index_], y_[index_]\n",
    "        X_lengths.append(len(name))\n",
    "        names.append(name)\n",
    "        langs.append(lang)\n",
    "    max_length = max(X_lengths)\n",
    "    \n",
    "    names_rep = batched_name_rep(names, max_length).to(device)\n",
    "    langs_rep = batched_lang_rep(langs).to(device)\n",
    "#     print(names_rep, langs_rep)\n",
    "    padded_names_rep = torch.nn.utils.rnn.pack_padded_sequence(names_rep, X_lengths, enforce_sorted= False)\n",
    "    \n",
    "    if verbose:\n",
    "        print(names_rep.shape, padded_names_rep.data.shape)\n",
    "        print('--')\n",
    "    \n",
    "    if verbose:\n",
    "        print(names)\n",
    "        print_char(names_rep)\n",
    "        print('--')\n",
    "        \n",
    "    if verbose:\n",
    "        print_char(padded_names_rep.data)\n",
    "        print('Lang Reg', langs_rep.data)\n",
    "        print('Batch sized', padded_names_rep.batch_sizes)\n",
    "        \n",
    "    return padded_names_rep.to(device), langs_rep"
   ]
  },
  {
   "cell_type": "code",
   "execution_count": 33,
   "metadata": {
    "execution": {
     "iopub.execute_input": "2021-04-12T07:38:00.274519Z",
     "iopub.status.busy": "2021-04-12T07:38:00.273853Z",
     "iopub.status.idle": "2021-04-12T07:38:00.298945Z",
     "shell.execute_reply": "2021-04-12T07:38:00.298312Z"
    },
    "papermill": {
     "duration": 0.068201,
     "end_time": "2021-04-12T07:38:00.299126",
     "exception": false,
     "start_time": "2021-04-12T07:38:00.230925",
     "status": "completed"
    },
    "tags": []
   },
   "outputs": [
    {
     "name": "stdout",
     "output_type": "stream",
     "text": [
      "torch.Size([7, 3, 57]) torch.Size([18, 57])\n",
      "--\n",
      "['Kerper', 'Totah', 'Jakshin']\n",
      "K\n",
      "T\n",
      "J\n",
      "e\n",
      "o\n",
      "a\n",
      "r\n",
      "t\n",
      "k\n",
      "p\n",
      "a\n",
      "s\n",
      "e\n",
      "h\n",
      "h\n",
      "r\n",
      "<pad>\n",
      "i\n",
      "<pad>\n",
      "<pad>\n",
      "n\n",
      "--\n",
      "J\n",
      "K\n",
      "T\n",
      "a\n",
      "e\n",
      "o\n",
      "k\n",
      "r\n",
      "t\n",
      "s\n",
      "p\n",
      "a\n",
      "h\n",
      "e\n",
      "h\n",
      "i\n",
      "r\n",
      "n\n",
      "Lang Reg tensor([10, 15, 13])\n",
      "Batch sized tensor([3, 3, 3, 3, 3, 2, 1])\n"
     ]
    }
   ],
   "source": [
    "p, l = batched_dataloader(3, X_train, y_train, True)"
   ]
  },
  {
   "cell_type": "markdown",
   "metadata": {
    "papermill": {
     "duration": 0.039498,
     "end_time": "2021-04-12T07:38:00.378582",
     "exception": false,
     "start_time": "2021-04-12T07:38:00.339084",
     "status": "completed"
    },
    "tags": []
   },
   "source": [
    "### Training \n",
    "### Basic setup"
   ]
  },
  {
   "cell_type": "code",
   "execution_count": 34,
   "metadata": {
    "execution": {
     "iopub.execute_input": "2021-04-12T07:38:00.464430Z",
     "iopub.status.busy": "2021-04-12T07:38:00.463638Z",
     "iopub.status.idle": "2021-04-12T07:38:00.466547Z",
     "shell.execute_reply": "2021-04-12T07:38:00.466021Z"
    },
    "papermill": {
     "duration": 0.048751,
     "end_time": "2021-04-12T07:38:00.466661",
     "exception": false,
     "start_time": "2021-04-12T07:38:00.417910",
     "status": "completed"
    },
    "tags": []
   },
   "outputs": [],
   "source": [
    "def train(net, opt, criterion, n_points):\n",
    "    \n",
    "    opt.zero_grad()\n",
    "    total_loss = 0\n",
    "    \n",
    "    data_ = dataloader(n_points, X_train, y_train)\n",
    "    \n",
    "    total_loss = 0\n",
    "    \n",
    "    for name, language, name_ohe, lang_rep in data_:\n",
    "\n",
    "        hidden = net.init_hidden()\n",
    "\n",
    "        for i in range(name_ohe.size()[0]):\n",
    "            output, hidden = net(name_ohe[i:i+1], hidden)\n",
    "            \n",
    "        loss = criterion(output, lang_rep)\n",
    "        loss.backward(retain_graph=True)\n",
    "        \n",
    "        total_loss += loss\n",
    "        \n",
    "    opt.step()       \n",
    "    return total_loss/n_points"
   ]
  },
  {
   "cell_type": "code",
   "execution_count": 35,
   "metadata": {
    "execution": {
     "iopub.execute_input": "2021-04-12T07:38:00.551871Z",
     "iopub.status.busy": "2021-04-12T07:38:00.551141Z",
     "iopub.status.idle": "2021-04-12T07:38:00.554022Z",
     "shell.execute_reply": "2021-04-12T07:38:00.553611Z"
    },
    "papermill": {
     "duration": 0.047965,
     "end_time": "2021-04-12T07:38:00.554156",
     "exception": false,
     "start_time": "2021-04-12T07:38:00.506191",
     "status": "completed"
    },
    "tags": []
   },
   "outputs": [],
   "source": [
    "def train_batch(net, opt, criterion, n_points, device = 'cpu'):\n",
    "    \n",
    "    net.train().to(device)\n",
    "    opt.zero_grad()\n",
    "    \n",
    "    batch_input, batch_groundtruth = batched_dataloader(n_points, X_train, y_train, False, device)\n",
    "    \n",
    "    output, hidden = net(batch_input)\n",
    "    \n",
    "    loss = criterion(output, batch_groundtruth)\n",
    "    \n",
    "    loss.backward()\n",
    "    opt.step()\n",
    "    return loss"
   ]
  },
  {
   "cell_type": "code",
   "execution_count": 36,
   "metadata": {
    "execution": {
     "iopub.execute_input": "2021-04-12T07:38:00.638977Z",
     "iopub.status.busy": "2021-04-12T07:38:00.638141Z",
     "iopub.status.idle": "2021-04-12T07:38:00.642510Z",
     "shell.execute_reply": "2021-04-12T07:38:00.642090Z"
    },
    "papermill": {
     "duration": 0.048223,
     "end_time": "2021-04-12T07:38:00.642624",
     "exception": false,
     "start_time": "2021-04-12T07:38:00.594401",
     "status": "completed"
    },
    "tags": []
   },
   "outputs": [],
   "source": [
    "net = RNN_net(n_letters, n_hidden, n_languages)\n",
    "criterion = nn.NLLLoss()\n",
    "opt = optim.SGD(net.parameters(), lr=0.01, momentum=0.9)"
   ]
  },
  {
   "cell_type": "code",
   "execution_count": 37,
   "metadata": {
    "execution": {
     "iopub.execute_input": "2021-04-12T07:38:00.728912Z",
     "iopub.status.busy": "2021-04-12T07:38:00.728036Z",
     "iopub.status.idle": "2021-04-12T07:38:01.742997Z",
     "shell.execute_reply": "2021-04-12T07:38:01.743725Z"
    },
    "papermill": {
     "duration": 1.060617,
     "end_time": "2021-04-12T07:38:01.743892",
     "exception": false,
     "start_time": "2021-04-12T07:38:00.683275",
     "status": "completed"
    },
    "tags": []
   },
   "outputs": [
    {
     "name": "stdout",
     "output_type": "stream",
     "text": [
      "CPU times: user 686 ms, sys: 232 ms, total: 918 ms\n",
      "Wall time: 1.01 s\n"
     ]
    },
    {
     "data": {
      "text/plain": [
       "tensor(2.9180, grad_fn=<DivBackward0>)"
      ]
     },
     "execution_count": 37,
     "metadata": {},
     "output_type": "execute_result"
    }
   ],
   "source": [
    "%%time \n",
    "train(net, opt, criterion, 256)"
   ]
  },
  {
   "cell_type": "code",
   "execution_count": 38,
   "metadata": {
    "execution": {
     "iopub.execute_input": "2021-04-12T07:38:01.831148Z",
     "iopub.status.busy": "2021-04-12T07:38:01.830305Z",
     "iopub.status.idle": "2021-04-12T07:38:01.834451Z",
     "shell.execute_reply": "2021-04-12T07:38:01.833958Z"
    },
    "papermill": {
     "duration": 0.049098,
     "end_time": "2021-04-12T07:38:01.834565",
     "exception": false,
     "start_time": "2021-04-12T07:38:01.785467",
     "status": "completed"
    },
    "tags": []
   },
   "outputs": [],
   "source": [
    "net = RNN_net(n_letters, n_hidden, n_languages)\n",
    "criterion = nn.NLLLoss()\n",
    "opt = optim.SGD(net.parameters(), lr=0.01, momentum=0.9)"
   ]
  },
  {
   "cell_type": "code",
   "execution_count": 39,
   "metadata": {
    "execution": {
     "iopub.execute_input": "2021-04-12T07:38:01.923649Z",
     "iopub.status.busy": "2021-04-12T07:38:01.922864Z",
     "iopub.status.idle": "2021-04-12T07:38:01.975232Z",
     "shell.execute_reply": "2021-04-12T07:38:01.975675Z"
    },
    "papermill": {
     "duration": 0.099994,
     "end_time": "2021-04-12T07:38:01.975824",
     "exception": false,
     "start_time": "2021-04-12T07:38:01.875830",
     "status": "completed"
    },
    "tags": []
   },
   "outputs": [
    {
     "name": "stdout",
     "output_type": "stream",
     "text": [
      "CPU times: user 32.8 ms, sys: 1.99 ms, total: 34.8 ms\n",
      "Wall time: 43.4 ms\n"
     ]
    },
    {
     "data": {
      "text/plain": [
       "tensor(2.8854, grad_fn=<NllLossBackward>)"
      ]
     },
     "execution_count": 39,
     "metadata": {},
     "output_type": "execute_result"
    }
   ],
   "source": [
    "%%time\n",
    "train_batch(net, opt, criterion, 256)"
   ]
  },
  {
   "cell_type": "markdown",
   "metadata": {
    "papermill": {
     "duration": 0.040895,
     "end_time": "2021-04-12T07:38:02.059663",
     "exception": false,
     "start_time": "2021-04-12T07:38:02.018768",
     "status": "completed"
    },
    "tags": []
   },
   "source": [
    "## Full Training Setup"
   ]
  },
  {
   "cell_type": "code",
   "execution_count": 40,
   "metadata": {
    "execution": {
     "iopub.execute_input": "2021-04-12T07:38:02.150958Z",
     "iopub.status.busy": "2021-04-12T07:38:02.150180Z",
     "iopub.status.idle": "2021-04-12T07:38:02.153077Z",
     "shell.execute_reply": "2021-04-12T07:38:02.152640Z"
    },
    "papermill": {
     "duration": 0.052354,
     "end_time": "2021-04-12T07:38:02.153206",
     "exception": false,
     "start_time": "2021-04-12T07:38:02.100852",
     "status": "completed"
    },
    "tags": []
   },
   "outputs": [],
   "source": [
    "def train_setup(net, lr = 0.01, n_batches = 100, batch_size = 10, momentum = 0.9, display_freq=5, device = 'cpu'):\n",
    "    net = net.to(device)\n",
    "    criterion = nn.NLLLoss()\n",
    "    opt = optim.SGD(net.parameters(), lr=lr, momentum=momentum)\n",
    "    \n",
    "    loss_arr = np.zeros(n_batches + 1)\n",
    "    \n",
    "    for i in range(n_batches):\n",
    "        loss_arr[i+1] = (loss_arr[i]*i + train_batch(net, opt, criterion, batch_size, device))/(i + 1)\n",
    "        \n",
    "        if i%display_freq == display_freq-1:\n",
    "            clear_output(wait=True)\n",
    "            \n",
    "            print('Iteration', i, 'Loss', loss_arr[i])\n",
    "            # print('Top-1:', eval(net, len(X_test), 1, X_test, y_test), 'Top-2:', eval(net, len(X_test), 2, X_test, y_test))\n",
    "            plt.figure()\n",
    "            plt.plot(loss_arr[1:i], '-*')\n",
    "            plt.xlabel('Iteration')\n",
    "            plt.ylabel('Loss')\n",
    "            plt.show()\n",
    "            print('\\n\\n')\n",
    "            \n",
    "    print('Top-1:', eval(net, len(X_test), 1, X_test, y_test, device), 'Top-2:', eval(net, len(X_test), 2, X_test, y_test, device))"
   ]
  },
  {
   "cell_type": "markdown",
   "metadata": {
    "papermill": {
     "duration": 0.040847,
     "end_time": "2021-04-12T07:38:02.235429",
     "exception": false,
     "start_time": "2021-04-12T07:38:02.194582",
     "status": "completed"
    },
    "tags": []
   },
   "source": [
    "### RNN Cell"
   ]
  },
  {
   "cell_type": "code",
   "execution_count": 41,
   "metadata": {
    "execution": {
     "iopub.execute_input": "2021-04-12T07:38:02.323180Z",
     "iopub.status.busy": "2021-04-12T07:38:02.322350Z",
     "iopub.status.idle": "2021-04-12T07:43:21.930767Z",
     "shell.execute_reply": "2021-04-12T07:43:21.929978Z"
    },
    "papermill": {
     "duration": 319.654058,
     "end_time": "2021-04-12T07:43:21.930982",
     "exception": false,
     "start_time": "2021-04-12T07:38:02.276924",
     "status": "completed"
    },
    "tags": []
   },
   "outputs": [
    {
     "name": "stdout",
     "output_type": "stream",
     "text": [
      "Iteration 4999 Loss 0.46336811780929565\n"
     ]
    },
    {
     "data": {
      "image/png": "[encoded data removed]",
      "text/plain": [
       "<Figure size 432x288 with 1 Axes>"
      ]
     },
     "metadata": {
      "needs_background": "light"
     },
     "output_type": "display_data"
    },
    {
     "name": "stdout",
     "output_type": "stream",
     "text": [
      "\n",
      "\n",
      "\n",
      "Top-1: 0.7286783042394015 Top-2: 0.8538653366583541\n",
      "CPU times: user 5min 2s, sys: 16.1 s, total: 5min 18s\n",
      "Wall time: 5min 19s\n"
     ]
    }
   ],
   "source": [
    "%%time\n",
    "n_hidden = 128\n",
    "net = RNN_net(n_letters, n_hidden, n_languages)\n",
    "train_setup(net, lr=0.15, n_batches=5000, batch_size= 512, display_freq=500) # CPU Training example"
   ]
  },
  {
   "cell_type": "code",
   "execution_count": 42,
   "metadata": {
    "execution": {
     "iopub.execute_input": "2021-04-12T07:43:22.023437Z",
     "iopub.status.busy": "2021-04-12T07:43:22.022803Z",
     "iopub.status.idle": "2021-04-12T07:43:22.026023Z",
     "shell.execute_reply": "2021-04-12T07:43:22.026602Z"
    },
    "papermill": {
     "duration": 0.051907,
     "end_time": "2021-04-12T07:43:22.026788",
     "exception": false,
     "start_time": "2021-04-12T07:43:21.974881",
     "status": "completed"
    },
    "tags": []
   },
   "outputs": [
    {
     "name": "stdout",
     "output_type": "stream",
     "text": [
      "cuda\n"
     ]
    }
   ],
   "source": [
    "device = torch.device('cuda' if torch.cuda.is_available() else 'cpu')\n",
    "print(device)"
   ]
  },
  {
   "cell_type": "code",
   "execution_count": 43,
   "metadata": {
    "execution": {
     "iopub.execute_input": "2021-04-12T07:43:22.120848Z",
     "iopub.status.busy": "2021-04-12T07:43:22.120265Z",
     "iopub.status.idle": "2021-04-12T07:47:16.768669Z",
     "shell.execute_reply": "2021-04-12T07:47:16.769118Z"
    },
    "papermill": {
     "duration": 234.698129,
     "end_time": "2021-04-12T07:47:16.769299",
     "exception": false,
     "start_time": "2021-04-12T07:43:22.071170",
     "status": "completed"
    },
    "tags": []
   },
   "outputs": [
    {
     "name": "stdout",
     "output_type": "stream",
     "text": [
      "Iteration 4999 Loss 0.4509669244289398\n"
     ]
    },
    {
     "data": {
      "image/png": "[encoded data removed]",
      "text/plain": [
       "<Figure size 432x288 with 1 Axes>"
      ]
     },
     "metadata": {
      "needs_background": "light"
     },
     "output_type": "display_data"
    },
    {
     "name": "stdout",
     "output_type": "stream",
     "text": [
      "\n",
      "\n",
      "\n",
      "Top-1: 0.7481296758104738 Top-2: 0.8608478802992519\n",
      "CPU times: user 3min 50s, sys: 1.91 s, total: 3min 51s\n",
      "Wall time: 3min 54s\n"
     ]
    }
   ],
   "source": [
    "%%time\n",
    "net = RNN_net(n_letters, 128, n_languages)\n",
    "train_setup(net, lr= 0.15, n_batches=5000, batch_size = 512, display_freq=100, device=device) # GPU Training Example"
   ]
  },
  {
   "cell_type": "markdown",
   "metadata": {
    "papermill": {
     "duration": 0.044006,
     "end_time": "2021-04-12T07:47:16.857647",
     "exception": false,
     "start_time": "2021-04-12T07:47:16.813641",
     "status": "completed"
    },
    "tags": []
   },
   "source": [
    "### LSTM Cell"
   ]
  },
  {
   "cell_type": "code",
   "execution_count": 44,
   "metadata": {
    "execution": {
     "iopub.execute_input": "2021-04-12T07:47:16.952778Z",
     "iopub.status.busy": "2021-04-12T07:47:16.952051Z",
     "iopub.status.idle": "2021-04-12T07:47:16.954905Z",
     "shell.execute_reply": "2021-04-12T07:47:16.954512Z"
    },
    "papermill": {
     "duration": 0.053238,
     "end_time": "2021-04-12T07:47:16.955011",
     "exception": false,
     "start_time": "2021-04-12T07:47:16.901773",
     "status": "completed"
    },
    "tags": []
   },
   "outputs": [],
   "source": [
    "class LSTM_net(nn.Module):\n",
    "    def __init__(self, input_size, hidden_size, output_size):\n",
    "        super(LSTM_net, self).__init__()\n",
    "        self.hidden_size = hidden_size\n",
    "        self.lstm_cell = nn.LSTM(input_size, hidden_size)\n",
    "        self.h2o = nn.Linear(hidden_size, output_size)\n",
    "        self.softmax = nn.LogSoftmax(dim=1)\n",
    "    \n",
    "    def forward(self, input, hidden = None):\n",
    "        out, hidden = self.lstm_cell(input, hidden)\n",
    "        output = self.h2o(hidden[0].view(-1, self.hidden_size))\n",
    "        output = self.softmax(output)\n",
    "        return output, hidden\n",
    "    \n",
    "    def init_hidden(self, batch_size = 1):\n",
    "        return (torch.zeros(1, batch_size, self.hidden_size), torch.zeros(1, batch_size, self.hidden_size))"
   ]
  },
  {
   "cell_type": "code",
   "execution_count": 45,
   "metadata": {
    "execution": {
     "iopub.execute_input": "2021-04-12T07:47:17.048059Z",
     "iopub.status.busy": "2021-04-12T07:47:17.047376Z",
     "iopub.status.idle": "2021-04-12T07:53:06.817764Z",
     "shell.execute_reply": "2021-04-12T07:53:06.818369Z"
    },
    "papermill": {
     "duration": 349.819576,
     "end_time": "2021-04-12T07:53:06.818590",
     "exception": false,
     "start_time": "2021-04-12T07:47:16.999014",
     "status": "completed"
    },
    "tags": []
   },
   "outputs": [
    {
     "name": "stdout",
     "output_type": "stream",
     "text": [
      "Iteration 7999 Loss 0.2466673105955124\n"
     ]
    },
    {
     "data": {
      "image/png": "[encoded data removed]",
      "text/plain": [
       "<Figure size 432x288 with 1 Axes>"
      ]
     },
     "metadata": {
      "needs_background": "light"
     },
     "output_type": "display_data"
    },
    {
     "name": "stdout",
     "output_type": "stream",
     "text": [
      "\n",
      "\n",
      "\n",
      "Top-1: 0.7815461346633417 Top-2: 0.8800498753117207\n"
     ]
    }
   ],
   "source": [
    "n_hidden = 128\n",
    "net = LSTM_net(n_letters, n_hidden, n_languages)\n",
    "train_setup(net, lr=0.15, n_batches=8000, batch_size = 512, display_freq=1000, device = device)"
   ]
  },
  {
   "cell_type": "markdown",
   "metadata": {
    "papermill": {
     "duration": 0.045792,
     "end_time": "2021-04-12T07:53:06.911534",
     "exception": false,
     "start_time": "2021-04-12T07:53:06.865742",
     "status": "completed"
    },
    "tags": []
   },
   "source": [
    "### GRU Cell"
   ]
  },
  {
   "cell_type": "code",
   "execution_count": 46,
   "metadata": {
    "execution": {
     "iopub.execute_input": "2021-04-12T07:53:07.010929Z",
     "iopub.status.busy": "2021-04-12T07:53:07.010118Z",
     "iopub.status.idle": "2021-04-12T07:53:07.012800Z",
     "shell.execute_reply": "2021-04-12T07:53:07.012300Z"
    },
    "papermill": {
     "duration": 0.055033,
     "end_time": "2021-04-12T07:53:07.012910",
     "exception": false,
     "start_time": "2021-04-12T07:53:06.957877",
     "status": "completed"
    },
    "tags": []
   },
   "outputs": [],
   "source": [
    "class GRU_net(nn.Module):\n",
    "    def __init__(self, input_size, hidden_size, output_size):\n",
    "        super(GRU_net, self).__init__()\n",
    "        self.hidden_size = hidden_size\n",
    "        self.gru_cell = nn.GRU(input_size, hidden_size)\n",
    "        self.h2o = nn.Linear(hidden_size, output_size)\n",
    "        self.softmax = nn.LogSoftmax(dim=1)\n",
    "    \n",
    "    def forward(self, input, hidden = None):\n",
    "        out, hidden = self.gru_cell(input, hidden)\n",
    "        output = self.h2o(hidden.view(-1, self.hidden_size))\n",
    "        output = self.softmax(output)\n",
    "        return output, hidden"
   ]
  },
  {
   "cell_type": "code",
   "execution_count": 47,
   "metadata": {
    "execution": {
     "iopub.execute_input": "2021-04-12T07:53:07.110329Z",
     "iopub.status.busy": "2021-04-12T07:53:07.109599Z",
     "iopub.status.idle": "2021-04-12T07:58:55.680598Z",
     "shell.execute_reply": "2021-04-12T07:58:55.679812Z"
    },
    "papermill": {
     "duration": 348.621375,
     "end_time": "2021-04-12T07:58:55.680827",
     "exception": false,
     "start_time": "2021-04-12T07:53:07.059452",
     "status": "completed"
    },
    "tags": []
   },
   "outputs": [
    {
     "name": "stdout",
     "output_type": "stream",
     "text": [
      "Iteration 7999 Loss 0.21910430490970612\n"
     ]
    },
    {
     "data": {
      "image/png": "[encoded data removed]",
      "text/plain": [
       "<Figure size 432x288 with 1 Axes>"
      ]
     },
     "metadata": {
      "needs_background": "light"
     },
     "output_type": "display_data"
    },
    {
     "name": "stdout",
     "output_type": "stream",
     "text": [
      "\n",
      "\n",
      "\n",
      "Top-1: 0.8027431421446384 Top-2: 0.8735660847880299\n",
      "CPU times: user 5min 46s, sys: 1.08 s, total: 5min 48s\n",
      "Wall time: 5min 48s\n"
     ]
    }
   ],
   "source": [
    "%%time\n",
    "n_hidden = 128\n",
    "net = GRU_net(n_letters, n_hidden, n_languages)\n",
    "train_setup(net, lr=0.15, n_batches=8000, batch_size = 512, display_freq=1000, device = device)"
   ]
  },
  {
   "cell_type": "code",
   "execution_count": null,
   "metadata": {
    "papermill": {
     "duration": 0.047129,
     "end_time": "2021-04-12T07:58:55.777010",
     "exception": false,
     "start_time": "2021-04-12T07:58:55.729881",
     "status": "completed"
    },
    "tags": []
   },
   "outputs": [],
   "source": []
  }
 ],
 "metadata": {
  "kernelspec": {
   "display_name": "Python 3",
   "language": "python",
   "name": "python3"
  },
  "language_info": {
   "codemirror_mode": {
    "name": "ipython",
    "version": 3
   },
   "file_extension": ".py",
   "mimetype": "text/x-python",
   "name": "python",
   "nbconvert_exporter": "python",
   "pygments_lexer": "ipython3",
   "version": "3.7.9"
  },
  "papermill": {
   "default_parameters": {},
   "duration": 1268.818152,
   "end_time": "2021-04-12T07:58:57.034995",
   "environment_variables": {},
   "exception": null,
   "input_path": "__notebook__.ipynb",
   "output_path": "__notebook__.ipynb",
   "parameters": {},
   "start_time": "2021-04-12T07:37:48.216843",
   "version": "2.2.2"
  }
 },
 "nbformat": 4,
 "nbformat_minor": 4
}
