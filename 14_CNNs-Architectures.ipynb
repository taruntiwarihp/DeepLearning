{
 "cells": [
  {
   "cell_type": "markdown",
   "metadata": {
    "papermill": {
     "duration": 0.137295,
     "end_time": "2021-01-06T10:21:47.799419",
     "exception": false,
     "start_time": "2021-01-06T10:21:47.662124",
     "status": "completed"
    },
    "tags": []
   },
   "source": [
    "### CNNs Architectures\n",
    "Read more [link](https://towardsdatascience.com/illustrated-10-cnn-architectures-95d78ace614d)"
   ]
  },
  {
   "cell_type": "markdown",
   "metadata": {
    "papermill": {
     "duration": 0.056227,
     "end_time": "2021-01-06T10:21:47.909176",
     "exception": false,
     "start_time": "2021-01-06T10:21:47.852949",
     "status": "completed"
    },
    "tags": []
   },
   "source": [
    "### Outline\n",
    "1. Loading datasets - Transforming images\n",
    "2. VGG-16 with modification to network head\n",
    "3. Using pre-trained models\n",
    "4. Storing intermediate models\n",
    "5. ResNet\n",
    "6. Inception v3"
   ]
  },
  {
   "cell_type": "code",
   "execution_count": 1,
   "metadata": {
    "_cell_guid": "79c7e3d0-c299-4dcb-8224-4455121ee9b0",
    "_uuid": "d629ff2d2480ee46fbb7e2d37f6b5fab8052498a",
    "execution": {
     "iopub.execute_input": "2021-01-06T10:21:48.030717Z",
     "iopub.status.busy": "2021-01-06T10:21:48.029738Z",
     "iopub.status.idle": "2021-01-06T10:21:49.545372Z",
     "shell.execute_reply": "2021-01-06T10:21:49.544785Z"
    },
    "papermill": {
     "duration": 1.5793,
     "end_time": "2021-01-06T10:21:49.545487",
     "exception": false,
     "start_time": "2021-01-06T10:21:47.966187",
     "status": "completed"
    },
    "tags": []
   },
   "outputs": [],
   "source": [
    "import matplotlib.pyplot as plt\n",
    "import numpy as np\n",
    "\n",
    "import torch\n",
    "import torchvision\n",
    "import torchvision.transforms as transforms\n",
    "import torch.nn as nn\n",
    "import torch.optim as optim"
   ]
  },
  {
   "cell_type": "code",
   "execution_count": 2,
   "metadata": {
    "execution": {
     "iopub.execute_input": "2021-01-06T10:21:50.004832Z",
     "iopub.status.busy": "2021-01-06T10:21:50.001905Z",
     "iopub.status.idle": "2021-01-06T10:21:50.010075Z",
     "shell.execute_reply": "2021-01-06T10:21:50.009405Z"
    },
    "papermill": {
     "duration": 0.393352,
     "end_time": "2021-01-06T10:21:50.010205",
     "exception": false,
     "start_time": "2021-01-06T10:21:49.616853",
     "status": "completed"
    },
    "tags": []
   },
   "outputs": [
    {
     "name": "stdout",
     "output_type": "stream",
     "text": [
      "cuda:0\n"
     ]
    }
   ],
   "source": [
    "device = torch.device(\"cuda:0\" if torch.cuda.is_available() else \"cpu\")\n",
    "print(device)"
   ]
  },
  {
   "cell_type": "markdown",
   "metadata": {
    "papermill": {
     "duration": 0.038707,
     "end_time": "2021-01-06T10:21:50.088048",
     "exception": false,
     "start_time": "2021-01-06T10:21:50.049341",
     "status": "completed"
    },
    "tags": []
   },
   "source": [
    "### Dataset, transforms, and visualisation"
   ]
  },
  {
   "cell_type": "code",
   "execution_count": 3,
   "metadata": {
    "execution": {
     "iopub.execute_input": "2021-01-06T10:21:50.173278Z",
     "iopub.status.busy": "2021-01-06T10:21:50.172454Z",
     "iopub.status.idle": "2021-01-06T10:21:50.175478Z",
     "shell.execute_reply": "2021-01-06T10:21:50.174962Z"
    },
    "papermill": {
     "duration": 0.048824,
     "end_time": "2021-01-06T10:21:50.175597",
     "exception": false,
     "start_time": "2021-01-06T10:21:50.126773",
     "status": "completed"
    },
    "tags": []
   },
   "outputs": [],
   "source": [
    "transform_train = transforms.Compose([\n",
    "    transforms.RandomResizedCrop(224),\n",
    "    transforms.ToTensor(),\n",
    "    transforms.Normalize((0.485, 0.456, 0.406),(0.229, 0.224, 0.225)),\n",
    "    ])\n",
    "# normalize = transforms.Normalize(mean=[0.485, 0.456, 0.406],\n",
    "#                                  std=[0.229, 0.224, 0.225])\n",
    "transform_test = transforms.Compose([\n",
    "    transforms.RandomResizedCrop(224),\n",
    "    transforms.ToTensor(),\n",
    "    transforms.Normalize((0.485, 0.456, 0.406),(0.229, 0.224, 0.225)),\n",
    "    ])"
   ]
  },
  {
   "cell_type": "code",
   "execution_count": 4,
   "metadata": {
    "execution": {
     "iopub.execute_input": "2021-01-06T10:21:50.260109Z",
     "iopub.status.busy": "2021-01-06T10:21:50.259468Z",
     "iopub.status.idle": "2021-01-06T10:21:56.250339Z",
     "shell.execute_reply": "2021-01-06T10:21:56.249259Z"
    },
    "papermill": {
     "duration": 6.035252,
     "end_time": "2021-01-06T10:21:56.250465",
     "exception": false,
     "start_time": "2021-01-06T10:21:50.215213",
     "status": "completed"
    },
    "tags": []
   },
   "outputs": [
    {
     "name": "stdout",
     "output_type": "stream",
     "text": [
      "Downloading https://www.cs.toronto.edu/~kriz/cifar-10-python.tar.gz to ./data/cifar-10-python.tar.gz\n"
     ]
    },
    {
     "data": {
      "application/vnd.jupyter.widget-view+json": {
       "model_id": "16fcfdc40ab54f2e92f7f8c20434ddfa",
       "version_major": 2,
       "version_minor": 0
      },
      "text/plain": [
       "HBox(children=(FloatProgress(value=1.0, bar_style='info', max=1.0), HTML(value='')))"
      ]
     },
     "metadata": {},
     "output_type": "display_data"
    },
    {
     "name": "stdout",
     "output_type": "stream",
     "text": [
      "Extracting ./data/cifar-10-python.tar.gz to ./data\n",
      "Files already downloaded and verified\n"
     ]
    }
   ],
   "source": [
    "trainset = torchvision.datasets.CIFAR10(root='./data', train=True,\n",
    "                                       download=True,\n",
    "                                       transform=transform_train)\n",
    "testset = torchvision.datasets.CIFAR10(root='./data', train=False,\n",
    "                                     download=True,\n",
    "                                     transform=transform_test)"
   ]
  },
  {
   "cell_type": "code",
   "execution_count": 5,
   "metadata": {
    "execution": {
     "iopub.execute_input": "2021-01-06T10:21:56.337806Z",
     "iopub.status.busy": "2021-01-06T10:21:56.336957Z",
     "iopub.status.idle": "2021-01-06T10:21:56.340009Z",
     "shell.execute_reply": "2021-01-06T10:21:56.339446Z"
    },
    "papermill": {
     "duration": 0.048582,
     "end_time": "2021-01-06T10:21:56.340118",
     "exception": false,
     "start_time": "2021-01-06T10:21:56.291536",
     "status": "completed"
    },
    "tags": []
   },
   "outputs": [],
   "source": [
    "num_classes = 10"
   ]
  },
  {
   "cell_type": "code",
   "execution_count": 6,
   "metadata": {
    "execution": {
     "iopub.execute_input": "2021-01-06T10:21:56.426336Z",
     "iopub.status.busy": "2021-01-06T10:21:56.425524Z",
     "iopub.status.idle": "2021-01-06T10:21:56.428467Z",
     "shell.execute_reply": "2021-01-06T10:21:56.427999Z"
    },
    "papermill": {
     "duration": 0.04784,
     "end_time": "2021-01-06T10:21:56.428605",
     "exception": false,
     "start_time": "2021-01-06T10:21:56.380765",
     "status": "completed"
    },
    "tags": []
   },
   "outputs": [],
   "source": [
    "batch_size = 4"
   ]
  },
  {
   "cell_type": "code",
   "execution_count": 7,
   "metadata": {
    "execution": {
     "iopub.execute_input": "2021-01-06T10:21:56.516059Z",
     "iopub.status.busy": "2021-01-06T10:21:56.515206Z",
     "iopub.status.idle": "2021-01-06T10:21:56.517990Z",
     "shell.execute_reply": "2021-01-06T10:21:56.517482Z"
    },
    "papermill": {
     "duration": 0.048484,
     "end_time": "2021-01-06T10:21:56.518090",
     "exception": false,
     "start_time": "2021-01-06T10:21:56.469606",
     "status": "completed"
    },
    "tags": []
   },
   "outputs": [],
   "source": [
    "trainloader = torch.utils.data.DataLoader(trainset, batch_size=batch_size, shuffle=True)"
   ]
  },
  {
   "cell_type": "code",
   "execution_count": 8,
   "metadata": {
    "execution": {
     "iopub.execute_input": "2021-01-06T10:21:56.608315Z",
     "iopub.status.busy": "2021-01-06T10:21:56.607713Z",
     "iopub.status.idle": "2021-01-06T10:21:56.698744Z",
     "shell.execute_reply": "2021-01-06T10:21:56.697440Z"
    },
    "papermill": {
     "duration": 0.139395,
     "end_time": "2021-01-06T10:21:56.699000",
     "exception": false,
     "start_time": "2021-01-06T10:21:56.559605",
     "status": "completed"
    },
    "tags": []
   },
   "outputs": [
    {
     "name": "stdout",
     "output_type": "stream",
     "text": [
      "\n",
      "torch.Size([4, 3, 224, 224])\n",
      "torch.Size([3, 224, 224])\n",
      "6\n"
     ]
    }
   ],
   "source": [
    "dataiter = iter(trainloader)\n",
    "images, labels = dataiter.next()\n",
    "\n",
    "print(images.shape)\n",
    "\n",
    "print(images[1].shape)\n",
    "print(labels[1].item())"
   ]
  },
  {
   "cell_type": "code",
   "execution_count": 9,
   "metadata": {
    "execution": {
     "iopub.execute_input": "2021-01-06T10:21:56.811784Z",
     "iopub.status.busy": "2021-01-06T10:21:56.810967Z",
     "iopub.status.idle": "2021-01-06T10:21:56.813671Z",
     "shell.execute_reply": "2021-01-06T10:21:56.814118Z"
    },
    "papermill": {
     "duration": 0.050957,
     "end_time": "2021-01-06T10:21:56.814242",
     "exception": false,
     "start_time": "2021-01-06T10:21:56.763285",
     "status": "completed"
    },
    "tags": []
   },
   "outputs": [],
   "source": [
    "def imshow(img, title):\n",
    "    npimg = img.numpy() / 2 + 0.5\n",
    "    plt.figure(figsize=(batch_size,1))\n",
    "    plt.axis('off')\n",
    "    plt.imshow(np.transpose(npimg,(1, 2, 0)))\n",
    "    plt.title(title)\n",
    "    plt.show()"
   ]
  },
  {
   "cell_type": "code",
   "execution_count": 10,
   "metadata": {
    "execution": {
     "iopub.execute_input": "2021-01-06T10:21:56.906120Z",
     "iopub.status.busy": "2021-01-06T10:21:56.904342Z",
     "iopub.status.idle": "2021-01-06T10:21:56.906789Z",
     "shell.execute_reply": "2021-01-06T10:21:56.907250Z"
    },
    "papermill": {
     "duration": 0.051265,
     "end_time": "2021-01-06T10:21:56.907363",
     "exception": false,
     "start_time": "2021-01-06T10:21:56.856098",
     "status": "completed"
    },
    "tags": []
   },
   "outputs": [],
   "source": [
    "def imshow(img, title):\n",
    "    npimg = img.numpy() / 2 + 0.5\n",
    "    plt.figure(figsize=(batch_size,1))\n",
    "    plt.axis('off')\n",
    "    plt.imshow(np.transpose(npimg,(1, 2, 0)))\n",
    "    plt.title(title)\n",
    "    plt.show()"
   ]
  },
  {
   "cell_type": "code",
   "execution_count": 11,
   "metadata": {
    "execution": {
     "iopub.execute_input": "2021-01-06T10:21:56.997314Z",
     "iopub.status.busy": "2021-01-06T10:21:56.996537Z",
     "iopub.status.idle": "2021-01-06T10:21:56.999444Z",
     "shell.execute_reply": "2021-01-06T10:21:56.998848Z"
    },
    "papermill": {
     "duration": 0.050661,
     "end_time": "2021-01-06T10:21:56.999569",
     "exception": false,
     "start_time": "2021-01-06T10:21:56.948908",
     "status": "completed"
    },
    "tags": []
   },
   "outputs": [],
   "source": [
    "def show_batch_images(dataloader):\n",
    "    images, labels = next(iter(dataloader))\n",
    "    img = torchvision.utils.make_grid(images)\n",
    "    imshow(img, title = [str(x.item()) for x in labels])"
   ]
  },
  {
   "cell_type": "code",
   "execution_count": 12,
   "metadata": {
    "execution": {
     "iopub.execute_input": "2021-01-06T10:21:57.087937Z",
     "iopub.status.busy": "2021-01-06T10:21:57.087278Z",
     "iopub.status.idle": "2021-01-06T10:21:57.434219Z",
     "shell.execute_reply": "2021-01-06T10:21:57.433354Z"
    },
    "papermill": {
     "duration": 0.39259,
     "end_time": "2021-01-06T10:21:57.434334",
     "exception": false,
     "start_time": "2021-01-06T10:21:57.041744",
     "status": "completed"
    },
    "tags": []
   },
   "outputs": [
    {
     "data": {
      "image/png": "[encoded data removed]",
      "text/plain": [
       "<Figure size 288x72 with 1 Axes>"
      ]
     },
     "metadata": {
      "needs_background": "light"
     },
     "output_type": "display_data"
    },
    {
     "data": {
      "image/png": "[encoded data removed]",
      "text/plain": [
       "<Figure size 288x72 with 1 Axes>"
      ]
     },
     "metadata": {
      "needs_background": "light"
     },
     "output_type": "display_data"
    },
    {
     "data": {
      "image/png": "[encoded data removed]",
      "text/plain": [
       "<Figure size 288x72 with 1 Axes>"
      ]
     },
     "metadata": {
      "needs_background": "light"
     },
     "output_type": "display_data"
    },
    {
     "data": {
      "image/png": "[encoded data removed]",
      "text/plain": [
       "<Figure size 288x72 with 1 Axes>"
      ]
     },
     "metadata": {
      "needs_background": "light"
     },
     "output_type": "display_data"
    }
   ],
   "source": [
    "for i in range(4):\n",
    "    show_batch_images(trainloader)"
   ]
  },
  {
   "cell_type": "markdown",
   "metadata": {
    "papermill": {
     "duration": 0.047647,
     "end_time": "2021-01-06T10:21:57.532914",
     "exception": false,
     "start_time": "2021-01-06T10:21:57.485267",
     "status": "completed"
    },
    "tags": []
   },
   "source": [
    "### Creating VGG-16\n",
    " \n",
    "#### [link](https://pytorch.org/hub/pytorch_vision_vgg/)"
   ]
  },
  {
   "cell_type": "code",
   "execution_count": 13,
   "metadata": {
    "execution": {
     "iopub.execute_input": "2021-01-06T10:21:57.629963Z",
     "iopub.status.busy": "2021-01-06T10:21:57.629047Z",
     "iopub.status.idle": "2021-01-06T10:21:57.631714Z",
     "shell.execute_reply": "2021-01-06T10:21:57.631079Z"
    },
    "papermill": {
     "duration": 0.052776,
     "end_time": "2021-01-06T10:21:57.631827",
     "exception": false,
     "start_time": "2021-01-06T10:21:57.579051",
     "status": "completed"
    },
    "tags": []
   },
   "outputs": [],
   "source": [
    "from torchvision import models"
   ]
  },
  {
   "cell_type": "code",
   "execution_count": 14,
   "metadata": {
    "execution": {
     "iopub.execute_input": "2021-01-06T10:21:57.733637Z",
     "iopub.status.busy": "2021-01-06T10:21:57.727336Z",
     "iopub.status.idle": "2021-01-06T10:22:00.029558Z",
     "shell.execute_reply": "2021-01-06T10:22:00.028047Z"
    },
    "papermill": {
     "duration": 2.351861,
     "end_time": "2021-01-06T10:22:00.029686",
     "exception": false,
     "start_time": "2021-01-06T10:21:57.677825",
     "status": "completed"
    },
    "tags": []
   },
   "outputs": [],
   "source": [
    "vgg = models.vgg16_bn()"
   ]
  },
  {
   "cell_type": "code",
   "execution_count": 15,
   "metadata": {
    "execution": {
     "iopub.execute_input": "2021-01-06T10:22:00.128912Z",
     "iopub.status.busy": "2021-01-06T10:22:00.128149Z",
     "iopub.status.idle": "2021-01-06T10:22:00.139203Z",
     "shell.execute_reply": "2021-01-06T10:22:00.139720Z"
    },
    "papermill": {
     "duration": 0.063385,
     "end_time": "2021-01-06T10:22:00.139853",
     "exception": false,
     "start_time": "2021-01-06T10:22:00.076468",
     "status": "completed"
    },
    "tags": []
   },
   "outputs": [
    {
     "name": "stdout",
     "output_type": "stream",
     "text": [
      "VGG(\n",
      "  (features): Sequential(\n",
      "    (0): Conv2d(3, 64, kernel_size=(3, 3), stride=(1, 1), padding=(1, 1))\n",
      "    (1): BatchNorm2d(64, eps=1e-05, momentum=0.1, affine=True, track_running_stats=True)\n",
      "    (2): ReLU(inplace=True)\n",
      "    (3): Conv2d(64, 64, kernel_size=(3, 3), stride=(1, 1), padding=(1, 1))\n",
      "    (4): BatchNorm2d(64, eps=1e-05, momentum=0.1, affine=True, track_running_stats=True)\n",
      "    (5): ReLU(inplace=True)\n",
      "    (6): MaxPool2d(kernel_size=2, stride=2, padding=0, dilation=1, ceil_mode=False)\n",
      "    (7): Conv2d(64, 128, kernel_size=(3, 3), stride=(1, 1), padding=(1, 1))\n",
      "    (8): BatchNorm2d(128, eps=1e-05, momentum=0.1, affine=True, track_running_stats=True)\n",
      "    (9): ReLU(inplace=True)\n",
      "    (10): Conv2d(128, 128, kernel_size=(3, 3), stride=(1, 1), padding=(1, 1))\n",
      "    (11): BatchNorm2d(128, eps=1e-05, momentum=0.1, affine=True, track_running_stats=True)\n",
      "    (12): ReLU(inplace=True)\n",
      "    (13): MaxPool2d(kernel_size=2, stride=2, padding=0, dilation=1, ceil_mode=False)\n",
      "    (14): Conv2d(128, 256, kernel_size=(3, 3), stride=(1, 1), padding=(1, 1))\n",
      "    (15): BatchNorm2d(256, eps=1e-05, momentum=0.1, affine=True, track_running_stats=True)\n",
      "    (16): ReLU(inplace=True)\n",
      "    (17): Conv2d(256, 256, kernel_size=(3, 3), stride=(1, 1), padding=(1, 1))\n",
      "    (18): BatchNorm2d(256, eps=1e-05, momentum=0.1, affine=True, track_running_stats=True)\n",
      "    (19): ReLU(inplace=True)\n",
      "    (20): Conv2d(256, 256, kernel_size=(3, 3), stride=(1, 1), padding=(1, 1))\n",
      "    (21): BatchNorm2d(256, eps=1e-05, momentum=0.1, affine=True, track_running_stats=True)\n",
      "    (22): ReLU(inplace=True)\n",
      "    (23): MaxPool2d(kernel_size=2, stride=2, padding=0, dilation=1, ceil_mode=False)\n",
      "    (24): Conv2d(256, 512, kernel_size=(3, 3), stride=(1, 1), padding=(1, 1))\n",
      "    (25): BatchNorm2d(512, eps=1e-05, momentum=0.1, affine=True, track_running_stats=True)\n",
      "    (26): ReLU(inplace=True)\n",
      "    (27): Conv2d(512, 512, kernel_size=(3, 3), stride=(1, 1), padding=(1, 1))\n",
      "    (28): BatchNorm2d(512, eps=1e-05, momentum=0.1, affine=True, track_running_stats=True)\n",
      "    (29): ReLU(inplace=True)\n",
      "    (30): Conv2d(512, 512, kernel_size=(3, 3), stride=(1, 1), padding=(1, 1))\n",
      "    (31): BatchNorm2d(512, eps=1e-05, momentum=0.1, affine=True, track_running_stats=True)\n",
      "    (32): ReLU(inplace=True)\n",
      "    (33): MaxPool2d(kernel_size=2, stride=2, padding=0, dilation=1, ceil_mode=False)\n",
      "    (34): Conv2d(512, 512, kernel_size=(3, 3), stride=(1, 1), padding=(1, 1))\n",
      "    (35): BatchNorm2d(512, eps=1e-05, momentum=0.1, affine=True, track_running_stats=True)\n",
      "    (36): ReLU(inplace=True)\n",
      "    (37): Conv2d(512, 512, kernel_size=(3, 3), stride=(1, 1), padding=(1, 1))\n",
      "    (38): BatchNorm2d(512, eps=1e-05, momentum=0.1, affine=True, track_running_stats=True)\n",
      "    (39): ReLU(inplace=True)\n",
      "    (40): Conv2d(512, 512, kernel_size=(3, 3), stride=(1, 1), padding=(1, 1))\n",
      "    (41): BatchNorm2d(512, eps=1e-05, momentum=0.1, affine=True, track_running_stats=True)\n",
      "    (42): ReLU(inplace=True)\n",
      "    (43): MaxPool2d(kernel_size=2, stride=2, padding=0, dilation=1, ceil_mode=False)\n",
      "  )\n",
      "  (avgpool): AdaptiveAvgPool2d(output_size=(7, 7))\n",
      "  (classifier): Sequential(\n",
      "    (0): Linear(in_features=25088, out_features=4096, bias=True)\n",
      "    (1): ReLU(inplace=True)\n",
      "    (2): Dropout(p=0.5, inplace=False)\n",
      "    (3): Linear(in_features=4096, out_features=4096, bias=True)\n",
      "    (4): ReLU(inplace=True)\n",
      "    (5): Dropout(p=0.5, inplace=False)\n",
      "    (6): Linear(in_features=4096, out_features=1000, bias=True)\n",
      "  )\n",
      ")\n"
     ]
    }
   ],
   "source": [
    "print(vgg)"
   ]
  },
  {
   "cell_type": "code",
   "execution_count": 16,
   "metadata": {
    "execution": {
     "iopub.execute_input": "2021-01-06T10:22:00.244308Z",
     "iopub.status.busy": "2021-01-06T10:22:00.243602Z",
     "iopub.status.idle": "2021-01-06T10:22:00.248382Z",
     "shell.execute_reply": "2021-01-06T10:22:00.247745Z"
    },
    "papermill": {
     "duration": 0.056903,
     "end_time": "2021-01-06T10:22:00.248540",
     "exception": false,
     "start_time": "2021-01-06T10:22:00.191637",
     "status": "completed"
    },
    "tags": []
   },
   "outputs": [
    {
     "name": "stdout",
     "output_type": "stream",
     "text": [
      "Conv2d(3, 64, kernel_size=(3, 3), stride=(1, 1), padding=(1, 1))\n"
     ]
    }
   ],
   "source": [
    "print(vgg.features[0])"
   ]
  },
  {
   "cell_type": "code",
   "execution_count": 17,
   "metadata": {
    "execution": {
     "iopub.execute_input": "2021-01-06T10:22:00.440153Z",
     "iopub.status.busy": "2021-01-06T10:22:00.439034Z",
     "iopub.status.idle": "2021-01-06T10:22:00.443522Z",
     "shell.execute_reply": "2021-01-06T10:22:00.441066Z"
    },
    "papermill": {
     "duration": 0.136209,
     "end_time": "2021-01-06T10:22:00.443695",
     "exception": false,
     "start_time": "2021-01-06T10:22:00.307486",
     "status": "completed"
    },
    "tags": []
   },
   "outputs": [
    {
     "name": "stdout",
     "output_type": "stream",
     "text": [
      "Linear(in_features=4096, out_features=1000, bias=True)\n"
     ]
    }
   ],
   "source": [
    "print(vgg.classifier[6])"
   ]
  },
  {
   "cell_type": "code",
   "execution_count": 18,
   "metadata": {
    "execution": {
     "iopub.execute_input": "2021-01-06T10:22:00.560307Z",
     "iopub.status.busy": "2021-01-06T10:22:00.559410Z",
     "iopub.status.idle": "2021-01-06T10:22:00.564463Z",
     "shell.execute_reply": "2021-01-06T10:22:00.563994Z"
    },
    "papermill": {
     "duration": 0.059295,
     "end_time": "2021-01-06T10:22:00.564592",
     "exception": false,
     "start_time": "2021-01-06T10:22:00.505297",
     "status": "completed"
    },
    "tags": []
   },
   "outputs": [
    {
     "name": "stdout",
     "output_type": "stream",
     "text": [
      "[Linear(in_features=25088, out_features=4096, bias=True), ReLU(inplace=True), Dropout(p=0.5, inplace=False), Linear(in_features=4096, out_features=4096, bias=True), ReLU(inplace=True), Dropout(p=0.5, inplace=False), Linear(in_features=4096, out_features=10, bias=True)]\n"
     ]
    }
   ],
   "source": [
    "final_in_features = vgg.classifier[6].in_features\n",
    "mod_classifier = list(vgg.classifier.children())[:-1]\n",
    "mod_classifier.extend([nn.Linear(final_in_features, num_classes)])\n",
    "print(mod_classifier)"
   ]
  },
  {
   "cell_type": "code",
   "execution_count": 19,
   "metadata": {
    "execution": {
     "iopub.execute_input": "2021-01-06T10:22:00.667182Z",
     "iopub.status.busy": "2021-01-06T10:22:00.666526Z",
     "iopub.status.idle": "2021-01-06T10:22:00.672462Z",
     "shell.execute_reply": "2021-01-06T10:22:00.673228Z"
    },
    "papermill": {
     "duration": 0.060173,
     "end_time": "2021-01-06T10:22:00.673397",
     "exception": false,
     "start_time": "2021-01-06T10:22:00.613224",
     "status": "completed"
    },
    "tags": []
   },
   "outputs": [
    {
     "name": "stdout",
     "output_type": "stream",
     "text": [
      "VGG(\n",
      "  (features): Sequential(\n",
      "    (0): Conv2d(3, 64, kernel_size=(3, 3), stride=(1, 1), padding=(1, 1))\n",
      "    (1): BatchNorm2d(64, eps=1e-05, momentum=0.1, affine=True, track_running_stats=True)\n",
      "    (2): ReLU(inplace=True)\n",
      "    (3): Conv2d(64, 64, kernel_size=(3, 3), stride=(1, 1), padding=(1, 1))\n",
      "    (4): BatchNorm2d(64, eps=1e-05, momentum=0.1, affine=True, track_running_stats=True)\n",
      "    (5): ReLU(inplace=True)\n",
      "    (6): MaxPool2d(kernel_size=2, stride=2, padding=0, dilation=1, ceil_mode=False)\n",
      "    (7): Conv2d(64, 128, kernel_size=(3, 3), stride=(1, 1), padding=(1, 1))\n",
      "    (8): BatchNorm2d(128, eps=1e-05, momentum=0.1, affine=True, track_running_stats=True)\n",
      "    (9): ReLU(inplace=True)\n",
      "    (10): Conv2d(128, 128, kernel_size=(3, 3), stride=(1, 1), padding=(1, 1))\n",
      "    (11): BatchNorm2d(128, eps=1e-05, momentum=0.1, affine=True, track_running_stats=True)\n",
      "    (12): ReLU(inplace=True)\n",
      "    (13): MaxPool2d(kernel_size=2, stride=2, padding=0, dilation=1, ceil_mode=False)\n",
      "    (14): Conv2d(128, 256, kernel_size=(3, 3), stride=(1, 1), padding=(1, 1))\n",
      "    (15): BatchNorm2d(256, eps=1e-05, momentum=0.1, affine=True, track_running_stats=True)\n",
      "    (16): ReLU(inplace=True)\n",
      "    (17): Conv2d(256, 256, kernel_size=(3, 3), stride=(1, 1), padding=(1, 1))\n",
      "    (18): BatchNorm2d(256, eps=1e-05, momentum=0.1, affine=True, track_running_stats=True)\n",
      "    (19): ReLU(inplace=True)\n",
      "    (20): Conv2d(256, 256, kernel_size=(3, 3), stride=(1, 1), padding=(1, 1))\n",
      "    (21): BatchNorm2d(256, eps=1e-05, momentum=0.1, affine=True, track_running_stats=True)\n",
      "    (22): ReLU(inplace=True)\n",
      "    (23): MaxPool2d(kernel_size=2, stride=2, padding=0, dilation=1, ceil_mode=False)\n",
      "    (24): Conv2d(256, 512, kernel_size=(3, 3), stride=(1, 1), padding=(1, 1))\n",
      "    (25): BatchNorm2d(512, eps=1e-05, momentum=0.1, affine=True, track_running_stats=True)\n",
      "    (26): ReLU(inplace=True)\n",
      "    (27): Conv2d(512, 512, kernel_size=(3, 3), stride=(1, 1), padding=(1, 1))\n",
      "    (28): BatchNorm2d(512, eps=1e-05, momentum=0.1, affine=True, track_running_stats=True)\n",
      "    (29): ReLU(inplace=True)\n",
      "    (30): Conv2d(512, 512, kernel_size=(3, 3), stride=(1, 1), padding=(1, 1))\n",
      "    (31): BatchNorm2d(512, eps=1e-05, momentum=0.1, affine=True, track_running_stats=True)\n",
      "    (32): ReLU(inplace=True)\n",
      "    (33): MaxPool2d(kernel_size=2, stride=2, padding=0, dilation=1, ceil_mode=False)\n",
      "    (34): Conv2d(512, 512, kernel_size=(3, 3), stride=(1, 1), padding=(1, 1))\n",
      "    (35): BatchNorm2d(512, eps=1e-05, momentum=0.1, affine=True, track_running_stats=True)\n",
      "    (36): ReLU(inplace=True)\n",
      "    (37): Conv2d(512, 512, kernel_size=(3, 3), stride=(1, 1), padding=(1, 1))\n",
      "    (38): BatchNorm2d(512, eps=1e-05, momentum=0.1, affine=True, track_running_stats=True)\n",
      "    (39): ReLU(inplace=True)\n",
      "    (40): Conv2d(512, 512, kernel_size=(3, 3), stride=(1, 1), padding=(1, 1))\n",
      "    (41): BatchNorm2d(512, eps=1e-05, momentum=0.1, affine=True, track_running_stats=True)\n",
      "    (42): ReLU(inplace=True)\n",
      "    (43): MaxPool2d(kernel_size=2, stride=2, padding=0, dilation=1, ceil_mode=False)\n",
      "  )\n",
      "  (avgpool): AdaptiveAvgPool2d(output_size=(7, 7))\n",
      "  (classifier): Sequential(\n",
      "    (0): Linear(in_features=25088, out_features=4096, bias=True)\n",
      "    (1): ReLU(inplace=True)\n",
      "    (2): Dropout(p=0.5, inplace=False)\n",
      "    (3): Linear(in_features=4096, out_features=4096, bias=True)\n",
      "    (4): ReLU(inplace=True)\n",
      "    (5): Dropout(p=0.5, inplace=False)\n",
      "    (6): Linear(in_features=4096, out_features=10, bias=True)\n",
      "  )\n",
      ")\n"
     ]
    }
   ],
   "source": [
    "vgg.classifier = nn.Sequential(*mod_classifier)\n",
    "print(vgg)"
   ]
  },
  {
   "cell_type": "markdown",
   "metadata": {
    "papermill": {
     "duration": 0.048783,
     "end_time": "2021-01-06T10:22:00.773735",
     "exception": false,
     "start_time": "2021-01-06T10:22:00.724952",
     "status": "completed"
    },
    "tags": []
   },
   "source": [
    "### Train CIFAR10"
   ]
  },
  {
   "cell_type": "code",
   "execution_count": 20,
   "metadata": {
    "execution": {
     "iopub.execute_input": "2021-01-06T10:22:00.879633Z",
     "iopub.status.busy": "2021-01-06T10:22:00.878466Z",
     "iopub.status.idle": "2021-01-06T10:22:00.880716Z",
     "shell.execute_reply": "2021-01-06T10:22:00.880206Z"
    },
    "papermill": {
     "duration": 0.05834,
     "end_time": "2021-01-06T10:22:00.880820",
     "exception": false,
     "start_time": "2021-01-06T10:22:00.822480",
     "status": "completed"
    },
    "tags": []
   },
   "outputs": [],
   "source": [
    "batch_size = 16\n",
    "\n",
    "trainloader = torch.utils.data.DataLoader(trainset, batch_size=batch_size, shuffle=True)\n",
    "testloader = torch.utils.data.DataLoader(testset, batch_size=batch_size, shuffle=False)"
   ]
  },
  {
   "cell_type": "code",
   "execution_count": 21,
   "metadata": {
    "execution": {
     "iopub.execute_input": "2021-01-06T10:22:00.987096Z",
     "iopub.status.busy": "2021-01-06T10:22:00.986278Z",
     "iopub.status.idle": "2021-01-06T10:22:00.989190Z",
     "shell.execute_reply": "2021-01-06T10:22:00.988708Z"
    },
    "papermill": {
     "duration": 0.058698,
     "end_time": "2021-01-06T10:22:00.989290",
     "exception": false,
     "start_time": "2021-01-06T10:22:00.930592",
     "status": "completed"
    },
    "tags": []
   },
   "outputs": [],
   "source": [
    "def evaluation(dataloader, model):\n",
    "    total, correct = 0,0\n",
    "    for data in dataloader:\n",
    "        inputs, labels = data\n",
    "        inputs, labels = inputs.to(device), labels.to(device)\n",
    "        outputs = model(inputs)\n",
    "        _, pred = torch.max(outputs.data, 1)\n",
    "        total += labels.size(0)\n",
    "        correct += (pred == labels).sum().item()\n",
    "    return 100 * correct / total"
   ]
  },
  {
   "cell_type": "code",
   "execution_count": 22,
   "metadata": {
    "execution": {
     "iopub.execute_input": "2021-01-06T10:22:01.097609Z",
     "iopub.status.busy": "2021-01-06T10:22:01.096928Z",
     "iopub.status.idle": "2021-01-06T10:22:05.355875Z",
     "shell.execute_reply": "2021-01-06T10:22:05.355289Z"
    },
    "papermill": {
     "duration": 4.317474,
     "end_time": "2021-01-06T10:22:05.355996",
     "exception": false,
     "start_time": "2021-01-06T10:22:01.038522",
     "status": "completed"
    },
    "tags": []
   },
   "outputs": [],
   "source": [
    "vgg = vgg.to(device)\n",
    "loss_fn = nn.CrossEntropyLoss()\n",
    "opt = optim.SGD(vgg.parameters(), lr=0.05)"
   ]
  },
  {
   "cell_type": "code",
   "execution_count": 23,
   "metadata": {
    "execution": {
     "iopub.execute_input": "2021-01-06T10:22:06.074857Z",
     "iopub.status.busy": "2021-01-06T10:22:06.073979Z",
     "iopub.status.idle": "2021-01-06T10:39:03.512466Z",
     "shell.execute_reply": "2021-01-06T10:39:03.511885Z"
    },
    "papermill": {
     "duration": 1018.104579,
     "end_time": "2021-01-06T10:39:03.512617",
     "exception": false,
     "start_time": "2021-01-06T10:22:05.408038",
     "status": "completed"
    },
    "tags": []
   },
   "outputs": [
    {
     "name": "stdout",
     "output_type": "stream",
     "text": [
      "Iteration: 0/3125, Loss: 2.32\n",
      "Iteration: 100/3125, Loss: 1.86\n",
      "Iteration: 200/3125, Loss: 2.48\n",
      "Iteration: 300/3125, Loss: 2.13\n",
      "Iteration: 400/3125, Loss: 3.05\n",
      "Iteration: 500/3125, Loss: 2.30\n",
      "Iteration: 600/3125, Loss: 2.29\n",
      "Iteration: 700/3125, Loss: 2.31\n",
      "Iteration: 800/3125, Loss: 2.31\n",
      "Iteration: 900/3125, Loss: 2.29\n",
      "Iteration: 1000/3125, Loss: 2.29\n",
      "Iteration: 1100/3125, Loss: 2.32\n",
      "Iteration: 1200/3125, Loss: 2.30\n",
      "Iteration: 1300/3125, Loss: 2.31\n",
      "Iteration: 1400/3125, Loss: 2.30\n",
      "Iteration: 1500/3125, Loss: 2.30\n",
      "Iteration: 1600/3125, Loss: 2.30\n",
      "Iteration: 1700/3125, Loss: 2.32\n",
      "Iteration: 1800/3125, Loss: 2.31\n",
      "Iteration: 1900/3125, Loss: 2.30\n",
      "Iteration: 2000/3125, Loss: 2.31\n",
      "Iteration: 2100/3125, Loss: 2.31\n",
      "Iteration: 2200/3125, Loss: 2.30\n",
      "Iteration: 2300/3125, Loss: 2.29\n",
      "Iteration: 2400/3125, Loss: 2.31\n",
      "Iteration: 2500/3125, Loss: 2.31\n",
      "Iteration: 2600/3125, Loss: 2.31\n",
      "Iteration: 2700/3125, Loss: 2.31\n",
      "Iteration: 2800/3125, Loss: 2.29\n",
      "Iteration: 2900/3125, Loss: 2.31\n",
      "Iteration: 3000/3125, Loss: 2.31\n",
      "Iteration: 3100/3125, Loss: 2.32\n",
      "Epoch: 0/1, Test acc: 10.11, Train acc: 10.03\n"
     ]
    },
    {
     "data": {
      "image/png": "[encoded data removed]",
      "text/plain": [
       "<Figure size 432x288 with 1 Axes>"
      ]
     },
     "metadata": {
      "needs_background": "light"
     },
     "output_type": "display_data"
    }
   ],
   "source": [
    "loss_epoch_arr = []\n",
    "max_epochs = 1\n",
    "\n",
    "n_iters = np.ceil(50000/batch_size)\n",
    "\n",
    "for epoch in range(max_epochs):\n",
    "    \n",
    "    for i, data in enumerate(trainloader, 0):\n",
    "        \n",
    "        inputs, labels = data\n",
    "        inputs, labels = inputs.to(device), labels.to(device)\n",
    "        \n",
    "        opt.zero_grad()\n",
    "        \n",
    "        outputs = vgg(inputs)\n",
    "        loss = loss_fn(outputs, labels)\n",
    "        loss.backward()\n",
    "        opt.step()\n",
    "        \n",
    "        del inputs, labels, outputs\n",
    "        torch.cuda.empty_cache()\n",
    "        \n",
    "        if i % 100 == 0:\n",
    "            print('Iteration: %d/%d, Loss: %0.2f' % (i, n_iters, loss.item()))\n",
    "    \n",
    "    loss_epoch_arr.append(loss.item())\n",
    "    \n",
    "    print('Epoch: %d/%d, Test acc: %0.2f, Train acc: %0.2f' % (epoch,max_epochs,evaluation(testloader,vgg),evaluation(trainloader, vgg)))\n",
    "\n",
    "plt.plot(loss_epoch_arr)\n",
    "plt.show()\n"
   ]
  },
  {
   "cell_type": "markdown",
   "metadata": {
    "papermill": {
     "duration": 0.060603,
     "end_time": "2021-01-06T10:39:03.639036",
     "exception": false,
     "start_time": "2021-01-06T10:39:03.578433",
     "status": "completed"
    },
    "tags": []
   },
   "source": [
    "### Freeze layers of Convolutional Operations"
   ]
  },
  {
   "cell_type": "code",
   "execution_count": 24,
   "metadata": {
    "execution": {
     "iopub.execute_input": "2021-01-06T10:39:03.770200Z",
     "iopub.status.busy": "2021-01-06T10:39:03.769397Z",
     "iopub.status.idle": "2021-01-06T10:39:03.772288Z",
     "shell.execute_reply": "2021-01-06T10:39:03.771809Z"
    },
    "papermill": {
     "duration": 0.071744,
     "end_time": "2021-01-06T10:39:03.772388",
     "exception": false,
     "start_time": "2021-01-06T10:39:03.700644",
     "status": "completed"
    },
    "tags": []
   },
   "outputs": [],
   "source": [
    "batch_size = 16\n",
    "\n",
    "trainloader = torch.utils.data.DataLoader(trainset, batch_size=batch_size, shuffle=True)\n",
    "testloader = torch.utils.data.DataLoader(testset, batch_size=batch_size, shuffle=False)"
   ]
  },
  {
   "cell_type": "code",
   "execution_count": 25,
   "metadata": {
    "execution": {
     "iopub.execute_input": "2021-01-06T10:39:03.907149Z",
     "iopub.status.busy": "2021-01-06T10:39:03.906345Z",
     "iopub.status.idle": "2021-01-06T10:39:28.574796Z",
     "shell.execute_reply": "2021-01-06T10:39:28.573707Z"
    },
    "papermill": {
     "duration": 24.737356,
     "end_time": "2021-01-06T10:39:28.574933",
     "exception": false,
     "start_time": "2021-01-06T10:39:03.837577",
     "status": "completed"
    },
    "tags": []
   },
   "outputs": [
    {
     "name": "stderr",
     "output_type": "stream",
     "text": [
      "Downloading: \"https://download.pytorch.org/models/vgg16_bn-6c64b313.pth\" to /root/.cache/torch/hub/checkpoints/vgg16_bn-6c64b313.pth\n"
     ]
    },
    {
     "data": {
      "application/vnd.jupyter.widget-view+json": {
       "model_id": "8ef3b8abc4c244e2ade08233a77dd214",
       "version_major": 2,
       "version_minor": 0
      },
      "text/plain": [
       "HBox(children=(FloatProgress(value=0.0, max=553507836.0), HTML(value='')))"
      ]
     },
     "metadata": {},
     "output_type": "display_data"
    },
    {
     "name": "stdout",
     "output_type": "stream",
     "text": [
      "\n"
     ]
    }
   ],
   "source": [
    "vgg = models.vgg16_bn(pretrained=True)"
   ]
  },
  {
   "cell_type": "code",
   "execution_count": 26,
   "metadata": {
    "execution": {
     "iopub.execute_input": "2021-01-06T10:39:28.708393Z",
     "iopub.status.busy": "2021-01-06T10:39:28.707590Z",
     "iopub.status.idle": "2021-01-06T10:39:28.710585Z",
     "shell.execute_reply": "2021-01-06T10:39:28.710091Z"
    },
    "papermill": {
     "duration": 0.071927,
     "end_time": "2021-01-06T10:39:28.710687",
     "exception": false,
     "start_time": "2021-01-06T10:39:28.638760",
     "status": "completed"
    },
    "tags": []
   },
   "outputs": [],
   "source": [
    "for param in vgg.parameters():\n",
    "    param.requires_grad = False"
   ]
  },
  {
   "cell_type": "code",
   "execution_count": 27,
   "metadata": {
    "execution": {
     "iopub.execute_input": "2021-01-06T10:39:28.849665Z",
     "iopub.status.busy": "2021-01-06T10:39:28.848699Z",
     "iopub.status.idle": "2021-01-06T10:39:28.856106Z",
     "shell.execute_reply": "2021-01-06T10:39:28.855486Z"
    },
    "papermill": {
     "duration": 0.080326,
     "end_time": "2021-01-06T10:39:28.856203",
     "exception": false,
     "start_time": "2021-01-06T10:39:28.775877",
     "status": "completed"
    },
    "tags": []
   },
   "outputs": [],
   "source": [
    "final_in_features = vgg.classifier[6].in_features\n",
    "vgg.classifier[6] = nn.Linear(final_in_features, num_classes)"
   ]
  },
  {
   "cell_type": "code",
   "execution_count": 28,
   "metadata": {
    "execution": {
     "iopub.execute_input": "2021-01-06T10:39:28.998663Z",
     "iopub.status.busy": "2021-01-06T10:39:28.997863Z",
     "iopub.status.idle": "2021-01-06T10:39:29.002722Z",
     "shell.execute_reply": "2021-01-06T10:39:29.003352Z"
    },
    "papermill": {
     "duration": 0.080204,
     "end_time": "2021-01-06T10:39:29.003572",
     "exception": false,
     "start_time": "2021-01-06T10:39:28.923368",
     "status": "completed"
    },
    "tags": []
   },
   "outputs": [
    {
     "name": "stdout",
     "output_type": "stream",
     "text": [
      "torch.Size([10, 4096])\n",
      "torch.Size([10])\n"
     ]
    }
   ],
   "source": [
    "for param in vgg.parameters():\n",
    "    if param.requires_grad:\n",
    "        print(param.shape)"
   ]
  },
  {
   "cell_type": "code",
   "execution_count": 29,
   "metadata": {
    "execution": {
     "iopub.execute_input": "2021-01-06T10:39:29.153310Z",
     "iopub.status.busy": "2021-01-06T10:39:29.152335Z",
     "iopub.status.idle": "2021-01-06T10:39:29.313444Z",
     "shell.execute_reply": "2021-01-06T10:39:29.314285Z"
    },
    "papermill": {
     "duration": 0.238525,
     "end_time": "2021-01-06T10:39:29.314536",
     "exception": false,
     "start_time": "2021-01-06T10:39:29.076011",
     "status": "completed"
    },
    "tags": []
   },
   "outputs": [],
   "source": [
    "vgg = vgg.to(device)\n",
    "loss_fn = nn.CrossEntropyLoss()\n",
    "opt = optim.SGD(vgg.parameters(),lr=0.05)"
   ]
  },
  {
   "cell_type": "code",
   "execution_count": 30,
   "metadata": {
    "execution": {
     "iopub.execute_input": "2021-01-06T10:39:29.564119Z",
     "iopub.status.busy": "2021-01-06T10:39:29.563305Z",
     "iopub.status.idle": "2021-01-06T10:49:26.149831Z",
     "shell.execute_reply": "2021-01-06T10:49:26.148978Z"
    },
    "papermill": {
     "duration": 596.717148,
     "end_time": "2021-01-06T10:49:26.149977",
     "exception": false,
     "start_time": "2021-01-06T10:39:29.432829",
     "status": "completed"
    },
    "tags": []
   },
   "outputs": [
    {
     "name": "stdout",
     "output_type": "stream",
     "text": [
      "Iteration: 0/3125, Loss: 2.26 \n",
      "Iteration: 100/3125, Loss: 1.42 \n",
      "Iteration: 200/3125, Loss: 1.69 \n",
      "Iteration: 300/3125, Loss: 2.67 \n",
      "Iteration: 400/3125, Loss: 1.97 \n",
      "Iteration: 500/3125, Loss: 1.90 \n",
      "Iteration: 600/3125, Loss: 1.51 \n",
      "Iteration: 700/3125, Loss: 2.58 \n",
      "Iteration: 800/3125, Loss: 1.50 \n",
      "Iteration: 900/3125, Loss: 2.35 \n",
      "Iteration: 1000/3125, Loss: 2.29 \n",
      "Iteration: 1100/3125, Loss: 2.45 \n",
      "Iteration: 1200/3125, Loss: 2.02 \n",
      "Iteration: 1300/3125, Loss: 1.20 \n",
      "Iteration: 1400/3125, Loss: 2.13 \n",
      "Iteration: 1500/3125, Loss: 2.36 \n",
      "Iteration: 1600/3125, Loss: 3.43 \n",
      "Iteration: 1700/3125, Loss: 2.02 \n",
      "Iteration: 1800/3125, Loss: 1.10 \n",
      "Iteration: 1900/3125, Loss: 2.44 \n",
      "Iteration: 2000/3125, Loss: 2.12 \n",
      "Iteration: 2100/3125, Loss: 1.32 \n",
      "Iteration: 2200/3125, Loss: 2.37 \n",
      "Iteration: 2300/3125, Loss: 1.90 \n",
      "Iteration: 2400/3125, Loss: 2.02 \n",
      "Iteration: 2500/3125, Loss: 1.83 \n",
      "Iteration: 2600/3125, Loss: 2.28 \n",
      "Iteration: 2700/3125, Loss: 2.64 \n",
      "Iteration: 2800/3125, Loss: 1.97 \n",
      "Iteration: 2900/3125, Loss: 2.57 \n",
      "Iteration: 3000/3125, Loss: 2.02 \n",
      "Iteration: 3100/3125, Loss: 2.51 \n",
      "Epoch: 0/1, Test acc: 47.14, Train acc: 46.71\n"
     ]
    },
    {
     "data": {
      "image/png": "[encoded data removed]",
      "text/plain": [
       "<Figure size 432x288 with 1 Axes>"
      ]
     },
     "metadata": {
      "needs_background": "light"
     },
     "output_type": "display_data"
    }
   ],
   "source": [
    "loss_epoch_arr= []\n",
    "max_epochs = 1\n",
    "\n",
    "n_iters = np.ceil(50000/batch_size)\n",
    "\n",
    "for epoch in range(max_epochs):\n",
    "    \n",
    "    for i, data in enumerate(trainloader, 0):\n",
    "        \n",
    "        inputs, labels = data\n",
    "        inputs, labels = inputs.to(device), labels.to(device)\n",
    "        \n",
    "        opt.zero_grad()\n",
    "        \n",
    "        outputs = vgg(inputs)\n",
    "        loss = loss_fn(outputs,labels)\n",
    "        loss.backward()\n",
    "        opt.step()\n",
    "        \n",
    "        if i % 100 == 0:\n",
    "            print(\"Iteration: %d/%d, Loss: %0.2f \" % (i, n_iters, loss.item()))\n",
    "        \n",
    "        del inputs, labels, outputs\n",
    "        torch.cuda.empty_cache()\n",
    "    \n",
    "    loss_epoch_arr.append(loss.item())\n",
    "    \n",
    "    print('Epoch: %d/%d, Test acc: %0.2f, Train acc: %0.2f' % (\n",
    "        epoch, max_epochs,\n",
    "        evaluation(testloader, vgg), evaluation(trainloader, vgg)))\n",
    "\n",
    "plt.plot(loss_epoch_arr)\n",
    "plt.show()"
   ]
  },
  {
   "cell_type": "markdown",
   "metadata": {
    "papermill": {
     "duration": 0.078697,
     "end_time": "2021-01-06T10:49:26.314366",
     "exception": false,
     "start_time": "2021-01-06T10:49:26.235669",
     "status": "completed"
    },
    "tags": []
   },
   "source": [
    "### With Model Copies"
   ]
  },
  {
   "cell_type": "code",
   "execution_count": 31,
   "metadata": {
    "execution": {
     "iopub.execute_input": "2021-01-06T10:49:26.477435Z",
     "iopub.status.busy": "2021-01-06T10:49:26.476745Z",
     "iopub.status.idle": "2021-01-06T10:49:26.481451Z",
     "shell.execute_reply": "2021-01-06T10:49:26.480913Z"
    },
    "papermill": {
     "duration": 0.087514,
     "end_time": "2021-01-06T10:49:26.481562",
     "exception": false,
     "start_time": "2021-01-06T10:49:26.394048",
     "status": "completed"
    },
    "tags": []
   },
   "outputs": [],
   "source": [
    "import copy"
   ]
  },
  {
   "cell_type": "code",
   "execution_count": 32,
   "metadata": {
    "execution": {
     "iopub.execute_input": "2021-01-06T10:49:26.651870Z",
     "iopub.status.busy": "2021-01-06T10:49:26.650940Z",
     "iopub.status.idle": "2021-01-06T10:54:12.765259Z",
     "shell.execute_reply": "2021-01-06T10:54:12.764667Z"
    },
    "papermill": {
     "duration": 286.203943,
     "end_time": "2021-01-06T10:54:12.765394",
     "exception": false,
     "start_time": "2021-01-06T10:49:26.561451",
     "status": "completed"
    },
    "tags": []
   },
   "outputs": [
    {
     "name": "stdout",
     "output_type": "stream",
     "text": [
      "Min loss 2.51\n",
      "Iteration: 0/3125, Loss: 2.51\n",
      "Min loss 1.96\n",
      "Min loss 1.53\n",
      "Min loss 1.50\n",
      "Min loss 0.89\n",
      "Iteration: 100/3125, Loss: 3.74\n",
      "Min loss 0.86\n",
      "Iteration: 200/3125, Loss: 2.16\n",
      "Iteration: 300/3125, Loss: 2.60\n",
      "Min loss 0.69\n",
      "Iteration: 400/3125, Loss: 2.03\n",
      "Iteration: 500/3125, Loss: 1.30\n",
      "Iteration: 600/3125, Loss: 1.47\n",
      "Iteration: 700/3125, Loss: 1.60\n",
      "Iteration: 800/3125, Loss: 2.35\n",
      "Iteration: 900/3125, Loss: 2.95\n",
      "Iteration: 1000/3125, Loss: 2.04\n",
      "Iteration: 1100/3125, Loss: 1.42\n",
      "Iteration: 1200/3125, Loss: 1.39\n",
      "Min loss 0.64\n",
      "Iteration: 1300/3125, Loss: 2.54\n",
      "Iteration: 1400/3125, Loss: 1.70\n",
      "Iteration: 1500/3125, Loss: 2.00\n",
      "Min loss 0.62\n",
      "Iteration: 1600/3125, Loss: 3.52\n",
      "Iteration: 1700/3125, Loss: 2.10\n",
      "Iteration: 1800/3125, Loss: 2.13\n",
      "Iteration: 1900/3125, Loss: 2.39\n",
      "Iteration: 2000/3125, Loss: 2.51\n",
      "Iteration: 2100/3125, Loss: 2.36\n",
      "Iteration: 2200/3125, Loss: 2.64\n",
      "Min loss 0.51\n",
      "Iteration: 2300/3125, Loss: 2.78\n",
      "Iteration: 2400/3125, Loss: 1.53\n",
      "Iteration: 2500/3125, Loss: 1.79\n",
      "Iteration: 2600/3125, Loss: 1.82\n",
      "Iteration: 2700/3125, Loss: 1.90\n",
      "Iteration: 2800/3125, Loss: 2.17\n",
      "Iteration: 2900/3125, Loss: 1.63\n",
      "Iteration: 3000/3125, Loss: 1.93\n",
      "Iteration: 3100/3125, Loss: 2.22\n"
     ]
    }
   ],
   "source": [
    "loss_epoch_arr = []\n",
    "max_epochs = 1\n",
    "\n",
    "min_loss = 1000\n",
    "\n",
    "n_iters = np.ceil(50000/batch_size)\n",
    "\n",
    "for epoch in range(max_epochs):\n",
    "\n",
    "    for i, data in enumerate(trainloader, 0):\n",
    "\n",
    "        inputs, labels = data\n",
    "        inputs, labels = inputs.to(device), labels.to(device)\n",
    "\n",
    "        opt.zero_grad()\n",
    "\n",
    "        outputs = vgg(inputs)\n",
    "        loss = loss_fn(outputs, labels)\n",
    "        loss.backward()\n",
    "        opt.step()\n",
    "        \n",
    "        if min_loss > loss.item():\n",
    "            min_loss = loss.item()\n",
    "            best_model = copy.deepcopy(vgg.state_dict())\n",
    "            print('Min loss %0.2f' % min_loss)\n",
    "        \n",
    "        if i % 100 == 0:\n",
    "            print('Iteration: %d/%d, Loss: %0.2f' % (i, n_iters, loss.item()))\n",
    "            \n",
    "        del inputs, labels, outputs\n",
    "        torch.cuda.empty_cache()\n",
    "        \n",
    "    loss_epoch_arr.append(loss.item())"
   ]
  },
  {
   "cell_type": "code",
   "execution_count": 33,
   "metadata": {
    "execution": {
     "iopub.execute_input": "2021-01-06T10:54:12.967740Z",
     "iopub.status.busy": "2021-01-06T10:54:12.966723Z",
     "iopub.status.idle": "2021-01-06T10:59:19.182690Z",
     "shell.execute_reply": "2021-01-06T10:59:19.183255Z"
    },
    "papermill": {
     "duration": 306.321718,
     "end_time": "2021-01-06T10:59:19.183412",
     "exception": false,
     "start_time": "2021-01-06T10:54:12.861694",
     "status": "completed"
    },
    "tags": []
   },
   "outputs": [
    {
     "name": "stdout",
     "output_type": "stream",
     "text": [
      "46.054 45.99\n"
     ]
    }
   ],
   "source": [
    "vgg.load_state_dict(best_model)\n",
    "print(evaluation(trainloader, vgg), evaluation(testloader, vgg))"
   ]
  },
  {
   "cell_type": "markdown",
   "metadata": {
    "papermill": {
     "duration": 0.092006,
     "end_time": "2021-01-06T10:59:19.369471",
     "exception": false,
     "start_time": "2021-01-06T10:59:19.277465",
     "status": "completed"
    },
    "tags": []
   },
   "source": [
    "### ResNet Model\n",
    "#### [Link](https://pytorch.org/hub/pytorch_vision_resnet/)"
   ]
  },
  {
   "cell_type": "code",
   "execution_count": 34,
   "metadata": {
    "execution": {
     "iopub.execute_input": "2021-01-06T10:59:19.555213Z",
     "iopub.status.busy": "2021-01-06T10:59:19.554381Z",
     "iopub.status.idle": "2021-01-06T10:59:22.114018Z",
     "shell.execute_reply": "2021-01-06T10:59:22.114769Z"
    },
    "papermill": {
     "duration": 2.654741,
     "end_time": "2021-01-06T10:59:22.114980",
     "exception": false,
     "start_time": "2021-01-06T10:59:19.460239",
     "status": "completed"
    },
    "tags": []
   },
   "outputs": [
    {
     "name": "stderr",
     "output_type": "stream",
     "text": [
      "Downloading: \"https://download.pytorch.org/models/resnet18-5c106cde.pth\" to /root/.cache/torch/hub/checkpoints/resnet18-5c106cde.pth\n"
     ]
    },
    {
     "data": {
      "application/vnd.jupyter.widget-view+json": {
       "model_id": "2ed7d817b43d4b4bbf6092261c270ba8",
       "version_major": 2,
       "version_minor": 0
      },
      "text/plain": [
       "HBox(children=(FloatProgress(value=0.0, max=46827520.0), HTML(value='')))"
      ]
     },
     "metadata": {},
     "output_type": "display_data"
    },
    {
     "name": "stdout",
     "output_type": "stream",
     "text": [
      "\n"
     ]
    }
   ],
   "source": [
    "resnet = models.resnet18(pretrained=True)"
   ]
  },
  {
   "cell_type": "code",
   "execution_count": 35,
   "metadata": {
    "execution": {
     "iopub.execute_input": "2021-01-06T10:59:22.339883Z",
     "iopub.status.busy": "2021-01-06T10:59:22.339052Z",
     "iopub.status.idle": "2021-01-06T10:59:22.347073Z",
     "shell.execute_reply": "2021-01-06T10:59:22.348349Z"
    },
    "papermill": {
     "duration": 0.123167,
     "end_time": "2021-01-06T10:59:22.348617",
     "exception": false,
     "start_time": "2021-01-06T10:59:22.225450",
     "status": "completed"
    },
    "tags": []
   },
   "outputs": [
    {
     "name": "stdout",
     "output_type": "stream",
     "text": [
      "ResNet(\n",
      "  (conv1): Conv2d(3, 64, kernel_size=(7, 7), stride=(2, 2), padding=(3, 3), bias=False)\n",
      "  (bn1): BatchNorm2d(64, eps=1e-05, momentum=0.1, affine=True, track_running_stats=True)\n",
      "  (relu): ReLU(inplace=True)\n",
      "  (maxpool): MaxPool2d(kernel_size=3, stride=2, padding=1, dilation=1, ceil_mode=False)\n",
      "  (layer1): Sequential(\n",
      "    (0): BasicBlock(\n",
      "      (conv1): Conv2d(64, 64, kernel_size=(3, 3), stride=(1, 1), padding=(1, 1), bias=False)\n",
      "      (bn1): BatchNorm2d(64, eps=1e-05, momentum=0.1, affine=True, track_running_stats=True)\n",
      "      (relu): ReLU(inplace=True)\n",
      "      (conv2): Conv2d(64, 64, kernel_size=(3, 3), stride=(1, 1), padding=(1, 1), bias=False)\n",
      "      (bn2): BatchNorm2d(64, eps=1e-05, momentum=0.1, affine=True, track_running_stats=True)\n",
      "    )\n",
      "    (1): BasicBlock(\n",
      "      (conv1): Conv2d(64, 64, kernel_size=(3, 3), stride=(1, 1), padding=(1, 1), bias=False)\n",
      "      (bn1): BatchNorm2d(64, eps=1e-05, momentum=0.1, affine=True, track_running_stats=True)\n",
      "      (relu): ReLU(inplace=True)\n",
      "      (conv2): Conv2d(64, 64, kernel_size=(3, 3), stride=(1, 1), padding=(1, 1), bias=False)\n",
      "      (bn2): BatchNorm2d(64, eps=1e-05, momentum=0.1, affine=True, track_running_stats=True)\n",
      "    )\n",
      "  )\n",
      "  (layer2): Sequential(\n",
      "    (0): BasicBlock(\n",
      "      (conv1): Conv2d(64, 128, kernel_size=(3, 3), stride=(2, 2), padding=(1, 1), bias=False)\n",
      "      (bn1): BatchNorm2d(128, eps=1e-05, momentum=0.1, affine=True, track_running_stats=True)\n",
      "      (relu): ReLU(inplace=True)\n",
      "      (conv2): Conv2d(128, 128, kernel_size=(3, 3), stride=(1, 1), padding=(1, 1), bias=False)\n",
      "      (bn2): BatchNorm2d(128, eps=1e-05, momentum=0.1, affine=True, track_running_stats=True)\n",
      "      (downsample): Sequential(\n",
      "        (0): Conv2d(64, 128, kernel_size=(1, 1), stride=(2, 2), bias=False)\n",
      "        (1): BatchNorm2d(128, eps=1e-05, momentum=0.1, affine=True, track_running_stats=True)\n",
      "      )\n",
      "    )\n",
      "    (1): BasicBlock(\n",
      "      (conv1): Conv2d(128, 128, kernel_size=(3, 3), stride=(1, 1), padding=(1, 1), bias=False)\n",
      "      (bn1): BatchNorm2d(128, eps=1e-05, momentum=0.1, affine=True, track_running_stats=True)\n",
      "      (relu): ReLU(inplace=True)\n",
      "      (conv2): Conv2d(128, 128, kernel_size=(3, 3), stride=(1, 1), padding=(1, 1), bias=False)\n",
      "      (bn2): BatchNorm2d(128, eps=1e-05, momentum=0.1, affine=True, track_running_stats=True)\n",
      "    )\n",
      "  )\n",
      "  (layer3): Sequential(\n",
      "    (0): BasicBlock(\n",
      "      (conv1): Conv2d(128, 256, kernel_size=(3, 3), stride=(2, 2), padding=(1, 1), bias=False)\n",
      "      (bn1): BatchNorm2d(256, eps=1e-05, momentum=0.1, affine=True, track_running_stats=True)\n",
      "      (relu): ReLU(inplace=True)\n",
      "      (conv2): Conv2d(256, 256, kernel_size=(3, 3), stride=(1, 1), padding=(1, 1), bias=False)\n",
      "      (bn2): BatchNorm2d(256, eps=1e-05, momentum=0.1, affine=True, track_running_stats=True)\n",
      "      (downsample): Sequential(\n",
      "        (0): Conv2d(128, 256, kernel_size=(1, 1), stride=(2, 2), bias=False)\n",
      "        (1): BatchNorm2d(256, eps=1e-05, momentum=0.1, affine=True, track_running_stats=True)\n",
      "      )\n",
      "    )\n",
      "    (1): BasicBlock(\n",
      "      (conv1): Conv2d(256, 256, kernel_size=(3, 3), stride=(1, 1), padding=(1, 1), bias=False)\n",
      "      (bn1): BatchNorm2d(256, eps=1e-05, momentum=0.1, affine=True, track_running_stats=True)\n",
      "      (relu): ReLU(inplace=True)\n",
      "      (conv2): Conv2d(256, 256, kernel_size=(3, 3), stride=(1, 1), padding=(1, 1), bias=False)\n",
      "      (bn2): BatchNorm2d(256, eps=1e-05, momentum=0.1, affine=True, track_running_stats=True)\n",
      "    )\n",
      "  )\n",
      "  (layer4): Sequential(\n",
      "    (0): BasicBlock(\n",
      "      (conv1): Conv2d(256, 512, kernel_size=(3, 3), stride=(2, 2), padding=(1, 1), bias=False)\n",
      "      (bn1): BatchNorm2d(512, eps=1e-05, momentum=0.1, affine=True, track_running_stats=True)\n",
      "      (relu): ReLU(inplace=True)\n",
      "      (conv2): Conv2d(512, 512, kernel_size=(3, 3), stride=(1, 1), padding=(1, 1), bias=False)\n",
      "      (bn2): BatchNorm2d(512, eps=1e-05, momentum=0.1, affine=True, track_running_stats=True)\n",
      "      (downsample): Sequential(\n",
      "        (0): Conv2d(256, 512, kernel_size=(1, 1), stride=(2, 2), bias=False)\n",
      "        (1): BatchNorm2d(512, eps=1e-05, momentum=0.1, affine=True, track_running_stats=True)\n",
      "      )\n",
      "    )\n",
      "    (1): BasicBlock(\n",
      "      (conv1): Conv2d(512, 512, kernel_size=(3, 3), stride=(1, 1), padding=(1, 1), bias=False)\n",
      "      (bn1): BatchNorm2d(512, eps=1e-05, momentum=0.1, affine=True, track_running_stats=True)\n",
      "      (relu): ReLU(inplace=True)\n",
      "      (conv2): Conv2d(512, 512, kernel_size=(3, 3), stride=(1, 1), padding=(1, 1), bias=False)\n",
      "      (bn2): BatchNorm2d(512, eps=1e-05, momentum=0.1, affine=True, track_running_stats=True)\n",
      "    )\n",
      "  )\n",
      "  (avgpool): AdaptiveAvgPool2d(output_size=(1, 1))\n",
      "  (fc): Linear(in_features=512, out_features=1000, bias=True)\n",
      ")\n"
     ]
    }
   ],
   "source": [
    "print(resnet)"
   ]
  },
  {
   "cell_type": "code",
   "execution_count": 36,
   "metadata": {
    "execution": {
     "iopub.execute_input": "2021-01-06T10:59:22.549335Z",
     "iopub.status.busy": "2021-01-06T10:59:22.548408Z",
     "iopub.status.idle": "2021-01-06T10:59:22.550732Z",
     "shell.execute_reply": "2021-01-06T10:59:22.551321Z"
    },
    "papermill": {
     "duration": 0.102487,
     "end_time": "2021-01-06T10:59:22.551445",
     "exception": false,
     "start_time": "2021-01-06T10:59:22.448958",
     "status": "completed"
    },
    "tags": []
   },
   "outputs": [],
   "source": [
    "for param in resnet.parameters():\n",
    "    param.requires_grad = False"
   ]
  },
  {
   "cell_type": "code",
   "execution_count": 37,
   "metadata": {
    "execution": {
     "iopub.execute_input": "2021-01-06T10:59:22.742477Z",
     "iopub.status.busy": "2021-01-06T10:59:22.741796Z",
     "iopub.status.idle": "2021-01-06T10:59:22.745135Z",
     "shell.execute_reply": "2021-01-06T10:59:22.744666Z"
    },
    "papermill": {
     "duration": 0.100914,
     "end_time": "2021-01-06T10:59:22.745232",
     "exception": false,
     "start_time": "2021-01-06T10:59:22.644318",
     "status": "completed"
    },
    "tags": []
   },
   "outputs": [],
   "source": [
    "in_features = resnet.fc.in_features\n",
    "resnet.fc = nn.Linear(in_features, num_classes)"
   ]
  },
  {
   "cell_type": "code",
   "execution_count": 38,
   "metadata": {
    "execution": {
     "iopub.execute_input": "2021-01-06T10:59:22.941705Z",
     "iopub.status.busy": "2021-01-06T10:59:22.940856Z",
     "iopub.status.idle": "2021-01-06T10:59:22.945458Z",
     "shell.execute_reply": "2021-01-06T10:59:22.946048Z"
    },
    "papermill": {
     "duration": 0.109784,
     "end_time": "2021-01-06T10:59:22.946189",
     "exception": false,
     "start_time": "2021-01-06T10:59:22.836405",
     "status": "completed"
    },
    "tags": []
   },
   "outputs": [
    {
     "name": "stdout",
     "output_type": "stream",
     "text": [
      "torch.Size([10, 512])\n",
      "torch.Size([10])\n"
     ]
    }
   ],
   "source": [
    "for param in resnet.parameters():\n",
    "    if param.requires_grad:\n",
    "        print(param.shape)"
   ]
  },
  {
   "cell_type": "code",
   "execution_count": 39,
   "metadata": {
    "execution": {
     "iopub.execute_input": "2021-01-06T10:59:23.164326Z",
     "iopub.status.busy": "2021-01-06T10:59:23.163320Z",
     "iopub.status.idle": "2021-01-06T10:59:23.184627Z",
     "shell.execute_reply": "2021-01-06T10:59:23.185153Z"
    },
    "papermill": {
     "duration": 0.132493,
     "end_time": "2021-01-06T10:59:23.185285",
     "exception": false,
     "start_time": "2021-01-06T10:59:23.052792",
     "status": "completed"
    },
    "tags": []
   },
   "outputs": [],
   "source": [
    "resnet = resnet.to(device)\n",
    "loss_fn = nn.CrossEntropyLoss()\n",
    "opt = optim.SGD(resnet.parameters(), lr=0.01)"
   ]
  },
  {
   "cell_type": "code",
   "execution_count": 40,
   "metadata": {
    "execution": {
     "iopub.execute_input": "2021-01-06T10:59:23.419296Z",
     "iopub.status.busy": "2021-01-06T10:59:23.418449Z",
     "iopub.status.idle": "2021-01-06T11:18:02.397066Z",
     "shell.execute_reply": "2021-01-06T11:18:02.395588Z"
    },
    "papermill": {
     "duration": 1119.103339,
     "end_time": "2021-01-06T11:18:02.397198",
     "exception": false,
     "start_time": "2021-01-06T10:59:23.293859",
     "status": "completed"
    },
    "tags": []
   },
   "outputs": [
    {
     "name": "stdout",
     "output_type": "stream",
     "text": [
      "Min loss 2.71\n",
      "Iteration: 0/3125, Loss: 2.71\n",
      "Min loss 2.27\n",
      "Min loss 2.26\n",
      "Min loss 2.16\n",
      "Min loss 2.12\n",
      "Min loss 2.06\n",
      "Min loss 1.99\n",
      "Min loss 1.83\n",
      "Min loss 1.80\n",
      "Min loss 1.74\n",
      "Min loss 1.74\n",
      "Min loss 1.65\n",
      "Min loss 1.52\n",
      "Iteration: 100/3125, Loss: 2.06\n",
      "Min loss 1.40\n",
      "Min loss 1.38\n",
      "Min loss 1.35\n",
      "Iteration: 200/3125, Loss: 1.75\n",
      "Min loss 1.27\n",
      "Min loss 1.22\n",
      "Min loss 1.18\n",
      "Iteration: 300/3125, Loss: 1.79\n",
      "Min loss 0.99\n",
      "Iteration: 400/3125, Loss: 1.20\n",
      "Min loss 0.94\n",
      "Iteration: 500/3125, Loss: 1.49\n",
      "Min loss 0.67\n",
      "Iteration: 600/3125, Loss: 1.16\n",
      "Iteration: 700/3125, Loss: 1.30\n",
      "Iteration: 800/3125, Loss: 1.02\n",
      "Iteration: 900/3125, Loss: 1.01\n",
      "Iteration: 1000/3125, Loss: 0.79\n",
      "Iteration: 1100/3125, Loss: 1.40\n",
      "Iteration: 1200/3125, Loss: 1.56\n",
      "Min loss 0.64\n",
      "Iteration: 1300/3125, Loss: 1.50\n",
      "Iteration: 1400/3125, Loss: 1.39\n",
      "Iteration: 1500/3125, Loss: 1.35\n",
      "Iteration: 1600/3125, Loss: 1.49\n",
      "Iteration: 1700/3125, Loss: 1.27\n",
      "Min loss 0.59\n",
      "Iteration: 1800/3125, Loss: 1.85\n",
      "Min loss 0.49\n",
      "Iteration: 1900/3125, Loss: 0.77\n",
      "Iteration: 2000/3125, Loss: 0.85\n",
      "Iteration: 2100/3125, Loss: 1.21\n",
      "Iteration: 2200/3125, Loss: 1.49\n",
      "Iteration: 2300/3125, Loss: 1.22\n",
      "Iteration: 2400/3125, Loss: 1.35\n",
      "Iteration: 2500/3125, Loss: 1.54\n",
      "Iteration: 2600/3125, Loss: 1.56\n",
      "Iteration: 2700/3125, Loss: 0.82\n",
      "Iteration: 2800/3125, Loss: 1.59\n",
      "Iteration: 2900/3125, Loss: 1.28\n",
      "Iteration: 3000/3125, Loss: 1.49\n",
      "Iteration: 3100/3125, Loss: 1.03\n",
      "Epoch: 0/4, Test acc: 56.23, Train acc: 56.33\n",
      "Iteration: 0/3125, Loss: 0.90\n",
      "Iteration: 100/3125, Loss: 1.33\n",
      "Iteration: 200/3125, Loss: 1.18\n",
      "Iteration: 300/3125, Loss: 1.77\n",
      "Iteration: 400/3125, Loss: 1.26\n",
      "Iteration: 500/3125, Loss: 0.88\n",
      "Iteration: 600/3125, Loss: 1.07\n",
      "Min loss 0.48\n",
      "Iteration: 700/3125, Loss: 0.98\n",
      "Iteration: 800/3125, Loss: 1.42\n",
      "Iteration: 900/3125, Loss: 1.41\n",
      "Iteration: 1000/3125, Loss: 0.75\n",
      "Iteration: 1100/3125, Loss: 1.58\n",
      "Iteration: 1200/3125, Loss: 1.15\n",
      "Iteration: 1300/3125, Loss: 1.42\n",
      "Iteration: 1400/3125, Loss: 1.46\n",
      "Iteration: 1500/3125, Loss: 1.45\n",
      "Iteration: 1600/3125, Loss: 1.55\n",
      "Iteration: 1700/3125, Loss: 1.14\n",
      "Iteration: 1800/3125, Loss: 1.72\n",
      "Iteration: 1900/3125, Loss: 0.94\n",
      "Iteration: 2000/3125, Loss: 1.06\n",
      "Iteration: 2100/3125, Loss: 1.53\n",
      "Iteration: 2200/3125, Loss: 1.37\n",
      "Iteration: 2300/3125, Loss: 1.11\n",
      "Iteration: 2400/3125, Loss: 1.53\n",
      "Iteration: 2500/3125, Loss: 1.43\n",
      "Iteration: 2600/3125, Loss: 1.07\n",
      "Iteration: 2700/3125, Loss: 0.97\n",
      "Iteration: 2800/3125, Loss: 1.14\n",
      "Min loss 0.46\n",
      "Iteration: 2900/3125, Loss: 2.20\n",
      "Iteration: 3000/3125, Loss: 1.16\n",
      "Iteration: 3100/3125, Loss: 0.91\n",
      "Epoch: 1/4, Test acc: 55.66, Train acc: 56.27\n",
      "Iteration: 0/3125, Loss: 1.51\n",
      "Iteration: 100/3125, Loss: 0.93\n",
      "Iteration: 200/3125, Loss: 1.06\n",
      "Iteration: 300/3125, Loss: 0.80\n",
      "Iteration: 400/3125, Loss: 1.48\n",
      "Iteration: 500/3125, Loss: 1.14\n",
      "Iteration: 600/3125, Loss: 1.63\n",
      "Iteration: 700/3125, Loss: 0.85\n",
      "Iteration: 800/3125, Loss: 1.25\n",
      "Iteration: 900/3125, Loss: 1.37\n",
      "Iteration: 1000/3125, Loss: 1.42\n",
      "Iteration: 1100/3125, Loss: 1.43\n",
      "Iteration: 1200/3125, Loss: 1.64\n",
      "Iteration: 1300/3125, Loss: 0.90\n",
      "Iteration: 1400/3125, Loss: 1.45\n",
      "Iteration: 1500/3125, Loss: 0.99\n",
      "Iteration: 1600/3125, Loss: 1.88\n",
      "Iteration: 1700/3125, Loss: 1.16\n",
      "Iteration: 1800/3125, Loss: 0.88\n",
      "Iteration: 1900/3125, Loss: 0.93\n",
      "Iteration: 2000/3125, Loss: 1.06\n",
      "Iteration: 2100/3125, Loss: 1.15\n",
      "Iteration: 2200/3125, Loss: 1.43\n",
      "Iteration: 2300/3125, Loss: 1.02\n",
      "Min loss 0.45\n",
      "Iteration: 2400/3125, Loss: 0.75\n",
      "Iteration: 2500/3125, Loss: 1.24\n",
      "Iteration: 2600/3125, Loss: 1.35\n",
      "Iteration: 2700/3125, Loss: 1.00\n",
      "Iteration: 2800/3125, Loss: 1.36\n",
      "Min loss 0.42\n",
      "Iteration: 2900/3125, Loss: 1.41\n",
      "Iteration: 3000/3125, Loss: 1.48\n",
      "Iteration: 3100/3125, Loss: 1.14\n",
      "Epoch: 2/4, Test acc: 56.65, Train acc: 57.10\n",
      "Iteration: 0/3125, Loss: 1.33\n",
      "Iteration: 100/3125, Loss: 0.72\n",
      "Iteration: 200/3125, Loss: 1.28\n",
      "Iteration: 300/3125, Loss: 1.53\n",
      "Iteration: 400/3125, Loss: 1.33\n",
      "Iteration: 500/3125, Loss: 1.13\n",
      "Iteration: 600/3125, Loss: 0.90\n",
      "Iteration: 700/3125, Loss: 1.03\n",
      "Iteration: 800/3125, Loss: 1.35\n",
      "Iteration: 900/3125, Loss: 1.22\n",
      "Iteration: 1000/3125, Loss: 1.00\n",
      "Iteration: 1100/3125, Loss: 1.09\n",
      "Iteration: 1200/3125, Loss: 1.20\n",
      "Iteration: 1300/3125, Loss: 1.38\n",
      "Iteration: 1400/3125, Loss: 0.80\n",
      "Iteration: 1500/3125, Loss: 1.10\n",
      "Iteration: 1600/3125, Loss: 1.39\n",
      "Iteration: 1700/3125, Loss: 1.11\n",
      "Iteration: 1800/3125, Loss: 1.39\n",
      "Iteration: 1900/3125, Loss: 1.24\n",
      "Iteration: 2000/3125, Loss: 1.16\n",
      "Iteration: 2100/3125, Loss: 1.02\n",
      "Iteration: 2200/3125, Loss: 0.64\n",
      "Iteration: 2300/3125, Loss: 1.67\n",
      "Iteration: 2400/3125, Loss: 0.94\n",
      "Iteration: 2500/3125, Loss: 0.88\n",
      "Iteration: 2600/3125, Loss: 1.39\n",
      "Iteration: 2700/3125, Loss: 1.36\n",
      "Iteration: 2800/3125, Loss: 1.25\n",
      "Iteration: 2900/3125, Loss: 1.11\n",
      "Iteration: 3000/3125, Loss: 1.33\n",
      "Iteration: 3100/3125, Loss: 1.71\n",
      "Epoch: 3/4, Test acc: 56.75, Train acc: 57.49\n"
     ]
    },
    {
     "data": {
      "image/png": "[encoded data removed]",
      "text/plain": [
       "<Figure size 432x288 with 1 Axes>"
      ]
     },
     "metadata": {
      "needs_background": "light"
     },
     "output_type": "display_data"
    }
   ],
   "source": [
    "loss_epoch_arr = []\n",
    "max_epochs = 4\n",
    "\n",
    "min_loss = 1000\n",
    "\n",
    "n_iters = np.ceil(50000/batch_size)\n",
    "\n",
    "for epoch in range(max_epochs):\n",
    "\n",
    "    for i, data in enumerate(trainloader, 0):\n",
    "\n",
    "        inputs, labels = data\n",
    "        inputs, labels = inputs.to(device), labels.to(device)\n",
    "\n",
    "        opt.zero_grad()\n",
    "\n",
    "        outputs = resnet(inputs)\n",
    "        loss = loss_fn(outputs, labels)\n",
    "        loss.backward()\n",
    "        opt.step()\n",
    "        \n",
    "        if min_loss > loss.item():\n",
    "            min_loss = loss.item()\n",
    "            best_model = copy.deepcopy(resnet.state_dict())\n",
    "            print('Min loss %0.2f' % min_loss)\n",
    "        \n",
    "        if i % 100 == 0:\n",
    "            print('Iteration: %d/%d, Loss: %0.2f' % (i, n_iters, loss.item()))\n",
    "            \n",
    "        del inputs, labels, outputs\n",
    "        torch.cuda.empty_cache()\n",
    "        \n",
    "    loss_epoch_arr.append(loss.item())\n",
    "        \n",
    "    print('Epoch: %d/%d, Test acc: %0.2f, Train acc: %0.2f' % (\n",
    "        epoch, max_epochs, \n",
    "        evaluation(testloader, resnet), evaluation(trainloader, resnet)))\n",
    "    \n",
    "    \n",
    "plt.plot(loss_epoch_arr)\n",
    "plt.show()"
   ]
  },
  {
   "cell_type": "code",
   "execution_count": 41,
   "metadata": {
    "execution": {
     "iopub.execute_input": "2021-01-06T11:18:02.716636Z",
     "iopub.status.busy": "2021-01-06T11:18:02.715665Z",
     "iopub.status.idle": "2021-01-06T11:20:39.212401Z",
     "shell.execute_reply": "2021-01-06T11:20:39.213017Z"
    },
    "papermill": {
     "duration": 156.670379,
     "end_time": "2021-01-06T11:20:39.213170",
     "exception": false,
     "start_time": "2021-01-06T11:18:02.542791",
     "status": "completed"
    },
    "tags": []
   },
   "outputs": [
    {
     "name": "stdout",
     "output_type": "stream",
     "text": [
      "58.24 57.82\n"
     ]
    }
   ],
   "source": [
    "resnet.load_state_dict(best_model)\n",
    "print(evaluation(trainloader, resnet),evaluation(testloader, resnet))"
   ]
  },
  {
   "cell_type": "markdown",
   "metadata": {
    "papermill": {
     "duration": 0.146371,
     "end_time": "2021-01-06T11:20:39.507454",
     "exception": false,
     "start_time": "2021-01-06T11:20:39.361083",
     "status": "completed"
    },
    "tags": []
   },
   "source": [
    "### Inception Model\n",
    "#### [Link](https://pytorch.org/hub/pytorch_vision_inception_v3/)"
   ]
  },
  {
   "cell_type": "code",
   "execution_count": 42,
   "metadata": {
    "execution": {
     "iopub.execute_input": "2021-01-06T11:20:39.810958Z",
     "iopub.status.busy": "2021-01-06T11:20:39.810069Z",
     "iopub.status.idle": "2021-01-06T11:20:44.229717Z",
     "shell.execute_reply": "2021-01-06T11:20:44.228876Z"
    },
    "papermill": {
     "duration": 4.571903,
     "end_time": "2021-01-06T11:20:44.229882",
     "exception": false,
     "start_time": "2021-01-06T11:20:39.657979",
     "status": "completed"
    },
    "tags": []
   },
   "outputs": [
    {
     "name": "stderr",
     "output_type": "stream",
     "text": [
      "Downloading: \"https://download.pytorch.org/models/inception_v3_google-1a9a5a14.pth\" to /root/.cache/torch/hub/checkpoints/inception_v3_google-1a9a5a14.pth\n"
     ]
    },
    {
     "data": {
      "application/vnd.jupyter.widget-view+json": {
       "model_id": "618ef725798447e68179eabea444eee8",
       "version_major": 2,
       "version_minor": 0
      },
      "text/plain": [
       "HBox(children=(FloatProgress(value=0.0, max=108857766.0), HTML(value='')))"
      ]
     },
     "metadata": {},
     "output_type": "display_data"
    },
    {
     "name": "stdout",
     "output_type": "stream",
     "text": [
      "\n"
     ]
    }
   ],
   "source": [
    "inception = models.inception_v3(pretrained=True)"
   ]
  },
  {
   "cell_type": "code",
   "execution_count": 43,
   "metadata": {
    "execution": {
     "iopub.execute_input": "2021-01-06T11:20:44.804822Z",
     "iopub.status.busy": "2021-01-06T11:20:44.803900Z",
     "iopub.status.idle": "2021-01-06T11:20:44.823771Z",
     "shell.execute_reply": "2021-01-06T11:20:44.824553Z"
    },
    "papermill": {
     "duration": 0.245022,
     "end_time": "2021-01-06T11:20:44.824741",
     "exception": false,
     "start_time": "2021-01-06T11:20:44.579719",
     "status": "completed"
    },
    "tags": []
   },
   "outputs": [
    {
     "name": "stdout",
     "output_type": "stream",
     "text": [
      "Inception3(\n",
      "  (Conv2d_1a_3x3): BasicConv2d(\n",
      "    (conv): Conv2d(3, 32, kernel_size=(3, 3), stride=(2, 2), bias=False)\n",
      "    (bn): BatchNorm2d(32, eps=0.001, momentum=0.1, affine=True, track_running_stats=True)\n",
      "  )\n",
      "  (Conv2d_2a_3x3): BasicConv2d(\n",
      "    (conv): Conv2d(32, 32, kernel_size=(3, 3), stride=(1, 1), bias=False)\n",
      "    (bn): BatchNorm2d(32, eps=0.001, momentum=0.1, affine=True, track_running_stats=True)\n",
      "  )\n",
      "  (Conv2d_2b_3x3): BasicConv2d(\n",
      "    (conv): Conv2d(32, 64, kernel_size=(3, 3), stride=(1, 1), padding=(1, 1), bias=False)\n",
      "    (bn): BatchNorm2d(64, eps=0.001, momentum=0.1, affine=True, track_running_stats=True)\n",
      "  )\n",
      "  (maxpool1): MaxPool2d(kernel_size=3, stride=2, padding=0, dilation=1, ceil_mode=False)\n",
      "  (Conv2d_3b_1x1): BasicConv2d(\n",
      "    (conv): Conv2d(64, 80, kernel_size=(1, 1), stride=(1, 1), bias=False)\n",
      "    (bn): BatchNorm2d(80, eps=0.001, momentum=0.1, affine=True, track_running_stats=True)\n",
      "  )\n",
      "  (Conv2d_4a_3x3): BasicConv2d(\n",
      "    (conv): Conv2d(80, 192, kernel_size=(3, 3), stride=(1, 1), bias=False)\n",
      "    (bn): BatchNorm2d(192, eps=0.001, momentum=0.1, affine=True, track_running_stats=True)\n",
      "  )\n",
      "  (maxpool2): MaxPool2d(kernel_size=3, stride=2, padding=0, dilation=1, ceil_mode=False)\n",
      "  (Mixed_5b): InceptionA(\n",
      "    (branch1x1): BasicConv2d(\n",
      "      (conv): Conv2d(192, 64, kernel_size=(1, 1), stride=(1, 1), bias=False)\n",
      "      (bn): BatchNorm2d(64, eps=0.001, momentum=0.1, affine=True, track_running_stats=True)\n",
      "    )\n",
      "    (branch5x5_1): BasicConv2d(\n",
      "      (conv): Conv2d(192, 48, kernel_size=(1, 1), stride=(1, 1), bias=False)\n",
      "      (bn): BatchNorm2d(48, eps=0.001, momentum=0.1, affine=True, track_running_stats=True)\n",
      "    )\n",
      "    (branch5x5_2): BasicConv2d(\n",
      "      (conv): Conv2d(48, 64, kernel_size=(5, 5), stride=(1, 1), padding=(2, 2), bias=False)\n",
      "      (bn): BatchNorm2d(64, eps=0.001, momentum=0.1, affine=True, track_running_stats=True)\n",
      "    )\n",
      "    (branch3x3dbl_1): BasicConv2d(\n",
      "      (conv): Conv2d(192, 64, kernel_size=(1, 1), stride=(1, 1), bias=False)\n",
      "      (bn): BatchNorm2d(64, eps=0.001, momentum=0.1, affine=True, track_running_stats=True)\n",
      "    )\n",
      "    (branch3x3dbl_2): BasicConv2d(\n",
      "      (conv): Conv2d(64, 96, kernel_size=(3, 3), stride=(1, 1), padding=(1, 1), bias=False)\n",
      "      (bn): BatchNorm2d(96, eps=0.001, momentum=0.1, affine=True, track_running_stats=True)\n",
      "    )\n",
      "    (branch3x3dbl_3): BasicConv2d(\n",
      "      (conv): Conv2d(96, 96, kernel_size=(3, 3), stride=(1, 1), padding=(1, 1), bias=False)\n",
      "      (bn): BatchNorm2d(96, eps=0.001, momentum=0.1, affine=True, track_running_stats=True)\n",
      "    )\n",
      "    (branch_pool): BasicConv2d(\n",
      "      (conv): Conv2d(192, 32, kernel_size=(1, 1), stride=(1, 1), bias=False)\n",
      "      (bn): BatchNorm2d(32, eps=0.001, momentum=0.1, affine=True, track_running_stats=True)\n",
      "    )\n",
      "  )\n",
      "  (Mixed_5c): InceptionA(\n",
      "    (branch1x1): BasicConv2d(\n",
      "      (conv): Conv2d(256, 64, kernel_size=(1, 1), stride=(1, 1), bias=False)\n",
      "      (bn): BatchNorm2d(64, eps=0.001, momentum=0.1, affine=True, track_running_stats=True)\n",
      "    )\n",
      "    (branch5x5_1): BasicConv2d(\n",
      "      (conv): Conv2d(256, 48, kernel_size=(1, 1), stride=(1, 1), bias=False)\n",
      "      (bn): BatchNorm2d(48, eps=0.001, momentum=0.1, affine=True, track_running_stats=True)\n",
      "    )\n",
      "    (branch5x5_2): BasicConv2d(\n",
      "      (conv): Conv2d(48, 64, kernel_size=(5, 5), stride=(1, 1), padding=(2, 2), bias=False)\n",
      "      (bn): BatchNorm2d(64, eps=0.001, momentum=0.1, affine=True, track_running_stats=True)\n",
      "    )\n",
      "    (branch3x3dbl_1): BasicConv2d(\n",
      "      (conv): Conv2d(256, 64, kernel_size=(1, 1), stride=(1, 1), bias=False)\n",
      "      (bn): BatchNorm2d(64, eps=0.001, momentum=0.1, affine=True, track_running_stats=True)\n",
      "    )\n",
      "    (branch3x3dbl_2): BasicConv2d(\n",
      "      (conv): Conv2d(64, 96, kernel_size=(3, 3), stride=(1, 1), padding=(1, 1), bias=False)\n",
      "      (bn): BatchNorm2d(96, eps=0.001, momentum=0.1, affine=True, track_running_stats=True)\n",
      "    )\n",
      "    (branch3x3dbl_3): BasicConv2d(\n",
      "      (conv): Conv2d(96, 96, kernel_size=(3, 3), stride=(1, 1), padding=(1, 1), bias=False)\n",
      "      (bn): BatchNorm2d(96, eps=0.001, momentum=0.1, affine=True, track_running_stats=True)\n",
      "    )\n",
      "    (branch_pool): BasicConv2d(\n",
      "      (conv): Conv2d(256, 64, kernel_size=(1, 1), stride=(1, 1), bias=False)\n",
      "      (bn): BatchNorm2d(64, eps=0.001, momentum=0.1, affine=True, track_running_stats=True)\n",
      "    )\n",
      "  )\n",
      "  (Mixed_5d): InceptionA(\n",
      "    (branch1x1): BasicConv2d(\n",
      "      (conv): Conv2d(288, 64, kernel_size=(1, 1), stride=(1, 1), bias=False)\n",
      "      (bn): BatchNorm2d(64, eps=0.001, momentum=0.1, affine=True, track_running_stats=True)\n",
      "    )\n",
      "    (branch5x5_1): BasicConv2d(\n",
      "      (conv): Conv2d(288, 48, kernel_size=(1, 1), stride=(1, 1), bias=False)\n",
      "      (bn): BatchNorm2d(48, eps=0.001, momentum=0.1, affine=True, track_running_stats=True)\n",
      "    )\n",
      "    (branch5x5_2): BasicConv2d(\n",
      "      (conv): Conv2d(48, 64, kernel_size=(5, 5), stride=(1, 1), padding=(2, 2), bias=False)\n",
      "      (bn): BatchNorm2d(64, eps=0.001, momentum=0.1, affine=True, track_running_stats=True)\n",
      "    )\n",
      "    (branch3x3dbl_1): BasicConv2d(\n",
      "      (conv): Conv2d(288, 64, kernel_size=(1, 1), stride=(1, 1), bias=False)\n",
      "      (bn): BatchNorm2d(64, eps=0.001, momentum=0.1, affine=True, track_running_stats=True)\n",
      "    )\n",
      "    (branch3x3dbl_2): BasicConv2d(\n",
      "      (conv): Conv2d(64, 96, kernel_size=(3, 3), stride=(1, 1), padding=(1, 1), bias=False)\n",
      "      (bn): BatchNorm2d(96, eps=0.001, momentum=0.1, affine=True, track_running_stats=True)\n",
      "    )\n",
      "    (branch3x3dbl_3): BasicConv2d(\n",
      "      (conv): Conv2d(96, 96, kernel_size=(3, 3), stride=(1, 1), padding=(1, 1), bias=False)\n",
      "      (bn): BatchNorm2d(96, eps=0.001, momentum=0.1, affine=True, track_running_stats=True)\n",
      "    )\n",
      "    (branch_pool): BasicConv2d(\n",
      "      (conv): Conv2d(288, 64, kernel_size=(1, 1), stride=(1, 1), bias=False)\n",
      "      (bn): BatchNorm2d(64, eps=0.001, momentum=0.1, affine=True, track_running_stats=True)\n",
      "    )\n",
      "  )\n",
      "  (Mixed_6a): InceptionB(\n",
      "    (branch3x3): BasicConv2d(\n",
      "      (conv): Conv2d(288, 384, kernel_size=(3, 3), stride=(2, 2), bias=False)\n",
      "      (bn): BatchNorm2d(384, eps=0.001, momentum=0.1, affine=True, track_running_stats=True)\n",
      "    )\n",
      "    (branch3x3dbl_1): BasicConv2d(\n",
      "      (conv): Conv2d(288, 64, kernel_size=(1, 1), stride=(1, 1), bias=False)\n",
      "      (bn): BatchNorm2d(64, eps=0.001, momentum=0.1, affine=True, track_running_stats=True)\n",
      "    )\n",
      "    (branch3x3dbl_2): BasicConv2d(\n",
      "      (conv): Conv2d(64, 96, kernel_size=(3, 3), stride=(1, 1), padding=(1, 1), bias=False)\n",
      "      (bn): BatchNorm2d(96, eps=0.001, momentum=0.1, affine=True, track_running_stats=True)\n",
      "    )\n",
      "    (branch3x3dbl_3): BasicConv2d(\n",
      "      (conv): Conv2d(96, 96, kernel_size=(3, 3), stride=(2, 2), bias=False)\n",
      "      (bn): BatchNorm2d(96, eps=0.001, momentum=0.1, affine=True, track_running_stats=True)\n",
      "    )\n",
      "  )\n",
      "  (Mixed_6b): InceptionC(\n",
      "    (branch1x1): BasicConv2d(\n",
      "      (conv): Conv2d(768, 192, kernel_size=(1, 1), stride=(1, 1), bias=False)\n",
      "      (bn): BatchNorm2d(192, eps=0.001, momentum=0.1, affine=True, track_running_stats=True)\n",
      "    )\n",
      "    (branch7x7_1): BasicConv2d(\n",
      "      (conv): Conv2d(768, 128, kernel_size=(1, 1), stride=(1, 1), bias=False)\n",
      "      (bn): BatchNorm2d(128, eps=0.001, momentum=0.1, affine=True, track_running_stats=True)\n",
      "    )\n",
      "    (branch7x7_2): BasicConv2d(\n",
      "      (conv): Conv2d(128, 128, kernel_size=(1, 7), stride=(1, 1), padding=(0, 3), bias=False)\n",
      "      (bn): BatchNorm2d(128, eps=0.001, momentum=0.1, affine=True, track_running_stats=True)\n",
      "    )\n",
      "    (branch7x7_3): BasicConv2d(\n",
      "      (conv): Conv2d(128, 192, kernel_size=(7, 1), stride=(1, 1), padding=(3, 0), bias=False)\n",
      "      (bn): BatchNorm2d(192, eps=0.001, momentum=0.1, affine=True, track_running_stats=True)\n",
      "    )\n",
      "    (branch7x7dbl_1): BasicConv2d(\n",
      "      (conv): Conv2d(768, 128, kernel_size=(1, 1), stride=(1, 1), bias=False)\n",
      "      (bn): BatchNorm2d(128, eps=0.001, momentum=0.1, affine=True, track_running_stats=True)\n",
      "    )\n",
      "    (branch7x7dbl_2): BasicConv2d(\n",
      "      (conv): Conv2d(128, 128, kernel_size=(7, 1), stride=(1, 1), padding=(3, 0), bias=False)\n",
      "      (bn): BatchNorm2d(128, eps=0.001, momentum=0.1, affine=True, track_running_stats=True)\n",
      "    )\n",
      "    (branch7x7dbl_3): BasicConv2d(\n",
      "      (conv): Conv2d(128, 128, kernel_size=(1, 7), stride=(1, 1), padding=(0, 3), bias=False)\n",
      "      (bn): BatchNorm2d(128, eps=0.001, momentum=0.1, affine=True, track_running_stats=True)\n",
      "    )\n",
      "    (branch7x7dbl_4): BasicConv2d(\n",
      "      (conv): Conv2d(128, 128, kernel_size=(7, 1), stride=(1, 1), padding=(3, 0), bias=False)\n",
      "      (bn): BatchNorm2d(128, eps=0.001, momentum=0.1, affine=True, track_running_stats=True)\n",
      "    )\n",
      "    (branch7x7dbl_5): BasicConv2d(\n",
      "      (conv): Conv2d(128, 192, kernel_size=(1, 7), stride=(1, 1), padding=(0, 3), bias=False)\n",
      "      (bn): BatchNorm2d(192, eps=0.001, momentum=0.1, affine=True, track_running_stats=True)\n",
      "    )\n",
      "    (branch_pool): BasicConv2d(\n",
      "      (conv): Conv2d(768, 192, kernel_size=(1, 1), stride=(1, 1), bias=False)\n",
      "      (bn): BatchNorm2d(192, eps=0.001, momentum=0.1, affine=True, track_running_stats=True)\n",
      "    )\n",
      "  )\n",
      "  (Mixed_6c): InceptionC(\n",
      "    (branch1x1): BasicConv2d(\n",
      "      (conv): Conv2d(768, 192, kernel_size=(1, 1), stride=(1, 1), bias=False)\n",
      "      (bn): BatchNorm2d(192, eps=0.001, momentum=0.1, affine=True, track_running_stats=True)\n",
      "    )\n",
      "    (branch7x7_1): BasicConv2d(\n",
      "      (conv): Conv2d(768, 160, kernel_size=(1, 1), stride=(1, 1), bias=False)\n",
      "      (bn): BatchNorm2d(160, eps=0.001, momentum=0.1, affine=True, track_running_stats=True)\n",
      "    )\n",
      "    (branch7x7_2): BasicConv2d(\n",
      "      (conv): Conv2d(160, 160, kernel_size=(1, 7), stride=(1, 1), padding=(0, 3), bias=False)\n",
      "      (bn): BatchNorm2d(160, eps=0.001, momentum=0.1, affine=True, track_running_stats=True)\n",
      "    )\n",
      "    (branch7x7_3): BasicConv2d(\n",
      "      (conv): Conv2d(160, 192, kernel_size=(7, 1), stride=(1, 1), padding=(3, 0), bias=False)\n",
      "      (bn): BatchNorm2d(192, eps=0.001, momentum=0.1, affine=True, track_running_stats=True)\n",
      "    )\n",
      "    (branch7x7dbl_1): BasicConv2d(\n",
      "      (conv): Conv2d(768, 160, kernel_size=(1, 1), stride=(1, 1), bias=False)\n",
      "      (bn): BatchNorm2d(160, eps=0.001, momentum=0.1, affine=True, track_running_stats=True)\n",
      "    )\n",
      "    (branch7x7dbl_2): BasicConv2d(\n",
      "      (conv): Conv2d(160, 160, kernel_size=(7, 1), stride=(1, 1), padding=(3, 0), bias=False)\n",
      "      (bn): BatchNorm2d(160, eps=0.001, momentum=0.1, affine=True, track_running_stats=True)\n",
      "    )\n",
      "    (branch7x7dbl_3): BasicConv2d(\n",
      "      (conv): Conv2d(160, 160, kernel_size=(1, 7), stride=(1, 1), padding=(0, 3), bias=False)\n",
      "      (bn): BatchNorm2d(160, eps=0.001, momentum=0.1, affine=True, track_running_stats=True)\n",
      "    )\n",
      "    (branch7x7dbl_4): BasicConv2d(\n",
      "      (conv): Conv2d(160, 160, kernel_size=(7, 1), stride=(1, 1), padding=(3, 0), bias=False)\n",
      "      (bn): BatchNorm2d(160, eps=0.001, momentum=0.1, affine=True, track_running_stats=True)\n",
      "    )\n",
      "    (branch7x7dbl_5): BasicConv2d(\n",
      "      (conv): Conv2d(160, 192, kernel_size=(1, 7), stride=(1, 1), padding=(0, 3), bias=False)\n",
      "      (bn): BatchNorm2d(192, eps=0.001, momentum=0.1, affine=True, track_running_stats=True)\n",
      "    )\n",
      "    (branch_pool): BasicConv2d(\n",
      "      (conv): Conv2d(768, 192, kernel_size=(1, 1), stride=(1, 1), bias=False)\n",
      "      (bn): BatchNorm2d(192, eps=0.001, momentum=0.1, affine=True, track_running_stats=True)\n",
      "    )\n",
      "  )\n",
      "  (Mixed_6d): InceptionC(\n",
      "    (branch1x1): BasicConv2d(\n",
      "      (conv): Conv2d(768, 192, kernel_size=(1, 1), stride=(1, 1), bias=False)\n",
      "      (bn): BatchNorm2d(192, eps=0.001, momentum=0.1, affine=True, track_running_stats=True)\n",
      "    )\n",
      "    (branch7x7_1): BasicConv2d(\n",
      "      (conv): Conv2d(768, 160, kernel_size=(1, 1), stride=(1, 1), bias=False)\n",
      "      (bn): BatchNorm2d(160, eps=0.001, momentum=0.1, affine=True, track_running_stats=True)\n",
      "    )\n",
      "    (branch7x7_2): BasicConv2d(\n",
      "      (conv): Conv2d(160, 160, kernel_size=(1, 7), stride=(1, 1), padding=(0, 3), bias=False)\n",
      "      (bn): BatchNorm2d(160, eps=0.001, momentum=0.1, affine=True, track_running_stats=True)\n",
      "    )\n",
      "    (branch7x7_3): BasicConv2d(\n",
      "      (conv): Conv2d(160, 192, kernel_size=(7, 1), stride=(1, 1), padding=(3, 0), bias=False)\n",
      "      (bn): BatchNorm2d(192, eps=0.001, momentum=0.1, affine=True, track_running_stats=True)\n",
      "    )\n",
      "    (branch7x7dbl_1): BasicConv2d(\n",
      "      (conv): Conv2d(768, 160, kernel_size=(1, 1), stride=(1, 1), bias=False)\n",
      "      (bn): BatchNorm2d(160, eps=0.001, momentum=0.1, affine=True, track_running_stats=True)\n",
      "    )\n",
      "    (branch7x7dbl_2): BasicConv2d(\n",
      "      (conv): Conv2d(160, 160, kernel_size=(7, 1), stride=(1, 1), padding=(3, 0), bias=False)\n",
      "      (bn): BatchNorm2d(160, eps=0.001, momentum=0.1, affine=True, track_running_stats=True)\n",
      "    )\n",
      "    (branch7x7dbl_3): BasicConv2d(\n",
      "      (conv): Conv2d(160, 160, kernel_size=(1, 7), stride=(1, 1), padding=(0, 3), bias=False)\n",
      "      (bn): BatchNorm2d(160, eps=0.001, momentum=0.1, affine=True, track_running_stats=True)\n",
      "    )\n",
      "    (branch7x7dbl_4): BasicConv2d(\n",
      "      (conv): Conv2d(160, 160, kernel_size=(7, 1), stride=(1, 1), padding=(3, 0), bias=False)\n",
      "      (bn): BatchNorm2d(160, eps=0.001, momentum=0.1, affine=True, track_running_stats=True)\n",
      "    )\n",
      "    (branch7x7dbl_5): BasicConv2d(\n",
      "      (conv): Conv2d(160, 192, kernel_size=(1, 7), stride=(1, 1), padding=(0, 3), bias=False)\n",
      "      (bn): BatchNorm2d(192, eps=0.001, momentum=0.1, affine=True, track_running_stats=True)\n",
      "    )\n",
      "    (branch_pool): BasicConv2d(\n",
      "      (conv): Conv2d(768, 192, kernel_size=(1, 1), stride=(1, 1), bias=False)\n",
      "      (bn): BatchNorm2d(192, eps=0.001, momentum=0.1, affine=True, track_running_stats=True)\n",
      "    )\n",
      "  )\n",
      "  (Mixed_6e): InceptionC(\n",
      "    (branch1x1): BasicConv2d(\n",
      "      (conv): Conv2d(768, 192, kernel_size=(1, 1), stride=(1, 1), bias=False)\n",
      "      (bn): BatchNorm2d(192, eps=0.001, momentum=0.1, affine=True, track_running_stats=True)\n",
      "    )\n",
      "    (branch7x7_1): BasicConv2d(\n",
      "      (conv): Conv2d(768, 192, kernel_size=(1, 1), stride=(1, 1), bias=False)\n",
      "      (bn): BatchNorm2d(192, eps=0.001, momentum=0.1, affine=True, track_running_stats=True)\n",
      "    )\n",
      "    (branch7x7_2): BasicConv2d(\n",
      "      (conv): Conv2d(192, 192, kernel_size=(1, 7), stride=(1, 1), padding=(0, 3), bias=False)\n",
      "      (bn): BatchNorm2d(192, eps=0.001, momentum=0.1, affine=True, track_running_stats=True)\n",
      "    )\n",
      "    (branch7x7_3): BasicConv2d(\n",
      "      (conv): Conv2d(192, 192, kernel_size=(7, 1), stride=(1, 1), padding=(3, 0), bias=False)\n",
      "      (bn): BatchNorm2d(192, eps=0.001, momentum=0.1, affine=True, track_running_stats=True)\n",
      "    )\n",
      "    (branch7x7dbl_1): BasicConv2d(\n",
      "      (conv): Conv2d(768, 192, kernel_size=(1, 1), stride=(1, 1), bias=False)\n",
      "      (bn): BatchNorm2d(192, eps=0.001, momentum=0.1, affine=True, track_running_stats=True)\n",
      "    )\n",
      "    (branch7x7dbl_2): BasicConv2d(\n",
      "      (conv): Conv2d(192, 192, kernel_size=(7, 1), stride=(1, 1), padding=(3, 0), bias=False)\n",
      "      (bn): BatchNorm2d(192, eps=0.001, momentum=0.1, affine=True, track_running_stats=True)\n",
      "    )\n",
      "    (branch7x7dbl_3): BasicConv2d(\n",
      "      (conv): Conv2d(192, 192, kernel_size=(1, 7), stride=(1, 1), padding=(0, 3), bias=False)\n",
      "      (bn): BatchNorm2d(192, eps=0.001, momentum=0.1, affine=True, track_running_stats=True)\n",
      "    )\n",
      "    (branch7x7dbl_4): BasicConv2d(\n",
      "      (conv): Conv2d(192, 192, kernel_size=(7, 1), stride=(1, 1), padding=(3, 0), bias=False)\n",
      "      (bn): BatchNorm2d(192, eps=0.001, momentum=0.1, affine=True, track_running_stats=True)\n",
      "    )\n",
      "    (branch7x7dbl_5): BasicConv2d(\n",
      "      (conv): Conv2d(192, 192, kernel_size=(1, 7), stride=(1, 1), padding=(0, 3), bias=False)\n",
      "      (bn): BatchNorm2d(192, eps=0.001, momentum=0.1, affine=True, track_running_stats=True)\n",
      "    )\n",
      "    (branch_pool): BasicConv2d(\n",
      "      (conv): Conv2d(768, 192, kernel_size=(1, 1), stride=(1, 1), bias=False)\n",
      "      (bn): BatchNorm2d(192, eps=0.001, momentum=0.1, affine=True, track_running_stats=True)\n",
      "    )\n",
      "  )\n",
      "  (AuxLogits): InceptionAux(\n",
      "    (conv0): BasicConv2d(\n",
      "      (conv): Conv2d(768, 128, kernel_size=(1, 1), stride=(1, 1), bias=False)\n",
      "      (bn): BatchNorm2d(128, eps=0.001, momentum=0.1, affine=True, track_running_stats=True)\n",
      "    )\n",
      "    (conv1): BasicConv2d(\n",
      "      (conv): Conv2d(128, 768, kernel_size=(5, 5), stride=(1, 1), bias=False)\n",
      "      (bn): BatchNorm2d(768, eps=0.001, momentum=0.1, affine=True, track_running_stats=True)\n",
      "    )\n",
      "    (fc): Linear(in_features=768, out_features=1000, bias=True)\n",
      "  )\n",
      "  (Mixed_7a): InceptionD(\n",
      "    (branch3x3_1): BasicConv2d(\n",
      "      (conv): Conv2d(768, 192, kernel_size=(1, 1), stride=(1, 1), bias=False)\n",
      "      (bn): BatchNorm2d(192, eps=0.001, momentum=0.1, affine=True, track_running_stats=True)\n",
      "    )\n",
      "    (branch3x3_2): BasicConv2d(\n",
      "      (conv): Conv2d(192, 320, kernel_size=(3, 3), stride=(2, 2), bias=False)\n",
      "      (bn): BatchNorm2d(320, eps=0.001, momentum=0.1, affine=True, track_running_stats=True)\n",
      "    )\n",
      "    (branch7x7x3_1): BasicConv2d(\n",
      "      (conv): Conv2d(768, 192, kernel_size=(1, 1), stride=(1, 1), bias=False)\n",
      "      (bn): BatchNorm2d(192, eps=0.001, momentum=0.1, affine=True, track_running_stats=True)\n",
      "    )\n",
      "    (branch7x7x3_2): BasicConv2d(\n",
      "      (conv): Conv2d(192, 192, kernel_size=(1, 7), stride=(1, 1), padding=(0, 3), bias=False)\n",
      "      (bn): BatchNorm2d(192, eps=0.001, momentum=0.1, affine=True, track_running_stats=True)\n",
      "    )\n",
      "    (branch7x7x3_3): BasicConv2d(\n",
      "      (conv): Conv2d(192, 192, kernel_size=(7, 1), stride=(1, 1), padding=(3, 0), bias=False)\n",
      "      (bn): BatchNorm2d(192, eps=0.001, momentum=0.1, affine=True, track_running_stats=True)\n",
      "    )\n",
      "    (branch7x7x3_4): BasicConv2d(\n",
      "      (conv): Conv2d(192, 192, kernel_size=(3, 3), stride=(2, 2), bias=False)\n",
      "      (bn): BatchNorm2d(192, eps=0.001, momentum=0.1, affine=True, track_running_stats=True)\n",
      "    )\n",
      "  )\n",
      "  (Mixed_7b): InceptionE(\n",
      "    (branch1x1): BasicConv2d(\n",
      "      (conv): Conv2d(1280, 320, kernel_size=(1, 1), stride=(1, 1), bias=False)\n",
      "      (bn): BatchNorm2d(320, eps=0.001, momentum=0.1, affine=True, track_running_stats=True)\n",
      "    )\n",
      "    (branch3x3_1): BasicConv2d(\n",
      "      (conv): Conv2d(1280, 384, kernel_size=(1, 1), stride=(1, 1), bias=False)\n",
      "      (bn): BatchNorm2d(384, eps=0.001, momentum=0.1, affine=True, track_running_stats=True)\n",
      "    )\n",
      "    (branch3x3_2a): BasicConv2d(\n",
      "      (conv): Conv2d(384, 384, kernel_size=(1, 3), stride=(1, 1), padding=(0, 1), bias=False)\n",
      "      (bn): BatchNorm2d(384, eps=0.001, momentum=0.1, affine=True, track_running_stats=True)\n",
      "    )\n",
      "    (branch3x3_2b): BasicConv2d(\n",
      "      (conv): Conv2d(384, 384, kernel_size=(3, 1), stride=(1, 1), padding=(1, 0), bias=False)\n",
      "      (bn): BatchNorm2d(384, eps=0.001, momentum=0.1, affine=True, track_running_stats=True)\n",
      "    )\n",
      "    (branch3x3dbl_1): BasicConv2d(\n",
      "      (conv): Conv2d(1280, 448, kernel_size=(1, 1), stride=(1, 1), bias=False)\n",
      "      (bn): BatchNorm2d(448, eps=0.001, momentum=0.1, affine=True, track_running_stats=True)\n",
      "    )\n",
      "    (branch3x3dbl_2): BasicConv2d(\n",
      "      (conv): Conv2d(448, 384, kernel_size=(3, 3), stride=(1, 1), padding=(1, 1), bias=False)\n",
      "      (bn): BatchNorm2d(384, eps=0.001, momentum=0.1, affine=True, track_running_stats=True)\n",
      "    )\n",
      "    (branch3x3dbl_3a): BasicConv2d(\n",
      "      (conv): Conv2d(384, 384, kernel_size=(1, 3), stride=(1, 1), padding=(0, 1), bias=False)\n",
      "      (bn): BatchNorm2d(384, eps=0.001, momentum=0.1, affine=True, track_running_stats=True)\n",
      "    )\n",
      "    (branch3x3dbl_3b): BasicConv2d(\n",
      "      (conv): Conv2d(384, 384, kernel_size=(3, 1), stride=(1, 1), padding=(1, 0), bias=False)\n",
      "      (bn): BatchNorm2d(384, eps=0.001, momentum=0.1, affine=True, track_running_stats=True)\n",
      "    )\n",
      "    (branch_pool): BasicConv2d(\n",
      "      (conv): Conv2d(1280, 192, kernel_size=(1, 1), stride=(1, 1), bias=False)\n",
      "      (bn): BatchNorm2d(192, eps=0.001, momentum=0.1, affine=True, track_running_stats=True)\n",
      "    )\n",
      "  )\n",
      "  (Mixed_7c): InceptionE(\n",
      "    (branch1x1): BasicConv2d(\n",
      "      (conv): Conv2d(2048, 320, kernel_size=(1, 1), stride=(1, 1), bias=False)\n",
      "      (bn): BatchNorm2d(320, eps=0.001, momentum=0.1, affine=True, track_running_stats=True)\n",
      "    )\n",
      "    (branch3x3_1): BasicConv2d(\n",
      "      (conv): Conv2d(2048, 384, kernel_size=(1, 1), stride=(1, 1), bias=False)\n",
      "      (bn): BatchNorm2d(384, eps=0.001, momentum=0.1, affine=True, track_running_stats=True)\n",
      "    )\n",
      "    (branch3x3_2a): BasicConv2d(\n",
      "      (conv): Conv2d(384, 384, kernel_size=(1, 3), stride=(1, 1), padding=(0, 1), bias=False)\n",
      "      (bn): BatchNorm2d(384, eps=0.001, momentum=0.1, affine=True, track_running_stats=True)\n",
      "    )\n",
      "    (branch3x3_2b): BasicConv2d(\n",
      "      (conv): Conv2d(384, 384, kernel_size=(3, 1), stride=(1, 1), padding=(1, 0), bias=False)\n",
      "      (bn): BatchNorm2d(384, eps=0.001, momentum=0.1, affine=True, track_running_stats=True)\n",
      "    )\n",
      "    (branch3x3dbl_1): BasicConv2d(\n",
      "      (conv): Conv2d(2048, 448, kernel_size=(1, 1), stride=(1, 1), bias=False)\n",
      "      (bn): BatchNorm2d(448, eps=0.001, momentum=0.1, affine=True, track_running_stats=True)\n",
      "    )\n",
      "    (branch3x3dbl_2): BasicConv2d(\n",
      "      (conv): Conv2d(448, 384, kernel_size=(3, 3), stride=(1, 1), padding=(1, 1), bias=False)\n",
      "      (bn): BatchNorm2d(384, eps=0.001, momentum=0.1, affine=True, track_running_stats=True)\n",
      "    )\n",
      "    (branch3x3dbl_3a): BasicConv2d(\n",
      "      (conv): Conv2d(384, 384, kernel_size=(1, 3), stride=(1, 1), padding=(0, 1), bias=False)\n",
      "      (bn): BatchNorm2d(384, eps=0.001, momentum=0.1, affine=True, track_running_stats=True)\n",
      "    )\n",
      "    (branch3x3dbl_3b): BasicConv2d(\n",
      "      (conv): Conv2d(384, 384, kernel_size=(3, 1), stride=(1, 1), padding=(1, 0), bias=False)\n",
      "      (bn): BatchNorm2d(384, eps=0.001, momentum=0.1, affine=True, track_running_stats=True)\n",
      "    )\n",
      "    (branch_pool): BasicConv2d(\n",
      "      (conv): Conv2d(2048, 192, kernel_size=(1, 1), stride=(1, 1), bias=False)\n",
      "      (bn): BatchNorm2d(192, eps=0.001, momentum=0.1, affine=True, track_running_stats=True)\n",
      "    )\n",
      "  )\n",
      "  (avgpool): AdaptiveAvgPool2d(output_size=(1, 1))\n",
      "  (dropout): Dropout(p=0.5, inplace=False)\n",
      "  (fc): Linear(in_features=2048, out_features=1000, bias=True)\n",
      ")\n"
     ]
    }
   ],
   "source": [
    "print(inception)"
   ]
  },
  {
   "cell_type": "code",
   "execution_count": 44,
   "metadata": {
    "execution": {
     "iopub.execute_input": "2021-01-06T11:20:45.245907Z",
     "iopub.status.busy": "2021-01-06T11:20:45.244783Z",
     "iopub.status.idle": "2021-01-06T11:20:45.247792Z",
     "shell.execute_reply": "2021-01-06T11:20:45.247243Z"
    },
    "papermill": {
     "duration": 0.173327,
     "end_time": "2021-01-06T11:20:45.247910",
     "exception": false,
     "start_time": "2021-01-06T11:20:45.074583",
     "status": "completed"
    },
    "tags": []
   },
   "outputs": [],
   "source": [
    "for param in inception.parameters():\n",
    "    param.requires_grad = False"
   ]
  },
  {
   "cell_type": "code",
   "execution_count": 45,
   "metadata": {
    "execution": {
     "iopub.execute_input": "2021-01-06T11:20:45.556098Z",
     "iopub.status.busy": "2021-01-06T11:20:45.555173Z",
     "iopub.status.idle": "2021-01-06T11:20:45.558125Z",
     "shell.execute_reply": "2021-01-06T11:20:45.557655Z"
    },
    "papermill": {
     "duration": 0.15925,
     "end_time": "2021-01-06T11:20:45.558224",
     "exception": false,
     "start_time": "2021-01-06T11:20:45.398974",
     "status": "completed"
    },
    "tags": []
   },
   "outputs": [],
   "source": [
    "aux_in_features = inception.AuxLogits.fc.in_features\n",
    "inception.AuxLogits.fc =nn.Linear(aux_in_features, num_classes)"
   ]
  },
  {
   "cell_type": "code",
   "execution_count": 46,
   "metadata": {
    "execution": {
     "iopub.execute_input": "2021-01-06T11:20:45.881655Z",
     "iopub.status.busy": "2021-01-06T11:20:45.880872Z",
     "iopub.status.idle": "2021-01-06T11:20:45.884792Z",
     "shell.execute_reply": "2021-01-06T11:20:45.885234Z"
    },
    "papermill": {
     "duration": 0.173038,
     "end_time": "2021-01-06T11:20:45.885387",
     "exception": false,
     "start_time": "2021-01-06T11:20:45.712349",
     "status": "completed"
    },
    "tags": []
   },
   "outputs": [
    {
     "name": "stdout",
     "output_type": "stream",
     "text": [
      "torch.Size([10, 768])\n",
      "torch.Size([10])\n"
     ]
    }
   ],
   "source": [
    "for param in inception.parameters():\n",
    "    if param.requires_grad:\n",
    "        print(param.shape)"
   ]
  },
  {
   "cell_type": "code",
   "execution_count": 47,
   "metadata": {
    "execution": {
     "iopub.execute_input": "2021-01-06T11:20:46.216166Z",
     "iopub.status.busy": "2021-01-06T11:20:46.215358Z",
     "iopub.status.idle": "2021-01-06T11:20:46.218552Z",
     "shell.execute_reply": "2021-01-06T11:20:46.218046Z"
    },
    "papermill": {
     "duration": 0.167126,
     "end_time": "2021-01-06T11:20:46.218657",
     "exception": false,
     "start_time": "2021-01-06T11:20:46.051531",
     "status": "completed"
    },
    "tags": []
   },
   "outputs": [],
   "source": [
    "in_features = inception.fc.in_features\n",
    "inception.fc = nn.Linear(in_features, num_classes)"
   ]
  },
  {
   "cell_type": "code",
   "execution_count": 48,
   "metadata": {
    "execution": {
     "iopub.execute_input": "2021-01-06T11:20:46.530059Z",
     "iopub.status.busy": "2021-01-06T11:20:46.529314Z",
     "iopub.status.idle": "2021-01-06T11:20:46.534033Z",
     "shell.execute_reply": "2021-01-06T11:20:46.534683Z"
    },
    "papermill": {
     "duration": 0.164289,
     "end_time": "2021-01-06T11:20:46.534814",
     "exception": false,
     "start_time": "2021-01-06T11:20:46.370525",
     "status": "completed"
    },
    "tags": []
   },
   "outputs": [
    {
     "name": "stdout",
     "output_type": "stream",
     "text": [
      "torch.Size([10, 768])\n",
      "torch.Size([10])\n",
      "torch.Size([10, 2048])\n",
      "torch.Size([10])\n"
     ]
    }
   ],
   "source": [
    "for param in inception.parameters():\n",
    "    if param.requires_grad:\n",
    "        print(param.shape)"
   ]
  },
  {
   "cell_type": "code",
   "execution_count": 49,
   "metadata": {
    "execution": {
     "iopub.execute_input": "2021-01-06T11:20:46.847029Z",
     "iopub.status.busy": "2021-01-06T11:20:46.846112Z",
     "iopub.status.idle": "2021-01-06T11:20:46.848232Z",
     "shell.execute_reply": "2021-01-06T11:20:46.848818Z"
    },
    "papermill": {
     "duration": 0.161134,
     "end_time": "2021-01-06T11:20:46.848947",
     "exception": false,
     "start_time": "2021-01-06T11:20:46.687813",
     "status": "completed"
    },
    "tags": []
   },
   "outputs": [],
   "source": [
    "transform_train = transforms.Compose([\n",
    "    transforms.RandomResizedCrop(299),\n",
    "    transforms.ToTensor(),\n",
    "    transforms.Normalize((0.485, 0.456, 0.406),(0.229, 0.224, 0.225)),\n",
    "    ])\n",
    "# normalize = transforms.Normalize(mean=[0.485, 0.456, 0.406],\n",
    "#                                  std=[0.229, 0.224, 0.225])\n",
    "transform_test = transforms.Compose([\n",
    "    transforms.RandomResizedCrop(299),\n",
    "    transforms.ToTensor(),\n",
    "    transforms.Normalize((0.485, 0.456, 0.406),(0.229, 0.224, 0.225)),\n",
    "    ])"
   ]
  },
  {
   "cell_type": "code",
   "execution_count": 50,
   "metadata": {
    "execution": {
     "iopub.execute_input": "2021-01-06T11:20:47.179173Z",
     "iopub.status.busy": "2021-01-06T11:20:47.178303Z",
     "iopub.status.idle": "2021-01-06T11:20:48.993066Z",
     "shell.execute_reply": "2021-01-06T11:20:48.992214Z"
    },
    "papermill": {
     "duration": 1.978725,
     "end_time": "2021-01-06T11:20:48.993193",
     "exception": false,
     "start_time": "2021-01-06T11:20:47.014468",
     "status": "completed"
    },
    "tags": []
   },
   "outputs": [
    {
     "name": "stdout",
     "output_type": "stream",
     "text": [
      "Files already downloaded and verified\n",
      "Files already downloaded and verified\n"
     ]
    }
   ],
   "source": [
    "trainset = torchvision.datasets.CIFAR10(root='./data', train=True, \n",
    "                                        download=True, \n",
    "                                        transform=transform_train)\n",
    "testset = torchvision.datasets.CIFAR10(root='./data', train=False, \n",
    "                                        download=True, \n",
    "                                        transform=transform_test)"
   ]
  },
  {
   "cell_type": "code",
   "execution_count": 51,
   "metadata": {
    "execution": {
     "iopub.execute_input": "2021-01-06T11:20:49.320443Z",
     "iopub.status.busy": "2021-01-06T11:20:49.318687Z",
     "iopub.status.idle": "2021-01-06T11:20:49.321102Z",
     "shell.execute_reply": "2021-01-06T11:20:49.321590Z"
    },
    "papermill": {
     "duration": 0.171157,
     "end_time": "2021-01-06T11:20:49.321713",
     "exception": false,
     "start_time": "2021-01-06T11:20:49.150556",
     "status": "completed"
    },
    "tags": []
   },
   "outputs": [],
   "source": [
    "batch_size=16\n",
    "\n",
    "trainloader = torch.utils.data.DataLoader(trainset, batch_size=batch_size, shuffle=True)\n",
    "testloader = torch.utils.data.DataLoader(testset, batch_size=batch_size, shuffle=False)"
   ]
  },
  {
   "cell_type": "code",
   "execution_count": 52,
   "metadata": {
    "execution": {
     "iopub.execute_input": "2021-01-06T11:20:49.644339Z",
     "iopub.status.busy": "2021-01-06T11:20:49.643148Z",
     "iopub.status.idle": "2021-01-06T11:20:49.706590Z",
     "shell.execute_reply": "2021-01-06T11:20:49.705963Z"
    },
    "papermill": {
     "duration": 0.22397,
     "end_time": "2021-01-06T11:20:49.706703",
     "exception": false,
     "start_time": "2021-01-06T11:20:49.482733",
     "status": "completed"
    },
    "tags": []
   },
   "outputs": [],
   "source": [
    "inception = inception.to(device)\n",
    "loss_fn = nn.CrossEntropyLoss()\n",
    "opt = optim.SGD(inception.parameters(), lr=0.01)"
   ]
  },
  {
   "cell_type": "code",
   "execution_count": 53,
   "metadata": {
    "execution": {
     "iopub.execute_input": "2021-01-06T11:20:50.149631Z",
     "iopub.status.busy": "2021-01-06T11:20:50.148589Z",
     "iopub.status.idle": "2021-01-06T11:20:50.154795Z",
     "shell.execute_reply": "2021-01-06T11:20:50.153594Z"
    },
    "papermill": {
     "duration": 0.279667,
     "end_time": "2021-01-06T11:20:50.154943",
     "exception": false,
     "start_time": "2021-01-06T11:20:49.875276",
     "status": "completed"
    },
    "tags": []
   },
   "outputs": [],
   "source": [
    "def evaluation_inception(dataloader, model):\n",
    "    total, correct = 0,0\n",
    "    for data in dataloader:\n",
    "        inputs, labels = data\n",
    "        inputs, labels = inputs.to(device), labels.to(device)\n",
    "        outputs, aux_output = model(inputs)\n",
    "        _, pred = torch.max(outputs.data, 1)\n",
    "        total += (pred == labels).sum().item()\n",
    "        correct += (pred == labels).sum().item()\n",
    "    return 100 * correct / total"
   ]
  },
  {
   "cell_type": "code",
   "execution_count": 54,
   "metadata": {
    "execution": {
     "iopub.execute_input": "2021-01-06T11:20:50.622552Z",
     "iopub.status.busy": "2021-01-06T11:20:50.621259Z",
     "iopub.status.idle": "2021-01-06T11:32:21.883611Z",
     "shell.execute_reply": "2021-01-06T11:32:21.882812Z"
    },
    "papermill": {
     "duration": 691.493621,
     "end_time": "2021-01-06T11:32:21.883763",
     "exception": false,
     "start_time": "2021-01-06T11:20:50.390142",
     "status": "completed"
    },
    "tags": []
   },
   "outputs": [
    {
     "name": "stdout",
     "output_type": "stream",
     "text": [
      "Min loss 3.13\n",
      "Iteration: 0/3125, Loss: 3.13\n",
      "Min loss 2.90\n",
      "Min loss 2.86\n",
      "Min loss 2.85\n",
      "Min loss 2.78\n",
      "Min loss 2.75\n",
      "Min loss 2.67\n",
      "Min loss 2.63\n",
      "Min loss 2.60\n",
      "Min loss 2.54\n",
      "Iteration: 100/3125, Loss: 2.89\n",
      "Min loss 2.40\n",
      "Min loss 2.38\n",
      "Min loss 2.24\n",
      "Min loss 2.23\n",
      "Iteration: 200/3125, Loss: 2.47\n",
      "Min loss 2.21\n",
      "Min loss 2.12\n",
      "Min loss 2.03\n",
      "Min loss 1.83\n",
      "Iteration: 300/3125, Loss: 2.34\n",
      "Iteration: 400/3125, Loss: 2.60\n",
      "Min loss 1.73\n",
      "Iteration: 500/3125, Loss: 2.26\n",
      "Min loss 1.73\n",
      "Min loss 1.66\n",
      "Iteration: 600/3125, Loss: 2.71\n",
      "Iteration: 700/3125, Loss: 2.03\n",
      "Min loss 1.66\n",
      "Min loss 1.60\n",
      "Iteration: 800/3125, Loss: 1.88\n",
      "Min loss 1.60\n",
      "Min loss 1.54\n",
      "Min loss 1.40\n",
      "Iteration: 900/3125, Loss: 1.69\n",
      "Iteration: 1000/3125, Loss: 2.02\n",
      "Iteration: 1100/3125, Loss: 1.89\n",
      "Iteration: 1200/3125, Loss: 2.48\n",
      "Min loss 1.38\n",
      "Iteration: 1300/3125, Loss: 2.16\n",
      "Min loss 1.38\n",
      "Iteration: 1400/3125, Loss: 2.19\n",
      "Min loss 1.28\n",
      "Iteration: 1500/3125, Loss: 2.20\n",
      "Min loss 1.25\n",
      "Iteration: 1600/3125, Loss: 1.45\n",
      "Iteration: 1700/3125, Loss: 1.54\n",
      "Min loss 1.23\n",
      "Iteration: 1800/3125, Loss: 1.93\n",
      "Iteration: 1900/3125, Loss: 1.61\n",
      "Iteration: 2000/3125, Loss: 1.44\n",
      "Min loss 1.11\n",
      "Iteration: 2100/3125, Loss: 1.72\n",
      "Iteration: 2200/3125, Loss: 1.95\n",
      "Iteration: 2300/3125, Loss: 1.59\n",
      "Iteration: 2400/3125, Loss: 2.39\n",
      "Iteration: 2500/3125, Loss: 2.90\n",
      "Iteration: 2600/3125, Loss: 1.83\n",
      "Iteration: 2700/3125, Loss: 1.72\n",
      "Iteration: 2800/3125, Loss: 1.41\n",
      "Iteration: 2900/3125, Loss: 1.84\n",
      "Iteration: 3000/3125, Loss: 1.63\n",
      "Iteration: 3100/3125, Loss: 2.04\n",
      "Epoch: 0/1, Test acc: 100.00, Train acc: 100.00\n"
     ]
    },
    {
     "data": {
      "image/png": "[encoded data removed]",
      "text/plain": [
       "<Figure size 432x288 with 1 Axes>"
      ]
     },
     "metadata": {
      "needs_background": "light"
     },
     "output_type": "display_data"
    }
   ],
   "source": [
    "loss_epoch_arr = []\n",
    "max_epochs = 1\n",
    "\n",
    "min_loss = 1000\n",
    "\n",
    "n_iters = np.ceil(50000/batch_size)\n",
    "\n",
    "for epoch in range(max_epochs):\n",
    "    \n",
    "    for i, data in enumerate(trainloader, 0):\n",
    "        \n",
    "        inputs, labels = data\n",
    "        inputs, labels = inputs.to(device), labels.to(device)\n",
    "        \n",
    "        opt.zero_grad()\n",
    "        \n",
    "        outputs, aux_outputs = inception(inputs)\n",
    "        loss = loss_fn(outputs, labels) + 0.3 * loss_fn(aux_outputs, labels)\n",
    "        loss.backward()\n",
    "        opt.step()\n",
    "        \n",
    "        if min_loss > loss.item():\n",
    "            min_loss = loss.item()\n",
    "            best_model = copy.deepcopy(inception.state_dict())\n",
    "            print('Min loss %0.2f' % min_loss)\n",
    "            \n",
    "        if i % 100 == 0:\n",
    "            print('Iteration: %d/%d, Loss: %0.2f' % (i, n_iters, loss.item()))\n",
    "        \n",
    "        del inputs, labels, outputs\n",
    "        torch.cuda.empty_cache()\n",
    "    \n",
    "    loss_epoch_arr.append(loss.item())\n",
    "    \n",
    "    print('Epoch: %d/%d, Test acc: %0.2f, Train acc: %0.2f' % (\n",
    "        epoch, max_epochs, \n",
    "        evaluation_inception(testloader, inception), \n",
    "        evaluation_inception(trainloader, inception)))\n",
    "    \n",
    "plt.plot(loss_epoch_arr)\n",
    "plt.show()"
   ]
  },
  {
   "cell_type": "code",
   "execution_count": 55,
   "metadata": {
    "execution": {
     "iopub.execute_input": "2021-01-06T11:32:22.256011Z",
     "iopub.status.busy": "2021-01-06T11:32:22.254888Z",
     "iopub.status.idle": "2021-01-06T11:38:30.466460Z",
     "shell.execute_reply": "2021-01-06T11:38:30.467074Z"
    },
    "papermill": {
     "duration": 368.401266,
     "end_time": "2021-01-06T11:38:30.467222",
     "exception": false,
     "start_time": "2021-01-06T11:32:22.065956",
     "status": "completed"
    },
    "tags": []
   },
   "outputs": [
    {
     "name": "stdout",
     "output_type": "stream",
     "text": [
      "100.0 100.0\n"
     ]
    }
   ],
   "source": [
    "inception.load_state_dict(best_model)\n",
    "print(evaluation_inception(trainloader, inception), evaluation_inception(testloader, inception))"
   ]
  }
 ],
 "metadata": {
  "kernelspec": {
   "display_name": "Python 3",
   "language": "python",
   "name": "python3"
  },
  "language_info": {
   "codemirror_mode": {
    "name": "ipython",
    "version": 3
   },
   "file_extension": ".py",
   "mimetype": "text/x-python",
   "name": "python",
   "nbconvert_exporter": "python",
   "pygments_lexer": "ipython3",
   "version": "3.7.6"
  },
  "papermill": {
   "duration": 4608.400955,
   "end_time": "2021-01-06T11:38:32.051407",
   "environment_variables": {},
   "exception": null,
   "input_path": "__notebook__.ipynb",
   "output_path": "__notebook__.ipynb",
   "parameters": {},
   "start_time": "2021-01-06T10:21:43.650452",
   "version": "2.1.0"
  },
  "widgets": {
   "application/vnd.jupyter.widget-state+json": {
    "state": {
     "04237d9ffc3c4e3abb924c3659bab4fa": {
      "model_module": "@jupyter-widgets/controls",
      "model_module_version": "1.5.0",
      "model_name": "DescriptionStyleModel",
      "state": {
       "_model_module": "@jupyter-widgets/controls",
       "_model_module_version": "1.5.0",
       "_model_name": "DescriptionStyleModel",
       "_view_count": null,
       "_view_module": "@jupyter-widgets/base",
       "_view_module_version": "1.2.0",
       "_view_name": "StyleView",
       "description_width": ""
      }
     },
     "106f0b77a8fb4d239bce2f9a18cd5e0f": {
      "model_module": "@jupyter-widgets/controls",
      "model_module_version": "1.5.0",
      "model_name": "FloatProgressModel",
      "state": {
       "_dom_classes": [],
       "_model_module": "@jupyter-widgets/controls",
       "_model_module_version": "1.5.0",
       "_model_name": "FloatProgressModel",
       "_view_count": null,
       "_view_module": "@jupyter-widgets/controls",
       "_view_module_version": "1.5.0",
       "_view_name": "ProgressView",
       "bar_style": "success",
       "description": "100%",
       "description_tooltip": null,
       "layout": "IPY_MODEL_1633e5d4ed554a10a1cc3b3e5c1aca7b",
       "max": 553507836.0,
       "min": 0.0,
       "orientation": "horizontal",
       "style": "IPY_MODEL_16bf422846904e8885ec0c733a4d685d",
       "value": 553507836.0
      }
     },
     "1633e5d4ed554a10a1cc3b3e5c1aca7b": {
      "model_module": "@jupyter-widgets/base",
      "model_module_version": "1.2.0",
      "model_name": "LayoutModel",
      "state": {
       "_model_module": "@jupyter-widgets/base",
       "_model_module_version": "1.2.0",
       "_model_name": "LayoutModel",
       "_view_count": null,
       "_view_module": "@jupyter-widgets/base",
       "_view_module_version": "1.2.0",
       "_view_name": "LayoutView",
       "align_content": null,
       "align_items": null,
       "align_self": null,
       "border": null,
       "bottom": null,
       "display": null,
       "flex": null,
       "flex_flow": null,
       "grid_area": null,
       "grid_auto_columns": null,
       "grid_auto_flow": null,
       "grid_auto_rows": null,
       "grid_column": null,
       "grid_gap": null,
       "grid_row": null,
       "grid_template_areas": null,
       "grid_template_columns": null,
       "grid_template_rows": null,
       "height": null,
       "justify_content": null,
       "justify_items": null,
       "left": null,
       "margin": null,
       "max_height": null,
       "max_width": null,
       "min_height": null,
       "min_width": null,
       "object_fit": null,
       "object_position": null,
       "order": null,
       "overflow": null,
       "overflow_x": null,
       "overflow_y": null,
       "padding": null,
       "right": null,
       "top": null,
       "visibility": null,
       "width": null
      }
     },
     "16bf422846904e8885ec0c733a4d685d": {
      "model_module": "@jupyter-widgets/controls",
      "model_module_version": "1.5.0",
      "model_name": "ProgressStyleModel",
      "state": {
       "_model_module": "@jupyter-widgets/controls",
       "_model_module_version": "1.5.0",
       "_model_name": "ProgressStyleModel",
       "_view_count": null,
       "_view_module": "@jupyter-widgets/base",
       "_view_module_version": "1.2.0",
       "_view_name": "StyleView",
       "bar_color": null,
       "description_width": "initial"
      }
     },
     "16fcfdc40ab54f2e92f7f8c20434ddfa": {
      "model_module": "@jupyter-widgets/controls",
      "model_module_version": "1.5.0",
      "model_name": "HBoxModel",
      "state": {
       "_dom_classes": [],
       "_model_module": "@jupyter-widgets/controls",
       "_model_module_version": "1.5.0",
       "_model_name": "HBoxModel",
       "_view_count": null,
       "_view_module": "@jupyter-widgets/controls",
       "_view_module_version": "1.5.0",
       "_view_name": "HBoxView",
       "box_style": "",
       "children": [
        "IPY_MODEL_bd6257b119d24f0ea403fb55e845263a",
        "IPY_MODEL_36a3e2854e664cde87bde8c2e2769f1c"
       ],
       "layout": "IPY_MODEL_2011353759614580b642a91f7e08210a"
      }
     },
     "2011353759614580b642a91f7e08210a": {
      "model_module": "@jupyter-widgets/base",
      "model_module_version": "1.2.0",
      "model_name": "LayoutModel",
      "state": {
       "_model_module": "@jupyter-widgets/base",
       "_model_module_version": "1.2.0",
       "_model_name": "LayoutModel",
       "_view_count": null,
       "_view_module": "@jupyter-widgets/base",
       "_view_module_version": "1.2.0",
       "_view_name": "LayoutView",
       "align_content": null,
       "align_items": null,
       "align_self": null,
       "border": null,
       "bottom": null,
       "display": null,
       "flex": null,
       "flex_flow": null,
       "grid_area": null,
       "grid_auto_columns": null,
       "grid_auto_flow": null,
       "grid_auto_rows": null,
       "grid_column": null,
       "grid_gap": null,
       "grid_row": null,
       "grid_template_areas": null,
       "grid_template_columns": null,
       "grid_template_rows": null,
       "height": null,
       "justify_content": null,
       "justify_items": null,
       "left": null,
       "margin": null,
       "max_height": null,
       "max_width": null,
       "min_height": null,
       "min_width": null,
       "object_fit": null,
       "object_position": null,
       "order": null,
       "overflow": null,
       "overflow_x": null,
       "overflow_y": null,
       "padding": null,
       "right": null,
       "top": null,
       "visibility": null,
       "width": null
      }
     },
     "258212be3c70426fa4dd2bed1bf0a1f8": {
      "model_module": "@jupyter-widgets/controls",
      "model_module_version": "1.5.0",
      "model_name": "FloatProgressModel",
      "state": {
       "_dom_classes": [],
       "_model_module": "@jupyter-widgets/controls",
       "_model_module_version": "1.5.0",
       "_model_name": "FloatProgressModel",
       "_view_count": null,
       "_view_module": "@jupyter-widgets/controls",
       "_view_module_version": "1.5.0",
       "_view_name": "ProgressView",
       "bar_style": "success",
       "description": "100%",
       "description_tooltip": null,
       "layout": "IPY_MODEL_d361259c82914ac0bb3c58666e91dadd",
       "max": 108857766.0,
       "min": 0.0,
       "orientation": "horizontal",
       "style": "IPY_MODEL_39ceeba5cfbf49d796246a888f6ab403",
       "value": 108857766.0
      }
     },
     "2617364fb1ac497f89c3507ca300ead8": {
      "model_module": "@jupyter-widgets/base",
      "model_module_version": "1.2.0",
      "model_name": "LayoutModel",
      "state": {
       "_model_module": "@jupyter-widgets/base",
       "_model_module_version": "1.2.0",
       "_model_name": "LayoutModel",
       "_view_count": null,
       "_view_module": "@jupyter-widgets/base",
       "_view_module_version": "1.2.0",
       "_view_name": "LayoutView",
       "align_content": null,
       "align_items": null,
       "align_self": null,
       "border": null,
       "bottom": null,
       "display": null,
       "flex": null,
       "flex_flow": null,
       "grid_area": null,
       "grid_auto_columns": null,
       "grid_auto_flow": null,
       "grid_auto_rows": null,
       "grid_column": null,
       "grid_gap": null,
       "grid_row": null,
       "grid_template_areas": null,
       "grid_template_columns": null,
       "grid_template_rows": null,
       "height": null,
       "justify_content": null,
       "justify_items": null,
       "left": null,
       "margin": null,
       "max_height": null,
       "max_width": null,
       "min_height": null,
       "min_width": null,
       "object_fit": null,
       "object_position": null,
       "order": null,
       "overflow": null,
       "overflow_x": null,
       "overflow_y": null,
       "padding": null,
       "right": null,
       "top": null,
       "visibility": null,
       "width": null
      }
     },
     "2ed7d817b43d4b4bbf6092261c270ba8": {
      "model_module": "@jupyter-widgets/controls",
      "model_module_version": "1.5.0",
      "model_name": "HBoxModel",
      "state": {
       "_dom_classes": [],
       "_model_module": "@jupyter-widgets/controls",
       "_model_module_version": "1.5.0",
       "_model_name": "HBoxModel",
       "_view_count": null,
       "_view_module": "@jupyter-widgets/controls",
       "_view_module_version": "1.5.0",
       "_view_name": "HBoxView",
       "box_style": "",
       "children": [
        "IPY_MODEL_ddc9774e369246fc843569c04c0141e0",
        "IPY_MODEL_acc1ee2a6f7048a692544b11e2a170c4"
       ],
       "layout": "IPY_MODEL_7c1ea1c1bf534629b865d7589e57222f"
      }
     },
     "36a3e2854e664cde87bde8c2e2769f1c": {
      "model_module": "@jupyter-widgets/controls",
      "model_module_version": "1.5.0",
      "model_name": "HTMLModel",
      "state": {
       "_dom_classes": [],
       "_model_module": "@jupyter-widgets/controls",
       "_model_module_version": "1.5.0",
       "_model_name": "HTMLModel",
       "_view_count": null,
       "_view_module": "@jupyter-widgets/controls",
       "_view_module_version": "1.5.0",
       "_view_name": "HTMLView",
       "description": "",
       "description_tooltip": null,
       "layout": "IPY_MODEL_88e87b607d764af4be01031935237c50",
       "placeholder": "​",
       "style": "IPY_MODEL_9daa4a5a054e440dbd6e284b07a439b7",
       "value": " 170500096/? [00:06&lt;00:00, 26648174.36it/s]"
      }
     },
     "39ceeba5cfbf49d796246a888f6ab403": {
      "model_module": "@jupyter-widgets/controls",
      "model_module_version": "1.5.0",
      "model_name": "ProgressStyleModel",
      "state": {
       "_model_module": "@jupyter-widgets/controls",
       "_model_module_version": "1.5.0",
       "_model_name": "ProgressStyleModel",
       "_view_count": null,
       "_view_module": "@jupyter-widgets/base",
       "_view_module_version": "1.2.0",
       "_view_name": "StyleView",
       "bar_color": null,
       "description_width": "initial"
      }
     },
     "44fb6089a20944de95174b376c1630fe": {
      "model_module": "@jupyter-widgets/base",
      "model_module_version": "1.2.0",
      "model_name": "LayoutModel",
      "state": {
       "_model_module": "@jupyter-widgets/base",
       "_model_module_version": "1.2.0",
       "_model_name": "LayoutModel",
       "_view_count": null,
       "_view_module": "@jupyter-widgets/base",
       "_view_module_version": "1.2.0",
       "_view_name": "LayoutView",
       "align_content": null,
       "align_items": null,
       "align_self": null,
       "border": null,
       "bottom": null,
       "display": null,
       "flex": null,
       "flex_flow": null,
       "grid_area": null,
       "grid_auto_columns": null,
       "grid_auto_flow": null,
       "grid_auto_rows": null,
       "grid_column": null,
       "grid_gap": null,
       "grid_row": null,
       "grid_template_areas": null,
       "grid_template_columns": null,
       "grid_template_rows": null,
       "height": null,
       "justify_content": null,
       "justify_items": null,
       "left": null,
       "margin": null,
       "max_height": null,
       "max_width": null,
       "min_height": null,
       "min_width": null,
       "object_fit": null,
       "object_position": null,
       "order": null,
       "overflow": null,
       "overflow_x": null,
       "overflow_y": null,
       "padding": null,
       "right": null,
       "top": null,
       "visibility": null,
       "width": null
      }
     },
     "57511330a06c4a9797fb76f3e4266e40": {
      "model_module": "@jupyter-widgets/controls",
      "model_module_version": "1.5.0",
      "model_name": "ProgressStyleModel",
      "state": {
       "_model_module": "@jupyter-widgets/controls",
       "_model_module_version": "1.5.0",
       "_model_name": "ProgressStyleModel",
       "_view_count": null,
       "_view_module": "@jupyter-widgets/base",
       "_view_module_version": "1.2.0",
       "_view_name": "StyleView",
       "bar_color": null,
       "description_width": "initial"
      }
     },
     "5876f1083eab4697b1c8600ac98f42c5": {
      "model_module": "@jupyter-widgets/controls",
      "model_module_version": "1.5.0",
      "model_name": "DescriptionStyleModel",
      "state": {
       "_model_module": "@jupyter-widgets/controls",
       "_model_module_version": "1.5.0",
       "_model_name": "DescriptionStyleModel",
       "_view_count": null,
       "_view_module": "@jupyter-widgets/base",
       "_view_module_version": "1.2.0",
       "_view_name": "StyleView",
       "description_width": ""
      }
     },
     "618ef725798447e68179eabea444eee8": {
      "model_module": "@jupyter-widgets/controls",
      "model_module_version": "1.5.0",
      "model_name": "HBoxModel",
      "state": {
       "_dom_classes": [],
       "_model_module": "@jupyter-widgets/controls",
       "_model_module_version": "1.5.0",
       "_model_name": "HBoxModel",
       "_view_count": null,
       "_view_module": "@jupyter-widgets/controls",
       "_view_module_version": "1.5.0",
       "_view_name": "HBoxView",
       "box_style": "",
       "children": [
        "IPY_MODEL_258212be3c70426fa4dd2bed1bf0a1f8",
        "IPY_MODEL_7aff7536c7764e22b71b0e8f878bbb9b"
       ],
       "layout": "IPY_MODEL_2617364fb1ac497f89c3507ca300ead8"
      }
     },
     "71106807d8f2408998e2c6a2c979ff7e": {
      "model_module": "@jupyter-widgets/base",
      "model_module_version": "1.2.0",
      "model_name": "LayoutModel",
      "state": {
       "_model_module": "@jupyter-widgets/base",
       "_model_module_version": "1.2.0",
       "_model_name": "LayoutModel",
       "_view_count": null,
       "_view_module": "@jupyter-widgets/base",
       "_view_module_version": "1.2.0",
       "_view_name": "LayoutView",
       "align_content": null,
       "align_items": null,
       "align_self": null,
       "border": null,
       "bottom": null,
       "display": null,
       "flex": null,
       "flex_flow": null,
       "grid_area": null,
       "grid_auto_columns": null,
       "grid_auto_flow": null,
       "grid_auto_rows": null,
       "grid_column": null,
       "grid_gap": null,
       "grid_row": null,
       "grid_template_areas": null,
       "grid_template_columns": null,
       "grid_template_rows": null,
       "height": null,
       "justify_content": null,
       "justify_items": null,
       "left": null,
       "margin": null,
       "max_height": null,
       "max_width": null,
       "min_height": null,
       "min_width": null,
       "object_fit": null,
       "object_position": null,
       "order": null,
       "overflow": null,
       "overflow_x": null,
       "overflow_y": null,
       "padding": null,
       "right": null,
       "top": null,
       "visibility": null,
       "width": null
      }
     },
     "735345e968234370ad4049030e518f45": {
      "model_module": "@jupyter-widgets/base",
      "model_module_version": "1.2.0",
      "model_name": "LayoutModel",
      "state": {
       "_model_module": "@jupyter-widgets/base",
       "_model_module_version": "1.2.0",
       "_model_name": "LayoutModel",
       "_view_count": null,
       "_view_module": "@jupyter-widgets/base",
       "_view_module_version": "1.2.0",
       "_view_name": "LayoutView",
       "align_content": null,
       "align_items": null,
       "align_self": null,
       "border": null,
       "bottom": null,
       "display": null,
       "flex": null,
       "flex_flow": null,
       "grid_area": null,
       "grid_auto_columns": null,
       "grid_auto_flow": null,
       "grid_auto_rows": null,
       "grid_column": null,
       "grid_gap": null,
       "grid_row": null,
       "grid_template_areas": null,
       "grid_template_columns": null,
       "grid_template_rows": null,
       "height": null,
       "justify_content": null,
       "justify_items": null,
       "left": null,
       "margin": null,
       "max_height": null,
       "max_width": null,
       "min_height": null,
       "min_width": null,
       "object_fit": null,
       "object_position": null,
       "order": null,
       "overflow": null,
       "overflow_x": null,
       "overflow_y": null,
       "padding": null,
       "right": null,
       "top": null,
       "visibility": null,
       "width": null
      }
     },
     "7aff7536c7764e22b71b0e8f878bbb9b": {
      "model_module": "@jupyter-widgets/controls",
      "model_module_version": "1.5.0",
      "model_name": "HTMLModel",
      "state": {
       "_dom_classes": [],
       "_model_module": "@jupyter-widgets/controls",
       "_model_module_version": "1.5.0",
       "_model_name": "HTMLModel",
       "_view_count": null,
       "_view_module": "@jupyter-widgets/controls",
       "_view_module_version": "1.5.0",
       "_view_name": "HTMLView",
       "description": "",
       "description_tooltip": null,
       "layout": "IPY_MODEL_ad2ee48fe6f54a4aae5262ee31fbcef9",
       "placeholder": "​",
       "style": "IPY_MODEL_d1dd50497bea4b54b3639ea78726fa71",
       "value": " 104M/104M [00:03&lt;00:00, 28.8MB/s]"
      }
     },
     "7c1ea1c1bf534629b865d7589e57222f": {
      "model_module": "@jupyter-widgets/base",
      "model_module_version": "1.2.0",
      "model_name": "LayoutModel",
      "state": {
       "_model_module": "@jupyter-widgets/base",
       "_model_module_version": "1.2.0",
       "_model_name": "LayoutModel",
       "_view_count": null,
       "_view_module": "@jupyter-widgets/base",
       "_view_module_version": "1.2.0",
       "_view_name": "LayoutView",
       "align_content": null,
       "align_items": null,
       "align_self": null,
       "border": null,
       "bottom": null,
       "display": null,
       "flex": null,
       "flex_flow": null,
       "grid_area": null,
       "grid_auto_columns": null,
       "grid_auto_flow": null,
       "grid_auto_rows": null,
       "grid_column": null,
       "grid_gap": null,
       "grid_row": null,
       "grid_template_areas": null,
       "grid_template_columns": null,
       "grid_template_rows": null,
       "height": null,
       "justify_content": null,
       "justify_items": null,
       "left": null,
       "margin": null,
       "max_height": null,
       "max_width": null,
       "min_height": null,
       "min_width": null,
       "object_fit": null,
       "object_position": null,
       "order": null,
       "overflow": null,
       "overflow_x": null,
       "overflow_y": null,
       "padding": null,
       "right": null,
       "top": null,
       "visibility": null,
       "width": null
      }
     },
     "88e87b607d764af4be01031935237c50": {
      "model_module": "@jupyter-widgets/base",
      "model_module_version": "1.2.0",
      "model_name": "LayoutModel",
      "state": {
       "_model_module": "@jupyter-widgets/base",
       "_model_module_version": "1.2.0",
       "_model_name": "LayoutModel",
       "_view_count": null,
       "_view_module": "@jupyter-widgets/base",
       "_view_module_version": "1.2.0",
       "_view_name": "LayoutView",
       "align_content": null,
       "align_items": null,
       "align_self": null,
       "border": null,
       "bottom": null,
       "display": null,
       "flex": null,
       "flex_flow": null,
       "grid_area": null,
       "grid_auto_columns": null,
       "grid_auto_flow": null,
       "grid_auto_rows": null,
       "grid_column": null,
       "grid_gap": null,
       "grid_row": null,
       "grid_template_areas": null,
       "grid_template_columns": null,
       "grid_template_rows": null,
       "height": null,
       "justify_content": null,
       "justify_items": null,
       "left": null,
       "margin": null,
       "max_height": null,
       "max_width": null,
       "min_height": null,
       "min_width": null,
       "object_fit": null,
       "object_position": null,
       "order": null,
       "overflow": null,
       "overflow_x": null,
       "overflow_y": null,
       "padding": null,
       "right": null,
       "top": null,
       "visibility": null,
       "width": null
      }
     },
     "8ef3b8abc4c244e2ade08233a77dd214": {
      "model_module": "@jupyter-widgets/controls",
      "model_module_version": "1.5.0",
      "model_name": "HBoxModel",
      "state": {
       "_dom_classes": [],
       "_model_module": "@jupyter-widgets/controls",
       "_model_module_version": "1.5.0",
       "_model_name": "HBoxModel",
       "_view_count": null,
       "_view_module": "@jupyter-widgets/controls",
       "_view_module_version": "1.5.0",
       "_view_name": "HBoxView",
       "box_style": "",
       "children": [
        "IPY_MODEL_106f0b77a8fb4d239bce2f9a18cd5e0f",
        "IPY_MODEL_cd29184450654de6a1ded406c193fc1d"
       ],
       "layout": "IPY_MODEL_cc2f78461c2541d68ed1063e178556a4"
      }
     },
     "9daa4a5a054e440dbd6e284b07a439b7": {
      "model_module": "@jupyter-widgets/controls",
      "model_module_version": "1.5.0",
      "model_name": "DescriptionStyleModel",
      "state": {
       "_model_module": "@jupyter-widgets/controls",
       "_model_module_version": "1.5.0",
       "_model_name": "DescriptionStyleModel",
       "_view_count": null,
       "_view_module": "@jupyter-widgets/base",
       "_view_module_version": "1.2.0",
       "_view_name": "StyleView",
       "description_width": ""
      }
     },
     "acc1ee2a6f7048a692544b11e2a170c4": {
      "model_module": "@jupyter-widgets/controls",
      "model_module_version": "1.5.0",
      "model_name": "HTMLModel",
      "state": {
       "_dom_classes": [],
       "_model_module": "@jupyter-widgets/controls",
       "_model_module_version": "1.5.0",
       "_model_name": "HTMLModel",
       "_view_count": null,
       "_view_module": "@jupyter-widgets/controls",
       "_view_module_version": "1.5.0",
       "_view_name": "HTMLView",
       "description": "",
       "description_tooltip": null,
       "layout": "IPY_MODEL_e2fe82c548b042e2b58506c2a12317df",
       "placeholder": "​",
       "style": "IPY_MODEL_5876f1083eab4697b1c8600ac98f42c5",
       "value": " 44.7M/44.7M [18:42&lt;00:00, 41.7kB/s]"
      }
     },
     "ad2ee48fe6f54a4aae5262ee31fbcef9": {
      "model_module": "@jupyter-widgets/base",
      "model_module_version": "1.2.0",
      "model_name": "LayoutModel",
      "state": {
       "_model_module": "@jupyter-widgets/base",
       "_model_module_version": "1.2.0",
       "_model_name": "LayoutModel",
       "_view_count": null,
       "_view_module": "@jupyter-widgets/base",
       "_view_module_version": "1.2.0",
       "_view_name": "LayoutView",
       "align_content": null,
       "align_items": null,
       "align_self": null,
       "border": null,
       "bottom": null,
       "display": null,
       "flex": null,
       "flex_flow": null,
       "grid_area": null,
       "grid_auto_columns": null,
       "grid_auto_flow": null,
       "grid_auto_rows": null,
       "grid_column": null,
       "grid_gap": null,
       "grid_row": null,
       "grid_template_areas": null,
       "grid_template_columns": null,
       "grid_template_rows": null,
       "height": null,
       "justify_content": null,
       "justify_items": null,
       "left": null,
       "margin": null,
       "max_height": null,
       "max_width": null,
       "min_height": null,
       "min_width": null,
       "object_fit": null,
       "object_position": null,
       "order": null,
       "overflow": null,
       "overflow_x": null,
       "overflow_y": null,
       "padding": null,
       "right": null,
       "top": null,
       "visibility": null,
       "width": null
      }
     },
     "bd6257b119d24f0ea403fb55e845263a": {
      "model_module": "@jupyter-widgets/controls",
      "model_module_version": "1.5.0",
      "model_name": "FloatProgressModel",
      "state": {
       "_dom_classes": [],
       "_model_module": "@jupyter-widgets/controls",
       "_model_module_version": "1.5.0",
       "_model_name": "FloatProgressModel",
       "_view_count": null,
       "_view_module": "@jupyter-widgets/controls",
       "_view_module_version": "1.5.0",
       "_view_name": "ProgressView",
       "bar_style": "success",
       "description": "",
       "description_tooltip": null,
       "layout": "IPY_MODEL_71106807d8f2408998e2c6a2c979ff7e",
       "max": 1.0,
       "min": 0.0,
       "orientation": "horizontal",
       "style": "IPY_MODEL_bf507971d2314f2ca3762fe7ec1aa837",
       "value": 1.0
      }
     },
     "bf507971d2314f2ca3762fe7ec1aa837": {
      "model_module": "@jupyter-widgets/controls",
      "model_module_version": "1.5.0",
      "model_name": "ProgressStyleModel",
      "state": {
       "_model_module": "@jupyter-widgets/controls",
       "_model_module_version": "1.5.0",
       "_model_name": "ProgressStyleModel",
       "_view_count": null,
       "_view_module": "@jupyter-widgets/base",
       "_view_module_version": "1.2.0",
       "_view_name": "StyleView",
       "bar_color": null,
       "description_width": "initial"
      }
     },
     "cc2f78461c2541d68ed1063e178556a4": {
      "model_module": "@jupyter-widgets/base",
      "model_module_version": "1.2.0",
      "model_name": "LayoutModel",
      "state": {
       "_model_module": "@jupyter-widgets/base",
       "_model_module_version": "1.2.0",
       "_model_name": "LayoutModel",
       "_view_count": null,
       "_view_module": "@jupyter-widgets/base",
       "_view_module_version": "1.2.0",
       "_view_name": "LayoutView",
       "align_content": null,
       "align_items": null,
       "align_self": null,
       "border": null,
       "bottom": null,
       "display": null,
       "flex": null,
       "flex_flow": null,
       "grid_area": null,
       "grid_auto_columns": null,
       "grid_auto_flow": null,
       "grid_auto_rows": null,
       "grid_column": null,
       "grid_gap": null,
       "grid_row": null,
       "grid_template_areas": null,
       "grid_template_columns": null,
       "grid_template_rows": null,
       "height": null,
       "justify_content": null,
       "justify_items": null,
       "left": null,
       "margin": null,
       "max_height": null,
       "max_width": null,
       "min_height": null,
       "min_width": null,
       "object_fit": null,
       "object_position": null,
       "order": null,
       "overflow": null,
       "overflow_x": null,
       "overflow_y": null,
       "padding": null,
       "right": null,
       "top": null,
       "visibility": null,
       "width": null
      }
     },
     "cd29184450654de6a1ded406c193fc1d": {
      "model_module": "@jupyter-widgets/controls",
      "model_module_version": "1.5.0",
      "model_name": "HTMLModel",
      "state": {
       "_dom_classes": [],
       "_model_module": "@jupyter-widgets/controls",
       "_model_module_version": "1.5.0",
       "_model_name": "HTMLModel",
       "_view_count": null,
       "_view_module": "@jupyter-widgets/controls",
       "_view_module_version": "1.5.0",
       "_view_name": "HTMLView",
       "description": "",
       "description_tooltip": null,
       "layout": "IPY_MODEL_735345e968234370ad4049030e518f45",
       "placeholder": "​",
       "style": "IPY_MODEL_04237d9ffc3c4e3abb924c3659bab4fa",
       "value": " 528M/528M [00:22&lt;00:00, 24.2MB/s]"
      }
     },
     "d1dd50497bea4b54b3639ea78726fa71": {
      "model_module": "@jupyter-widgets/controls",
      "model_module_version": "1.5.0",
      "model_name": "DescriptionStyleModel",
      "state": {
       "_model_module": "@jupyter-widgets/controls",
       "_model_module_version": "1.5.0",
       "_model_name": "DescriptionStyleModel",
       "_view_count": null,
       "_view_module": "@jupyter-widgets/base",
       "_view_module_version": "1.2.0",
       "_view_name": "StyleView",
       "description_width": ""
      }
     },
     "d361259c82914ac0bb3c58666e91dadd": {
      "model_module": "@jupyter-widgets/base",
      "model_module_version": "1.2.0",
      "model_name": "LayoutModel",
      "state": {
       "_model_module": "@jupyter-widgets/base",
       "_model_module_version": "1.2.0",
       "_model_name": "LayoutModel",
       "_view_count": null,
       "_view_module": "@jupyter-widgets/base",
       "_view_module_version": "1.2.0",
       "_view_name": "LayoutView",
       "align_content": null,
       "align_items": null,
       "align_self": null,
       "border": null,
       "bottom": null,
       "display": null,
       "flex": null,
       "flex_flow": null,
       "grid_area": null,
       "grid_auto_columns": null,
       "grid_auto_flow": null,
       "grid_auto_rows": null,
       "grid_column": null,
       "grid_gap": null,
       "grid_row": null,
       "grid_template_areas": null,
       "grid_template_columns": null,
       "grid_template_rows": null,
       "height": null,
       "justify_content": null,
       "justify_items": null,
       "left": null,
       "margin": null,
       "max_height": null,
       "max_width": null,
       "min_height": null,
       "min_width": null,
       "object_fit": null,
       "object_position": null,
       "order": null,
       "overflow": null,
       "overflow_x": null,
       "overflow_y": null,
       "padding": null,
       "right": null,
       "top": null,
       "visibility": null,
       "width": null
      }
     },
     "ddc9774e369246fc843569c04c0141e0": {
      "model_module": "@jupyter-widgets/controls",
      "model_module_version": "1.5.0",
      "model_name": "FloatProgressModel",
      "state": {
       "_dom_classes": [],
       "_model_module": "@jupyter-widgets/controls",
       "_model_module_version": "1.5.0",
       "_model_name": "FloatProgressModel",
       "_view_count": null,
       "_view_module": "@jupyter-widgets/controls",
       "_view_module_version": "1.5.0",
       "_view_name": "ProgressView",
       "bar_style": "success",
       "description": "100%",
       "description_tooltip": null,
       "layout": "IPY_MODEL_44fb6089a20944de95174b376c1630fe",
       "max": 46827520.0,
       "min": 0.0,
       "orientation": "horizontal",
       "style": "IPY_MODEL_57511330a06c4a9797fb76f3e4266e40",
       "value": 46827520.0
      }
     },
     "e2fe82c548b042e2b58506c2a12317df": {
      "model_module": "@jupyter-widgets/base",
      "model_module_version": "1.2.0",
      "model_name": "LayoutModel",
      "state": {
       "_model_module": "@jupyter-widgets/base",
       "_model_module_version": "1.2.0",
       "_model_name": "LayoutModel",
       "_view_count": null,
       "_view_module": "@jupyter-widgets/base",
       "_view_module_version": "1.2.0",
       "_view_name": "LayoutView",
       "align_content": null,
       "align_items": null,
       "align_self": null,
       "border": null,
       "bottom": null,
       "display": null,
       "flex": null,
       "flex_flow": null,
       "grid_area": null,
       "grid_auto_columns": null,
       "grid_auto_flow": null,
       "grid_auto_rows": null,
       "grid_column": null,
       "grid_gap": null,
       "grid_row": null,
       "grid_template_areas": null,
       "grid_template_columns": null,
       "grid_template_rows": null,
       "height": null,
       "justify_content": null,
       "justify_items": null,
       "left": null,
       "margin": null,
       "max_height": null,
       "max_width": null,
       "min_height": null,
       "min_width": null,
       "object_fit": null,
       "object_position": null,
       "order": null,
       "overflow": null,
       "overflow_x": null,
       "overflow_y": null,
       "padding": null,
       "right": null,
       "top": null,
       "visibility": null,
       "width": null
      }
     }
    },
    "version_major": 2,
    "version_minor": 0
   }
  }
 },
 "nbformat": 4,
 "nbformat_minor": 4
}
