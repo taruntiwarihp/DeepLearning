{
 "cells": [
  {
   "cell_type": "markdown",
   "metadata": {
    "papermill": {
     "duration": 0.016411,
     "end_time": "2020-12-17T13:57:08.373190",
     "exception": false,
     "start_time": "2020-12-17T13:57:08.356779",
     "status": "completed"
    },
    "tags": []
   },
   "source": [
    "### Outline \n",
    "* Why vectorisation\n",
    "* Vectorisation examples\n",
    "* Scalar class - recap\n",
    "* Class with vectorised weights\n",
    "* Class with vectorised weights and inputs"
   ]
  },
  {
   "cell_type": "code",
   "execution_count": 1,
   "metadata": {
    "_cell_guid": "79c7e3d0-c299-4dcb-8224-4455121ee9b0",
    "_uuid": "d629ff2d2480ee46fbb7e2d37f6b5fab8052498a",
    "execution": {
     "iopub.execute_input": "2020-12-17T13:57:08.409173Z",
     "iopub.status.busy": "2020-12-17T13:57:08.408610Z",
     "iopub.status.idle": "2020-12-17T13:57:09.447088Z",
     "shell.execute_reply": "2020-12-17T13:57:09.446470Z"
    },
    "papermill": {
     "duration": 1.059192,
     "end_time": "2020-12-17T13:57:09.447187",
     "exception": false,
     "start_time": "2020-12-17T13:57:08.387995",
     "status": "completed"
    },
    "tags": []
   },
   "outputs": [],
   "source": [
    "import numpy as np\n",
    "import pandas as pd\n",
    "import matplotlib.pyplot as plt\n",
    "import matplotlib.colors\n",
    "from sklearn.model_selection import train_test_split\n",
    "from sklearn.metrics import accuracy_score, mean_squared_error, log_loss\n",
    "from tqdm import tqdm_notebook\n",
    "import seaborn as sns\n",
    "import imageio\n",
    "import time\n",
    "from IPython.display import HTML\n",
    "\n",
    "from sklearn.preprocessing import OneHotEncoder\n",
    "from sklearn.datasets import make_blobs"
   ]
  },
  {
   "cell_type": "code",
   "execution_count": 2,
   "metadata": {
    "execution": {
     "iopub.execute_input": "2020-12-17T13:57:09.480450Z",
     "iopub.status.busy": "2020-12-17T13:57:09.479896Z",
     "iopub.status.idle": "2020-12-17T13:57:09.482354Z",
     "shell.execute_reply": "2020-12-17T13:57:09.482725Z"
    },
    "papermill": {
     "duration": 0.020804,
     "end_time": "2020-12-17T13:57:09.482825",
     "exception": false,
     "start_time": "2020-12-17T13:57:09.462021",
     "status": "completed"
    },
    "tags": []
   },
   "outputs": [],
   "source": [
    "my_cmap = matplotlib.colors.LinearSegmentedColormap.from_list(\"\",[\"red\",\"yellow\",\"green\"])"
   ]
  },
  {
   "cell_type": "code",
   "execution_count": 3,
   "metadata": {
    "execution": {
     "iopub.execute_input": "2020-12-17T13:57:09.514914Z",
     "iopub.status.busy": "2020-12-17T13:57:09.514438Z",
     "iopub.status.idle": "2020-12-17T13:57:09.517164Z",
     "shell.execute_reply": "2020-12-17T13:57:09.516737Z"
    },
    "papermill": {
     "duration": 0.020177,
     "end_time": "2020-12-17T13:57:09.517243",
     "exception": false,
     "start_time": "2020-12-17T13:57:09.497066",
     "status": "completed"
    },
    "tags": []
   },
   "outputs": [],
   "source": [
    "np.random.seed(0)"
   ]
  },
  {
   "cell_type": "markdown",
   "metadata": {
    "papermill": {
     "duration": 0.014462,
     "end_time": "2020-12-17T13:57:09.546188",
     "exception": false,
     "start_time": "2020-12-17T13:57:09.531726",
     "status": "completed"
    },
    "tags": []
   },
   "source": [
    "### Testing vectorisation"
   ]
  },
  {
   "cell_type": "code",
   "execution_count": 4,
   "metadata": {
    "execution": {
     "iopub.execute_input": "2020-12-17T13:57:09.578857Z",
     "iopub.status.busy": "2020-12-17T13:57:09.578377Z",
     "iopub.status.idle": "2020-12-17T13:57:09.584671Z",
     "shell.execute_reply": "2020-12-17T13:57:09.585083Z"
    },
    "papermill": {
     "duration": 0.023105,
     "end_time": "2020-12-17T13:57:09.585222",
     "exception": false,
     "start_time": "2020-12-17T13:57:09.562117",
     "status": "completed"
    },
    "tags": []
   },
   "outputs": [],
   "source": [
    "N = 100\n",
    "M = 200\n",
    "a = np.random.randn(N, M)\n",
    "b = np.random.randn(N, M)\n",
    "c = np.zeros((N, M))"
   ]
  },
  {
   "cell_type": "code",
   "execution_count": 5,
   "metadata": {
    "execution": {
     "iopub.execute_input": "2020-12-17T13:57:09.618021Z",
     "iopub.status.busy": "2020-12-17T13:57:09.617482Z",
     "iopub.status.idle": "2020-12-17T13:57:09.620255Z",
     "shell.execute_reply": "2020-12-17T13:57:09.620636Z"
    },
    "papermill": {
     "duration": 0.021109,
     "end_time": "2020-12-17T13:57:09.620732",
     "exception": false,
     "start_time": "2020-12-17T13:57:09.599623",
     "status": "completed"
    },
    "tags": []
   },
   "outputs": [
    {
     "name": "stderr",
     "output_type": "stream",
     "text": [
      "UsageError: Can't use statement directly after '%%time'!\n"
     ]
    }
   ],
   "source": [
    "%%time # magic commands\n",
    "for i in range(N):\n",
    "    for j in range(M):\n",
    "        c[i, j] = a[i, j] + b[i, j]"
   ]
  },
  {
   "cell_type": "code",
   "execution_count": 6,
   "metadata": {
    "execution": {
     "iopub.execute_input": "2020-12-17T13:57:09.655145Z",
     "iopub.status.busy": "2020-12-17T13:57:09.654588Z",
     "iopub.status.idle": "2020-12-17T13:57:09.658216Z",
     "shell.execute_reply": "2020-12-17T13:57:09.657761Z"
    },
    "papermill": {
     "duration": 0.021986,
     "end_time": "2020-12-17T13:57:09.658296",
     "exception": false,
     "start_time": "2020-12-17T13:57:09.636310",
     "status": "completed"
    },
    "tags": []
   },
   "outputs": [
    {
     "name": "stdout",
     "output_type": "stream",
     "text": [
      "CPU times: user 190 µs, sys: 37 µs, total: 227 µs\n",
      "Wall time: 132 µs\n"
     ]
    }
   ],
   "source": [
    "%%time \n",
    "c = a + b"
   ]
  },
  {
   "cell_type": "code",
   "execution_count": 7,
   "metadata": {
    "execution": {
     "iopub.execute_input": "2020-12-17T13:57:09.701598Z",
     "iopub.status.busy": "2020-12-17T13:57:09.696569Z",
     "iopub.status.idle": "2020-12-17T13:57:09.763350Z",
     "shell.execute_reply": "2020-12-17T13:57:09.763767Z"
    },
    "papermill": {
     "duration": 0.090018,
     "end_time": "2020-12-17T13:57:09.763865",
     "exception": false,
     "start_time": "2020-12-17T13:57:09.673847",
     "status": "completed"
    },
    "tags": []
   },
   "outputs": [
    {
     "name": "stdout",
     "output_type": "stream",
     "text": [
      "CPU times: user 66.6 ms, sys: 914 µs, total: 67.5 ms\n",
      "Wall time: 67.1 ms\n"
     ]
    }
   ],
   "source": [
    "%%time\n",
    "for i in range(N):\n",
    "    for j in range(M):\n",
    "        c[i, j] = np.sin(a[i, j] + 1)"
   ]
  },
  {
   "cell_type": "code",
   "execution_count": 8,
   "metadata": {
    "execution": {
     "iopub.execute_input": "2020-12-17T13:57:09.805715Z",
     "iopub.status.busy": "2020-12-17T13:57:09.805196Z",
     "iopub.status.idle": "2020-12-17T13:57:09.815650Z",
     "shell.execute_reply": "2020-12-17T13:57:09.814955Z"
    },
    "papermill": {
     "duration": 0.035927,
     "end_time": "2020-12-17T13:57:09.815764",
     "exception": false,
     "start_time": "2020-12-17T13:57:09.779837",
     "status": "completed"
    },
    "tags": []
   },
   "outputs": [
    {
     "name": "stdout",
     "output_type": "stream",
     "text": [
      "CPU times: user 1.65 ms, sys: 123 µs, total: 1.78 ms\n",
      "Wall time: 1.51 ms\n"
     ]
    }
   ],
   "source": [
    "%%time \n",
    "c = np.sin(a +1)"
   ]
  },
  {
   "cell_type": "markdown",
   "metadata": {
    "papermill": {
     "duration": 0.016228,
     "end_time": "2020-12-17T13:57:09.853116",
     "exception": false,
     "start_time": "2020-12-17T13:57:09.836888",
     "status": "completed"
    },
    "tags": []
   },
   "source": [
    "### Generate Data"
   ]
  },
  {
   "cell_type": "code",
   "execution_count": 9,
   "metadata": {
    "execution": {
     "iopub.execute_input": "2020-12-17T13:57:09.892349Z",
     "iopub.status.busy": "2020-12-17T13:57:09.891814Z",
     "iopub.status.idle": "2020-12-17T13:57:09.897278Z",
     "shell.execute_reply": "2020-12-17T13:57:09.897677Z"
    },
    "papermill": {
     "duration": 0.028431,
     "end_time": "2020-12-17T13:57:09.897781",
     "exception": false,
     "start_time": "2020-12-17T13:57:09.869350",
     "status": "completed"
    },
    "tags": []
   },
   "outputs": [
    {
     "name": "stdout",
     "output_type": "stream",
     "text": [
      "(1000, 2) (1000,)\n"
     ]
    }
   ],
   "source": [
    "data, labels = make_blobs(n_samples=1000, centers=4, n_features=2, random_state=0)\n",
    "print(data.shape, labels.shape)"
   ]
  },
  {
   "cell_type": "code",
   "execution_count": 10,
   "metadata": {
    "execution": {
     "iopub.execute_input": "2020-12-17T13:57:09.936036Z",
     "iopub.status.busy": "2020-12-17T13:57:09.935504Z",
     "iopub.status.idle": "2020-12-17T13:57:10.133263Z",
     "shell.execute_reply": "2020-12-17T13:57:10.132779Z"
    },
    "papermill": {
     "duration": 0.218477,
     "end_time": "2020-12-17T13:57:10.133376",
     "exception": false,
     "start_time": "2020-12-17T13:57:09.914899",
     "status": "completed"
    },
    "tags": []
   },
   "outputs": [
    {
     "data": {
      "image/png": "[encoded data removed]",
      "text/plain": [
       "<Figure size 432x288 with 1 Axes>"
      ]
     },
     "metadata": {
      "needs_background": "light"
     },
     "output_type": "display_data"
    }
   ],
   "source": [
    "plt.scatter(data[:,0], data[:,1], c = labels, cmap=my_cmap)\n",
    "plt.show()"
   ]
  },
  {
   "cell_type": "code",
   "execution_count": 11,
   "metadata": {
    "execution": {
     "iopub.execute_input": "2020-12-17T13:57:10.175776Z",
     "iopub.status.busy": "2020-12-17T13:57:10.175252Z",
     "iopub.status.idle": "2020-12-17T13:57:10.176886Z",
     "shell.execute_reply": "2020-12-17T13:57:10.177341Z"
    },
    "papermill": {
     "duration": 0.024707,
     "end_time": "2020-12-17T13:57:10.177450",
     "exception": false,
     "start_time": "2020-12-17T13:57:10.152743",
     "status": "completed"
    },
    "tags": []
   },
   "outputs": [],
   "source": [
    "labels_orig = labels\n",
    "labels = np.mod(labels_orig, 2)"
   ]
  },
  {
   "cell_type": "code",
   "execution_count": 12,
   "metadata": {
    "execution": {
     "iopub.execute_input": "2020-12-17T13:57:10.217621Z",
     "iopub.status.busy": "2020-12-17T13:57:10.217109Z",
     "iopub.status.idle": "2020-12-17T13:57:10.349907Z",
     "shell.execute_reply": "2020-12-17T13:57:10.350311Z"
    },
    "papermill": {
     "duration": 0.153719,
     "end_time": "2020-12-17T13:57:10.350428",
     "exception": false,
     "start_time": "2020-12-17T13:57:10.196709",
     "status": "completed"
    },
    "tags": []
   },
   "outputs": [
    {
     "data": {
      "image/png": "[encoded data removed]",
      "text/plain": [
       "<Figure size 432x288 with 1 Axes>"
      ]
     },
     "metadata": {
      "needs_background": "light"
     },
     "output_type": "display_data"
    }
   ],
   "source": [
    "plt.scatter(data[:,0], data[:,1], c=labels, cmap=my_cmap)\n",
    "plt.show()"
   ]
  },
  {
   "cell_type": "markdown",
   "metadata": {
    "papermill": {
     "duration": 0.019876,
     "end_time": "2020-12-17T13:57:10.391085",
     "exception": false,
     "start_time": "2020-12-17T13:57:10.371209",
     "status": "completed"
    },
    "tags": []
   },
   "source": [
    "### Multi class Classification"
   ]
  },
  {
   "cell_type": "code",
   "execution_count": 13,
   "metadata": {
    "execution": {
     "iopub.execute_input": "2020-12-17T13:57:10.433826Z",
     "iopub.status.busy": "2020-12-17T13:57:10.433298Z",
     "iopub.status.idle": "2020-12-17T13:57:10.444631Z",
     "shell.execute_reply": "2020-12-17T13:57:10.445219Z"
    },
    "papermill": {
     "duration": 0.03427,
     "end_time": "2020-12-17T13:57:10.445341",
     "exception": false,
     "start_time": "2020-12-17T13:57:10.411071",
     "status": "completed"
    },
    "tags": []
   },
   "outputs": [
    {
     "name": "stdout",
     "output_type": "stream",
     "text": [
      "(750, 2) (250, 2) (1000,)\n"
     ]
    }
   ],
   "source": [
    "X_train, X_val, Y_train, Y_val = train_test_split(data, labels_orig, stratify=labels_orig,random_state=0)\n",
    "print(X_train.shape, X_val.shape, labels_orig.shape)"
   ]
  },
  {
   "cell_type": "code",
   "execution_count": 14,
   "metadata": {
    "execution": {
     "iopub.execute_input": "2020-12-17T13:57:10.489390Z",
     "iopub.status.busy": "2020-12-17T13:57:10.488558Z",
     "iopub.status.idle": "2020-12-17T13:57:10.496270Z",
     "shell.execute_reply": "2020-12-17T13:57:10.496784Z"
    },
    "papermill": {
     "duration": 0.03097,
     "end_time": "2020-12-17T13:57:10.496887",
     "exception": false,
     "start_time": "2020-12-17T13:57:10.465917",
     "status": "completed"
    },
    "tags": []
   },
   "outputs": [
    {
     "name": "stdout",
     "output_type": "stream",
     "text": [
      "(750, 4) (250, 4)\n"
     ]
    }
   ],
   "source": [
    "enc = OneHotEncoder()\n",
    "# 0 -> (1, 0, 0, 0), 1 -> (0, 1, 0, 0), 2 -> (0, 0, 1, 0), 3 -> (0, 0, 0, 1)\n",
    "y_OH_train = enc.fit_transform(np.expand_dims(Y_train, 1)).toarray()\n",
    "y_OH_val = enc.fit_transform(np.expand_dims(Y_val,1)).toarray()\n",
    "print(y_OH_train.shape, y_OH_val.shape)"
   ]
  },
  {
   "cell_type": "code",
   "execution_count": 15,
   "metadata": {
    "execution": {
     "iopub.execute_input": "2020-12-17T13:57:10.542286Z",
     "iopub.status.busy": "2020-12-17T13:57:10.541460Z",
     "iopub.status.idle": "2020-12-17T13:57:10.549244Z",
     "shell.execute_reply": "2020-12-17T13:57:10.548384Z"
    },
    "papermill": {
     "duration": 0.03133,
     "end_time": "2020-12-17T13:57:10.549384",
     "exception": false,
     "start_time": "2020-12-17T13:57:10.518054",
     "status": "completed"
    },
    "tags": []
   },
   "outputs": [
    {
     "name": "stdout",
     "output_type": "stream",
     "text": [
      "[[-1.93950036  0.73885045]\n",
      " [ 1.39468453 -0.81358502]]\n",
      "[[-0.818822   -0.1027978   1.23934523  0.3642774 ]\n",
      " [-1.16663743 -0.50382808  0.11141039 -1.53470286]]\n"
     ]
    }
   ],
   "source": [
    "W1 = np.random.randn(2,2)\n",
    "W2 = np.random.randn(2,4)\n",
    "print(W1)\n",
    "print(W2)"
   ]
  },
  {
   "cell_type": "markdown",
   "metadata": {
    "papermill": {
     "duration": 0.021091,
     "end_time": "2020-12-17T13:57:10.592151",
     "exception": false,
     "start_time": "2020-12-17T13:57:10.571060",
     "status": "completed"
    },
    "tags": []
   },
   "source": [
    "### Scalar Version"
   ]
  },
  {
   "cell_type": "code",
   "execution_count": 16,
   "metadata": {
    "execution": {
     "iopub.execute_input": "2020-12-17T13:57:10.678899Z",
     "iopub.status.busy": "2020-12-17T13:57:10.668466Z",
     "iopub.status.idle": "2020-12-17T13:57:10.691884Z",
     "shell.execute_reply": "2020-12-17T13:57:10.691441Z"
    },
    "papermill": {
     "duration": 0.078202,
     "end_time": "2020-12-17T13:57:10.691985",
     "exception": false,
     "start_time": "2020-12-17T13:57:10.613783",
     "status": "completed"
    },
    "tags": []
   },
   "outputs": [],
   "source": [
    "class FF_MultiClass_Scalar:\n",
    "  \n",
    "  def __init__(self, W1, W2):\n",
    "    self.w1 = W1[0][0].copy()\n",
    "    self.w2 = W1[1][0].copy()\n",
    "    self.w3 = W1[0][1].copy()\n",
    "    self.w4 = W1[1][1].copy()\n",
    "    self.w5 = W2[0][0].copy()\n",
    "    self.w6 = W2[1][0].copy()\n",
    "    self.w7 = W2[0][1].copy()\n",
    "    self.w8 = W2[1][1].copy()\n",
    "    self.w9 = W2[0][2].copy()\n",
    "    self.w10 = W2[1][2].copy()\n",
    "    self.w11 = W2[0][3].copy()\n",
    "    self.w12 = W2[1][3].copy()\n",
    "    self.b1 = 0\n",
    "    self.b2 = 0\n",
    "    self.b3 = 0\n",
    "    self.b4 = 0\n",
    "    self.b5 = 0\n",
    "    self.b6 = 0\n",
    "  \n",
    "  def sigmoid(self, x):\n",
    "    return 1.0/(1.0 + np.exp(-x))\n",
    "  \n",
    "  def forward_pass(self, x):\n",
    "    # input layer\n",
    "    self.x1, self.x2 = x\n",
    "    \n",
    "    # hidden layer\n",
    "    self.a1 = self.w1*self.x1 + self.w2*self.x2 + self.b1\n",
    "    self.h1 = self.sigmoid(self.a1)\n",
    "    self.a2 = self.w3*self.x1 + self.w4*self.x2 + self.b2\n",
    "    self.h2 = self.sigmoid(self.a2)\n",
    "    \n",
    "    # output layer\n",
    "    self.a3 = self.w5*self.h1 + self.w6*self.h2 + self.b3\n",
    "    self.a4 = self.w7*self.h1 + self.w8*self.h2 + self.b4\n",
    "    self.a5 = self.w9*self.h1 + self.w10*self.h2 + self.b5\n",
    "    self.a6 = self.w11*self.h1 + self.w12*self.h2 + self.b5\n",
    "    sum_exps = np.sum([np.exp(self.a3), np.exp(self.a4), np.exp(self.a5), np.exp(self.a6)])\n",
    "    self.h3 = np.exp(self.a3)/sum_exps\n",
    "    self.h4 = np.exp(self.a4)/sum_exps\n",
    "    self.h5 = np.exp(self.a5)/sum_exps\n",
    "    self.h6 = np.exp(self.a6)/sum_exps\n",
    "    \n",
    "    return np.array([self.h3, self.h4, self.h5, self.h6])\n",
    "  \n",
    "  def grad(self, x, y):\n",
    "    self.forward_pass(x)\n",
    "    self.y1, self.y2, self.y3, self.y4 = y\n",
    "    \n",
    "    self.da3 = (self.h3-self.y1)\n",
    "    self.da4 = (self.h4-self.y2)\n",
    "    self.da5 = (self.h5-self.y3)\n",
    "    self.da6 = (self.h6-self.y4)\n",
    "    \n",
    "    self.dw5 = self.da3*self.h1\n",
    "    self.dw6 = self.da3*self.h2\n",
    "    self.db3 = self.da3\n",
    "    \n",
    "    self.dw7 = self.da4*self.h1\n",
    "    self.dw8 = self.da4*self.h2\n",
    "    self.db4 = self.da4\n",
    "    \n",
    "    self.dw9 = self.da5*self.h1\n",
    "    self.dw10 = self.da5*self.h2\n",
    "    self.db5 = self.da5\n",
    "    \n",
    "    self.dw11 = self.da6*self.h1\n",
    "    self.dw12 = self.da6*self.h2\n",
    "    self.db6 = self.da6\n",
    "    \n",
    "    self.dh1 = self.da3*self.w5 + self.da4*self.w7 + self.da5*self.w9 + self.da6*self.w11\n",
    "    self.dh2 = self.da3*self.w6 + self.da4*self.w8 + self.da5*self.w10 + self.da6*self.w12\n",
    "    \n",
    "    self.da1 = self.dh1 * self.h1*(1-self.h1)\n",
    "    self.da2 = self.dh2 * self.h2*(1-self.h2)\n",
    "    \n",
    "    self.dw1 = self.da1*self.x1\n",
    "    self.dw2 = self.da1*self.x2\n",
    "    self.db1 = self.da1\n",
    "    \n",
    "    self.dw3 = self.da2*self.x1\n",
    "    self.dw4 = self.da2*self.x2\n",
    "    self.db2 = self.da2\n",
    "    \n",
    "  \n",
    "  def fit(self, X, Y, epochs=1, learning_rate=1, display_loss=False, display_weight=False):\n",
    "      \n",
    "    if display_loss:\n",
    "      loss = {}\n",
    "    \n",
    "    for i in tqdm_notebook(range(epochs), total=epochs, unit=\"epoch\"):\n",
    "      dw1, dw2, dw3, dw4, dw5, dw6, dw7, dw8, dw9, dw10, dw11, dw12, db1, db2, db3, db4, db5, db6  = [0]*18\n",
    "      for x, y in zip(X, Y):\n",
    "        self.grad(x, y)\n",
    "        dw1 += self.dw1\n",
    "        dw2 += self.dw2\n",
    "        dw3 += self.dw3\n",
    "        dw4 += self.dw4\n",
    "        dw5 += self.dw5\n",
    "        dw6 += self.dw6\n",
    "        dw7 += self.dw7\n",
    "        dw8 += self.dw8\n",
    "        dw9 += self.dw9\n",
    "        dw10 += self.dw10\n",
    "        dw11 += self.dw11\n",
    "        dw12 += self.dw12\n",
    "        db1 += self.db1\n",
    "        db2 += self.db2\n",
    "        db3 += self.db3\n",
    "        db4 += self.db4\n",
    "        db2 += self.db5\n",
    "        db3 += self.db6\n",
    "        \n",
    "      m = X.shape[0]\n",
    "      self.w1 -= (learning_rate * (dw1 / m))\n",
    "      self.w2 -= (learning_rate * (dw2 / m))\n",
    "      self.w3 -= (learning_rate * (dw3 / m))\n",
    "      self.w4 -= (learning_rate * (dw4 / m))\n",
    "      self.w5 -= (learning_rate * (dw5 / m))\n",
    "      self.w6 -= (learning_rate * (dw6 / m))\n",
    "      self.w7 -= (learning_rate * (dw7 / m))\n",
    "      self.w8 -= (learning_rate * (dw8 / m))\n",
    "      self.w9 -= (learning_rate * (dw9 / m))\n",
    "      self.w10 -= (learning_rate * (dw10 / m))\n",
    "      self.w11 -= (learning_rate * (dw11 / m))\n",
    "      self.w12 -= (learning_rate * (dw12 / m))\n",
    "      self.b1 -= (learning_rate * (db1 / m))\n",
    "      self.b2 -= (learning_rate * (db2 / m))\n",
    "      self.b3 -= (learning_rate * (db3 / m))\n",
    "      self.b4 -= (learning_rate * (db4 / m))\n",
    "      self.b5 -= (learning_rate * (db5 / m))\n",
    "      self.b6 -= (learning_rate * (db6 / m))\n",
    "      \n",
    "      if display_loss:\n",
    "        Y_pred = self.predict(X)\n",
    "        loss[i] = log_loss(np.argmax(Y, axis=1), Y_pred)\n",
    "    \n",
    "    if display_loss:\n",
    "      Wt1 = [[self.w1, self.w3], [self.w2, self.w4]]\n",
    "      Wt2 = [[self.w5, self.w6, self.w7, self.w8], [self.w9, self.w10, self.w11, self.w12]]\n",
    "      plt.plot(np.fromiter(loss.values(), dtype = float))\n",
    "      plt.xlabel('Epochs')\n",
    "      plt.ylabel('Log Loss')\n",
    "      plt.show()\n",
    "      \n",
    "  def predict(self, X):\n",
    "    Y_pred = []\n",
    "    for x in X:\n",
    "      y_pred = self.forward_pass(x)\n",
    "      Y_pred.append(y_pred)\n",
    "    return np.array(Y_pred)"
   ]
  },
  {
   "cell_type": "markdown",
   "metadata": {
    "papermill": {
     "duration": 0.021185,
     "end_time": "2020-12-17T13:57:10.734902",
     "exception": false,
     "start_time": "2020-12-17T13:57:10.713717",
     "status": "completed"
    },
    "tags": []
   },
   "source": [
    "### Weight Vectorised Version"
   ]
  },
  {
   "cell_type": "code",
   "execution_count": 17,
   "metadata": {
    "execution": {
     "iopub.execute_input": "2020-12-17T13:57:10.802290Z",
     "iopub.status.busy": "2020-12-17T13:57:10.795707Z",
     "iopub.status.idle": "2020-12-17T13:57:10.804131Z",
     "shell.execute_reply": "2020-12-17T13:57:10.804605Z"
    },
    "papermill": {
     "duration": 0.048229,
     "end_time": "2020-12-17T13:57:10.804710",
     "exception": false,
     "start_time": "2020-12-17T13:57:10.756481",
     "status": "completed"
    },
    "tags": []
   },
   "outputs": [],
   "source": [
    "class FF_MultiClass_WeightVectorised:\n",
    "  \n",
    "  def __init__(self, W1, W2):\n",
    "    self.W1 = W1.copy()\n",
    "    self.W2 = W2.copy()\n",
    "    self.B1 = np.zeros((1,2))\n",
    "    self.B2 = np.zeros((1,4))\n",
    "  \n",
    "  def sigmoid(self, x):\n",
    "    return 1.0/(1.0 + np.exp(-x))\n",
    "  \n",
    "  def softmax(self, x):\n",
    "    exps = np.exp(x)\n",
    "    return exps / np.sum(exps)\n",
    "  \n",
    "  def forward_pass(self, x):\n",
    "    x = x.reshape(1, -1) # (1, 2)\n",
    "    self.A1 = np.matmul(x,self.W1) + self.B1  # (1, 2) * (2, 2) -> (1, 2)\n",
    "    self.H1 = self.sigmoid(self.A1) # (1, 2)\n",
    "    self.A2 = np.matmul(self.H1, self.W2) + self.B2 # (1, 2) * (2, 4) -> (1, 4) \n",
    "    self.H2 = self.softmax(self.A2) # (1, 4)\n",
    "    return self.H2\n",
    "    \n",
    "  def grad_sigmoid(self, x):\n",
    "    return x*(1-x) \n",
    "  \n",
    "  def grad(self, x, y):\n",
    "    self.forward_pass(x)\n",
    "    x = x.reshape(1, -1) # (1, 2)\n",
    "    y = y.reshape(1, -1) # (1, 4)\n",
    "    \n",
    "    self.dA2 = self.H2 - y # (1, 4) \n",
    "    \n",
    "    self.dW2 = np.matmul(self.H1.T, self.dA2) # (2, 1) * (1, 4) -> (2, 4)\n",
    "    self.dB2 = self.dA2 # (1, 4)\n",
    "    self.dH1 = np.matmul(self.dA2, self.W2.T) # (1, 4) * (4, 2) -> (1, 2)\n",
    "    self.dA1 = np.multiply(self.dH1, self.grad_sigmoid(self.H1)) # -> (1, 2)\n",
    "    \n",
    "    self.dW1 = np.matmul(x.T, self.dA1) # (2, 1) * (1, 2) -> (2, 2)\n",
    "    self.dB1 = self.dA1 # (1, 2)\n",
    "\n",
    "  \n",
    "  def fit(self, X, Y, epochs=1, learning_rate=1, display_loss=False):\n",
    "      \n",
    "    if display_loss:\n",
    "      loss = {}\n",
    "    \n",
    "    for i in tqdm_notebook(range(epochs), total=epochs, unit=\"epoch\"):\n",
    "      dW1 = np.zeros((2,2))\n",
    "      dW2 = np.zeros((2,4))\n",
    "      dB1 = np.zeros((1,2))\n",
    "      dB2 = np.zeros((1,4))\n",
    "      for x, y in zip(X, Y):\n",
    "        self.grad(x, y)\n",
    "        dW1 += self.dW1\n",
    "        dW2 += self.dW2\n",
    "        dB1 += self.dB1\n",
    "        dB2 += self.dB2  \n",
    "        \n",
    "      m = X.shape[0]\n",
    "      self.W2 -= learning_rate * (dW2/m)\n",
    "      self.B2 -= learning_rate * (dB2/m)\n",
    "      self.W1 -= learning_rate * (dW1/m)\n",
    "      self.B1 -= learning_rate * (dB1/m)\n",
    "\n",
    "      if display_loss:\n",
    "        Y_pred = self.predict(X)\n",
    "        loss[i] = log_loss(np.argmax(Y, axis=1), Y_pred)\n",
    "        \n",
    "    \n",
    "    if display_loss:\n",
    "      plt.plot(np.fromiter(loss.values(), dtype = float))\n",
    "      plt.xlabel('Epochs')\n",
    "      plt.ylabel('Log Loss')\n",
    "      plt.show()\n",
    "      \n",
    "  def predict(self, X):\n",
    "    Y_pred = []\n",
    "    for x in X:\n",
    "      y_pred = self.forward_pass(x)\n",
    "      Y_pred.append(y_pred)\n",
    "    return np.array(Y_pred).squeeze()"
   ]
  },
  {
   "cell_type": "markdown",
   "metadata": {
    "papermill": {
     "duration": 0.021447,
     "end_time": "2020-12-17T13:57:10.847593",
     "exception": false,
     "start_time": "2020-12-17T13:57:10.826146",
     "status": "completed"
    },
    "tags": []
   },
   "source": [
    "Input + Weight Vectorised Version"
   ]
  },
  {
   "cell_type": "code",
   "execution_count": 18,
   "metadata": {
    "execution": {
     "iopub.execute_input": "2020-12-17T13:57:10.893100Z",
     "iopub.status.busy": "2020-12-17T13:57:10.892570Z",
     "iopub.status.idle": "2020-12-17T13:57:10.912986Z",
     "shell.execute_reply": "2020-12-17T13:57:10.913443Z"
    },
    "papermill": {
     "duration": 0.044461,
     "end_time": "2020-12-17T13:57:10.913545",
     "exception": false,
     "start_time": "2020-12-17T13:57:10.869084",
     "status": "completed"
    },
    "tags": []
   },
   "outputs": [],
   "source": [
    "class FF_MultiClass_InputWeightVectorised:\n",
    "\n",
    "    def __init__(self, W1, W2):\n",
    "        self.W1 = W1.copy()\n",
    "        self.W2 = W2.copy()\n",
    "        self.B1 = np.zeros((1,2))\n",
    "        self.B2 = np.zeros((1,4))\n",
    "\n",
    "    def sigmoid(self, X):\n",
    "        return 1.0/(1.0 + np.exp(-X))\n",
    "    \n",
    "    def softmax(self, X):\n",
    "        exps = np.exp(X)\n",
    "        return exps / np.sum(exps, axis=1).reshape(-1,1)\n",
    "    \n",
    "    def forward_pass(self, X):\n",
    "        self.A1 = np.matmul(X, self.W1) + self.B1 # (N, 2) * (2, 2) -> (N, 2)\n",
    "        self.H1 = self.sigmoid(self.A1) # (N, 2)\n",
    "        self.A2 = np.matmul(self.H1, self.W2) + self.B2 # (N, 2) * (2, 4) -> (N, 4)\n",
    "        self.H2 = self.softmax(self.A2) # (N, 4)\n",
    "        return self.H2\n",
    "\n",
    "    def grad_sigmoid(self, X):\n",
    "        return X*(1-X)\n",
    "\n",
    "    def grad(self, X, Y):\n",
    "        self.forward_pass(X)\n",
    "        m = X.shape[0]\n",
    "\n",
    "        self.dA2 = self.H2 -Y #(N, 4) - (N, 4) -> (N, 4)\n",
    "\n",
    "        self.dW2 = np.matmul(self.H1.T, self.dA2) # (2, N) * (N, 4) -> (2, 4)\n",
    "        self.dB2 = np.sum(self.dA2, axis=0).reshape(1,-1) # (N, 4) -> (1, 4)\n",
    "        self.dH1 = np.matmul(self.dA2, self.W2.T) # (N, 4) * (4, 2) -> (N, 2)\n",
    "        self.dA1 = np.multiply(self.dH1, self.grad_sigmoid(self.H1)) # (N, 2) .* (N, 2) -> (N, 2)\n",
    "\n",
    "        self.dW1 = np.matmul(X.T, self.dA1) # (2, N) * (N, 2) -> (2, 2) \n",
    "        self.dB1 = np.sum(self.dA1, axis=0).reshape(1, -1) # (N, 2) -> (1, 2)\n",
    "\n",
    "    def fit(self, X, Y, epochs=1, learning_rate=1, display_loss=False):\n",
    "\n",
    "        if display_loss:\n",
    "            loss={}\n",
    "\n",
    "        for i in tqdm_notebook(range(epochs), total=epochs, unit=\"epoch\"):\n",
    "\n",
    "            self.grad(X, Y) # X -> (N, 2), Y -> (N, 4)\n",
    "\n",
    "            m = X.shape[0]\n",
    "            self.W2 -= learning_rate * (self.dW2/m)\n",
    "            self.B2 -= learning_rate * (self.dB2/m)\n",
    "            self.W1 -= learning_rate * (self.dW1/m) \n",
    "            self.B1 -= learning_rate * (self.dB1/m) \n",
    "\n",
    "            if display_loss:\n",
    "                Y_pred = self.predict(X)\n",
    "                loss[i] = log_loss(np.argmax(Y, axis=1), Y_pred)\n",
    "\n",
    "        if display_loss:\n",
    "            plt.plot(np.fromiter(loss.values(), dtype = float))\n",
    "            plt.xlabel('Epochs')\n",
    "            plt.ylabel('Log Loss')\n",
    "            plt.show()\n",
    "\n",
    "    def predict(self, X):\n",
    "        Y_pred = self.forward_pass(X)\n",
    "        return np.array(Y_pred).squeeze()"
   ]
  },
  {
   "cell_type": "code",
   "execution_count": 19,
   "metadata": {
    "execution": {
     "iopub.execute_input": "2020-12-17T13:57:10.958907Z",
     "iopub.status.busy": "2020-12-17T13:57:10.958411Z",
     "iopub.status.idle": "2020-12-17T14:01:50.228060Z",
     "shell.execute_reply": "2020-12-17T14:01:50.227556Z"
    },
    "papermill": {
     "duration": 279.292838,
     "end_time": "2020-12-17T14:01:50.228168",
     "exception": false,
     "start_time": "2020-12-17T13:57:10.935330",
     "status": "completed"
    },
    "tags": []
   },
   "outputs": [
    {
     "name": "stderr",
     "output_type": "stream",
     "text": [
      "/opt/conda/lib/python3.7/site-packages/ipykernel_launcher.py:94: TqdmDeprecationWarning: This function will be removed in tqdm==5.0.0\n",
      "Please use `tqdm.notebook.tqdm` instead of `tqdm.tqdm_notebook`\n"
     ]
    },
    {
     "data": {
      "application/vnd.jupyter.widget-view+json": {
       "model_id": "f805f6fb105442a68b61a9e54f5d4aff",
       "version_major": 2,
       "version_minor": 0
      },
      "text/plain": [
       "HBox(children=(FloatProgress(value=0.0, max=2000.0), HTML(value='')))"
      ]
     },
     "metadata": {},
     "output_type": "display_data"
    },
    {
     "name": "stdout",
     "output_type": "stream",
     "text": [
      "\n"
     ]
    },
    {
     "data": {
      "image/png": "[encoded data removed]",
      "text/plain": [
       "<Figure size 432x288 with 1 Axes>"
      ]
     },
     "metadata": {
      "needs_background": "light"
     },
     "output_type": "display_data"
    },
    {
     "name": "stdout",
     "output_type": "stream",
     "text": [
      "Time taken by model 1: 174.3126084804535\n"
     ]
    },
    {
     "name": "stderr",
     "output_type": "stream",
     "text": [
      "/opt/conda/lib/python3.7/site-packages/ipykernel_launcher.py:48: TqdmDeprecationWarning: This function will be removed in tqdm==5.0.0\n",
      "Please use `tqdm.notebook.tqdm` instead of `tqdm.tqdm_notebook`\n"
     ]
    },
    {
     "data": {
      "application/vnd.jupyter.widget-view+json": {
       "model_id": "dffcb7823ae64e1aa40b6d44dee03874",
       "version_major": 2,
       "version_minor": 0
      },
      "text/plain": [
       "HBox(children=(FloatProgress(value=0.0, max=2000.0), HTML(value='')))"
      ]
     },
     "metadata": {},
     "output_type": "display_data"
    },
    {
     "name": "stdout",
     "output_type": "stream",
     "text": [
      "\n"
     ]
    },
    {
     "data": {
      "image/png": "[encoded data removed]",
      "text/plain": [
       "<Figure size 432x288 with 1 Axes>"
      ]
     },
     "metadata": {
      "needs_background": "light"
     },
     "output_type": "display_data"
    },
    {
     "name": "stdout",
     "output_type": "stream",
     "text": [
      "Time taken by model 2: 102.17278742790222\n"
     ]
    },
    {
     "name": "stderr",
     "output_type": "stream",
     "text": [
      "/opt/conda/lib/python3.7/site-packages/ipykernel_launcher.py:45: TqdmDeprecationWarning: This function will be removed in tqdm==5.0.0\n",
      "Please use `tqdm.notebook.tqdm` instead of `tqdm.tqdm_notebook`\n"
     ]
    },
    {
     "data": {
      "application/vnd.jupyter.widget-view+json": {
       "model_id": "460fd46af9894b218012e58c8fe8e286",
       "version_major": 2,
       "version_minor": 0
      },
      "text/plain": [
       "HBox(children=(FloatProgress(value=0.0, max=2000.0), HTML(value='')))"
      ]
     },
     "metadata": {},
     "output_type": "display_data"
    },
    {
     "name": "stdout",
     "output_type": "stream",
     "text": [
      "\n"
     ]
    },
    {
     "data": {
      "image/png": "[encoded data removed]",
      "text/plain": [
       "<Figure size 432x288 with 1 Axes>"
      ]
     },
     "metadata": {
      "needs_background": "light"
     },
     "output_type": "display_data"
    },
    {
     "name": "stdout",
     "output_type": "stream",
     "text": [
      "Time taken by model 3: 2.774044990539551\n"
     ]
    }
   ],
   "source": [
    "models_init = [FF_MultiClass_Scalar(W1, W2), FF_MultiClass_WeightVectorised(W1, W2), FF_MultiClass_InputWeightVectorised(W1, W2)]\n",
    "models = []\n",
    "for idx, model in enumerate(models_init, start=1):\n",
    "    tic = time.time()\n",
    "    ffsn_multi_specific = model\n",
    "    ffsn_multi_specific.fit(X_train, y_OH_train, epochs=2000,learning_rate=.5,display_loss=True)\n",
    "    models.append(ffsn_multi_specific)\n",
    "    toc = time.time()\n",
    "    print(\"Time taken by model {}: {}\".format(idx, toc-tic))"
   ]
  },
  {
   "cell_type": "code",
   "execution_count": 20,
   "metadata": {
    "execution": {
     "iopub.execute_input": "2020-12-17T14:01:50.296827Z",
     "iopub.status.busy": "2020-12-17T14:01:50.291523Z",
     "iopub.status.idle": "2020-12-17T14:01:50.369702Z",
     "shell.execute_reply": "2020-12-17T14:01:50.370184Z"
    },
    "papermill": {
     "duration": 0.114076,
     "end_time": "2020-12-17T14:01:50.370313",
     "exception": false,
     "start_time": "2020-12-17T14:01:50.256237",
     "status": "completed"
    },
    "tags": []
   },
   "outputs": [
    {
     "name": "stdout",
     "output_type": "stream",
     "text": [
      "Model 1\n",
      "Training Accuracy 0.92\n",
      "Validation Accuracy 0.94\n",
      "Model 2\n",
      "Training Accuracy 0.92\n",
      "Validation Accuracy 0.94\n",
      "Model 3\n",
      "Training Accuracy 0.92\n",
      "Validation Accuracy 0.94\n"
     ]
    }
   ],
   "source": [
    "for idx, model in enumerate(models, start=1):\n",
    "    Y_pred_train = model.predict(X_train)\n",
    "    Y_pred_train = np.argmax(Y_pred_train, 1)\n",
    "    \n",
    "    Y_pred_val = model.predict(X_val)\n",
    "    Y_pred_val = np.argmax(Y_pred_val, 1)\n",
    "    \n",
    "    accuracy_train = accuracy_score(Y_pred_train, Y_train)\n",
    "    accuracy_val = accuracy_score(Y_pred_val, Y_val)\n",
    "    \n",
    "    print(\"Model {}\".format(idx))\n",
    "    print(\"Training Accuracy\",round(accuracy_train,2))\n",
    "    print(\"Validation Accuracy\",round(accuracy_val,2))"
   ]
  },
  {
   "cell_type": "code",
   "execution_count": 21,
   "metadata": {
    "execution": {
     "iopub.execute_input": "2020-12-17T14:01:50.436205Z",
     "iopub.status.busy": "2020-12-17T14:01:50.435380Z",
     "iopub.status.idle": "2020-12-17T14:01:50.555035Z",
     "shell.execute_reply": "2020-12-17T14:01:50.554600Z"
    },
    "papermill": {
     "duration": 0.156989,
     "end_time": "2020-12-17T14:01:50.555130",
     "exception": false,
     "start_time": "2020-12-17T14:01:50.398141",
     "status": "completed"
    },
    "tags": []
   },
   "outputs": [
    {
     "data": {
      "image/png": "[encoded data removed]",
      "text/plain": [
       "<Figure size 432x288 with 1 Axes>"
      ]
     },
     "metadata": {
      "needs_background": "light"
     },
     "output_type": "display_data"
    }
   ],
   "source": [
    "plt.scatter(X_train[:,0], X_train[:,1], c=Y_pred_train, cmap=my_cmap, s=15*(np.abs(np.sign(Y_pred_train-Y_train))+.1))\n",
    "plt.show()"
   ]
  }
 ],
 "metadata": {
  "kernelspec": {
   "display_name": "Python 3",
   "language": "python",
   "name": "python3"
  },
  "language_info": {
   "codemirror_mode": {
    "name": "ipython",
    "version": 3
   },
   "file_extension": ".py",
   "mimetype": "text/x-python",
   "name": "python",
   "nbconvert_exporter": "python",
   "pygments_lexer": "ipython3",
   "version": "3.7.6"
  },
  "papermill": {
   "duration": 286.195522,
   "end_time": "2020-12-17T14:01:50.691020",
   "environment_variables": {},
   "exception": null,
   "input_path": "__notebook__.ipynb",
   "output_path": "__notebook__.ipynb",
   "parameters": {},
   "start_time": "2020-12-17T13:57:04.495498",
   "version": "2.1.0"
  },
  "widgets": {
   "application/vnd.jupyter.widget-state+json": {
    "state": {
     "11c7122c3b44428c9b74ff259be159a0": {
      "model_module": "@jupyter-widgets/controls",
      "model_module_version": "1.5.0",
      "model_name": "DescriptionStyleModel",
      "state": {
       "_model_module": "@jupyter-widgets/controls",
       "_model_module_version": "1.5.0",
       "_model_name": "DescriptionStyleModel",
       "_view_count": null,
       "_view_module": "@jupyter-widgets/base",
       "_view_module_version": "1.2.0",
       "_view_name": "StyleView",
       "description_width": ""
      }
     },
     "26aaf6cccbb446c5a00c68658146b6c5": {
      "model_module": "@jupyter-widgets/controls",
      "model_module_version": "1.5.0",
      "model_name": "FloatProgressModel",
      "state": {
       "_dom_classes": [],
       "_model_module": "@jupyter-widgets/controls",
       "_model_module_version": "1.5.0",
       "_model_name": "FloatProgressModel",
       "_view_count": null,
       "_view_module": "@jupyter-widgets/controls",
       "_view_module_version": "1.5.0",
       "_view_name": "ProgressView",
       "bar_style": "success",
       "description": "100%",
       "description_tooltip": null,
       "layout": "IPY_MODEL_374d8c56cda24bf6a33c08cc99e2357b",
       "max": 2000.0,
       "min": 0.0,
       "orientation": "horizontal",
       "style": "IPY_MODEL_a3a6f9d30b79404ea1e268606fdf1fc7",
       "value": 2000.0
      }
     },
     "318b709c52854c5db39fe1ed6ecdceeb": {
      "model_module": "@jupyter-widgets/controls",
      "model_module_version": "1.5.0",
      "model_name": "DescriptionStyleModel",
      "state": {
       "_model_module": "@jupyter-widgets/controls",
       "_model_module_version": "1.5.0",
       "_model_name": "DescriptionStyleModel",
       "_view_count": null,
       "_view_module": "@jupyter-widgets/base",
       "_view_module_version": "1.2.0",
       "_view_name": "StyleView",
       "description_width": ""
      }
     },
     "374d8c56cda24bf6a33c08cc99e2357b": {
      "model_module": "@jupyter-widgets/base",
      "model_module_version": "1.2.0",
      "model_name": "LayoutModel",
      "state": {
       "_model_module": "@jupyter-widgets/base",
       "_model_module_version": "1.2.0",
       "_model_name": "LayoutModel",
       "_view_count": null,
       "_view_module": "@jupyter-widgets/base",
       "_view_module_version": "1.2.0",
       "_view_name": "LayoutView",
       "align_content": null,
       "align_items": null,
       "align_self": null,
       "border": null,
       "bottom": null,
       "display": null,
       "flex": null,
       "flex_flow": null,
       "grid_area": null,
       "grid_auto_columns": null,
       "grid_auto_flow": null,
       "grid_auto_rows": null,
       "grid_column": null,
       "grid_gap": null,
       "grid_row": null,
       "grid_template_areas": null,
       "grid_template_columns": null,
       "grid_template_rows": null,
       "height": null,
       "justify_content": null,
       "justify_items": null,
       "left": null,
       "margin": null,
       "max_height": null,
       "max_width": null,
       "min_height": null,
       "min_width": null,
       "object_fit": null,
       "object_position": null,
       "order": null,
       "overflow": null,
       "overflow_x": null,
       "overflow_y": null,
       "padding": null,
       "right": null,
       "top": null,
       "visibility": null,
       "width": null
      }
     },
     "452f78dec52240cb849539b990c1290f": {
      "model_module": "@jupyter-widgets/controls",
      "model_module_version": "1.5.0",
      "model_name": "HTMLModel",
      "state": {
       "_dom_classes": [],
       "_model_module": "@jupyter-widgets/controls",
       "_model_module_version": "1.5.0",
       "_model_name": "HTMLModel",
       "_view_count": null,
       "_view_module": "@jupyter-widgets/controls",
       "_view_module_version": "1.5.0",
       "_view_name": "HTMLView",
       "description": "",
       "description_tooltip": null,
       "layout": "IPY_MODEL_bc44ec5ea21c4a3b90f81b1762748596",
       "placeholder": "​",
       "style": "IPY_MODEL_11c7122c3b44428c9b74ff259be159a0",
       "value": " 2000/2000 [02:54&lt;00:00, 11.47epoch/s]"
      }
     },
     "460fd46af9894b218012e58c8fe8e286": {
      "model_module": "@jupyter-widgets/controls",
      "model_module_version": "1.5.0",
      "model_name": "HBoxModel",
      "state": {
       "_dom_classes": [],
       "_model_module": "@jupyter-widgets/controls",
       "_model_module_version": "1.5.0",
       "_model_name": "HBoxModel",
       "_view_count": null,
       "_view_module": "@jupyter-widgets/controls",
       "_view_module_version": "1.5.0",
       "_view_name": "HBoxView",
       "box_style": "",
       "children": [
        "IPY_MODEL_26aaf6cccbb446c5a00c68658146b6c5",
        "IPY_MODEL_640d421f75c144ed905b1678fa383b34"
       ],
       "layout": "IPY_MODEL_58c52e90faed4c979387226ae5d61026"
      }
     },
     "4f8eb87efe1140e0a6b8f84b9ff35498": {
      "model_module": "@jupyter-widgets/controls",
      "model_module_version": "1.5.0",
      "model_name": "FloatProgressModel",
      "state": {
       "_dom_classes": [],
       "_model_module": "@jupyter-widgets/controls",
       "_model_module_version": "1.5.0",
       "_model_name": "FloatProgressModel",
       "_view_count": null,
       "_view_module": "@jupyter-widgets/controls",
       "_view_module_version": "1.5.0",
       "_view_name": "ProgressView",
       "bar_style": "success",
       "description": "100%",
       "description_tooltip": null,
       "layout": "IPY_MODEL_f9371094982044e7a8a202cf95dbd1cd",
       "max": 2000.0,
       "min": 0.0,
       "orientation": "horizontal",
       "style": "IPY_MODEL_6f8a3c867b8a42bd8ed1e277defe3650",
       "value": 2000.0
      }
     },
     "540dd0ca3cc348bd93e0d2b2faf451f4": {
      "model_module": "@jupyter-widgets/base",
      "model_module_version": "1.2.0",
      "model_name": "LayoutModel",
      "state": {
       "_model_module": "@jupyter-widgets/base",
       "_model_module_version": "1.2.0",
       "_model_name": "LayoutModel",
       "_view_count": null,
       "_view_module": "@jupyter-widgets/base",
       "_view_module_version": "1.2.0",
       "_view_name": "LayoutView",
       "align_content": null,
       "align_items": null,
       "align_self": null,
       "border": null,
       "bottom": null,
       "display": null,
       "flex": null,
       "flex_flow": null,
       "grid_area": null,
       "grid_auto_columns": null,
       "grid_auto_flow": null,
       "grid_auto_rows": null,
       "grid_column": null,
       "grid_gap": null,
       "grid_row": null,
       "grid_template_areas": null,
       "grid_template_columns": null,
       "grid_template_rows": null,
       "height": null,
       "justify_content": null,
       "justify_items": null,
       "left": null,
       "margin": null,
       "max_height": null,
       "max_width": null,
       "min_height": null,
       "min_width": null,
       "object_fit": null,
       "object_position": null,
       "order": null,
       "overflow": null,
       "overflow_x": null,
       "overflow_y": null,
       "padding": null,
       "right": null,
       "top": null,
       "visibility": null,
       "width": null
      }
     },
     "58c52e90faed4c979387226ae5d61026": {
      "model_module": "@jupyter-widgets/base",
      "model_module_version": "1.2.0",
      "model_name": "LayoutModel",
      "state": {
       "_model_module": "@jupyter-widgets/base",
       "_model_module_version": "1.2.0",
       "_model_name": "LayoutModel",
       "_view_count": null,
       "_view_module": "@jupyter-widgets/base",
       "_view_module_version": "1.2.0",
       "_view_name": "LayoutView",
       "align_content": null,
       "align_items": null,
       "align_self": null,
       "border": null,
       "bottom": null,
       "display": null,
       "flex": null,
       "flex_flow": null,
       "grid_area": null,
       "grid_auto_columns": null,
       "grid_auto_flow": null,
       "grid_auto_rows": null,
       "grid_column": null,
       "grid_gap": null,
       "grid_row": null,
       "grid_template_areas": null,
       "grid_template_columns": null,
       "grid_template_rows": null,
       "height": null,
       "justify_content": null,
       "justify_items": null,
       "left": null,
       "margin": null,
       "max_height": null,
       "max_width": null,
       "min_height": null,
       "min_width": null,
       "object_fit": null,
       "object_position": null,
       "order": null,
       "overflow": null,
       "overflow_x": null,
       "overflow_y": null,
       "padding": null,
       "right": null,
       "top": null,
       "visibility": null,
       "width": null
      }
     },
     "6176a88e8c714dad87009d86e28dc1fe": {
      "model_module": "@jupyter-widgets/base",
      "model_module_version": "1.2.0",
      "model_name": "LayoutModel",
      "state": {
       "_model_module": "@jupyter-widgets/base",
       "_model_module_version": "1.2.0",
       "_model_name": "LayoutModel",
       "_view_count": null,
       "_view_module": "@jupyter-widgets/base",
       "_view_module_version": "1.2.0",
       "_view_name": "LayoutView",
       "align_content": null,
       "align_items": null,
       "align_self": null,
       "border": null,
       "bottom": null,
       "display": null,
       "flex": null,
       "flex_flow": null,
       "grid_area": null,
       "grid_auto_columns": null,
       "grid_auto_flow": null,
       "grid_auto_rows": null,
       "grid_column": null,
       "grid_gap": null,
       "grid_row": null,
       "grid_template_areas": null,
       "grid_template_columns": null,
       "grid_template_rows": null,
       "height": null,
       "justify_content": null,
       "justify_items": null,
       "left": null,
       "margin": null,
       "max_height": null,
       "max_width": null,
       "min_height": null,
       "min_width": null,
       "object_fit": null,
       "object_position": null,
       "order": null,
       "overflow": null,
       "overflow_x": null,
       "overflow_y": null,
       "padding": null,
       "right": null,
       "top": null,
       "visibility": null,
       "width": null
      }
     },
     "640d421f75c144ed905b1678fa383b34": {
      "model_module": "@jupyter-widgets/controls",
      "model_module_version": "1.5.0",
      "model_name": "HTMLModel",
      "state": {
       "_dom_classes": [],
       "_model_module": "@jupyter-widgets/controls",
       "_model_module_version": "1.5.0",
       "_model_name": "HTMLModel",
       "_view_count": null,
       "_view_module": "@jupyter-widgets/controls",
       "_view_module_version": "1.5.0",
       "_view_name": "HTMLView",
       "description": "",
       "description_tooltip": null,
       "layout": "IPY_MODEL_a71ebf779ab04a2dbad968e64232c1d8",
       "placeholder": "​",
       "style": "IPY_MODEL_318b709c52854c5db39fe1ed6ecdceeb",
       "value": " 2000/2000 [00:02&lt;00:00, 721.41epoch/s]"
      }
     },
     "6f8a3c867b8a42bd8ed1e277defe3650": {
      "model_module": "@jupyter-widgets/controls",
      "model_module_version": "1.5.0",
      "model_name": "ProgressStyleModel",
      "state": {
       "_model_module": "@jupyter-widgets/controls",
       "_model_module_version": "1.5.0",
       "_model_name": "ProgressStyleModel",
       "_view_count": null,
       "_view_module": "@jupyter-widgets/base",
       "_view_module_version": "1.2.0",
       "_view_name": "StyleView",
       "bar_color": null,
       "description_width": "initial"
      }
     },
     "779f776a72c14d3ebc65f9bdff9485c5": {
      "model_module": "@jupyter-widgets/controls",
      "model_module_version": "1.5.0",
      "model_name": "ProgressStyleModel",
      "state": {
       "_model_module": "@jupyter-widgets/controls",
       "_model_module_version": "1.5.0",
       "_model_name": "ProgressStyleModel",
       "_view_count": null,
       "_view_module": "@jupyter-widgets/base",
       "_view_module_version": "1.2.0",
       "_view_name": "StyleView",
       "bar_color": null,
       "description_width": "initial"
      }
     },
     "84f9747d302b48ed86d6e70461a6e3e2": {
      "model_module": "@jupyter-widgets/controls",
      "model_module_version": "1.5.0",
      "model_name": "FloatProgressModel",
      "state": {
       "_dom_classes": [],
       "_model_module": "@jupyter-widgets/controls",
       "_model_module_version": "1.5.0",
       "_model_name": "FloatProgressModel",
       "_view_count": null,
       "_view_module": "@jupyter-widgets/controls",
       "_view_module_version": "1.5.0",
       "_view_name": "ProgressView",
       "bar_style": "success",
       "description": "100%",
       "description_tooltip": null,
       "layout": "IPY_MODEL_540dd0ca3cc348bd93e0d2b2faf451f4",
       "max": 2000.0,
       "min": 0.0,
       "orientation": "horizontal",
       "style": "IPY_MODEL_779f776a72c14d3ebc65f9bdff9485c5",
       "value": 2000.0
      }
     },
     "8a88a4a0157f4062ae8ca87b86d90f97": {
      "model_module": "@jupyter-widgets/base",
      "model_module_version": "1.2.0",
      "model_name": "LayoutModel",
      "state": {
       "_model_module": "@jupyter-widgets/base",
       "_model_module_version": "1.2.0",
       "_model_name": "LayoutModel",
       "_view_count": null,
       "_view_module": "@jupyter-widgets/base",
       "_view_module_version": "1.2.0",
       "_view_name": "LayoutView",
       "align_content": null,
       "align_items": null,
       "align_self": null,
       "border": null,
       "bottom": null,
       "display": null,
       "flex": null,
       "flex_flow": null,
       "grid_area": null,
       "grid_auto_columns": null,
       "grid_auto_flow": null,
       "grid_auto_rows": null,
       "grid_column": null,
       "grid_gap": null,
       "grid_row": null,
       "grid_template_areas": null,
       "grid_template_columns": null,
       "grid_template_rows": null,
       "height": null,
       "justify_content": null,
       "justify_items": null,
       "left": null,
       "margin": null,
       "max_height": null,
       "max_width": null,
       "min_height": null,
       "min_width": null,
       "object_fit": null,
       "object_position": null,
       "order": null,
       "overflow": null,
       "overflow_x": null,
       "overflow_y": null,
       "padding": null,
       "right": null,
       "top": null,
       "visibility": null,
       "width": null
      }
     },
     "a3a6f9d30b79404ea1e268606fdf1fc7": {
      "model_module": "@jupyter-widgets/controls",
      "model_module_version": "1.5.0",
      "model_name": "ProgressStyleModel",
      "state": {
       "_model_module": "@jupyter-widgets/controls",
       "_model_module_version": "1.5.0",
       "_model_name": "ProgressStyleModel",
       "_view_count": null,
       "_view_module": "@jupyter-widgets/base",
       "_view_module_version": "1.2.0",
       "_view_name": "StyleView",
       "bar_color": null,
       "description_width": "initial"
      }
     },
     "a65b912d520b46ebad0cbcf713a3b409": {
      "model_module": "@jupyter-widgets/base",
      "model_module_version": "1.2.0",
      "model_name": "LayoutModel",
      "state": {
       "_model_module": "@jupyter-widgets/base",
       "_model_module_version": "1.2.0",
       "_model_name": "LayoutModel",
       "_view_count": null,
       "_view_module": "@jupyter-widgets/base",
       "_view_module_version": "1.2.0",
       "_view_name": "LayoutView",
       "align_content": null,
       "align_items": null,
       "align_self": null,
       "border": null,
       "bottom": null,
       "display": null,
       "flex": null,
       "flex_flow": null,
       "grid_area": null,
       "grid_auto_columns": null,
       "grid_auto_flow": null,
       "grid_auto_rows": null,
       "grid_column": null,
       "grid_gap": null,
       "grid_row": null,
       "grid_template_areas": null,
       "grid_template_columns": null,
       "grid_template_rows": null,
       "height": null,
       "justify_content": null,
       "justify_items": null,
       "left": null,
       "margin": null,
       "max_height": null,
       "max_width": null,
       "min_height": null,
       "min_width": null,
       "object_fit": null,
       "object_position": null,
       "order": null,
       "overflow": null,
       "overflow_x": null,
       "overflow_y": null,
       "padding": null,
       "right": null,
       "top": null,
       "visibility": null,
       "width": null
      }
     },
     "a6661d25404142bab64632c9010818e2": {
      "model_module": "@jupyter-widgets/controls",
      "model_module_version": "1.5.0",
      "model_name": "DescriptionStyleModel",
      "state": {
       "_model_module": "@jupyter-widgets/controls",
       "_model_module_version": "1.5.0",
       "_model_name": "DescriptionStyleModel",
       "_view_count": null,
       "_view_module": "@jupyter-widgets/base",
       "_view_module_version": "1.2.0",
       "_view_name": "StyleView",
       "description_width": ""
      }
     },
     "a71ebf779ab04a2dbad968e64232c1d8": {
      "model_module": "@jupyter-widgets/base",
      "model_module_version": "1.2.0",
      "model_name": "LayoutModel",
      "state": {
       "_model_module": "@jupyter-widgets/base",
       "_model_module_version": "1.2.0",
       "_model_name": "LayoutModel",
       "_view_count": null,
       "_view_module": "@jupyter-widgets/base",
       "_view_module_version": "1.2.0",
       "_view_name": "LayoutView",
       "align_content": null,
       "align_items": null,
       "align_self": null,
       "border": null,
       "bottom": null,
       "display": null,
       "flex": null,
       "flex_flow": null,
       "grid_area": null,
       "grid_auto_columns": null,
       "grid_auto_flow": null,
       "grid_auto_rows": null,
       "grid_column": null,
       "grid_gap": null,
       "grid_row": null,
       "grid_template_areas": null,
       "grid_template_columns": null,
       "grid_template_rows": null,
       "height": null,
       "justify_content": null,
       "justify_items": null,
       "left": null,
       "margin": null,
       "max_height": null,
       "max_width": null,
       "min_height": null,
       "min_width": null,
       "object_fit": null,
       "object_position": null,
       "order": null,
       "overflow": null,
       "overflow_x": null,
       "overflow_y": null,
       "padding": null,
       "right": null,
       "top": null,
       "visibility": null,
       "width": null
      }
     },
     "bc44ec5ea21c4a3b90f81b1762748596": {
      "model_module": "@jupyter-widgets/base",
      "model_module_version": "1.2.0",
      "model_name": "LayoutModel",
      "state": {
       "_model_module": "@jupyter-widgets/base",
       "_model_module_version": "1.2.0",
       "_model_name": "LayoutModel",
       "_view_count": null,
       "_view_module": "@jupyter-widgets/base",
       "_view_module_version": "1.2.0",
       "_view_name": "LayoutView",
       "align_content": null,
       "align_items": null,
       "align_self": null,
       "border": null,
       "bottom": null,
       "display": null,
       "flex": null,
       "flex_flow": null,
       "grid_area": null,
       "grid_auto_columns": null,
       "grid_auto_flow": null,
       "grid_auto_rows": null,
       "grid_column": null,
       "grid_gap": null,
       "grid_row": null,
       "grid_template_areas": null,
       "grid_template_columns": null,
       "grid_template_rows": null,
       "height": null,
       "justify_content": null,
       "justify_items": null,
       "left": null,
       "margin": null,
       "max_height": null,
       "max_width": null,
       "min_height": null,
       "min_width": null,
       "object_fit": null,
       "object_position": null,
       "order": null,
       "overflow": null,
       "overflow_x": null,
       "overflow_y": null,
       "padding": null,
       "right": null,
       "top": null,
       "visibility": null,
       "width": null
      }
     },
     "df20c9e87c604dad91d7109f0b4c561f": {
      "model_module": "@jupyter-widgets/controls",
      "model_module_version": "1.5.0",
      "model_name": "HTMLModel",
      "state": {
       "_dom_classes": [],
       "_model_module": "@jupyter-widgets/controls",
       "_model_module_version": "1.5.0",
       "_model_name": "HTMLModel",
       "_view_count": null,
       "_view_module": "@jupyter-widgets/controls",
       "_view_module_version": "1.5.0",
       "_view_name": "HTMLView",
       "description": "",
       "description_tooltip": null,
       "layout": "IPY_MODEL_8a88a4a0157f4062ae8ca87b86d90f97",
       "placeholder": "​",
       "style": "IPY_MODEL_a6661d25404142bab64632c9010818e2",
       "value": " 2000/2000 [01:42&lt;00:00, 19.60epoch/s]"
      }
     },
     "dffcb7823ae64e1aa40b6d44dee03874": {
      "model_module": "@jupyter-widgets/controls",
      "model_module_version": "1.5.0",
      "model_name": "HBoxModel",
      "state": {
       "_dom_classes": [],
       "_model_module": "@jupyter-widgets/controls",
       "_model_module_version": "1.5.0",
       "_model_name": "HBoxModel",
       "_view_count": null,
       "_view_module": "@jupyter-widgets/controls",
       "_view_module_version": "1.5.0",
       "_view_name": "HBoxView",
       "box_style": "",
       "children": [
        "IPY_MODEL_4f8eb87efe1140e0a6b8f84b9ff35498",
        "IPY_MODEL_df20c9e87c604dad91d7109f0b4c561f"
       ],
       "layout": "IPY_MODEL_a65b912d520b46ebad0cbcf713a3b409"
      }
     },
     "f805f6fb105442a68b61a9e54f5d4aff": {
      "model_module": "@jupyter-widgets/controls",
      "model_module_version": "1.5.0",
      "model_name": "HBoxModel",
      "state": {
       "_dom_classes": [],
       "_model_module": "@jupyter-widgets/controls",
       "_model_module_version": "1.5.0",
       "_model_name": "HBoxModel",
       "_view_count": null,
       "_view_module": "@jupyter-widgets/controls",
       "_view_module_version": "1.5.0",
       "_view_name": "HBoxView",
       "box_style": "",
       "children": [
        "IPY_MODEL_84f9747d302b48ed86d6e70461a6e3e2",
        "IPY_MODEL_452f78dec52240cb849539b990c1290f"
       ],
       "layout": "IPY_MODEL_6176a88e8c714dad87009d86e28dc1fe"
      }
     },
     "f9371094982044e7a8a202cf95dbd1cd": {
      "model_module": "@jupyter-widgets/base",
      "model_module_version": "1.2.0",
      "model_name": "LayoutModel",
      "state": {
       "_model_module": "@jupyter-widgets/base",
       "_model_module_version": "1.2.0",
       "_model_name": "LayoutModel",
       "_view_count": null,
       "_view_module": "@jupyter-widgets/base",
       "_view_module_version": "1.2.0",
       "_view_name": "LayoutView",
       "align_content": null,
       "align_items": null,
       "align_self": null,
       "border": null,
       "bottom": null,
       "display": null,
       "flex": null,
       "flex_flow": null,
       "grid_area": null,
       "grid_auto_columns": null,
       "grid_auto_flow": null,
       "grid_auto_rows": null,
       "grid_column": null,
       "grid_gap": null,
       "grid_row": null,
       "grid_template_areas": null,
       "grid_template_columns": null,
       "grid_template_rows": null,
       "height": null,
       "justify_content": null,
       "justify_items": null,
       "left": null,
       "margin": null,
       "max_height": null,
       "max_width": null,
       "min_height": null,
       "min_width": null,
       "object_fit": null,
       "object_position": null,
       "order": null,
       "overflow": null,
       "overflow_x": null,
       "overflow_y": null,
       "padding": null,
       "right": null,
       "top": null,
       "visibility": null,
       "width": null
      }
     }
    },
    "version_major": 2,
    "version_minor": 0
   }
  }
 },
 "nbformat": 4,
 "nbformat_minor": 4
}
